{
  "nbformat": 4,
  "nbformat_minor": 0,
  "metadata": {
    "colab": {
      "name": "Response_time_Paris_Fire_Brigade.ipynb",
      "provenance": [],
      "collapsed_sections": [],
      "toc_visible": true,
      "include_colab_link": true
    },
    "kernelspec": {
      "name": "python3",
      "display_name": "Python 3"
    }
  },
  "cells": [
    {
      "cell_type": "markdown",
      "metadata": {
        "id": "view-in-github",
        "colab_type": "text"
      },
      "source": [
        "<a href=\"https://colab.research.google.com/github/AnIsAsPe/Regresion-Robusta-para-estimar-tiempo-de-respuesta-de-un-servicio-de-emergencia/blob/main/Response_time_Paris_Fire_Brigade.ipynb\" target=\"_parent\"><img src=\"https://colab.research.google.com/assets/colab-badge.svg\" alt=\"Open In Colab\"/></a>"
      ]
    },
    {
      "cell_type": "markdown",
      "metadata": {
        "id": "MOfWHxj0IdEz"
      },
      "source": [
        "## Cargar bibiliotecas"
      ]
    },
    {
      "cell_type": "code",
      "metadata": {
        "id": "Wkte1t1UpdqM"
      },
      "source": [
        "import pandas as pd\n",
        "import numpy as np\n",
        "\n",
        "from sklearn.model_selection import train_test_split \n",
        "\n",
        "from sklearn.preprocessing import StandardScaler\n",
        "from sklearn.linear_model import LinearRegression\n",
        "from sklearn.linear_model import HuberRegressor\n",
        "from sklearn import metrics\n",
        "\n",
        "import matplotlib.pyplot as plt \n",
        "import seaborn as sns  "
      ],
      "execution_count": null,
      "outputs": []
    },
    {
      "cell_type": "markdown",
      "metadata": {
        "id": "KmYD0TTp5502"
      },
      "source": [
        "## Definición de funciones"
      ]
    },
    {
      "cell_type": "code",
      "metadata": {
        "id": "hHWxPWiw50Dm"
      },
      "source": [
        "def correlacion(dataframe, grafica=True, matrix=False, tamaño =(12,8)):\n",
        "    '''Devuelve la matriz de correlación de un dataframe\n",
        "    y sí grafica=True, muestra un mapa de calor de la matriz de correlación'''\n",
        "    corr=dataframe.corr()                   \n",
        "    if grafica==True:\n",
        "      fig = plt.figure(figsize = tamaño)\n",
        "      ax = sns.heatmap(corr,\n",
        "                       vmin = -1,\n",
        "                       vmax = 1,\n",
        "                       center = 0,\n",
        "                       cmap = \"coolwarm\", \n",
        "                       annot = True,\n",
        "                       fmt=\".2f\",\n",
        "                       square = True)\n",
        "      ax.set_xticklabels(ax.get_xticklabels(), \n",
        "                         rotation = 45,\n",
        "                         horizontalalignment ='right')\n",
        "    if matrix==True:\n",
        "      return corr"
      ],
      "execution_count": null,
      "outputs": []
    },
    {
      "cell_type": "markdown",
      "metadata": {
        "id": "IUh34hn1djfG"
      },
      "source": [
        "# Cargar etiquetas"
      ]
    },
    {
      "cell_type": "code",
      "metadata": {
        "id": "vP_eKMyawPDl",
        "outputId": "e430328a-4778-4764-fc63-fe56411aa4b7",
        "colab": {
          "base_uri": "https://localhost:8080/",
          "height": 159
        }
      },
      "source": [
        "# Variables respuesta\n",
        "output = pd.read_csv('drive/My Drive/Datos/ParisFireBrigade/y_train.csv', \n",
        "                     index_col=[0], sep=',')\n",
        "print(output.shape)\n",
        "output.head(2)"
      ],
      "execution_count": null,
      "outputs": [
        {
          "output_type": "stream",
          "text": [
            "(219337, 3)\n"
          ],
          "name": "stdout"
        },
        {
          "output_type": "execute_result",
          "data": {
            "text/html": [
              "<div>\n",
              "<style scoped>\n",
              "    .dataframe tbody tr th:only-of-type {\n",
              "        vertical-align: middle;\n",
              "    }\n",
              "\n",
              "    .dataframe tbody tr th {\n",
              "        vertical-align: top;\n",
              "    }\n",
              "\n",
              "    .dataframe thead th {\n",
              "        text-align: right;\n",
              "    }\n",
              "</style>\n",
              "<table border=\"1\" class=\"dataframe\">\n",
              "  <thead>\n",
              "    <tr style=\"text-align: right;\">\n",
              "      <th></th>\n",
              "      <th>delta selection-departure</th>\n",
              "      <th>delta departure-presentation</th>\n",
              "      <th>delta selection-presentation</th>\n",
              "    </tr>\n",
              "    <tr>\n",
              "      <th>emergency vehicle selection</th>\n",
              "      <th></th>\n",
              "      <th></th>\n",
              "      <th></th>\n",
              "    </tr>\n",
              "  </thead>\n",
              "  <tbody>\n",
              "    <tr>\n",
              "      <th>5105452</th>\n",
              "      <td>86</td>\n",
              "      <td>324</td>\n",
              "      <td>410</td>\n",
              "    </tr>\n",
              "    <tr>\n",
              "      <th>4720915</th>\n",
              "      <td>164</td>\n",
              "      <td>297</td>\n",
              "      <td>461</td>\n",
              "    </tr>\n",
              "  </tbody>\n",
              "</table>\n",
              "</div>"
            ],
            "text/plain": [
              "                             delta selection-departure  ...  delta selection-presentation\n",
              "emergency vehicle selection                             ...                              \n",
              "5105452                                             86  ...                           410\n",
              "4720915                                            164  ...                           461\n",
              "\n",
              "[2 rows x 3 columns]"
            ]
          },
          "metadata": {
            "tags": []
          },
          "execution_count": 4
        }
      ]
    },
    {
      "cell_type": "code",
      "metadata": {
        "id": "KZkI9JgkVSQP",
        "outputId": "3309bbd7-54bf-4111-af2a-eabb00524068",
        "colab": {
          "base_uri": "https://localhost:8080/"
        }
      },
      "source": [
        "# Se puede verificar si la última columna es la suma de las otras dos\n",
        "(output.iloc[:,0] + output.iloc[:,1] == output.iloc[:,2]).sum()==len(output)"
      ],
      "execution_count": null,
      "outputs": [
        {
          "output_type": "execute_result",
          "data": {
            "text/plain": [
              "True"
            ]
          },
          "metadata": {
            "tags": []
          },
          "execution_count": 5
        }
      ]
    },
    {
      "cell_type": "markdown",
      "metadata": {
        "id": "q5-Wdb0cU6fT"
      },
      "source": [
        "Nos vamos a concentrar en el tiempo desde la salida del vehículo hasta la presentación en el lugar del siniestro"
      ]
    },
    {
      "cell_type": "code",
      "metadata": {
        "id": "_He9t8gG3Nhp",
        "outputId": "86928e0f-b986-4fc6-b7ca-36149e689868",
        "colab": {
          "base_uri": "https://localhost:8080/"
        }
      },
      "source": [
        "Y = output['delta departure-presentation']\n",
        "Y.describe()"
      ],
      "execution_count": null,
      "outputs": [
        {
          "output_type": "execute_result",
          "data": {
            "text/plain": [
              "count    219337.000000\n",
              "mean        356.161026\n",
              "std         228.381939\n",
              "min           1.000000\n",
              "25%         231.000000\n",
              "50%         319.000000\n",
              "75%         434.000000\n",
              "max       22722.000000\n",
              "Name: delta departure-presentation, dtype: float64"
            ]
          },
          "metadata": {
            "tags": []
          },
          "execution_count": 6
        }
      ]
    },
    {
      "cell_type": "code",
      "metadata": {
        "id": "NSGFObTP2JFH",
        "outputId": "ff0f6876-9d62-4dc7-ab7e-4eca42fc8ee7",
        "colab": {
          "base_uri": "https://localhost:8080/",
          "height": 269
        }
      },
      "source": [
        "\n",
        "plt.figure(figsize=(5,4))\n",
        "sns.boxplot(y=Y, showfliers=True )"
      ],
      "execution_count": null,
      "outputs": [
        {
          "output_type": "execute_result",
          "data": {
            "text/plain": [
              "<matplotlib.axes._subplots.AxesSubplot at 0x7efc980d8588>"
            ]
          },
          "metadata": {
            "tags": []
          },
          "execution_count": 7
        },
        {
          "output_type": "display_data",
          "data": {
            "image/png": "[encoded data removed]",
            "text/plain": [
              "<Figure size 360x288 with 1 Axes>"
            ]
          },
          "metadata": {
            "tags": [],
            "needs_background": "light"
          }
        }
      ]
    },
    {
      "cell_type": "code",
      "metadata": {
        "id": "VehaFlgGQCTN",
        "outputId": "c515c268-c011-46dd-db56-fd015230f2fc",
        "colab": {
          "base_uri": "https://localhost:8080/",
          "height": 279
        }
      },
      "source": [
        "#sin outliers\n",
        "plt.figure(figsize=(7,4))\n",
        "sns.histplot(Y, bins=200, kde=True )\n",
        "plt.show()"
      ],
      "execution_count": null,
      "outputs": [
        {
          "output_type": "display_data",
          "data": {
            "image/png": "[encoded data removed]",
            "text/plain": [
              "<Figure size 504x288 with 1 Axes>"
            ]
          },
          "metadata": {
            "tags": [],
            "needs_background": "light"
          }
        }
      ]
    },
    {
      "cell_type": "markdown",
      "metadata": {
        "id": "0PmhXhvC6LKn"
      },
      "source": [
        "# Cargar variables independientes"
      ]
    },
    {
      "cell_type": "code",
      "metadata": {
        "id": "G1ktHn7nET0L",
        "outputId": "827a4bb6-d790-4698-f8a5-5e345c566980",
        "colab": {
          "base_uri": "https://localhost:8080/",
          "height": 383
        }
      },
      "source": [
        "# Conjunto de caracteristicas (X)\n",
        "input = pd.read_csv('drive/My Drive/Datos/ParisFireBrigade/x_train.csv', \n",
        "                sep=',', index_col=[0], parse_dates=['selection time'] )\n",
        "print(input.shape)\n",
        "input.head(2)"
      ],
      "execution_count": null,
      "outputs": [
        {
          "output_type": "stream",
          "text": [
            "(219337, 25)\n"
          ],
          "name": "stdout"
        },
        {
          "output_type": "execute_result",
          "data": {
            "text/html": [
              "<div>\n",
              "<style scoped>\n",
              "    .dataframe tbody tr th:only-of-type {\n",
              "        vertical-align: middle;\n",
              "    }\n",
              "\n",
              "    .dataframe tbody tr th {\n",
              "        vertical-align: top;\n",
              "    }\n",
              "\n",
              "    .dataframe thead th {\n",
              "        text-align: right;\n",
              "    }\n",
              "</style>\n",
              "<table border=\"1\" class=\"dataframe\">\n",
              "  <thead>\n",
              "    <tr style=\"text-align: right;\">\n",
              "      <th></th>\n",
              "      <th>intervention</th>\n",
              "      <th>alert reason category</th>\n",
              "      <th>alert reason</th>\n",
              "      <th>intervention on public roads</th>\n",
              "      <th>floor</th>\n",
              "      <th>location of the event</th>\n",
              "      <th>longitude intervention</th>\n",
              "      <th>latitude intervention</th>\n",
              "      <th>emergency vehicle</th>\n",
              "      <th>emergency vehicle type</th>\n",
              "      <th>rescue center</th>\n",
              "      <th>selection time</th>\n",
              "      <th>date key sélection</th>\n",
              "      <th>time key sélection</th>\n",
              "      <th>status preceding selection</th>\n",
              "      <th>delta status preceding selection-selection</th>\n",
              "      <th>departed from its rescue center</th>\n",
              "      <th>longitude before departure</th>\n",
              "      <th>latitude before departure</th>\n",
              "      <th>delta position gps previous departure-departure</th>\n",
              "      <th>GPS tracks departure-presentation</th>\n",
              "      <th>GPS tracks datetime departure-presentation</th>\n",
              "      <th>OSRM response</th>\n",
              "      <th>OSRM estimated distance</th>\n",
              "      <th>OSRM estimated duration</th>\n",
              "    </tr>\n",
              "    <tr>\n",
              "      <th>emergency vehicle selection</th>\n",
              "      <th></th>\n",
              "      <th></th>\n",
              "      <th></th>\n",
              "      <th></th>\n",
              "      <th></th>\n",
              "      <th></th>\n",
              "      <th></th>\n",
              "      <th></th>\n",
              "      <th></th>\n",
              "      <th></th>\n",
              "      <th></th>\n",
              "      <th></th>\n",
              "      <th></th>\n",
              "      <th></th>\n",
              "      <th></th>\n",
              "      <th></th>\n",
              "      <th></th>\n",
              "      <th></th>\n",
              "      <th></th>\n",
              "      <th></th>\n",
              "      <th></th>\n",
              "      <th></th>\n",
              "      <th></th>\n",
              "      <th></th>\n",
              "      <th></th>\n",
              "    </tr>\n",
              "  </thead>\n",
              "  <tbody>\n",
              "    <tr>\n",
              "      <th>5105452</th>\n",
              "      <td>13264186</td>\n",
              "      <td>3</td>\n",
              "      <td>2162</td>\n",
              "      <td>0</td>\n",
              "      <td>0</td>\n",
              "      <td>148.0</td>\n",
              "      <td>2.284796</td>\n",
              "      <td>48.879669</td>\n",
              "      <td>4511</td>\n",
              "      <td>VSAV BSPP</td>\n",
              "      <td>2447</td>\n",
              "      <td>2018-07-08 19:02:43.990</td>\n",
              "      <td>20180708</td>\n",
              "      <td>190243</td>\n",
              "      <td>Rentré</td>\n",
              "      <td>2027</td>\n",
              "      <td>1</td>\n",
              "      <td>2.288053</td>\n",
              "      <td>48.884698</td>\n",
              "      <td>NaN</td>\n",
              "      <td>2.289000,48.885113;2.288861,48.884998;2.288000...</td>\n",
              "      <td>2018-07-08 19:04:43;2018-07-08 19:05:55;2018-0...</td>\n",
              "      <td>{\"code\":\"Ok\",\"routes\":[{\"geometry\":\"}yjiH}x}L_...</td>\n",
              "      <td>952.5</td>\n",
              "      <td>105.8</td>\n",
              "    </tr>\n",
              "    <tr>\n",
              "      <th>4720915</th>\n",
              "      <td>12663715</td>\n",
              "      <td>3</td>\n",
              "      <td>2124</td>\n",
              "      <td>0</td>\n",
              "      <td>1</td>\n",
              "      <td>136.0</td>\n",
              "      <td>2.247464</td>\n",
              "      <td>48.818191</td>\n",
              "      <td>4327</td>\n",
              "      <td>PSE</td>\n",
              "      <td>2464</td>\n",
              "      <td>2018-01-04 09:02:59.470</td>\n",
              "      <td>20180104</td>\n",
              "      <td>90259</td>\n",
              "      <td>Rentré</td>\n",
              "      <td>28233</td>\n",
              "      <td>1</td>\n",
              "      <td>2.268519</td>\n",
              "      <td>48.823958</td>\n",
              "      <td>NaN</td>\n",
              "      <td>NaN</td>\n",
              "      <td>NaN</td>\n",
              "      <td>{\"code\":\"Ok\",\"routes\":[{\"geometry\":\"u|~hHy`zL_...</td>\n",
              "      <td>2238.5</td>\n",
              "      <td>243.2</td>\n",
              "    </tr>\n",
              "  </tbody>\n",
              "</table>\n",
              "</div>"
            ],
            "text/plain": [
              "                             intervention  ...  OSRM estimated duration\n",
              "emergency vehicle selection                ...                         \n",
              "5105452                          13264186  ...                    105.8\n",
              "4720915                          12663715  ...                    243.2\n",
              "\n",
              "[2 rows x 25 columns]"
            ]
          },
          "metadata": {
            "tags": []
          },
          "execution_count": 9
        }
      ]
    },
    {
      "cell_type": "code",
      "metadata": {
        "id": "qYDkmd3bxquP",
        "outputId": "6e0bf019-0b84-4661-90a5-fb263d133176",
        "colab": {
          "base_uri": "https://localhost:8080/",
          "height": 261
        }
      },
      "source": [
        "#Borrar columnas que no utilizaremos\n",
        "\n",
        "col_borrar=['intervention',  #identificador de la intervención\n",
        "            'emergency vehicle',  #id 749 vehículo de emergencia \n",
        "            'rescue center', # id 94 centros de rescate, estacionamiento de los vehícuos\n",
        "            'alert reason', # 126 categorías, que están resumidas en 'alert reason category'\n",
        "            'date key sélection', 'time key sélection', #redundantes\n",
        "            'OSRM response', #rutas\n",
        "            'GPS tracks departure-presentation', #rutas\n",
        "            'GPS tracks datetime departure-presentation', #rutas\n",
        "            'longitude intervention', 'latitude intervention', #coordenadas\n",
        "            'longitude before departure',  #coordenadas\n",
        "            'latitude before departure',    #coordenadas\n",
        "\n",
        "            #variable no relaccionadas con delta departure-presentation\n",
        "            'status preceding selection',  \n",
        "            'delta status preceding selection-selection',\n",
        "            'departed from its rescue center',\n",
        "            'delta position gps previous departure-departure'\n",
        "            ]\n",
        "df= input.drop(columns= col_borrar)\n",
        "print(df.shape)\n",
        "df.head(2)"
      ],
      "execution_count": null,
      "outputs": [
        {
          "output_type": "stream",
          "text": [
            "(219337, 8)\n"
          ],
          "name": "stdout"
        },
        {
          "output_type": "execute_result",
          "data": {
            "text/html": [
              "<div>\n",
              "<style scoped>\n",
              "    .dataframe tbody tr th:only-of-type {\n",
              "        vertical-align: middle;\n",
              "    }\n",
              "\n",
              "    .dataframe tbody tr th {\n",
              "        vertical-align: top;\n",
              "    }\n",
              "\n",
              "    .dataframe thead th {\n",
              "        text-align: right;\n",
              "    }\n",
              "</style>\n",
              "<table border=\"1\" class=\"dataframe\">\n",
              "  <thead>\n",
              "    <tr style=\"text-align: right;\">\n",
              "      <th></th>\n",
              "      <th>alert reason category</th>\n",
              "      <th>intervention on public roads</th>\n",
              "      <th>floor</th>\n",
              "      <th>location of the event</th>\n",
              "      <th>emergency vehicle type</th>\n",
              "      <th>selection time</th>\n",
              "      <th>OSRM estimated distance</th>\n",
              "      <th>OSRM estimated duration</th>\n",
              "    </tr>\n",
              "    <tr>\n",
              "      <th>emergency vehicle selection</th>\n",
              "      <th></th>\n",
              "      <th></th>\n",
              "      <th></th>\n",
              "      <th></th>\n",
              "      <th></th>\n",
              "      <th></th>\n",
              "      <th></th>\n",
              "      <th></th>\n",
              "    </tr>\n",
              "  </thead>\n",
              "  <tbody>\n",
              "    <tr>\n",
              "      <th>5105452</th>\n",
              "      <td>3</td>\n",
              "      <td>0</td>\n",
              "      <td>0</td>\n",
              "      <td>148.0</td>\n",
              "      <td>VSAV BSPP</td>\n",
              "      <td>2018-07-08 19:02:43.990</td>\n",
              "      <td>952.5</td>\n",
              "      <td>105.8</td>\n",
              "    </tr>\n",
              "    <tr>\n",
              "      <th>4720915</th>\n",
              "      <td>3</td>\n",
              "      <td>0</td>\n",
              "      <td>1</td>\n",
              "      <td>136.0</td>\n",
              "      <td>PSE</td>\n",
              "      <td>2018-01-04 09:02:59.470</td>\n",
              "      <td>2238.5</td>\n",
              "      <td>243.2</td>\n",
              "    </tr>\n",
              "  </tbody>\n",
              "</table>\n",
              "</div>"
            ],
            "text/plain": [
              "                             alert reason category  ...  OSRM estimated duration\n",
              "emergency vehicle selection                         ...                         \n",
              "5105452                                          3  ...                    105.8\n",
              "4720915                                          3  ...                    243.2\n",
              "\n",
              "[2 rows x 8 columns]"
            ]
          },
          "metadata": {
            "tags": []
          },
          "execution_count": 10
        }
      ]
    },
    {
      "cell_type": "markdown",
      "metadata": {
        "id": "LCjTqJpvAvMq"
      },
      "source": [
        "# Unir caracteristicas con étiquetas"
      ]
    },
    {
      "cell_type": "code",
      "metadata": {
        "id": "Ux4dTQm0AvMr",
        "outputId": "2d7e10d2-85f2-471b-ee02-80f821ef524d",
        "colab": {
          "base_uri": "https://localhost:8080/",
          "height": 261
        }
      },
      "source": [
        "df=pd.concat([df,Y], axis=1)\n",
        "print(df.shape)\n",
        "df.head(2)"
      ],
      "execution_count": null,
      "outputs": [
        {
          "output_type": "stream",
          "text": [
            "(219337, 9)\n"
          ],
          "name": "stdout"
        },
        {
          "output_type": "execute_result",
          "data": {
            "text/html": [
              "<div>\n",
              "<style scoped>\n",
              "    .dataframe tbody tr th:only-of-type {\n",
              "        vertical-align: middle;\n",
              "    }\n",
              "\n",
              "    .dataframe tbody tr th {\n",
              "        vertical-align: top;\n",
              "    }\n",
              "\n",
              "    .dataframe thead th {\n",
              "        text-align: right;\n",
              "    }\n",
              "</style>\n",
              "<table border=\"1\" class=\"dataframe\">\n",
              "  <thead>\n",
              "    <tr style=\"text-align: right;\">\n",
              "      <th></th>\n",
              "      <th>alert reason category</th>\n",
              "      <th>intervention on public roads</th>\n",
              "      <th>floor</th>\n",
              "      <th>location of the event</th>\n",
              "      <th>emergency vehicle type</th>\n",
              "      <th>selection time</th>\n",
              "      <th>OSRM estimated distance</th>\n",
              "      <th>OSRM estimated duration</th>\n",
              "      <th>delta departure-presentation</th>\n",
              "    </tr>\n",
              "    <tr>\n",
              "      <th>emergency vehicle selection</th>\n",
              "      <th></th>\n",
              "      <th></th>\n",
              "      <th></th>\n",
              "      <th></th>\n",
              "      <th></th>\n",
              "      <th></th>\n",
              "      <th></th>\n",
              "      <th></th>\n",
              "      <th></th>\n",
              "    </tr>\n",
              "  </thead>\n",
              "  <tbody>\n",
              "    <tr>\n",
              "      <th>5105452</th>\n",
              "      <td>3</td>\n",
              "      <td>0</td>\n",
              "      <td>0</td>\n",
              "      <td>148.0</td>\n",
              "      <td>VSAV BSPP</td>\n",
              "      <td>2018-07-08 19:02:43.990</td>\n",
              "      <td>952.5</td>\n",
              "      <td>105.8</td>\n",
              "      <td>324</td>\n",
              "    </tr>\n",
              "    <tr>\n",
              "      <th>4720915</th>\n",
              "      <td>3</td>\n",
              "      <td>0</td>\n",
              "      <td>1</td>\n",
              "      <td>136.0</td>\n",
              "      <td>PSE</td>\n",
              "      <td>2018-01-04 09:02:59.470</td>\n",
              "      <td>2238.5</td>\n",
              "      <td>243.2</td>\n",
              "      <td>297</td>\n",
              "    </tr>\n",
              "  </tbody>\n",
              "</table>\n",
              "</div>"
            ],
            "text/plain": [
              "                             alert reason category  ...  delta departure-presentation\n",
              "emergency vehicle selection                         ...                              \n",
              "5105452                                          3  ...                           324\n",
              "4720915                                          3  ...                           297\n",
              "\n",
              "[2 rows x 9 columns]"
            ]
          },
          "metadata": {
            "tags": []
          },
          "execution_count": 11
        }
      ]
    },
    {
      "cell_type": "markdown",
      "metadata": {
        "id": "iMEaKQ1dfvbT"
      },
      "source": [
        "# Idetificación del tipo de variable de cada columna"
      ]
    },
    {
      "cell_type": "markdown",
      "metadata": {
        "id": "6cJRa4_XaIiB"
      },
      "source": [
        "Comparamos el tipo de cada columna con la documentación de los parámetros de entrada en [la documentación provista por el Challenge](https://paris-fire-brigade.github.io/data-challenge/challenge.html)"
      ]
    },
    {
      "cell_type": "code",
      "metadata": {
        "id": "Z58ZKbpMg0LF",
        "outputId": "babc276b-eec1-405e-e9c5-363bcb6f18fa",
        "colab": {
          "base_uri": "https://localhost:8080/"
        }
      },
      "source": [
        "df.info()"
      ],
      "execution_count": null,
      "outputs": [
        {
          "output_type": "stream",
          "text": [
            "<class 'pandas.core.frame.DataFrame'>\n",
            "Int64Index: 219337 entries, 5105452 to 4868867\n",
            "Data columns (total 9 columns):\n",
            " #   Column                        Non-Null Count   Dtype         \n",
            "---  ------                        --------------   -----         \n",
            " 0   alert reason category         219337 non-null  int64         \n",
            " 1   intervention on public roads  219337 non-null  int64         \n",
            " 2   floor                         219337 non-null  int64         \n",
            " 3   location of the event         206627 non-null  float64       \n",
            " 4   emergency vehicle type        219337 non-null  object        \n",
            " 5   selection time                219337 non-null  datetime64[ns]\n",
            " 6   OSRM estimated distance       219337 non-null  float64       \n",
            " 7   OSRM estimated duration       219337 non-null  float64       \n",
            " 8   delta departure-presentation  219337 non-null  int64         \n",
            "dtypes: datetime64[ns](1), float64(3), int64(4), object(1)\n",
            "memory usage: 16.7+ MB\n"
          ],
          "name": "stdout"
        }
      ]
    },
    {
      "cell_type": "code",
      "metadata": {
        "id": "1ob8FjgWdV0F",
        "outputId": "56712743-81b1-4cc7-cfb8-d835ab76ffd8",
        "colab": {
          "base_uri": "https://localhost:8080/"
        }
      },
      "source": [
        "categoricas=['alert reason category','location of the event',\n",
        "             'emergency vehicle type']\n",
        "df[categoricas]=df[categoricas].astype('object')\n",
        "df['intervention on public roads']=df['intervention on public roads'].astype('bool')\n",
        "df.info()"
      ],
      "execution_count": null,
      "outputs": [
        {
          "output_type": "stream",
          "text": [
            "<class 'pandas.core.frame.DataFrame'>\n",
            "Int64Index: 219337 entries, 5105452 to 4868867\n",
            "Data columns (total 9 columns):\n",
            " #   Column                        Non-Null Count   Dtype         \n",
            "---  ------                        --------------   -----         \n",
            " 0   alert reason category         219337 non-null  object        \n",
            " 1   intervention on public roads  219337 non-null  bool          \n",
            " 2   floor                         219337 non-null  int64         \n",
            " 3   location of the event         206627 non-null  object        \n",
            " 4   emergency vehicle type        219337 non-null  object        \n",
            " 5   selection time                219337 non-null  datetime64[ns]\n",
            " 6   OSRM estimated distance       219337 non-null  float64       \n",
            " 7   OSRM estimated duration       219337 non-null  float64       \n",
            " 8   delta departure-presentation  219337 non-null  int64         \n",
            "dtypes: bool(1), datetime64[ns](1), float64(2), int64(2), object(3)\n",
            "memory usage: 15.3+ MB\n"
          ],
          "name": "stdout"
        }
      ]
    },
    {
      "cell_type": "markdown",
      "metadata": {
        "id": "pOsHK0UDuj4w"
      },
      "source": [
        "# Transformación de variables"
      ]
    },
    {
      "cell_type": "markdown",
      "metadata": {
        "id": "Ea6C0L2Ie8FX"
      },
      "source": [
        "###  Creación de variable Rush Hour\n",
        "\n",
        "Variable binaria para identificar eventos en horas pico"
      ]
    },
    {
      "cell_type": "code",
      "metadata": {
        "id": "msZ9KIoLhSvU"
      },
      "source": [
        "df['rush hour'] = 0\n",
        "\n",
        "df = df.reset_index()\n",
        "df = df.set_index('selection time')\n",
        "\n",
        "#identificar el indice de los registros de eventos entresemana en hora pico\n",
        "pico_am = df.index.indexer_between_time('6:30','9:30')\n",
        "pico_pm = df.index.indexer_between_time('16:00','19:00')\n",
        "horas_pico_index= np.concatenate((pico_am, pico_pm))\n",
        "fin_de_semana_filtro = df.index.weekday > 5  #identifica sábados y domingos\n",
        "\n",
        "df = df.reset_index()\n",
        "df.iloc[list(horas_pico_index),-1] = 1 \n",
        "#Regresar a 0 el valor para los días sabados y domingos\n",
        "df['rush hour']= np.where(fin_de_semana_filtro, 0, df['rush hour'])"
      ],
      "execution_count": null,
      "outputs": []
    },
    {
      "cell_type": "markdown",
      "metadata": {
        "id": "O-0rDtG_gPEX"
      },
      "source": [
        "### Creación de variable Weekday\n",
        "Variable binaria para identificar eventos de lunes a viernes"
      ]
    },
    {
      "cell_type": "code",
      "metadata": {
        "id": "Ha_rW-o5flhg"
      },
      "source": [
        "df['weekday'] = np.where(fin_de_semana_filtro, 0, 1)"
      ],
      "execution_count": null,
      "outputs": []
    },
    {
      "cell_type": "code",
      "metadata": {
        "id": "2cKWlza0yvqw"
      },
      "source": [
        "#Regresar emerency vehicle selection como indice\n",
        "df = df.set_index('emergency vehicle selection')"
      ],
      "execution_count": null,
      "outputs": []
    },
    {
      "cell_type": "markdown",
      "metadata": {
        "id": "2nRnn9pZkrZz"
      },
      "source": [
        "# Exploración de variables categoricas"
      ]
    },
    {
      "cell_type": "code",
      "metadata": {
        "id": "TwIGFWmkkygg",
        "outputId": "1d91581f-e00b-4b54-d561-80dccf388498",
        "colab": {
          "base_uri": "https://localhost:8080/",
          "height": 606
        }
      },
      "source": [
        "cat = df.select_dtypes(include=['object', 'bool'])\n",
        "fig, ax = plt.subplots(2, 2, figsize=(12, 10))\n",
        "for var, subplot in zip(cat.columns, ax.flatten()):\n",
        "    sns.boxplot(x = var , y = 'delta departure-presentation', data = df,\n",
        "                ax=subplot, showfliers=False )"
      ],
      "execution_count": null,
      "outputs": [
        {
          "output_type": "display_data",
          "data": {
            "image/png": "[encoded data removed]",
            "text/plain": [
              "<Figure size 864x720 with 4 Axes>"
            ]
          },
          "metadata": {
            "tags": [],
            "needs_background": "light"
          }
        }
      ]
    },
    {
      "cell_type": "code",
      "metadata": {
        "id": "Pj7uJpP-dV0X",
        "outputId": "ba7eb55a-2b18-4afb-fa3d-bf94f1f5f5bd",
        "colab": {
          "base_uri": "https://localhost:8080/",
          "height": 173
        }
      },
      "source": [
        "df.describe(include='object')"
      ],
      "execution_count": null,
      "outputs": [
        {
          "output_type": "execute_result",
          "data": {
            "text/html": [
              "<div>\n",
              "<style scoped>\n",
              "    .dataframe tbody tr th:only-of-type {\n",
              "        vertical-align: middle;\n",
              "    }\n",
              "\n",
              "    .dataframe tbody tr th {\n",
              "        vertical-align: top;\n",
              "    }\n",
              "\n",
              "    .dataframe thead th {\n",
              "        text-align: right;\n",
              "    }\n",
              "</style>\n",
              "<table border=\"1\" class=\"dataframe\">\n",
              "  <thead>\n",
              "    <tr style=\"text-align: right;\">\n",
              "      <th></th>\n",
              "      <th>alert reason category</th>\n",
              "      <th>location of the event</th>\n",
              "      <th>emergency vehicle type</th>\n",
              "    </tr>\n",
              "  </thead>\n",
              "  <tbody>\n",
              "    <tr>\n",
              "      <th>count</th>\n",
              "      <td>219337</td>\n",
              "      <td>206627.0</td>\n",
              "      <td>219337</td>\n",
              "    </tr>\n",
              "    <tr>\n",
              "      <th>unique</th>\n",
              "      <td>9</td>\n",
              "      <td>210.0</td>\n",
              "      <td>75</td>\n",
              "    </tr>\n",
              "    <tr>\n",
              "      <th>top</th>\n",
              "      <td>3</td>\n",
              "      <td>139.0</td>\n",
              "      <td>VSAV BSPP</td>\n",
              "    </tr>\n",
              "    <tr>\n",
              "      <th>freq</th>\n",
              "      <td>176787</td>\n",
              "      <td>51031.0</td>\n",
              "      <td>159620</td>\n",
              "    </tr>\n",
              "  </tbody>\n",
              "</table>\n",
              "</div>"
            ],
            "text/plain": [
              "        alert reason category  location of the event emergency vehicle type\n",
              "count                  219337               206627.0                 219337\n",
              "unique                      9                  210.0                     75\n",
              "top                         3                  139.0              VSAV BSPP\n",
              "freq                   176787                51031.0                 159620"
            ]
          },
          "metadata": {
            "tags": []
          },
          "execution_count": 18
        }
      ]
    },
    {
      "cell_type": "markdown",
      "metadata": {
        "id": "srZynd2xdV0c"
      },
      "source": [
        "### Identificación de principales categorías: `location of the event`\n",
        "Explorar la distribución de 'location of the event' y notar que 8 categorías concentran más de 75% de los datos"
      ]
    },
    {
      "cell_type": "code",
      "metadata": {
        "id": "YP8GgEZNdV0d",
        "outputId": "a46fa4cf-f93d-4fde-a998-b6c71b2b05d0",
        "colab": {
          "base_uri": "https://localhost:8080/"
        }
      },
      "source": [
        "df['location of the event'].value_counts(normalize=False)"
      ],
      "execution_count": null,
      "outputs": [
        {
          "output_type": "execute_result",
          "data": {
            "text/plain": [
              "139.0    51031\n",
              "136.0    44400\n",
              "148.0    31997\n",
              "149.0     9905\n",
              "140.0     5237\n",
              "         ...  \n",
              "247.0        1\n",
              "248.0        1\n",
              "284.0        1\n",
              "265.0        1\n",
              "324.0        1\n",
              "Name: location of the event, Length: 210, dtype: int64"
            ]
          },
          "metadata": {
            "tags": []
          },
          "execution_count": 19
        }
      ]
    },
    {
      "cell_type": "code",
      "metadata": {
        "id": "gpv4O9mUdV0i",
        "outputId": "c13d75b7-e9b4-43bd-9a9c-980bea85c1d5",
        "colab": {
          "base_uri": "https://localhost:8080/"
        }
      },
      "source": [
        "df['location of the event'].value_counts(normalize=True).cumsum().head(8)"
      ],
      "execution_count": null,
      "outputs": [
        {
          "output_type": "execute_result",
          "data": {
            "text/plain": [
              "139.0    0.246972\n",
              "136.0    0.461852\n",
              "148.0    0.616705\n",
              "149.0    0.664642\n",
              "140.0    0.689987\n",
              "107.0    0.713551\n",
              "137.0    0.736196\n",
              "131.0    0.751344\n",
              "Name: location of the event, dtype: float64"
            ]
          },
          "metadata": {
            "tags": []
          },
          "execution_count": 20
        }
      ]
    },
    {
      "cell_type": "code",
      "metadata": {
        "id": "9Th5fO_HkZqq",
        "outputId": "89589ddc-6795-46f0-fd44-150efd36ef1b",
        "colab": {
          "base_uri": "https://localhost:8080/"
        }
      },
      "source": [
        "#remplazar por 'other' todos los valores no contenidos en la lista locations_fr\n",
        "locations_fr= list(df['location of the event'].value_counts(normalize=True).cumsum().head(8).index)\n",
        "df.loc[~df['location of the event'].isin(locations_fr),'location of the event'] = np.nan\n",
        "df['location of the event'].value_counts(normalize=True, dropna=False)"
      ],
      "execution_count": null,
      "outputs": [
        {
          "output_type": "execute_result",
          "data": {
            "text/plain": [
              "NaN      0.292194\n",
              "139.0    0.232660\n",
              "136.0    0.202428\n",
              "148.0    0.145881\n",
              "149.0    0.045159\n",
              "140.0    0.023877\n",
              "107.0    0.022199\n",
              "137.0    0.021332\n",
              "131.0    0.014270\n",
              "Name: location of the event, dtype: float64"
            ]
          },
          "metadata": {
            "tags": []
          },
          "execution_count": 21
        }
      ]
    },
    {
      "cell_type": "markdown",
      "metadata": {
        "id": "5FY7pKgydV0l"
      },
      "source": [
        "### Identificación de principales categorías: `emergency vehicle type`\n",
        "Explorar la distribución de 'emergency vehicle type' y notar que 3 elementos concentran más del 90% de los datos"
      ]
    },
    {
      "cell_type": "code",
      "metadata": {
        "id": "6TyKivxedV0m",
        "outputId": "3502d026-e6ce-4c25-a1a3-7481d3bfb640",
        "colab": {
          "base_uri": "https://localhost:8080/"
        }
      },
      "source": [
        "df['emergency vehicle type'].value_counts(normalize=False)"
      ],
      "execution_count": null,
      "outputs": [
        {
          "output_type": "execute_result",
          "data": {
            "text/plain": [
              "VSAV BSPP    159620\n",
              "PSE           32927\n",
              "VLR BSPP       5820\n",
              "FPT BSPP       4107\n",
              "AR             2583\n",
              "              ...  \n",
              "VAS               1\n",
              "DAP               1\n",
              "VIRB              1\n",
              "FPT SSLIA         1\n",
              "VELD              1\n",
              "Name: emergency vehicle type, Length: 75, dtype: int64"
            ]
          },
          "metadata": {
            "tags": []
          },
          "execution_count": 22
        }
      ]
    },
    {
      "cell_type": "code",
      "metadata": {
        "id": "xeuGGSZedV0o",
        "outputId": "0baf81e9-d3ed-4bad-b62a-faebf9fb1f29",
        "colab": {
          "base_uri": "https://localhost:8080/"
        }
      },
      "source": [
        "df['emergency vehicle type'].value_counts(normalize=True).cumsum().head(3)"
      ],
      "execution_count": null,
      "outputs": [
        {
          "output_type": "execute_result",
          "data": {
            "text/plain": [
              "VSAV BSPP    0.727739\n",
              "PSE          0.877859\n",
              "VLR BSPP     0.904394\n",
              "Name: emergency vehicle type, dtype: float64"
            ]
          },
          "metadata": {
            "tags": []
          },
          "execution_count": 23
        }
      ]
    },
    {
      "cell_type": "code",
      "metadata": {
        "id": "hyr4360LdV0r",
        "outputId": "646c57d6-caa1-4fbe-cb27-11f3a602d93c",
        "colab": {
          "base_uri": "https://localhost:8080/"
        }
      },
      "source": [
        "#remplazar por 'other' todos los valores no contenidos en la lista vehiculos_fr\n",
        "vehiculos_fr= list(df['emergency vehicle type'].value_counts(normalize=True).cumsum().head(3).index)\n",
        "df.loc[~df['emergency vehicle type'].isin(vehiculos_fr),'emergency vehicle type'] =np.nan\n",
        "df['emergency vehicle type'].value_counts(normalize=True, dropna=False)"
      ],
      "execution_count": null,
      "outputs": [
        {
          "output_type": "execute_result",
          "data": {
            "text/plain": [
              "VSAV BSPP    0.727739\n",
              "PSE          0.150121\n",
              "NaN          0.095606\n",
              "VLR BSPP     0.026535\n",
              "Name: emergency vehicle type, dtype: float64"
            ]
          },
          "metadata": {
            "tags": []
          },
          "execution_count": 24
        }
      ]
    },
    {
      "cell_type": "code",
      "metadata": {
        "id": "_Y9iJ2bPmoeA",
        "outputId": "b3961951-b2fc-477e-9e14-0f525a0103ce",
        "colab": {
          "base_uri": "https://localhost:8080/",
          "height": 606
        }
      },
      "source": [
        "cat = df.select_dtypes(include=['object', 'bool'])\n",
        "fig, ax = plt.subplots(2, 2, figsize=(12, 10))\n",
        "for var, subplot in zip(cat.columns, ax.flatten()):\n",
        "    sns.boxplot(x = var , y = 'delta departure-presentation', data = df,\n",
        "                ax=subplot, showfliers=False )"
      ],
      "execution_count": null,
      "outputs": [
        {
          "output_type": "display_data",
          "data": {
            "image/png": "[encoded data removed]",
            "text/plain": [
              "<Figure size 864x720 with 4 Axes>"
            ]
          },
          "metadata": {
            "tags": [],
            "needs_background": "light"
          }
        }
      ]
    },
    {
      "cell_type": "markdown",
      "metadata": {
        "id": "bnzwC0nhdVz_"
      },
      "source": [
        "## Hot encoding variables categoricas"
      ]
    },
    {
      "cell_type": "code",
      "metadata": {
        "id": "rBFa8vxLuqYm",
        "outputId": "b56cda84-e108-49ee-e18d-bec6ec39b0a7",
        "colab": {
          "base_uri": "https://localhost:8080/",
          "height": 303
        }
      },
      "source": [
        "c1 =pd.get_dummies(df['alert reason category'],\n",
        "                   drop_first=True, prefix='alert_reason catogory') \n",
        "print(c1.shape)\n",
        "c1.head()"
      ],
      "execution_count": null,
      "outputs": [
        {
          "output_type": "stream",
          "text": [
            "(219337, 8)\n"
          ],
          "name": "stdout"
        },
        {
          "output_type": "execute_result",
          "data": {
            "text/html": [
              "<div>\n",
              "<style scoped>\n",
              "    .dataframe tbody tr th:only-of-type {\n",
              "        vertical-align: middle;\n",
              "    }\n",
              "\n",
              "    .dataframe tbody tr th {\n",
              "        vertical-align: top;\n",
              "    }\n",
              "\n",
              "    .dataframe thead th {\n",
              "        text-align: right;\n",
              "    }\n",
              "</style>\n",
              "<table border=\"1\" class=\"dataframe\">\n",
              "  <thead>\n",
              "    <tr style=\"text-align: right;\">\n",
              "      <th></th>\n",
              "      <th>alert_reason catogory_2</th>\n",
              "      <th>alert_reason catogory_3</th>\n",
              "      <th>alert_reason catogory_4</th>\n",
              "      <th>alert_reason catogory_5</th>\n",
              "      <th>alert_reason catogory_6</th>\n",
              "      <th>alert_reason catogory_7</th>\n",
              "      <th>alert_reason catogory_8</th>\n",
              "      <th>alert_reason catogory_9</th>\n",
              "    </tr>\n",
              "    <tr>\n",
              "      <th>emergency vehicle selection</th>\n",
              "      <th></th>\n",
              "      <th></th>\n",
              "      <th></th>\n",
              "      <th></th>\n",
              "      <th></th>\n",
              "      <th></th>\n",
              "      <th></th>\n",
              "      <th></th>\n",
              "    </tr>\n",
              "  </thead>\n",
              "  <tbody>\n",
              "    <tr>\n",
              "      <th>5105452</th>\n",
              "      <td>0</td>\n",
              "      <td>1</td>\n",
              "      <td>0</td>\n",
              "      <td>0</td>\n",
              "      <td>0</td>\n",
              "      <td>0</td>\n",
              "      <td>0</td>\n",
              "      <td>0</td>\n",
              "    </tr>\n",
              "    <tr>\n",
              "      <th>4720915</th>\n",
              "      <td>0</td>\n",
              "      <td>1</td>\n",
              "      <td>0</td>\n",
              "      <td>0</td>\n",
              "      <td>0</td>\n",
              "      <td>0</td>\n",
              "      <td>0</td>\n",
              "      <td>0</td>\n",
              "    </tr>\n",
              "    <tr>\n",
              "      <th>5365374</th>\n",
              "      <td>0</td>\n",
              "      <td>1</td>\n",
              "      <td>0</td>\n",
              "      <td>0</td>\n",
              "      <td>0</td>\n",
              "      <td>0</td>\n",
              "      <td>0</td>\n",
              "      <td>0</td>\n",
              "    </tr>\n",
              "    <tr>\n",
              "      <th>4741586</th>\n",
              "      <td>0</td>\n",
              "      <td>1</td>\n",
              "      <td>0</td>\n",
              "      <td>0</td>\n",
              "      <td>0</td>\n",
              "      <td>0</td>\n",
              "      <td>0</td>\n",
              "      <td>0</td>\n",
              "    </tr>\n",
              "    <tr>\n",
              "      <th>5381209</th>\n",
              "      <td>0</td>\n",
              "      <td>1</td>\n",
              "      <td>0</td>\n",
              "      <td>0</td>\n",
              "      <td>0</td>\n",
              "      <td>0</td>\n",
              "      <td>0</td>\n",
              "      <td>0</td>\n",
              "    </tr>\n",
              "  </tbody>\n",
              "</table>\n",
              "</div>"
            ],
            "text/plain": [
              "                             alert_reason catogory_2  ...  alert_reason catogory_9\n",
              "emergency vehicle selection                           ...                         \n",
              "5105452                                            0  ...                        0\n",
              "4720915                                            0  ...                        0\n",
              "5365374                                            0  ...                        0\n",
              "4741586                                            0  ...                        0\n",
              "5381209                                            0  ...                        0\n",
              "\n",
              "[5 rows x 8 columns]"
            ]
          },
          "metadata": {
            "tags": []
          },
          "execution_count": 26
        }
      ]
    },
    {
      "cell_type": "code",
      "metadata": {
        "id": "DBLB2c0NvllU",
        "outputId": "29a02fe3-b40b-44db-af1c-0e3cccb180c1",
        "colab": {
          "base_uri": "https://localhost:8080/",
          "height": 357
        }
      },
      "source": [
        "c2 = pd.get_dummies(df[['location of the event','emergency vehicle type']],\n",
        "                   ) \n",
        "print(c2.shape)\n",
        "c2.head()"
      ],
      "execution_count": null,
      "outputs": [
        {
          "output_type": "stream",
          "text": [
            "(219337, 11)\n"
          ],
          "name": "stdout"
        },
        {
          "output_type": "execute_result",
          "data": {
            "text/html": [
              "<div>\n",
              "<style scoped>\n",
              "    .dataframe tbody tr th:only-of-type {\n",
              "        vertical-align: middle;\n",
              "    }\n",
              "\n",
              "    .dataframe tbody tr th {\n",
              "        vertical-align: top;\n",
              "    }\n",
              "\n",
              "    .dataframe thead th {\n",
              "        text-align: right;\n",
              "    }\n",
              "</style>\n",
              "<table border=\"1\" class=\"dataframe\">\n",
              "  <thead>\n",
              "    <tr style=\"text-align: right;\">\n",
              "      <th></th>\n",
              "      <th>location of the event_107.0</th>\n",
              "      <th>location of the event_131.0</th>\n",
              "      <th>location of the event_136.0</th>\n",
              "      <th>location of the event_137.0</th>\n",
              "      <th>location of the event_139.0</th>\n",
              "      <th>location of the event_140.0</th>\n",
              "      <th>location of the event_148.0</th>\n",
              "      <th>location of the event_149.0</th>\n",
              "      <th>emergency vehicle type_PSE</th>\n",
              "      <th>emergency vehicle type_VLR BSPP</th>\n",
              "      <th>emergency vehicle type_VSAV BSPP</th>\n",
              "    </tr>\n",
              "    <tr>\n",
              "      <th>emergency vehicle selection</th>\n",
              "      <th></th>\n",
              "      <th></th>\n",
              "      <th></th>\n",
              "      <th></th>\n",
              "      <th></th>\n",
              "      <th></th>\n",
              "      <th></th>\n",
              "      <th></th>\n",
              "      <th></th>\n",
              "      <th></th>\n",
              "      <th></th>\n",
              "    </tr>\n",
              "  </thead>\n",
              "  <tbody>\n",
              "    <tr>\n",
              "      <th>5105452</th>\n",
              "      <td>0</td>\n",
              "      <td>0</td>\n",
              "      <td>0</td>\n",
              "      <td>0</td>\n",
              "      <td>0</td>\n",
              "      <td>0</td>\n",
              "      <td>1</td>\n",
              "      <td>0</td>\n",
              "      <td>0</td>\n",
              "      <td>0</td>\n",
              "      <td>1</td>\n",
              "    </tr>\n",
              "    <tr>\n",
              "      <th>4720915</th>\n",
              "      <td>0</td>\n",
              "      <td>0</td>\n",
              "      <td>1</td>\n",
              "      <td>0</td>\n",
              "      <td>0</td>\n",
              "      <td>0</td>\n",
              "      <td>0</td>\n",
              "      <td>0</td>\n",
              "      <td>1</td>\n",
              "      <td>0</td>\n",
              "      <td>0</td>\n",
              "    </tr>\n",
              "    <tr>\n",
              "      <th>5365374</th>\n",
              "      <td>0</td>\n",
              "      <td>0</td>\n",
              "      <td>0</td>\n",
              "      <td>0</td>\n",
              "      <td>1</td>\n",
              "      <td>0</td>\n",
              "      <td>0</td>\n",
              "      <td>0</td>\n",
              "      <td>0</td>\n",
              "      <td>0</td>\n",
              "      <td>1</td>\n",
              "    </tr>\n",
              "    <tr>\n",
              "      <th>4741586</th>\n",
              "      <td>0</td>\n",
              "      <td>0</td>\n",
              "      <td>1</td>\n",
              "      <td>0</td>\n",
              "      <td>0</td>\n",
              "      <td>0</td>\n",
              "      <td>0</td>\n",
              "      <td>0</td>\n",
              "      <td>0</td>\n",
              "      <td>0</td>\n",
              "      <td>1</td>\n",
              "    </tr>\n",
              "    <tr>\n",
              "      <th>5381209</th>\n",
              "      <td>0</td>\n",
              "      <td>0</td>\n",
              "      <td>0</td>\n",
              "      <td>0</td>\n",
              "      <td>0</td>\n",
              "      <td>0</td>\n",
              "      <td>0</td>\n",
              "      <td>0</td>\n",
              "      <td>0</td>\n",
              "      <td>0</td>\n",
              "      <td>1</td>\n",
              "    </tr>\n",
              "  </tbody>\n",
              "</table>\n",
              "</div>"
            ],
            "text/plain": [
              "                             location of the event_107.0  ...  emergency vehicle type_VSAV BSPP\n",
              "emergency vehicle selection                               ...                                  \n",
              "5105452                                                0  ...                                 1\n",
              "4720915                                                0  ...                                 0\n",
              "5365374                                                0  ...                                 1\n",
              "4741586                                                0  ...                                 1\n",
              "5381209                                                0  ...                                 1\n",
              "\n",
              "[5 rows x 11 columns]"
            ]
          },
          "metadata": {
            "tags": []
          },
          "execution_count": 27
        }
      ]
    },
    {
      "cell_type": "code",
      "metadata": {
        "id": "GgH8SUnKdV0y",
        "outputId": "caf1ee98-8361-4bda-cd10-50012d399caf",
        "colab": {
          "base_uri": "https://localhost:8080/"
        }
      },
      "source": [
        "df=df.drop(columns=categoricas)\n",
        "df=pd.concat([df, c1, c2], axis=1)\n",
        "df.shape"
      ],
      "execution_count": null,
      "outputs": [
        {
          "output_type": "execute_result",
          "data": {
            "text/plain": [
              "(219337, 27)"
            ]
          },
          "metadata": {
            "tags": []
          },
          "execution_count": 28
        }
      ]
    },
    {
      "cell_type": "code",
      "metadata": {
        "id": "fChmNEy8yd9x",
        "outputId": "7039b182-1777-46e7-d0de-9eff838c6cce",
        "colab": {
          "base_uri": "https://localhost:8080/"
        }
      },
      "source": [
        "#Llevar la etiqueta hasta la ultima posición \n",
        "cols = df.columns.tolist()\n",
        "df = df[[c for c in df if c != 'delta departure-presentation'] + ['delta departure-presentation']]\n",
        "print(df.shape)\n",
        "df.info()"
      ],
      "execution_count": null,
      "outputs": [
        {
          "output_type": "stream",
          "text": [
            "(219337, 27)\n",
            "<class 'pandas.core.frame.DataFrame'>\n",
            "Int64Index: 219337 entries, 5105452 to 4868867\n",
            "Data columns (total 27 columns):\n",
            " #   Column                            Non-Null Count   Dtype         \n",
            "---  ------                            --------------   -----         \n",
            " 0   selection time                    219337 non-null  datetime64[ns]\n",
            " 1   intervention on public roads      219337 non-null  bool          \n",
            " 2   floor                             219337 non-null  int64         \n",
            " 3   OSRM estimated distance           219337 non-null  float64       \n",
            " 4   OSRM estimated duration           219337 non-null  float64       \n",
            " 5   rush hour                         219337 non-null  int64         \n",
            " 6   weekday                           219337 non-null  int64         \n",
            " 7   alert_reason catogory_2           219337 non-null  uint8         \n",
            " 8   alert_reason catogory_3           219337 non-null  uint8         \n",
            " 9   alert_reason catogory_4           219337 non-null  uint8         \n",
            " 10  alert_reason catogory_5           219337 non-null  uint8         \n",
            " 11  alert_reason catogory_6           219337 non-null  uint8         \n",
            " 12  alert_reason catogory_7           219337 non-null  uint8         \n",
            " 13  alert_reason catogory_8           219337 non-null  uint8         \n",
            " 14  alert_reason catogory_9           219337 non-null  uint8         \n",
            " 15  location of the event_107.0       219337 non-null  uint8         \n",
            " 16  location of the event_131.0       219337 non-null  uint8         \n",
            " 17  location of the event_136.0       219337 non-null  uint8         \n",
            " 18  location of the event_137.0       219337 non-null  uint8         \n",
            " 19  location of the event_139.0       219337 non-null  uint8         \n",
            " 20  location of the event_140.0       219337 non-null  uint8         \n",
            " 21  location of the event_148.0       219337 non-null  uint8         \n",
            " 22  location of the event_149.0       219337 non-null  uint8         \n",
            " 23  emergency vehicle type_PSE        219337 non-null  uint8         \n",
            " 24  emergency vehicle type_VLR BSPP   219337 non-null  uint8         \n",
            " 25  emergency vehicle type_VSAV BSPP  219337 non-null  uint8         \n",
            " 26  delta departure-presentation      219337 non-null  int64         \n",
            "dtypes: bool(1), datetime64[ns](1), float64(2), int64(4), uint8(19)\n",
            "memory usage: 27.6 MB\n"
          ],
          "name": "stdout"
        }
      ]
    },
    {
      "cell_type": "markdown",
      "metadata": {
        "id": "Az7-t0moiwoE"
      },
      "source": [
        "# Exploración de las variables numéricas"
      ]
    },
    {
      "cell_type": "code",
      "metadata": {
        "id": "IQhgA_VJ9jLx"
      },
      "source": [
        "boleanas=[]\n",
        "for col in df.columns:\n",
        "  if df[col].nunique()==2:\n",
        "    boleanas.append(col)\n",
        "df[boleanas]=df[boleanas].astype('bool')"
      ],
      "execution_count": null,
      "outputs": []
    },
    {
      "cell_type": "code",
      "metadata": {
        "id": "wwJAk1GrcnWc",
        "outputId": "3e31858b-8445-42fb-e9d7-dcdfeb11ce6f",
        "colab": {
          "base_uri": "https://localhost:8080/",
          "height": 244
        }
      },
      "source": [
        "df[boleanas].describe()"
      ],
      "execution_count": null,
      "outputs": [
        {
          "output_type": "execute_result",
          "data": {
            "text/html": [
              "<div>\n",
              "<style scoped>\n",
              "    .dataframe tbody tr th:only-of-type {\n",
              "        vertical-align: middle;\n",
              "    }\n",
              "\n",
              "    .dataframe tbody tr th {\n",
              "        vertical-align: top;\n",
              "    }\n",
              "\n",
              "    .dataframe thead th {\n",
              "        text-align: right;\n",
              "    }\n",
              "</style>\n",
              "<table border=\"1\" class=\"dataframe\">\n",
              "  <thead>\n",
              "    <tr style=\"text-align: right;\">\n",
              "      <th></th>\n",
              "      <th>intervention on public roads</th>\n",
              "      <th>rush hour</th>\n",
              "      <th>weekday</th>\n",
              "      <th>alert_reason catogory_2</th>\n",
              "      <th>alert_reason catogory_3</th>\n",
              "      <th>alert_reason catogory_4</th>\n",
              "      <th>alert_reason catogory_5</th>\n",
              "      <th>alert_reason catogory_6</th>\n",
              "      <th>alert_reason catogory_7</th>\n",
              "      <th>alert_reason catogory_8</th>\n",
              "      <th>alert_reason catogory_9</th>\n",
              "      <th>location of the event_107.0</th>\n",
              "      <th>location of the event_131.0</th>\n",
              "      <th>location of the event_136.0</th>\n",
              "      <th>location of the event_137.0</th>\n",
              "      <th>location of the event_139.0</th>\n",
              "      <th>location of the event_140.0</th>\n",
              "      <th>location of the event_148.0</th>\n",
              "      <th>location of the event_149.0</th>\n",
              "      <th>emergency vehicle type_PSE</th>\n",
              "      <th>emergency vehicle type_VLR BSPP</th>\n",
              "      <th>emergency vehicle type_VSAV BSPP</th>\n",
              "    </tr>\n",
              "  </thead>\n",
              "  <tbody>\n",
              "    <tr>\n",
              "      <th>count</th>\n",
              "      <td>219337</td>\n",
              "      <td>219337</td>\n",
              "      <td>219337</td>\n",
              "      <td>219337</td>\n",
              "      <td>219337</td>\n",
              "      <td>219337</td>\n",
              "      <td>219337</td>\n",
              "      <td>219337</td>\n",
              "      <td>219337</td>\n",
              "      <td>219337</td>\n",
              "      <td>219337</td>\n",
              "      <td>219337</td>\n",
              "      <td>219337</td>\n",
              "      <td>219337</td>\n",
              "      <td>219337</td>\n",
              "      <td>219337</td>\n",
              "      <td>219337</td>\n",
              "      <td>219337</td>\n",
              "      <td>219337</td>\n",
              "      <td>219337</td>\n",
              "      <td>219337</td>\n",
              "      <td>219337</td>\n",
              "    </tr>\n",
              "    <tr>\n",
              "      <th>unique</th>\n",
              "      <td>2</td>\n",
              "      <td>2</td>\n",
              "      <td>2</td>\n",
              "      <td>2</td>\n",
              "      <td>2</td>\n",
              "      <td>2</td>\n",
              "      <td>2</td>\n",
              "      <td>2</td>\n",
              "      <td>2</td>\n",
              "      <td>2</td>\n",
              "      <td>2</td>\n",
              "      <td>2</td>\n",
              "      <td>2</td>\n",
              "      <td>2</td>\n",
              "      <td>2</td>\n",
              "      <td>2</td>\n",
              "      <td>2</td>\n",
              "      <td>2</td>\n",
              "      <td>2</td>\n",
              "      <td>2</td>\n",
              "      <td>2</td>\n",
              "      <td>2</td>\n",
              "    </tr>\n",
              "    <tr>\n",
              "      <th>top</th>\n",
              "      <td>False</td>\n",
              "      <td>False</td>\n",
              "      <td>True</td>\n",
              "      <td>False</td>\n",
              "      <td>True</td>\n",
              "      <td>False</td>\n",
              "      <td>False</td>\n",
              "      <td>False</td>\n",
              "      <td>False</td>\n",
              "      <td>False</td>\n",
              "      <td>False</td>\n",
              "      <td>False</td>\n",
              "      <td>False</td>\n",
              "      <td>False</td>\n",
              "      <td>False</td>\n",
              "      <td>False</td>\n",
              "      <td>False</td>\n",
              "      <td>False</td>\n",
              "      <td>False</td>\n",
              "      <td>False</td>\n",
              "      <td>False</td>\n",
              "      <td>True</td>\n",
              "    </tr>\n",
              "    <tr>\n",
              "      <th>freq</th>\n",
              "      <td>187201</td>\n",
              "      <td>171426</td>\n",
              "      <td>189459</td>\n",
              "      <td>213632</td>\n",
              "      <td>176787</td>\n",
              "      <td>218116</td>\n",
              "      <td>218556</td>\n",
              "      <td>214523</td>\n",
              "      <td>218436</td>\n",
              "      <td>218960</td>\n",
              "      <td>211856</td>\n",
              "      <td>214468</td>\n",
              "      <td>216207</td>\n",
              "      <td>174937</td>\n",
              "      <td>214658</td>\n",
              "      <td>168306</td>\n",
              "      <td>214100</td>\n",
              "      <td>187340</td>\n",
              "      <td>209432</td>\n",
              "      <td>186410</td>\n",
              "      <td>213517</td>\n",
              "      <td>159620</td>\n",
              "    </tr>\n",
              "  </tbody>\n",
              "</table>\n",
              "</div>"
            ],
            "text/plain": [
              "       intervention on public roads  ... emergency vehicle type_VSAV BSPP\n",
              "count                        219337  ...                           219337\n",
              "unique                            2  ...                                2\n",
              "top                           False  ...                             True\n",
              "freq                         187201  ...                           159620\n",
              "\n",
              "[4 rows x 22 columns]"
            ]
          },
          "metadata": {
            "tags": []
          },
          "execution_count": 31
        }
      ]
    },
    {
      "cell_type": "code",
      "metadata": {
        "id": "3IMFO5Zu9NZa",
        "outputId": "dbb5a02b-02dc-4714-b632-d4a1cbd13747",
        "colab": {
          "base_uri": "https://localhost:8080/"
        }
      },
      "source": [
        "numericas = list(df.select_dtypes(include=['int64', 'float64']).columns)\n",
        "numericas"
      ],
      "execution_count": null,
      "outputs": [
        {
          "output_type": "execute_result",
          "data": {
            "text/plain": [
              "['floor',\n",
              " 'OSRM estimated distance',\n",
              " 'OSRM estimated duration',\n",
              " 'delta departure-presentation']"
            ]
          },
          "metadata": {
            "tags": []
          },
          "execution_count": 32
        }
      ]
    },
    {
      "cell_type": "code",
      "metadata": {
        "id": "EoFstYbk1xgd",
        "outputId": "bacb8b83-d149-4ce9-cb93-35ed36c6d9ce",
        "colab": {
          "base_uri": "https://localhost:8080/",
          "height": 860
        }
      },
      "source": [
        "corr_matrix = correlacion(df, matrix = True, tamaño=(22,20))"
      ],
      "execution_count": null,
      "outputs": [
        {
          "output_type": "display_data",
          "data": {
            "image/png": "[encoded data removed]",
            "text/plain": [
              "<Figure size 1584x1440 with 2 Axes>"
            ]
          },
          "metadata": {
            "tags": [],
            "needs_background": "light"
          }
        }
      ]
    },
    {
      "cell_type": "markdown",
      "metadata": {
        "id": "mKOVlrUZR8s6"
      },
      "source": [
        "## Borrar redundantes"
      ]
    },
    {
      "cell_type": "code",
      "metadata": {
        "id": "6bJkcZX_yHC5",
        "outputId": "b53d436c-d9c5-4a40-d965-db0d7657c0a9",
        "colab": {
          "base_uri": "https://localhost:8080/"
        }
      },
      "source": [
        "#Identificar variables redundantes \n",
        "\n",
        "# Triangulo superior de la matriz de correlación en números absolutos\n",
        "triangulo_sup = corr_matrix.abs().where(np.triu(np.ones(corr_matrix.shape),\n",
        "                                                1).astype(np.bool))\n",
        "\n",
        "# Encontrar las columnas donde la correlación es 1\n",
        "borrar = [column for column in triangulo_sup.columns\n",
        "          if any(triangulo_sup[column] >= .7)]\n",
        "borrar"
      ],
      "execution_count": null,
      "outputs": [
        {
          "output_type": "execute_result",
          "data": {
            "text/plain": [
              "['OSRM estimated duration']"
            ]
          },
          "metadata": {
            "tags": []
          },
          "execution_count": 34
        }
      ]
    },
    {
      "cell_type": "code",
      "metadata": {
        "id": "44VVRRhwTr1x"
      },
      "source": [
        "df = df.drop('OSRM estimated duration', axis=1)\n",
        "\n",
        "#cols = df.columns.tolist()\n",
        "#df = df[[c for c in df if c != 'delta selection-presentation'] + ['delta selection-presentation']]\n",
        "\n",
        "numericas = list(df.select_dtypes(include=['int64', 'float64']).columns)"
      ],
      "execution_count": null,
      "outputs": []
    },
    {
      "cell_type": "code",
      "metadata": {
        "id": "jgxC2Hz7NvkR",
        "outputId": "73d2173f-bc33-46da-ed28-8c546c72e488",
        "colab": {
          "base_uri": "https://localhost:8080/",
          "height": 297
        }
      },
      "source": [
        "df[numericas].describe()\n"
      ],
      "execution_count": null,
      "outputs": [
        {
          "output_type": "execute_result",
          "data": {
            "text/html": [
              "<div>\n",
              "<style scoped>\n",
              "    .dataframe tbody tr th:only-of-type {\n",
              "        vertical-align: middle;\n",
              "    }\n",
              "\n",
              "    .dataframe tbody tr th {\n",
              "        vertical-align: top;\n",
              "    }\n",
              "\n",
              "    .dataframe thead th {\n",
              "        text-align: right;\n",
              "    }\n",
              "</style>\n",
              "<table border=\"1\" class=\"dataframe\">\n",
              "  <thead>\n",
              "    <tr style=\"text-align: right;\">\n",
              "      <th></th>\n",
              "      <th>floor</th>\n",
              "      <th>OSRM estimated distance</th>\n",
              "      <th>delta departure-presentation</th>\n",
              "    </tr>\n",
              "  </thead>\n",
              "  <tbody>\n",
              "    <tr>\n",
              "      <th>count</th>\n",
              "      <td>219337.000000</td>\n",
              "      <td>219337.000000</td>\n",
              "      <td>219337.000000</td>\n",
              "    </tr>\n",
              "    <tr>\n",
              "      <th>mean</th>\n",
              "      <td>1.201772</td>\n",
              "      <td>2238.134131</td>\n",
              "      <td>356.161026</td>\n",
              "    </tr>\n",
              "    <tr>\n",
              "      <th>std</th>\n",
              "      <td>2.500414</td>\n",
              "      <td>1591.647524</td>\n",
              "      <td>228.381939</td>\n",
              "    </tr>\n",
              "    <tr>\n",
              "      <th>min</th>\n",
              "      <td>-10.000000</td>\n",
              "      <td>0.800000</td>\n",
              "      <td>1.000000</td>\n",
              "    </tr>\n",
              "    <tr>\n",
              "      <th>25%</th>\n",
              "      <td>0.000000</td>\n",
              "      <td>1221.100000</td>\n",
              "      <td>231.000000</td>\n",
              "    </tr>\n",
              "    <tr>\n",
              "      <th>50%</th>\n",
              "      <td>0.000000</td>\n",
              "      <td>1866.800000</td>\n",
              "      <td>319.000000</td>\n",
              "    </tr>\n",
              "    <tr>\n",
              "      <th>75%</th>\n",
              "      <td>2.000000</td>\n",
              "      <td>2834.600000</td>\n",
              "      <td>434.000000</td>\n",
              "    </tr>\n",
              "    <tr>\n",
              "      <th>max</th>\n",
              "      <td>100.000000</td>\n",
              "      <td>42752.800000</td>\n",
              "      <td>22722.000000</td>\n",
              "    </tr>\n",
              "  </tbody>\n",
              "</table>\n",
              "</div>"
            ],
            "text/plain": [
              "               floor  OSRM estimated distance  delta departure-presentation\n",
              "count  219337.000000            219337.000000                 219337.000000\n",
              "mean        1.201772              2238.134131                    356.161026\n",
              "std         2.500414              1591.647524                    228.381939\n",
              "min       -10.000000                 0.800000                      1.000000\n",
              "25%         0.000000              1221.100000                    231.000000\n",
              "50%         0.000000              1866.800000                    319.000000\n",
              "75%         2.000000              2834.600000                    434.000000\n",
              "max       100.000000             42752.800000                  22722.000000"
            ]
          },
          "metadata": {
            "tags": []
          },
          "execution_count": 36
        }
      ]
    },
    {
      "cell_type": "code",
      "metadata": {
        "id": "7RjXEh4LUBmI",
        "outputId": "03185f26-eccf-4546-c18e-0c28b4ecef4f",
        "colab": {
          "base_uri": "https://localhost:8080/",
          "height": 567
        }
      },
      "source": [
        "sns.pairplot(df[numericas])"
      ],
      "execution_count": null,
      "outputs": [
        {
          "output_type": "execute_result",
          "data": {
            "text/plain": [
              "<seaborn.axisgrid.PairGrid at 0x7efc909e82b0>"
            ]
          },
          "metadata": {
            "tags": []
          },
          "execution_count": 37
        },
        {
          "output_type": "display_data",
          "data": {
            "image/png": "[encoded data removed]",
            "text/plain": [
              "<Figure size 540x540 with 12 Axes>"
            ]
          },
          "metadata": {
            "tags": [],
            "needs_background": "light"
          }
        }
      ]
    },
    {
      "cell_type": "markdown",
      "metadata": {
        "id": "SSttuGc65BvM"
      },
      "source": [
        "# Exploración de Outliers"
      ]
    },
    {
      "cell_type": "code",
      "metadata": {
        "id": "F7ab9Yox4_jL",
        "outputId": "3a07b6be-d333-4b46-b371-aa62feffe8ad",
        "colab": {
          "base_uri": "https://localhost:8080/",
          "height": 252
        }
      },
      "source": [
        "fig, ax = plt.subplots(1, 2, figsize=(10, 4))\n",
        "for cond, subplot in zip((True, False), ax.flatten()):\n",
        "  sns.boxplot(y=df['delta departure-presentation'], showfliers=cond, ax= subplot)"
      ],
      "execution_count": null,
      "outputs": [
        {
          "output_type": "display_data",
          "data": {
            "image/png": "[encoded data removed]",
            "text/plain": [
              "<Figure size 720x288 with 2 Axes>"
            ]
          },
          "metadata": {
            "tags": [],
            "needs_background": "light"
          }
        }
      ]
    },
    {
      "cell_type": "markdown",
      "metadata": {
        "id": "T_gjN9zR6uYp"
      },
      "source": [
        "## Identificar \"a ojo\" *outliers*"
      ]
    },
    {
      "cell_type": "code",
      "metadata": {
        "id": "aH_Nryzn60LA",
        "outputId": "a141b43c-9ccc-4373-c438-1758079ec756",
        "colab": {
          "base_uri": "https://localhost:8080/"
        }
      },
      "source": [
        "df['delta departure-presentation'].describe()"
      ],
      "execution_count": null,
      "outputs": [
        {
          "output_type": "execute_result",
          "data": {
            "text/plain": [
              "count    219337.000000\n",
              "mean        356.161026\n",
              "std         228.381939\n",
              "min           1.000000\n",
              "25%         231.000000\n",
              "50%         319.000000\n",
              "75%         434.000000\n",
              "max       22722.000000\n",
              "Name: delta departure-presentation, dtype: float64"
            ]
          },
          "metadata": {
            "tags": []
          },
          "execution_count": 39
        }
      ]
    },
    {
      "cell_type": "code",
      "metadata": {
        "id": "DnkO4y426yVH",
        "outputId": "7b0f4cbf-b2bc-47ac-dc0d-51bfb6c3469c",
        "colab": {
          "base_uri": "https://localhost:8080/"
        }
      },
      "source": [
        "df['delta departure-presentation'].quantile(.97)"
      ],
      "execution_count": null,
      "outputs": [
        {
          "output_type": "execute_result",
          "data": {
            "text/plain": [
              "772.0"
            ]
          },
          "metadata": {
            "tags": []
          },
          "execution_count": 40
        }
      ]
    },
    {
      "cell_type": "code",
      "metadata": {
        "id": "vHqlX3Lj6UIs"
      },
      "source": [
        "df['outlier'] = 0\n",
        "filtro_out = df['delta departure-presentation'] > df['delta departure-presentation'].quantile(.97)\n",
        "df.loc[filtro_out,'outlier'] = 1"
      ],
      "execution_count": null,
      "outputs": []
    },
    {
      "cell_type": "code",
      "metadata": {
        "id": "TPundRqO-dBn",
        "outputId": "ed82cb9f-5ba2-47bb-c61e-33cafedfa698",
        "colab": {
          "base_uri": "https://localhost:8080/"
        }
      },
      "source": [
        "df['outlier'].value_counts()"
      ],
      "execution_count": null,
      "outputs": [
        {
          "output_type": "execute_result",
          "data": {
            "text/plain": [
              "0    212765\n",
              "1      6572\n",
              "Name: outlier, dtype: int64"
            ]
          },
          "metadata": {
            "tags": []
          },
          "execution_count": 42
        }
      ]
    },
    {
      "cell_type": "code",
      "metadata": {
        "id": "Lq_psJQF8q9I",
        "outputId": "fd22a32e-1b26-4c9f-8a3f-10df81b43c75",
        "colab": {
          "base_uri": "https://localhost:8080/",
          "height": 279
        }
      },
      "source": [
        "fig, ax = plt.subplots(1, 3, figsize=(12, 4))\n",
        "for dat, subplot in zip((df, df[-filtro_out], df[filtro_out]), ax.flatten()):\n",
        "  sns.histplot(x='delta departure-presentation', hue='outlier', \n",
        "               data=dat, ax=subplot )\n",
        "plt.show()"
      ],
      "execution_count": null,
      "outputs": [
        {
          "output_type": "display_data",
          "data": {
            "image/png": "[encoded data removed]",
            "text/plain": [
              "<Figure size 864x288 with 3 Axes>"
            ]
          },
          "metadata": {
            "tags": [],
            "needs_background": "light"
          }
        }
      ]
    },
    {
      "cell_type": "code",
      "metadata": {
        "id": "d9gCHO8gAfC2",
        "outputId": "468d9282-2238-4283-bead-700206526b00",
        "colab": {
          "base_uri": "https://localhost:8080/",
          "height": 329
        }
      },
      "source": [
        "seleccion = ((df['OSRM estimated distance']>20350) & (df['OSRM estimated distance']<20500))\n",
        "df[seleccion].head()"
      ],
      "execution_count": null,
      "outputs": [
        {
          "output_type": "execute_result",
          "data": {
            "text/html": [
              "<div>\n",
              "<style scoped>\n",
              "    .dataframe tbody tr th:only-of-type {\n",
              "        vertical-align: middle;\n",
              "    }\n",
              "\n",
              "    .dataframe tbody tr th {\n",
              "        vertical-align: top;\n",
              "    }\n",
              "\n",
              "    .dataframe thead th {\n",
              "        text-align: right;\n",
              "    }\n",
              "</style>\n",
              "<table border=\"1\" class=\"dataframe\">\n",
              "  <thead>\n",
              "    <tr style=\"text-align: right;\">\n",
              "      <th></th>\n",
              "      <th>selection time</th>\n",
              "      <th>intervention on public roads</th>\n",
              "      <th>floor</th>\n",
              "      <th>OSRM estimated distance</th>\n",
              "      <th>rush hour</th>\n",
              "      <th>weekday</th>\n",
              "      <th>alert_reason catogory_2</th>\n",
              "      <th>alert_reason catogory_3</th>\n",
              "      <th>alert_reason catogory_4</th>\n",
              "      <th>alert_reason catogory_5</th>\n",
              "      <th>alert_reason catogory_6</th>\n",
              "      <th>alert_reason catogory_7</th>\n",
              "      <th>alert_reason catogory_8</th>\n",
              "      <th>alert_reason catogory_9</th>\n",
              "      <th>location of the event_107.0</th>\n",
              "      <th>location of the event_131.0</th>\n",
              "      <th>location of the event_136.0</th>\n",
              "      <th>location of the event_137.0</th>\n",
              "      <th>location of the event_139.0</th>\n",
              "      <th>location of the event_140.0</th>\n",
              "      <th>location of the event_148.0</th>\n",
              "      <th>location of the event_149.0</th>\n",
              "      <th>emergency vehicle type_PSE</th>\n",
              "      <th>emergency vehicle type_VLR BSPP</th>\n",
              "      <th>emergency vehicle type_VSAV BSPP</th>\n",
              "      <th>delta departure-presentation</th>\n",
              "      <th>outlier</th>\n",
              "    </tr>\n",
              "    <tr>\n",
              "      <th>emergency vehicle selection</th>\n",
              "      <th></th>\n",
              "      <th></th>\n",
              "      <th></th>\n",
              "      <th></th>\n",
              "      <th></th>\n",
              "      <th></th>\n",
              "      <th></th>\n",
              "      <th></th>\n",
              "      <th></th>\n",
              "      <th></th>\n",
              "      <th></th>\n",
              "      <th></th>\n",
              "      <th></th>\n",
              "      <th></th>\n",
              "      <th></th>\n",
              "      <th></th>\n",
              "      <th></th>\n",
              "      <th></th>\n",
              "      <th></th>\n",
              "      <th></th>\n",
              "      <th></th>\n",
              "      <th></th>\n",
              "      <th></th>\n",
              "      <th></th>\n",
              "      <th></th>\n",
              "      <th></th>\n",
              "      <th></th>\n",
              "    </tr>\n",
              "  </thead>\n",
              "  <tbody>\n",
              "    <tr>\n",
              "      <th>4808363</th>\n",
              "      <td>2018-02-15 10:58:51.493</td>\n",
              "      <td>False</td>\n",
              "      <td>0</td>\n",
              "      <td>20451.1</td>\n",
              "      <td>False</td>\n",
              "      <td>True</td>\n",
              "      <td>False</td>\n",
              "      <td>True</td>\n",
              "      <td>False</td>\n",
              "      <td>False</td>\n",
              "      <td>False</td>\n",
              "      <td>False</td>\n",
              "      <td>False</td>\n",
              "      <td>False</td>\n",
              "      <td>False</td>\n",
              "      <td>False</td>\n",
              "      <td>False</td>\n",
              "      <td>False</td>\n",
              "      <td>False</td>\n",
              "      <td>False</td>\n",
              "      <td>False</td>\n",
              "      <td>False</td>\n",
              "      <td>False</td>\n",
              "      <td>False</td>\n",
              "      <td>False</td>\n",
              "      <td>1171</td>\n",
              "      <td>1</td>\n",
              "    </tr>\n",
              "    <tr>\n",
              "      <th>5320305</th>\n",
              "      <td>2018-10-25 16:32:40.670</td>\n",
              "      <td>False</td>\n",
              "      <td>0</td>\n",
              "      <td>20373.2</td>\n",
              "      <td>True</td>\n",
              "      <td>True</td>\n",
              "      <td>False</td>\n",
              "      <td>False</td>\n",
              "      <td>False</td>\n",
              "      <td>False</td>\n",
              "      <td>False</td>\n",
              "      <td>False</td>\n",
              "      <td>False</td>\n",
              "      <td>False</td>\n",
              "      <td>False</td>\n",
              "      <td>False</td>\n",
              "      <td>False</td>\n",
              "      <td>False</td>\n",
              "      <td>False</td>\n",
              "      <td>False</td>\n",
              "      <td>False</td>\n",
              "      <td>False</td>\n",
              "      <td>False</td>\n",
              "      <td>True</td>\n",
              "      <td>False</td>\n",
              "      <td>609</td>\n",
              "      <td>0</td>\n",
              "    </tr>\n",
              "    <tr>\n",
              "      <th>4832811</th>\n",
              "      <td>2018-02-28 17:44:03.653</td>\n",
              "      <td>False</td>\n",
              "      <td>0</td>\n",
              "      <td>20420.9</td>\n",
              "      <td>True</td>\n",
              "      <td>True</td>\n",
              "      <td>False</td>\n",
              "      <td>False</td>\n",
              "      <td>False</td>\n",
              "      <td>False</td>\n",
              "      <td>False</td>\n",
              "      <td>False</td>\n",
              "      <td>False</td>\n",
              "      <td>False</td>\n",
              "      <td>False</td>\n",
              "      <td>False</td>\n",
              "      <td>False</td>\n",
              "      <td>False</td>\n",
              "      <td>False</td>\n",
              "      <td>False</td>\n",
              "      <td>False</td>\n",
              "      <td>False</td>\n",
              "      <td>False</td>\n",
              "      <td>True</td>\n",
              "      <td>False</td>\n",
              "      <td>1571</td>\n",
              "      <td>1</td>\n",
              "    </tr>\n",
              "  </tbody>\n",
              "</table>\n",
              "</div>"
            ],
            "text/plain": [
              "                                     selection time  ...  outlier\n",
              "emergency vehicle selection                          ...         \n",
              "4808363                     2018-02-15 10:58:51.493  ...        1\n",
              "5320305                     2018-10-25 16:32:40.670  ...        0\n",
              "4832811                     2018-02-28 17:44:03.653  ...        1\n",
              "\n",
              "[3 rows x 27 columns]"
            ]
          },
          "metadata": {
            "tags": []
          },
          "execution_count": 58
        }
      ]
    },
    {
      "cell_type": "markdown",
      "metadata": {
        "id": "6izuZd_4r5Eg"
      },
      "source": [
        "# Comparación Regresión lineal, Regresión robusta"
      ]
    },
    {
      "cell_type": "code",
      "metadata": {
        "id": "0mqksCKSr5Ei"
      },
      "source": [
        "Z = df['delta departure-presentation']\n",
        "X = df.drop(['selection time', 'delta departure-presentation', 'outlier'],\n",
        "            axis=1)\n",
        "\n",
        "X_train, X_test, Z_train, Z_test = train_test_split(X, Z, \n",
        "                                                    test_size=0.3, \n",
        "                                                    shuffle=True,\n",
        "                                                    random_state=261)"
      ],
      "execution_count": null,
      "outputs": []
    },
    {
      "cell_type": "code",
      "metadata": {
        "id": "eRDZh5-R5ET5",
        "outputId": "9fec9e7a-62fe-4230-bbff-12f2e6a9ab7c",
        "colab": {
          "base_uri": "https://localhost:8080/"
        }
      },
      "source": [
        "# ¿Cómo son los conjuntos de entrenamiento y prueba?\n",
        "print(\"Conjunto de entrenamiento\")\n",
        "print(\"X: \", X_train.shape)\n",
        "print(\"y: \", Z_train.shape)\n",
        "\n",
        "print(\"Conjunto de prueba\")\n",
        "print(\"X: \", X_test.shape)\n",
        "print(\"y: \", Z_test.shape)"
      ],
      "execution_count": null,
      "outputs": [
        {
          "output_type": "stream",
          "text": [
            "Conjunto de entrenamiento\n",
            "X:  (153535, 24)\n",
            "y:  (153535,)\n",
            "Conjunto de prueba\n",
            "X:  (65802, 24)\n",
            "y:  (65802,)\n"
          ],
          "name": "stdout"
        }
      ]
    },
    {
      "cell_type": "markdown",
      "metadata": {
        "id": "0UCDSsULUFZ3"
      },
      "source": [
        "## Regresión Lineal"
      ]
    },
    {
      "cell_type": "code",
      "metadata": {
        "id": "KhZWHOuFr5En",
        "outputId": "f62a97e8-d727-40dc-aadb-b2a34a36ef3a",
        "colab": {
          "base_uri": "https://localhost:8080/"
        }
      },
      "source": [
        "lr = LinearRegression().fit(X_train, Z_train)\n",
        "\n",
        "Z_pred = lr.predict(X_test)\n",
        "\n",
        "error_medio_absoluto = np.mean(np.absolute(Z_test - Z_pred ))\n",
        "error_medio_absoluto"
      ],
      "execution_count": null,
      "outputs": [
        {
          "output_type": "execute_result",
          "data": {
            "text/plain": [
              "107.83601593188443"
            ]
          },
          "metadata": {
            "tags": []
          },
          "execution_count": 103
        }
      ]
    },
    {
      "cell_type": "code",
      "metadata": {
        "id": "qBWhR4-CVHed",
        "outputId": "ab470918-e8c8-4b2f-c17c-efcf7e637741",
        "colab": {
          "base_uri": "https://localhost:8080/"
        }
      },
      "source": [
        "metrics.mean_absolute_error(Z_test, Z_pred)"
      ],
      "execution_count": null,
      "outputs": [
        {
          "output_type": "execute_result",
          "data": {
            "text/plain": [
              "107.83601593188536"
            ]
          },
          "metadata": {
            "tags": []
          },
          "execution_count": 104
        }
      ]
    },
    {
      "cell_type": "code",
      "metadata": {
        "id": "RQyu3A4aTPOg",
        "outputId": "22928a85-4177-4d7c-b67f-8bd0af9253f6",
        "colab": {
          "base_uri": "https://localhost:8080/"
        }
      },
      "source": [
        "lr.coef_"
      ],
      "execution_count": null,
      "outputs": [
        {
          "output_type": "execute_result",
          "data": {
            "text/plain": [
              "array([-7.93424190e+00,  1.07167745e+00,  6.50667014e-02,  2.02638214e+01,\n",
              "        1.36081842e+01,  8.13376443e-01,  1.94814257e+01,  3.57161604e+01,\n",
              "        8.70322944e+01,  7.13925026e+01,  1.84455930e+02, -1.96557210e+01,\n",
              "        4.33227201e+01,  1.42352025e+01,  1.62490483e+01,  2.78112709e+01,\n",
              "        2.07493091e+01,  2.80834146e+01,  2.90893683e+01,  1.00744336e+01,\n",
              "        2.44529806e+01,  1.85589167e+01, -8.92188312e-01,  8.76930670e-01])"
            ]
          },
          "metadata": {
            "tags": []
          },
          "execution_count": 105
        }
      ]
    },
    {
      "cell_type": "code",
      "metadata": {
        "id": "bW04WKoccBBf",
        "outputId": "11f23388-5800-47a0-c0bc-3300c7e6ede4",
        "colab": {
          "base_uri": "https://localhost:8080/"
        }
      },
      "source": [
        "errores = (np.array(Z_test) - Z_pred)\n",
        "len(errores)"
      ],
      "execution_count": null,
      "outputs": [
        {
          "output_type": "execute_result",
          "data": {
            "text/plain": [
              "65802"
            ]
          },
          "metadata": {
            "tags": []
          },
          "execution_count": 106
        }
      ]
    },
    {
      "cell_type": "markdown",
      "metadata": {
        "id": "3LQFPOd3ebwY"
      },
      "source": [
        "### Comparación de los errores empirícos con los teóricos"
      ]
    },
    {
      "cell_type": "code",
      "metadata": {
        "id": "ka1zQklbbam_"
      },
      "source": [
        "errores_ = np.random.choice(errores, 329)  # se elige una submuestra con el propósito \n",
        "                                           # de obtener una mejor visualización\n",
        "\n",
        "#media y desviación de los errores teórico\n",
        "media = np.mean(Z_test - Z_pred)           \n",
        "des_est = np.sqrt(np.var(Z_test - Z_pred))"
      ],
      "execution_count": null,
      "outputs": []
    },
    {
      "cell_type": "code",
      "metadata": {
        "id": "E7tCLD8gdqA2",
        "outputId": "a1c9e3e8-453a-4ed6-b84a-bbcded763dee",
        "colab": {
          "base_uri": "https://localhost:8080/",
          "height": 265
        }
      },
      "source": [
        "# Comparación de la distribución teórica y empirica de los errores\n",
        "errores_teoricos = np.random.normal(media, des_est, 329)\n",
        "\n",
        "fig, ax = plt.subplots(1, 2, figsize=(8, 4), sharey='all')\n",
        "for dat, subplot in zip((errores_teoricos, errores_), ax.flatten()):\n",
        "  sns.histplot(x=dat, ax=subplot, kde=True, )\n",
        "plt.show()"
      ],
      "execution_count": null,
      "outputs": [
        {
          "output_type": "display_data",
          "data": {
            "image/png": "[encoded data removed]",
            "text/plain": [
              "<Figure size 576x288 with 2 Axes>"
            ]
          },
          "metadata": {
            "tags": [],
            "needs_background": "light"
          }
        }
      ]
    },
    {
      "cell_type": "markdown",
      "metadata": {
        "id": "0XVgYd-JHXDQ"
      },
      "source": [
        "### Calculo de [$R^2$](https://docs.google.com/presentation/d/1k0aYwEBzaaAkWjX6jRKAc40nKHi3FROkJwtXCOE22mI/edit#slide=id.ga8926b2cd2_0_14) \n",
        "\n",
        "$MSE = \\cfrac{1}{n}\\sum{( y - y_{pred})}^2$\n",
        "\n",
        " $R^2 \t= 1 -  \\cfrac{MSE(modelo)}{MSE(linea~base)}$\n"
      ]
    },
    {
      "cell_type": "code",
      "metadata": {
        "id": "8eu61F_BHuq6",
        "outputId": "98734a67-a879-4341-ccec-c077fac8fc57",
        "colab": {
          "base_uri": "https://localhost:8080/"
        }
      },
      "source": [
        "# Error cuadrado medio (MSE) linea base\n",
        "\n",
        "errores_lb = Z_test - Z_test.mean()\n",
        "MSE_base = pow(errores_lb,2).sum()/len(errores_lb)\n",
        "MSE_base"
      ],
      "execution_count": null,
      "outputs": [
        {
          "output_type": "execute_result",
          "data": {
            "text/plain": [
              "52114.94299180111"
            ]
          },
          "metadata": {
            "tags": []
          },
          "execution_count": 78
        }
      ]
    },
    {
      "cell_type": "code",
      "metadata": {
        "id": "yNfbrWo3JqZM",
        "outputId": "4fb520f2-a8ed-41e3-95ef-a57c6ebc2735",
        "colab": {
          "base_uri": "https://localhost:8080/"
        }
      },
      "source": [
        "#Error cuadrado medio (MSE) modelo\n",
        "errores = Z_test - Z_pred\n",
        "\n",
        "MSE_modelo = pow(errores,2).sum()/len(errores)\n",
        "MSE_modelo"
      ],
      "execution_count": null,
      "outputs": [
        {
          "output_type": "execute_result",
          "data": {
            "text/plain": [
              "41295.528695819026"
            ]
          },
          "metadata": {
            "tags": []
          },
          "execution_count": 79
        }
      ]
    },
    {
      "cell_type": "code",
      "metadata": {
        "id": "_uWhF8uAABtr",
        "outputId": "6a29bbdc-6b35-4cc5-88b0-655d712ef460",
        "colab": {
          "base_uri": "https://localhost:8080/"
        }
      },
      "source": [
        "R2 = 1 - MSE_modelo/MSE_base\n",
        "R2"
      ],
      "execution_count": null,
      "outputs": [
        {
          "output_type": "execute_result",
          "data": {
            "text/plain": [
              "0.20760675681222995"
            ]
          },
          "metadata": {
            "tags": []
          },
          "execution_count": 70
        }
      ]
    },
    {
      "cell_type": "code",
      "metadata": {
        "id": "SKxn3nyXQyDp"
      },
      "source": [
        "def R_cuadrada(val_obs, val_pred):\n",
        "  errores_lb = val_obs - val_obs.mean()\n",
        "  errores_m = val_obs - val_pred\n",
        "  MSE_base = pow(errores_lb,2).sum()/len(errores_lb)\n",
        "  MSE_modelo = pow(errores,2).sum()/len(errores)\n",
        "  R2 = 1 - MSE_modelo/MSE_base\n",
        "  return R2"
      ],
      "execution_count": null,
      "outputs": []
    },
    {
      "cell_type": "code",
      "metadata": {
        "id": "UkB-l9rbQ2Te",
        "outputId": "5b6cd01c-6838-40a2-e8cc-d5d72eee1e45",
        "colab": {
          "base_uri": "https://localhost:8080/"
        }
      },
      "source": [
        "R_cuadrada(Z_test, Z_pred)"
      ],
      "execution_count": null,
      "outputs": [
        {
          "output_type": "execute_result",
          "data": {
            "text/plain": [
              "0.20760675681222995"
            ]
          },
          "metadata": {
            "tags": []
          },
          "execution_count": 87
        }
      ]
    },
    {
      "cell_type": "code",
      "metadata": {
        "id": "ZGGwZw9mLz7i",
        "outputId": "83e30d03-1ca2-4c7d-ff30-d63204c7ce7d",
        "colab": {
          "base_uri": "https://localhost:8080/"
        }
      },
      "source": [
        "metrics.r2_score(Z_test, Z_pred)"
      ],
      "execution_count": null,
      "outputs": [
        {
          "output_type": "execute_result",
          "data": {
            "text/plain": [
              "0.20760675681223006"
            ]
          },
          "metadata": {
            "tags": []
          },
          "execution_count": 71
        }
      ]
    },
    {
      "cell_type": "markdown",
      "metadata": {
        "id": "rBg1H4OEUXV7"
      },
      "source": [
        "## Regresión Robusta"
      ]
    },
    {
      "cell_type": "code",
      "metadata": {
        "id": "Fw-RzJdaDquX",
        "outputId": "af98cb02-c236-4446-b5d1-d97f66c21758",
        "colab": {
          "base_uri": "https://localhost:8080/"
        }
      },
      "source": [
        "hr = HuberRegressor( epsilon=1.35,   max_iter=1000,  alpha=0,  warm_start=False, \n",
        "                    fit_intercept=True, tol=1e-05)\n",
        "hr = hr.fit(X_train, Z_train)\n",
        "Z_pred = hr.predict(X_test)\n",
        "\n",
        "print(metrics.mean_absolute_error(Z_test, Z_pred))\n",
        "print('MAE:', metrics.mean_absolute_error(Z_test, Z_pred))"
      ],
      "execution_count": null,
      "outputs": [
        {
          "output_type": "stream",
          "text": [
            "104.59768631813472\n"
          ],
          "name": "stdout"
        }
      ]
    },
    {
      "cell_type": "code",
      "metadata": {
        "id": "OvnUVBW9TWzj",
        "outputId": "bec53b38-b418-4593-b1fb-5f99172205ef",
        "colab": {
          "base_uri": "https://localhost:8080/"
        }
      },
      "source": [
        "hr.coef_"
      ],
      "execution_count": null,
      "outputs": [
        {
          "output_type": "execute_result",
          "data": {
            "text/plain": [
              "array([-3.23701457,  0.99278182,  0.07201599, 10.99230166, 13.50434019,\n",
              "        1.6194606 ,  3.05169243,  5.17935761,  4.17668701, 31.09483393,\n",
              "        8.40857003,  0.60675088, 20.67460989,  8.13682196, 10.61327219,\n",
              "       23.9598798 , 11.48622774, 23.82693293, 10.13174744, -2.04931164,\n",
              "        7.9026072 , 41.60304362, 13.75242416, 15.51899131])"
            ]
          },
          "metadata": {
            "tags": []
          },
          "execution_count": 110
        }
      ]
    },
    {
      "cell_type": "code",
      "metadata": {
        "id": "_ox61AcR41BW",
        "outputId": "95373352-5357-4126-8a55-1c932b060596",
        "colab": {
          "base_uri": "https://localhost:8080/",
          "height": 793
        }
      },
      "source": [
        "coeficientes_lr = pd.DataFrame({'coef':hr.coef_, 'variable':list(columnas)})\n",
        "coeficientes_lr.sort_values('coef').reset_index(drop=True)"
      ],
      "execution_count": null,
      "outputs": [
        {
          "output_type": "execute_result",
          "data": {
            "text/html": [
              "<div>\n",
              "<style scoped>\n",
              "    .dataframe tbody tr th:only-of-type {\n",
              "        vertical-align: middle;\n",
              "    }\n",
              "\n",
              "    .dataframe tbody tr th {\n",
              "        vertical-align: top;\n",
              "    }\n",
              "\n",
              "    .dataframe thead th {\n",
              "        text-align: right;\n",
              "    }\n",
              "</style>\n",
              "<table border=\"1\" class=\"dataframe\">\n",
              "  <thead>\n",
              "    <tr style=\"text-align: right;\">\n",
              "      <th></th>\n",
              "      <th>coef</th>\n",
              "      <th>variable</th>\n",
              "    </tr>\n",
              "  </thead>\n",
              "  <tbody>\n",
              "    <tr>\n",
              "      <th>0</th>\n",
              "      <td>-3.237015</td>\n",
              "      <td>intervention on public roads</td>\n",
              "    </tr>\n",
              "    <tr>\n",
              "      <th>1</th>\n",
              "      <td>-2.049312</td>\n",
              "      <td>location of the event_148.0</td>\n",
              "    </tr>\n",
              "    <tr>\n",
              "      <th>2</th>\n",
              "      <td>0.072016</td>\n",
              "      <td>OSRM estimated distance</td>\n",
              "    </tr>\n",
              "    <tr>\n",
              "      <th>3</th>\n",
              "      <td>0.606751</td>\n",
              "      <td>alert_reason catogory_8</td>\n",
              "    </tr>\n",
              "    <tr>\n",
              "      <th>4</th>\n",
              "      <td>0.992782</td>\n",
              "      <td>floor</td>\n",
              "    </tr>\n",
              "    <tr>\n",
              "      <th>5</th>\n",
              "      <td>1.619461</td>\n",
              "      <td>alert_reason catogory_2</td>\n",
              "    </tr>\n",
              "    <tr>\n",
              "      <th>6</th>\n",
              "      <td>3.051692</td>\n",
              "      <td>alert_reason catogory_3</td>\n",
              "    </tr>\n",
              "    <tr>\n",
              "      <th>7</th>\n",
              "      <td>4.176687</td>\n",
              "      <td>alert_reason catogory_5</td>\n",
              "    </tr>\n",
              "    <tr>\n",
              "      <th>8</th>\n",
              "      <td>5.179358</td>\n",
              "      <td>alert_reason catogory_4</td>\n",
              "    </tr>\n",
              "    <tr>\n",
              "      <th>9</th>\n",
              "      <td>7.902607</td>\n",
              "      <td>location of the event_149.0</td>\n",
              "    </tr>\n",
              "    <tr>\n",
              "      <th>10</th>\n",
              "      <td>8.136822</td>\n",
              "      <td>location of the event_107.0</td>\n",
              "    </tr>\n",
              "    <tr>\n",
              "      <th>11</th>\n",
              "      <td>8.408570</td>\n",
              "      <td>alert_reason catogory_7</td>\n",
              "    </tr>\n",
              "    <tr>\n",
              "      <th>12</th>\n",
              "      <td>10.131747</td>\n",
              "      <td>location of the event_140.0</td>\n",
              "    </tr>\n",
              "    <tr>\n",
              "      <th>13</th>\n",
              "      <td>10.613272</td>\n",
              "      <td>location of the event_131.0</td>\n",
              "    </tr>\n",
              "    <tr>\n",
              "      <th>14</th>\n",
              "      <td>10.992302</td>\n",
              "      <td>rush hour</td>\n",
              "    </tr>\n",
              "    <tr>\n",
              "      <th>15</th>\n",
              "      <td>11.486228</td>\n",
              "      <td>location of the event_137.0</td>\n",
              "    </tr>\n",
              "    <tr>\n",
              "      <th>16</th>\n",
              "      <td>13.504340</td>\n",
              "      <td>weekday</td>\n",
              "    </tr>\n",
              "    <tr>\n",
              "      <th>17</th>\n",
              "      <td>13.752424</td>\n",
              "      <td>emergency vehicle type_VLR BSPP</td>\n",
              "    </tr>\n",
              "    <tr>\n",
              "      <th>18</th>\n",
              "      <td>15.518991</td>\n",
              "      <td>emergency vehicle type_VSAV BSPP</td>\n",
              "    </tr>\n",
              "    <tr>\n",
              "      <th>19</th>\n",
              "      <td>20.674610</td>\n",
              "      <td>alert_reason catogory_9</td>\n",
              "    </tr>\n",
              "    <tr>\n",
              "      <th>20</th>\n",
              "      <td>23.826933</td>\n",
              "      <td>location of the event_139.0</td>\n",
              "    </tr>\n",
              "    <tr>\n",
              "      <th>21</th>\n",
              "      <td>23.959880</td>\n",
              "      <td>location of the event_136.0</td>\n",
              "    </tr>\n",
              "    <tr>\n",
              "      <th>22</th>\n",
              "      <td>31.094834</td>\n",
              "      <td>alert_reason catogory_6</td>\n",
              "    </tr>\n",
              "    <tr>\n",
              "      <th>23</th>\n",
              "      <td>41.603044</td>\n",
              "      <td>emergency vehicle type_PSE</td>\n",
              "    </tr>\n",
              "  </tbody>\n",
              "</table>\n",
              "</div>"
            ],
            "text/plain": [
              "         coef                          variable\n",
              "0   -3.237015      intervention on public roads\n",
              "1   -2.049312       location of the event_148.0\n",
              "2    0.072016           OSRM estimated distance\n",
              "3    0.606751           alert_reason catogory_8\n",
              "4    0.992782                             floor\n",
              "5    1.619461           alert_reason catogory_2\n",
              "6    3.051692           alert_reason catogory_3\n",
              "7    4.176687           alert_reason catogory_5\n",
              "8    5.179358           alert_reason catogory_4\n",
              "9    7.902607       location of the event_149.0\n",
              "10   8.136822       location of the event_107.0\n",
              "11   8.408570           alert_reason catogory_7\n",
              "12  10.131747       location of the event_140.0\n",
              "13  10.613272       location of the event_131.0\n",
              "14  10.992302                         rush hour\n",
              "15  11.486228       location of the event_137.0\n",
              "16  13.504340                           weekday\n",
              "17  13.752424   emergency vehicle type_VLR BSPP\n",
              "18  15.518991  emergency vehicle type_VSAV BSPP\n",
              "19  20.674610           alert_reason catogory_9\n",
              "20  23.826933       location of the event_139.0\n",
              "21  23.959880       location of the event_136.0\n",
              "22  31.094834           alert_reason catogory_6\n",
              "23  41.603044        emergency vehicle type_PSE"
            ]
          },
          "metadata": {
            "tags": []
          },
          "execution_count": 111
        }
      ]
    },
    {
      "cell_type": "markdown",
      "metadata": {
        "id": "DkjIWWSzTxkZ"
      },
      "source": [
        "# Regresiones con datos normalizados"
      ]
    },
    {
      "cell_type": "code",
      "metadata": {
        "id": "RZf7mBFTT1Jw"
      },
      "source": [
        "X_estandarizados=X.copy()\n",
        "columnas = X.columns\n",
        "\n",
        "scaler = StandardScaler()\n",
        "\n",
        "X_estandarizados[columnas] = scaler.fit_transform(X[columnas])"
      ],
      "execution_count": null,
      "outputs": []
    },
    {
      "cell_type": "code",
      "metadata": {
        "id": "1DWtw747Txkg"
      },
      "source": [
        "\n",
        "X_train, X_test, Z_train, Z_test = train_test_split(X_estandarizados, Z, test_size=0.3, \n",
        "                                                    shuffle=True, random_state=261)"
      ],
      "execution_count": null,
      "outputs": []
    },
    {
      "cell_type": "code",
      "metadata": {
        "id": "ABQMy7uLTxku",
        "outputId": "6c6510df-d0d0-439b-8aeb-d9ce4803eccf",
        "colab": {
          "base_uri": "https://localhost:8080/"
        }
      },
      "source": [
        "hr = HuberRegressor( epsilon=1.35,   max_iter=1000,  alpha=0,  warm_start=False, \n",
        "                    fit_intercept=True, tol=1e-05)\n",
        "hr = hr.fit(X_train, Z_train)\n",
        "Z_pred = hr.predict(X_test)\n",
        "\n",
        "print(metrics.mean_absolute_error(Z_test, Z_pred))"
      ],
      "execution_count": null,
      "outputs": [
        {
          "output_type": "stream",
          "text": [
            "104.22840875649167\n"
          ],
          "name": "stdout"
        }
      ]
    },
    {
      "cell_type": "code",
      "metadata": {
        "id": "2_aGNzUTTxkx",
        "outputId": "a5440dfd-2483-4874-a566-dca40f97938c",
        "colab": {
          "base_uri": "https://localhost:8080/",
          "height": 793
        }
      },
      "source": [
        "coeficientes_lr = pd.DataFrame({'coef':hr.coef_, 'variable':list(columnas)})\n",
        "coeficientes_lr.sort_values('coef').reset_index(drop=True)"
      ],
      "execution_count": null,
      "outputs": [
        {
          "output_type": "execute_result",
          "data": {
            "text/html": [
              "<div>\n",
              "<style scoped>\n",
              "    .dataframe tbody tr th:only-of-type {\n",
              "        vertical-align: middle;\n",
              "    }\n",
              "\n",
              "    .dataframe tbody tr th {\n",
              "        vertical-align: top;\n",
              "    }\n",
              "\n",
              "    .dataframe thead th {\n",
              "        text-align: right;\n",
              "    }\n",
              "</style>\n",
              "<table border=\"1\" class=\"dataframe\">\n",
              "  <thead>\n",
              "    <tr style=\"text-align: right;\">\n",
              "      <th></th>\n",
              "      <th>coef</th>\n",
              "      <th>variable</th>\n",
              "    </tr>\n",
              "  </thead>\n",
              "  <tbody>\n",
              "    <tr>\n",
              "      <th>0</th>\n",
              "      <td>-2.565466</td>\n",
              "      <td>alert_reason catogory_2</td>\n",
              "    </tr>\n",
              "    <tr>\n",
              "      <th>1</th>\n",
              "      <td>-1.898818</td>\n",
              "      <td>intervention on public roads</td>\n",
              "    </tr>\n",
              "    <tr>\n",
              "      <th>2</th>\n",
              "      <td>-1.152103</td>\n",
              "      <td>alert_reason catogory_3</td>\n",
              "    </tr>\n",
              "    <tr>\n",
              "      <th>3</th>\n",
              "      <td>-0.516251</td>\n",
              "      <td>emergency vehicle type_VLR BSPP</td>\n",
              "    </tr>\n",
              "    <tr>\n",
              "      <th>4</th>\n",
              "      <td>-0.010105</td>\n",
              "      <td>alert_reason catogory_8</td>\n",
              "    </tr>\n",
              "    <tr>\n",
              "      <th>5</th>\n",
              "      <td>1.411252</td>\n",
              "      <td>alert_reason catogory_4</td>\n",
              "    </tr>\n",
              "    <tr>\n",
              "      <th>6</th>\n",
              "      <td>1.686061</td>\n",
              "      <td>location of the event_131.0</td>\n",
              "    </tr>\n",
              "    <tr>\n",
              "      <th>7</th>\n",
              "      <td>2.129649</td>\n",
              "      <td>location of the event_148.0</td>\n",
              "    </tr>\n",
              "    <tr>\n",
              "      <th>8</th>\n",
              "      <td>2.228416</td>\n",
              "      <td>location of the event_107.0</td>\n",
              "    </tr>\n",
              "    <tr>\n",
              "      <th>9</th>\n",
              "      <td>2.622261</td>\n",
              "      <td>alert_reason catogory_9</td>\n",
              "    </tr>\n",
              "    <tr>\n",
              "      <th>10</th>\n",
              "      <td>2.696058</td>\n",
              "      <td>location of the event_149.0</td>\n",
              "    </tr>\n",
              "    <tr>\n",
              "      <th>11</th>\n",
              "      <td>2.766770</td>\n",
              "      <td>floor</td>\n",
              "    </tr>\n",
              "    <tr>\n",
              "      <th>12</th>\n",
              "      <td>2.885815</td>\n",
              "      <td>emergency vehicle type_VSAV BSPP</td>\n",
              "    </tr>\n",
              "    <tr>\n",
              "      <th>13</th>\n",
              "      <td>2.963898</td>\n",
              "      <td>location of the event_137.0</td>\n",
              "    </tr>\n",
              "    <tr>\n",
              "      <th>14</th>\n",
              "      <td>3.381195</td>\n",
              "      <td>weekday</td>\n",
              "    </tr>\n",
              "    <tr>\n",
              "      <th>15</th>\n",
              "      <td>4.086516</td>\n",
              "      <td>location of the event_140.0</td>\n",
              "    </tr>\n",
              "    <tr>\n",
              "      <th>16</th>\n",
              "      <td>4.552977</td>\n",
              "      <td>alert_reason catogory_5</td>\n",
              "    </tr>\n",
              "    <tr>\n",
              "      <th>17</th>\n",
              "      <td>7.288527</td>\n",
              "      <td>rush hour</td>\n",
              "    </tr>\n",
              "    <tr>\n",
              "      <th>18</th>\n",
              "      <td>7.775366</td>\n",
              "      <td>alert_reason catogory_7</td>\n",
              "    </tr>\n",
              "    <tr>\n",
              "      <th>19</th>\n",
              "      <td>8.383841</td>\n",
              "      <td>alert_reason catogory_6</td>\n",
              "    </tr>\n",
              "    <tr>\n",
              "      <th>20</th>\n",
              "      <td>8.918037</td>\n",
              "      <td>emergency vehicle type_PSE</td>\n",
              "    </tr>\n",
              "    <tr>\n",
              "      <th>21</th>\n",
              "      <td>9.623896</td>\n",
              "      <td>location of the event_136.0</td>\n",
              "    </tr>\n",
              "    <tr>\n",
              "      <th>22</th>\n",
              "      <td>10.535085</td>\n",
              "      <td>location of the event_139.0</td>\n",
              "    </tr>\n",
              "    <tr>\n",
              "      <th>23</th>\n",
              "      <td>111.353228</td>\n",
              "      <td>OSRM estimated distance</td>\n",
              "    </tr>\n",
              "  </tbody>\n",
              "</table>\n",
              "</div>"
            ],
            "text/plain": [
              "          coef                          variable\n",
              "0    -2.565466           alert_reason catogory_2\n",
              "1    -1.898818      intervention on public roads\n",
              "2    -1.152103           alert_reason catogory_3\n",
              "3    -0.516251   emergency vehicle type_VLR BSPP\n",
              "4    -0.010105           alert_reason catogory_8\n",
              "5     1.411252           alert_reason catogory_4\n",
              "6     1.686061       location of the event_131.0\n",
              "7     2.129649       location of the event_148.0\n",
              "8     2.228416       location of the event_107.0\n",
              "9     2.622261           alert_reason catogory_9\n",
              "10    2.696058       location of the event_149.0\n",
              "11    2.766770                             floor\n",
              "12    2.885815  emergency vehicle type_VSAV BSPP\n",
              "13    2.963898       location of the event_137.0\n",
              "14    3.381195                           weekday\n",
              "15    4.086516       location of the event_140.0\n",
              "16    4.552977           alert_reason catogory_5\n",
              "17    7.288527                         rush hour\n",
              "18    7.775366           alert_reason catogory_7\n",
              "19    8.383841           alert_reason catogory_6\n",
              "20    8.918037        emergency vehicle type_PSE\n",
              "21    9.623896       location of the event_136.0\n",
              "22   10.535085       location of the event_139.0\n",
              "23  111.353228           OSRM estimated distance"
            ]
          },
          "metadata": {
            "tags": []
          },
          "execution_count": 115
        }
      ]
    }
  ]
}