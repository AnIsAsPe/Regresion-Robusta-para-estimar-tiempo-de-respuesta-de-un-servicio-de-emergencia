{
  "nbformat": 4,
  "nbformat_minor": 0,
  "metadata": {
    "colab": {
      "name": "2_Polinomial_Response_time_Paris_Fire_Brigade.ipynb",
      "provenance": [],
      "collapsed_sections": [],
      "toc_visible": true,
      "include_colab_link": true
    },
    "kernelspec": {
      "name": "python3",
      "display_name": "Python 3"
    }
  },
  "cells": [
    {
      "cell_type": "markdown",
      "metadata": {
        "id": "view-in-github",
        "colab_type": "text"
      },
      "source": [
        "<a href=\"https://colab.research.google.com/github/AnIsAsPe/Regresion-Robusta-para-estimar-tiempo-de-respuesta-de-un-servicio-de-emergencia/blob/main/2_Polinomial_Response_time_Paris_Fire_Brigade.ipynb\" target=\"_parent\"><img src=\"https://colab.research.google.com/assets/colab-badge.svg\" alt=\"Open In Colab\"/></a>"
      ]
    },
    {
      "cell_type": "markdown",
      "metadata": {
        "id": "MOfWHxj0IdEz"
      },
      "source": [
        "## Cargar bibiliotecas"
      ]
    },
    {
      "cell_type": "code",
      "metadata": {
        "id": "Wkte1t1UpdqM"
      },
      "source": [
        "import pandas as pd\n",
        "import numpy as np\n",
        "\n",
        "from sklearn.preprocessing import PolynomialFeatures\n",
        "from sklearn.preprocessing import StandardScaler\n",
        "from sklearn.model_selection import train_test_split \n",
        "\n",
        "from sklearn.linear_model import LinearRegression\n",
        "from sklearn.linear_model import HuberRegressor\n",
        "from sklearn import metrics\n",
        "\n",
        "import matplotlib.pyplot as plt \n",
        "import seaborn as sns  "
      ],
      "execution_count": 6,
      "outputs": []
    },
    {
      "cell_type": "markdown",
      "metadata": {
        "id": "4ROaW5Muliuw"
      },
      "source": [
        "# Leemos datos preprocesados"
      ]
    },
    {
      "cell_type": "code",
      "metadata": {
        "id": "EmZQXZAllCV8",
        "colab": {
          "base_uri": "https://localhost:8080/",
          "height": 216
        },
        "outputId": "5ad4e1c4-24fe-428d-fba6-69c32f454bff"
      },
      "source": [
        "df_preprocesado = pd.read_csv('/content/drive/MyDrive/Datos/ParisFireBrigade/Output/df_selec.csv',\n",
        "                              index_col='emergency vehicle selection')\n",
        "df_preprocesado.head(1)"
      ],
      "execution_count": 67,
      "outputs": [
        {
          "output_type": "execute_result",
          "data": {
            "text/html": [
              "<div>\n",
              "<style scoped>\n",
              "    .dataframe tbody tr th:only-of-type {\n",
              "        vertical-align: middle;\n",
              "    }\n",
              "\n",
              "    .dataframe tbody tr th {\n",
              "        vertical-align: top;\n",
              "    }\n",
              "\n",
              "    .dataframe thead th {\n",
              "        text-align: right;\n",
              "    }\n",
              "</style>\n",
              "<table border=\"1\" class=\"dataframe\">\n",
              "  <thead>\n",
              "    <tr style=\"text-align: right;\">\n",
              "      <th></th>\n",
              "      <th>intervention on public roads</th>\n",
              "      <th>floor</th>\n",
              "      <th>OSRM estimated distance</th>\n",
              "      <th>rush hour</th>\n",
              "      <th>weekday</th>\n",
              "      <th>alert_reason catogory_2</th>\n",
              "      <th>alert_reason catogory_3</th>\n",
              "      <th>alert_reason catogory_4</th>\n",
              "      <th>alert_reason catogory_5</th>\n",
              "      <th>alert_reason catogory_6</th>\n",
              "      <th>alert_reason catogory_7</th>\n",
              "      <th>alert_reason catogory_8</th>\n",
              "      <th>alert_reason catogory_9</th>\n",
              "      <th>location of the event_136.0</th>\n",
              "      <th>location of the event_139.0</th>\n",
              "      <th>location of the event_148.0</th>\n",
              "      <th>location of the event_149.0</th>\n",
              "      <th>emergency vehicle type_PSE</th>\n",
              "      <th>emergency vehicle type_VLR BSPP</th>\n",
              "      <th>emergency vehicle type_VSAV BSPP</th>\n",
              "      <th>delta departure-presentation</th>\n",
              "    </tr>\n",
              "    <tr>\n",
              "      <th>emergency vehicle selection</th>\n",
              "      <th></th>\n",
              "      <th></th>\n",
              "      <th></th>\n",
              "      <th></th>\n",
              "      <th></th>\n",
              "      <th></th>\n",
              "      <th></th>\n",
              "      <th></th>\n",
              "      <th></th>\n",
              "      <th></th>\n",
              "      <th></th>\n",
              "      <th></th>\n",
              "      <th></th>\n",
              "      <th></th>\n",
              "      <th></th>\n",
              "      <th></th>\n",
              "      <th></th>\n",
              "      <th></th>\n",
              "      <th></th>\n",
              "      <th></th>\n",
              "      <th></th>\n",
              "    </tr>\n",
              "  </thead>\n",
              "  <tbody>\n",
              "    <tr>\n",
              "      <th>5105452</th>\n",
              "      <td>False</td>\n",
              "      <td>0</td>\n",
              "      <td>952.5</td>\n",
              "      <td>False</td>\n",
              "      <td>False</td>\n",
              "      <td>False</td>\n",
              "      <td>True</td>\n",
              "      <td>False</td>\n",
              "      <td>False</td>\n",
              "      <td>False</td>\n",
              "      <td>False</td>\n",
              "      <td>False</td>\n",
              "      <td>False</td>\n",
              "      <td>False</td>\n",
              "      <td>False</td>\n",
              "      <td>True</td>\n",
              "      <td>False</td>\n",
              "      <td>False</td>\n",
              "      <td>False</td>\n",
              "      <td>True</td>\n",
              "      <td>324</td>\n",
              "    </tr>\n",
              "  </tbody>\n",
              "</table>\n",
              "</div>"
            ],
            "text/plain": [
              "                             intervention on public roads  ...  delta departure-presentation\n",
              "emergency vehicle selection                                ...                              \n",
              "5105452                                             False  ...                           324\n",
              "\n",
              "[1 rows x 21 columns]"
            ]
          },
          "metadata": {
            "tags": []
          },
          "execution_count": 67
        }
      ]
    },
    {
      "cell_type": "code",
      "metadata": {
        "id": "Z_GrEgMSs5fs",
        "colab": {
          "base_uri": "https://localhost:8080/"
        },
        "outputId": "e868c53b-0b3e-42e5-b305-ed45c447d42a"
      },
      "source": [
        "df_muestra=df_preprocesado.sample(frac=.1 )\n",
        "df_muestra.shape"
      ],
      "execution_count": 52,
      "outputs": [
        {
          "output_type": "execute_result",
          "data": {
            "text/plain": [
              "(21934, 21)"
            ]
          },
          "metadata": {
            "tags": []
          },
          "execution_count": 52
        }
      ]
    },
    {
      "cell_type": "code",
      "metadata": {
        "id": "RMOKZZKNo_4o"
      },
      "source": [
        "#separamos variable respuesta de características\n",
        "Z = df_muestra['delta departure-presentation']\n",
        "X = df_muestra.drop(['delta departure-presentation'],axis=1)"
      ],
      "execution_count": 69,
      "outputs": []
    },
    {
      "cell_type": "markdown",
      "metadata": {
        "id": "0UCDSsULUFZ3"
      },
      "source": [
        "# Regresión Polinomial Orden 2"
      ]
    },
    {
      "cell_type": "markdown",
      "metadata": {
        "id": "6wimZChpvkoK"
      },
      "source": [
        "### Creación de variables que capturen efectos no lineales"
      ]
    },
    {
      "cell_type": "code",
      "metadata": {
        "id": "cLcMXWJspJXs",
        "colab": {
          "base_uri": "https://localhost:8080/"
        },
        "outputId": "b04c3621-b446-4986-dcc3-9798ae22094a"
      },
      "source": [
        "polynomial_features = PolynomialFeatures(degree=2)\n",
        "X_poly= polynomial_features.fit_transform(X)\n",
        "X.shape, X_poly.shape"
      ],
      "execution_count": 59,
      "outputs": [
        {
          "output_type": "execute_result",
          "data": {
            "text/plain": [
              "((21934, 20), (21934, 231))"
            ]
          },
          "metadata": {
            "tags": []
          },
          "execution_count": 59
        }
      ]
    },
    {
      "cell_type": "markdown",
      "metadata": {
        "id": "o0KKg4eNo7yK"
      },
      "source": [
        "### Separación conjunto de entrenamiento y prueba"
      ]
    },
    {
      "cell_type": "code",
      "metadata": {
        "id": "JYc_ak6MvkoM"
      },
      "source": [
        "X_train, X_test, Z_train, Z_test = train_test_split(X_poly, Z, \n",
        "                                                    test_size=0.3, \n",
        "                                                    shuffle=True,\n",
        "                                                    random_state=261)"
      ],
      "execution_count": 60,
      "outputs": []
    },
    {
      "cell_type": "code",
      "metadata": {
        "id": "CoxH3YNHvkoM",
        "colab": {
          "base_uri": "https://localhost:8080/"
        },
        "outputId": "e17d1aad-5eb7-4b33-f9f0-4efca41acdb3"
      },
      "source": [
        "# ¿Cómo son los conjuntos de entrenamiento y prueba?\n",
        "print(\"Conjunto de entrenamiento\")\n",
        "print(\"X: \", X_train.shape)\n",
        "print(\"y: \", Z_train.shape)\n",
        "\n",
        "print(\"Conjunto de prueba\")\n",
        "print(\"X: \", X_test.shape)\n",
        "print(\"y: \", Z_test.shape)"
      ],
      "execution_count": 61,
      "outputs": [
        {
          "output_type": "stream",
          "text": [
            "Conjunto de entrenamiento\n",
            "X:  (15353, 231)\n",
            "y:  (15353,)\n",
            "Conjunto de prueba\n",
            "X:  (6581, 231)\n",
            "y:  (6581,)\n"
          ],
          "name": "stdout"
        }
      ]
    },
    {
      "cell_type": "code",
      "metadata": {
        "id": "KhZWHOuFr5En",
        "colab": {
          "base_uri": "https://localhost:8080/"
        },
        "outputId": "e57ad662-a40b-4ca6-a665-d57e49f0c02c"
      },
      "source": [
        "lr = LinearRegression().fit(X_train, Z_train)\n",
        "\n",
        "Z_pred = lr.predict(X_test)\n",
        "\n",
        "error_medio_absoluto = np.mean(np.absolute(Z_test - Z_pred ))\n",
        "error_medio_absoluto"
      ],
      "execution_count": 63,
      "outputs": [
        {
          "output_type": "execute_result",
          "data": {
            "text/plain": [
              "105.5576939837879"
            ]
          },
          "metadata": {
            "tags": []
          },
          "execution_count": 63
        }
      ]
    },
    {
      "cell_type": "markdown",
      "metadata": {
        "id": "arVWa-ayDgBq"
      },
      "source": [
        "# Regresión Polinomial Orden 3"
      ]
    },
    {
      "cell_type": "markdown",
      "metadata": {
        "id": "vhoSX9YeDgBs"
      },
      "source": [
        "### Creación de variables que capturen efectos no lineales"
      ]
    },
    {
      "cell_type": "code",
      "metadata": {
        "colab": {
          "base_uri": "https://localhost:8080/"
        },
        "id": "3RRNcqSyDgBs",
        "outputId": "f3f3483b-3b20-4979-e002-6713c4768d0b"
      },
      "source": [
        "polynomial_features = PolynomialFeatures(degree=3)\n",
        "X_poly= polynomial_features.fit_transform(X)\n",
        "X.shape, X_poly.shape"
      ],
      "execution_count": 68,
      "outputs": [
        {
          "output_type": "execute_result",
          "data": {
            "text/plain": [
              "((21934, 20), (21934, 1771))"
            ]
          },
          "metadata": {
            "tags": []
          },
          "execution_count": 68
        }
      ]
    },
    {
      "cell_type": "markdown",
      "metadata": {
        "id": "WkT-wRYoDgBt"
      },
      "source": [
        "### Separación conjunto de entrenamiento y prueba"
      ]
    },
    {
      "cell_type": "code",
      "metadata": {
        "colab": {
          "base_uri": "https://localhost:8080/"
        },
        "id": "0i8WLrM1DgBu",
        "outputId": "5778f534-81d3-48a1-df37-6cae60362d74"
      },
      "source": [
        "X_train, X_test, Z_train, Z_test = train_test_split(X_poly, Z, \n",
        "                                                    test_size=0.3, \n",
        "                                                    shuffle=True,\n",
        "                                                    random_state=261)\n",
        "# ¿Cómo son los conjuntos de entrenamiento y prueba?\n",
        "print(\"Conjunto de entrenamiento\")\n",
        "print(\"X: \", X_train.shape)\n",
        "print(\"y: \", Z_train.shape)\n",
        "\n",
        "print(\"Conjunto de prueba\")\n",
        "print(\"X: \", X_test.shape)\n",
        "print(\"y: \", Z_test.shape)"
      ],
      "execution_count": 72,
      "outputs": [
        {
          "output_type": "stream",
          "text": [
            "Conjunto de entrenamiento\n",
            "X:  (15353, 1771)\n",
            "y:  (15353,)\n",
            "Conjunto de prueba\n",
            "X:  (6581, 1771)\n",
            "y:  (6581,)\n"
          ],
          "name": "stdout"
        }
      ]
    },
    {
      "cell_type": "code",
      "metadata": {
        "colab": {
          "base_uri": "https://localhost:8080/"
        },
        "id": "j5_RYxcWDgBu",
        "outputId": "9a1a4c5d-ad00-4d73-8401-ac684529e853"
      },
      "source": [
        "lr = LinearRegression().fit(X_train, Z_train)\n",
        "\n",
        "Z_pred = lr.predict(X_test)\n",
        "\n",
        "error_medio_absoluto = np.mean(np.absolute(Z_test - Z_pred ))\n",
        "error_medio_absoluto"
      ],
      "execution_count": 73,
      "outputs": [
        {
          "output_type": "execute_result",
          "data": {
            "text/plain": [
              "109.01651321565602"
            ]
          },
          "metadata": {
            "tags": []
          },
          "execution_count": 73
        }
      ]
    }
  ]
}