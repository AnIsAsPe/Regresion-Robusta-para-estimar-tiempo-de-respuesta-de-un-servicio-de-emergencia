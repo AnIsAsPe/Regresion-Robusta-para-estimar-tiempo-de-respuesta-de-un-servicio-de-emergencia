{
  "nbformat": 4,
  "nbformat_minor": 0,
  "metadata": {
    "colab": {
      "name": "Response_time_Paris_Fire_Brigade.ipynb",
      "provenance": [],
      "collapsed_sections": [],
      "toc_visible": true,
      "include_colab_link": true
    },
    "kernelspec": {
      "name": "python3",
      "display_name": "Python 3"
    }
  },
  "cells": [
    {
      "cell_type": "markdown",
      "metadata": {
        "id": "view-in-github",
        "colab_type": "text"
      },
      "source": [
        "<a href=\"https://colab.research.google.com/github/AnIsAsPe/Regresion-Robusta-para-estimar-tiempo-de-respuesta-de-un-servicio-de-emergencia/blob/main/1_Response_time_Paris_Fire_Brigade.ipynb\" target=\"_parent\"><img src=\"https://colab.research.google.com/assets/colab-badge.svg\" alt=\"Open In Colab\"/></a>"
      ]
    },
    {
      "cell_type": "markdown",
      "metadata": {
        "id": "MOfWHxj0IdEz"
      },
      "source": [
        "## Cargar bibiliotecas"
      ]
    },
    {
      "cell_type": "code",
      "metadata": {
        "id": "Wkte1t1UpdqM"
      },
      "source": [
        "import pandas as pd\n",
        "import numpy as np\n",
        "\n",
        "from sklearn.model_selection import train_test_split \n",
        "from sklearn.linear_model import LinearRegression\n",
        "from sklearn.linear_model import HuberRegressor\n",
        "from sklearn import metrics\n",
        "\n",
        "import matplotlib.pyplot as plt \n",
        "import seaborn as sns  "
      ],
      "execution_count": 1,
      "outputs": []
    },
    {
      "cell_type": "markdown",
      "metadata": {
        "id": "KmYD0TTp5502"
      },
      "source": [
        "## Definición de funciones"
      ]
    },
    {
      "cell_type": "code",
      "metadata": {
        "id": "hHWxPWiw50Dm"
      },
      "source": [
        "def correlacion(dataframe, grafica=True, matrix=False, tamaño =(12,8)):\n",
        "    '''Devuelve la matriz de correlación de un dataframe\n",
        "    y sí grafica=True, muestra un mapa de calor de la matriz de correlación'''\n",
        "    corr=dataframe.corr()                   \n",
        "    if grafica==True:\n",
        "      fig = plt.figure(figsize = tamaño)\n",
        "      ax = sns.heatmap(corr,\n",
        "                       vmin = -1,\n",
        "                       vmax = 1,\n",
        "                       center = 0,\n",
        "                       cmap = \"coolwarm\", \n",
        "                       annot = True,\n",
        "                       fmt=\".2f\",\n",
        "                       square = True)\n",
        "      ax.set_xticklabels(ax.get_xticklabels(), \n",
        "                         rotation = 45,\n",
        "                         horizontalalignment ='right')\n",
        "    if matrix==True:\n",
        "      return corr"
      ],
      "execution_count": 2,
      "outputs": []
    },
    {
      "cell_type": "code",
      "metadata": {
        "id": "VgaNjbAy4rZM"
      },
      "source": [
        "def describe_datos(df):\n",
        "  unicos =[]\n",
        "  for col in df:\n",
        "    unicos.append(df[col].unique())\n",
        "  unicos = pd.Series(unicos, index=df.columns)\n",
        "  descripcion = pd.concat([df.dtypes, len(df)-df.isna().sum(),df.nunique(),unicos], axis=1)\n",
        "  descripcion.columns = ['dtypes', 'not-null','nunique','unique' ]\n",
        "  return(descripcion)"
      ],
      "execution_count": 3,
      "outputs": []
    },
    {
      "cell_type": "markdown",
      "metadata": {
        "id": "9Q5ypE6bJgM1"
      },
      "source": [
        "# Lectura datos y selección de características"
      ]
    },
    {
      "cell_type": "markdown",
      "metadata": {
        "id": "IUh34hn1djfG"
      },
      "source": [
        "__Cargar etiquetas__"
      ]
    },
    {
      "cell_type": "code",
      "metadata": {
        "id": "vP_eKMyawPDl",
        "colab": {
          "base_uri": "https://localhost:8080/",
          "height": 195
        },
        "outputId": "c7715106-d811-4fb5-946a-9bd97da11cca"
      },
      "source": [
        "# Variables respuesta\n",
        "Ys = pd.read_csv('drive/My Drive/Datos/ParisFireBrigade/y_train.csv', \n",
        "                     index_col=[0], sep=',')\n",
        "print(Ys.shape)\n",
        "Ys.head(2)"
      ],
      "execution_count": 4,
      "outputs": [
        {
          "output_type": "stream",
          "name": "stdout",
          "text": [
            "(219337, 3)\n"
          ]
        },
        {
          "output_type": "execute_result",
          "data": {
            "text/html": [
              "<div>\n",
              "<style scoped>\n",
              "    .dataframe tbody tr th:only-of-type {\n",
              "        vertical-align: middle;\n",
              "    }\n",
              "\n",
              "    .dataframe tbody tr th {\n",
              "        vertical-align: top;\n",
              "    }\n",
              "\n",
              "    .dataframe thead th {\n",
              "        text-align: right;\n",
              "    }\n",
              "</style>\n",
              "<table border=\"1\" class=\"dataframe\">\n",
              "  <thead>\n",
              "    <tr style=\"text-align: right;\">\n",
              "      <th></th>\n",
              "      <th>delta selection-departure</th>\n",
              "      <th>delta departure-presentation</th>\n",
              "      <th>delta selection-presentation</th>\n",
              "    </tr>\n",
              "    <tr>\n",
              "      <th>emergency vehicle selection</th>\n",
              "      <th></th>\n",
              "      <th></th>\n",
              "      <th></th>\n",
              "    </tr>\n",
              "  </thead>\n",
              "  <tbody>\n",
              "    <tr>\n",
              "      <th>5105452</th>\n",
              "      <td>86</td>\n",
              "      <td>324</td>\n",
              "      <td>410</td>\n",
              "    </tr>\n",
              "    <tr>\n",
              "      <th>4720915</th>\n",
              "      <td>164</td>\n",
              "      <td>297</td>\n",
              "      <td>461</td>\n",
              "    </tr>\n",
              "  </tbody>\n",
              "</table>\n",
              "</div>"
            ],
            "text/plain": [
              "                             delta selection-departure  ...  delta selection-presentation\n",
              "emergency vehicle selection                             ...                              \n",
              "5105452                                             86  ...                           410\n",
              "4720915                                            164  ...                           461\n",
              "\n",
              "[2 rows x 3 columns]"
            ]
          },
          "metadata": {},
          "execution_count": 4
        }
      ]
    },
    {
      "cell_type": "code",
      "metadata": {
        "id": "KZkI9JgkVSQP",
        "colab": {
          "base_uri": "https://localhost:8080/"
        },
        "outputId": "f716e89b-e322-4ccc-f42b-39fde302d1bc"
      },
      "source": [
        "# Se puede verificar si la última columna es la suma de las otras dos\n",
        "(Ys.iloc[:,0] + Ys.iloc[:,1] == Ys.iloc[:,2]).sum()==len(Ys)"
      ],
      "execution_count": 5,
      "outputs": [
        {
          "output_type": "execute_result",
          "data": {
            "text/plain": [
              "True"
            ]
          },
          "metadata": {},
          "execution_count": 5
        }
      ]
    },
    {
      "cell_type": "markdown",
      "metadata": {
        "id": "q5-Wdb0cU6fT"
      },
      "source": [
        "Nos vamos a concentrar en el tiempo desde la salida del vehículo hasta la presentación en el lugar del siniestro"
      ]
    },
    {
      "cell_type": "code",
      "metadata": {
        "id": "_He9t8gG3Nhp",
        "colab": {
          "base_uri": "https://localhost:8080/"
        },
        "outputId": "d9f7e1b6-59af-4565-d9da-12cf7ea07193"
      },
      "source": [
        "Y = Ys['delta departure-presentation']\n",
        "Y.describe()"
      ],
      "execution_count": 6,
      "outputs": [
        {
          "output_type": "execute_result",
          "data": {
            "text/plain": [
              "count    219337.000000\n",
              "mean        356.161026\n",
              "std         228.381939\n",
              "min           1.000000\n",
              "25%         231.000000\n",
              "50%         319.000000\n",
              "75%         434.000000\n",
              "max       22722.000000\n",
              "Name: delta departure-presentation, dtype: float64"
            ]
          },
          "metadata": {},
          "execution_count": 6
        }
      ]
    },
    {
      "cell_type": "code",
      "metadata": {
        "id": "Ah9Rj9iE57BK",
        "outputId": "6428719e-9b4e-46f8-9534-1016ecabf136",
        "colab": {
          "base_uri": "https://localhost:8080/",
          "height": 269
        }
      },
      "source": [
        "plt.figure(figsize=(5,4))\n",
        "sns.boxplot(y=Y, showfliers=True)"
      ],
      "execution_count": 7,
      "outputs": [
        {
          "output_type": "execute_result",
          "data": {
            "text/plain": [
              "<matplotlib.axes._subplots.AxesSubplot at 0x7fc33d57bd90>"
            ]
          },
          "metadata": {},
          "execution_count": 7
        },
        {
          "output_type": "display_data",
          "data": {
            "image/png": "[encoded data removed]",
            "text/plain": [
              "<Figure size 360x288 with 1 Axes>"
            ]
          },
          "metadata": {
            "needs_background": "light"
          }
        }
      ]
    },
    {
      "cell_type": "code",
      "metadata": {
        "id": "VehaFlgGQCTN",
        "colab": {
          "base_uri": "https://localhost:8080/",
          "height": 279
        },
        "outputId": "22e8bb14-da32-486f-998a-8fca923dd324"
      },
      "source": [
        "plt.figure(figsize=(7,4))\n",
        "sns.histplot(Y, bins=200,  kde=True )\n",
        "plt.show()"
      ],
      "execution_count": 8,
      "outputs": [
        {
          "output_type": "display_data",
          "data": {
            "image/png": "[encoded data removed]",
            "text/plain": [
              "<Figure size 504x288 with 1 Axes>"
            ]
          },
          "metadata": {
            "needs_background": "light"
          }
        }
      ]
    },
    {
      "cell_type": "markdown",
      "metadata": {
        "id": "0PmhXhvC6LKn"
      },
      "source": [
        "__Cargar características__"
      ]
    },
    {
      "cell_type": "code",
      "metadata": {
        "id": "G1ktHn7nET0L",
        "colab": {
          "base_uri": "https://localhost:8080/",
          "height": 389
        },
        "outputId": "3331761f-4f87-4b54-dd4f-4ebde14fd97d"
      },
      "source": [
        "# Conjunto de caracteristicas (X)\n",
        "X = pd.read_csv('drive/My Drive/Datos/ParisFireBrigade/x_train.csv', \n",
        "                sep=',', index_col=[0], parse_dates=['selection time'] )\n",
        "print(X.shape)\n",
        "X.head(2)"
      ],
      "execution_count": 9,
      "outputs": [
        {
          "output_type": "stream",
          "name": "stdout",
          "text": [
            "(219337, 25)\n"
          ]
        },
        {
          "output_type": "execute_result",
          "data": {
            "text/html": [
              "<div>\n",
              "<style scoped>\n",
              "    .dataframe tbody tr th:only-of-type {\n",
              "        vertical-align: middle;\n",
              "    }\n",
              "\n",
              "    .dataframe tbody tr th {\n",
              "        vertical-align: top;\n",
              "    }\n",
              "\n",
              "    .dataframe thead th {\n",
              "        text-align: right;\n",
              "    }\n",
              "</style>\n",
              "<table border=\"1\" class=\"dataframe\">\n",
              "  <thead>\n",
              "    <tr style=\"text-align: right;\">\n",
              "      <th></th>\n",
              "      <th>intervention</th>\n",
              "      <th>alert reason category</th>\n",
              "      <th>alert reason</th>\n",
              "      <th>intervention on public roads</th>\n",
              "      <th>floor</th>\n",
              "      <th>location of the event</th>\n",
              "      <th>longitude intervention</th>\n",
              "      <th>latitude intervention</th>\n",
              "      <th>emergency vehicle</th>\n",
              "      <th>emergency vehicle type</th>\n",
              "      <th>rescue center</th>\n",
              "      <th>selection time</th>\n",
              "      <th>date key sélection</th>\n",
              "      <th>time key sélection</th>\n",
              "      <th>status preceding selection</th>\n",
              "      <th>delta status preceding selection-selection</th>\n",
              "      <th>departed from its rescue center</th>\n",
              "      <th>longitude before departure</th>\n",
              "      <th>latitude before departure</th>\n",
              "      <th>delta position gps previous departure-departure</th>\n",
              "      <th>GPS tracks departure-presentation</th>\n",
              "      <th>GPS tracks datetime departure-presentation</th>\n",
              "      <th>OSRM response</th>\n",
              "      <th>OSRM estimated distance</th>\n",
              "      <th>OSRM estimated duration</th>\n",
              "    </tr>\n",
              "    <tr>\n",
              "      <th>emergency vehicle selection</th>\n",
              "      <th></th>\n",
              "      <th></th>\n",
              "      <th></th>\n",
              "      <th></th>\n",
              "      <th></th>\n",
              "      <th></th>\n",
              "      <th></th>\n",
              "      <th></th>\n",
              "      <th></th>\n",
              "      <th></th>\n",
              "      <th></th>\n",
              "      <th></th>\n",
              "      <th></th>\n",
              "      <th></th>\n",
              "      <th></th>\n",
              "      <th></th>\n",
              "      <th></th>\n",
              "      <th></th>\n",
              "      <th></th>\n",
              "      <th></th>\n",
              "      <th></th>\n",
              "      <th></th>\n",
              "      <th></th>\n",
              "      <th></th>\n",
              "      <th></th>\n",
              "    </tr>\n",
              "  </thead>\n",
              "  <tbody>\n",
              "    <tr>\n",
              "      <th>5105452</th>\n",
              "      <td>13264186</td>\n",
              "      <td>3</td>\n",
              "      <td>2162</td>\n",
              "      <td>0</td>\n",
              "      <td>0</td>\n",
              "      <td>148.0</td>\n",
              "      <td>2.284796</td>\n",
              "      <td>48.879669</td>\n",
              "      <td>4511</td>\n",
              "      <td>VSAV BSPP</td>\n",
              "      <td>2447</td>\n",
              "      <td>2018-07-08 19:02:43.990</td>\n",
              "      <td>20180708</td>\n",
              "      <td>190243</td>\n",
              "      <td>Rentré</td>\n",
              "      <td>2027</td>\n",
              "      <td>1</td>\n",
              "      <td>2.288053</td>\n",
              "      <td>48.884698</td>\n",
              "      <td>NaN</td>\n",
              "      <td>2.289000,48.885113;2.288861,48.884998;2.288000...</td>\n",
              "      <td>2018-07-08 19:04:43;2018-07-08 19:05:55;2018-0...</td>\n",
              "      <td>{\"code\":\"Ok\",\"routes\":[{\"geometry\":\"}yjiH}x}L_...</td>\n",
              "      <td>952.5</td>\n",
              "      <td>105.8</td>\n",
              "    </tr>\n",
              "    <tr>\n",
              "      <th>4720915</th>\n",
              "      <td>12663715</td>\n",
              "      <td>3</td>\n",
              "      <td>2124</td>\n",
              "      <td>0</td>\n",
              "      <td>1</td>\n",
              "      <td>136.0</td>\n",
              "      <td>2.247464</td>\n",
              "      <td>48.818191</td>\n",
              "      <td>4327</td>\n",
              "      <td>PSE</td>\n",
              "      <td>2464</td>\n",
              "      <td>2018-01-04 09:02:59.470</td>\n",
              "      <td>20180104</td>\n",
              "      <td>90259</td>\n",
              "      <td>Rentré</td>\n",
              "      <td>28233</td>\n",
              "      <td>1</td>\n",
              "      <td>2.268519</td>\n",
              "      <td>48.823958</td>\n",
              "      <td>NaN</td>\n",
              "      <td>NaN</td>\n",
              "      <td>NaN</td>\n",
              "      <td>{\"code\":\"Ok\",\"routes\":[{\"geometry\":\"u|~hHy`zL_...</td>\n",
              "      <td>2238.5</td>\n",
              "      <td>243.2</td>\n",
              "    </tr>\n",
              "  </tbody>\n",
              "</table>\n",
              "</div>"
            ],
            "text/plain": [
              "                             intervention  ...  OSRM estimated duration\n",
              "emergency vehicle selection                ...                         \n",
              "5105452                          13264186  ...                    105.8\n",
              "4720915                          12663715  ...                    243.2\n",
              "\n",
              "[2 rows x 25 columns]"
            ]
          },
          "metadata": {},
          "execution_count": 9
        }
      ]
    },
    {
      "cell_type": "code",
      "metadata": {
        "colab": {
          "base_uri": "https://localhost:8080/",
          "height": 920
        },
        "id": "Qjx_1U01L0j1",
        "outputId": "d1df7b2e-25c3-4b48-d25f-292788aa8b68"
      },
      "source": [
        "describe_datos(X)"
      ],
      "execution_count": 10,
      "outputs": [
        {
          "output_type": "execute_result",
          "data": {
            "text/html": [
              "<div>\n",
              "<style scoped>\n",
              "    .dataframe tbody tr th:only-of-type {\n",
              "        vertical-align: middle;\n",
              "    }\n",
              "\n",
              "    .dataframe tbody tr th {\n",
              "        vertical-align: top;\n",
              "    }\n",
              "\n",
              "    .dataframe thead th {\n",
              "        text-align: right;\n",
              "    }\n",
              "</style>\n",
              "<table border=\"1\" class=\"dataframe\">\n",
              "  <thead>\n",
              "    <tr style=\"text-align: right;\">\n",
              "      <th></th>\n",
              "      <th>dtypes</th>\n",
              "      <th>not-null</th>\n",
              "      <th>nunique</th>\n",
              "      <th>unique</th>\n",
              "    </tr>\n",
              "  </thead>\n",
              "  <tbody>\n",
              "    <tr>\n",
              "      <th>intervention</th>\n",
              "      <td>int64</td>\n",
              "      <td>219337</td>\n",
              "      <td>200894</td>\n",
              "      <td>[13264186, 12663715, 13675521, 12695745, 13698...</td>\n",
              "    </tr>\n",
              "    <tr>\n",
              "      <th>alert reason category</th>\n",
              "      <td>int64</td>\n",
              "      <td>219337</td>\n",
              "      <td>9</td>\n",
              "      <td>[3, 9, 6, 1, 2, 5, 7, 4, 8]</td>\n",
              "    </tr>\n",
              "    <tr>\n",
              "      <th>alert reason</th>\n",
              "      <td>int64</td>\n",
              "      <td>219337</td>\n",
              "      <td>126</td>\n",
              "      <td>[2162, 2124, 2163, 2112, 2711, 2113, 2135, 212...</td>\n",
              "    </tr>\n",
              "    <tr>\n",
              "      <th>intervention on public roads</th>\n",
              "      <td>int64</td>\n",
              "      <td>219337</td>\n",
              "      <td>2</td>\n",
              "      <td>[0, 1]</td>\n",
              "    </tr>\n",
              "    <tr>\n",
              "      <th>floor</th>\n",
              "      <td>int64</td>\n",
              "      <td>219337</td>\n",
              "      <td>45</td>\n",
              "      <td>[0, 1, 2, 3, 4, 5, -1, 8, 11, 16, 6, 7, 12, -3...</td>\n",
              "    </tr>\n",
              "    <tr>\n",
              "      <th>location of the event</th>\n",
              "      <td>float64</td>\n",
              "      <td>206627</td>\n",
              "      <td>210</td>\n",
              "      <td>[148.0, 136.0, 139.0, 104.0, 157.0, 199.0, 140...</td>\n",
              "    </tr>\n",
              "    <tr>\n",
              "      <th>longitude intervention</th>\n",
              "      <td>float64</td>\n",
              "      <td>219337</td>\n",
              "      <td>83484</td>\n",
              "      <td>[2.284796, 2.247464, 2.2583279999999997, 2.393...</td>\n",
              "    </tr>\n",
              "    <tr>\n",
              "      <th>latitude intervention</th>\n",
              "      <td>float64</td>\n",
              "      <td>219337</td>\n",
              "      <td>74503</td>\n",
              "      <td>[48.879669, 48.818191, 48.836759, 48.776526000...</td>\n",
              "    </tr>\n",
              "    <tr>\n",
              "      <th>emergency vehicle</th>\n",
              "      <td>int64</td>\n",
              "      <td>219337</td>\n",
              "      <td>749</td>\n",
              "      <td>[4511, 4327, 4509, 5731, 5623, 4319, 4215, 588...</td>\n",
              "    </tr>\n",
              "    <tr>\n",
              "      <th>emergency vehicle type</th>\n",
              "      <td>object</td>\n",
              "      <td>219337</td>\n",
              "      <td>75</td>\n",
              "      <td>[VSAV BSPP, PSE, VLR BSPP, EPAN, EPA BSPP, FPT...</td>\n",
              "    </tr>\n",
              "    <tr>\n",
              "      <th>rescue center</th>\n",
              "      <td>int64</td>\n",
              "      <td>219337</td>\n",
              "      <td>94</td>\n",
              "      <td>[2447, 2464, 2438, 2510, 2478, 2491, 2448, 248...</td>\n",
              "    </tr>\n",
              "    <tr>\n",
              "      <th>selection time</th>\n",
              "      <td>datetime64[ns]</td>\n",
              "      <td>219337</td>\n",
              "      <td>219285</td>\n",
              "      <td>[2018-07-08T19:02:43.990000000, 2018-01-04T09:...</td>\n",
              "    </tr>\n",
              "    <tr>\n",
              "      <th>date key sélection</th>\n",
              "      <td>int64</td>\n",
              "      <td>219337</td>\n",
              "      <td>335</td>\n",
              "      <td>[20180708, 20180104, 20181116, 20180115, 20181...</td>\n",
              "    </tr>\n",
              "    <tr>\n",
              "      <th>time key sélection</th>\n",
              "      <td>int64</td>\n",
              "      <td>219337</td>\n",
              "      <td>76273</td>\n",
              "      <td>[190243, 90259, 101147, 3846, 3426, 222327, 81...</td>\n",
              "    </tr>\n",
              "    <tr>\n",
              "      <th>status preceding selection</th>\n",
              "      <td>object</td>\n",
              "      <td>219337</td>\n",
              "      <td>2</td>\n",
              "      <td>[Rentré, Disponible]</td>\n",
              "    </tr>\n",
              "    <tr>\n",
              "      <th>delta status preceding selection-selection</th>\n",
              "      <td>int64</td>\n",
              "      <td>219337</td>\n",
              "      <td>50175</td>\n",
              "      <td>[2027, 28233, 1981, 1842, 2716, 5592, 37282, 5...</td>\n",
              "    </tr>\n",
              "    <tr>\n",
              "      <th>departed from its rescue center</th>\n",
              "      <td>int64</td>\n",
              "      <td>219337</td>\n",
              "      <td>2</td>\n",
              "      <td>[1, 0]</td>\n",
              "    </tr>\n",
              "    <tr>\n",
              "      <th>longitude before departure</th>\n",
              "      <td>float64</td>\n",
              "      <td>219337</td>\n",
              "      <td>3093</td>\n",
              "      <td>[2.2880529999999997, 2.268519, 2.272944, 2.388...</td>\n",
              "    </tr>\n",
              "    <tr>\n",
              "      <th>latitude before departure</th>\n",
              "      <td>float64</td>\n",
              "      <td>219337</td>\n",
              "      <td>2798</td>\n",
              "      <td>[48.884698, 48.82395800000001, 48.850497999999...</td>\n",
              "    </tr>\n",
              "    <tr>\n",
              "      <th>delta position gps previous departure-departure</th>\n",
              "      <td>float64</td>\n",
              "      <td>4903</td>\n",
              "      <td>40</td>\n",
              "      <td>[nan, 33.0, 34.0, 25.0, 9.0, 37.0, 13.0, 1.0, ...</td>\n",
              "    </tr>\n",
              "    <tr>\n",
              "      <th>GPS tracks departure-presentation</th>\n",
              "      <td>object</td>\n",
              "      <td>65804</td>\n",
              "      <td>65758</td>\n",
              "      <td>[2.289000,48.885113;2.288861,48.884998;2.28800...</td>\n",
              "    </tr>\n",
              "    <tr>\n",
              "      <th>GPS tracks datetime departure-presentation</th>\n",
              "      <td>object</td>\n",
              "      <td>65804</td>\n",
              "      <td>65791</td>\n",
              "      <td>[2018-07-08 19:04:43;2018-07-08 19:05:55;2018-...</td>\n",
              "    </tr>\n",
              "    <tr>\n",
              "      <th>OSRM response</th>\n",
              "      <td>object</td>\n",
              "      <td>219337</td>\n",
              "      <td>126454</td>\n",
              "      <td>[{\"code\":\"Ok\",\"routes\":[{\"geometry\":\"}yjiH}x}L...</td>\n",
              "    </tr>\n",
              "    <tr>\n",
              "      <th>OSRM estimated distance</th>\n",
              "      <td>float64</td>\n",
              "      <td>219337</td>\n",
              "      <td>48461</td>\n",
              "      <td>[952.5, 2238.5, 3026.4, 1934.2, 2706.7, 1685.8...</td>\n",
              "    </tr>\n",
              "    <tr>\n",
              "      <th>OSRM estimated duration</th>\n",
              "      <td>float64</td>\n",
              "      <td>219337</td>\n",
              "      <td>8236</td>\n",
              "      <td>[105.8, 243.2, 295.4, 166.6, 262.6, 187.7, 301...</td>\n",
              "    </tr>\n",
              "  </tbody>\n",
              "</table>\n",
              "</div>"
            ],
            "text/plain": [
              "                                                         dtypes  ...                                             unique\n",
              "intervention                                              int64  ...  [13264186, 12663715, 13675521, 12695745, 13698...\n",
              "alert reason category                                     int64  ...                        [3, 9, 6, 1, 2, 5, 7, 4, 8]\n",
              "alert reason                                              int64  ...  [2162, 2124, 2163, 2112, 2711, 2113, 2135, 212...\n",
              "intervention on public roads                              int64  ...                                             [0, 1]\n",
              "floor                                                     int64  ...  [0, 1, 2, 3, 4, 5, -1, 8, 11, 16, 6, 7, 12, -3...\n",
              "location of the event                                   float64  ...  [148.0, 136.0, 139.0, 104.0, 157.0, 199.0, 140...\n",
              "longitude intervention                                  float64  ...  [2.284796, 2.247464, 2.2583279999999997, 2.393...\n",
              "latitude intervention                                   float64  ...  [48.879669, 48.818191, 48.836759, 48.776526000...\n",
              "emergency vehicle                                         int64  ...  [4511, 4327, 4509, 5731, 5623, 4319, 4215, 588...\n",
              "emergency vehicle type                                   object  ...  [VSAV BSPP, PSE, VLR BSPP, EPAN, EPA BSPP, FPT...\n",
              "rescue center                                             int64  ...  [2447, 2464, 2438, 2510, 2478, 2491, 2448, 248...\n",
              "selection time                                   datetime64[ns]  ...  [2018-07-08T19:02:43.990000000, 2018-01-04T09:...\n",
              "date key sélection                                        int64  ...  [20180708, 20180104, 20181116, 20180115, 20181...\n",
              "time key sélection                                        int64  ...  [190243, 90259, 101147, 3846, 3426, 222327, 81...\n",
              "status preceding selection                               object  ...                               [Rentré, Disponible]\n",
              "delta status preceding selection-selection                int64  ...  [2027, 28233, 1981, 1842, 2716, 5592, 37282, 5...\n",
              "departed from its rescue center                           int64  ...                                             [1, 0]\n",
              "longitude before departure                              float64  ...  [2.2880529999999997, 2.268519, 2.272944, 2.388...\n",
              "latitude before departure                               float64  ...  [48.884698, 48.82395800000001, 48.850497999999...\n",
              "delta position gps previous departure-departure         float64  ...  [nan, 33.0, 34.0, 25.0, 9.0, 37.0, 13.0, 1.0, ...\n",
              "GPS tracks departure-presentation                        object  ...  [2.289000,48.885113;2.288861,48.884998;2.28800...\n",
              "GPS tracks datetime departure-presentation               object  ...  [2018-07-08 19:04:43;2018-07-08 19:05:55;2018-...\n",
              "OSRM response                                            object  ...  [{\"code\":\"Ok\",\"routes\":[{\"geometry\":\"}yjiH}x}L...\n",
              "OSRM estimated distance                                 float64  ...  [952.5, 2238.5, 3026.4, 1934.2, 2706.7, 1685.8...\n",
              "OSRM estimated duration                                 float64  ...  [105.8, 243.2, 295.4, 166.6, 262.6, 187.7, 301...\n",
              "\n",
              "[25 rows x 4 columns]"
            ]
          },
          "metadata": {},
          "execution_count": 10
        }
      ]
    },
    {
      "cell_type": "markdown",
      "metadata": {
        "id": "V6tON9fFMKNe"
      },
      "source": [
        "existen más de una selección de veículos por intervensión, el análisis lo vamos a hacer por vehículo"
      ]
    },
    {
      "cell_type": "code",
      "metadata": {
        "id": "qYDkmd3bxquP",
        "colab": {
          "base_uri": "https://localhost:8080/"
        },
        "outputId": "dd76bc2a-d9e6-4152-e6b0-0396e444d6ef"
      },
      "source": [
        "#Borrar columnas que no utilizaremos\n",
        "\n",
        "col_borrar=['intervention',  #identificador de la intervención\n",
        "            'emergency vehicle',  #id 749 vehículo de emergencia, que están agrupada en 'emergency vehicle type'\n",
        "            'alert reason', # 126 categorías, que están resumidas en 'alert reason category'\n",
        "            \n",
        "            # Variables geográficas\n",
        "            'OSRM response', #rutas\n",
        "            'GPS tracks departure-presentation', #rutas\n",
        "            'GPS tracks datetime departure-presentation', #rutas\n",
        "            'longitude intervention', 'latitude intervention', #coordenadas\n",
        "            'longitude before departure',  #coordenadas\n",
        "            'latitude before departure',    #coordenadas\n",
        "\n",
        "            # Redundantes\n",
        "            'date key sélection', 'time key sélection', # redundantes con 'selection time'\n",
        "\n",
        "            #variable no relaccionadas con delta departure-presentation\n",
        "            'status preceding selection',  \n",
        "            'rescue center', # id 94 centros de rescate, estacionamiento de los vehícuos\n",
        "            'delta status preceding selection-selection',\n",
        "            'departed from its rescue center',\n",
        "            'delta position gps previous departure-departure'\n",
        "            ]\n",
        "X = X.drop(columns= col_borrar)\n",
        "\n",
        "X.info()"
      ],
      "execution_count": 11,
      "outputs": [
        {
          "output_type": "stream",
          "name": "stdout",
          "text": [
            "<class 'pandas.core.frame.DataFrame'>\n",
            "Int64Index: 219337 entries, 5105452 to 4868867\n",
            "Data columns (total 8 columns):\n",
            " #   Column                        Non-Null Count   Dtype         \n",
            "---  ------                        --------------   -----         \n",
            " 0   alert reason category         219337 non-null  int64         \n",
            " 1   intervention on public roads  219337 non-null  int64         \n",
            " 2   floor                         219337 non-null  int64         \n",
            " 3   location of the event         206627 non-null  float64       \n",
            " 4   emergency vehicle type        219337 non-null  object        \n",
            " 5   selection time                219337 non-null  datetime64[ns]\n",
            " 6   OSRM estimated distance       219337 non-null  float64       \n",
            " 7   OSRM estimated duration       219337 non-null  float64       \n",
            "dtypes: datetime64[ns](1), float64(3), int64(3), object(1)\n",
            "memory usage: 15.1+ MB\n"
          ]
        }
      ]
    },
    {
      "cell_type": "markdown",
      "metadata": {
        "id": "LCjTqJpvAvMq"
      },
      "source": [
        "__Unir caracteristicas con étiquetas__"
      ]
    },
    {
      "cell_type": "code",
      "metadata": {
        "id": "Ux4dTQm0AvMr",
        "colab": {
          "base_uri": "https://localhost:8080/",
          "height": 265
        },
        "outputId": "ec79b1a0-316d-45ec-c48e-3fc048433cba"
      },
      "source": [
        "df=pd.concat([X,Y], axis=1)\n",
        "print(df.shape)\n",
        "df.head(2)"
      ],
      "execution_count": 12,
      "outputs": [
        {
          "output_type": "stream",
          "name": "stdout",
          "text": [
            "(219337, 9)\n"
          ]
        },
        {
          "output_type": "execute_result",
          "data": {
            "text/html": [
              "<div>\n",
              "<style scoped>\n",
              "    .dataframe tbody tr th:only-of-type {\n",
              "        vertical-align: middle;\n",
              "    }\n",
              "\n",
              "    .dataframe tbody tr th {\n",
              "        vertical-align: top;\n",
              "    }\n",
              "\n",
              "    .dataframe thead th {\n",
              "        text-align: right;\n",
              "    }\n",
              "</style>\n",
              "<table border=\"1\" class=\"dataframe\">\n",
              "  <thead>\n",
              "    <tr style=\"text-align: right;\">\n",
              "      <th></th>\n",
              "      <th>alert reason category</th>\n",
              "      <th>intervention on public roads</th>\n",
              "      <th>floor</th>\n",
              "      <th>location of the event</th>\n",
              "      <th>emergency vehicle type</th>\n",
              "      <th>selection time</th>\n",
              "      <th>OSRM estimated distance</th>\n",
              "      <th>OSRM estimated duration</th>\n",
              "      <th>delta departure-presentation</th>\n",
              "    </tr>\n",
              "    <tr>\n",
              "      <th>emergency vehicle selection</th>\n",
              "      <th></th>\n",
              "      <th></th>\n",
              "      <th></th>\n",
              "      <th></th>\n",
              "      <th></th>\n",
              "      <th></th>\n",
              "      <th></th>\n",
              "      <th></th>\n",
              "      <th></th>\n",
              "    </tr>\n",
              "  </thead>\n",
              "  <tbody>\n",
              "    <tr>\n",
              "      <th>5105452</th>\n",
              "      <td>3</td>\n",
              "      <td>0</td>\n",
              "      <td>0</td>\n",
              "      <td>148.0</td>\n",
              "      <td>VSAV BSPP</td>\n",
              "      <td>2018-07-08 19:02:43.990</td>\n",
              "      <td>952.5</td>\n",
              "      <td>105.8</td>\n",
              "      <td>324</td>\n",
              "    </tr>\n",
              "    <tr>\n",
              "      <th>4720915</th>\n",
              "      <td>3</td>\n",
              "      <td>0</td>\n",
              "      <td>1</td>\n",
              "      <td>136.0</td>\n",
              "      <td>PSE</td>\n",
              "      <td>2018-01-04 09:02:59.470</td>\n",
              "      <td>2238.5</td>\n",
              "      <td>243.2</td>\n",
              "      <td>297</td>\n",
              "    </tr>\n",
              "  </tbody>\n",
              "</table>\n",
              "</div>"
            ],
            "text/plain": [
              "                             alert reason category  ...  delta departure-presentation\n",
              "emergency vehicle selection                         ...                              \n",
              "5105452                                          3  ...                           324\n",
              "4720915                                          3  ...                           297\n",
              "\n",
              "[2 rows x 9 columns]"
            ]
          },
          "metadata": {},
          "execution_count": 12
        }
      ]
    },
    {
      "cell_type": "markdown",
      "metadata": {
        "id": "iMEaKQ1dfvbT"
      },
      "source": [
        "# Idetificación del tipo de variable de cada columna"
      ]
    },
    {
      "cell_type": "markdown",
      "metadata": {
        "id": "6cJRa4_XaIiB"
      },
      "source": [
        "Comparamos el tipo de cada columna con la documentación de los parámetros de entrada en [la documentación provista por el Challenge](https://paris-fire-brigade.github.io/data-challenge/challenge.html)"
      ]
    },
    {
      "cell_type": "code",
      "metadata": {
        "id": "Z58ZKbpMg0LF",
        "colab": {
          "base_uri": "https://localhost:8080/"
        },
        "outputId": "b09e0ddc-63af-4e43-e4ee-34be4a7f3447"
      },
      "source": [
        "df.dtypes"
      ],
      "execution_count": 13,
      "outputs": [
        {
          "output_type": "execute_result",
          "data": {
            "text/plain": [
              "alert reason category                    int64\n",
              "intervention on public roads             int64\n",
              "floor                                    int64\n",
              "location of the event                  float64\n",
              "emergency vehicle type                  object\n",
              "selection time                  datetime64[ns]\n",
              "OSRM estimated distance                float64\n",
              "OSRM estimated duration                float64\n",
              "delta departure-presentation             int64\n",
              "dtype: object"
            ]
          },
          "metadata": {},
          "execution_count": 13
        }
      ]
    },
    {
      "cell_type": "code",
      "metadata": {
        "id": "1ob8FjgWdV0F",
        "colab": {
          "base_uri": "https://localhost:8080/",
          "height": 331
        },
        "outputId": "0b5c6ca1-4e36-41ea-d7dd-053deb208e00"
      },
      "source": [
        "categoricas=['alert reason category','location of the event',\n",
        "             'emergency vehicle type']\n",
        "df[categoricas] = df[categoricas].astype('object')\n",
        "\n",
        "df['intervention on public roads']=df['intervention on public roads'].astype('bool')\n",
        "describe_datos(df)"
      ],
      "execution_count": 14,
      "outputs": [
        {
          "output_type": "execute_result",
          "data": {
            "text/html": [
              "<div>\n",
              "<style scoped>\n",
              "    .dataframe tbody tr th:only-of-type {\n",
              "        vertical-align: middle;\n",
              "    }\n",
              "\n",
              "    .dataframe tbody tr th {\n",
              "        vertical-align: top;\n",
              "    }\n",
              "\n",
              "    .dataframe thead th {\n",
              "        text-align: right;\n",
              "    }\n",
              "</style>\n",
              "<table border=\"1\" class=\"dataframe\">\n",
              "  <thead>\n",
              "    <tr style=\"text-align: right;\">\n",
              "      <th></th>\n",
              "      <th>dtypes</th>\n",
              "      <th>not-null</th>\n",
              "      <th>nunique</th>\n",
              "      <th>unique</th>\n",
              "    </tr>\n",
              "  </thead>\n",
              "  <tbody>\n",
              "    <tr>\n",
              "      <th>alert reason category</th>\n",
              "      <td>object</td>\n",
              "      <td>219337</td>\n",
              "      <td>9</td>\n",
              "      <td>[3, 9, 6, 1, 2, 5, 7, 4, 8]</td>\n",
              "    </tr>\n",
              "    <tr>\n",
              "      <th>intervention on public roads</th>\n",
              "      <td>bool</td>\n",
              "      <td>219337</td>\n",
              "      <td>2</td>\n",
              "      <td>[False, True]</td>\n",
              "    </tr>\n",
              "    <tr>\n",
              "      <th>floor</th>\n",
              "      <td>int64</td>\n",
              "      <td>219337</td>\n",
              "      <td>45</td>\n",
              "      <td>[0, 1, 2, 3, 4, 5, -1, 8, 11, 16, 6, 7, 12, -3...</td>\n",
              "    </tr>\n",
              "    <tr>\n",
              "      <th>location of the event</th>\n",
              "      <td>object</td>\n",
              "      <td>206627</td>\n",
              "      <td>210</td>\n",
              "      <td>[148.0, 136.0, 139.0, 104.0, 157.0, 199.0, 140...</td>\n",
              "    </tr>\n",
              "    <tr>\n",
              "      <th>emergency vehicle type</th>\n",
              "      <td>object</td>\n",
              "      <td>219337</td>\n",
              "      <td>75</td>\n",
              "      <td>[VSAV BSPP, PSE, VLR BSPP, EPAN, EPA BSPP, FPT...</td>\n",
              "    </tr>\n",
              "    <tr>\n",
              "      <th>selection time</th>\n",
              "      <td>datetime64[ns]</td>\n",
              "      <td>219337</td>\n",
              "      <td>219285</td>\n",
              "      <td>[2018-07-08T19:02:43.990000000, 2018-01-04T09:...</td>\n",
              "    </tr>\n",
              "    <tr>\n",
              "      <th>OSRM estimated distance</th>\n",
              "      <td>float64</td>\n",
              "      <td>219337</td>\n",
              "      <td>48461</td>\n",
              "      <td>[952.5, 2238.5, 3026.4, 1934.2, 2706.7, 1685.8...</td>\n",
              "    </tr>\n",
              "    <tr>\n",
              "      <th>OSRM estimated duration</th>\n",
              "      <td>float64</td>\n",
              "      <td>219337</td>\n",
              "      <td>8236</td>\n",
              "      <td>[105.8, 243.2, 295.4, 166.6, 262.6, 187.7, 301...</td>\n",
              "    </tr>\n",
              "    <tr>\n",
              "      <th>delta departure-presentation</th>\n",
              "      <td>int64</td>\n",
              "      <td>219337</td>\n",
              "      <td>1909</td>\n",
              "      <td>[324, 297, 365, 160, 523, 419, 452, 404, 411, ...</td>\n",
              "    </tr>\n",
              "  </tbody>\n",
              "</table>\n",
              "</div>"
            ],
            "text/plain": [
              "                                      dtypes  ...                                             unique\n",
              "alert reason category                 object  ...                        [3, 9, 6, 1, 2, 5, 7, 4, 8]\n",
              "intervention on public roads            bool  ...                                      [False, True]\n",
              "floor                                  int64  ...  [0, 1, 2, 3, 4, 5, -1, 8, 11, 16, 6, 7, 12, -3...\n",
              "location of the event                 object  ...  [148.0, 136.0, 139.0, 104.0, 157.0, 199.0, 140...\n",
              "emergency vehicle type                object  ...  [VSAV BSPP, PSE, VLR BSPP, EPAN, EPA BSPP, FPT...\n",
              "selection time                datetime64[ns]  ...  [2018-07-08T19:02:43.990000000, 2018-01-04T09:...\n",
              "OSRM estimated distance              float64  ...  [952.5, 2238.5, 3026.4, 1934.2, 2706.7, 1685.8...\n",
              "OSRM estimated duration              float64  ...  [105.8, 243.2, 295.4, 166.6, 262.6, 187.7, 301...\n",
              "delta departure-presentation           int64  ...  [324, 297, 365, 160, 523, 419, 452, 404, 411, ...\n",
              "\n",
              "[9 rows x 4 columns]"
            ]
          },
          "metadata": {},
          "execution_count": 14
        }
      ]
    },
    {
      "cell_type": "markdown",
      "metadata": {
        "id": "6O_pqbiAT1dW"
      },
      "source": [
        "# Manejo de Valores Nulos"
      ]
    },
    {
      "cell_type": "code",
      "metadata": {
        "id": "7f58oHkpTnfo",
        "outputId": "baa410ca-1a00-4e4a-8612-711535e8662c",
        "colab": {
          "base_uri": "https://localhost:8080/"
        }
      },
      "source": [
        "df.info()"
      ],
      "execution_count": 15,
      "outputs": [
        {
          "output_type": "stream",
          "name": "stdout",
          "text": [
            "<class 'pandas.core.frame.DataFrame'>\n",
            "Int64Index: 219337 entries, 5105452 to 4868867\n",
            "Data columns (total 9 columns):\n",
            " #   Column                        Non-Null Count   Dtype         \n",
            "---  ------                        --------------   -----         \n",
            " 0   alert reason category         219337 non-null  object        \n",
            " 1   intervention on public roads  219337 non-null  bool          \n",
            " 2   floor                         219337 non-null  int64         \n",
            " 3   location of the event         206627 non-null  object        \n",
            " 4   emergency vehicle type        219337 non-null  object        \n",
            " 5   selection time                219337 non-null  datetime64[ns]\n",
            " 6   OSRM estimated distance       219337 non-null  float64       \n",
            " 7   OSRM estimated duration       219337 non-null  float64       \n",
            " 8   delta departure-presentation  219337 non-null  int64         \n",
            "dtypes: bool(1), datetime64[ns](1), float64(2), int64(2), object(3)\n",
            "memory usage: 15.3+ MB\n"
          ]
        }
      ]
    },
    {
      "cell_type": "code",
      "metadata": {
        "colab": {
          "base_uri": "https://localhost:8080/"
        },
        "id": "PtzQEHdD3ZLz",
        "outputId": "9a21967b-4c8a-40ed-fc9a-a5eed194d3ff"
      },
      "source": [
        "df.isna().sum()/len(df)*100  # porcentaje de valores nulos"
      ],
      "execution_count": 16,
      "outputs": [
        {
          "output_type": "execute_result",
          "data": {
            "text/plain": [
              "alert reason category           0.000000\n",
              "intervention on public roads    0.000000\n",
              "floor                           0.000000\n",
              "location of the event           5.794736\n",
              "emergency vehicle type          0.000000\n",
              "selection time                  0.000000\n",
              "OSRM estimated distance         0.000000\n",
              "OSRM estimated duration         0.000000\n",
              "delta departure-presentation    0.000000\n",
              "dtype: float64"
            ]
          },
          "metadata": {},
          "execution_count": 16
        }
      ]
    },
    {
      "cell_type": "code",
      "metadata": {
        "id": "sqVVZ-eLaa3j",
        "colab": {
          "base_uri": "https://localhost:8080/"
        },
        "outputId": "bfc8aa09-e616-48e8-f5c3-93d4bf540dfc"
      },
      "source": [
        "df['location of the event'].value_counts(dropna=False)/len(df)*100"
      ],
      "execution_count": 17,
      "outputs": [
        {
          "output_type": "execute_result",
          "data": {
            "text/plain": [
              "139.0    23.266024\n",
              "136.0    20.242823\n",
              "148.0    14.588054\n",
              "NaN       5.794736\n",
              "149.0     4.515882\n",
              "           ...    \n",
              "284.0     0.000456\n",
              "324.0     0.000456\n",
              "213.0     0.000456\n",
              "215.0     0.000456\n",
              "265.0     0.000456\n",
              "Name: location of the event, Length: 211, dtype: float64"
            ]
          },
          "metadata": {},
          "execution_count": 17
        }
      ]
    },
    {
      "cell_type": "markdown",
      "metadata": {
        "id": "Hv7xa4RRGVno"
      },
      "source": [
        "\n",
        "**Alternativas**\n",
        "- Borrar esos renglones, \n",
        "- borrar esa variable, \n",
        "- imputar valores:\n",
        "   - ¿remplazar por ceros?\n",
        "   - ¿reemplazar por una medida de tendencia central?\n",
        "   - ¿reemplazar con la predicción a partir de otro modelo de ml?\n",
        "   - ¿a parir del conocimiento que nos proporcionan las demás variables? "
      ]
    },
    {
      "cell_type": "markdown",
      "metadata": {
        "id": "T0UZuZFl5EJC"
      },
      "source": [
        "**¿los valores nulos son aleatorios? ¿se observa algún patrón? ¿borrar los renglónes con valores nulos impacta nuestro modelo?**\n"
      ]
    },
    {
      "cell_type": "code",
      "metadata": {
        "id": "1bsngQeV96BS",
        "colab": {
          "base_uri": "https://localhost:8080/",
          "height": 297
        },
        "outputId": "b123b430-74c0-403e-833c-da84be9d6814"
      },
      "source": [
        "#Distribución de la variable respuesta en registros con y sin valores nulos en \"location of the event\"\n",
        "df['nulos'] = np.where(df['location of the event'].isna(),1,0)\n",
        "\n",
        "sns.boxplot(x = 'nulos' , y = 'delta departure-presentation', data = df,showfliers=False)"
      ],
      "execution_count": 18,
      "outputs": [
        {
          "output_type": "execute_result",
          "data": {
            "text/plain": [
              "<matplotlib.axes._subplots.AxesSubplot at 0x7fc33e772590>"
            ]
          },
          "metadata": {},
          "execution_count": 18
        },
        {
          "output_type": "display_data",
          "data": {
            "image/png": "[encoded data removed]",
            "text/plain": [
              "<Figure size 432x288 with 1 Axes>"
            ]
          },
          "metadata": {
            "needs_background": "light"
          }
        }
      ]
    },
    {
      "cell_type": "markdown",
      "metadata": {
        "id": "OyPDoNMlOLZD"
      },
      "source": [
        "**¿Podemos imputar valores con el conocimiento que tenemos de los demás registros?**"
      ]
    },
    {
      "cell_type": "code",
      "metadata": {
        "colab": {
          "base_uri": "https://localhost:8080/",
          "height": 301
        },
        "id": "WicyHSYPKJDa",
        "outputId": "b4e738cf-b0ca-460a-ebe9-9b192ecd2c9e"
      },
      "source": [
        "tabla = pd.crosstab(df['alert reason category'],df['nulos'], normalize = 'columns')*100\n",
        "\n",
        "sns.heatmap(tabla,  vmin = 0, vmax = 100, cmap = \"coolwarm\", annot = True,\n",
        "            fmt=\".1f\")"
      ],
      "execution_count": 19,
      "outputs": [
        {
          "output_type": "execute_result",
          "data": {
            "text/plain": [
              "<matplotlib.axes._subplots.AxesSubplot at 0x7fc330efa6d0>"
            ]
          },
          "metadata": {},
          "execution_count": 19
        },
        {
          "output_type": "display_data",
          "data": {
            "image/png": "[encoded data removed]",
            "text/plain": [
              "<Figure size 432x288 with 2 Axes>"
            ]
          },
          "metadata": {
            "needs_background": "light"
          }
        }
      ]
    },
    {
      "cell_type": "code",
      "metadata": {
        "colab": {
          "base_uri": "https://localhost:8080/"
        },
        "id": "C-pyOHIIHcVr",
        "outputId": "3c7b3852-9946-4bb3-e4fd-be70a554bf93"
      },
      "source": [
        "dict_alert_location = df.groupby('alert reason category')['location of the event'].agg(pd.Series.mode).to_dict()\n",
        "dict_alert_location "
      ],
      "execution_count": 20,
      "outputs": [
        {
          "output_type": "execute_result",
          "data": {
            "text/plain": [
              "{1: 131.0,\n",
              " 2: 149.0,\n",
              " 3: 139.0,\n",
              " 4: 139.0,\n",
              " 5: 148.0,\n",
              " 6: 148.0,\n",
              " 7: 148.0,\n",
              " 8: 131.0,\n",
              " 9: 139.0}"
            ]
          },
          "metadata": {},
          "execution_count": 20
        }
      ]
    },
    {
      "cell_type": "code",
      "metadata": {
        "id": "jfRJ0fd7eKfS",
        "outputId": "bdcaff38-029b-46e3-e9b7-8329510e018c",
        "colab": {
          "base_uri": "https://localhost:8080/"
        }
      },
      "source": [
        "# remplazamos los valores nulos en 'location of the event' de acuerdo al valor que presenta\n",
        "\n",
        "df['location of the event'] = df['location of the event'].fillna( df['alert reason category'].map(dict_alert_location)).astype('object')\n",
        "df['location of the event'].isna().sum()"
      ],
      "execution_count": 22,
      "outputs": [
        {
          "output_type": "execute_result",
          "data": {
            "text/plain": [
              "0"
            ]
          },
          "metadata": {},
          "execution_count": 22
        }
      ]
    },
    {
      "cell_type": "code",
      "metadata": {
        "id": "X2zBtTPhohJV",
        "outputId": "f272e712-f23d-4bc6-a947-f7dda6e306d7",
        "colab": {
          "base_uri": "https://localhost:8080/"
        }
      },
      "source": [
        "df['location of the event'].value_counts(dropna=False)/len(df)*100"
      ],
      "execution_count": 28,
      "outputs": [
        {
          "output_type": "execute_result",
          "data": {
            "text/plain": [
              "139.0    25.469027\n",
              "136.0    20.242823\n",
              "148.0    15.111450\n",
              "149.0     4.654026\n",
              "131.0     4.357222\n",
              "           ...    \n",
              "247.0     0.000456\n",
              "248.0     0.000456\n",
              "284.0     0.000456\n",
              "265.0     0.000456\n",
              "324.0     0.000456\n",
              "Name: location of the event, Length: 210, dtype: float64"
            ]
          },
          "metadata": {},
          "execution_count": 28
        }
      ]
    },
    {
      "cell_type": "code",
      "metadata": {
        "id": "EO3jpo9kgg2x"
      },
      "source": [
        "df = df.drop('nulos', axis=1)\n"
      ],
      "execution_count": 23,
      "outputs": []
    },
    {
      "cell_type": "markdown",
      "metadata": {
        "id": "pOsHK0UDuj4w"
      },
      "source": [
        "# Transformación de variables"
      ]
    },
    {
      "cell_type": "markdown",
      "metadata": {
        "id": "Ea6C0L2Ie8FX"
      },
      "source": [
        "###  Creación de variable Rush Hour\n",
        "\n",
        "Variable binaria para identificar eventos en horas pico"
      ]
    },
    {
      "cell_type": "code",
      "metadata": {
        "id": "msZ9KIoLhSvU"
      },
      "source": [
        "df['rush hour'] = 0\n",
        "\n",
        "df = df.reset_index( )\n",
        "df = df.set_index('selection time')\n",
        "\n",
        "#identificar el indice de los registros de eventos en hora pico\n",
        "pico_am = df.index.indexer_between_time('6:30','9:30')\n",
        "pico_pm = df.index.indexer_between_time('16:00','19:00')\n",
        "horas_pico_index= np.concatenate((pico_am, pico_pm))\n",
        "\n",
        "#identificar los días sabados y domingos\n",
        "fin_de_semana_filtro = df.index.weekday > 5  #identifica sábados y domingos"
      ],
      "execution_count": 45,
      "outputs": []
    },
    {
      "cell_type": "code",
      "metadata": {
        "colab": {
          "base_uri": "https://localhost:8080/"
        },
        "id": "6ixlFKMEQ4g2",
        "outputId": "cc02430b-c310-420a-cdc3-6650926bff5a"
      },
      "source": [
        "pico_am"
      ],
      "execution_count": 46,
      "outputs": [
        {
          "output_type": "execute_result",
          "data": {
            "text/plain": [
              "array([     1,      6,      7, ..., 219307, 219308, 219310])"
            ]
          },
          "metadata": {},
          "execution_count": 46
        }
      ]
    },
    {
      "cell_type": "code",
      "metadata": {
        "colab": {
          "base_uri": "https://localhost:8080/"
        },
        "id": "PTt_KqNgRjsi",
        "outputId": "529c4950-f01a-4206-94c4-8bf2a0479c25"
      },
      "source": [
        "#comprobar que uno de los indices es hora pico\n",
        "df.index.to_list()[1]  "
      ],
      "execution_count": 47,
      "outputs": [
        {
          "output_type": "execute_result",
          "data": {
            "text/plain": [
              "Timestamp('2018-01-04 09:02:59.470000')"
            ]
          },
          "metadata": {},
          "execution_count": 47
        }
      ]
    },
    {
      "cell_type": "code",
      "metadata": {
        "id": "Q-d9AIQuRehA"
      },
      "source": [
        "df = df.reset_index()\n",
        "\n",
        "# cambiar el valor de 'rush hour' a uno cuando sea horas pico\n",
        "df.iloc[list(horas_pico_index),-1] = 1  "
      ],
      "execution_count": 48,
      "outputs": []
    },
    {
      "cell_type": "code",
      "metadata": {
        "id": "-9ZWrOpJQ0Ma"
      },
      "source": [
        "#Regresar a 0 el valor para los días sabados y domingos\n",
        "df['rush hour']= np.where(fin_de_semana_filtro, 0, df['rush hour'])"
      ],
      "execution_count": 49,
      "outputs": []
    },
    {
      "cell_type": "markdown",
      "metadata": {
        "id": "O-0rDtG_gPEX"
      },
      "source": [
        "### Creación de variable Weekday\n",
        "Variable binaria para identificar eventos de lunes a viernes"
      ]
    },
    {
      "cell_type": "code",
      "metadata": {
        "id": "Ha_rW-o5flhg"
      },
      "source": [
        "df['weekday'] = np.where(fin_de_semana_filtro, 0, 1)"
      ],
      "execution_count": 50,
      "outputs": []
    },
    {
      "cell_type": "code",
      "metadata": {
        "id": "2cKWlza0yvqw"
      },
      "source": [
        "#Regresar emerency vehicle selection como indice\n",
        "df = df.set_index('emergency vehicle selection')"
      ],
      "execution_count": 51,
      "outputs": []
    },
    {
      "cell_type": "markdown",
      "metadata": {
        "id": "2nRnn9pZkrZz"
      },
      "source": [
        "# Exploración de variables categoricas"
      ]
    },
    {
      "cell_type": "code",
      "metadata": {
        "id": "TwIGFWmkkygg",
        "colab": {
          "base_uri": "https://localhost:8080/",
          "height": 606
        },
        "outputId": "82afe381-f9ce-45c8-dc0e-0ba713a96d8e"
      },
      "source": [
        "cat = df.select_dtypes(include=['object', 'bool'])\n",
        "fig, ax = plt.subplots(2, 2, figsize=(12, 10))\n",
        "for var, subplot in zip(cat.columns, ax.flatten()):\n",
        "    sns.boxplot(x = var , y = 'delta departure-presentation', data = df,\n",
        "                ax=subplot, showfliers=False )"
      ],
      "execution_count": 52,
      "outputs": [
        {
          "output_type": "display_data",
          "data": {
            "image/png": "[encoded data removed]",
            "text/plain": [
              "<Figure size 864x720 with 4 Axes>"
            ]
          },
          "metadata": {
            "needs_background": "light"
          }
        }
      ]
    },
    {
      "cell_type": "code",
      "metadata": {
        "id": "Pj7uJpP-dV0X",
        "colab": {
          "base_uri": "https://localhost:8080/",
          "height": 175
        },
        "outputId": "e4c37f55-e7f1-400d-8167-e28bcba6c4f7"
      },
      "source": [
        "df.describe(include='object')"
      ],
      "execution_count": 53,
      "outputs": [
        {
          "output_type": "execute_result",
          "data": {
            "text/html": [
              "<div>\n",
              "<style scoped>\n",
              "    .dataframe tbody tr th:only-of-type {\n",
              "        vertical-align: middle;\n",
              "    }\n",
              "\n",
              "    .dataframe tbody tr th {\n",
              "        vertical-align: top;\n",
              "    }\n",
              "\n",
              "    .dataframe thead th {\n",
              "        text-align: right;\n",
              "    }\n",
              "</style>\n",
              "<table border=\"1\" class=\"dataframe\">\n",
              "  <thead>\n",
              "    <tr style=\"text-align: right;\">\n",
              "      <th></th>\n",
              "      <th>alert reason category</th>\n",
              "      <th>location of the event</th>\n",
              "      <th>emergency vehicle type</th>\n",
              "    </tr>\n",
              "  </thead>\n",
              "  <tbody>\n",
              "    <tr>\n",
              "      <th>count</th>\n",
              "      <td>219337</td>\n",
              "      <td>206627.0</td>\n",
              "      <td>219337</td>\n",
              "    </tr>\n",
              "    <tr>\n",
              "      <th>unique</th>\n",
              "      <td>9</td>\n",
              "      <td>210.0</td>\n",
              "      <td>75</td>\n",
              "    </tr>\n",
              "    <tr>\n",
              "      <th>top</th>\n",
              "      <td>3</td>\n",
              "      <td>139.0</td>\n",
              "      <td>VSAV BSPP</td>\n",
              "    </tr>\n",
              "    <tr>\n",
              "      <th>freq</th>\n",
              "      <td>176787</td>\n",
              "      <td>51031.0</td>\n",
              "      <td>159620</td>\n",
              "    </tr>\n",
              "  </tbody>\n",
              "</table>\n",
              "</div>"
            ],
            "text/plain": [
              "        alert reason category  location of the event emergency vehicle type\n",
              "count                  219337               206627.0                 219337\n",
              "unique                      9                  210.0                     75\n",
              "top                         3                  139.0              VSAV BSPP\n",
              "freq                   176787                51031.0                 159620"
            ]
          },
          "metadata": {},
          "execution_count": 53
        }
      ]
    },
    {
      "cell_type": "markdown",
      "metadata": {
        "id": "srZynd2xdV0c"
      },
      "source": [
        "### Identificación de principales categorías: `location of the event`\n",
        "Explorar la distribución de 'location of the event' y notar que 8 categorías concentran más de 75% de los datos"
      ]
    },
    {
      "cell_type": "code",
      "metadata": {
        "id": "gpv4O9mUdV0i",
        "colab": {
          "base_uri": "https://localhost:8080/"
        },
        "outputId": "f16e2b08-c070-47e9-dbeb-85511f012e3f"
      },
      "source": [
        "df['location of the event'].value_counts(normalize=True, dropna=False).cumsum().head(8)"
      ],
      "execution_count": 65,
      "outputs": [
        {
          "output_type": "execute_result",
          "data": {
            "text/plain": [
              "139.0    0.254690\n",
              "136.0    0.457118\n",
              "148.0    0.608233\n",
              "149.0    0.654773\n",
              "131.0    0.698345\n",
              "140.0    0.722222\n",
              "107.0    0.744421\n",
              "137.0    0.765753\n",
              "Name: location of the event, dtype: float64"
            ]
          },
          "metadata": {},
          "execution_count": 65
        }
      ]
    },
    {
      "cell_type": "code",
      "metadata": {
        "id": "9Th5fO_HkZqq",
        "colab": {
          "base_uri": "https://localhost:8080/"
        },
        "outputId": "528bb7f0-2ff7-4c4d-91ff-e2954fbf61af"
      },
      "source": [
        "#remplazar por 'other' todos los valores no contenidos en la lista locations_fr\n",
        "locations_fr = list(df['location of the event'].value_counts(normalize=True).cumsum().head(8).index)\n",
        "df.loc[~df['location of the event'].isin(locations_fr),'location of the event'] = np.nan\n",
        "df['location of the event'].value_counts(normalize=True, dropna=False)"
      ],
      "execution_count": 66,
      "outputs": [
        {
          "output_type": "execute_result",
          "data": {
            "text/plain": [
              "139.0    0.254690\n",
              "NaN      0.234247\n",
              "136.0    0.202428\n",
              "148.0    0.151114\n",
              "149.0    0.046540\n",
              "131.0    0.043572\n",
              "140.0    0.023877\n",
              "107.0    0.022199\n",
              "137.0    0.021332\n",
              "Name: location of the event, dtype: float64"
            ]
          },
          "metadata": {},
          "execution_count": 66
        }
      ]
    },
    {
      "cell_type": "markdown",
      "metadata": {
        "id": "5FY7pKgydV0l"
      },
      "source": [
        "### Identificación de principales categorías: `emergency vehicle type`\n",
        "Explorar la distribución de 'emergency vehicle type' y notar que 3 elementos concentran más del 90% de los datos"
      ]
    },
    {
      "cell_type": "code",
      "metadata": {
        "id": "6TyKivxedV0m",
        "colab": {
          "base_uri": "https://localhost:8080/"
        },
        "outputId": "daa1f96d-f80a-4d13-ad83-a4b269a8d231"
      },
      "source": [
        "df['emergency vehicle type'].value_counts(normalize=False)"
      ],
      "execution_count": 67,
      "outputs": [
        {
          "output_type": "execute_result",
          "data": {
            "text/plain": [
              "VSAV BSPP       159620\n",
              "PSE              32927\n",
              "VLR BSPP          5820\n",
              "FPT BSPP          4107\n",
              "AR                2583\n",
              "                 ...  \n",
              "VELD                 1\n",
              "SP BALLON            1\n",
              "VIRB                 1\n",
              "UMH DEBREPED         1\n",
              "DAP                  1\n",
              "Name: emergency vehicle type, Length: 75, dtype: int64"
            ]
          },
          "metadata": {},
          "execution_count": 67
        }
      ]
    },
    {
      "cell_type": "code",
      "metadata": {
        "id": "xeuGGSZedV0o",
        "colab": {
          "base_uri": "https://localhost:8080/"
        },
        "outputId": "629bde24-7f2c-44a4-be68-3330212ed967"
      },
      "source": [
        "df['emergency vehicle type'].value_counts(normalize=True).cumsum().head(3)"
      ],
      "execution_count": 68,
      "outputs": [
        {
          "output_type": "execute_result",
          "data": {
            "text/plain": [
              "VSAV BSPP    0.727739\n",
              "PSE          0.877859\n",
              "VLR BSPP     0.904394\n",
              "Name: emergency vehicle type, dtype: float64"
            ]
          },
          "metadata": {},
          "execution_count": 68
        }
      ]
    },
    {
      "cell_type": "code",
      "metadata": {
        "id": "hyr4360LdV0r",
        "colab": {
          "base_uri": "https://localhost:8080/"
        },
        "outputId": "6c39621c-0ce5-4f55-e066-4c7955d993c1"
      },
      "source": [
        "#remplazar por 'other' todos los valores no contenidos en la lista vehiculos_fr\n",
        "vehiculos_fr= list(df['emergency vehicle type'].value_counts(normalize=True).cumsum().head(3).index)\n",
        "df.loc[~df['emergency vehicle type'].isin(vehiculos_fr),'emergency vehicle type'] =np.nan\n",
        "df['emergency vehicle type'].value_counts(normalize=True, dropna=False)"
      ],
      "execution_count": 69,
      "outputs": [
        {
          "output_type": "execute_result",
          "data": {
            "text/plain": [
              "VSAV BSPP    0.727739\n",
              "PSE          0.150121\n",
              "NaN          0.095606\n",
              "VLR BSPP     0.026535\n",
              "Name: emergency vehicle type, dtype: float64"
            ]
          },
          "metadata": {},
          "execution_count": 69
        }
      ]
    },
    {
      "cell_type": "code",
      "metadata": {
        "id": "_Y9iJ2bPmoeA",
        "colab": {
          "base_uri": "https://localhost:8080/",
          "height": 606
        },
        "outputId": "522da6c5-6fe9-4042-9b5e-f5b082e0f9d1"
      },
      "source": [
        "cat = df.select_dtypes(include=['object', 'bool'])\n",
        "fig, ax = plt.subplots(2, 2, figsize=(12, 10))\n",
        "for var, subplot in zip(cat.columns, ax.flatten()):\n",
        "    sns.boxplot(x = var , y = 'delta departure-presentation', data = df,\n",
        "                ax=subplot, showfliers=False )"
      ],
      "execution_count": 70,
      "outputs": [
        {
          "output_type": "display_data",
          "data": {
            "image/png": "[encoded data removed]",
            "text/plain": [
              "<Figure size 864x720 with 4 Axes>"
            ]
          },
          "metadata": {
            "needs_background": "light"
          }
        }
      ]
    },
    {
      "cell_type": "markdown",
      "metadata": {
        "id": "bnzwC0nhdVz_"
      },
      "source": [
        "## Hot encoding variables categoricas"
      ]
    },
    {
      "cell_type": "code",
      "metadata": {
        "id": "rBFa8vxLuqYm",
        "colab": {
          "base_uri": "https://localhost:8080/",
          "height": 327
        },
        "outputId": "4cad7d15-5ffa-4787-d849-19cf01e7839c"
      },
      "source": [
        "c1 =pd.get_dummies(df['alert reason category'],\n",
        "                   drop_first=True, prefix='alert_reason catogory') \n",
        "print(c1.shape)\n",
        "c1.head()"
      ],
      "execution_count": 71,
      "outputs": [
        {
          "output_type": "stream",
          "name": "stdout",
          "text": [
            "(219337, 8)\n"
          ]
        },
        {
          "output_type": "execute_result",
          "data": {
            "text/html": [
              "<div>\n",
              "<style scoped>\n",
              "    .dataframe tbody tr th:only-of-type {\n",
              "        vertical-align: middle;\n",
              "    }\n",
              "\n",
              "    .dataframe tbody tr th {\n",
              "        vertical-align: top;\n",
              "    }\n",
              "\n",
              "    .dataframe thead th {\n",
              "        text-align: right;\n",
              "    }\n",
              "</style>\n",
              "<table border=\"1\" class=\"dataframe\">\n",
              "  <thead>\n",
              "    <tr style=\"text-align: right;\">\n",
              "      <th></th>\n",
              "      <th>alert_reason catogory_2</th>\n",
              "      <th>alert_reason catogory_3</th>\n",
              "      <th>alert_reason catogory_4</th>\n",
              "      <th>alert_reason catogory_5</th>\n",
              "      <th>alert_reason catogory_6</th>\n",
              "      <th>alert_reason catogory_7</th>\n",
              "      <th>alert_reason catogory_8</th>\n",
              "      <th>alert_reason catogory_9</th>\n",
              "    </tr>\n",
              "    <tr>\n",
              "      <th>emergency vehicle selection</th>\n",
              "      <th></th>\n",
              "      <th></th>\n",
              "      <th></th>\n",
              "      <th></th>\n",
              "      <th></th>\n",
              "      <th></th>\n",
              "      <th></th>\n",
              "      <th></th>\n",
              "    </tr>\n",
              "  </thead>\n",
              "  <tbody>\n",
              "    <tr>\n",
              "      <th>5105452</th>\n",
              "      <td>0</td>\n",
              "      <td>1</td>\n",
              "      <td>0</td>\n",
              "      <td>0</td>\n",
              "      <td>0</td>\n",
              "      <td>0</td>\n",
              "      <td>0</td>\n",
              "      <td>0</td>\n",
              "    </tr>\n",
              "    <tr>\n",
              "      <th>4720915</th>\n",
              "      <td>0</td>\n",
              "      <td>1</td>\n",
              "      <td>0</td>\n",
              "      <td>0</td>\n",
              "      <td>0</td>\n",
              "      <td>0</td>\n",
              "      <td>0</td>\n",
              "      <td>0</td>\n",
              "    </tr>\n",
              "    <tr>\n",
              "      <th>5365374</th>\n",
              "      <td>0</td>\n",
              "      <td>1</td>\n",
              "      <td>0</td>\n",
              "      <td>0</td>\n",
              "      <td>0</td>\n",
              "      <td>0</td>\n",
              "      <td>0</td>\n",
              "      <td>0</td>\n",
              "    </tr>\n",
              "    <tr>\n",
              "      <th>4741586</th>\n",
              "      <td>0</td>\n",
              "      <td>1</td>\n",
              "      <td>0</td>\n",
              "      <td>0</td>\n",
              "      <td>0</td>\n",
              "      <td>0</td>\n",
              "      <td>0</td>\n",
              "      <td>0</td>\n",
              "    </tr>\n",
              "    <tr>\n",
              "      <th>5381209</th>\n",
              "      <td>0</td>\n",
              "      <td>1</td>\n",
              "      <td>0</td>\n",
              "      <td>0</td>\n",
              "      <td>0</td>\n",
              "      <td>0</td>\n",
              "      <td>0</td>\n",
              "      <td>0</td>\n",
              "    </tr>\n",
              "  </tbody>\n",
              "</table>\n",
              "</div>"
            ],
            "text/plain": [
              "                             alert_reason catogory_2  ...  alert_reason catogory_9\n",
              "emergency vehicle selection                           ...                         \n",
              "5105452                                            0  ...                        0\n",
              "4720915                                            0  ...                        0\n",
              "5365374                                            0  ...                        0\n",
              "4741586                                            0  ...                        0\n",
              "5381209                                            0  ...                        0\n",
              "\n",
              "[5 rows x 8 columns]"
            ]
          },
          "metadata": {},
          "execution_count": 71
        }
      ]
    },
    {
      "cell_type": "code",
      "metadata": {
        "id": "DBLB2c0NvllU",
        "colab": {
          "base_uri": "https://localhost:8080/",
          "height": 361
        },
        "outputId": "db6d3829-dd2a-4108-acb7-a2419517a7c3"
      },
      "source": [
        "c2 = pd.get_dummies(df[['location of the event','emergency vehicle type']],\n",
        "                   ) \n",
        "print(c2.shape)\n",
        "c2.head()"
      ],
      "execution_count": 72,
      "outputs": [
        {
          "output_type": "stream",
          "name": "stdout",
          "text": [
            "(219337, 11)\n"
          ]
        },
        {
          "output_type": "execute_result",
          "data": {
            "text/html": [
              "<div>\n",
              "<style scoped>\n",
              "    .dataframe tbody tr th:only-of-type {\n",
              "        vertical-align: middle;\n",
              "    }\n",
              "\n",
              "    .dataframe tbody tr th {\n",
              "        vertical-align: top;\n",
              "    }\n",
              "\n",
              "    .dataframe thead th {\n",
              "        text-align: right;\n",
              "    }\n",
              "</style>\n",
              "<table border=\"1\" class=\"dataframe\">\n",
              "  <thead>\n",
              "    <tr style=\"text-align: right;\">\n",
              "      <th></th>\n",
              "      <th>location of the event_107.0</th>\n",
              "      <th>location of the event_131.0</th>\n",
              "      <th>location of the event_136.0</th>\n",
              "      <th>location of the event_137.0</th>\n",
              "      <th>location of the event_139.0</th>\n",
              "      <th>location of the event_140.0</th>\n",
              "      <th>location of the event_148.0</th>\n",
              "      <th>location of the event_149.0</th>\n",
              "      <th>emergency vehicle type_PSE</th>\n",
              "      <th>emergency vehicle type_VLR BSPP</th>\n",
              "      <th>emergency vehicle type_VSAV BSPP</th>\n",
              "    </tr>\n",
              "    <tr>\n",
              "      <th>emergency vehicle selection</th>\n",
              "      <th></th>\n",
              "      <th></th>\n",
              "      <th></th>\n",
              "      <th></th>\n",
              "      <th></th>\n",
              "      <th></th>\n",
              "      <th></th>\n",
              "      <th></th>\n",
              "      <th></th>\n",
              "      <th></th>\n",
              "      <th></th>\n",
              "    </tr>\n",
              "  </thead>\n",
              "  <tbody>\n",
              "    <tr>\n",
              "      <th>5105452</th>\n",
              "      <td>0</td>\n",
              "      <td>0</td>\n",
              "      <td>0</td>\n",
              "      <td>0</td>\n",
              "      <td>0</td>\n",
              "      <td>0</td>\n",
              "      <td>1</td>\n",
              "      <td>0</td>\n",
              "      <td>0</td>\n",
              "      <td>0</td>\n",
              "      <td>1</td>\n",
              "    </tr>\n",
              "    <tr>\n",
              "      <th>4720915</th>\n",
              "      <td>0</td>\n",
              "      <td>0</td>\n",
              "      <td>1</td>\n",
              "      <td>0</td>\n",
              "      <td>0</td>\n",
              "      <td>0</td>\n",
              "      <td>0</td>\n",
              "      <td>0</td>\n",
              "      <td>1</td>\n",
              "      <td>0</td>\n",
              "      <td>0</td>\n",
              "    </tr>\n",
              "    <tr>\n",
              "      <th>5365374</th>\n",
              "      <td>0</td>\n",
              "      <td>0</td>\n",
              "      <td>0</td>\n",
              "      <td>0</td>\n",
              "      <td>1</td>\n",
              "      <td>0</td>\n",
              "      <td>0</td>\n",
              "      <td>0</td>\n",
              "      <td>0</td>\n",
              "      <td>0</td>\n",
              "      <td>1</td>\n",
              "    </tr>\n",
              "    <tr>\n",
              "      <th>4741586</th>\n",
              "      <td>0</td>\n",
              "      <td>0</td>\n",
              "      <td>1</td>\n",
              "      <td>0</td>\n",
              "      <td>0</td>\n",
              "      <td>0</td>\n",
              "      <td>0</td>\n",
              "      <td>0</td>\n",
              "      <td>0</td>\n",
              "      <td>0</td>\n",
              "      <td>1</td>\n",
              "    </tr>\n",
              "    <tr>\n",
              "      <th>5381209</th>\n",
              "      <td>0</td>\n",
              "      <td>0</td>\n",
              "      <td>0</td>\n",
              "      <td>0</td>\n",
              "      <td>0</td>\n",
              "      <td>0</td>\n",
              "      <td>0</td>\n",
              "      <td>0</td>\n",
              "      <td>0</td>\n",
              "      <td>0</td>\n",
              "      <td>1</td>\n",
              "    </tr>\n",
              "  </tbody>\n",
              "</table>\n",
              "</div>"
            ],
            "text/plain": [
              "                             location of the event_107.0  ...  emergency vehicle type_VSAV BSPP\n",
              "emergency vehicle selection                               ...                                  \n",
              "5105452                                                0  ...                                 1\n",
              "4720915                                                0  ...                                 0\n",
              "5365374                                                0  ...                                 1\n",
              "4741586                                                0  ...                                 1\n",
              "5381209                                                0  ...                                 1\n",
              "\n",
              "[5 rows x 11 columns]"
            ]
          },
          "metadata": {},
          "execution_count": 72
        }
      ]
    },
    {
      "cell_type": "code",
      "metadata": {
        "id": "GgH8SUnKdV0y",
        "colab": {
          "base_uri": "https://localhost:8080/"
        },
        "outputId": "dd6d0c9a-edba-4c27-8ac4-dbe564d22506"
      },
      "source": [
        "df=df.drop(columns=categoricas)\n",
        "df=pd.concat([df, c1, c2], axis=1)\n",
        "df.shape"
      ],
      "execution_count": 73,
      "outputs": [
        {
          "output_type": "execute_result",
          "data": {
            "text/plain": [
              "(219337, 27)"
            ]
          },
          "metadata": {},
          "execution_count": 73
        }
      ]
    },
    {
      "cell_type": "code",
      "metadata": {
        "id": "fChmNEy8yd9x",
        "colab": {
          "base_uri": "https://localhost:8080/"
        },
        "outputId": "63bd2018-8c11-4467-c905-bbfe78465844"
      },
      "source": [
        "#Llevar la etiqueta hasta la ultima posición \n",
        "cols = df.columns.tolist()\n",
        "df = df[[c for c in df if c != 'delta departure-presentation'] + ['delta departure-presentation']]\n",
        "print(df.shape)\n",
        "df.info()"
      ],
      "execution_count": 74,
      "outputs": [
        {
          "output_type": "stream",
          "name": "stdout",
          "text": [
            "(219337, 27)\n",
            "<class 'pandas.core.frame.DataFrame'>\n",
            "Int64Index: 219337 entries, 5105452 to 4868867\n",
            "Data columns (total 27 columns):\n",
            " #   Column                            Non-Null Count   Dtype         \n",
            "---  ------                            --------------   -----         \n",
            " 0   selection time                    219337 non-null  datetime64[ns]\n",
            " 1   intervention on public roads      219337 non-null  bool          \n",
            " 2   floor                             219337 non-null  int64         \n",
            " 3   OSRM estimated distance           219337 non-null  float64       \n",
            " 4   OSRM estimated duration           219337 non-null  float64       \n",
            " 5   rush hour                         219337 non-null  int64         \n",
            " 6   weekday                           219337 non-null  int64         \n",
            " 7   alert_reason catogory_2           219337 non-null  uint8         \n",
            " 8   alert_reason catogory_3           219337 non-null  uint8         \n",
            " 9   alert_reason catogory_4           219337 non-null  uint8         \n",
            " 10  alert_reason catogory_5           219337 non-null  uint8         \n",
            " 11  alert_reason catogory_6           219337 non-null  uint8         \n",
            " 12  alert_reason catogory_7           219337 non-null  uint8         \n",
            " 13  alert_reason catogory_8           219337 non-null  uint8         \n",
            " 14  alert_reason catogory_9           219337 non-null  uint8         \n",
            " 15  location of the event_107.0       219337 non-null  uint8         \n",
            " 16  location of the event_131.0       219337 non-null  uint8         \n",
            " 17  location of the event_136.0       219337 non-null  uint8         \n",
            " 18  location of the event_137.0       219337 non-null  uint8         \n",
            " 19  location of the event_139.0       219337 non-null  uint8         \n",
            " 20  location of the event_140.0       219337 non-null  uint8         \n",
            " 21  location of the event_148.0       219337 non-null  uint8         \n",
            " 22  location of the event_149.0       219337 non-null  uint8         \n",
            " 23  emergency vehicle type_PSE        219337 non-null  uint8         \n",
            " 24  emergency vehicle type_VLR BSPP   219337 non-null  uint8         \n",
            " 25  emergency vehicle type_VSAV BSPP  219337 non-null  uint8         \n",
            " 26  delta departure-presentation      219337 non-null  int64         \n",
            "dtypes: bool(1), datetime64[ns](1), float64(2), int64(4), uint8(19)\n",
            "memory usage: 27.6 MB\n"
          ]
        }
      ]
    },
    {
      "cell_type": "markdown",
      "metadata": {
        "id": "Az7-t0moiwoE"
      },
      "source": [
        "# Exploración de las variables numéricas"
      ]
    },
    {
      "cell_type": "code",
      "metadata": {
        "id": "IQhgA_VJ9jLx"
      },
      "source": [
        "boleanas=[]\n",
        "for col in df.columns:\n",
        "  if df[col].nunique()==2:\n",
        "    boleanas.append(col)\n",
        "df[boleanas]=df[boleanas].astype('bool')"
      ],
      "execution_count": 75,
      "outputs": []
    },
    {
      "cell_type": "code",
      "metadata": {
        "id": "wwJAk1GrcnWc",
        "colab": {
          "base_uri": "https://localhost:8080/",
          "height": 247
        },
        "outputId": "9d4dfd1e-c534-49b6-8d9a-07184b1bbdfc"
      },
      "source": [
        "df[boleanas].describe()"
      ],
      "execution_count": 76,
      "outputs": [
        {
          "output_type": "execute_result",
          "data": {
            "text/html": [
              "<div>\n",
              "<style scoped>\n",
              "    .dataframe tbody tr th:only-of-type {\n",
              "        vertical-align: middle;\n",
              "    }\n",
              "\n",
              "    .dataframe tbody tr th {\n",
              "        vertical-align: top;\n",
              "    }\n",
              "\n",
              "    .dataframe thead th {\n",
              "        text-align: right;\n",
              "    }\n",
              "</style>\n",
              "<table border=\"1\" class=\"dataframe\">\n",
              "  <thead>\n",
              "    <tr style=\"text-align: right;\">\n",
              "      <th></th>\n",
              "      <th>intervention on public roads</th>\n",
              "      <th>rush hour</th>\n",
              "      <th>weekday</th>\n",
              "      <th>alert_reason catogory_2</th>\n",
              "      <th>alert_reason catogory_3</th>\n",
              "      <th>alert_reason catogory_4</th>\n",
              "      <th>alert_reason catogory_5</th>\n",
              "      <th>alert_reason catogory_6</th>\n",
              "      <th>alert_reason catogory_7</th>\n",
              "      <th>alert_reason catogory_8</th>\n",
              "      <th>alert_reason catogory_9</th>\n",
              "      <th>location of the event_107.0</th>\n",
              "      <th>location of the event_131.0</th>\n",
              "      <th>location of the event_136.0</th>\n",
              "      <th>location of the event_137.0</th>\n",
              "      <th>location of the event_139.0</th>\n",
              "      <th>location of the event_140.0</th>\n",
              "      <th>location of the event_148.0</th>\n",
              "      <th>location of the event_149.0</th>\n",
              "      <th>emergency vehicle type_PSE</th>\n",
              "      <th>emergency vehicle type_VLR BSPP</th>\n",
              "      <th>emergency vehicle type_VSAV BSPP</th>\n",
              "    </tr>\n",
              "  </thead>\n",
              "  <tbody>\n",
              "    <tr>\n",
              "      <th>count</th>\n",
              "      <td>219337</td>\n",
              "      <td>219337</td>\n",
              "      <td>219337</td>\n",
              "      <td>219337</td>\n",
              "      <td>219337</td>\n",
              "      <td>219337</td>\n",
              "      <td>219337</td>\n",
              "      <td>219337</td>\n",
              "      <td>219337</td>\n",
              "      <td>219337</td>\n",
              "      <td>219337</td>\n",
              "      <td>219337</td>\n",
              "      <td>219337</td>\n",
              "      <td>219337</td>\n",
              "      <td>219337</td>\n",
              "      <td>219337</td>\n",
              "      <td>219337</td>\n",
              "      <td>219337</td>\n",
              "      <td>219337</td>\n",
              "      <td>219337</td>\n",
              "      <td>219337</td>\n",
              "      <td>219337</td>\n",
              "    </tr>\n",
              "    <tr>\n",
              "      <th>unique</th>\n",
              "      <td>2</td>\n",
              "      <td>2</td>\n",
              "      <td>2</td>\n",
              "      <td>2</td>\n",
              "      <td>2</td>\n",
              "      <td>2</td>\n",
              "      <td>2</td>\n",
              "      <td>2</td>\n",
              "      <td>2</td>\n",
              "      <td>2</td>\n",
              "      <td>2</td>\n",
              "      <td>2</td>\n",
              "      <td>2</td>\n",
              "      <td>2</td>\n",
              "      <td>2</td>\n",
              "      <td>2</td>\n",
              "      <td>2</td>\n",
              "      <td>2</td>\n",
              "      <td>2</td>\n",
              "      <td>2</td>\n",
              "      <td>2</td>\n",
              "      <td>2</td>\n",
              "    </tr>\n",
              "    <tr>\n",
              "      <th>top</th>\n",
              "      <td>False</td>\n",
              "      <td>False</td>\n",
              "      <td>True</td>\n",
              "      <td>False</td>\n",
              "      <td>True</td>\n",
              "      <td>False</td>\n",
              "      <td>False</td>\n",
              "      <td>False</td>\n",
              "      <td>False</td>\n",
              "      <td>False</td>\n",
              "      <td>False</td>\n",
              "      <td>False</td>\n",
              "      <td>False</td>\n",
              "      <td>False</td>\n",
              "      <td>False</td>\n",
              "      <td>False</td>\n",
              "      <td>False</td>\n",
              "      <td>False</td>\n",
              "      <td>False</td>\n",
              "      <td>False</td>\n",
              "      <td>False</td>\n",
              "      <td>True</td>\n",
              "    </tr>\n",
              "    <tr>\n",
              "      <th>freq</th>\n",
              "      <td>187201</td>\n",
              "      <td>171426</td>\n",
              "      <td>189459</td>\n",
              "      <td>213632</td>\n",
              "      <td>176787</td>\n",
              "      <td>218116</td>\n",
              "      <td>218556</td>\n",
              "      <td>214523</td>\n",
              "      <td>218436</td>\n",
              "      <td>218960</td>\n",
              "      <td>211856</td>\n",
              "      <td>214468</td>\n",
              "      <td>209780</td>\n",
              "      <td>174937</td>\n",
              "      <td>214658</td>\n",
              "      <td>163474</td>\n",
              "      <td>214100</td>\n",
              "      <td>186192</td>\n",
              "      <td>209129</td>\n",
              "      <td>186410</td>\n",
              "      <td>213517</td>\n",
              "      <td>159620</td>\n",
              "    </tr>\n",
              "  </tbody>\n",
              "</table>\n",
              "</div>"
            ],
            "text/plain": [
              "       intervention on public roads  ... emergency vehicle type_VSAV BSPP\n",
              "count                        219337  ...                           219337\n",
              "unique                            2  ...                                2\n",
              "top                           False  ...                             True\n",
              "freq                         187201  ...                           159620\n",
              "\n",
              "[4 rows x 22 columns]"
            ]
          },
          "metadata": {},
          "execution_count": 76
        }
      ]
    },
    {
      "cell_type": "code",
      "metadata": {
        "id": "3IMFO5Zu9NZa",
        "colab": {
          "base_uri": "https://localhost:8080/"
        },
        "outputId": "8f9b2a81-fec9-4dbc-c264-2e0c99aec6ff"
      },
      "source": [
        "numericas = list(df.select_dtypes(include=['int64', 'float64']).columns)\n",
        "numericas"
      ],
      "execution_count": 77,
      "outputs": [
        {
          "output_type": "execute_result",
          "data": {
            "text/plain": [
              "['floor',\n",
              " 'OSRM estimated distance',\n",
              " 'OSRM estimated duration',\n",
              " 'delta departure-presentation']"
            ]
          },
          "metadata": {},
          "execution_count": 77
        }
      ]
    },
    {
      "cell_type": "code",
      "metadata": {
        "id": "EoFstYbk1xgd"
      },
      "source": [
        "corr_matrix = correlacion(df, matrix = True, tamaño=(22,20))"
      ],
      "execution_count": null,
      "outputs": []
    },
    {
      "cell_type": "markdown",
      "metadata": {
        "id": "mKOVlrUZR8s6"
      },
      "source": [
        "## Borrar redundantes"
      ]
    },
    {
      "cell_type": "code",
      "metadata": {
        "id": "6bJkcZX_yHC5"
      },
      "source": [
        "#Identificar variables redundantes \n",
        "\n",
        "# Triangulo superior de la matriz de correlación en números absolutos\n",
        "triangulo_sup = corr_matrix.abs().where(np.triu(np.ones(corr_matrix.shape),\n",
        "                                                1).astype(np.bool))\n",
        "\n",
        "# Encontrar las columnas donde la correlación es 1\n",
        "borrar = [column for column in triangulo_sup.columns\n",
        "          if any(triangulo_sup[column] >= .7)]\n",
        "borrar"
      ],
      "execution_count": null,
      "outputs": []
    },
    {
      "cell_type": "code",
      "metadata": {
        "id": "44VVRRhwTr1x"
      },
      "source": [
        "df = df.drop('OSRM estimated duration', axis=1)\n",
        "\n"
      ],
      "execution_count": null,
      "outputs": []
    },
    {
      "cell_type": "code",
      "metadata": {
        "id": "ffFydElHLPjx"
      },
      "source": [
        "numericas = list(df.select_dtypes(include=['int64', 'float64']).columns)"
      ],
      "execution_count": null,
      "outputs": []
    },
    {
      "cell_type": "code",
      "metadata": {
        "id": "jgxC2Hz7NvkR"
      },
      "source": [
        "df[numericas].describe()\n"
      ],
      "execution_count": null,
      "outputs": []
    },
    {
      "cell_type": "code",
      "metadata": {
        "id": "7RjXEh4LUBmI"
      },
      "source": [
        "sns.pairplot(df[numericas])"
      ],
      "execution_count": null,
      "outputs": []
    },
    {
      "cell_type": "markdown",
      "metadata": {
        "id": "SSttuGc65BvM"
      },
      "source": [
        "# Exploración de Outliers"
      ]
    },
    {
      "cell_type": "code",
      "metadata": {
        "id": "F7ab9Yox4_jL"
      },
      "source": [
        "fig, ax = plt.subplots(1, 2, figsize=(10, 4))\n",
        "for cond, subplot in zip((True, False), ax.flatten()):\n",
        "  sns.boxplot(y=df['delta departure-presentation'], showfliers=cond, ax= subplot)"
      ],
      "execution_count": null,
      "outputs": []
    },
    {
      "cell_type": "markdown",
      "metadata": {
        "id": "T_gjN9zR6uYp"
      },
      "source": [
        "## Identificar \"a ojo\" *outliers*"
      ]
    },
    {
      "cell_type": "code",
      "metadata": {
        "id": "aH_Nryzn60LA"
      },
      "source": [
        "df['delta departure-presentation'].describe()"
      ],
      "execution_count": null,
      "outputs": []
    },
    {
      "cell_type": "code",
      "metadata": {
        "id": "DnkO4y426yVH"
      },
      "source": [
        "df['delta departure-presentation'].quantile(.975)"
      ],
      "execution_count": null,
      "outputs": []
    },
    {
      "cell_type": "code",
      "metadata": {
        "id": "vHqlX3Lj6UIs"
      },
      "source": [
        "df['outlier'] = 0\n",
        "filtro_out = df['delta departure-presentation'] > df['delta departure-presentation'].quantile(.975)\n",
        "df.loc[filtro_out,'outlier'] = 1"
      ],
      "execution_count": null,
      "outputs": []
    },
    {
      "cell_type": "code",
      "metadata": {
        "id": "TPundRqO-dBn"
      },
      "source": [
        "df['outlier'].value_counts()"
      ],
      "execution_count": null,
      "outputs": []
    },
    {
      "cell_type": "code",
      "metadata": {
        "id": "Lq_psJQF8q9I"
      },
      "source": [
        "fig, ax = plt.subplots(1, 3, figsize=(12, 4))\n",
        "for dat, subplot in zip((df, df[-filtro_out], df[filtro_out]), ax.flatten()):\n",
        "  sns.histplot(x='delta departure-presentation', hue='outlier', \n",
        "               data=dat, ax=subplot )\n",
        "plt.show()"
      ],
      "execution_count": null,
      "outputs": []
    },
    {
      "cell_type": "code",
      "metadata": {
        "id": "d9gCHO8gAfC2"
      },
      "source": [
        "seleccion = ((df['OSRM estimated distance']>20350) & (df['OSRM estimated distance']<20500))\n",
        "df[seleccion].head()"
      ],
      "execution_count": null,
      "outputs": []
    },
    {
      "cell_type": "markdown",
      "metadata": {
        "id": "6izuZd_4r5Eg"
      },
      "source": [
        "# Comparación Regresión lineal, Regresión robusta"
      ]
    },
    {
      "cell_type": "code",
      "metadata": {
        "id": "0mqksCKSr5Ei"
      },
      "source": [
        "Z = df['delta departure-presentation']\n",
        "X = df.drop(['selection time', 'delta departure-presentation', 'outlier'],\n",
        "            axis=1)\n",
        "\n",
        "X_train, X_test, Z_train, Z_test = train_test_split(X, Z, \n",
        "                                                    test_size=0.3, \n",
        "                                                    shuffle=True,\n",
        "                                                    random_state=261)"
      ],
      "execution_count": null,
      "outputs": []
    },
    {
      "cell_type": "markdown",
      "metadata": {
        "id": "4ROaW5Muliuw"
      },
      "source": [
        "# Guardamos datos preprocesados"
      ]
    },
    {
      "cell_type": "code",
      "metadata": {
        "id": "N6LPxROMkg9e"
      },
      "source": [
        "df_preprocesado = pd.concat([X,Z], axis=1)\n",
        "#comprobamos dimensiones\n",
        "X.shape,    Z.shape,   df_preprocesado.shape"
      ],
      "execution_count": null,
      "outputs": []
    },
    {
      "cell_type": "code",
      "metadata": {
        "id": "EmZQXZAllCV8"
      },
      "source": [
        "#df_preprocesado.to_csv('/content/drive/MyDrive/Datos/ParisFireBrigade/Output/df_selec.csv')"
      ],
      "execution_count": null,
      "outputs": []
    },
    {
      "cell_type": "code",
      "metadata": {
        "id": "eRDZh5-R5ET5"
      },
      "source": [
        "# ¿Cómo son los conjuntos de entrenamiento y prueba?\n",
        "print(\"Conjunto de entrenamiento\")\n",
        "print(\"X: \", X_train.shape)\n",
        "print(\"y: \", Z_train.shape)\n",
        "\n",
        "print(\"Conjunto de prueba\")\n",
        "print(\"X: \", X_test.shape)\n",
        "print(\"y: \", Z_test.shape)"
      ],
      "execution_count": null,
      "outputs": []
    },
    {
      "cell_type": "markdown",
      "metadata": {
        "id": "0UCDSsULUFZ3"
      },
      "source": [
        "## Regresión Lineal"
      ]
    },
    {
      "cell_type": "code",
      "metadata": {
        "id": "KhZWHOuFr5En"
      },
      "source": [
        "lr = LinearRegression().fit(X_train, Z_train)\n",
        "\n",
        "Z_pred = lr.predict(X_test)\n",
        "\n",
        "error_medio_absoluto = np.mean(np.absolute(Z_test - Z_pred ))\n",
        "error_medio_absoluto"
      ],
      "execution_count": null,
      "outputs": []
    },
    {
      "cell_type": "code",
      "metadata": {
        "id": "qBWhR4-CVHed"
      },
      "source": [
        "metrics.mean_absolute_error(Z_test, Z_pred)"
      ],
      "execution_count": null,
      "outputs": []
    },
    {
      "cell_type": "code",
      "metadata": {
        "id": "RQyu3A4aTPOg"
      },
      "source": [
        "lr.coef_"
      ],
      "execution_count": null,
      "outputs": []
    },
    {
      "cell_type": "code",
      "metadata": {
        "id": "HScsM1eIbvpf"
      },
      "source": [
        "lr.intercept_"
      ],
      "execution_count": null,
      "outputs": []
    },
    {
      "cell_type": "code",
      "metadata": {
        "id": "bW04WKoccBBf"
      },
      "source": [
        "#calculamos los errores\n",
        "errores = (np.array(Z_test) - Z_pred)\n",
        "len(errores)"
      ],
      "execution_count": null,
      "outputs": []
    },
    {
      "cell_type": "code",
      "metadata": {
        "id": "M3rf0xkMbsVm"
      },
      "source": [
        "#una de las hipotesis de la regresión es que los errores son\n",
        "#independientes  entre sí, teniendo una distribución normal\n",
        "\n",
        "media = np.mean(Z_test - Z_pred)           \n",
        "des_est = np.sqrt(np.var(Z_test - Z_pred))\n",
        "\n",
        "media,des_est"
      ],
      "execution_count": null,
      "outputs": []
    },
    {
      "cell_type": "markdown",
      "metadata": {
        "id": "3LQFPOd3ebwY"
      },
      "source": [
        "### Comparación de los errores empirícos con una la distribución normal"
      ]
    },
    {
      "cell_type": "code",
      "metadata": {
        "id": "E7tCLD8gdqA2"
      },
      "source": [
        "# Comparación de la distribución teórica(normal) y empirica de los errores\n",
        "\n",
        "# Se elige una submuestra (%0.5) con el propósito de obtener una mejor visualización\n",
        "errores_empiricos = np.random.choice(errores, 660)\n",
        "\n",
        "# Se obtienen 329 valores a partir de la distribución normal (teorica) usando la media\n",
        "# y la desviación de los errores\n",
        "errores_teoricos = np.random.normal(media, des_est, 660)\n",
        "\n",
        "# Comparamos las gráficas de ambas distribuciones\n",
        "\n",
        "fig, ax = plt.subplots(1, 2, figsize=(8, 4), sharey='all')\n",
        "for dat, subplot in zip((errores_teoricos, errores_empiricos), ax.flatten()):\n",
        "  sns.histplot(x=dat, ax=subplot, kde=True, )\n",
        "  \n",
        "plt.show()"
      ],
      "execution_count": null,
      "outputs": []
    },
    {
      "cell_type": "markdown",
      "metadata": {
        "id": "0XVgYd-JHXDQ"
      },
      "source": [
        "### Calculo de [$R^2$](https://docs.google.com/presentation/d/1k0aYwEBzaaAkWjX6jRKAc40nKHi3FROkJwtXCOE22mI/edit#slide=id.ga8926b2cd2_0_14) \n",
        "\n",
        "$MSE = \\cfrac{1}{n}\\sum{( y - y_{pred})}^2$\n",
        "\n",
        " $R^2 \t= 1 -  \\cfrac{MSE(modelo)}{MSE(linea~base)}$\n"
      ]
    },
    {
      "cell_type": "code",
      "metadata": {
        "id": "8eu61F_BHuq6"
      },
      "source": [
        "# Error cuadrado medio (MSE) linea base (promedio de las etiquetas)\n",
        "\n",
        "errores_lb = Z_test - Z_test.mean()\n",
        "MSE_base = pow(errores_lb,2).sum()/len(errores_lb)\n",
        "MSE_base"
      ],
      "execution_count": null,
      "outputs": []
    },
    {
      "cell_type": "code",
      "metadata": {
        "id": "yNfbrWo3JqZM"
      },
      "source": [
        "#Error cuadrado medio (MSE) modelo\n",
        "errores = Z_test - Z_pred\n",
        "\n",
        "MSE_modelo = pow(errores,2).sum()/len(errores)\n",
        "MSE_modelo"
      ],
      "execution_count": null,
      "outputs": []
    },
    {
      "cell_type": "code",
      "metadata": {
        "id": "_uWhF8uAABtr"
      },
      "source": [
        "R2 = 1 - MSE_modelo/MSE_base #¿cuánto mejora la predicción nuestro modelo?\n",
        "R2"
      ],
      "execution_count": null,
      "outputs": []
    },
    {
      "cell_type": "code",
      "metadata": {
        "id": "WYi90tlAhh0Y"
      },
      "source": [
        "R2 = 1 - MSE_base/MSE_base\n",
        "R2"
      ],
      "execution_count": null,
      "outputs": []
    },
    {
      "cell_type": "code",
      "metadata": {
        "id": "SKxn3nyXQyDp"
      },
      "source": [
        "def R_cuadrada(val_obs, val_pred):\n",
        "  errores_lb = val_obs - val_obs.mean()\n",
        "  errores_m = val_obs - val_pred\n",
        "  MSE_base = pow(errores_lb,2).sum()/len(errores_lb)\n",
        "  MSE_modelo = pow(errores,2).sum()/len(errores)\n",
        "  R2 = 1 - MSE_modelo/MSE_base\n",
        "  return R2"
      ],
      "execution_count": null,
      "outputs": []
    },
    {
      "cell_type": "code",
      "metadata": {
        "id": "UkB-l9rbQ2Te"
      },
      "source": [
        "R_cuadrada(Z_test, Z_pred)"
      ],
      "execution_count": null,
      "outputs": []
    },
    {
      "cell_type": "code",
      "metadata": {
        "id": "ZGGwZw9mLz7i"
      },
      "source": [
        "metrics.r2_score(Z_test, Z_pred)"
      ],
      "execution_count": null,
      "outputs": []
    },
    {
      "cell_type": "markdown",
      "metadata": {
        "id": "rBg1H4OEUXV7"
      },
      "source": [
        "## Regresión Robusta"
      ]
    },
    {
      "cell_type": "code",
      "metadata": {
        "id": "Fw-RzJdaDquX"
      },
      "source": [
        "hr = HuberRegressor( epsilon=1.35,   max_iter=1000,  alpha=0,  warm_start=False, \n",
        "                    fit_intercept=True, tol=1e-05)\n",
        "hr = hr.fit(X_train, Z_train)\n",
        "Z_pred = hr.predict(X_test)\n",
        "\n",
        "print(metrics.mean_absolute_error(Z_test, Z_pred))\n",
        "print('MAE:', metrics.mean_absolute_error(Z_test, Z_pred))"
      ],
      "execution_count": null,
      "outputs": []
    },
    {
      "cell_type": "code",
      "metadata": {
        "id": "OvnUVBW9TWzj"
      },
      "source": [
        "hr.coef_"
      ],
      "execution_count": null,
      "outputs": []
    },
    {
      "cell_type": "code",
      "metadata": {
        "id": "_ox61AcR41BW"
      },
      "source": [
        "coeficientes_hr = pd.DataFrame({'coef':hr.coef_, 'variable':list(X.columns)})\n",
        "coeficientes_hr.sort_values('coef').reset_index(drop=True)"
      ],
      "execution_count": null,
      "outputs": []
    },
    {
      "cell_type": "markdown",
      "metadata": {
        "id": "FBYTHnDLoMkg"
      },
      "source": [
        "# Estandarizar valores para comparar importancia de variables"
      ]
    },
    {
      "cell_type": "code",
      "metadata": {
        "id": "pdfXjtP9oZ8B"
      },
      "source": [
        "from sklearn.preprocessing import StandardScaler"
      ],
      "execution_count": null,
      "outputs": []
    },
    {
      "cell_type": "code",
      "metadata": {
        "id": "RZf7mBFTT1Jw"
      },
      "source": [
        "X_estandarizados=X.copy()\n",
        "columnas = X.columns\n",
        "\n",
        "scaler = StandardScaler()\n",
        "\n",
        "X_estandarizados[columnas] = scaler.fit_transform(X[columnas])"
      ],
      "execution_count": null,
      "outputs": []
    },
    {
      "cell_type": "code",
      "metadata": {
        "id": "1DWtw747Txkg"
      },
      "source": [
        "\n",
        "X_train, X_test, Z_train, Z_test = train_test_split(X_estandarizados, Z, test_size=0.3, \n",
        "                                                    shuffle=True, random_state=261)"
      ],
      "execution_count": null,
      "outputs": []
    },
    {
      "cell_type": "code",
      "metadata": {
        "id": "ABQMy7uLTxku"
      },
      "source": [
        "hr_st = HuberRegressor( epsilon=1.35,   max_iter=1000,  alpha=0,  warm_start=False, \n",
        "                    fit_intercept=True, tol=1e-05)\n",
        "hr_st = hr.fit(X_train, Z_train)"
      ],
      "execution_count": null,
      "outputs": []
    },
    {
      "cell_type": "code",
      "metadata": {
        "id": "2_aGNzUTTxkx"
      },
      "source": [
        "coeficientes_hr_st = pd.DataFrame({'coef':hr_st.coef_, 'variable':list(columnas)})\n",
        "coeficientes_hr_st.sort_values('coef').reset_index(drop=True)"
      ],
      "execution_count": null,
      "outputs": []
    }
  ]
}