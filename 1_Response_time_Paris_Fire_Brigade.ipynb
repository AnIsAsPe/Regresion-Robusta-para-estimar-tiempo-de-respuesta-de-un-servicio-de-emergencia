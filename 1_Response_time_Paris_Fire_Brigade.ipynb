{
  "nbformat": 4,
  "nbformat_minor": 0,
  "metadata": {
    "colab": {
      "name": "Response_time_Paris_Fire_Brigade.ipynb",
      "provenance": [],
      "collapsed_sections": [],
      "toc_visible": true,
      "include_colab_link": true
    },
    "kernelspec": {
      "name": "python3",
      "display_name": "Python 3"
    }
  },
  "cells": [
    {
      "cell_type": "markdown",
      "metadata": {
        "id": "view-in-github",
        "colab_type": "text"
      },
      "source": [
        "<a href=\"https://colab.research.google.com/github/AnIsAsPe/Regresion-Robusta-para-estimar-tiempo-de-respuesta-de-un-servicio-de-emergencia/blob/main/1_Response_time_Paris_Fire_Brigade.ipynb\" target=\"_parent\"><img src=\"https://colab.research.google.com/assets/colab-badge.svg\" alt=\"Open In Colab\"/></a>"
      ]
    },
    {
      "cell_type": "markdown",
      "metadata": {
        "id": "MOfWHxj0IdEz"
      },
      "source": [
        "## Cargar bibiliotecas"
      ]
    },
    {
      "cell_type": "code",
      "metadata": {
        "id": "Wkte1t1UpdqM"
      },
      "source": [
        "import pandas as pd\n",
        "import numpy as np\n",
        "\n",
        "from sklearn.model_selection import train_test_split \n",
        "from sklearn.linear_model import LinearRegression\n",
        "from sklearn.linear_model import HuberRegressor\n",
        "from sklearn import metrics\n",
        "\n",
        "import matplotlib.pyplot as plt \n",
        "import seaborn as sns  "
      ],
      "execution_count": 1,
      "outputs": []
    },
    {
      "cell_type": "markdown",
      "metadata": {
        "id": "KmYD0TTp5502"
      },
      "source": [
        "## Definición de funciones"
      ]
    },
    {
      "cell_type": "code",
      "metadata": {
        "id": "hHWxPWiw50Dm"
      },
      "source": [
        "def correlacion(dataframe, grafica=True, matrix=False, tamaño =(12,8)):\n",
        "    '''Devuelve la matriz de correlación de un dataframe\n",
        "    y sí grafica=True, muestra un mapa de calor de la matriz de correlación'''\n",
        "    corr=dataframe.corr()                   \n",
        "    if grafica==True:\n",
        "      fig = plt.figure(figsize = tamaño)\n",
        "      ax = sns.heatmap(corr,\n",
        "                       vmin = -1,\n",
        "                       vmax = 1,\n",
        "                       center = 0,\n",
        "                       cmap = \"coolwarm\", \n",
        "                       annot = True,\n",
        "                       fmt=\".2f\",\n",
        "                       square = True)\n",
        "      ax.set_xticklabels(ax.get_xticklabels(), \n",
        "                         rotation = 45,\n",
        "                         horizontalalignment ='right')\n",
        "    if matrix==True:\n",
        "      return corr"
      ],
      "execution_count": 2,
      "outputs": []
    },
    {
      "cell_type": "markdown",
      "metadata": {
        "id": "9Q5ypE6bJgM1"
      },
      "source": [
        "# Cargar datos"
      ]
    },
    {
      "cell_type": "markdown",
      "metadata": {
        "id": "IUh34hn1djfG"
      },
      "source": [
        "__Cargar etiquetas__"
      ]
    },
    {
      "cell_type": "code",
      "metadata": {
        "id": "vP_eKMyawPDl",
        "colab": {
          "base_uri": "https://localhost:8080/",
          "height": 159
        },
        "outputId": "85c2abf1-6567-44b5-923e-bc5f4e42215d"
      },
      "source": [
        "# Variables respuesta\n",
        "output = pd.read_csv('drive/My Drive/Datos/ParisFireBrigade/y_train.csv', \n",
        "                     index_col=[0], sep=',')\n",
        "print(output.shape)\n",
        "output.head(2)"
      ],
      "execution_count": 3,
      "outputs": [
        {
          "output_type": "stream",
          "text": [
            "(219337, 3)\n"
          ],
          "name": "stdout"
        },
        {
          "output_type": "execute_result",
          "data": {
            "text/html": [
              "<div>\n",
              "<style scoped>\n",
              "    .dataframe tbody tr th:only-of-type {\n",
              "        vertical-align: middle;\n",
              "    }\n",
              "\n",
              "    .dataframe tbody tr th {\n",
              "        vertical-align: top;\n",
              "    }\n",
              "\n",
              "    .dataframe thead th {\n",
              "        text-align: right;\n",
              "    }\n",
              "</style>\n",
              "<table border=\"1\" class=\"dataframe\">\n",
              "  <thead>\n",
              "    <tr style=\"text-align: right;\">\n",
              "      <th></th>\n",
              "      <th>delta selection-departure</th>\n",
              "      <th>delta departure-presentation</th>\n",
              "      <th>delta selection-presentation</th>\n",
              "    </tr>\n",
              "    <tr>\n",
              "      <th>emergency vehicle selection</th>\n",
              "      <th></th>\n",
              "      <th></th>\n",
              "      <th></th>\n",
              "    </tr>\n",
              "  </thead>\n",
              "  <tbody>\n",
              "    <tr>\n",
              "      <th>5105452</th>\n",
              "      <td>86</td>\n",
              "      <td>324</td>\n",
              "      <td>410</td>\n",
              "    </tr>\n",
              "    <tr>\n",
              "      <th>4720915</th>\n",
              "      <td>164</td>\n",
              "      <td>297</td>\n",
              "      <td>461</td>\n",
              "    </tr>\n",
              "  </tbody>\n",
              "</table>\n",
              "</div>"
            ],
            "text/plain": [
              "                             delta selection-departure  ...  delta selection-presentation\n",
              "emergency vehicle selection                             ...                              \n",
              "5105452                                             86  ...                           410\n",
              "4720915                                            164  ...                           461\n",
              "\n",
              "[2 rows x 3 columns]"
            ]
          },
          "metadata": {
            "tags": []
          },
          "execution_count": 3
        }
      ]
    },
    {
      "cell_type": "code",
      "metadata": {
        "id": "KZkI9JgkVSQP",
        "colab": {
          "base_uri": "https://localhost:8080/"
        },
        "outputId": "9d6bd1e7-41c3-4e82-8e10-ae49c648f7c0"
      },
      "source": [
        "# Se puede verificar si la última columna es la suma de las otras dos\n",
        "(output.iloc[:,0] + output.iloc[:,1] == output.iloc[:,2]).sum()==len(output)"
      ],
      "execution_count": 4,
      "outputs": [
        {
          "output_type": "execute_result",
          "data": {
            "text/plain": [
              "True"
            ]
          },
          "metadata": {
            "tags": []
          },
          "execution_count": 4
        }
      ]
    },
    {
      "cell_type": "markdown",
      "metadata": {
        "id": "q5-Wdb0cU6fT"
      },
      "source": [
        "Nos vamos a concentrar en el tiempo desde la salida del vehículo hasta la presentación en el lugar del siniestro"
      ]
    },
    {
      "cell_type": "code",
      "metadata": {
        "id": "_He9t8gG3Nhp",
        "colab": {
          "base_uri": "https://localhost:8080/"
        },
        "outputId": "e229f75d-1fb1-4f22-92d2-b73ac71fb78b"
      },
      "source": [
        "Y = output['delta departure-presentation']\n",
        "Y.describe()"
      ],
      "execution_count": 5,
      "outputs": [
        {
          "output_type": "execute_result",
          "data": {
            "text/plain": [
              "count    219337.000000\n",
              "mean        356.161026\n",
              "std         228.381939\n",
              "min           1.000000\n",
              "25%         231.000000\n",
              "50%         319.000000\n",
              "75%         434.000000\n",
              "max       22722.000000\n",
              "Name: delta departure-presentation, dtype: float64"
            ]
          },
          "metadata": {
            "tags": []
          },
          "execution_count": 5
        }
      ]
    },
    {
      "cell_type": "code",
      "metadata": {
        "id": "9-snmmQjX3D5",
        "outputId": "a8556364-afb3-4182-963f-96fda1bbec40",
        "colab": {
          "base_uri": "https://localhost:8080/"
        }
      },
      "source": [
        "Y[output['delta departure-presentation']<15].count()"
      ],
      "execution_count": 6,
      "outputs": [
        {
          "output_type": "execute_result",
          "data": {
            "text/plain": [
              "136"
            ]
          },
          "metadata": {
            "tags": []
          },
          "execution_count": 6
        }
      ]
    },
    {
      "cell_type": "code",
      "metadata": {
        "id": "NSGFObTP2JFH",
        "colab": {
          "base_uri": "https://localhost:8080/",
          "height": 269
        },
        "outputId": "6eb9963b-c88e-4bc9-a0bf-1d6d93a5eb1f"
      },
      "source": [
        "plt.figure(figsize=(5,4))\n",
        "sns.boxplot(y=Y, showfliers=True )"
      ],
      "execution_count": 7,
      "outputs": [
        {
          "output_type": "execute_result",
          "data": {
            "text/plain": [
              "<matplotlib.axes._subplots.AxesSubplot at 0x7f6c7f678cd0>"
            ]
          },
          "metadata": {
            "tags": []
          },
          "execution_count": 7
        },
        {
          "output_type": "display_data",
          "data": {
            "image/png": "[encoded data removed]",
            "text/plain": [
              "<Figure size 360x288 with 1 Axes>"
            ]
          },
          "metadata": {
            "tags": [],
            "needs_background": "light"
          }
        }
      ]
    },
    {
      "cell_type": "code",
      "metadata": {
        "id": "VehaFlgGQCTN",
        "colab": {
          "base_uri": "https://localhost:8080/",
          "height": 279
        },
        "outputId": "4bfee796-a989-433d-a0e3-e80ab749b7ef"
      },
      "source": [
        "plt.figure(figsize=(7,4))\n",
        "sns.histplot(Y, bins=200, kde=True )\n",
        "plt.show()"
      ],
      "execution_count": 8,
      "outputs": [
        {
          "output_type": "display_data",
          "data": {
            "image/png": "[encoded data removed]",
            "text/plain": [
              "<Figure size 504x288 with 1 Axes>"
            ]
          },
          "metadata": {
            "tags": [],
            "needs_background": "light"
          }
        }
      ]
    },
    {
      "cell_type": "markdown",
      "metadata": {
        "id": "0PmhXhvC6LKn"
      },
      "source": [
        "__Cargar características__"
      ]
    },
    {
      "cell_type": "code",
      "metadata": {
        "id": "G1ktHn7nET0L",
        "colab": {
          "base_uri": "https://localhost:8080/",
          "height": 383
        },
        "outputId": "c17de69e-de55-4aa1-a796-c469ffc28e0b"
      },
      "source": [
        "# Conjunto de caracteristicas (X)\n",
        "input = pd.read_csv('drive/My Drive/Datos/ParisFireBrigade/x_train.csv', \n",
        "                sep=',', index_col=[0], parse_dates=['selection time'] )\n",
        "print(input.shape)\n",
        "input.head(2)"
      ],
      "execution_count": 9,
      "outputs": [
        {
          "output_type": "stream",
          "text": [
            "(219337, 25)\n"
          ],
          "name": "stdout"
        },
        {
          "output_type": "execute_result",
          "data": {
            "text/html": [
              "<div>\n",
              "<style scoped>\n",
              "    .dataframe tbody tr th:only-of-type {\n",
              "        vertical-align: middle;\n",
              "    }\n",
              "\n",
              "    .dataframe tbody tr th {\n",
              "        vertical-align: top;\n",
              "    }\n",
              "\n",
              "    .dataframe thead th {\n",
              "        text-align: right;\n",
              "    }\n",
              "</style>\n",
              "<table border=\"1\" class=\"dataframe\">\n",
              "  <thead>\n",
              "    <tr style=\"text-align: right;\">\n",
              "      <th></th>\n",
              "      <th>intervention</th>\n",
              "      <th>alert reason category</th>\n",
              "      <th>alert reason</th>\n",
              "      <th>intervention on public roads</th>\n",
              "      <th>floor</th>\n",
              "      <th>location of the event</th>\n",
              "      <th>longitude intervention</th>\n",
              "      <th>latitude intervention</th>\n",
              "      <th>emergency vehicle</th>\n",
              "      <th>emergency vehicle type</th>\n",
              "      <th>rescue center</th>\n",
              "      <th>selection time</th>\n",
              "      <th>date key sélection</th>\n",
              "      <th>time key sélection</th>\n",
              "      <th>status preceding selection</th>\n",
              "      <th>delta status preceding selection-selection</th>\n",
              "      <th>departed from its rescue center</th>\n",
              "      <th>longitude before departure</th>\n",
              "      <th>latitude before departure</th>\n",
              "      <th>delta position gps previous departure-departure</th>\n",
              "      <th>GPS tracks departure-presentation</th>\n",
              "      <th>GPS tracks datetime departure-presentation</th>\n",
              "      <th>OSRM response</th>\n",
              "      <th>OSRM estimated distance</th>\n",
              "      <th>OSRM estimated duration</th>\n",
              "    </tr>\n",
              "    <tr>\n",
              "      <th>emergency vehicle selection</th>\n",
              "      <th></th>\n",
              "      <th></th>\n",
              "      <th></th>\n",
              "      <th></th>\n",
              "      <th></th>\n",
              "      <th></th>\n",
              "      <th></th>\n",
              "      <th></th>\n",
              "      <th></th>\n",
              "      <th></th>\n",
              "      <th></th>\n",
              "      <th></th>\n",
              "      <th></th>\n",
              "      <th></th>\n",
              "      <th></th>\n",
              "      <th></th>\n",
              "      <th></th>\n",
              "      <th></th>\n",
              "      <th></th>\n",
              "      <th></th>\n",
              "      <th></th>\n",
              "      <th></th>\n",
              "      <th></th>\n",
              "      <th></th>\n",
              "      <th></th>\n",
              "    </tr>\n",
              "  </thead>\n",
              "  <tbody>\n",
              "    <tr>\n",
              "      <th>5105452</th>\n",
              "      <td>13264186</td>\n",
              "      <td>3</td>\n",
              "      <td>2162</td>\n",
              "      <td>0</td>\n",
              "      <td>0</td>\n",
              "      <td>148.0</td>\n",
              "      <td>2.284796</td>\n",
              "      <td>48.879669</td>\n",
              "      <td>4511</td>\n",
              "      <td>VSAV BSPP</td>\n",
              "      <td>2447</td>\n",
              "      <td>2018-07-08 19:02:43.990</td>\n",
              "      <td>20180708</td>\n",
              "      <td>190243</td>\n",
              "      <td>Rentré</td>\n",
              "      <td>2027</td>\n",
              "      <td>1</td>\n",
              "      <td>2.288053</td>\n",
              "      <td>48.884698</td>\n",
              "      <td>NaN</td>\n",
              "      <td>2.289000,48.885113;2.288861,48.884998;2.288000...</td>\n",
              "      <td>2018-07-08 19:04:43;2018-07-08 19:05:55;2018-0...</td>\n",
              "      <td>{\"code\":\"Ok\",\"routes\":[{\"geometry\":\"}yjiH}x}L_...</td>\n",
              "      <td>952.5</td>\n",
              "      <td>105.8</td>\n",
              "    </tr>\n",
              "    <tr>\n",
              "      <th>4720915</th>\n",
              "      <td>12663715</td>\n",
              "      <td>3</td>\n",
              "      <td>2124</td>\n",
              "      <td>0</td>\n",
              "      <td>1</td>\n",
              "      <td>136.0</td>\n",
              "      <td>2.247464</td>\n",
              "      <td>48.818191</td>\n",
              "      <td>4327</td>\n",
              "      <td>PSE</td>\n",
              "      <td>2464</td>\n",
              "      <td>2018-01-04 09:02:59.470</td>\n",
              "      <td>20180104</td>\n",
              "      <td>90259</td>\n",
              "      <td>Rentré</td>\n",
              "      <td>28233</td>\n",
              "      <td>1</td>\n",
              "      <td>2.268519</td>\n",
              "      <td>48.823958</td>\n",
              "      <td>NaN</td>\n",
              "      <td>NaN</td>\n",
              "      <td>NaN</td>\n",
              "      <td>{\"code\":\"Ok\",\"routes\":[{\"geometry\":\"u|~hHy`zL_...</td>\n",
              "      <td>2238.5</td>\n",
              "      <td>243.2</td>\n",
              "    </tr>\n",
              "  </tbody>\n",
              "</table>\n",
              "</div>"
            ],
            "text/plain": [
              "                             intervention  ...  OSRM estimated duration\n",
              "emergency vehicle selection                ...                         \n",
              "5105452                          13264186  ...                    105.8\n",
              "4720915                          12663715  ...                    243.2\n",
              "\n",
              "[2 rows x 25 columns]"
            ]
          },
          "metadata": {
            "tags": []
          },
          "execution_count": 9
        }
      ]
    },
    {
      "cell_type": "code",
      "metadata": {
        "colab": {
          "base_uri": "https://localhost:8080/"
        },
        "id": "Qjx_1U01L0j1",
        "outputId": "d5683332-c1ce-403a-e249-63c96788a5ce"
      },
      "source": [
        "input.nunique()"
      ],
      "execution_count": 10,
      "outputs": [
        {
          "output_type": "execute_result",
          "data": {
            "text/plain": [
              "intervention                                       200894\n",
              "alert reason category                                   9\n",
              "alert reason                                          126\n",
              "intervention on public roads                            2\n",
              "floor                                                  45\n",
              "location of the event                                 210\n",
              "longitude intervention                              83484\n",
              "latitude intervention                               74503\n",
              "emergency vehicle                                     749\n",
              "emergency vehicle type                                 75\n",
              "rescue center                                          94\n",
              "selection time                                     219285\n",
              "date key sélection                                    335\n",
              "time key sélection                                  76273\n",
              "status preceding selection                              2\n",
              "delta status preceding selection-selection          50175\n",
              "departed from its rescue center                         2\n",
              "longitude before departure                           3093\n",
              "latitude before departure                            2798\n",
              "delta position gps previous departure-departure        40\n",
              "GPS tracks departure-presentation                   65758\n",
              "GPS tracks datetime departure-presentation          65791\n",
              "OSRM response                                      126454\n",
              "OSRM estimated distance                             48461\n",
              "OSRM estimated duration                              8236\n",
              "dtype: int64"
            ]
          },
          "metadata": {
            "tags": []
          },
          "execution_count": 10
        }
      ]
    },
    {
      "cell_type": "markdown",
      "metadata": {
        "id": "V6tON9fFMKNe"
      },
      "source": [
        "existen más de una selección de veículos por intervensión, el análisis lo vamos a hacer por vehículo"
      ]
    },
    {
      "cell_type": "code",
      "metadata": {
        "colab": {
          "base_uri": "https://localhost:8080/",
          "height": 459
        },
        "id": "4aMBkm6DOHpm",
        "outputId": "a5ea535f-45e3-4d5b-96c5-caa15b479bbc"
      },
      "source": [
        "pd.crosstab(input['alert reason category'], input['alert reason'])"
      ],
      "execution_count": 11,
      "outputs": [
        {
          "output_type": "execute_result",
          "data": {
            "text/html": [
              "<div>\n",
              "<style scoped>\n",
              "    .dataframe tbody tr th:only-of-type {\n",
              "        vertical-align: middle;\n",
              "    }\n",
              "\n",
              "    .dataframe tbody tr th {\n",
              "        vertical-align: top;\n",
              "    }\n",
              "\n",
              "    .dataframe thead th {\n",
              "        text-align: right;\n",
              "    }\n",
              "</style>\n",
              "<table border=\"1\" class=\"dataframe\">\n",
              "  <thead>\n",
              "    <tr style=\"text-align: right;\">\n",
              "      <th>alert reason</th>\n",
              "      <th>1911</th>\n",
              "      <th>1912</th>\n",
              "      <th>1914</th>\n",
              "      <th>1917</th>\n",
              "      <th>1918</th>\n",
              "      <th>1920</th>\n",
              "      <th>1922</th>\n",
              "      <th>1923</th>\n",
              "      <th>1924</th>\n",
              "      <th>1926</th>\n",
              "      <th>1927</th>\n",
              "      <th>1929</th>\n",
              "      <th>1931</th>\n",
              "      <th>1932</th>\n",
              "      <th>1934</th>\n",
              "      <th>1940</th>\n",
              "      <th>1941</th>\n",
              "      <th>1942</th>\n",
              "      <th>1944</th>\n",
              "      <th>1951</th>\n",
              "      <th>1952</th>\n",
              "      <th>2011</th>\n",
              "      <th>2012</th>\n",
              "      <th>2014</th>\n",
              "      <th>2015</th>\n",
              "      <th>2017</th>\n",
              "      <th>2018</th>\n",
              "      <th>2020</th>\n",
              "      <th>2021</th>\n",
              "      <th>2022</th>\n",
              "      <th>2026</th>\n",
              "      <th>2028</th>\n",
              "      <th>2112</th>\n",
              "      <th>2113</th>\n",
              "      <th>2115</th>\n",
              "      <th>2116</th>\n",
              "      <th>2118</th>\n",
              "      <th>2119</th>\n",
              "      <th>2120</th>\n",
              "      <th>2121</th>\n",
              "      <th>...</th>\n",
              "      <th>2426</th>\n",
              "      <th>2430</th>\n",
              "      <th>2431</th>\n",
              "      <th>2432</th>\n",
              "      <th>2511</th>\n",
              "      <th>2514</th>\n",
              "      <th>2519</th>\n",
              "      <th>2523</th>\n",
              "      <th>2524</th>\n",
              "      <th>2525</th>\n",
              "      <th>2532</th>\n",
              "      <th>2612</th>\n",
              "      <th>2613</th>\n",
              "      <th>2614</th>\n",
              "      <th>2623</th>\n",
              "      <th>2624</th>\n",
              "      <th>2711</th>\n",
              "      <th>2712</th>\n",
              "      <th>2714</th>\n",
              "      <th>2715</th>\n",
              "      <th>2716</th>\n",
              "      <th>2720</th>\n",
              "      <th>2724</th>\n",
              "      <th>2725</th>\n",
              "      <th>2726</th>\n",
              "      <th>2727</th>\n",
              "      <th>2734</th>\n",
              "      <th>2752</th>\n",
              "      <th>2753</th>\n",
              "      <th>4926</th>\n",
              "      <th>5061</th>\n",
              "      <th>5062</th>\n",
              "      <th>5811</th>\n",
              "      <th>7912</th>\n",
              "      <th>7913</th>\n",
              "      <th>7914</th>\n",
              "      <th>10821</th>\n",
              "      <th>10971</th>\n",
              "      <th>11021</th>\n",
              "      <th>93529</th>\n",
              "    </tr>\n",
              "    <tr>\n",
              "      <th>alert reason category</th>\n",
              "      <th></th>\n",
              "      <th></th>\n",
              "      <th></th>\n",
              "      <th></th>\n",
              "      <th></th>\n",
              "      <th></th>\n",
              "      <th></th>\n",
              "      <th></th>\n",
              "      <th></th>\n",
              "      <th></th>\n",
              "      <th></th>\n",
              "      <th></th>\n",
              "      <th></th>\n",
              "      <th></th>\n",
              "      <th></th>\n",
              "      <th></th>\n",
              "      <th></th>\n",
              "      <th></th>\n",
              "      <th></th>\n",
              "      <th></th>\n",
              "      <th></th>\n",
              "      <th></th>\n",
              "      <th></th>\n",
              "      <th></th>\n",
              "      <th></th>\n",
              "      <th></th>\n",
              "      <th></th>\n",
              "      <th></th>\n",
              "      <th></th>\n",
              "      <th></th>\n",
              "      <th></th>\n",
              "      <th></th>\n",
              "      <th></th>\n",
              "      <th></th>\n",
              "      <th></th>\n",
              "      <th></th>\n",
              "      <th></th>\n",
              "      <th></th>\n",
              "      <th></th>\n",
              "      <th></th>\n",
              "      <th></th>\n",
              "      <th></th>\n",
              "      <th></th>\n",
              "      <th></th>\n",
              "      <th></th>\n",
              "      <th></th>\n",
              "      <th></th>\n",
              "      <th></th>\n",
              "      <th></th>\n",
              "      <th></th>\n",
              "      <th></th>\n",
              "      <th></th>\n",
              "      <th></th>\n",
              "      <th></th>\n",
              "      <th></th>\n",
              "      <th></th>\n",
              "      <th></th>\n",
              "      <th></th>\n",
              "      <th></th>\n",
              "      <th></th>\n",
              "      <th></th>\n",
              "      <th></th>\n",
              "      <th></th>\n",
              "      <th></th>\n",
              "      <th></th>\n",
              "      <th></th>\n",
              "      <th></th>\n",
              "      <th></th>\n",
              "      <th></th>\n",
              "      <th></th>\n",
              "      <th></th>\n",
              "      <th></th>\n",
              "      <th></th>\n",
              "      <th></th>\n",
              "      <th></th>\n",
              "      <th></th>\n",
              "      <th></th>\n",
              "      <th></th>\n",
              "      <th></th>\n",
              "      <th></th>\n",
              "      <th></th>\n",
              "    </tr>\n",
              "  </thead>\n",
              "  <tbody>\n",
              "    <tr>\n",
              "      <th>1</th>\n",
              "      <td>119</td>\n",
              "      <td>792</td>\n",
              "      <td>1036</td>\n",
              "      <td>4</td>\n",
              "      <td>1389</td>\n",
              "      <td>3</td>\n",
              "      <td>13339</td>\n",
              "      <td>299</td>\n",
              "      <td>288</td>\n",
              "      <td>7</td>\n",
              "      <td>52</td>\n",
              "      <td>1306</td>\n",
              "      <td>1</td>\n",
              "      <td>26</td>\n",
              "      <td>7</td>\n",
              "      <td>487</td>\n",
              "      <td>2056</td>\n",
              "      <td>6</td>\n",
              "      <td>2</td>\n",
              "      <td>47</td>\n",
              "      <td>4</td>\n",
              "      <td>0</td>\n",
              "      <td>0</td>\n",
              "      <td>0</td>\n",
              "      <td>0</td>\n",
              "      <td>0</td>\n",
              "      <td>0</td>\n",
              "      <td>0</td>\n",
              "      <td>0</td>\n",
              "      <td>0</td>\n",
              "      <td>0</td>\n",
              "      <td>0</td>\n",
              "      <td>0</td>\n",
              "      <td>0</td>\n",
              "      <td>0</td>\n",
              "      <td>0</td>\n",
              "      <td>0</td>\n",
              "      <td>0</td>\n",
              "      <td>0</td>\n",
              "      <td>0</td>\n",
              "      <td>...</td>\n",
              "      <td>0</td>\n",
              "      <td>0</td>\n",
              "      <td>0</td>\n",
              "      <td>0</td>\n",
              "      <td>0</td>\n",
              "      <td>0</td>\n",
              "      <td>0</td>\n",
              "      <td>0</td>\n",
              "      <td>0</td>\n",
              "      <td>0</td>\n",
              "      <td>0</td>\n",
              "      <td>0</td>\n",
              "      <td>0</td>\n",
              "      <td>0</td>\n",
              "      <td>0</td>\n",
              "      <td>0</td>\n",
              "      <td>0</td>\n",
              "      <td>0</td>\n",
              "      <td>0</td>\n",
              "      <td>0</td>\n",
              "      <td>0</td>\n",
              "      <td>0</td>\n",
              "      <td>0</td>\n",
              "      <td>0</td>\n",
              "      <td>0</td>\n",
              "      <td>0</td>\n",
              "      <td>0</td>\n",
              "      <td>0</td>\n",
              "      <td>0</td>\n",
              "      <td>0</td>\n",
              "      <td>0</td>\n",
              "      <td>0</td>\n",
              "      <td>0</td>\n",
              "      <td>0</td>\n",
              "      <td>0</td>\n",
              "      <td>0</td>\n",
              "      <td>0</td>\n",
              "      <td>0</td>\n",
              "      <td>0</td>\n",
              "      <td>0</td>\n",
              "    </tr>\n",
              "    <tr>\n",
              "      <th>2</th>\n",
              "      <td>0</td>\n",
              "      <td>0</td>\n",
              "      <td>0</td>\n",
              "      <td>0</td>\n",
              "      <td>0</td>\n",
              "      <td>0</td>\n",
              "      <td>0</td>\n",
              "      <td>0</td>\n",
              "      <td>0</td>\n",
              "      <td>0</td>\n",
              "      <td>0</td>\n",
              "      <td>0</td>\n",
              "      <td>0</td>\n",
              "      <td>0</td>\n",
              "      <td>0</td>\n",
              "      <td>0</td>\n",
              "      <td>0</td>\n",
              "      <td>0</td>\n",
              "      <td>0</td>\n",
              "      <td>0</td>\n",
              "      <td>0</td>\n",
              "      <td>2057</td>\n",
              "      <td>37</td>\n",
              "      <td>4</td>\n",
              "      <td>27</td>\n",
              "      <td>1562</td>\n",
              "      <td>1984</td>\n",
              "      <td>9</td>\n",
              "      <td>10</td>\n",
              "      <td>4</td>\n",
              "      <td>5</td>\n",
              "      <td>6</td>\n",
              "      <td>0</td>\n",
              "      <td>0</td>\n",
              "      <td>0</td>\n",
              "      <td>0</td>\n",
              "      <td>0</td>\n",
              "      <td>0</td>\n",
              "      <td>0</td>\n",
              "      <td>0</td>\n",
              "      <td>...</td>\n",
              "      <td>0</td>\n",
              "      <td>0</td>\n",
              "      <td>0</td>\n",
              "      <td>0</td>\n",
              "      <td>0</td>\n",
              "      <td>0</td>\n",
              "      <td>0</td>\n",
              "      <td>0</td>\n",
              "      <td>0</td>\n",
              "      <td>0</td>\n",
              "      <td>0</td>\n",
              "      <td>0</td>\n",
              "      <td>0</td>\n",
              "      <td>0</td>\n",
              "      <td>0</td>\n",
              "      <td>0</td>\n",
              "      <td>0</td>\n",
              "      <td>0</td>\n",
              "      <td>0</td>\n",
              "      <td>0</td>\n",
              "      <td>0</td>\n",
              "      <td>0</td>\n",
              "      <td>0</td>\n",
              "      <td>0</td>\n",
              "      <td>0</td>\n",
              "      <td>0</td>\n",
              "      <td>0</td>\n",
              "      <td>0</td>\n",
              "      <td>0</td>\n",
              "      <td>0</td>\n",
              "      <td>0</td>\n",
              "      <td>0</td>\n",
              "      <td>0</td>\n",
              "      <td>0</td>\n",
              "      <td>0</td>\n",
              "      <td>0</td>\n",
              "      <td>0</td>\n",
              "      <td>0</td>\n",
              "      <td>0</td>\n",
              "      <td>0</td>\n",
              "    </tr>\n",
              "    <tr>\n",
              "      <th>3</th>\n",
              "      <td>0</td>\n",
              "      <td>0</td>\n",
              "      <td>0</td>\n",
              "      <td>0</td>\n",
              "      <td>0</td>\n",
              "      <td>0</td>\n",
              "      <td>0</td>\n",
              "      <td>0</td>\n",
              "      <td>0</td>\n",
              "      <td>0</td>\n",
              "      <td>0</td>\n",
              "      <td>0</td>\n",
              "      <td>0</td>\n",
              "      <td>0</td>\n",
              "      <td>0</td>\n",
              "      <td>0</td>\n",
              "      <td>0</td>\n",
              "      <td>0</td>\n",
              "      <td>0</td>\n",
              "      <td>0</td>\n",
              "      <td>0</td>\n",
              "      <td>0</td>\n",
              "      <td>0</td>\n",
              "      <td>0</td>\n",
              "      <td>0</td>\n",
              "      <td>0</td>\n",
              "      <td>0</td>\n",
              "      <td>0</td>\n",
              "      <td>0</td>\n",
              "      <td>0</td>\n",
              "      <td>0</td>\n",
              "      <td>0</td>\n",
              "      <td>37332</td>\n",
              "      <td>23112</td>\n",
              "      <td>106</td>\n",
              "      <td>524</td>\n",
              "      <td>1765</td>\n",
              "      <td>2214</td>\n",
              "      <td>3392</td>\n",
              "      <td>91</td>\n",
              "      <td>...</td>\n",
              "      <td>0</td>\n",
              "      <td>0</td>\n",
              "      <td>0</td>\n",
              "      <td>0</td>\n",
              "      <td>0</td>\n",
              "      <td>0</td>\n",
              "      <td>0</td>\n",
              "      <td>0</td>\n",
              "      <td>0</td>\n",
              "      <td>0</td>\n",
              "      <td>0</td>\n",
              "      <td>0</td>\n",
              "      <td>0</td>\n",
              "      <td>0</td>\n",
              "      <td>0</td>\n",
              "      <td>0</td>\n",
              "      <td>0</td>\n",
              "      <td>0</td>\n",
              "      <td>0</td>\n",
              "      <td>0</td>\n",
              "      <td>0</td>\n",
              "      <td>0</td>\n",
              "      <td>0</td>\n",
              "      <td>0</td>\n",
              "      <td>0</td>\n",
              "      <td>0</td>\n",
              "      <td>0</td>\n",
              "      <td>0</td>\n",
              "      <td>0</td>\n",
              "      <td>12</td>\n",
              "      <td>370</td>\n",
              "      <td>2964</td>\n",
              "      <td>0</td>\n",
              "      <td>0</td>\n",
              "      <td>0</td>\n",
              "      <td>0</td>\n",
              "      <td>0</td>\n",
              "      <td>0</td>\n",
              "      <td>0</td>\n",
              "      <td>0</td>\n",
              "    </tr>\n",
              "    <tr>\n",
              "      <th>4</th>\n",
              "      <td>0</td>\n",
              "      <td>0</td>\n",
              "      <td>0</td>\n",
              "      <td>0</td>\n",
              "      <td>0</td>\n",
              "      <td>0</td>\n",
              "      <td>0</td>\n",
              "      <td>0</td>\n",
              "      <td>0</td>\n",
              "      <td>0</td>\n",
              "      <td>0</td>\n",
              "      <td>0</td>\n",
              "      <td>0</td>\n",
              "      <td>0</td>\n",
              "      <td>0</td>\n",
              "      <td>0</td>\n",
              "      <td>0</td>\n",
              "      <td>0</td>\n",
              "      <td>0</td>\n",
              "      <td>0</td>\n",
              "      <td>0</td>\n",
              "      <td>0</td>\n",
              "      <td>0</td>\n",
              "      <td>0</td>\n",
              "      <td>0</td>\n",
              "      <td>0</td>\n",
              "      <td>0</td>\n",
              "      <td>0</td>\n",
              "      <td>0</td>\n",
              "      <td>0</td>\n",
              "      <td>0</td>\n",
              "      <td>0</td>\n",
              "      <td>0</td>\n",
              "      <td>0</td>\n",
              "      <td>0</td>\n",
              "      <td>0</td>\n",
              "      <td>0</td>\n",
              "      <td>0</td>\n",
              "      <td>0</td>\n",
              "      <td>0</td>\n",
              "      <td>...</td>\n",
              "      <td>0</td>\n",
              "      <td>0</td>\n",
              "      <td>0</td>\n",
              "      <td>0</td>\n",
              "      <td>0</td>\n",
              "      <td>0</td>\n",
              "      <td>0</td>\n",
              "      <td>0</td>\n",
              "      <td>0</td>\n",
              "      <td>0</td>\n",
              "      <td>0</td>\n",
              "      <td>0</td>\n",
              "      <td>0</td>\n",
              "      <td>0</td>\n",
              "      <td>0</td>\n",
              "      <td>0</td>\n",
              "      <td>0</td>\n",
              "      <td>0</td>\n",
              "      <td>0</td>\n",
              "      <td>0</td>\n",
              "      <td>0</td>\n",
              "      <td>0</td>\n",
              "      <td>0</td>\n",
              "      <td>0</td>\n",
              "      <td>0</td>\n",
              "      <td>0</td>\n",
              "      <td>0</td>\n",
              "      <td>0</td>\n",
              "      <td>0</td>\n",
              "      <td>0</td>\n",
              "      <td>0</td>\n",
              "      <td>0</td>\n",
              "      <td>1</td>\n",
              "      <td>0</td>\n",
              "      <td>0</td>\n",
              "      <td>0</td>\n",
              "      <td>0</td>\n",
              "      <td>0</td>\n",
              "      <td>0</td>\n",
              "      <td>0</td>\n",
              "    </tr>\n",
              "    <tr>\n",
              "      <th>5</th>\n",
              "      <td>0</td>\n",
              "      <td>0</td>\n",
              "      <td>0</td>\n",
              "      <td>0</td>\n",
              "      <td>0</td>\n",
              "      <td>0</td>\n",
              "      <td>0</td>\n",
              "      <td>0</td>\n",
              "      <td>0</td>\n",
              "      <td>0</td>\n",
              "      <td>0</td>\n",
              "      <td>0</td>\n",
              "      <td>0</td>\n",
              "      <td>0</td>\n",
              "      <td>0</td>\n",
              "      <td>0</td>\n",
              "      <td>0</td>\n",
              "      <td>0</td>\n",
              "      <td>0</td>\n",
              "      <td>0</td>\n",
              "      <td>0</td>\n",
              "      <td>0</td>\n",
              "      <td>0</td>\n",
              "      <td>0</td>\n",
              "      <td>0</td>\n",
              "      <td>0</td>\n",
              "      <td>0</td>\n",
              "      <td>0</td>\n",
              "      <td>0</td>\n",
              "      <td>0</td>\n",
              "      <td>0</td>\n",
              "      <td>0</td>\n",
              "      <td>0</td>\n",
              "      <td>0</td>\n",
              "      <td>0</td>\n",
              "      <td>0</td>\n",
              "      <td>0</td>\n",
              "      <td>0</td>\n",
              "      <td>0</td>\n",
              "      <td>0</td>\n",
              "      <td>...</td>\n",
              "      <td>0</td>\n",
              "      <td>0</td>\n",
              "      <td>0</td>\n",
              "      <td>0</td>\n",
              "      <td>0</td>\n",
              "      <td>0</td>\n",
              "      <td>0</td>\n",
              "      <td>0</td>\n",
              "      <td>0</td>\n",
              "      <td>0</td>\n",
              "      <td>0</td>\n",
              "      <td>0</td>\n",
              "      <td>0</td>\n",
              "      <td>0</td>\n",
              "      <td>0</td>\n",
              "      <td>0</td>\n",
              "      <td>0</td>\n",
              "      <td>0</td>\n",
              "      <td>0</td>\n",
              "      <td>0</td>\n",
              "      <td>0</td>\n",
              "      <td>0</td>\n",
              "      <td>0</td>\n",
              "      <td>0</td>\n",
              "      <td>0</td>\n",
              "      <td>0</td>\n",
              "      <td>0</td>\n",
              "      <td>0</td>\n",
              "      <td>0</td>\n",
              "      <td>0</td>\n",
              "      <td>0</td>\n",
              "      <td>0</td>\n",
              "      <td>0</td>\n",
              "      <td>0</td>\n",
              "      <td>0</td>\n",
              "      <td>0</td>\n",
              "      <td>0</td>\n",
              "      <td>0</td>\n",
              "      <td>0</td>\n",
              "      <td>0</td>\n",
              "    </tr>\n",
              "    <tr>\n",
              "      <th>6</th>\n",
              "      <td>0</td>\n",
              "      <td>0</td>\n",
              "      <td>0</td>\n",
              "      <td>0</td>\n",
              "      <td>0</td>\n",
              "      <td>0</td>\n",
              "      <td>0</td>\n",
              "      <td>0</td>\n",
              "      <td>0</td>\n",
              "      <td>0</td>\n",
              "      <td>0</td>\n",
              "      <td>0</td>\n",
              "      <td>0</td>\n",
              "      <td>0</td>\n",
              "      <td>0</td>\n",
              "      <td>0</td>\n",
              "      <td>0</td>\n",
              "      <td>0</td>\n",
              "      <td>0</td>\n",
              "      <td>0</td>\n",
              "      <td>0</td>\n",
              "      <td>0</td>\n",
              "      <td>0</td>\n",
              "      <td>0</td>\n",
              "      <td>0</td>\n",
              "      <td>0</td>\n",
              "      <td>0</td>\n",
              "      <td>0</td>\n",
              "      <td>0</td>\n",
              "      <td>0</td>\n",
              "      <td>0</td>\n",
              "      <td>0</td>\n",
              "      <td>0</td>\n",
              "      <td>0</td>\n",
              "      <td>0</td>\n",
              "      <td>0</td>\n",
              "      <td>0</td>\n",
              "      <td>0</td>\n",
              "      <td>0</td>\n",
              "      <td>0</td>\n",
              "      <td>...</td>\n",
              "      <td>707</td>\n",
              "      <td>2</td>\n",
              "      <td>356</td>\n",
              "      <td>73</td>\n",
              "      <td>0</td>\n",
              "      <td>0</td>\n",
              "      <td>0</td>\n",
              "      <td>0</td>\n",
              "      <td>0</td>\n",
              "      <td>0</td>\n",
              "      <td>0</td>\n",
              "      <td>0</td>\n",
              "      <td>0</td>\n",
              "      <td>0</td>\n",
              "      <td>0</td>\n",
              "      <td>0</td>\n",
              "      <td>0</td>\n",
              "      <td>0</td>\n",
              "      <td>0</td>\n",
              "      <td>0</td>\n",
              "      <td>0</td>\n",
              "      <td>0</td>\n",
              "      <td>0</td>\n",
              "      <td>0</td>\n",
              "      <td>0</td>\n",
              "      <td>0</td>\n",
              "      <td>0</td>\n",
              "      <td>0</td>\n",
              "      <td>0</td>\n",
              "      <td>0</td>\n",
              "      <td>0</td>\n",
              "      <td>0</td>\n",
              "      <td>0</td>\n",
              "      <td>96</td>\n",
              "      <td>308</td>\n",
              "      <td>104</td>\n",
              "      <td>0</td>\n",
              "      <td>0</td>\n",
              "      <td>0</td>\n",
              "      <td>0</td>\n",
              "    </tr>\n",
              "    <tr>\n",
              "      <th>7</th>\n",
              "      <td>0</td>\n",
              "      <td>0</td>\n",
              "      <td>0</td>\n",
              "      <td>0</td>\n",
              "      <td>0</td>\n",
              "      <td>0</td>\n",
              "      <td>0</td>\n",
              "      <td>0</td>\n",
              "      <td>0</td>\n",
              "      <td>0</td>\n",
              "      <td>0</td>\n",
              "      <td>0</td>\n",
              "      <td>0</td>\n",
              "      <td>0</td>\n",
              "      <td>0</td>\n",
              "      <td>0</td>\n",
              "      <td>0</td>\n",
              "      <td>0</td>\n",
              "      <td>0</td>\n",
              "      <td>0</td>\n",
              "      <td>0</td>\n",
              "      <td>0</td>\n",
              "      <td>0</td>\n",
              "      <td>0</td>\n",
              "      <td>0</td>\n",
              "      <td>0</td>\n",
              "      <td>0</td>\n",
              "      <td>0</td>\n",
              "      <td>0</td>\n",
              "      <td>0</td>\n",
              "      <td>0</td>\n",
              "      <td>0</td>\n",
              "      <td>0</td>\n",
              "      <td>0</td>\n",
              "      <td>0</td>\n",
              "      <td>0</td>\n",
              "      <td>0</td>\n",
              "      <td>0</td>\n",
              "      <td>0</td>\n",
              "      <td>0</td>\n",
              "      <td>...</td>\n",
              "      <td>0</td>\n",
              "      <td>0</td>\n",
              "      <td>0</td>\n",
              "      <td>0</td>\n",
              "      <td>23</td>\n",
              "      <td>31</td>\n",
              "      <td>1</td>\n",
              "      <td>125</td>\n",
              "      <td>590</td>\n",
              "      <td>66</td>\n",
              "      <td>65</td>\n",
              "      <td>0</td>\n",
              "      <td>0</td>\n",
              "      <td>0</td>\n",
              "      <td>0</td>\n",
              "      <td>0</td>\n",
              "      <td>0</td>\n",
              "      <td>0</td>\n",
              "      <td>0</td>\n",
              "      <td>0</td>\n",
              "      <td>0</td>\n",
              "      <td>0</td>\n",
              "      <td>0</td>\n",
              "      <td>0</td>\n",
              "      <td>0</td>\n",
              "      <td>0</td>\n",
              "      <td>0</td>\n",
              "      <td>0</td>\n",
              "      <td>0</td>\n",
              "      <td>0</td>\n",
              "      <td>0</td>\n",
              "      <td>0</td>\n",
              "      <td>0</td>\n",
              "      <td>0</td>\n",
              "      <td>0</td>\n",
              "      <td>0</td>\n",
              "      <td>0</td>\n",
              "      <td>0</td>\n",
              "      <td>0</td>\n",
              "      <td>0</td>\n",
              "    </tr>\n",
              "    <tr>\n",
              "      <th>8</th>\n",
              "      <td>0</td>\n",
              "      <td>0</td>\n",
              "      <td>0</td>\n",
              "      <td>0</td>\n",
              "      <td>0</td>\n",
              "      <td>0</td>\n",
              "      <td>0</td>\n",
              "      <td>0</td>\n",
              "      <td>0</td>\n",
              "      <td>0</td>\n",
              "      <td>0</td>\n",
              "      <td>0</td>\n",
              "      <td>0</td>\n",
              "      <td>0</td>\n",
              "      <td>0</td>\n",
              "      <td>0</td>\n",
              "      <td>0</td>\n",
              "      <td>0</td>\n",
              "      <td>0</td>\n",
              "      <td>0</td>\n",
              "      <td>0</td>\n",
              "      <td>0</td>\n",
              "      <td>0</td>\n",
              "      <td>0</td>\n",
              "      <td>0</td>\n",
              "      <td>0</td>\n",
              "      <td>0</td>\n",
              "      <td>0</td>\n",
              "      <td>0</td>\n",
              "      <td>0</td>\n",
              "      <td>0</td>\n",
              "      <td>0</td>\n",
              "      <td>0</td>\n",
              "      <td>0</td>\n",
              "      <td>0</td>\n",
              "      <td>0</td>\n",
              "      <td>0</td>\n",
              "      <td>0</td>\n",
              "      <td>0</td>\n",
              "      <td>0</td>\n",
              "      <td>...</td>\n",
              "      <td>0</td>\n",
              "      <td>0</td>\n",
              "      <td>0</td>\n",
              "      <td>0</td>\n",
              "      <td>0</td>\n",
              "      <td>0</td>\n",
              "      <td>0</td>\n",
              "      <td>0</td>\n",
              "      <td>0</td>\n",
              "      <td>0</td>\n",
              "      <td>0</td>\n",
              "      <td>1</td>\n",
              "      <td>5</td>\n",
              "      <td>20</td>\n",
              "      <td>321</td>\n",
              "      <td>30</td>\n",
              "      <td>0</td>\n",
              "      <td>0</td>\n",
              "      <td>0</td>\n",
              "      <td>0</td>\n",
              "      <td>0</td>\n",
              "      <td>0</td>\n",
              "      <td>0</td>\n",
              "      <td>0</td>\n",
              "      <td>0</td>\n",
              "      <td>0</td>\n",
              "      <td>0</td>\n",
              "      <td>0</td>\n",
              "      <td>0</td>\n",
              "      <td>0</td>\n",
              "      <td>0</td>\n",
              "      <td>0</td>\n",
              "      <td>0</td>\n",
              "      <td>0</td>\n",
              "      <td>0</td>\n",
              "      <td>0</td>\n",
              "      <td>0</td>\n",
              "      <td>0</td>\n",
              "      <td>0</td>\n",
              "      <td>0</td>\n",
              "    </tr>\n",
              "    <tr>\n",
              "      <th>9</th>\n",
              "      <td>0</td>\n",
              "      <td>0</td>\n",
              "      <td>0</td>\n",
              "      <td>0</td>\n",
              "      <td>0</td>\n",
              "      <td>0</td>\n",
              "      <td>0</td>\n",
              "      <td>0</td>\n",
              "      <td>0</td>\n",
              "      <td>0</td>\n",
              "      <td>0</td>\n",
              "      <td>0</td>\n",
              "      <td>0</td>\n",
              "      <td>0</td>\n",
              "      <td>0</td>\n",
              "      <td>0</td>\n",
              "      <td>0</td>\n",
              "      <td>0</td>\n",
              "      <td>0</td>\n",
              "      <td>0</td>\n",
              "      <td>0</td>\n",
              "      <td>0</td>\n",
              "      <td>0</td>\n",
              "      <td>0</td>\n",
              "      <td>0</td>\n",
              "      <td>0</td>\n",
              "      <td>0</td>\n",
              "      <td>0</td>\n",
              "      <td>0</td>\n",
              "      <td>0</td>\n",
              "      <td>0</td>\n",
              "      <td>0</td>\n",
              "      <td>0</td>\n",
              "      <td>0</td>\n",
              "      <td>0</td>\n",
              "      <td>0</td>\n",
              "      <td>0</td>\n",
              "      <td>0</td>\n",
              "      <td>0</td>\n",
              "      <td>0</td>\n",
              "      <td>...</td>\n",
              "      <td>0</td>\n",
              "      <td>0</td>\n",
              "      <td>0</td>\n",
              "      <td>0</td>\n",
              "      <td>0</td>\n",
              "      <td>0</td>\n",
              "      <td>0</td>\n",
              "      <td>0</td>\n",
              "      <td>0</td>\n",
              "      <td>0</td>\n",
              "      <td>0</td>\n",
              "      <td>0</td>\n",
              "      <td>0</td>\n",
              "      <td>0</td>\n",
              "      <td>0</td>\n",
              "      <td>0</td>\n",
              "      <td>5919</td>\n",
              "      <td>13</td>\n",
              "      <td>6</td>\n",
              "      <td>3</td>\n",
              "      <td>1252</td>\n",
              "      <td>103</td>\n",
              "      <td>21</td>\n",
              "      <td>19</td>\n",
              "      <td>1</td>\n",
              "      <td>2</td>\n",
              "      <td>2</td>\n",
              "      <td>56</td>\n",
              "      <td>11</td>\n",
              "      <td>0</td>\n",
              "      <td>0</td>\n",
              "      <td>0</td>\n",
              "      <td>0</td>\n",
              "      <td>0</td>\n",
              "      <td>0</td>\n",
              "      <td>0</td>\n",
              "      <td>2</td>\n",
              "      <td>1</td>\n",
              "      <td>6</td>\n",
              "      <td>64</td>\n",
              "    </tr>\n",
              "  </tbody>\n",
              "</table>\n",
              "<p>9 rows × 126 columns</p>\n",
              "</div>"
            ],
            "text/plain": [
              "alert reason           1911   1912   1914   1917   ...  10821  10971  11021  93529\n",
              "alert reason category                              ...                            \n",
              "1                        119    792   1036      4  ...      0      0      0      0\n",
              "2                          0      0      0      0  ...      0      0      0      0\n",
              "3                          0      0      0      0  ...      0      0      0      0\n",
              "4                          0      0      0      0  ...      0      0      0      0\n",
              "5                          0      0      0      0  ...      0      0      0      0\n",
              "6                          0      0      0      0  ...      0      0      0      0\n",
              "7                          0      0      0      0  ...      0      0      0      0\n",
              "8                          0      0      0      0  ...      0      0      0      0\n",
              "9                          0      0      0      0  ...      2      1      6     64\n",
              "\n",
              "[9 rows x 126 columns]"
            ]
          },
          "metadata": {
            "tags": []
          },
          "execution_count": 11
        }
      ]
    },
    {
      "cell_type": "code",
      "metadata": {
        "id": "qYDkmd3bxquP",
        "colab": {
          "base_uri": "https://localhost:8080/",
          "height": 227
        },
        "outputId": "63a2bcd2-9fa0-4c56-831c-190e493d734a"
      },
      "source": [
        "#Borrar columnas que no utilizaremos\n",
        "\n",
        "col_borrar=['intervention',  #identificador de la intervención\n",
        "            'emergency vehicle',  #id 749 vehículo de emergencia \n",
        "            'rescue center', # id 94 centros de rescate, estacionamiento de los vehícuos\n",
        "            'alert reason', # 126 categorías, que están resumidas en 'alert reason category'\n",
        "            'date key sélection', 'time key sélection', #redundantes\n",
        "            'OSRM response', #rutas\n",
        "            'GPS tracks departure-presentation', #rutas\n",
        "            'GPS tracks datetime departure-presentation', #rutas\n",
        "            'longitude intervention', 'latitude intervention', #coordenadas\n",
        "            'longitude before departure',  #coordenadas\n",
        "            'latitude before departure',    #coordenadas\n",
        "\n",
        "            #variable no relaccionadas con delta departure-presentation\n",
        "            'status preceding selection',  \n",
        "            'delta status preceding selection-selection',\n",
        "            'departed from its rescue center',\n",
        "            'delta position gps previous departure-departure'\n",
        "            ]\n",
        "df= input.drop(columns= col_borrar)\n",
        "print(df.shape)\n",
        "df.head(2)"
      ],
      "execution_count": 12,
      "outputs": [
        {
          "output_type": "stream",
          "text": [
            "(219337, 8)\n"
          ],
          "name": "stdout"
        },
        {
          "output_type": "execute_result",
          "data": {
            "text/html": [
              "<div>\n",
              "<style scoped>\n",
              "    .dataframe tbody tr th:only-of-type {\n",
              "        vertical-align: middle;\n",
              "    }\n",
              "\n",
              "    .dataframe tbody tr th {\n",
              "        vertical-align: top;\n",
              "    }\n",
              "\n",
              "    .dataframe thead th {\n",
              "        text-align: right;\n",
              "    }\n",
              "</style>\n",
              "<table border=\"1\" class=\"dataframe\">\n",
              "  <thead>\n",
              "    <tr style=\"text-align: right;\">\n",
              "      <th></th>\n",
              "      <th>alert reason category</th>\n",
              "      <th>intervention on public roads</th>\n",
              "      <th>floor</th>\n",
              "      <th>location of the event</th>\n",
              "      <th>emergency vehicle type</th>\n",
              "      <th>selection time</th>\n",
              "      <th>OSRM estimated distance</th>\n",
              "      <th>OSRM estimated duration</th>\n",
              "    </tr>\n",
              "    <tr>\n",
              "      <th>emergency vehicle selection</th>\n",
              "      <th></th>\n",
              "      <th></th>\n",
              "      <th></th>\n",
              "      <th></th>\n",
              "      <th></th>\n",
              "      <th></th>\n",
              "      <th></th>\n",
              "      <th></th>\n",
              "    </tr>\n",
              "  </thead>\n",
              "  <tbody>\n",
              "    <tr>\n",
              "      <th>5105452</th>\n",
              "      <td>3</td>\n",
              "      <td>0</td>\n",
              "      <td>0</td>\n",
              "      <td>148.0</td>\n",
              "      <td>VSAV BSPP</td>\n",
              "      <td>2018-07-08 19:02:43.990</td>\n",
              "      <td>952.5</td>\n",
              "      <td>105.8</td>\n",
              "    </tr>\n",
              "    <tr>\n",
              "      <th>4720915</th>\n",
              "      <td>3</td>\n",
              "      <td>0</td>\n",
              "      <td>1</td>\n",
              "      <td>136.0</td>\n",
              "      <td>PSE</td>\n",
              "      <td>2018-01-04 09:02:59.470</td>\n",
              "      <td>2238.5</td>\n",
              "      <td>243.2</td>\n",
              "    </tr>\n",
              "  </tbody>\n",
              "</table>\n",
              "</div>"
            ],
            "text/plain": [
              "                             alert reason category  ...  OSRM estimated duration\n",
              "emergency vehicle selection                         ...                         \n",
              "5105452                                          3  ...                    105.8\n",
              "4720915                                          3  ...                    243.2\n",
              "\n",
              "[2 rows x 8 columns]"
            ]
          },
          "metadata": {
            "tags": []
          },
          "execution_count": 12
        }
      ]
    },
    {
      "cell_type": "markdown",
      "metadata": {
        "id": "LCjTqJpvAvMq"
      },
      "source": [
        "__Unir caracteristicas con étiquetas__"
      ]
    },
    {
      "cell_type": "code",
      "metadata": {
        "id": "Ux4dTQm0AvMr",
        "colab": {
          "base_uri": "https://localhost:8080/",
          "height": 227
        },
        "outputId": "256e4b7e-d4e2-4125-b0f6-be60d0dea5a7"
      },
      "source": [
        "df=pd.concat([df,Y], axis=1)\n",
        "print(df.shape)\n",
        "df.head(2)"
      ],
      "execution_count": 13,
      "outputs": [
        {
          "output_type": "stream",
          "text": [
            "(219337, 9)\n"
          ],
          "name": "stdout"
        },
        {
          "output_type": "execute_result",
          "data": {
            "text/html": [
              "<div>\n",
              "<style scoped>\n",
              "    .dataframe tbody tr th:only-of-type {\n",
              "        vertical-align: middle;\n",
              "    }\n",
              "\n",
              "    .dataframe tbody tr th {\n",
              "        vertical-align: top;\n",
              "    }\n",
              "\n",
              "    .dataframe thead th {\n",
              "        text-align: right;\n",
              "    }\n",
              "</style>\n",
              "<table border=\"1\" class=\"dataframe\">\n",
              "  <thead>\n",
              "    <tr style=\"text-align: right;\">\n",
              "      <th></th>\n",
              "      <th>alert reason category</th>\n",
              "      <th>intervention on public roads</th>\n",
              "      <th>floor</th>\n",
              "      <th>location of the event</th>\n",
              "      <th>emergency vehicle type</th>\n",
              "      <th>selection time</th>\n",
              "      <th>OSRM estimated distance</th>\n",
              "      <th>OSRM estimated duration</th>\n",
              "      <th>delta departure-presentation</th>\n",
              "    </tr>\n",
              "    <tr>\n",
              "      <th>emergency vehicle selection</th>\n",
              "      <th></th>\n",
              "      <th></th>\n",
              "      <th></th>\n",
              "      <th></th>\n",
              "      <th></th>\n",
              "      <th></th>\n",
              "      <th></th>\n",
              "      <th></th>\n",
              "      <th></th>\n",
              "    </tr>\n",
              "  </thead>\n",
              "  <tbody>\n",
              "    <tr>\n",
              "      <th>5105452</th>\n",
              "      <td>3</td>\n",
              "      <td>0</td>\n",
              "      <td>0</td>\n",
              "      <td>148.0</td>\n",
              "      <td>VSAV BSPP</td>\n",
              "      <td>2018-07-08 19:02:43.990</td>\n",
              "      <td>952.5</td>\n",
              "      <td>105.8</td>\n",
              "      <td>324</td>\n",
              "    </tr>\n",
              "    <tr>\n",
              "      <th>4720915</th>\n",
              "      <td>3</td>\n",
              "      <td>0</td>\n",
              "      <td>1</td>\n",
              "      <td>136.0</td>\n",
              "      <td>PSE</td>\n",
              "      <td>2018-01-04 09:02:59.470</td>\n",
              "      <td>2238.5</td>\n",
              "      <td>243.2</td>\n",
              "      <td>297</td>\n",
              "    </tr>\n",
              "  </tbody>\n",
              "</table>\n",
              "</div>"
            ],
            "text/plain": [
              "                             alert reason category  ...  delta departure-presentation\n",
              "emergency vehicle selection                         ...                              \n",
              "5105452                                          3  ...                           324\n",
              "4720915                                          3  ...                           297\n",
              "\n",
              "[2 rows x 9 columns]"
            ]
          },
          "metadata": {
            "tags": []
          },
          "execution_count": 13
        }
      ]
    },
    {
      "cell_type": "markdown",
      "metadata": {
        "id": "iMEaKQ1dfvbT"
      },
      "source": [
        "# Idetificación del tipo de variable de cada columna"
      ]
    },
    {
      "cell_type": "markdown",
      "metadata": {
        "id": "6cJRa4_XaIiB"
      },
      "source": [
        "Comparamos el tipo de cada columna con la documentación de los parámetros de entrada en [la documentación provista por el Challenge](https://paris-fire-brigade.github.io/data-challenge/challenge.html)"
      ]
    },
    {
      "cell_type": "code",
      "metadata": {
        "id": "Z58ZKbpMg0LF",
        "colab": {
          "base_uri": "https://localhost:8080/"
        },
        "outputId": "581fd71e-449a-4944-aa0b-9ccace87c8b8"
      },
      "source": [
        "df.info()"
      ],
      "execution_count": 14,
      "outputs": [
        {
          "output_type": "stream",
          "text": [
            "<class 'pandas.core.frame.DataFrame'>\n",
            "Int64Index: 219337 entries, 5105452 to 4868867\n",
            "Data columns (total 9 columns):\n",
            " #   Column                        Non-Null Count   Dtype         \n",
            "---  ------                        --------------   -----         \n",
            " 0   alert reason category         219337 non-null  int64         \n",
            " 1   intervention on public roads  219337 non-null  int64         \n",
            " 2   floor                         219337 non-null  int64         \n",
            " 3   location of the event         206627 non-null  float64       \n",
            " 4   emergency vehicle type        219337 non-null  object        \n",
            " 5   selection time                219337 non-null  datetime64[ns]\n",
            " 6   OSRM estimated distance       219337 non-null  float64       \n",
            " 7   OSRM estimated duration       219337 non-null  float64       \n",
            " 8   delta departure-presentation  219337 non-null  int64         \n",
            "dtypes: datetime64[ns](1), float64(3), int64(4), object(1)\n",
            "memory usage: 16.7+ MB\n"
          ],
          "name": "stdout"
        }
      ]
    },
    {
      "cell_type": "code",
      "metadata": {
        "id": "1ob8FjgWdV0F",
        "colab": {
          "base_uri": "https://localhost:8080/"
        },
        "outputId": "82f9a1fd-dfa6-412c-d4a5-984a06b606b7"
      },
      "source": [
        "categoricas=['alert reason category','location of the event',\n",
        "             'emergency vehicle type']\n",
        "df[categoricas] = df[categoricas].astype('object')\n",
        "\n",
        "df['intervention on public roads']=df['intervention on public roads'].astype('bool')\n",
        "df.info()"
      ],
      "execution_count": 15,
      "outputs": [
        {
          "output_type": "stream",
          "text": [
            "<class 'pandas.core.frame.DataFrame'>\n",
            "Int64Index: 219337 entries, 5105452 to 4868867\n",
            "Data columns (total 9 columns):\n",
            " #   Column                        Non-Null Count   Dtype         \n",
            "---  ------                        --------------   -----         \n",
            " 0   alert reason category         219337 non-null  object        \n",
            " 1   intervention on public roads  219337 non-null  bool          \n",
            " 2   floor                         219337 non-null  int64         \n",
            " 3   location of the event         206627 non-null  object        \n",
            " 4   emergency vehicle type        219337 non-null  object        \n",
            " 5   selection time                219337 non-null  datetime64[ns]\n",
            " 6   OSRM estimated distance       219337 non-null  float64       \n",
            " 7   OSRM estimated duration       219337 non-null  float64       \n",
            " 8   delta departure-presentation  219337 non-null  int64         \n",
            "dtypes: bool(1), datetime64[ns](1), float64(2), int64(2), object(3)\n",
            "memory usage: 15.3+ MB\n"
          ],
          "name": "stdout"
        }
      ]
    },
    {
      "cell_type": "code",
      "metadata": {
        "id": "UcAC53soaiJ_",
        "outputId": "e25e54f4-033b-4ad9-e156-16b4b96526f6",
        "colab": {
          "base_uri": "https://localhost:8080/"
        }
      },
      "source": [
        "df.nunique()"
      ],
      "execution_count": 16,
      "outputs": [
        {
          "output_type": "execute_result",
          "data": {
            "text/plain": [
              "alert reason category                9\n",
              "intervention on public roads         2\n",
              "floor                               45\n",
              "location of the event              210\n",
              "emergency vehicle type              75\n",
              "selection time                  219285\n",
              "OSRM estimated distance          48461\n",
              "OSRM estimated duration           8236\n",
              "delta departure-presentation      1909\n",
              "dtype: int64"
            ]
          },
          "metadata": {
            "tags": []
          },
          "execution_count": 16
        }
      ]
    },
    {
      "cell_type": "markdown",
      "metadata": {
        "id": "pOsHK0UDuj4w"
      },
      "source": [
        "# Transformación de variables"
      ]
    },
    {
      "cell_type": "markdown",
      "metadata": {
        "id": "Ea6C0L2Ie8FX"
      },
      "source": [
        "###  Creación de variable Rush Hour\n",
        "\n",
        "Variable binaria para identificar eventos en horas pico"
      ]
    },
    {
      "cell_type": "code",
      "metadata": {
        "id": "msZ9KIoLhSvU"
      },
      "source": [
        "df['rush hour'] = 0\n",
        "\n",
        "df = df.reset_index( )\n",
        "df = df.set_index('selection time')\n",
        "\n",
        "#identificar el indice de los registros de eventos en hora pico\n",
        "pico_am = df.index.indexer_between_time('6:30','9:30')\n",
        "pico_pm = df.index.indexer_between_time('16:00','19:00')\n",
        "horas_pico_index= np.concatenate((pico_am, pico_pm))\n",
        "\n",
        "#identificar los días sabados y domingos\n",
        "fin_de_semana_filtro = df.index.weekday > 5  #identifica sábados y domingos"
      ],
      "execution_count": 17,
      "outputs": []
    },
    {
      "cell_type": "code",
      "metadata": {
        "colab": {
          "base_uri": "https://localhost:8080/"
        },
        "id": "6ixlFKMEQ4g2",
        "outputId": "e2cf0216-37dc-4dd2-be6a-8bafb68cd49f"
      },
      "source": [
        "pico_am"
      ],
      "execution_count": 18,
      "outputs": [
        {
          "output_type": "execute_result",
          "data": {
            "text/plain": [
              "array([     1,      6,      7, ..., 219307, 219308, 219310])"
            ]
          },
          "metadata": {
            "tags": []
          },
          "execution_count": 18
        }
      ]
    },
    {
      "cell_type": "code",
      "metadata": {
        "colab": {
          "base_uri": "https://localhost:8080/"
        },
        "id": "PTt_KqNgRjsi",
        "outputId": "c6976b94-33fa-4775-9c10-dafae9aee243"
      },
      "source": [
        "#comprobar que uno de los indices es hora pico\n",
        "df.index.to_list()[1]  "
      ],
      "execution_count": 19,
      "outputs": [
        {
          "output_type": "execute_result",
          "data": {
            "text/plain": [
              "Timestamp('2018-01-04 09:02:59.470000')"
            ]
          },
          "metadata": {
            "tags": []
          },
          "execution_count": 19
        }
      ]
    },
    {
      "cell_type": "code",
      "metadata": {
        "id": "f_0PYQ_ecRyD",
        "outputId": "956d7cd4-bda8-45f1-a3fa-643dc45a8ce6",
        "colab": {
          "base_uri": "https://localhost:8080/"
        }
      },
      "source": [
        "df.columns"
      ],
      "execution_count": 20,
      "outputs": [
        {
          "output_type": "execute_result",
          "data": {
            "text/plain": [
              "Index(['emergency vehicle selection', 'alert reason category',\n",
              "       'intervention on public roads', 'floor', 'location of the event',\n",
              "       'emergency vehicle type', 'OSRM estimated distance',\n",
              "       'OSRM estimated duration', 'delta departure-presentation', 'rush hour'],\n",
              "      dtype='object')"
            ]
          },
          "metadata": {
            "tags": []
          },
          "execution_count": 20
        }
      ]
    },
    {
      "cell_type": "code",
      "metadata": {
        "id": "Q-d9AIQuRehA"
      },
      "source": [
        "df = df.reset_index()\n",
        "\n",
        "# cambiar el valor de 'rush hour' a uno cuando sea horas pico\n",
        "df.iloc[list(horas_pico_index),-1] = 1  "
      ],
      "execution_count": 21,
      "outputs": []
    },
    {
      "cell_type": "code",
      "metadata": {
        "id": "-9ZWrOpJQ0Ma"
      },
      "source": [
        "#Regresar a 0 el valor para los días sabados y domingos\n",
        "df['rush hour']= np.where(fin_de_semana_filtro, 0, df['rush hour'])"
      ],
      "execution_count": 22,
      "outputs": []
    },
    {
      "cell_type": "markdown",
      "metadata": {
        "id": "O-0rDtG_gPEX"
      },
      "source": [
        "### Creación de variable Weekday\n",
        "Variable binaria para identificar eventos de lunes a viernes"
      ]
    },
    {
      "cell_type": "code",
      "metadata": {
        "id": "Ha_rW-o5flhg"
      },
      "source": [
        "df['weekday'] = np.where(fin_de_semana_filtro, 0, 1)"
      ],
      "execution_count": 23,
      "outputs": []
    },
    {
      "cell_type": "code",
      "metadata": {
        "id": "2cKWlza0yvqw"
      },
      "source": [
        "#Regresar emerency vehicle selection como indice\n",
        "df = df.set_index('emergency vehicle selection')"
      ],
      "execution_count": 24,
      "outputs": []
    },
    {
      "cell_type": "markdown",
      "metadata": {
        "id": "2nRnn9pZkrZz"
      },
      "source": [
        "# Exploración de variables categoricas"
      ]
    },
    {
      "cell_type": "code",
      "metadata": {
        "id": "TwIGFWmkkygg",
        "colab": {
          "base_uri": "https://localhost:8080/",
          "height": 606
        },
        "outputId": "004475c1-d2b2-4b64-fc52-f5ff8e81ea91"
      },
      "source": [
        "cat = df.select_dtypes(include=['object', 'bool'])\n",
        "fig, ax = plt.subplots(2, 2, figsize=(12, 10))\n",
        "for var, subplot in zip(cat.columns, ax.flatten()):\n",
        "    sns.boxplot(x = var , y = 'delta departure-presentation', data = df,\n",
        "                ax=subplot, showfliers=False )"
      ],
      "execution_count": 25,
      "outputs": [
        {
          "output_type": "display_data",
          "data": {
            "image/png": "[encoded data removed]",
            "text/plain": [
              "<Figure size 864x720 with 4 Axes>"
            ]
          },
          "metadata": {
            "tags": [],
            "needs_background": "light"
          }
        }
      ]
    },
    {
      "cell_type": "code",
      "metadata": {
        "id": "Pj7uJpP-dV0X",
        "colab": {
          "base_uri": "https://localhost:8080/",
          "height": 173
        },
        "outputId": "e561804a-75ea-4f5f-81a5-e3286e7f4c1a"
      },
      "source": [
        "df.describe(include='object')"
      ],
      "execution_count": 26,
      "outputs": [
        {
          "output_type": "execute_result",
          "data": {
            "text/html": [
              "<div>\n",
              "<style scoped>\n",
              "    .dataframe tbody tr th:only-of-type {\n",
              "        vertical-align: middle;\n",
              "    }\n",
              "\n",
              "    .dataframe tbody tr th {\n",
              "        vertical-align: top;\n",
              "    }\n",
              "\n",
              "    .dataframe thead th {\n",
              "        text-align: right;\n",
              "    }\n",
              "</style>\n",
              "<table border=\"1\" class=\"dataframe\">\n",
              "  <thead>\n",
              "    <tr style=\"text-align: right;\">\n",
              "      <th></th>\n",
              "      <th>alert reason category</th>\n",
              "      <th>location of the event</th>\n",
              "      <th>emergency vehicle type</th>\n",
              "    </tr>\n",
              "  </thead>\n",
              "  <tbody>\n",
              "    <tr>\n",
              "      <th>count</th>\n",
              "      <td>219337</td>\n",
              "      <td>206627.0</td>\n",
              "      <td>219337</td>\n",
              "    </tr>\n",
              "    <tr>\n",
              "      <th>unique</th>\n",
              "      <td>9</td>\n",
              "      <td>210.0</td>\n",
              "      <td>75</td>\n",
              "    </tr>\n",
              "    <tr>\n",
              "      <th>top</th>\n",
              "      <td>3</td>\n",
              "      <td>139.0</td>\n",
              "      <td>VSAV BSPP</td>\n",
              "    </tr>\n",
              "    <tr>\n",
              "      <th>freq</th>\n",
              "      <td>176787</td>\n",
              "      <td>51031.0</td>\n",
              "      <td>159620</td>\n",
              "    </tr>\n",
              "  </tbody>\n",
              "</table>\n",
              "</div>"
            ],
            "text/plain": [
              "        alert reason category  location of the event emergency vehicle type\n",
              "count                  219337               206627.0                 219337\n",
              "unique                      9                  210.0                     75\n",
              "top                         3                  139.0              VSAV BSPP\n",
              "freq                   176787                51031.0                 159620"
            ]
          },
          "metadata": {
            "tags": []
          },
          "execution_count": 26
        }
      ]
    },
    {
      "cell_type": "markdown",
      "metadata": {
        "id": "JL7fcCdtV_Sw"
      },
      "source": [
        "### Valores nulos"
      ]
    },
    {
      "cell_type": "code",
      "metadata": {
        "colab": {
          "base_uri": "https://localhost:8080/"
        },
        "id": "PtzQEHdD3ZLz",
        "outputId": "d7b1487c-492a-4db9-8779-79b4125c35bb"
      },
      "source": [
        "df[categoricas].isna().sum()/len(df)*100  # porcentaje de valores nulos"
      ],
      "execution_count": 27,
      "outputs": [
        {
          "output_type": "execute_result",
          "data": {
            "text/plain": [
              "alert reason category     0.000000\n",
              "location of the event     5.794736\n",
              "emergency vehicle type    0.000000\n",
              "dtype: float64"
            ]
          },
          "metadata": {
            "tags": []
          },
          "execution_count": 27
        }
      ]
    },
    {
      "cell_type": "markdown",
      "metadata": {
        "id": "Hv7xa4RRGVno"
      },
      "source": [
        "Tenemos **12710** valores nulos, es decir **5.8%** de los renglones no tienen valores válidos para la variable *\"location of the event\"*\n",
        "\n",
        "**Alternativas**\n",
        "- Borrar esos renglones, \n",
        "- borrar esa variable, \n",
        "- imputar valores:\n",
        "   - ¿remplazar por ceros?\n",
        "   - ¿reemplazar por una medida de tendencia central?\n",
        "   - ¿reemplazar con la predicción a partir de otro modelo de ml?\n",
        "   - ¿a parir del conocimiento que nos proporcionan las demás variables? "
      ]
    },
    {
      "cell_type": "markdown",
      "metadata": {
        "id": "T0UZuZFl5EJC"
      },
      "source": [
        "**¿los valores nulos estan uniformemente distribuidos? ¿se observa algún patrón? ¿borrar los renglónes con valores nulos impacta nuestro modelo?**\n"
      ]
    },
    {
      "cell_type": "code",
      "metadata": {
        "id": "1bsngQeV96BS",
        "outputId": "61330c3b-2dc1-48a8-8d63-29bd4e68d5ab",
        "colab": {
          "base_uri": "https://localhost:8080/",
          "height": 298
        }
      },
      "source": [
        "#Distribución de la variable respuesta en registros con y sin valores nulos en \"location of the event\"\n",
        "df['location_nulos'] = np.where(df['location of the event'].isna(),\"nulos\",\"no_nulos\")\n",
        "\n",
        "sns.boxplot(x = 'location_nulos' , y = 'delta departure-presentation', data = df,showfliers=False )\n"
      ],
      "execution_count": 28,
      "outputs": [
        {
          "output_type": "execute_result",
          "data": {
            "text/plain": [
              "<matplotlib.axes._subplots.AxesSubplot at 0x7f6c7055b190>"
            ]
          },
          "metadata": {
            "tags": []
          },
          "execution_count": 28
        },
        {
          "output_type": "display_data",
          "data": {
            "image/png": "[encoded data removed]",
            "text/plain": [
              "<Figure size 432x288 with 1 Axes>"
            ]
          },
          "metadata": {
            "tags": [],
            "needs_background": "light"
          }
        }
      ]
    },
    {
      "cell_type": "markdown",
      "metadata": {
        "id": "4LTNEVzdOCYI"
      },
      "source": [
        "Viendo la gráfica anterior **¿es conveniente optar por borrar los registros que contienen valores nulos?**"
      ]
    },
    {
      "cell_type": "markdown",
      "metadata": {
        "id": "OyPDoNMlOLZD"
      },
      "source": [
        "**¿Podemos imputar valores con el conocimiento que tenemos de los demás registros?**"
      ]
    },
    {
      "cell_type": "code",
      "metadata": {
        "id": "sqVVZ-eLaa3j",
        "outputId": "5024c8e7-bf68-4287-ae2b-43fa66659389",
        "colab": {
          "base_uri": "https://localhost:8080/"
        }
      },
      "source": [
        "(df['location of the event'].value_counts()/len(df)*100).iloc[0:10]"
      ],
      "execution_count": 29,
      "outputs": [
        {
          "output_type": "execute_result",
          "data": {
            "text/plain": [
              "139.0    23.266024\n",
              "136.0    20.242823\n",
              "148.0    14.588054\n",
              "149.0     4.515882\n",
              "140.0     2.387650\n",
              "107.0     2.219872\n",
              "137.0     2.133247\n",
              "131.0     1.427028\n",
              "104.0     1.225056\n",
              "325.0     1.100134\n",
              "Name: location of the event, dtype: float64"
            ]
          },
          "metadata": {
            "tags": []
          },
          "execution_count": 29
        }
      ]
    },
    {
      "cell_type": "code",
      "metadata": {
        "colab": {
          "base_uri": "https://localhost:8080/",
          "height": 302
        },
        "id": "WicyHSYPKJDa",
        "outputId": "bbc3e9f1-d295-4b8a-df91-bccb5b67ff05"
      },
      "source": [
        "tabla=(pd.crosstab(df['alert reason category'],df['location_nulos'], normalize = 'columns')*100)\n",
        "\n",
        "sns.heatmap(tabla,  vmin = 0, vmax = 100, cmap = \"coolwarm\", annot = True,\n",
        "            fmt=\".1f\")"
      ],
      "execution_count": 30,
      "outputs": [
        {
          "output_type": "execute_result",
          "data": {
            "text/plain": [
              "<matplotlib.axes._subplots.AxesSubplot at 0x7f6c70584f90>"
            ]
          },
          "metadata": {
            "tags": []
          },
          "execution_count": 30
        },
        {
          "output_type": "display_data",
          "data": {
            "image/png": "[encoded data removed]",
            "text/plain": [
              "<Figure size 432x288 with 2 Axes>"
            ]
          },
          "metadata": {
            "tags": [],
            "needs_background": "light"
          }
        }
      ]
    },
    {
      "cell_type": "code",
      "metadata": {
        "colab": {
          "base_uri": "https://localhost:8080/"
        },
        "id": "C-pyOHIIHcVr",
        "outputId": "8be517d7-1e69-44de-eb74-db9c71a14d15"
      },
      "source": [
        "dict_alert_location = df.groupby('alert reason category')['location of the event'].agg(pd.Series.mode).to_dict()\n",
        "dict_alert_location "
      ],
      "execution_count": 31,
      "outputs": [
        {
          "output_type": "execute_result",
          "data": {
            "text/plain": [
              "{1: 131.0,\n",
              " 2: 149.0,\n",
              " 3: 139.0,\n",
              " 4: 139.0,\n",
              " 5: 148.0,\n",
              " 6: 148.0,\n",
              " 7: 148.0,\n",
              " 8: 131.0,\n",
              " 9: 139.0}"
            ]
          },
          "metadata": {
            "tags": []
          },
          "execution_count": 31
        }
      ]
    },
    {
      "cell_type": "code",
      "metadata": {
        "id": "jfRJ0fd7eKfS"
      },
      "source": [
        "df['location of the event'] = df['location of the event'].fillna(df['alert reason category'].map(dict_alert_location))"
      ],
      "execution_count": 32,
      "outputs": []
    },
    {
      "cell_type": "code",
      "metadata": {
        "id": "Yr4s82aamBwq",
        "outputId": "e2eeae7f-41c5-4f57-ea10-1ec3d30d44b2",
        "colab": {
          "base_uri": "https://localhost:8080/"
        }
      },
      "source": [
        "df['location of the event'].nunique()"
      ],
      "execution_count": 33,
      "outputs": [
        {
          "output_type": "execute_result",
          "data": {
            "text/plain": [
              "210"
            ]
          },
          "metadata": {
            "tags": []
          },
          "execution_count": 33
        }
      ]
    },
    {
      "cell_type": "code",
      "metadata": {
        "id": "BBTQQsprmHc2",
        "outputId": "74d310f2-7419-4854-809e-ec6d121a1055",
        "colab": {
          "base_uri": "https://localhost:8080/"
        }
      },
      "source": [
        "df['location of the event'].isna().sum()"
      ],
      "execution_count": 35,
      "outputs": [
        {
          "output_type": "execute_result",
          "data": {
            "text/plain": [
              "0"
            ]
          },
          "metadata": {
            "tags": []
          },
          "execution_count": 35
        }
      ]
    },
    {
      "cell_type": "code",
      "metadata": {
        "id": "EO3jpo9kgg2x"
      },
      "source": [
        "df = df.drop('location_nulos', axis=1)\n"
      ],
      "execution_count": 36,
      "outputs": []
    },
    {
      "cell_type": "code",
      "metadata": {
        "id": "i2dkh6C3mSJX",
        "outputId": "b7cc73e8-d7a4-4c65-9f8e-0f5e5810e1f5",
        "colab": {
          "base_uri": "https://localhost:8080/"
        }
      },
      "source": [
        "df.dtypes"
      ],
      "execution_count": 43,
      "outputs": [
        {
          "output_type": "execute_result",
          "data": {
            "text/plain": [
              "selection time                  datetime64[ns]\n",
              "alert reason category                   object\n",
              "intervention on public roads              bool\n",
              "floor                                    int64\n",
              "location of the event                  float64\n",
              "emergency vehicle type                  object\n",
              "OSRM estimated distance                float64\n",
              "OSRM estimated duration                float64\n",
              "delta departure-presentation             int64\n",
              "rush hour                                int64\n",
              "weekday                                  int64\n",
              "dtype: object"
            ]
          },
          "metadata": {
            "tags": []
          },
          "execution_count": 43
        }
      ]
    },
    {
      "cell_type": "code",
      "metadata": {
        "id": "bDSU2HQEnB7h",
        "outputId": "5a706ade-c81c-4f4a-d322-f4ab23b9e8a2",
        "colab": {
          "base_uri": "https://localhost:8080/"
        }
      },
      "source": [
        "df['location of the event'] = df['location of the event'].astype('object')\n",
        "df.dtypes"
      ],
      "execution_count": 45,
      "outputs": [
        {
          "output_type": "execute_result",
          "data": {
            "text/plain": [
              "selection time                  datetime64[ns]\n",
              "alert reason category                   object\n",
              "intervention on public roads              bool\n",
              "floor                                    int64\n",
              "location of the event                   object\n",
              "emergency vehicle type                  object\n",
              "OSRM estimated distance                float64\n",
              "OSRM estimated duration                float64\n",
              "delta departure-presentation             int64\n",
              "rush hour                                int64\n",
              "weekday                                  int64\n",
              "dtype: object"
            ]
          },
          "metadata": {
            "tags": []
          },
          "execution_count": 45
        }
      ]
    },
    {
      "cell_type": "markdown",
      "metadata": {
        "id": "srZynd2xdV0c"
      },
      "source": [
        "### Identificación de principales categorías: `location of the event`\n",
        "Explorar la distribución de 'location of the event' y notar que 8 categorías concentran más de 75% de los datos"
      ]
    },
    {
      "cell_type": "code",
      "metadata": {
        "id": "gpv4O9mUdV0i",
        "colab": {
          "base_uri": "https://localhost:8080/"
        },
        "outputId": "e3153b08-b264-49f2-a313-a3423a2f10d3"
      },
      "source": [
        "df['location of the event'].value_counts(normalize=True, dropna=False).cumsum().head(8)"
      ],
      "execution_count": 46,
      "outputs": [
        {
          "output_type": "execute_result",
          "data": {
            "text/plain": [
              "139.0    0.254690\n",
              "136.0    0.457118\n",
              "148.0    0.608233\n",
              "149.0    0.654773\n",
              "131.0    0.698345\n",
              "140.0    0.722222\n",
              "107.0    0.744421\n",
              "137.0    0.765753\n",
              "Name: location of the event, dtype: float64"
            ]
          },
          "metadata": {
            "tags": []
          },
          "execution_count": 46
        }
      ]
    },
    {
      "cell_type": "code",
      "metadata": {
        "id": "9Th5fO_HkZqq",
        "colab": {
          "base_uri": "https://localhost:8080/"
        },
        "outputId": "41f06744-7817-4328-deca-6df07010c024"
      },
      "source": [
        "#remplazar por 'other' todos los valores no contenidos en la lista locations_fr\n",
        "locations_fr = list(df['location of the event'].value_counts(normalize=True).cumsum().head(8).index)\n",
        "df.loc[~df['location of the event'].isin(locations_fr),'location of the event'] = np.nan\n",
        "df['location of the event'].value_counts(normalize=True, dropna=False)"
      ],
      "execution_count": 47,
      "outputs": [
        {
          "output_type": "execute_result",
          "data": {
            "text/plain": [
              "139.0    0.254690\n",
              "NaN      0.234247\n",
              "136.0    0.202428\n",
              "148.0    0.151114\n",
              "149.0    0.046540\n",
              "131.0    0.043572\n",
              "140.0    0.023877\n",
              "107.0    0.022199\n",
              "137.0    0.021332\n",
              "Name: location of the event, dtype: float64"
            ]
          },
          "metadata": {
            "tags": []
          },
          "execution_count": 47
        }
      ]
    },
    {
      "cell_type": "markdown",
      "metadata": {
        "id": "5FY7pKgydV0l"
      },
      "source": [
        "### Identificación de principales categorías: `emergency vehicle type`\n",
        "Explorar la distribución de 'emergency vehicle type' y notar que 3 elementos concentran más del 90% de los datos"
      ]
    },
    {
      "cell_type": "code",
      "metadata": {
        "id": "6TyKivxedV0m",
        "colab": {
          "base_uri": "https://localhost:8080/"
        },
        "outputId": "73cd7166-951f-4348-b057-dfd4a183c36e"
      },
      "source": [
        "df['emergency vehicle type'].value_counts(normalize=False)"
      ],
      "execution_count": 48,
      "outputs": [
        {
          "output_type": "execute_result",
          "data": {
            "text/plain": [
              "VSAV BSPP       159620\n",
              "PSE              32927\n",
              "VLR BSPP          5820\n",
              "FPT BSPP          4107\n",
              "AR                2583\n",
              "                 ...  \n",
              "UMH DEBREPED         1\n",
              "VELD                 1\n",
              "FPT SSLIA            1\n",
              "VIRB                 1\n",
              "UMH STDE             1\n",
              "Name: emergency vehicle type, Length: 75, dtype: int64"
            ]
          },
          "metadata": {
            "tags": []
          },
          "execution_count": 48
        }
      ]
    },
    {
      "cell_type": "code",
      "metadata": {
        "id": "xeuGGSZedV0o",
        "colab": {
          "base_uri": "https://localhost:8080/"
        },
        "outputId": "eacb694a-b7ca-4d65-9208-dd408cd3a79e"
      },
      "source": [
        "df['emergency vehicle type'].value_counts(normalize=True).cumsum().head(3)"
      ],
      "execution_count": 49,
      "outputs": [
        {
          "output_type": "execute_result",
          "data": {
            "text/plain": [
              "VSAV BSPP    0.727739\n",
              "PSE          0.877859\n",
              "VLR BSPP     0.904394\n",
              "Name: emergency vehicle type, dtype: float64"
            ]
          },
          "metadata": {
            "tags": []
          },
          "execution_count": 49
        }
      ]
    },
    {
      "cell_type": "code",
      "metadata": {
        "id": "hyr4360LdV0r",
        "colab": {
          "base_uri": "https://localhost:8080/"
        },
        "outputId": "78277485-6ce8-4de2-ab7a-de894859da69"
      },
      "source": [
        "#remplazar por 'other' todos los valores no contenidos en la lista vehiculos_fr\n",
        "vehiculos_fr= list(df['emergency vehicle type'].value_counts(normalize=True).cumsum().head(3).index)\n",
        "df.loc[~df['emergency vehicle type'].isin(vehiculos_fr),'emergency vehicle type'] =np.nan\n",
        "df['emergency vehicle type'].value_counts(normalize=True, dropna=False)"
      ],
      "execution_count": 50,
      "outputs": [
        {
          "output_type": "execute_result",
          "data": {
            "text/plain": [
              "VSAV BSPP    0.727739\n",
              "PSE          0.150121\n",
              "NaN          0.095606\n",
              "VLR BSPP     0.026535\n",
              "Name: emergency vehicle type, dtype: float64"
            ]
          },
          "metadata": {
            "tags": []
          },
          "execution_count": 50
        }
      ]
    },
    {
      "cell_type": "code",
      "metadata": {
        "id": "azf8eBYolWm_",
        "outputId": "af3ade09-b1a3-401b-d97e-f716d7b3cc6e",
        "colab": {
          "base_uri": "https://localhost:8080/"
        }
      },
      "source": [
        "df.info()"
      ],
      "execution_count": 51,
      "outputs": [
        {
          "output_type": "stream",
          "text": [
            "<class 'pandas.core.frame.DataFrame'>\n",
            "Int64Index: 219337 entries, 5105452 to 4868867\n",
            "Data columns (total 11 columns):\n",
            " #   Column                        Non-Null Count   Dtype         \n",
            "---  ------                        --------------   -----         \n",
            " 0   selection time                219337 non-null  datetime64[ns]\n",
            " 1   alert reason category         219337 non-null  object        \n",
            " 2   intervention on public roads  219337 non-null  bool          \n",
            " 3   floor                         219337 non-null  int64         \n",
            " 4   location of the event         167958 non-null  object        \n",
            " 5   emergency vehicle type        198367 non-null  object        \n",
            " 6   OSRM estimated distance       219337 non-null  float64       \n",
            " 7   OSRM estimated duration       219337 non-null  float64       \n",
            " 8   delta departure-presentation  219337 non-null  int64         \n",
            " 9   rush hour                     219337 non-null  int64         \n",
            " 10  weekday                       219337 non-null  int64         \n",
            "dtypes: bool(1), datetime64[ns](1), float64(2), int64(4), object(3)\n",
            "memory usage: 28.6+ MB\n"
          ],
          "name": "stdout"
        }
      ]
    },
    {
      "cell_type": "code",
      "metadata": {
        "id": "_Y9iJ2bPmoeA",
        "colab": {
          "base_uri": "https://localhost:8080/",
          "height": 0
        },
        "outputId": "2f951822-c632-49f9-c914-885c658a1db3"
      },
      "source": [
        "cat = df.select_dtypes(include=['object', 'bool'])\n",
        "fig, ax = plt.subplots(2, 2, figsize=(12, 10))\n",
        "for var, subplot in zip(cat.columns, ax.flatten()):\n",
        "    sns.boxplot(x = var , y = 'delta departure-presentation', data = df,\n",
        "                ax=subplot, showfliers=False )"
      ],
      "execution_count": 52,
      "outputs": [
        {
          "output_type": "display_data",
          "data": {
            "image/png": "[encoded data removed]",
            "text/plain": [
              "<Figure size 864x720 with 4 Axes>"
            ]
          },
          "metadata": {
            "tags": [],
            "needs_background": "light"
          }
        }
      ]
    },
    {
      "cell_type": "markdown",
      "metadata": {
        "id": "bnzwC0nhdVz_"
      },
      "source": [
        "## Hot encoding variables categoricas"
      ]
    },
    {
      "cell_type": "code",
      "metadata": {
        "id": "rBFa8vxLuqYm",
        "colab": {
          "base_uri": "https://localhost:8080/",
          "height": 286
        },
        "outputId": "00ce03a4-3c9d-4c94-c8e4-bf77cd6beb3d"
      },
      "source": [
        "c1 =pd.get_dummies(df['alert reason category'],\n",
        "                   drop_first=True, prefix='alert_reason catogory') \n",
        "print(c1.shape)\n",
        "c1.head()"
      ],
      "execution_count": 53,
      "outputs": [
        {
          "output_type": "stream",
          "text": [
            "(219337, 8)\n"
          ],
          "name": "stdout"
        },
        {
          "output_type": "execute_result",
          "data": {
            "text/html": [
              "<div>\n",
              "<style scoped>\n",
              "    .dataframe tbody tr th:only-of-type {\n",
              "        vertical-align: middle;\n",
              "    }\n",
              "\n",
              "    .dataframe tbody tr th {\n",
              "        vertical-align: top;\n",
              "    }\n",
              "\n",
              "    .dataframe thead th {\n",
              "        text-align: right;\n",
              "    }\n",
              "</style>\n",
              "<table border=\"1\" class=\"dataframe\">\n",
              "  <thead>\n",
              "    <tr style=\"text-align: right;\">\n",
              "      <th></th>\n",
              "      <th>alert_reason catogory_2</th>\n",
              "      <th>alert_reason catogory_3</th>\n",
              "      <th>alert_reason catogory_4</th>\n",
              "      <th>alert_reason catogory_5</th>\n",
              "      <th>alert_reason catogory_6</th>\n",
              "      <th>alert_reason catogory_7</th>\n",
              "      <th>alert_reason catogory_8</th>\n",
              "      <th>alert_reason catogory_9</th>\n",
              "    </tr>\n",
              "    <tr>\n",
              "      <th>emergency vehicle selection</th>\n",
              "      <th></th>\n",
              "      <th></th>\n",
              "      <th></th>\n",
              "      <th></th>\n",
              "      <th></th>\n",
              "      <th></th>\n",
              "      <th></th>\n",
              "      <th></th>\n",
              "    </tr>\n",
              "  </thead>\n",
              "  <tbody>\n",
              "    <tr>\n",
              "      <th>5105452</th>\n",
              "      <td>0</td>\n",
              "      <td>1</td>\n",
              "      <td>0</td>\n",
              "      <td>0</td>\n",
              "      <td>0</td>\n",
              "      <td>0</td>\n",
              "      <td>0</td>\n",
              "      <td>0</td>\n",
              "    </tr>\n",
              "    <tr>\n",
              "      <th>4720915</th>\n",
              "      <td>0</td>\n",
              "      <td>1</td>\n",
              "      <td>0</td>\n",
              "      <td>0</td>\n",
              "      <td>0</td>\n",
              "      <td>0</td>\n",
              "      <td>0</td>\n",
              "      <td>0</td>\n",
              "    </tr>\n",
              "    <tr>\n",
              "      <th>5365374</th>\n",
              "      <td>0</td>\n",
              "      <td>1</td>\n",
              "      <td>0</td>\n",
              "      <td>0</td>\n",
              "      <td>0</td>\n",
              "      <td>0</td>\n",
              "      <td>0</td>\n",
              "      <td>0</td>\n",
              "    </tr>\n",
              "    <tr>\n",
              "      <th>4741586</th>\n",
              "      <td>0</td>\n",
              "      <td>1</td>\n",
              "      <td>0</td>\n",
              "      <td>0</td>\n",
              "      <td>0</td>\n",
              "      <td>0</td>\n",
              "      <td>0</td>\n",
              "      <td>0</td>\n",
              "    </tr>\n",
              "    <tr>\n",
              "      <th>5381209</th>\n",
              "      <td>0</td>\n",
              "      <td>1</td>\n",
              "      <td>0</td>\n",
              "      <td>0</td>\n",
              "      <td>0</td>\n",
              "      <td>0</td>\n",
              "      <td>0</td>\n",
              "      <td>0</td>\n",
              "    </tr>\n",
              "  </tbody>\n",
              "</table>\n",
              "</div>"
            ],
            "text/plain": [
              "                             alert_reason catogory_2  ...  alert_reason catogory_9\n",
              "emergency vehicle selection                           ...                         \n",
              "5105452                                            0  ...                        0\n",
              "4720915                                            0  ...                        0\n",
              "5365374                                            0  ...                        0\n",
              "4741586                                            0  ...                        0\n",
              "5381209                                            0  ...                        0\n",
              "\n",
              "[5 rows x 8 columns]"
            ]
          },
          "metadata": {
            "tags": []
          },
          "execution_count": 53
        }
      ]
    },
    {
      "cell_type": "code",
      "metadata": {
        "id": "DBLB2c0NvllU",
        "colab": {
          "base_uri": "https://localhost:8080/",
          "height": 320
        },
        "outputId": "317fcd1e-3126-42fe-a08e-79d22e17f1f5"
      },
      "source": [
        "c2 = pd.get_dummies(df[['location of the event','emergency vehicle type']],\n",
        "                   ) \n",
        "print(c2.shape)\n",
        "c2.head()"
      ],
      "execution_count": 54,
      "outputs": [
        {
          "output_type": "stream",
          "text": [
            "(219337, 11)\n"
          ],
          "name": "stdout"
        },
        {
          "output_type": "execute_result",
          "data": {
            "text/html": [
              "<div>\n",
              "<style scoped>\n",
              "    .dataframe tbody tr th:only-of-type {\n",
              "        vertical-align: middle;\n",
              "    }\n",
              "\n",
              "    .dataframe tbody tr th {\n",
              "        vertical-align: top;\n",
              "    }\n",
              "\n",
              "    .dataframe thead th {\n",
              "        text-align: right;\n",
              "    }\n",
              "</style>\n",
              "<table border=\"1\" class=\"dataframe\">\n",
              "  <thead>\n",
              "    <tr style=\"text-align: right;\">\n",
              "      <th></th>\n",
              "      <th>location of the event_107.0</th>\n",
              "      <th>location of the event_131.0</th>\n",
              "      <th>location of the event_136.0</th>\n",
              "      <th>location of the event_137.0</th>\n",
              "      <th>location of the event_139.0</th>\n",
              "      <th>location of the event_140.0</th>\n",
              "      <th>location of the event_148.0</th>\n",
              "      <th>location of the event_149.0</th>\n",
              "      <th>emergency vehicle type_PSE</th>\n",
              "      <th>emergency vehicle type_VLR BSPP</th>\n",
              "      <th>emergency vehicle type_VSAV BSPP</th>\n",
              "    </tr>\n",
              "    <tr>\n",
              "      <th>emergency vehicle selection</th>\n",
              "      <th></th>\n",
              "      <th></th>\n",
              "      <th></th>\n",
              "      <th></th>\n",
              "      <th></th>\n",
              "      <th></th>\n",
              "      <th></th>\n",
              "      <th></th>\n",
              "      <th></th>\n",
              "      <th></th>\n",
              "      <th></th>\n",
              "    </tr>\n",
              "  </thead>\n",
              "  <tbody>\n",
              "    <tr>\n",
              "      <th>5105452</th>\n",
              "      <td>0</td>\n",
              "      <td>0</td>\n",
              "      <td>0</td>\n",
              "      <td>0</td>\n",
              "      <td>0</td>\n",
              "      <td>0</td>\n",
              "      <td>1</td>\n",
              "      <td>0</td>\n",
              "      <td>0</td>\n",
              "      <td>0</td>\n",
              "      <td>1</td>\n",
              "    </tr>\n",
              "    <tr>\n",
              "      <th>4720915</th>\n",
              "      <td>0</td>\n",
              "      <td>0</td>\n",
              "      <td>1</td>\n",
              "      <td>0</td>\n",
              "      <td>0</td>\n",
              "      <td>0</td>\n",
              "      <td>0</td>\n",
              "      <td>0</td>\n",
              "      <td>1</td>\n",
              "      <td>0</td>\n",
              "      <td>0</td>\n",
              "    </tr>\n",
              "    <tr>\n",
              "      <th>5365374</th>\n",
              "      <td>0</td>\n",
              "      <td>0</td>\n",
              "      <td>0</td>\n",
              "      <td>0</td>\n",
              "      <td>1</td>\n",
              "      <td>0</td>\n",
              "      <td>0</td>\n",
              "      <td>0</td>\n",
              "      <td>0</td>\n",
              "      <td>0</td>\n",
              "      <td>1</td>\n",
              "    </tr>\n",
              "    <tr>\n",
              "      <th>4741586</th>\n",
              "      <td>0</td>\n",
              "      <td>0</td>\n",
              "      <td>1</td>\n",
              "      <td>0</td>\n",
              "      <td>0</td>\n",
              "      <td>0</td>\n",
              "      <td>0</td>\n",
              "      <td>0</td>\n",
              "      <td>0</td>\n",
              "      <td>0</td>\n",
              "      <td>1</td>\n",
              "    </tr>\n",
              "    <tr>\n",
              "      <th>5381209</th>\n",
              "      <td>0</td>\n",
              "      <td>0</td>\n",
              "      <td>0</td>\n",
              "      <td>0</td>\n",
              "      <td>0</td>\n",
              "      <td>0</td>\n",
              "      <td>0</td>\n",
              "      <td>0</td>\n",
              "      <td>0</td>\n",
              "      <td>0</td>\n",
              "      <td>1</td>\n",
              "    </tr>\n",
              "  </tbody>\n",
              "</table>\n",
              "</div>"
            ],
            "text/plain": [
              "                             location of the event_107.0  ...  emergency vehicle type_VSAV BSPP\n",
              "emergency vehicle selection                               ...                                  \n",
              "5105452                                                0  ...                                 1\n",
              "4720915                                                0  ...                                 0\n",
              "5365374                                                0  ...                                 1\n",
              "4741586                                                0  ...                                 1\n",
              "5381209                                                0  ...                                 1\n",
              "\n",
              "[5 rows x 11 columns]"
            ]
          },
          "metadata": {
            "tags": []
          },
          "execution_count": 54
        }
      ]
    },
    {
      "cell_type": "code",
      "metadata": {
        "id": "GgH8SUnKdV0y",
        "colab": {
          "base_uri": "https://localhost:8080/"
        },
        "outputId": "84714feb-0e0f-4462-ce98-545fe2b58e21"
      },
      "source": [
        "df=df.drop(columns=categoricas)\n",
        "df=pd.concat([df, c1, c2], axis=1)\n",
        "df.shape"
      ],
      "execution_count": 55,
      "outputs": [
        {
          "output_type": "execute_result",
          "data": {
            "text/plain": [
              "(219337, 27)"
            ]
          },
          "metadata": {
            "tags": []
          },
          "execution_count": 55
        }
      ]
    },
    {
      "cell_type": "code",
      "metadata": {
        "id": "fChmNEy8yd9x",
        "colab": {
          "base_uri": "https://localhost:8080/"
        },
        "outputId": "b80a01fe-8470-4b04-9ff8-dbb28878c91f"
      },
      "source": [
        "#Llevar la etiqueta hasta la ultima posición \n",
        "cols = df.columns.tolist()\n",
        "df = df[[c for c in df if c != 'delta departure-presentation'] + ['delta departure-presentation']]\n",
        "print(df.shape)\n",
        "df.info()"
      ],
      "execution_count": 56,
      "outputs": [
        {
          "output_type": "stream",
          "text": [
            "(219337, 27)\n",
            "<class 'pandas.core.frame.DataFrame'>\n",
            "Int64Index: 219337 entries, 5105452 to 4868867\n",
            "Data columns (total 27 columns):\n",
            " #   Column                            Non-Null Count   Dtype         \n",
            "---  ------                            --------------   -----         \n",
            " 0   selection time                    219337 non-null  datetime64[ns]\n",
            " 1   intervention on public roads      219337 non-null  bool          \n",
            " 2   floor                             219337 non-null  int64         \n",
            " 3   OSRM estimated distance           219337 non-null  float64       \n",
            " 4   OSRM estimated duration           219337 non-null  float64       \n",
            " 5   rush hour                         219337 non-null  int64         \n",
            " 6   weekday                           219337 non-null  int64         \n",
            " 7   alert_reason catogory_2           219337 non-null  uint8         \n",
            " 8   alert_reason catogory_3           219337 non-null  uint8         \n",
            " 9   alert_reason catogory_4           219337 non-null  uint8         \n",
            " 10  alert_reason catogory_5           219337 non-null  uint8         \n",
            " 11  alert_reason catogory_6           219337 non-null  uint8         \n",
            " 12  alert_reason catogory_7           219337 non-null  uint8         \n",
            " 13  alert_reason catogory_8           219337 non-null  uint8         \n",
            " 14  alert_reason catogory_9           219337 non-null  uint8         \n",
            " 15  location of the event_107.0       219337 non-null  uint8         \n",
            " 16  location of the event_131.0       219337 non-null  uint8         \n",
            " 17  location of the event_136.0       219337 non-null  uint8         \n",
            " 18  location of the event_137.0       219337 non-null  uint8         \n",
            " 19  location of the event_139.0       219337 non-null  uint8         \n",
            " 20  location of the event_140.0       219337 non-null  uint8         \n",
            " 21  location of the event_148.0       219337 non-null  uint8         \n",
            " 22  location of the event_149.0       219337 non-null  uint8         \n",
            " 23  emergency vehicle type_PSE        219337 non-null  uint8         \n",
            " 24  emergency vehicle type_VLR BSPP   219337 non-null  uint8         \n",
            " 25  emergency vehicle type_VSAV BSPP  219337 non-null  uint8         \n",
            " 26  delta departure-presentation      219337 non-null  int64         \n",
            "dtypes: bool(1), datetime64[ns](1), float64(2), int64(4), uint8(19)\n",
            "memory usage: 27.6 MB\n"
          ],
          "name": "stdout"
        }
      ]
    },
    {
      "cell_type": "code",
      "metadata": {
        "id": "9cKOlpSEniBI",
        "outputId": "dcf8b4b8-3d80-40fb-e5c5-5cb2a559bbbb",
        "colab": {
          "base_uri": "https://localhost:8080/"
        }
      },
      "source": [
        "df.info()"
      ],
      "execution_count": 58,
      "outputs": [
        {
          "output_type": "stream",
          "text": [
            "<class 'pandas.core.frame.DataFrame'>\n",
            "Int64Index: 219337 entries, 5105452 to 4868867\n",
            "Data columns (total 27 columns):\n",
            " #   Column                            Non-Null Count   Dtype         \n",
            "---  ------                            --------------   -----         \n",
            " 0   selection time                    219337 non-null  datetime64[ns]\n",
            " 1   intervention on public roads      219337 non-null  bool          \n",
            " 2   floor                             219337 non-null  int64         \n",
            " 3   OSRM estimated distance           219337 non-null  float64       \n",
            " 4   OSRM estimated duration           219337 non-null  float64       \n",
            " 5   rush hour                         219337 non-null  int64         \n",
            " 6   weekday                           219337 non-null  int64         \n",
            " 7   alert_reason catogory_2           219337 non-null  uint8         \n",
            " 8   alert_reason catogory_3           219337 non-null  uint8         \n",
            " 9   alert_reason catogory_4           219337 non-null  uint8         \n",
            " 10  alert_reason catogory_5           219337 non-null  uint8         \n",
            " 11  alert_reason catogory_6           219337 non-null  uint8         \n",
            " 12  alert_reason catogory_7           219337 non-null  uint8         \n",
            " 13  alert_reason catogory_8           219337 non-null  uint8         \n",
            " 14  alert_reason catogory_9           219337 non-null  uint8         \n",
            " 15  location of the event_107.0       219337 non-null  uint8         \n",
            " 16  location of the event_131.0       219337 non-null  uint8         \n",
            " 17  location of the event_136.0       219337 non-null  uint8         \n",
            " 18  location of the event_137.0       219337 non-null  uint8         \n",
            " 19  location of the event_139.0       219337 non-null  uint8         \n",
            " 20  location of the event_140.0       219337 non-null  uint8         \n",
            " 21  location of the event_148.0       219337 non-null  uint8         \n",
            " 22  location of the event_149.0       219337 non-null  uint8         \n",
            " 23  emergency vehicle type_PSE        219337 non-null  uint8         \n",
            " 24  emergency vehicle type_VLR BSPP   219337 non-null  uint8         \n",
            " 25  emergency vehicle type_VSAV BSPP  219337 non-null  uint8         \n",
            " 26  delta departure-presentation      219337 non-null  int64         \n",
            "dtypes: bool(1), datetime64[ns](1), float64(2), int64(4), uint8(19)\n",
            "memory usage: 27.6 MB\n"
          ],
          "name": "stdout"
        }
      ]
    },
    {
      "cell_type": "markdown",
      "metadata": {
        "id": "Az7-t0moiwoE"
      },
      "source": [
        "# Exploración de las variables numéricas"
      ]
    },
    {
      "cell_type": "code",
      "metadata": {
        "id": "IQhgA_VJ9jLx"
      },
      "source": [
        "boleanas=[]\n",
        "for col in df.columns:\n",
        "  if df[col].nunique()==2:\n",
        "    boleanas.append(col)\n",
        "df[boleanas]=df[boleanas].astype('bool')"
      ],
      "execution_count": 59,
      "outputs": []
    },
    {
      "cell_type": "code",
      "metadata": {
        "id": "wwJAk1GrcnWc",
        "colab": {
          "base_uri": "https://localhost:8080/",
          "height": 244
        },
        "outputId": "c89167b3-3cc6-436e-cba8-07bce8be75d8"
      },
      "source": [
        "df[boleanas].describe()"
      ],
      "execution_count": 60,
      "outputs": [
        {
          "output_type": "execute_result",
          "data": {
            "text/html": [
              "<div>\n",
              "<style scoped>\n",
              "    .dataframe tbody tr th:only-of-type {\n",
              "        vertical-align: middle;\n",
              "    }\n",
              "\n",
              "    .dataframe tbody tr th {\n",
              "        vertical-align: top;\n",
              "    }\n",
              "\n",
              "    .dataframe thead th {\n",
              "        text-align: right;\n",
              "    }\n",
              "</style>\n",
              "<table border=\"1\" class=\"dataframe\">\n",
              "  <thead>\n",
              "    <tr style=\"text-align: right;\">\n",
              "      <th></th>\n",
              "      <th>intervention on public roads</th>\n",
              "      <th>rush hour</th>\n",
              "      <th>weekday</th>\n",
              "      <th>alert_reason catogory_2</th>\n",
              "      <th>alert_reason catogory_3</th>\n",
              "      <th>alert_reason catogory_4</th>\n",
              "      <th>alert_reason catogory_5</th>\n",
              "      <th>alert_reason catogory_6</th>\n",
              "      <th>alert_reason catogory_7</th>\n",
              "      <th>alert_reason catogory_8</th>\n",
              "      <th>alert_reason catogory_9</th>\n",
              "      <th>location of the event_107.0</th>\n",
              "      <th>location of the event_131.0</th>\n",
              "      <th>location of the event_136.0</th>\n",
              "      <th>location of the event_137.0</th>\n",
              "      <th>location of the event_139.0</th>\n",
              "      <th>location of the event_140.0</th>\n",
              "      <th>location of the event_148.0</th>\n",
              "      <th>location of the event_149.0</th>\n",
              "      <th>emergency vehicle type_PSE</th>\n",
              "      <th>emergency vehicle type_VLR BSPP</th>\n",
              "      <th>emergency vehicle type_VSAV BSPP</th>\n",
              "    </tr>\n",
              "  </thead>\n",
              "  <tbody>\n",
              "    <tr>\n",
              "      <th>count</th>\n",
              "      <td>219337</td>\n",
              "      <td>219337</td>\n",
              "      <td>219337</td>\n",
              "      <td>219337</td>\n",
              "      <td>219337</td>\n",
              "      <td>219337</td>\n",
              "      <td>219337</td>\n",
              "      <td>219337</td>\n",
              "      <td>219337</td>\n",
              "      <td>219337</td>\n",
              "      <td>219337</td>\n",
              "      <td>219337</td>\n",
              "      <td>219337</td>\n",
              "      <td>219337</td>\n",
              "      <td>219337</td>\n",
              "      <td>219337</td>\n",
              "      <td>219337</td>\n",
              "      <td>219337</td>\n",
              "      <td>219337</td>\n",
              "      <td>219337</td>\n",
              "      <td>219337</td>\n",
              "      <td>219337</td>\n",
              "    </tr>\n",
              "    <tr>\n",
              "      <th>unique</th>\n",
              "      <td>2</td>\n",
              "      <td>2</td>\n",
              "      <td>2</td>\n",
              "      <td>2</td>\n",
              "      <td>2</td>\n",
              "      <td>2</td>\n",
              "      <td>2</td>\n",
              "      <td>2</td>\n",
              "      <td>2</td>\n",
              "      <td>2</td>\n",
              "      <td>2</td>\n",
              "      <td>2</td>\n",
              "      <td>2</td>\n",
              "      <td>2</td>\n",
              "      <td>2</td>\n",
              "      <td>2</td>\n",
              "      <td>2</td>\n",
              "      <td>2</td>\n",
              "      <td>2</td>\n",
              "      <td>2</td>\n",
              "      <td>2</td>\n",
              "      <td>2</td>\n",
              "    </tr>\n",
              "    <tr>\n",
              "      <th>top</th>\n",
              "      <td>False</td>\n",
              "      <td>False</td>\n",
              "      <td>True</td>\n",
              "      <td>False</td>\n",
              "      <td>True</td>\n",
              "      <td>False</td>\n",
              "      <td>False</td>\n",
              "      <td>False</td>\n",
              "      <td>False</td>\n",
              "      <td>False</td>\n",
              "      <td>False</td>\n",
              "      <td>False</td>\n",
              "      <td>False</td>\n",
              "      <td>False</td>\n",
              "      <td>False</td>\n",
              "      <td>False</td>\n",
              "      <td>False</td>\n",
              "      <td>False</td>\n",
              "      <td>False</td>\n",
              "      <td>False</td>\n",
              "      <td>False</td>\n",
              "      <td>True</td>\n",
              "    </tr>\n",
              "    <tr>\n",
              "      <th>freq</th>\n",
              "      <td>187201</td>\n",
              "      <td>171426</td>\n",
              "      <td>189459</td>\n",
              "      <td>213632</td>\n",
              "      <td>176787</td>\n",
              "      <td>218116</td>\n",
              "      <td>218556</td>\n",
              "      <td>214523</td>\n",
              "      <td>218436</td>\n",
              "      <td>218960</td>\n",
              "      <td>211856</td>\n",
              "      <td>214468</td>\n",
              "      <td>209780</td>\n",
              "      <td>174937</td>\n",
              "      <td>214658</td>\n",
              "      <td>163474</td>\n",
              "      <td>214100</td>\n",
              "      <td>186192</td>\n",
              "      <td>209129</td>\n",
              "      <td>186410</td>\n",
              "      <td>213517</td>\n",
              "      <td>159620</td>\n",
              "    </tr>\n",
              "  </tbody>\n",
              "</table>\n",
              "</div>"
            ],
            "text/plain": [
              "       intervention on public roads  ... emergency vehicle type_VSAV BSPP\n",
              "count                        219337  ...                           219337\n",
              "unique                            2  ...                                2\n",
              "top                           False  ...                             True\n",
              "freq                         187201  ...                           159620\n",
              "\n",
              "[4 rows x 22 columns]"
            ]
          },
          "metadata": {
            "tags": []
          },
          "execution_count": 60
        }
      ]
    },
    {
      "cell_type": "code",
      "metadata": {
        "id": "3IMFO5Zu9NZa",
        "colab": {
          "base_uri": "https://localhost:8080/"
        },
        "outputId": "7c6c186b-72e4-4cea-99ee-fa1c1d267465"
      },
      "source": [
        "numericas = list(df.select_dtypes(include=['int64', 'float64']).columns)\n",
        "numericas"
      ],
      "execution_count": 61,
      "outputs": [
        {
          "output_type": "execute_result",
          "data": {
            "text/plain": [
              "['floor',\n",
              " 'OSRM estimated distance',\n",
              " 'OSRM estimated duration',\n",
              " 'delta departure-presentation']"
            ]
          },
          "metadata": {
            "tags": []
          },
          "execution_count": 61
        }
      ]
    },
    {
      "cell_type": "code",
      "metadata": {
        "id": "EoFstYbk1xgd",
        "colab": {
          "base_uri": "https://localhost:8080/",
          "height": 1000
        },
        "outputId": "318b1d1f-c4f9-4476-a152-95d21b9ed8ae"
      },
      "source": [
        "corr_matrix = correlacion(df, matrix = True, tamaño=(22,20))"
      ],
      "execution_count": 62,
      "outputs": [
        {
          "output_type": "display_data",
          "data": {
            "image/png": "[encoded data removed]",
            "text/plain": [
              "<Figure size 1584x1440 with 2 Axes>"
            ]
          },
          "metadata": {
            "tags": [],
            "needs_background": "light"
          }
        }
      ]
    },
    {
      "cell_type": "markdown",
      "metadata": {
        "id": "mKOVlrUZR8s6"
      },
      "source": [
        "## Borrar redundantes"
      ]
    },
    {
      "cell_type": "code",
      "metadata": {
        "id": "6bJkcZX_yHC5",
        "colab": {
          "base_uri": "https://localhost:8080/"
        },
        "outputId": "a469f28e-cfdd-447d-a922-33b9cc171651"
      },
      "source": [
        "#Identificar variables redundantes \n",
        "\n",
        "# Triangulo superior de la matriz de correlación en números absolutos\n",
        "triangulo_sup = corr_matrix.abs().where(np.triu(np.ones(corr_matrix.shape),\n",
        "                                                1).astype(np.bool))\n",
        "\n",
        "# Encontrar las columnas donde la correlación es 1\n",
        "borrar = [column for column in triangulo_sup.columns\n",
        "          if any(triangulo_sup[column] >= .7)]\n",
        "borrar"
      ],
      "execution_count": 63,
      "outputs": [
        {
          "output_type": "execute_result",
          "data": {
            "text/plain": [
              "['OSRM estimated duration']"
            ]
          },
          "metadata": {
            "tags": []
          },
          "execution_count": 63
        }
      ]
    },
    {
      "cell_type": "code",
      "metadata": {
        "id": "44VVRRhwTr1x"
      },
      "source": [
        "df = df.drop('OSRM estimated duration', axis=1)\n",
        "\n",
        "#cols = df.columns.tolist()\n",
        "#df = df[[c for c in df if c != 'delta selection-presentation'] + ['delta selection-presentation']]\n",
        "\n",
        "numericas = list(df.select_dtypes(include=['int64', 'float64']).columns)"
      ],
      "execution_count": 64,
      "outputs": []
    },
    {
      "cell_type": "code",
      "metadata": {
        "id": "jgxC2Hz7NvkR",
        "colab": {
          "base_uri": "https://localhost:8080/",
          "height": 297
        },
        "outputId": "3ec495ce-6064-4325-d05b-b9ffd797596b"
      },
      "source": [
        "df[numericas].describe()\n"
      ],
      "execution_count": 65,
      "outputs": [
        {
          "output_type": "execute_result",
          "data": {
            "text/html": [
              "<div>\n",
              "<style scoped>\n",
              "    .dataframe tbody tr th:only-of-type {\n",
              "        vertical-align: middle;\n",
              "    }\n",
              "\n",
              "    .dataframe tbody tr th {\n",
              "        vertical-align: top;\n",
              "    }\n",
              "\n",
              "    .dataframe thead th {\n",
              "        text-align: right;\n",
              "    }\n",
              "</style>\n",
              "<table border=\"1\" class=\"dataframe\">\n",
              "  <thead>\n",
              "    <tr style=\"text-align: right;\">\n",
              "      <th></th>\n",
              "      <th>floor</th>\n",
              "      <th>OSRM estimated distance</th>\n",
              "      <th>delta departure-presentation</th>\n",
              "    </tr>\n",
              "  </thead>\n",
              "  <tbody>\n",
              "    <tr>\n",
              "      <th>count</th>\n",
              "      <td>219337.000000</td>\n",
              "      <td>219337.000000</td>\n",
              "      <td>219337.000000</td>\n",
              "    </tr>\n",
              "    <tr>\n",
              "      <th>mean</th>\n",
              "      <td>1.201772</td>\n",
              "      <td>2238.134131</td>\n",
              "      <td>356.161026</td>\n",
              "    </tr>\n",
              "    <tr>\n",
              "      <th>std</th>\n",
              "      <td>2.500414</td>\n",
              "      <td>1591.647524</td>\n",
              "      <td>228.381939</td>\n",
              "    </tr>\n",
              "    <tr>\n",
              "      <th>min</th>\n",
              "      <td>-10.000000</td>\n",
              "      <td>0.800000</td>\n",
              "      <td>1.000000</td>\n",
              "    </tr>\n",
              "    <tr>\n",
              "      <th>25%</th>\n",
              "      <td>0.000000</td>\n",
              "      <td>1221.100000</td>\n",
              "      <td>231.000000</td>\n",
              "    </tr>\n",
              "    <tr>\n",
              "      <th>50%</th>\n",
              "      <td>0.000000</td>\n",
              "      <td>1866.800000</td>\n",
              "      <td>319.000000</td>\n",
              "    </tr>\n",
              "    <tr>\n",
              "      <th>75%</th>\n",
              "      <td>2.000000</td>\n",
              "      <td>2834.600000</td>\n",
              "      <td>434.000000</td>\n",
              "    </tr>\n",
              "    <tr>\n",
              "      <th>max</th>\n",
              "      <td>100.000000</td>\n",
              "      <td>42752.800000</td>\n",
              "      <td>22722.000000</td>\n",
              "    </tr>\n",
              "  </tbody>\n",
              "</table>\n",
              "</div>"
            ],
            "text/plain": [
              "               floor  OSRM estimated distance  delta departure-presentation\n",
              "count  219337.000000            219337.000000                 219337.000000\n",
              "mean        1.201772              2238.134131                    356.161026\n",
              "std         2.500414              1591.647524                    228.381939\n",
              "min       -10.000000                 0.800000                      1.000000\n",
              "25%         0.000000              1221.100000                    231.000000\n",
              "50%         0.000000              1866.800000                    319.000000\n",
              "75%         2.000000              2834.600000                    434.000000\n",
              "max       100.000000             42752.800000                  22722.000000"
            ]
          },
          "metadata": {
            "tags": []
          },
          "execution_count": 65
        }
      ]
    },
    {
      "cell_type": "code",
      "metadata": {
        "id": "7RjXEh4LUBmI",
        "colab": {
          "base_uri": "https://localhost:8080/",
          "height": 567
        },
        "outputId": "85adb3ca-8df2-4d4d-a61b-b8a1343261b9"
      },
      "source": [
        "sns.pairplot(df[numericas])"
      ],
      "execution_count": 66,
      "outputs": [
        {
          "output_type": "execute_result",
          "data": {
            "text/plain": [
              "<seaborn.axisgrid.PairGrid at 0x7f6c6bd0e190>"
            ]
          },
          "metadata": {
            "tags": []
          },
          "execution_count": 66
        },
        {
          "output_type": "display_data",
          "data": {
            "image/png": "[encoded data removed]",
            "text/plain": [
              "<Figure size 540x540 with 12 Axes>"
            ]
          },
          "metadata": {
            "tags": [],
            "needs_background": "light"
          }
        }
      ]
    },
    {
      "cell_type": "markdown",
      "metadata": {
        "id": "SSttuGc65BvM"
      },
      "source": [
        "# Exploración de Outliers"
      ]
    },
    {
      "cell_type": "code",
      "metadata": {
        "id": "F7ab9Yox4_jL",
        "colab": {
          "base_uri": "https://localhost:8080/",
          "height": 252
        },
        "outputId": "13f485ca-d502-4734-b981-d6cbf13feaf2"
      },
      "source": [
        "fig, ax = plt.subplots(1, 2, figsize=(10, 4))\n",
        "for cond, subplot in zip((True, False), ax.flatten()):\n",
        "  sns.boxplot(y=df['delta departure-presentation'], showfliers=cond, ax= subplot)"
      ],
      "execution_count": 67,
      "outputs": [
        {
          "output_type": "display_data",
          "data": {
            "image/png": "[encoded data removed]",
            "text/plain": [
              "<Figure size 720x288 with 2 Axes>"
            ]
          },
          "metadata": {
            "tags": [],
            "needs_background": "light"
          }
        }
      ]
    },
    {
      "cell_type": "markdown",
      "metadata": {
        "id": "T_gjN9zR6uYp"
      },
      "source": [
        "## Identificar \"a ojo\" *outliers*"
      ]
    },
    {
      "cell_type": "code",
      "metadata": {
        "id": "aH_Nryzn60LA",
        "colab": {
          "base_uri": "https://localhost:8080/"
        },
        "outputId": "d8fb294b-3565-48f3-f23c-b569b74de6a6"
      },
      "source": [
        "df['delta departure-presentation'].describe()"
      ],
      "execution_count": 68,
      "outputs": [
        {
          "output_type": "execute_result",
          "data": {
            "text/plain": [
              "count    219337.000000\n",
              "mean        356.161026\n",
              "std         228.381939\n",
              "min           1.000000\n",
              "25%         231.000000\n",
              "50%         319.000000\n",
              "75%         434.000000\n",
              "max       22722.000000\n",
              "Name: delta departure-presentation, dtype: float64"
            ]
          },
          "metadata": {
            "tags": []
          },
          "execution_count": 68
        }
      ]
    },
    {
      "cell_type": "code",
      "metadata": {
        "id": "DnkO4y426yVH",
        "colab": {
          "base_uri": "https://localhost:8080/"
        },
        "outputId": "08993f62-a51b-49f8-c857-928e80ec86ba"
      },
      "source": [
        "df['delta departure-presentation'].quantile(.975)"
      ],
      "execution_count": 69,
      "outputs": [
        {
          "output_type": "execute_result",
          "data": {
            "text/plain": [
              "806.0"
            ]
          },
          "metadata": {
            "tags": []
          },
          "execution_count": 69
        }
      ]
    },
    {
      "cell_type": "code",
      "metadata": {
        "id": "vHqlX3Lj6UIs"
      },
      "source": [
        "df['outlier'] = 0\n",
        "filtro_out = df['delta departure-presentation'] > df['delta departure-presentation'].quantile(.975)\n",
        "df.loc[filtro_out,'outlier'] = 1"
      ],
      "execution_count": 70,
      "outputs": []
    },
    {
      "cell_type": "code",
      "metadata": {
        "id": "TPundRqO-dBn",
        "colab": {
          "base_uri": "https://localhost:8080/"
        },
        "outputId": "dc1dc663-f0c8-45e5-cb8f-20b43677bb13"
      },
      "source": [
        "df['outlier'].value_counts()"
      ],
      "execution_count": 71,
      "outputs": [
        {
          "output_type": "execute_result",
          "data": {
            "text/plain": [
              "0    213857\n",
              "1      5480\n",
              "Name: outlier, dtype: int64"
            ]
          },
          "metadata": {
            "tags": []
          },
          "execution_count": 71
        }
      ]
    },
    {
      "cell_type": "code",
      "metadata": {
        "id": "Lq_psJQF8q9I",
        "colab": {
          "base_uri": "https://localhost:8080/",
          "height": 279
        },
        "outputId": "5c005967-bfdf-4473-c186-6953f2afd06c"
      },
      "source": [
        "fig, ax = plt.subplots(1, 3, figsize=(12, 4))\n",
        "for dat, subplot in zip((df, df[-filtro_out], df[filtro_out]), ax.flatten()):\n",
        "  sns.histplot(x='delta departure-presentation', hue='outlier', \n",
        "               data=dat, ax=subplot )\n",
        "plt.show()"
      ],
      "execution_count": 72,
      "outputs": [
        {
          "output_type": "display_data",
          "data": {
            "image/png": "[encoded data removed]",
            "text/plain": [
              "<Figure size 864x288 with 3 Axes>"
            ]
          },
          "metadata": {
            "tags": [],
            "needs_background": "light"
          }
        }
      ]
    },
    {
      "cell_type": "code",
      "metadata": {
        "id": "d9gCHO8gAfC2",
        "colab": {
          "base_uri": "https://localhost:8080/",
          "height": 329
        },
        "outputId": "5cde21df-b7fd-4cb5-e119-b6e19a559d39"
      },
      "source": [
        "seleccion = ((df['OSRM estimated distance']>20350) & (df['OSRM estimated distance']<20500))\n",
        "df[seleccion].head()"
      ],
      "execution_count": 73,
      "outputs": [
        {
          "output_type": "execute_result",
          "data": {
            "text/html": [
              "<div>\n",
              "<style scoped>\n",
              "    .dataframe tbody tr th:only-of-type {\n",
              "        vertical-align: middle;\n",
              "    }\n",
              "\n",
              "    .dataframe tbody tr th {\n",
              "        vertical-align: top;\n",
              "    }\n",
              "\n",
              "    .dataframe thead th {\n",
              "        text-align: right;\n",
              "    }\n",
              "</style>\n",
              "<table border=\"1\" class=\"dataframe\">\n",
              "  <thead>\n",
              "    <tr style=\"text-align: right;\">\n",
              "      <th></th>\n",
              "      <th>selection time</th>\n",
              "      <th>intervention on public roads</th>\n",
              "      <th>floor</th>\n",
              "      <th>OSRM estimated distance</th>\n",
              "      <th>rush hour</th>\n",
              "      <th>weekday</th>\n",
              "      <th>alert_reason catogory_2</th>\n",
              "      <th>alert_reason catogory_3</th>\n",
              "      <th>alert_reason catogory_4</th>\n",
              "      <th>alert_reason catogory_5</th>\n",
              "      <th>alert_reason catogory_6</th>\n",
              "      <th>alert_reason catogory_7</th>\n",
              "      <th>alert_reason catogory_8</th>\n",
              "      <th>alert_reason catogory_9</th>\n",
              "      <th>location of the event_107.0</th>\n",
              "      <th>location of the event_131.0</th>\n",
              "      <th>location of the event_136.0</th>\n",
              "      <th>location of the event_137.0</th>\n",
              "      <th>location of the event_139.0</th>\n",
              "      <th>location of the event_140.0</th>\n",
              "      <th>location of the event_148.0</th>\n",
              "      <th>location of the event_149.0</th>\n",
              "      <th>emergency vehicle type_PSE</th>\n",
              "      <th>emergency vehicle type_VLR BSPP</th>\n",
              "      <th>emergency vehicle type_VSAV BSPP</th>\n",
              "      <th>delta departure-presentation</th>\n",
              "      <th>outlier</th>\n",
              "    </tr>\n",
              "    <tr>\n",
              "      <th>emergency vehicle selection</th>\n",
              "      <th></th>\n",
              "      <th></th>\n",
              "      <th></th>\n",
              "      <th></th>\n",
              "      <th></th>\n",
              "      <th></th>\n",
              "      <th></th>\n",
              "      <th></th>\n",
              "      <th></th>\n",
              "      <th></th>\n",
              "      <th></th>\n",
              "      <th></th>\n",
              "      <th></th>\n",
              "      <th></th>\n",
              "      <th></th>\n",
              "      <th></th>\n",
              "      <th></th>\n",
              "      <th></th>\n",
              "      <th></th>\n",
              "      <th></th>\n",
              "      <th></th>\n",
              "      <th></th>\n",
              "      <th></th>\n",
              "      <th></th>\n",
              "      <th></th>\n",
              "      <th></th>\n",
              "      <th></th>\n",
              "    </tr>\n",
              "  </thead>\n",
              "  <tbody>\n",
              "    <tr>\n",
              "      <th>4808363</th>\n",
              "      <td>2018-02-15 10:58:51.493</td>\n",
              "      <td>False</td>\n",
              "      <td>0</td>\n",
              "      <td>20451.1</td>\n",
              "      <td>False</td>\n",
              "      <td>True</td>\n",
              "      <td>False</td>\n",
              "      <td>True</td>\n",
              "      <td>False</td>\n",
              "      <td>False</td>\n",
              "      <td>False</td>\n",
              "      <td>False</td>\n",
              "      <td>False</td>\n",
              "      <td>False</td>\n",
              "      <td>False</td>\n",
              "      <td>False</td>\n",
              "      <td>False</td>\n",
              "      <td>False</td>\n",
              "      <td>True</td>\n",
              "      <td>False</td>\n",
              "      <td>False</td>\n",
              "      <td>False</td>\n",
              "      <td>False</td>\n",
              "      <td>False</td>\n",
              "      <td>False</td>\n",
              "      <td>1171</td>\n",
              "      <td>1</td>\n",
              "    </tr>\n",
              "    <tr>\n",
              "      <th>5320305</th>\n",
              "      <td>2018-10-25 16:32:40.670</td>\n",
              "      <td>False</td>\n",
              "      <td>0</td>\n",
              "      <td>20373.2</td>\n",
              "      <td>True</td>\n",
              "      <td>True</td>\n",
              "      <td>False</td>\n",
              "      <td>False</td>\n",
              "      <td>False</td>\n",
              "      <td>False</td>\n",
              "      <td>False</td>\n",
              "      <td>False</td>\n",
              "      <td>False</td>\n",
              "      <td>False</td>\n",
              "      <td>False</td>\n",
              "      <td>True</td>\n",
              "      <td>False</td>\n",
              "      <td>False</td>\n",
              "      <td>False</td>\n",
              "      <td>False</td>\n",
              "      <td>False</td>\n",
              "      <td>False</td>\n",
              "      <td>False</td>\n",
              "      <td>True</td>\n",
              "      <td>False</td>\n",
              "      <td>609</td>\n",
              "      <td>0</td>\n",
              "    </tr>\n",
              "    <tr>\n",
              "      <th>4832811</th>\n",
              "      <td>2018-02-28 17:44:03.653</td>\n",
              "      <td>False</td>\n",
              "      <td>0</td>\n",
              "      <td>20420.9</td>\n",
              "      <td>True</td>\n",
              "      <td>True</td>\n",
              "      <td>False</td>\n",
              "      <td>False</td>\n",
              "      <td>False</td>\n",
              "      <td>False</td>\n",
              "      <td>False</td>\n",
              "      <td>False</td>\n",
              "      <td>False</td>\n",
              "      <td>False</td>\n",
              "      <td>False</td>\n",
              "      <td>True</td>\n",
              "      <td>False</td>\n",
              "      <td>False</td>\n",
              "      <td>False</td>\n",
              "      <td>False</td>\n",
              "      <td>False</td>\n",
              "      <td>False</td>\n",
              "      <td>False</td>\n",
              "      <td>True</td>\n",
              "      <td>False</td>\n",
              "      <td>1571</td>\n",
              "      <td>1</td>\n",
              "    </tr>\n",
              "  </tbody>\n",
              "</table>\n",
              "</div>"
            ],
            "text/plain": [
              "                                     selection time  ...  outlier\n",
              "emergency vehicle selection                          ...         \n",
              "4808363                     2018-02-15 10:58:51.493  ...        1\n",
              "5320305                     2018-10-25 16:32:40.670  ...        0\n",
              "4832811                     2018-02-28 17:44:03.653  ...        1\n",
              "\n",
              "[3 rows x 27 columns]"
            ]
          },
          "metadata": {
            "tags": []
          },
          "execution_count": 73
        }
      ]
    },
    {
      "cell_type": "markdown",
      "metadata": {
        "id": "6izuZd_4r5Eg"
      },
      "source": [
        "# Comparación Regresión lineal, Regresión robusta"
      ]
    },
    {
      "cell_type": "code",
      "metadata": {
        "id": "0mqksCKSr5Ei"
      },
      "source": [
        "Z = df['delta departure-presentation']\n",
        "X = df.drop(['selection time', 'delta departure-presentation', 'outlier'],\n",
        "            axis=1)\n",
        "\n",
        "X_train, X_test, Z_train, Z_test = train_test_split(X, Z, \n",
        "                                                    test_size=0.3, \n",
        "                                                    shuffle=True,\n",
        "                                                    random_state=261)"
      ],
      "execution_count": 74,
      "outputs": []
    },
    {
      "cell_type": "markdown",
      "metadata": {
        "id": "4ROaW5Muliuw"
      },
      "source": [
        "# Guardamos datos preprocesados"
      ]
    },
    {
      "cell_type": "code",
      "metadata": {
        "colab": {
          "base_uri": "https://localhost:8080/"
        },
        "id": "N6LPxROMkg9e",
        "outputId": "48fdba99-5f29-4407-aa67-cc7d350622d8"
      },
      "source": [
        "df_preprocesado = pd.concat([X,Z], axis=1)\n",
        "#comprobamos dimensiones\n",
        "X.shape,    Z.shape,   df_preprocesado.shape"
      ],
      "execution_count": 75,
      "outputs": [
        {
          "output_type": "execute_result",
          "data": {
            "text/plain": [
              "((219337, 24), (219337,), (219337, 25))"
            ]
          },
          "metadata": {
            "tags": []
          },
          "execution_count": 75
        }
      ]
    },
    {
      "cell_type": "code",
      "metadata": {
        "id": "EmZQXZAllCV8"
      },
      "source": [
        "df_preprocesado.to_csv('/content/drive/MyDrive/Datos/ParisFireBrigade/Output/df_selec.csv')"
      ],
      "execution_count": 76,
      "outputs": []
    },
    {
      "cell_type": "code",
      "metadata": {
        "id": "eRDZh5-R5ET5",
        "colab": {
          "base_uri": "https://localhost:8080/"
        },
        "outputId": "584f4147-5cb0-49ab-b4ca-34f5b5c2c0d8"
      },
      "source": [
        "# ¿Cómo son los conjuntos de entrenamiento y prueba?\n",
        "print(\"Conjunto de entrenamiento\")\n",
        "print(\"X: \", X_train.shape)\n",
        "print(\"y: \", Z_train.shape)\n",
        "\n",
        "print(\"Conjunto de prueba\")\n",
        "print(\"X: \", X_test.shape)\n",
        "print(\"y: \", Z_test.shape)"
      ],
      "execution_count": 77,
      "outputs": [
        {
          "output_type": "stream",
          "text": [
            "Conjunto de entrenamiento\n",
            "X:  (153535, 24)\n",
            "y:  (153535,)\n",
            "Conjunto de prueba\n",
            "X:  (65802, 24)\n",
            "y:  (65802,)\n"
          ],
          "name": "stdout"
        }
      ]
    },
    {
      "cell_type": "markdown",
      "metadata": {
        "id": "0UCDSsULUFZ3"
      },
      "source": [
        "## Regresión Lineal"
      ]
    },
    {
      "cell_type": "code",
      "metadata": {
        "id": "KhZWHOuFr5En",
        "colab": {
          "base_uri": "https://localhost:8080/"
        },
        "outputId": "c4512cad-f242-44c5-d26d-ed09cdbd981f"
      },
      "source": [
        "lr = LinearRegression().fit(X_train, Z_train)\n",
        "\n",
        "Z_pred = lr.predict(X_test)\n",
        "\n",
        "error_medio_absoluto = np.mean(np.absolute(Z_test - Z_pred ))\n",
        "error_medio_absoluto"
      ],
      "execution_count": 78,
      "outputs": [
        {
          "output_type": "execute_result",
          "data": {
            "text/plain": [
              "107.76261575637615"
            ]
          },
          "metadata": {
            "tags": []
          },
          "execution_count": 78
        }
      ]
    },
    {
      "cell_type": "code",
      "metadata": {
        "id": "qBWhR4-CVHed",
        "colab": {
          "base_uri": "https://localhost:8080/"
        },
        "outputId": "cb68c62e-ab85-4273-a77e-1927725ec6d6"
      },
      "source": [
        "metrics.mean_absolute_error(Z_test, Z_pred)"
      ],
      "execution_count": 79,
      "outputs": [
        {
          "output_type": "execute_result",
          "data": {
            "text/plain": [
              "107.7626157563764"
            ]
          },
          "metadata": {
            "tags": []
          },
          "execution_count": 79
        }
      ]
    },
    {
      "cell_type": "code",
      "metadata": {
        "id": "RQyu3A4aTPOg",
        "colab": {
          "base_uri": "https://localhost:8080/"
        },
        "outputId": "ca66e0ac-a6d9-49be-a16a-92f6241370ce"
      },
      "source": [
        "lr.coef_"
      ],
      "execution_count": 80,
      "outputs": [
        {
          "output_type": "execute_result",
          "data": {
            "text/plain": [
              "array([-4.33942432e-01,  1.45988715e+00,  6.56201034e-02,  2.00541680e+01,\n",
              "        1.28548520e+01, -2.08490146e+01, -5.18799703e+00,  1.78971687e+01,\n",
              "        6.26010174e+01,  5.40900204e+01,  1.60553920e+02, -1.13052663e+01,\n",
              "        2.07265743e+01,  3.23559261e+00, -6.65011789e+01,  1.78034200e+01,\n",
              "        5.21215906e+00,  1.38647876e+01,  1.87045195e+01, -9.12014269e+00,\n",
              "        5.75115037e+00,  2.10530041e+01, -4.27498688e+00,  4.85909991e+00])"
            ]
          },
          "metadata": {
            "tags": []
          },
          "execution_count": 80
        }
      ]
    },
    {
      "cell_type": "code",
      "metadata": {
        "id": "bW04WKoccBBf",
        "colab": {
          "base_uri": "https://localhost:8080/"
        },
        "outputId": "7e25c7b5-e865-435d-a24f-0300d6ecd3ab"
      },
      "source": [
        "#calculamos los errores\n",
        "errores = (np.array(Z_test) - Z_pred)\n",
        "len(errores)"
      ],
      "execution_count": 81,
      "outputs": [
        {
          "output_type": "execute_result",
          "data": {
            "text/plain": [
              "65802"
            ]
          },
          "metadata": {
            "tags": []
          },
          "execution_count": 81
        }
      ]
    },
    {
      "cell_type": "code",
      "metadata": {
        "colab": {
          "base_uri": "https://localhost:8080/"
        },
        "id": "M3rf0xkMbsVm",
        "outputId": "617f5b3a-2f90-4a83-9492-2ef573f61e54"
      },
      "source": [
        "#una de las hipotesis de la regresión es que los errores son\n",
        "#independientes  entre sí, teniendo una distribución normal\n",
        "\n",
        "media = np.mean(Z_test - Z_pred)           \n",
        "des_est = np.sqrt(np.var(Z_test - Z_pred))\n",
        "\n",
        "media,des_est"
      ],
      "execution_count": 82,
      "outputs": [
        {
          "output_type": "execute_result",
          "data": {
            "text/plain": [
              "(1.588166182961604, 202.98958376528822)"
            ]
          },
          "metadata": {
            "tags": []
          },
          "execution_count": 82
        }
      ]
    },
    {
      "cell_type": "markdown",
      "metadata": {
        "id": "3LQFPOd3ebwY"
      },
      "source": [
        "### Comparación de los errores empirícos con una la distribución normal"
      ]
    },
    {
      "cell_type": "code",
      "metadata": {
        "id": "E7tCLD8gdqA2",
        "colab": {
          "base_uri": "https://localhost:8080/",
          "height": 268
        },
        "outputId": "aa51fc46-6820-43c4-a37b-d3e96b88eaa2"
      },
      "source": [
        "# Comparación de la distribución teórica(normal) y empirica de los errores\n",
        "\n",
        "# Se elige una submuestra (%0.5) con el propósito de obtener una mejor visualización\n",
        "errores_empiricos = np.random.choice(errores, 329)\n",
        "\n",
        "# Se obtienen 329 valores a partir de la distribución normal (teorica) usando la media\n",
        "# y la desviación de los errores\n",
        "errores_teoricos = np.random.normal(media, des_est, 329)\n",
        "\n",
        "# Comparamos las gráficas de ambas distribuciones\n",
        "\n",
        "fig, ax = plt.subplots(1, 2, figsize=(8, 4), sharey='all')\n",
        "for dat, subplot in zip((errores_teoricos, errores_empiricos), ax.flatten()):\n",
        "  sns.histplot(x=dat, ax=subplot, kde=True, )\n",
        "  \n",
        "plt.show()"
      ],
      "execution_count": 83,
      "outputs": [
        {
          "output_type": "display_data",
          "data": {
            "image/png": "[encoded data removed]",
            "text/plain": [
              "<Figure size 576x288 with 2 Axes>"
            ]
          },
          "metadata": {
            "tags": [],
            "needs_background": "light"
          }
        }
      ]
    },
    {
      "cell_type": "markdown",
      "metadata": {
        "id": "0XVgYd-JHXDQ"
      },
      "source": [
        "### Calculo de [$R^2$](https://docs.google.com/presentation/d/1k0aYwEBzaaAkWjX6jRKAc40nKHi3FROkJwtXCOE22mI/edit#slide=id.ga8926b2cd2_0_14) \n",
        "\n",
        "$MSE = \\cfrac{1}{n}\\sum{( y - y_{pred})}^2$\n",
        "\n",
        " $R^2 \t= 1 -  \\cfrac{MSE(modelo)}{MSE(linea~base)}$\n"
      ]
    },
    {
      "cell_type": "code",
      "metadata": {
        "id": "8eu61F_BHuq6",
        "colab": {
          "base_uri": "https://localhost:8080/"
        },
        "outputId": "f4d2b6f6-552c-4242-8dc9-00d997caa6e5"
      },
      "source": [
        "# Error cuadrado medio (MSE) linea base (promedio de las etiquetas)\n",
        "\n",
        "errores_lb = Z_test - Z_test.mean()\n",
        "MSE_base = pow(errores_lb,2).sum()/len(errores_lb)\n",
        "MSE_base"
      ],
      "execution_count": 84,
      "outputs": [
        {
          "output_type": "execute_result",
          "data": {
            "text/plain": [
              "52114.94299180111"
            ]
          },
          "metadata": {
            "tags": []
          },
          "execution_count": 84
        }
      ]
    },
    {
      "cell_type": "code",
      "metadata": {
        "id": "yNfbrWo3JqZM",
        "colab": {
          "base_uri": "https://localhost:8080/"
        },
        "outputId": "ad46ec2c-9757-4b70-c762-062bdabff81d"
      },
      "source": [
        "#Error cuadrado medio (MSE) modelo\n",
        "errores = Z_test - Z_pred\n",
        "\n",
        "MSE_modelo = pow(errores,2).sum()/len(errores)\n",
        "MSE_modelo"
      ],
      "execution_count": 85,
      "outputs": [
        {
          "output_type": "execute_result",
          "data": {
            "text/plain": [
              "41207.29338902959"
            ]
          },
          "metadata": {
            "tags": []
          },
          "execution_count": 85
        }
      ]
    },
    {
      "cell_type": "code",
      "metadata": {
        "id": "_uWhF8uAABtr",
        "colab": {
          "base_uri": "https://localhost:8080/"
        },
        "outputId": "15dda705-6704-4c8d-fd75-17b243fcb2e7"
      },
      "source": [
        "R2 = 1 - MSE_modelo/MSE_base #¿cuánto mejora la predicción nuestro modelo?\n",
        "R2"
      ],
      "execution_count": 86,
      "outputs": [
        {
          "output_type": "execute_result",
          "data": {
            "text/plain": [
              "0.20929984715684224"
            ]
          },
          "metadata": {
            "tags": []
          },
          "execution_count": 86
        }
      ]
    },
    {
      "cell_type": "code",
      "metadata": {
        "colab": {
          "base_uri": "https://localhost:8080/"
        },
        "id": "WYi90tlAhh0Y",
        "outputId": "c4105c13-85aa-4963-d463-4815dc56796f"
      },
      "source": [
        "R2 = 1 - MSE_base/MSE_base\n",
        "R2"
      ],
      "execution_count": 87,
      "outputs": [
        {
          "output_type": "execute_result",
          "data": {
            "text/plain": [
              "0.0"
            ]
          },
          "metadata": {
            "tags": []
          },
          "execution_count": 87
        }
      ]
    },
    {
      "cell_type": "code",
      "metadata": {
        "id": "SKxn3nyXQyDp"
      },
      "source": [
        "def R_cuadrada(val_obs, val_pred):\n",
        "  errores_lb = val_obs - val_obs.mean()\n",
        "  errores_m = val_obs - val_pred\n",
        "  MSE_base = pow(errores_lb,2).sum()/len(errores_lb)\n",
        "  MSE_modelo = pow(errores,2).sum()/len(errores)\n",
        "  R2 = 1 - MSE_modelo/MSE_base\n",
        "  return R2"
      ],
      "execution_count": 88,
      "outputs": []
    },
    {
      "cell_type": "code",
      "metadata": {
        "id": "UkB-l9rbQ2Te",
        "colab": {
          "base_uri": "https://localhost:8080/"
        },
        "outputId": "b6ef5d22-e054-4e13-c006-0c93535960be"
      },
      "source": [
        "R_cuadrada(Z_test, Z_pred)"
      ],
      "execution_count": 89,
      "outputs": [
        {
          "output_type": "execute_result",
          "data": {
            "text/plain": [
              "0.20929984715684224"
            ]
          },
          "metadata": {
            "tags": []
          },
          "execution_count": 89
        }
      ]
    },
    {
      "cell_type": "code",
      "metadata": {
        "id": "ZGGwZw9mLz7i",
        "colab": {
          "base_uri": "https://localhost:8080/"
        },
        "outputId": "e8d4b4cc-fdf9-4d1a-b665-3b92cc1a9bbc"
      },
      "source": [
        "metrics.r2_score(Z_test, Z_pred)"
      ],
      "execution_count": 90,
      "outputs": [
        {
          "output_type": "execute_result",
          "data": {
            "text/plain": [
              "0.20929984715684224"
            ]
          },
          "metadata": {
            "tags": []
          },
          "execution_count": 90
        }
      ]
    },
    {
      "cell_type": "markdown",
      "metadata": {
        "id": "rBg1H4OEUXV7"
      },
      "source": [
        "## Regresión Robusta"
      ]
    },
    {
      "cell_type": "code",
      "metadata": {
        "id": "Fw-RzJdaDquX",
        "colab": {
          "base_uri": "https://localhost:8080/"
        },
        "outputId": "f087d2f5-637a-4c58-d785-0bd5189a159f"
      },
      "source": [
        "hr = HuberRegressor( epsilon=1.35,   max_iter=1000,  alpha=0,  warm_start=False, \n",
        "                    fit_intercept=True, tol=1e-05)\n",
        "hr = hr.fit(X_train, Z_train)\n",
        "Z_pred = hr.predict(X_test)\n",
        "\n",
        "print(metrics.mean_absolute_error(Z_test, Z_pred))\n",
        "print('MAE:', metrics.mean_absolute_error(Z_test, Z_pred))"
      ],
      "execution_count": 91,
      "outputs": [
        {
          "output_type": "stream",
          "text": [
            "104.76880269417468\n",
            "MAE: 104.76880269417468\n"
          ],
          "name": "stdout"
        }
      ]
    },
    {
      "cell_type": "code",
      "metadata": {
        "id": "eN6yo_iMGQyC"
      },
      "source": [
        ""
      ],
      "execution_count": 91,
      "outputs": []
    },
    {
      "cell_type": "code",
      "metadata": {
        "id": "OvnUVBW9TWzj",
        "colab": {
          "base_uri": "https://localhost:8080/"
        },
        "outputId": "1d1695a1-3e92-419a-decb-cd07ec373181"
      },
      "source": [
        "hr.coef_"
      ],
      "execution_count": 92,
      "outputs": [
        {
          "output_type": "execute_result",
          "data": {
            "text/plain": [
              "array([ -6.42082247,   1.02933423,   0.07044539,   8.89033804,\n",
              "        11.04303429,   1.77755236,   2.28109482,   5.48180013,\n",
              "         4.3073675 ,  32.9200227 ,   8.67269795,   0.66298924,\n",
              "        22.62873096,   8.3484689 , -13.8221095 ,  24.53924787,\n",
              "        11.80454761,  19.04294123,  10.19848762,  -5.57925417,\n",
              "         7.56525597,  45.51281083,  14.56617375,  17.57776371])"
            ]
          },
          "metadata": {
            "tags": []
          },
          "execution_count": 92
        }
      ]
    },
    {
      "cell_type": "code",
      "metadata": {
        "id": "_ox61AcR41BW",
        "colab": {
          "base_uri": "https://localhost:8080/",
          "height": 793
        },
        "outputId": "a64f054e-851e-4d0e-db23-905a2185b6d7"
      },
      "source": [
        "coeficientes_hr = pd.DataFrame({'coef':hr.coef_, 'variable':list(X.columns)})\n",
        "coeficientes_hr.sort_values('coef').reset_index(drop=True)"
      ],
      "execution_count": 93,
      "outputs": [
        {
          "output_type": "execute_result",
          "data": {
            "text/html": [
              "<div>\n",
              "<style scoped>\n",
              "    .dataframe tbody tr th:only-of-type {\n",
              "        vertical-align: middle;\n",
              "    }\n",
              "\n",
              "    .dataframe tbody tr th {\n",
              "        vertical-align: top;\n",
              "    }\n",
              "\n",
              "    .dataframe thead th {\n",
              "        text-align: right;\n",
              "    }\n",
              "</style>\n",
              "<table border=\"1\" class=\"dataframe\">\n",
              "  <thead>\n",
              "    <tr style=\"text-align: right;\">\n",
              "      <th></th>\n",
              "      <th>coef</th>\n",
              "      <th>variable</th>\n",
              "    </tr>\n",
              "  </thead>\n",
              "  <tbody>\n",
              "    <tr>\n",
              "      <th>0</th>\n",
              "      <td>-13.822109</td>\n",
              "      <td>location of the event_131.0</td>\n",
              "    </tr>\n",
              "    <tr>\n",
              "      <th>1</th>\n",
              "      <td>-6.420822</td>\n",
              "      <td>intervention on public roads</td>\n",
              "    </tr>\n",
              "    <tr>\n",
              "      <th>2</th>\n",
              "      <td>-5.579254</td>\n",
              "      <td>location of the event_148.0</td>\n",
              "    </tr>\n",
              "    <tr>\n",
              "      <th>3</th>\n",
              "      <td>0.070445</td>\n",
              "      <td>OSRM estimated distance</td>\n",
              "    </tr>\n",
              "    <tr>\n",
              "      <th>4</th>\n",
              "      <td>0.662989</td>\n",
              "      <td>alert_reason catogory_8</td>\n",
              "    </tr>\n",
              "    <tr>\n",
              "      <th>5</th>\n",
              "      <td>1.029334</td>\n",
              "      <td>floor</td>\n",
              "    </tr>\n",
              "    <tr>\n",
              "      <th>6</th>\n",
              "      <td>1.777552</td>\n",
              "      <td>alert_reason catogory_2</td>\n",
              "    </tr>\n",
              "    <tr>\n",
              "      <th>7</th>\n",
              "      <td>2.281095</td>\n",
              "      <td>alert_reason catogory_3</td>\n",
              "    </tr>\n",
              "    <tr>\n",
              "      <th>8</th>\n",
              "      <td>4.307368</td>\n",
              "      <td>alert_reason catogory_5</td>\n",
              "    </tr>\n",
              "    <tr>\n",
              "      <th>9</th>\n",
              "      <td>5.481800</td>\n",
              "      <td>alert_reason catogory_4</td>\n",
              "    </tr>\n",
              "    <tr>\n",
              "      <th>10</th>\n",
              "      <td>7.565256</td>\n",
              "      <td>location of the event_149.0</td>\n",
              "    </tr>\n",
              "    <tr>\n",
              "      <th>11</th>\n",
              "      <td>8.348469</td>\n",
              "      <td>location of the event_107.0</td>\n",
              "    </tr>\n",
              "    <tr>\n",
              "      <th>12</th>\n",
              "      <td>8.672698</td>\n",
              "      <td>alert_reason catogory_7</td>\n",
              "    </tr>\n",
              "    <tr>\n",
              "      <th>13</th>\n",
              "      <td>8.890338</td>\n",
              "      <td>rush hour</td>\n",
              "    </tr>\n",
              "    <tr>\n",
              "      <th>14</th>\n",
              "      <td>10.198488</td>\n",
              "      <td>location of the event_140.0</td>\n",
              "    </tr>\n",
              "    <tr>\n",
              "      <th>15</th>\n",
              "      <td>11.043034</td>\n",
              "      <td>weekday</td>\n",
              "    </tr>\n",
              "    <tr>\n",
              "      <th>16</th>\n",
              "      <td>11.804548</td>\n",
              "      <td>location of the event_137.0</td>\n",
              "    </tr>\n",
              "    <tr>\n",
              "      <th>17</th>\n",
              "      <td>14.566174</td>\n",
              "      <td>emergency vehicle type_VLR BSPP</td>\n",
              "    </tr>\n",
              "    <tr>\n",
              "      <th>18</th>\n",
              "      <td>17.577764</td>\n",
              "      <td>emergency vehicle type_VSAV BSPP</td>\n",
              "    </tr>\n",
              "    <tr>\n",
              "      <th>19</th>\n",
              "      <td>19.042941</td>\n",
              "      <td>location of the event_139.0</td>\n",
              "    </tr>\n",
              "    <tr>\n",
              "      <th>20</th>\n",
              "      <td>22.628731</td>\n",
              "      <td>alert_reason catogory_9</td>\n",
              "    </tr>\n",
              "    <tr>\n",
              "      <th>21</th>\n",
              "      <td>24.539248</td>\n",
              "      <td>location of the event_136.0</td>\n",
              "    </tr>\n",
              "    <tr>\n",
              "      <th>22</th>\n",
              "      <td>32.920023</td>\n",
              "      <td>alert_reason catogory_6</td>\n",
              "    </tr>\n",
              "    <tr>\n",
              "      <th>23</th>\n",
              "      <td>45.512811</td>\n",
              "      <td>emergency vehicle type_PSE</td>\n",
              "    </tr>\n",
              "  </tbody>\n",
              "</table>\n",
              "</div>"
            ],
            "text/plain": [
              "         coef                          variable\n",
              "0  -13.822109       location of the event_131.0\n",
              "1   -6.420822      intervention on public roads\n",
              "2   -5.579254       location of the event_148.0\n",
              "3    0.070445           OSRM estimated distance\n",
              "4    0.662989           alert_reason catogory_8\n",
              "5    1.029334                             floor\n",
              "6    1.777552           alert_reason catogory_2\n",
              "7    2.281095           alert_reason catogory_3\n",
              "8    4.307368           alert_reason catogory_5\n",
              "9    5.481800           alert_reason catogory_4\n",
              "10   7.565256       location of the event_149.0\n",
              "11   8.348469       location of the event_107.0\n",
              "12   8.672698           alert_reason catogory_7\n",
              "13   8.890338                         rush hour\n",
              "14  10.198488       location of the event_140.0\n",
              "15  11.043034                           weekday\n",
              "16  11.804548       location of the event_137.0\n",
              "17  14.566174   emergency vehicle type_VLR BSPP\n",
              "18  17.577764  emergency vehicle type_VSAV BSPP\n",
              "19  19.042941       location of the event_139.0\n",
              "20  22.628731           alert_reason catogory_9\n",
              "21  24.539248       location of the event_136.0\n",
              "22  32.920023           alert_reason catogory_6\n",
              "23  45.512811        emergency vehicle type_PSE"
            ]
          },
          "metadata": {
            "tags": []
          },
          "execution_count": 93
        }
      ]
    },
    {
      "cell_type": "markdown",
      "metadata": {
        "id": "FBYTHnDLoMkg"
      },
      "source": [
        "# Estandarizar valores para comparar importancia de vairiables"
      ]
    },
    {
      "cell_type": "code",
      "metadata": {
        "id": "pdfXjtP9oZ8B"
      },
      "source": [
        "from sklearn.preprocessing import StandardScaler"
      ],
      "execution_count": 94,
      "outputs": []
    },
    {
      "cell_type": "code",
      "metadata": {
        "id": "RZf7mBFTT1Jw"
      },
      "source": [
        "X_estandarizados=X.copy()\n",
        "columnas = X.columns\n",
        "\n",
        "scaler = StandardScaler()\n",
        "\n",
        "X_estandarizados[columnas] = scaler.fit_transform(X[columnas])"
      ],
      "execution_count": 95,
      "outputs": []
    },
    {
      "cell_type": "code",
      "metadata": {
        "id": "1DWtw747Txkg"
      },
      "source": [
        "\n",
        "X_train, X_test, Z_train, Z_test = train_test_split(X_estandarizados, Z, test_size=0.3, \n",
        "                                                    shuffle=True, random_state=261)"
      ],
      "execution_count": 96,
      "outputs": []
    },
    {
      "cell_type": "code",
      "metadata": {
        "id": "ABQMy7uLTxku"
      },
      "source": [
        "hr_st = HuberRegressor( epsilon=1.35,   max_iter=1000,  alpha=0,  warm_start=False, \n",
        "                    fit_intercept=True, tol=1e-05)\n",
        "hr_st = hr.fit(X_train, Z_train)"
      ],
      "execution_count": 98,
      "outputs": []
    },
    {
      "cell_type": "code",
      "metadata": {
        "id": "2_aGNzUTTxkx",
        "colab": {
          "base_uri": "https://localhost:8080/",
          "height": 793
        },
        "outputId": "75b1443a-b0ce-4b9b-efce-3466e341dbe6"
      },
      "source": [
        "coeficientes_hr_st = pd.DataFrame({'coef':hr_st.coef_, 'variable':list(columnas)})\n",
        "coeficientes_hr_st.sort_values('coef').reset_index(drop=True)"
      ],
      "execution_count": 99,
      "outputs": [
        {
          "output_type": "execute_result",
          "data": {
            "text/html": [
              "<div>\n",
              "<style scoped>\n",
              "    .dataframe tbody tr th:only-of-type {\n",
              "        vertical-align: middle;\n",
              "    }\n",
              "\n",
              "    .dataframe tbody tr th {\n",
              "        vertical-align: top;\n",
              "    }\n",
              "\n",
              "    .dataframe thead th {\n",
              "        text-align: right;\n",
              "    }\n",
              "</style>\n",
              "<table border=\"1\" class=\"dataframe\">\n",
              "  <thead>\n",
              "    <tr style=\"text-align: right;\">\n",
              "      <th></th>\n",
              "      <th>coef</th>\n",
              "      <th>variable</th>\n",
              "    </tr>\n",
              "  </thead>\n",
              "  <tbody>\n",
              "    <tr>\n",
              "      <th>0</th>\n",
              "      <td>-11.004036</td>\n",
              "      <td>location of the event_131.0</td>\n",
              "    </tr>\n",
              "    <tr>\n",
              "      <th>1</th>\n",
              "      <td>-7.982748</td>\n",
              "      <td>alert_reason catogory_3</td>\n",
              "    </tr>\n",
              "    <tr>\n",
              "      <th>2</th>\n",
              "      <td>-4.971589</td>\n",
              "      <td>alert_reason catogory_2</td>\n",
              "    </tr>\n",
              "    <tr>\n",
              "      <th>3</th>\n",
              "      <td>-1.901130</td>\n",
              "      <td>location of the event_148.0</td>\n",
              "    </tr>\n",
              "    <tr>\n",
              "      <th>4</th>\n",
              "      <td>-0.959161</td>\n",
              "      <td>emergency vehicle type_VLR BSPP</td>\n",
              "    </tr>\n",
              "    <tr>\n",
              "      <th>5</th>\n",
              "      <td>-0.841142</td>\n",
              "      <td>intervention on public roads</td>\n",
              "    </tr>\n",
              "    <tr>\n",
              "      <th>6</th>\n",
              "      <td>-0.243532</td>\n",
              "      <td>alert_reason catogory_9</td>\n",
              "    </tr>\n",
              "    <tr>\n",
              "      <th>7</th>\n",
              "      <td>0.280417</td>\n",
              "      <td>location of the event_149.0</td>\n",
              "    </tr>\n",
              "    <tr>\n",
              "      <th>8</th>\n",
              "      <td>0.340519</td>\n",
              "      <td>alert_reason catogory_8</td>\n",
              "    </tr>\n",
              "    <tr>\n",
              "      <th>9</th>\n",
              "      <td>0.484384</td>\n",
              "      <td>alert_reason catogory_4</td>\n",
              "    </tr>\n",
              "    <tr>\n",
              "      <th>10</th>\n",
              "      <td>1.007676</td>\n",
              "      <td>location of the event_107.0</td>\n",
              "    </tr>\n",
              "    <tr>\n",
              "      <th>11</th>\n",
              "      <td>1.232064</td>\n",
              "      <td>location of the event_137.0</td>\n",
              "    </tr>\n",
              "    <tr>\n",
              "      <th>12</th>\n",
              "      <td>2.878396</td>\n",
              "      <td>location of the event_140.0</td>\n",
              "    </tr>\n",
              "    <tr>\n",
              "      <th>13</th>\n",
              "      <td>3.184385</td>\n",
              "      <td>weekday</td>\n",
              "    </tr>\n",
              "    <tr>\n",
              "      <th>14</th>\n",
              "      <td>3.520550</td>\n",
              "      <td>alert_reason catogory_5</td>\n",
              "    </tr>\n",
              "    <tr>\n",
              "      <th>15</th>\n",
              "      <td>3.772928</td>\n",
              "      <td>floor</td>\n",
              "    </tr>\n",
              "    <tr>\n",
              "      <th>16</th>\n",
              "      <td>3.844048</td>\n",
              "      <td>emergency vehicle type_VSAV BSPP</td>\n",
              "    </tr>\n",
              "    <tr>\n",
              "      <th>17</th>\n",
              "      <td>5.973213</td>\n",
              "      <td>location of the event_139.0</td>\n",
              "    </tr>\n",
              "    <tr>\n",
              "      <th>18</th>\n",
              "      <td>6.538203</td>\n",
              "      <td>location of the event_136.0</td>\n",
              "    </tr>\n",
              "    <tr>\n",
              "      <th>19</th>\n",
              "      <td>6.680588</td>\n",
              "      <td>alert_reason catogory_6</td>\n",
              "    </tr>\n",
              "    <tr>\n",
              "      <th>20</th>\n",
              "      <td>6.700765</td>\n",
              "      <td>alert_reason catogory_7</td>\n",
              "    </tr>\n",
              "    <tr>\n",
              "      <th>21</th>\n",
              "      <td>7.231715</td>\n",
              "      <td>rush hour</td>\n",
              "    </tr>\n",
              "    <tr>\n",
              "      <th>22</th>\n",
              "      <td>9.456886</td>\n",
              "      <td>emergency vehicle type_PSE</td>\n",
              "    </tr>\n",
              "    <tr>\n",
              "      <th>23</th>\n",
              "      <td>111.859871</td>\n",
              "      <td>OSRM estimated distance</td>\n",
              "    </tr>\n",
              "  </tbody>\n",
              "</table>\n",
              "</div>"
            ],
            "text/plain": [
              "          coef                          variable\n",
              "0   -11.004036       location of the event_131.0\n",
              "1    -7.982748           alert_reason catogory_3\n",
              "2    -4.971589           alert_reason catogory_2\n",
              "3    -1.901130       location of the event_148.0\n",
              "4    -0.959161   emergency vehicle type_VLR BSPP\n",
              "5    -0.841142      intervention on public roads\n",
              "6    -0.243532           alert_reason catogory_9\n",
              "7     0.280417       location of the event_149.0\n",
              "8     0.340519           alert_reason catogory_8\n",
              "9     0.484384           alert_reason catogory_4\n",
              "10    1.007676       location of the event_107.0\n",
              "11    1.232064       location of the event_137.0\n",
              "12    2.878396       location of the event_140.0\n",
              "13    3.184385                           weekday\n",
              "14    3.520550           alert_reason catogory_5\n",
              "15    3.772928                             floor\n",
              "16    3.844048  emergency vehicle type_VSAV BSPP\n",
              "17    5.973213       location of the event_139.0\n",
              "18    6.538203       location of the event_136.0\n",
              "19    6.680588           alert_reason catogory_6\n",
              "20    6.700765           alert_reason catogory_7\n",
              "21    7.231715                         rush hour\n",
              "22    9.456886        emergency vehicle type_PSE\n",
              "23  111.859871           OSRM estimated distance"
            ]
          },
          "metadata": {
            "tags": []
          },
          "execution_count": 99
        }
      ]
    }
  ]
}