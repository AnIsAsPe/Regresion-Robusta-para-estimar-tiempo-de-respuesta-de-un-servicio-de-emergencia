{
  "nbformat": 4,
  "nbformat_minor": 0,
  "metadata": {
    "colab": {
      "name": "Response_time_Paris_Fire_Brigade_2022.ipynb",
      "provenance": [],
      "collapsed_sections": [],
      "toc_visible": true,
      "include_colab_link": true
    },
    "kernelspec": {
      "name": "python3",
      "display_name": "Python 3"
    }
  },
  "cells": [
    {
      "cell_type": "markdown",
      "metadata": {
        "id": "view-in-github",
        "colab_type": "text"
      },
      "source": [
        "<a href=\"https://colab.research.google.com/github/AnIsAsPe/Regresion-Robusta-para-estimar-tiempo-de-respuesta-de-un-servicio-de-emergencia/blob/main/Notebooks/1_Response_time_Paris_Fire_Brigade_2022.ipynb\" target=\"_parent\"><img src=\"https://colab.research.google.com/assets/colab-badge.svg\" alt=\"Open In Colab\"/></a>"
      ]
    },
    {
      "cell_type": "markdown",
      "metadata": {
        "id": "MOfWHxj0IdEz"
      },
      "source": [
        "## Cargar bibiliotecas y funciones"
      ]
    },
    {
      "cell_type": "code",
      "source": [
        "from google.colab import drive\n",
        "drive.mount('/content/drive')"
      ],
      "metadata": {
        "id": "SriPGeNLfJyh",
        "outputId": "246202b4-b221-4bf2-b4dc-047915d93464",
        "colab": {
          "base_uri": "https://localhost:8080/"
        }
      },
      "execution_count": null,
      "outputs": [
        {
          "output_type": "stream",
          "name": "stdout",
          "text": [
            "Mounted at /content/drive\n"
          ]
        }
      ]
    },
    {
      "cell_type": "code",
      "metadata": {
        "id": "Wkte1t1UpdqM"
      },
      "source": [
        "import pandas as pd\n",
        "import numpy as np\n",
        "\n",
        "from sklearn.model_selection import train_test_split \n",
        "from sklearn.linear_model import LinearRegression\n",
        "from sklearn.linear_model import HuberRegressor\n",
        "from sklearn import metrics\n",
        "\n",
        "import matplotlib.pyplot as plt \n",
        "import seaborn as sns  "
      ],
      "execution_count": null,
      "outputs": []
    },
    {
      "cell_type": "code",
      "metadata": {
        "id": "hHWxPWiw50Dm"
      },
      "source": [
        "def correlacion(dataframe, grafica=True, matrix=False, tamaño =(12,8)):\n",
        "    '''Devuelve la matriz de correlación de un dataframe\n",
        "    y sí grafica=True, muestra un mapa de calor de la matriz de correlación'''\n",
        "    corr=dataframe.corr()                   \n",
        "    if grafica==True:\n",
        "      fig = plt.figure(figsize = tamaño)\n",
        "      ax = sns.heatmap(corr,\n",
        "                       vmin = -1,\n",
        "                       vmax = 1,\n",
        "                       center = 0,\n",
        "                       cmap = \"coolwarm\", \n",
        "                       annot = True,\n",
        "                       fmt=\".2f\",\n",
        "                       square = True)\n",
        "      ax.set_xticklabels(ax.get_xticklabels(), \n",
        "                         rotation = 45,\n",
        "                         horizontalalignment ='right')\n",
        "    if matrix==True:\n",
        "      return corr"
      ],
      "execution_count": null,
      "outputs": []
    },
    {
      "cell_type": "code",
      "metadata": {
        "id": "VgaNjbAy4rZM"
      },
      "source": [
        "def describe_datos(df):\n",
        "  unicos =[]\n",
        "  for col in df:\n",
        "    unicos.append(df[col].unique())\n",
        "  unicos = pd.Series(unicos, index=df.columns)\n",
        "  descripcion = pd.concat([df.dtypes, len(df)-df.isna().sum(),df.nunique(),unicos], axis=1)\n",
        "  descripcion.columns = ['dtypes', 'not-null','nunique','unique' ]\n",
        "  return(descripcion)"
      ],
      "execution_count": null,
      "outputs": []
    },
    {
      "cell_type": "markdown",
      "metadata": {
        "id": "9Q5ypE6bJgM1"
      },
      "source": [
        "# Lectura datos y selección de características"
      ]
    },
    {
      "cell_type": "markdown",
      "metadata": {
        "id": "IUh34hn1djfG"
      },
      "source": [
        "__Cargar etiquetas__"
      ]
    },
    {
      "cell_type": "code",
      "metadata": {
        "id": "vP_eKMyawPDl",
        "colab": {
          "base_uri": "https://localhost:8080/",
          "height": 161
        },
        "outputId": "4e37c185-3213-42d8-c425-9d376f6111b4"
      },
      "source": [
        "# Variables respuesta\n",
        "Ys = pd.read_csv('drive/My Drive/Datos/ParisFireBrigade/y_train.csv', \n",
        "                     index_col=[0], sep=',',)\n",
        "print(Ys.shape)\n",
        "Ys.head(2)"
      ],
      "execution_count": null,
      "outputs": [
        {
          "output_type": "stream",
          "name": "stdout",
          "text": [
            "(219337, 3)\n"
          ]
        },
        {
          "output_type": "execute_result",
          "data": {
            "text/plain": [
              "                             delta selection-departure  \\\n",
              "emergency vehicle selection                              \n",
              "5105452                                             86   \n",
              "4720915                                            164   \n",
              "\n",
              "                             delta departure-presentation  \\\n",
              "emergency vehicle selection                                 \n",
              "5105452                                               324   \n",
              "4720915                                               297   \n",
              "\n",
              "                             delta selection-presentation  \n",
              "emergency vehicle selection                                \n",
              "5105452                                               410  \n",
              "4720915                                               461  "
            ],
            "text/html": [
              "\n",
              "  <div id=\"df-e029b7e2-caa3-4741-9caa-15c5dd17b92c\">\n",
              "    <div class=\"colab-df-container\">\n",
              "      <div>\n",
              "<style scoped>\n",
              "    .dataframe tbody tr th:only-of-type {\n",
              "        vertical-align: middle;\n",
              "    }\n",
              "\n",
              "    .dataframe tbody tr th {\n",
              "        vertical-align: top;\n",
              "    }\n",
              "\n",
              "    .dataframe thead th {\n",
              "        text-align: right;\n",
              "    }\n",
              "</style>\n",
              "<table border=\"1\" class=\"dataframe\">\n",
              "  <thead>\n",
              "    <tr style=\"text-align: right;\">\n",
              "      <th></th>\n",
              "      <th>delta selection-departure</th>\n",
              "      <th>delta departure-presentation</th>\n",
              "      <th>delta selection-presentation</th>\n",
              "    </tr>\n",
              "    <tr>\n",
              "      <th>emergency vehicle selection</th>\n",
              "      <th></th>\n",
              "      <th></th>\n",
              "      <th></th>\n",
              "    </tr>\n",
              "  </thead>\n",
              "  <tbody>\n",
              "    <tr>\n",
              "      <th>5105452</th>\n",
              "      <td>86</td>\n",
              "      <td>324</td>\n",
              "      <td>410</td>\n",
              "    </tr>\n",
              "    <tr>\n",
              "      <th>4720915</th>\n",
              "      <td>164</td>\n",
              "      <td>297</td>\n",
              "      <td>461</td>\n",
              "    </tr>\n",
              "  </tbody>\n",
              "</table>\n",
              "</div>\n",
              "      <button class=\"colab-df-convert\" onclick=\"convertToInteractive('df-e029b7e2-caa3-4741-9caa-15c5dd17b92c')\"\n",
              "              title=\"Convert this dataframe to an interactive table.\"\n",
              "              style=\"display:none;\">\n",
              "        \n",
              "  <svg xmlns=\"http://www.w3.org/2000/svg\" height=\"24px\"viewBox=\"0 0 24 24\"\n",
              "       width=\"24px\">\n",
              "    <path d=\"M0 0h24v24H0V0z\" fill=\"none\"/>\n",
              "    <path d=\"M18.56 5.44l.94 2.06.94-2.06 2.06-.94-2.06-.94-.94-2.06-.94 2.06-2.06.94zm-11 1L8.5 8.5l.94-2.06 2.06-.94-2.06-.94L8.5 2.5l-.94 2.06-2.06.94zm10 10l.94 2.06.94-2.06 2.06-.94-2.06-.94-.94-2.06-.94 2.06-2.06.94z\"/><path d=\"M17.41 7.96l-1.37-1.37c-.4-.4-.92-.59-1.43-.59-.52 0-1.04.2-1.43.59L10.3 9.45l-7.72 7.72c-.78.78-.78 2.05 0 2.83L4 21.41c.39.39.9.59 1.41.59.51 0 1.02-.2 1.41-.59l7.78-7.78 2.81-2.81c.8-.78.8-2.07 0-2.86zM5.41 20L4 18.59l7.72-7.72 1.47 1.35L5.41 20z\"/>\n",
              "  </svg>\n",
              "      </button>\n",
              "      \n",
              "  <style>\n",
              "    .colab-df-container {\n",
              "      display:flex;\n",
              "      flex-wrap:wrap;\n",
              "      gap: 12px;\n",
              "    }\n",
              "\n",
              "    .colab-df-convert {\n",
              "      background-color: #E8F0FE;\n",
              "      border: none;\n",
              "      border-radius: 50%;\n",
              "      cursor: pointer;\n",
              "      display: none;\n",
              "      fill: #1967D2;\n",
              "      height: 32px;\n",
              "      padding: 0 0 0 0;\n",
              "      width: 32px;\n",
              "    }\n",
              "\n",
              "    .colab-df-convert:hover {\n",
              "      background-color: #E2EBFA;\n",
              "      box-shadow: 0px 1px 2px rgba(60, 64, 67, 0.3), 0px 1px 3px 1px rgba(60, 64, 67, 0.15);\n",
              "      fill: #174EA6;\n",
              "    }\n",
              "\n",
              "    [theme=dark] .colab-df-convert {\n",
              "      background-color: #3B4455;\n",
              "      fill: #D2E3FC;\n",
              "    }\n",
              "\n",
              "    [theme=dark] .colab-df-convert:hover {\n",
              "      background-color: #434B5C;\n",
              "      box-shadow: 0px 1px 3px 1px rgba(0, 0, 0, 0.15);\n",
              "      filter: drop-shadow(0px 1px 2px rgba(0, 0, 0, 0.3));\n",
              "      fill: #FFFFFF;\n",
              "    }\n",
              "  </style>\n",
              "\n",
              "      <script>\n",
              "        const buttonEl =\n",
              "          document.querySelector('#df-e029b7e2-caa3-4741-9caa-15c5dd17b92c button.colab-df-convert');\n",
              "        buttonEl.style.display =\n",
              "          google.colab.kernel.accessAllowed ? 'block' : 'none';\n",
              "\n",
              "        async function convertToInteractive(key) {\n",
              "          const element = document.querySelector('#df-e029b7e2-caa3-4741-9caa-15c5dd17b92c');\n",
              "          const dataTable =\n",
              "            await google.colab.kernel.invokeFunction('convertToInteractive',\n",
              "                                                     [key], {});\n",
              "          if (!dataTable) return;\n",
              "\n",
              "          const docLinkHtml = 'Like what you see? Visit the ' +\n",
              "            '<a target=\"_blank\" href=https://colab.research.google.com/notebooks/data_table.ipynb>data table notebook</a>'\n",
              "            + ' to learn more about interactive tables.';\n",
              "          element.innerHTML = '';\n",
              "          dataTable['output_type'] = 'display_data';\n",
              "          await google.colab.output.renderOutput(dataTable, element);\n",
              "          const docLink = document.createElement('div');\n",
              "          docLink.innerHTML = docLinkHtml;\n",
              "          element.appendChild(docLink);\n",
              "        }\n",
              "      </script>\n",
              "    </div>\n",
              "  </div>\n",
              "  "
            ]
          },
          "metadata": {},
          "execution_count": 6
        }
      ]
    },
    {
      "cell_type": "code",
      "metadata": {
        "id": "KZkI9JgkVSQP",
        "colab": {
          "base_uri": "https://localhost:8080/"
        },
        "outputId": "27dbaa3c-006f-4399-d12e-82dd8b7857f8"
      },
      "source": [
        "# Se puede verificar si la última columna es la suma de las otras dos\n",
        "(Ys.iloc[:,0] + Ys.iloc[:,1] == Ys.iloc[:,2]).sum()==len(Ys)"
      ],
      "execution_count": null,
      "outputs": [
        {
          "output_type": "execute_result",
          "data": {
            "text/plain": [
              "True"
            ]
          },
          "metadata": {},
          "execution_count": 7
        }
      ]
    },
    {
      "cell_type": "markdown",
      "metadata": {
        "id": "q5-Wdb0cU6fT"
      },
      "source": [
        "Nos vamos a concentrar en el tiempo desde la salida del vehículo hasta la presentación en el lugar del siniestro"
      ]
    },
    {
      "cell_type": "code",
      "metadata": {
        "id": "_He9t8gG3Nhp",
        "colab": {
          "base_uri": "https://localhost:8080/"
        },
        "outputId": "a82f2bde-fa60-4b95-b3c7-746983eacbb9"
      },
      "source": [
        "Y = Ys['delta departure-presentation']\n",
        "Y.describe()"
      ],
      "execution_count": null,
      "outputs": [
        {
          "output_type": "execute_result",
          "data": {
            "text/plain": [
              "count    219337.000000\n",
              "mean        356.161026\n",
              "std         228.381939\n",
              "min           1.000000\n",
              "25%         231.000000\n",
              "50%         319.000000\n",
              "75%         434.000000\n",
              "max       22722.000000\n",
              "Name: delta departure-presentation, dtype: float64"
            ]
          },
          "metadata": {},
          "execution_count": 8
        }
      ]
    },
    {
      "cell_type": "markdown",
      "metadata": {
        "id": "0PmhXhvC6LKn"
      },
      "source": [
        "__Cargar características__"
      ]
    },
    {
      "cell_type": "code",
      "metadata": {
        "id": "G1ktHn7nET0L",
        "colab": {
          "base_uri": "https://localhost:8080/",
          "height": 462
        },
        "outputId": "d3db8b45-9e3c-4125-a50d-e29259d9bb8d"
      },
      "source": [
        "# Conjunto de caracteristicas (X)\n",
        "X = pd.read_csv('drive/My Drive/Datos/ParisFireBrigade/x_train.csv', \n",
        "                sep=',', index_col=[0], parse_dates=['selection time'] )\n",
        "print(X.shape)\n",
        "X.head(2)"
      ],
      "execution_count": null,
      "outputs": [
        {
          "output_type": "stream",
          "name": "stdout",
          "text": [
            "(219337, 25)\n"
          ]
        },
        {
          "output_type": "execute_result",
          "data": {
            "text/plain": [
              "                             intervention  alert reason category  \\\n",
              "emergency vehicle selection                                        \n",
              "5105452                          13264186                      3   \n",
              "4720915                          12663715                      3   \n",
              "\n",
              "                             alert reason  intervention on public roads  \\\n",
              "emergency vehicle selection                                               \n",
              "5105452                              2162                             0   \n",
              "4720915                              2124                             0   \n",
              "\n",
              "                             floor  location of the event  \\\n",
              "emergency vehicle selection                                 \n",
              "5105452                          0                  148.0   \n",
              "4720915                          1                  136.0   \n",
              "\n",
              "                             longitude intervention  latitude intervention  \\\n",
              "emergency vehicle selection                                                  \n",
              "5105452                                    2.284796              48.879669   \n",
              "4720915                                    2.247464              48.818191   \n",
              "\n",
              "                             emergency vehicle emergency vehicle type  ...  \\\n",
              "emergency vehicle selection                                            ...   \n",
              "5105452                                   4511              VSAV BSPP  ...   \n",
              "4720915                                   4327                    PSE  ...   \n",
              "\n",
              "                             delta status preceding selection-selection  \\\n",
              "emergency vehicle selection                                               \n",
              "5105452                                                            2027   \n",
              "4720915                                                           28233   \n",
              "\n",
              "                            departed from its rescue center  \\\n",
              "emergency vehicle selection                                   \n",
              "5105452                                                   1   \n",
              "4720915                                                   1   \n",
              "\n",
              "                             longitude before departure  \\\n",
              "emergency vehicle selection                               \n",
              "5105452                                        2.288053   \n",
              "4720915                                        2.268519   \n",
              "\n",
              "                             latitude before departure  \\\n",
              "emergency vehicle selection                              \n",
              "5105452                                      48.884698   \n",
              "4720915                                      48.823958   \n",
              "\n",
              "                            delta position gps previous departure-departure  \\\n",
              "emergency vehicle selection                                                   \n",
              "5105452                                                                 NaN   \n",
              "4720915                                                                 NaN   \n",
              "\n",
              "                                             GPS tracks departure-presentation  \\\n",
              "emergency vehicle selection                                                      \n",
              "5105452                      2.289000,48.885113;2.288861,48.884998;2.288000...   \n",
              "4720915                                                                    NaN   \n",
              "\n",
              "                                    GPS tracks datetime departure-presentation  \\\n",
              "emergency vehicle selection                                                      \n",
              "5105452                      2018-07-08 19:04:43;2018-07-08 19:05:55;2018-0...   \n",
              "4720915                                                                    NaN   \n",
              "\n",
              "                                                                 OSRM response  \\\n",
              "emergency vehicle selection                                                      \n",
              "5105452                      {\"code\":\"Ok\",\"routes\":[{\"geometry\":\"}yjiH}x}L_...   \n",
              "4720915                      {\"code\":\"Ok\",\"routes\":[{\"geometry\":\"u|~hHy`zL_...   \n",
              "\n",
              "                             OSRM estimated distance  OSRM estimated duration  \n",
              "emergency vehicle selection                                                    \n",
              "5105452                                        952.5                    105.8  \n",
              "4720915                                       2238.5                    243.2  \n",
              "\n",
              "[2 rows x 25 columns]"
            ],
            "text/html": [
              "\n",
              "  <div id=\"df-c2542816-4351-4ce2-9d50-ef82969a28fc\">\n",
              "    <div class=\"colab-df-container\">\n",
              "      <div>\n",
              "<style scoped>\n",
              "    .dataframe tbody tr th:only-of-type {\n",
              "        vertical-align: middle;\n",
              "    }\n",
              "\n",
              "    .dataframe tbody tr th {\n",
              "        vertical-align: top;\n",
              "    }\n",
              "\n",
              "    .dataframe thead th {\n",
              "        text-align: right;\n",
              "    }\n",
              "</style>\n",
              "<table border=\"1\" class=\"dataframe\">\n",
              "  <thead>\n",
              "    <tr style=\"text-align: right;\">\n",
              "      <th></th>\n",
              "      <th>intervention</th>\n",
              "      <th>alert reason category</th>\n",
              "      <th>alert reason</th>\n",
              "      <th>intervention on public roads</th>\n",
              "      <th>floor</th>\n",
              "      <th>location of the event</th>\n",
              "      <th>longitude intervention</th>\n",
              "      <th>latitude intervention</th>\n",
              "      <th>emergency vehicle</th>\n",
              "      <th>emergency vehicle type</th>\n",
              "      <th>...</th>\n",
              "      <th>delta status preceding selection-selection</th>\n",
              "      <th>departed from its rescue center</th>\n",
              "      <th>longitude before departure</th>\n",
              "      <th>latitude before departure</th>\n",
              "      <th>delta position gps previous departure-departure</th>\n",
              "      <th>GPS tracks departure-presentation</th>\n",
              "      <th>GPS tracks datetime departure-presentation</th>\n",
              "      <th>OSRM response</th>\n",
              "      <th>OSRM estimated distance</th>\n",
              "      <th>OSRM estimated duration</th>\n",
              "    </tr>\n",
              "    <tr>\n",
              "      <th>emergency vehicle selection</th>\n",
              "      <th></th>\n",
              "      <th></th>\n",
              "      <th></th>\n",
              "      <th></th>\n",
              "      <th></th>\n",
              "      <th></th>\n",
              "      <th></th>\n",
              "      <th></th>\n",
              "      <th></th>\n",
              "      <th></th>\n",
              "      <th></th>\n",
              "      <th></th>\n",
              "      <th></th>\n",
              "      <th></th>\n",
              "      <th></th>\n",
              "      <th></th>\n",
              "      <th></th>\n",
              "      <th></th>\n",
              "      <th></th>\n",
              "      <th></th>\n",
              "      <th></th>\n",
              "    </tr>\n",
              "  </thead>\n",
              "  <tbody>\n",
              "    <tr>\n",
              "      <th>5105452</th>\n",
              "      <td>13264186</td>\n",
              "      <td>3</td>\n",
              "      <td>2162</td>\n",
              "      <td>0</td>\n",
              "      <td>0</td>\n",
              "      <td>148.0</td>\n",
              "      <td>2.284796</td>\n",
              "      <td>48.879669</td>\n",
              "      <td>4511</td>\n",
              "      <td>VSAV BSPP</td>\n",
              "      <td>...</td>\n",
              "      <td>2027</td>\n",
              "      <td>1</td>\n",
              "      <td>2.288053</td>\n",
              "      <td>48.884698</td>\n",
              "      <td>NaN</td>\n",
              "      <td>2.289000,48.885113;2.288861,48.884998;2.288000...</td>\n",
              "      <td>2018-07-08 19:04:43;2018-07-08 19:05:55;2018-0...</td>\n",
              "      <td>{\"code\":\"Ok\",\"routes\":[{\"geometry\":\"}yjiH}x}L_...</td>\n",
              "      <td>952.5</td>\n",
              "      <td>105.8</td>\n",
              "    </tr>\n",
              "    <tr>\n",
              "      <th>4720915</th>\n",
              "      <td>12663715</td>\n",
              "      <td>3</td>\n",
              "      <td>2124</td>\n",
              "      <td>0</td>\n",
              "      <td>1</td>\n",
              "      <td>136.0</td>\n",
              "      <td>2.247464</td>\n",
              "      <td>48.818191</td>\n",
              "      <td>4327</td>\n",
              "      <td>PSE</td>\n",
              "      <td>...</td>\n",
              "      <td>28233</td>\n",
              "      <td>1</td>\n",
              "      <td>2.268519</td>\n",
              "      <td>48.823958</td>\n",
              "      <td>NaN</td>\n",
              "      <td>NaN</td>\n",
              "      <td>NaN</td>\n",
              "      <td>{\"code\":\"Ok\",\"routes\":[{\"geometry\":\"u|~hHy`zL_...</td>\n",
              "      <td>2238.5</td>\n",
              "      <td>243.2</td>\n",
              "    </tr>\n",
              "  </tbody>\n",
              "</table>\n",
              "<p>2 rows × 25 columns</p>\n",
              "</div>\n",
              "      <button class=\"colab-df-convert\" onclick=\"convertToInteractive('df-c2542816-4351-4ce2-9d50-ef82969a28fc')\"\n",
              "              title=\"Convert this dataframe to an interactive table.\"\n",
              "              style=\"display:none;\">\n",
              "        \n",
              "  <svg xmlns=\"http://www.w3.org/2000/svg\" height=\"24px\"viewBox=\"0 0 24 24\"\n",
              "       width=\"24px\">\n",
              "    <path d=\"M0 0h24v24H0V0z\" fill=\"none\"/>\n",
              "    <path d=\"M18.56 5.44l.94 2.06.94-2.06 2.06-.94-2.06-.94-.94-2.06-.94 2.06-2.06.94zm-11 1L8.5 8.5l.94-2.06 2.06-.94-2.06-.94L8.5 2.5l-.94 2.06-2.06.94zm10 10l.94 2.06.94-2.06 2.06-.94-2.06-.94-.94-2.06-.94 2.06-2.06.94z\"/><path d=\"M17.41 7.96l-1.37-1.37c-.4-.4-.92-.59-1.43-.59-.52 0-1.04.2-1.43.59L10.3 9.45l-7.72 7.72c-.78.78-.78 2.05 0 2.83L4 21.41c.39.39.9.59 1.41.59.51 0 1.02-.2 1.41-.59l7.78-7.78 2.81-2.81c.8-.78.8-2.07 0-2.86zM5.41 20L4 18.59l7.72-7.72 1.47 1.35L5.41 20z\"/>\n",
              "  </svg>\n",
              "      </button>\n",
              "      \n",
              "  <style>\n",
              "    .colab-df-container {\n",
              "      display:flex;\n",
              "      flex-wrap:wrap;\n",
              "      gap: 12px;\n",
              "    }\n",
              "\n",
              "    .colab-df-convert {\n",
              "      background-color: #E8F0FE;\n",
              "      border: none;\n",
              "      border-radius: 50%;\n",
              "      cursor: pointer;\n",
              "      display: none;\n",
              "      fill: #1967D2;\n",
              "      height: 32px;\n",
              "      padding: 0 0 0 0;\n",
              "      width: 32px;\n",
              "    }\n",
              "\n",
              "    .colab-df-convert:hover {\n",
              "      background-color: #E2EBFA;\n",
              "      box-shadow: 0px 1px 2px rgba(60, 64, 67, 0.3), 0px 1px 3px 1px rgba(60, 64, 67, 0.15);\n",
              "      fill: #174EA6;\n",
              "    }\n",
              "\n",
              "    [theme=dark] .colab-df-convert {\n",
              "      background-color: #3B4455;\n",
              "      fill: #D2E3FC;\n",
              "    }\n",
              "\n",
              "    [theme=dark] .colab-df-convert:hover {\n",
              "      background-color: #434B5C;\n",
              "      box-shadow: 0px 1px 3px 1px rgba(0, 0, 0, 0.15);\n",
              "      filter: drop-shadow(0px 1px 2px rgba(0, 0, 0, 0.3));\n",
              "      fill: #FFFFFF;\n",
              "    }\n",
              "  </style>\n",
              "\n",
              "      <script>\n",
              "        const buttonEl =\n",
              "          document.querySelector('#df-c2542816-4351-4ce2-9d50-ef82969a28fc button.colab-df-convert');\n",
              "        buttonEl.style.display =\n",
              "          google.colab.kernel.accessAllowed ? 'block' : 'none';\n",
              "\n",
              "        async function convertToInteractive(key) {\n",
              "          const element = document.querySelector('#df-c2542816-4351-4ce2-9d50-ef82969a28fc');\n",
              "          const dataTable =\n",
              "            await google.colab.kernel.invokeFunction('convertToInteractive',\n",
              "                                                     [key], {});\n",
              "          if (!dataTable) return;\n",
              "\n",
              "          const docLinkHtml = 'Like what you see? Visit the ' +\n",
              "            '<a target=\"_blank\" href=https://colab.research.google.com/notebooks/data_table.ipynb>data table notebook</a>'\n",
              "            + ' to learn more about interactive tables.';\n",
              "          element.innerHTML = '';\n",
              "          dataTable['output_type'] = 'display_data';\n",
              "          await google.colab.output.renderOutput(dataTable, element);\n",
              "          const docLink = document.createElement('div');\n",
              "          docLink.innerHTML = docLinkHtml;\n",
              "          element.appendChild(docLink);\n",
              "        }\n",
              "      </script>\n",
              "    </div>\n",
              "  </div>\n",
              "  "
            ]
          },
          "metadata": {},
          "execution_count": 9
        }
      ]
    },
    {
      "cell_type": "code",
      "metadata": {
        "colab": {
          "base_uri": "https://localhost:8080/",
          "height": 929
        },
        "id": "Qjx_1U01L0j1",
        "outputId": "473d8b79-c6c6-48fd-940f-61a8dc26f2a3"
      },
      "source": [
        "describe_datos(X)"
      ],
      "execution_count": null,
      "outputs": [
        {
          "output_type": "execute_result",
          "data": {
            "text/plain": [
              "                                                         dtypes  not-null  \\\n",
              "intervention                                              int64    219337   \n",
              "alert reason category                                     int64    219337   \n",
              "alert reason                                              int64    219337   \n",
              "intervention on public roads                              int64    219337   \n",
              "floor                                                     int64    219337   \n",
              "location of the event                                   float64    206627   \n",
              "longitude intervention                                  float64    219337   \n",
              "latitude intervention                                   float64    219337   \n",
              "emergency vehicle                                         int64    219337   \n",
              "emergency vehicle type                                   object    219337   \n",
              "rescue center                                             int64    219337   \n",
              "selection time                                   datetime64[ns]    219337   \n",
              "date key sélection                                        int64    219337   \n",
              "time key sélection                                        int64    219337   \n",
              "status preceding selection                               object    219337   \n",
              "delta status preceding selection-selection                int64    219337   \n",
              "departed from its rescue center                           int64    219337   \n",
              "longitude before departure                              float64    219337   \n",
              "latitude before departure                               float64    219337   \n",
              "delta position gps previous departure-departure         float64      4903   \n",
              "GPS tracks departure-presentation                        object     65804   \n",
              "GPS tracks datetime departure-presentation               object     65804   \n",
              "OSRM response                                            object    219337   \n",
              "OSRM estimated distance                                 float64    219337   \n",
              "OSRM estimated duration                                 float64    219337   \n",
              "\n",
              "                                                 nunique  \\\n",
              "intervention                                      200894   \n",
              "alert reason category                                  9   \n",
              "alert reason                                         126   \n",
              "intervention on public roads                           2   \n",
              "floor                                                 45   \n",
              "location of the event                                210   \n",
              "longitude intervention                             83484   \n",
              "latitude intervention                              74503   \n",
              "emergency vehicle                                    749   \n",
              "emergency vehicle type                                75   \n",
              "rescue center                                         94   \n",
              "selection time                                    219285   \n",
              "date key sélection                                   335   \n",
              "time key sélection                                 76273   \n",
              "status preceding selection                             2   \n",
              "delta status preceding selection-selection         50175   \n",
              "departed from its rescue center                        2   \n",
              "longitude before departure                          3093   \n",
              "latitude before departure                           2798   \n",
              "delta position gps previous departure-departure       40   \n",
              "GPS tracks departure-presentation                  65758   \n",
              "GPS tracks datetime departure-presentation         65791   \n",
              "OSRM response                                     126454   \n",
              "OSRM estimated distance                            48461   \n",
              "OSRM estimated duration                             8236   \n",
              "\n",
              "                                                                                            unique  \n",
              "intervention                                     [13264186, 12663715, 13675521, 12695745, 13698...  \n",
              "alert reason category                                                  [3, 9, 6, 1, 2, 5, 7, 4, 8]  \n",
              "alert reason                                     [2162, 2124, 2163, 2112, 2711, 2113, 2135, 212...  \n",
              "intervention on public roads                                                                [0, 1]  \n",
              "floor                                            [0, 1, 2, 3, 4, 5, -1, 8, 11, 16, 6, 7, 12, -3...  \n",
              "location of the event                            [148.0, 136.0, 139.0, 104.0, 157.0, 199.0, 140...  \n",
              "longitude intervention                           [2.284796, 2.247464, 2.258328, 2.393832, 2.458...  \n",
              "latitude intervention                            [48.879669, 48.818191, 48.836759, 48.776526, 4...  \n",
              "emergency vehicle                                [4511, 4327, 4509, 5731, 5623, 4319, 4215, 588...  \n",
              "emergency vehicle type                           [VSAV BSPP, PSE, VLR BSPP, EPAN, EPA BSPP, FPT...  \n",
              "rescue center                                    [2447, 2464, 2438, 2510, 2478, 2491, 2448, 248...  \n",
              "selection time                                   [2018-07-08T19:02:43.990000000, 2018-01-04T09:...  \n",
              "date key sélection                               [20180708, 20180104, 20181116, 20180115, 20181...  \n",
              "time key sélection                               [190243, 90259, 101147, 3846, 3426, 222327, 81...  \n",
              "status preceding selection                                                    [Rentré, Disponible]  \n",
              "delta status preceding selection-selection       [2027, 28233, 1981, 1842, 2716, 5592, 37282, 5...  \n",
              "departed from its rescue center                                                             [1, 0]  \n",
              "longitude before departure                       [2.288053, 2.268519, 2.272944, 2.3889400000000...  \n",
              "latitude before departure                        [48.884698, 48.82395800000001, 48.850498, 48.7...  \n",
              "delta position gps previous departure-departure  [nan, 33.0, 34.0, 25.0, 9.0, 37.0, 13.0, 1.0, ...  \n",
              "GPS tracks departure-presentation                [2.289000,48.885113;2.288861,48.884998;2.28800...  \n",
              "GPS tracks datetime departure-presentation       [2018-07-08 19:04:43;2018-07-08 19:05:55;2018-...  \n",
              "OSRM response                                    [{\"code\":\"Ok\",\"routes\":[{\"geometry\":\"}yjiH}x}L...  \n",
              "OSRM estimated distance                          [952.5, 2238.5, 3026.4, 1934.2, 2706.7, 1685.8...  \n",
              "OSRM estimated duration                          [105.8, 243.2, 295.4, 166.6, 262.6, 187.7, 301...  "
            ],
            "text/html": [
              "\n",
              "  <div id=\"df-a3224846-e075-4592-a75d-d0220c9b48d8\">\n",
              "    <div class=\"colab-df-container\">\n",
              "      <div>\n",
              "<style scoped>\n",
              "    .dataframe tbody tr th:only-of-type {\n",
              "        vertical-align: middle;\n",
              "    }\n",
              "\n",
              "    .dataframe tbody tr th {\n",
              "        vertical-align: top;\n",
              "    }\n",
              "\n",
              "    .dataframe thead th {\n",
              "        text-align: right;\n",
              "    }\n",
              "</style>\n",
              "<table border=\"1\" class=\"dataframe\">\n",
              "  <thead>\n",
              "    <tr style=\"text-align: right;\">\n",
              "      <th></th>\n",
              "      <th>dtypes</th>\n",
              "      <th>not-null</th>\n",
              "      <th>nunique</th>\n",
              "      <th>unique</th>\n",
              "    </tr>\n",
              "  </thead>\n",
              "  <tbody>\n",
              "    <tr>\n",
              "      <th>intervention</th>\n",
              "      <td>int64</td>\n",
              "      <td>219337</td>\n",
              "      <td>200894</td>\n",
              "      <td>[13264186, 12663715, 13675521, 12695745, 13698...</td>\n",
              "    </tr>\n",
              "    <tr>\n",
              "      <th>alert reason category</th>\n",
              "      <td>int64</td>\n",
              "      <td>219337</td>\n",
              "      <td>9</td>\n",
              "      <td>[3, 9, 6, 1, 2, 5, 7, 4, 8]</td>\n",
              "    </tr>\n",
              "    <tr>\n",
              "      <th>alert reason</th>\n",
              "      <td>int64</td>\n",
              "      <td>219337</td>\n",
              "      <td>126</td>\n",
              "      <td>[2162, 2124, 2163, 2112, 2711, 2113, 2135, 212...</td>\n",
              "    </tr>\n",
              "    <tr>\n",
              "      <th>intervention on public roads</th>\n",
              "      <td>int64</td>\n",
              "      <td>219337</td>\n",
              "      <td>2</td>\n",
              "      <td>[0, 1]</td>\n",
              "    </tr>\n",
              "    <tr>\n",
              "      <th>floor</th>\n",
              "      <td>int64</td>\n",
              "      <td>219337</td>\n",
              "      <td>45</td>\n",
              "      <td>[0, 1, 2, 3, 4, 5, -1, 8, 11, 16, 6, 7, 12, -3...</td>\n",
              "    </tr>\n",
              "    <tr>\n",
              "      <th>location of the event</th>\n",
              "      <td>float64</td>\n",
              "      <td>206627</td>\n",
              "      <td>210</td>\n",
              "      <td>[148.0, 136.0, 139.0, 104.0, 157.0, 199.0, 140...</td>\n",
              "    </tr>\n",
              "    <tr>\n",
              "      <th>longitude intervention</th>\n",
              "      <td>float64</td>\n",
              "      <td>219337</td>\n",
              "      <td>83484</td>\n",
              "      <td>[2.284796, 2.247464, 2.258328, 2.393832, 2.458...</td>\n",
              "    </tr>\n",
              "    <tr>\n",
              "      <th>latitude intervention</th>\n",
              "      <td>float64</td>\n",
              "      <td>219337</td>\n",
              "      <td>74503</td>\n",
              "      <td>[48.879669, 48.818191, 48.836759, 48.776526, 4...</td>\n",
              "    </tr>\n",
              "    <tr>\n",
              "      <th>emergency vehicle</th>\n",
              "      <td>int64</td>\n",
              "      <td>219337</td>\n",
              "      <td>749</td>\n",
              "      <td>[4511, 4327, 4509, 5731, 5623, 4319, 4215, 588...</td>\n",
              "    </tr>\n",
              "    <tr>\n",
              "      <th>emergency vehicle type</th>\n",
              "      <td>object</td>\n",
              "      <td>219337</td>\n",
              "      <td>75</td>\n",
              "      <td>[VSAV BSPP, PSE, VLR BSPP, EPAN, EPA BSPP, FPT...</td>\n",
              "    </tr>\n",
              "    <tr>\n",
              "      <th>rescue center</th>\n",
              "      <td>int64</td>\n",
              "      <td>219337</td>\n",
              "      <td>94</td>\n",
              "      <td>[2447, 2464, 2438, 2510, 2478, 2491, 2448, 248...</td>\n",
              "    </tr>\n",
              "    <tr>\n",
              "      <th>selection time</th>\n",
              "      <td>datetime64[ns]</td>\n",
              "      <td>219337</td>\n",
              "      <td>219285</td>\n",
              "      <td>[2018-07-08T19:02:43.990000000, 2018-01-04T09:...</td>\n",
              "    </tr>\n",
              "    <tr>\n",
              "      <th>date key sélection</th>\n",
              "      <td>int64</td>\n",
              "      <td>219337</td>\n",
              "      <td>335</td>\n",
              "      <td>[20180708, 20180104, 20181116, 20180115, 20181...</td>\n",
              "    </tr>\n",
              "    <tr>\n",
              "      <th>time key sélection</th>\n",
              "      <td>int64</td>\n",
              "      <td>219337</td>\n",
              "      <td>76273</td>\n",
              "      <td>[190243, 90259, 101147, 3846, 3426, 222327, 81...</td>\n",
              "    </tr>\n",
              "    <tr>\n",
              "      <th>status preceding selection</th>\n",
              "      <td>object</td>\n",
              "      <td>219337</td>\n",
              "      <td>2</td>\n",
              "      <td>[Rentré, Disponible]</td>\n",
              "    </tr>\n",
              "    <tr>\n",
              "      <th>delta status preceding selection-selection</th>\n",
              "      <td>int64</td>\n",
              "      <td>219337</td>\n",
              "      <td>50175</td>\n",
              "      <td>[2027, 28233, 1981, 1842, 2716, 5592, 37282, 5...</td>\n",
              "    </tr>\n",
              "    <tr>\n",
              "      <th>departed from its rescue center</th>\n",
              "      <td>int64</td>\n",
              "      <td>219337</td>\n",
              "      <td>2</td>\n",
              "      <td>[1, 0]</td>\n",
              "    </tr>\n",
              "    <tr>\n",
              "      <th>longitude before departure</th>\n",
              "      <td>float64</td>\n",
              "      <td>219337</td>\n",
              "      <td>3093</td>\n",
              "      <td>[2.288053, 2.268519, 2.272944, 2.3889400000000...</td>\n",
              "    </tr>\n",
              "    <tr>\n",
              "      <th>latitude before departure</th>\n",
              "      <td>float64</td>\n",
              "      <td>219337</td>\n",
              "      <td>2798</td>\n",
              "      <td>[48.884698, 48.82395800000001, 48.850498, 48.7...</td>\n",
              "    </tr>\n",
              "    <tr>\n",
              "      <th>delta position gps previous departure-departure</th>\n",
              "      <td>float64</td>\n",
              "      <td>4903</td>\n",
              "      <td>40</td>\n",
              "      <td>[nan, 33.0, 34.0, 25.0, 9.0, 37.0, 13.0, 1.0, ...</td>\n",
              "    </tr>\n",
              "    <tr>\n",
              "      <th>GPS tracks departure-presentation</th>\n",
              "      <td>object</td>\n",
              "      <td>65804</td>\n",
              "      <td>65758</td>\n",
              "      <td>[2.289000,48.885113;2.288861,48.884998;2.28800...</td>\n",
              "    </tr>\n",
              "    <tr>\n",
              "      <th>GPS tracks datetime departure-presentation</th>\n",
              "      <td>object</td>\n",
              "      <td>65804</td>\n",
              "      <td>65791</td>\n",
              "      <td>[2018-07-08 19:04:43;2018-07-08 19:05:55;2018-...</td>\n",
              "    </tr>\n",
              "    <tr>\n",
              "      <th>OSRM response</th>\n",
              "      <td>object</td>\n",
              "      <td>219337</td>\n",
              "      <td>126454</td>\n",
              "      <td>[{\"code\":\"Ok\",\"routes\":[{\"geometry\":\"}yjiH}x}L...</td>\n",
              "    </tr>\n",
              "    <tr>\n",
              "      <th>OSRM estimated distance</th>\n",
              "      <td>float64</td>\n",
              "      <td>219337</td>\n",
              "      <td>48461</td>\n",
              "      <td>[952.5, 2238.5, 3026.4, 1934.2, 2706.7, 1685.8...</td>\n",
              "    </tr>\n",
              "    <tr>\n",
              "      <th>OSRM estimated duration</th>\n",
              "      <td>float64</td>\n",
              "      <td>219337</td>\n",
              "      <td>8236</td>\n",
              "      <td>[105.8, 243.2, 295.4, 166.6, 262.6, 187.7, 301...</td>\n",
              "    </tr>\n",
              "  </tbody>\n",
              "</table>\n",
              "</div>\n",
              "      <button class=\"colab-df-convert\" onclick=\"convertToInteractive('df-a3224846-e075-4592-a75d-d0220c9b48d8')\"\n",
              "              title=\"Convert this dataframe to an interactive table.\"\n",
              "              style=\"display:none;\">\n",
              "        \n",
              "  <svg xmlns=\"http://www.w3.org/2000/svg\" height=\"24px\"viewBox=\"0 0 24 24\"\n",
              "       width=\"24px\">\n",
              "    <path d=\"M0 0h24v24H0V0z\" fill=\"none\"/>\n",
              "    <path d=\"M18.56 5.44l.94 2.06.94-2.06 2.06-.94-2.06-.94-.94-2.06-.94 2.06-2.06.94zm-11 1L8.5 8.5l.94-2.06 2.06-.94-2.06-.94L8.5 2.5l-.94 2.06-2.06.94zm10 10l.94 2.06.94-2.06 2.06-.94-2.06-.94-.94-2.06-.94 2.06-2.06.94z\"/><path d=\"M17.41 7.96l-1.37-1.37c-.4-.4-.92-.59-1.43-.59-.52 0-1.04.2-1.43.59L10.3 9.45l-7.72 7.72c-.78.78-.78 2.05 0 2.83L4 21.41c.39.39.9.59 1.41.59.51 0 1.02-.2 1.41-.59l7.78-7.78 2.81-2.81c.8-.78.8-2.07 0-2.86zM5.41 20L4 18.59l7.72-7.72 1.47 1.35L5.41 20z\"/>\n",
              "  </svg>\n",
              "      </button>\n",
              "      \n",
              "  <style>\n",
              "    .colab-df-container {\n",
              "      display:flex;\n",
              "      flex-wrap:wrap;\n",
              "      gap: 12px;\n",
              "    }\n",
              "\n",
              "    .colab-df-convert {\n",
              "      background-color: #E8F0FE;\n",
              "      border: none;\n",
              "      border-radius: 50%;\n",
              "      cursor: pointer;\n",
              "      display: none;\n",
              "      fill: #1967D2;\n",
              "      height: 32px;\n",
              "      padding: 0 0 0 0;\n",
              "      width: 32px;\n",
              "    }\n",
              "\n",
              "    .colab-df-convert:hover {\n",
              "      background-color: #E2EBFA;\n",
              "      box-shadow: 0px 1px 2px rgba(60, 64, 67, 0.3), 0px 1px 3px 1px rgba(60, 64, 67, 0.15);\n",
              "      fill: #174EA6;\n",
              "    }\n",
              "\n",
              "    [theme=dark] .colab-df-convert {\n",
              "      background-color: #3B4455;\n",
              "      fill: #D2E3FC;\n",
              "    }\n",
              "\n",
              "    [theme=dark] .colab-df-convert:hover {\n",
              "      background-color: #434B5C;\n",
              "      box-shadow: 0px 1px 3px 1px rgba(0, 0, 0, 0.15);\n",
              "      filter: drop-shadow(0px 1px 2px rgba(0, 0, 0, 0.3));\n",
              "      fill: #FFFFFF;\n",
              "    }\n",
              "  </style>\n",
              "\n",
              "      <script>\n",
              "        const buttonEl =\n",
              "          document.querySelector('#df-a3224846-e075-4592-a75d-d0220c9b48d8 button.colab-df-convert');\n",
              "        buttonEl.style.display =\n",
              "          google.colab.kernel.accessAllowed ? 'block' : 'none';\n",
              "\n",
              "        async function convertToInteractive(key) {\n",
              "          const element = document.querySelector('#df-a3224846-e075-4592-a75d-d0220c9b48d8');\n",
              "          const dataTable =\n",
              "            await google.colab.kernel.invokeFunction('convertToInteractive',\n",
              "                                                     [key], {});\n",
              "          if (!dataTable) return;\n",
              "\n",
              "          const docLinkHtml = 'Like what you see? Visit the ' +\n",
              "            '<a target=\"_blank\" href=https://colab.research.google.com/notebooks/data_table.ipynb>data table notebook</a>'\n",
              "            + ' to learn more about interactive tables.';\n",
              "          element.innerHTML = '';\n",
              "          dataTable['output_type'] = 'display_data';\n",
              "          await google.colab.output.renderOutput(dataTable, element);\n",
              "          const docLink = document.createElement('div');\n",
              "          docLink.innerHTML = docLinkHtml;\n",
              "          element.appendChild(docLink);\n",
              "        }\n",
              "      </script>\n",
              "    </div>\n",
              "  </div>\n",
              "  "
            ]
          },
          "metadata": {},
          "execution_count": 10
        }
      ]
    },
    {
      "cell_type": "markdown",
      "source": [
        "La cantidad de intervenciones en los datos no es igual a la cantidad de vehículos, De manera que existen intervenciones que son atendidas por más de un vehiculo de emergencia"
      ],
      "metadata": {
        "id": "YcA-hySgYHGQ"
      }
    },
    {
      "cell_type": "code",
      "source": [
        "X[X['intervention']==13329800].head(10)"
      ],
      "metadata": {
        "id": "U6vjpzzTzWoy",
        "outputId": "c508a81a-6bf2-4d1a-f3c6-ff763ae076a0",
        "colab": {
          "base_uri": "https://localhost:8080/",
          "height": 939
        }
      },
      "execution_count": null,
      "outputs": [
        {
          "output_type": "execute_result",
          "data": {
            "text/plain": [
              "                             intervention  alert reason category  \\\n",
              "emergency vehicle selection                                        \n",
              "5144823                          13329800                      1   \n",
              "5144009                          13329800                      1   \n",
              "5144821                          13329800                      1   \n",
              "5145134                          13329800                      1   \n",
              "5144110                          13329800                      1   \n",
              "5143996                          13329800                      1   \n",
              "5144100                          13329800                      1   \n",
              "5145057                          13329800                      1   \n",
              "5143993                          13329800                      1   \n",
              "5144108                          13329800                      1   \n",
              "\n",
              "                             alert reason  intervention on public roads  \\\n",
              "emergency vehicle selection                                               \n",
              "5144823                              1922                             0   \n",
              "5144009                              1922                             0   \n",
              "5144821                              1922                             0   \n",
              "5145134                              1922                             0   \n",
              "5144110                              1922                             0   \n",
              "5143996                              1922                             0   \n",
              "5144100                              1922                             0   \n",
              "5145057                              1922                             0   \n",
              "5143993                              1922                             0   \n",
              "5144108                              1922                             0   \n",
              "\n",
              "                             floor  location of the event  \\\n",
              "emergency vehicle selection                                 \n",
              "5144823                          0                    NaN   \n",
              "5144009                          0                    NaN   \n",
              "5144821                          0                    NaN   \n",
              "5145134                          0                    NaN   \n",
              "5144110                          0                    NaN   \n",
              "5143996                          0                    NaN   \n",
              "5144100                          0                    NaN   \n",
              "5145057                          0                    NaN   \n",
              "5143993                          0                    NaN   \n",
              "5144108                          0                    NaN   \n",
              "\n",
              "                             longitude intervention  latitude intervention  \\\n",
              "emergency vehicle selection                                                  \n",
              "5144823                                    2.389279              48.917237   \n",
              "5144009                                    2.389279              48.917237   \n",
              "5144821                                    2.389279              48.917237   \n",
              "5145134                                    2.389279              48.917237   \n",
              "5144110                                    2.389279              48.917237   \n",
              "5143996                                    2.389279              48.917237   \n",
              "5144100                                    2.389279              48.917237   \n",
              "5145057                                    2.389279              48.917237   \n",
              "5143993                                    2.389279              48.917237   \n",
              "5144108                                    2.389279              48.917237   \n",
              "\n",
              "                             emergency vehicle emergency vehicle type  ...  \\\n",
              "emergency vehicle selection                                            ...   \n",
              "5144823                                   2493                    PSE  ...   \n",
              "5144009                                   1910                    PSE  ...   \n",
              "5144821                                   1823               VLR BSPP  ...   \n",
              "5145134                                   4359               VLR BSPP  ...   \n",
              "5144110                                   2255                    PSE  ...   \n",
              "5143996                                   3122                   CRAC  ...   \n",
              "5144100                                   4308                    PSE  ...   \n",
              "5145057                                   4431               VLR BSPP  ...   \n",
              "5143993                                   4311              VSAV BSPP  ...   \n",
              "5144108                                   1832                    PSE  ...   \n",
              "\n",
              "                             delta status preceding selection-selection  \\\n",
              "emergency vehicle selection                                               \n",
              "5144823                                                           10506   \n",
              "5144009                                                              72   \n",
              "5144821                                                           44607   \n",
              "5145134                                                            1922   \n",
              "5144110                                                           10313   \n",
              "5143996                                                           16599   \n",
              "5144100                                                           17594   \n",
              "5145057                                                           20079   \n",
              "5143993                                                            1856   \n",
              "5144108                                                           57332   \n",
              "\n",
              "                            departed from its rescue center  \\\n",
              "emergency vehicle selection                                   \n",
              "5144823                                                   1   \n",
              "5144009                                                   1   \n",
              "5144821                                                   1   \n",
              "5145134                                                   1   \n",
              "5144110                                                   1   \n",
              "5143996                                                   1   \n",
              "5144100                                                   1   \n",
              "5145057                                                   1   \n",
              "5143993                                                   1   \n",
              "5144108                                                   1   \n",
              "\n",
              "                             longitude before departure  \\\n",
              "emergency vehicle selection                               \n",
              "5144823                                        2.502172   \n",
              "5144009                                        2.379889   \n",
              "5144821                                        2.403748   \n",
              "5145134                                        2.341010   \n",
              "5144110                                        2.284342   \n",
              "5143996                                        2.374513   \n",
              "5144100                                        2.288053   \n",
              "5145057                                        2.317090   \n",
              "5143993                                        2.373812   \n",
              "5144108                                        2.341010   \n",
              "\n",
              "                             latitude before departure  \\\n",
              "emergency vehicle selection                              \n",
              "5144823                                      48.796636   \n",
              "5144009                                      48.889013   \n",
              "5144821                                      48.872154   \n",
              "5145134                                      48.945074   \n",
              "5144110                                      48.923697   \n",
              "5143996                                      48.822590   \n",
              "5144100                                      48.884698   \n",
              "5145057                                      48.899004   \n",
              "5143993                                      48.865868   \n",
              "5144108                                      48.945074   \n",
              "\n",
              "                            delta position gps previous departure-departure  \\\n",
              "emergency vehicle selection                                                   \n",
              "5144823                                                                 NaN   \n",
              "5144009                                                                 NaN   \n",
              "5144821                                                                 NaN   \n",
              "5145134                                                                 NaN   \n",
              "5144110                                                                 NaN   \n",
              "5143996                                                                 NaN   \n",
              "5144100                                                                 NaN   \n",
              "5145057                                                                 NaN   \n",
              "5143993                                                                 NaN   \n",
              "5144108                                                                 NaN   \n",
              "\n",
              "                                             GPS tracks departure-presentation  \\\n",
              "emergency vehicle selection                                                      \n",
              "5144823                                                                    NaN   \n",
              "5144009                                                                    NaN   \n",
              "5144821                                                                    NaN   \n",
              "5145134                      2.341639,48.942390;2.343083,48.941029;2.343972...   \n",
              "5144110                      2.283778,48.923611;2.283778,48.923721;2.284444...   \n",
              "5143996                      2.381556,48.825474;2.393945,48.827667;2.402000...   \n",
              "5144100                                                                    NaN   \n",
              "5145057                                                                    NaN   \n",
              "5143993                                                                    NaN   \n",
              "5144108                                                                    NaN   \n",
              "\n",
              "                                    GPS tracks datetime departure-presentation  \\\n",
              "emergency vehicle selection                                                      \n",
              "5144823                                                                    NaN   \n",
              "5144009                                                                    NaN   \n",
              "5144821                                                                    NaN   \n",
              "5145134                      2018-07-27 09:58:31;2018-07-27 09:59:43;2018-0...   \n",
              "5144110                      2018-07-26 19:20:38;2018-07-26 19:21:50;2018-0...   \n",
              "5143996                      2018-07-26 18:35:15;2018-07-26 18:37:39;2018-0...   \n",
              "5144100                                                                    NaN   \n",
              "5145057                                                                    NaN   \n",
              "5143993                                                                    NaN   \n",
              "5144108                                                                    NaN   \n",
              "\n",
              "                                                                 OSRM response  \\\n",
              "emergency vehicle selection                                                      \n",
              "5144823                      {\"code\":\"Ok\",\"routes\":[{\"geometry\":\"qryhHysgNm...   \n",
              "5144009                      {\"code\":\"Ok\",\"routes\":[{\"geometry\":\"yrkiH}yoMw...   \n",
              "5144821                      {\"code\":\"Ok\",\"routes\":[{\"geometry\":\"mjhiH_qtMd...   \n",
              "5145134                      {\"code\":\"Ok\",\"routes\":[{\"geometry\":\"wqviHuihMp...   \n",
              "5144110                      {\"code\":\"Ok\",\"routes\":[{\"geometry\":\"_mriH{b}Lq...   \n",
              "5143996                      {\"code\":\"Ok\",\"routes\":[{\"geometry\":\"}p~hHqynMx...   \n",
              "5144100                      {\"code\":\"Ok\",\"routes\":[{\"geometry\":\"}yjiH}x}Ly...   \n",
              "5145057                      {\"code\":\"Ok\",\"routes\":[{\"geometry\":\"grmiHopcMb...   \n",
              "5143993                      {\"code\":\"Ok\",\"routes\":[{\"geometry\":\"ccgiHutnMc...   \n",
              "5144108                      {\"code\":\"Ok\",\"routes\":[{\"geometry\":\"wqviHuihMp...   \n",
              "\n",
              "                             OSRM estimated distance  OSRM estimated duration  \n",
              "emergency vehicle selection                                                    \n",
              "5144823                                      21620.0                   1544.5  \n",
              "5144009                                       3775.4                    433.6  \n",
              "5144821                                       6279.5                    553.8  \n",
              "5145134                                       6435.1                    513.6  \n",
              "5144110                                      11229.5                    752.5  \n",
              "5143996                                      13923.4                   1028.6  \n",
              "5144100                                       9870.1                    727.3  \n",
              "5145057                                       8442.7                    629.9  \n",
              "5143993                                       7481.6                    715.4  \n",
              "5144108                                       6435.1                    513.6  \n",
              "\n",
              "[10 rows x 25 columns]"
            ],
            "text/html": [
              "\n",
              "  <div id=\"df-e4a31b9a-b736-4ed8-88f2-cf451be8a74c\">\n",
              "    <div class=\"colab-df-container\">\n",
              "      <div>\n",
              "<style scoped>\n",
              "    .dataframe tbody tr th:only-of-type {\n",
              "        vertical-align: middle;\n",
              "    }\n",
              "\n",
              "    .dataframe tbody tr th {\n",
              "        vertical-align: top;\n",
              "    }\n",
              "\n",
              "    .dataframe thead th {\n",
              "        text-align: right;\n",
              "    }\n",
              "</style>\n",
              "<table border=\"1\" class=\"dataframe\">\n",
              "  <thead>\n",
              "    <tr style=\"text-align: right;\">\n",
              "      <th></th>\n",
              "      <th>intervention</th>\n",
              "      <th>alert reason category</th>\n",
              "      <th>alert reason</th>\n",
              "      <th>intervention on public roads</th>\n",
              "      <th>floor</th>\n",
              "      <th>location of the event</th>\n",
              "      <th>longitude intervention</th>\n",
              "      <th>latitude intervention</th>\n",
              "      <th>emergency vehicle</th>\n",
              "      <th>emergency vehicle type</th>\n",
              "      <th>...</th>\n",
              "      <th>delta status preceding selection-selection</th>\n",
              "      <th>departed from its rescue center</th>\n",
              "      <th>longitude before departure</th>\n",
              "      <th>latitude before departure</th>\n",
              "      <th>delta position gps previous departure-departure</th>\n",
              "      <th>GPS tracks departure-presentation</th>\n",
              "      <th>GPS tracks datetime departure-presentation</th>\n",
              "      <th>OSRM response</th>\n",
              "      <th>OSRM estimated distance</th>\n",
              "      <th>OSRM estimated duration</th>\n",
              "    </tr>\n",
              "    <tr>\n",
              "      <th>emergency vehicle selection</th>\n",
              "      <th></th>\n",
              "      <th></th>\n",
              "      <th></th>\n",
              "      <th></th>\n",
              "      <th></th>\n",
              "      <th></th>\n",
              "      <th></th>\n",
              "      <th></th>\n",
              "      <th></th>\n",
              "      <th></th>\n",
              "      <th></th>\n",
              "      <th></th>\n",
              "      <th></th>\n",
              "      <th></th>\n",
              "      <th></th>\n",
              "      <th></th>\n",
              "      <th></th>\n",
              "      <th></th>\n",
              "      <th></th>\n",
              "      <th></th>\n",
              "      <th></th>\n",
              "    </tr>\n",
              "  </thead>\n",
              "  <tbody>\n",
              "    <tr>\n",
              "      <th>5144823</th>\n",
              "      <td>13329800</td>\n",
              "      <td>1</td>\n",
              "      <td>1922</td>\n",
              "      <td>0</td>\n",
              "      <td>0</td>\n",
              "      <td>NaN</td>\n",
              "      <td>2.389279</td>\n",
              "      <td>48.917237</td>\n",
              "      <td>2493</td>\n",
              "      <td>PSE</td>\n",
              "      <td>...</td>\n",
              "      <td>10506</td>\n",
              "      <td>1</td>\n",
              "      <td>2.502172</td>\n",
              "      <td>48.796636</td>\n",
              "      <td>NaN</td>\n",
              "      <td>NaN</td>\n",
              "      <td>NaN</td>\n",
              "      <td>{\"code\":\"Ok\",\"routes\":[{\"geometry\":\"qryhHysgNm...</td>\n",
              "      <td>21620.0</td>\n",
              "      <td>1544.5</td>\n",
              "    </tr>\n",
              "    <tr>\n",
              "      <th>5144009</th>\n",
              "      <td>13329800</td>\n",
              "      <td>1</td>\n",
              "      <td>1922</td>\n",
              "      <td>0</td>\n",
              "      <td>0</td>\n",
              "      <td>NaN</td>\n",
              "      <td>2.389279</td>\n",
              "      <td>48.917237</td>\n",
              "      <td>1910</td>\n",
              "      <td>PSE</td>\n",
              "      <td>...</td>\n",
              "      <td>72</td>\n",
              "      <td>1</td>\n",
              "      <td>2.379889</td>\n",
              "      <td>48.889013</td>\n",
              "      <td>NaN</td>\n",
              "      <td>NaN</td>\n",
              "      <td>NaN</td>\n",
              "      <td>{\"code\":\"Ok\",\"routes\":[{\"geometry\":\"yrkiH}yoMw...</td>\n",
              "      <td>3775.4</td>\n",
              "      <td>433.6</td>\n",
              "    </tr>\n",
              "    <tr>\n",
              "      <th>5144821</th>\n",
              "      <td>13329800</td>\n",
              "      <td>1</td>\n",
              "      <td>1922</td>\n",
              "      <td>0</td>\n",
              "      <td>0</td>\n",
              "      <td>NaN</td>\n",
              "      <td>2.389279</td>\n",
              "      <td>48.917237</td>\n",
              "      <td>1823</td>\n",
              "      <td>VLR BSPP</td>\n",
              "      <td>...</td>\n",
              "      <td>44607</td>\n",
              "      <td>1</td>\n",
              "      <td>2.403748</td>\n",
              "      <td>48.872154</td>\n",
              "      <td>NaN</td>\n",
              "      <td>NaN</td>\n",
              "      <td>NaN</td>\n",
              "      <td>{\"code\":\"Ok\",\"routes\":[{\"geometry\":\"mjhiH_qtMd...</td>\n",
              "      <td>6279.5</td>\n",
              "      <td>553.8</td>\n",
              "    </tr>\n",
              "    <tr>\n",
              "      <th>5145134</th>\n",
              "      <td>13329800</td>\n",
              "      <td>1</td>\n",
              "      <td>1922</td>\n",
              "      <td>0</td>\n",
              "      <td>0</td>\n",
              "      <td>NaN</td>\n",
              "      <td>2.389279</td>\n",
              "      <td>48.917237</td>\n",
              "      <td>4359</td>\n",
              "      <td>VLR BSPP</td>\n",
              "      <td>...</td>\n",
              "      <td>1922</td>\n",
              "      <td>1</td>\n",
              "      <td>2.341010</td>\n",
              "      <td>48.945074</td>\n",
              "      <td>NaN</td>\n",
              "      <td>2.341639,48.942390;2.343083,48.941029;2.343972...</td>\n",
              "      <td>2018-07-27 09:58:31;2018-07-27 09:59:43;2018-0...</td>\n",
              "      <td>{\"code\":\"Ok\",\"routes\":[{\"geometry\":\"wqviHuihMp...</td>\n",
              "      <td>6435.1</td>\n",
              "      <td>513.6</td>\n",
              "    </tr>\n",
              "    <tr>\n",
              "      <th>5144110</th>\n",
              "      <td>13329800</td>\n",
              "      <td>1</td>\n",
              "      <td>1922</td>\n",
              "      <td>0</td>\n",
              "      <td>0</td>\n",
              "      <td>NaN</td>\n",
              "      <td>2.389279</td>\n",
              "      <td>48.917237</td>\n",
              "      <td>2255</td>\n",
              "      <td>PSE</td>\n",
              "      <td>...</td>\n",
              "      <td>10313</td>\n",
              "      <td>1</td>\n",
              "      <td>2.284342</td>\n",
              "      <td>48.923697</td>\n",
              "      <td>NaN</td>\n",
              "      <td>2.283778,48.923611;2.283778,48.923721;2.284444...</td>\n",
              "      <td>2018-07-26 19:20:38;2018-07-26 19:21:50;2018-0...</td>\n",
              "      <td>{\"code\":\"Ok\",\"routes\":[{\"geometry\":\"_mriH{b}Lq...</td>\n",
              "      <td>11229.5</td>\n",
              "      <td>752.5</td>\n",
              "    </tr>\n",
              "    <tr>\n",
              "      <th>5143996</th>\n",
              "      <td>13329800</td>\n",
              "      <td>1</td>\n",
              "      <td>1922</td>\n",
              "      <td>0</td>\n",
              "      <td>0</td>\n",
              "      <td>NaN</td>\n",
              "      <td>2.389279</td>\n",
              "      <td>48.917237</td>\n",
              "      <td>3122</td>\n",
              "      <td>CRAC</td>\n",
              "      <td>...</td>\n",
              "      <td>16599</td>\n",
              "      <td>1</td>\n",
              "      <td>2.374513</td>\n",
              "      <td>48.822590</td>\n",
              "      <td>NaN</td>\n",
              "      <td>2.381556,48.825474;2.393945,48.827667;2.402000...</td>\n",
              "      <td>2018-07-26 18:35:15;2018-07-26 18:37:39;2018-0...</td>\n",
              "      <td>{\"code\":\"Ok\",\"routes\":[{\"geometry\":\"}p~hHqynMx...</td>\n",
              "      <td>13923.4</td>\n",
              "      <td>1028.6</td>\n",
              "    </tr>\n",
              "    <tr>\n",
              "      <th>5144100</th>\n",
              "      <td>13329800</td>\n",
              "      <td>1</td>\n",
              "      <td>1922</td>\n",
              "      <td>0</td>\n",
              "      <td>0</td>\n",
              "      <td>NaN</td>\n",
              "      <td>2.389279</td>\n",
              "      <td>48.917237</td>\n",
              "      <td>4308</td>\n",
              "      <td>PSE</td>\n",
              "      <td>...</td>\n",
              "      <td>17594</td>\n",
              "      <td>1</td>\n",
              "      <td>2.288053</td>\n",
              "      <td>48.884698</td>\n",
              "      <td>NaN</td>\n",
              "      <td>NaN</td>\n",
              "      <td>NaN</td>\n",
              "      <td>{\"code\":\"Ok\",\"routes\":[{\"geometry\":\"}yjiH}x}Ly...</td>\n",
              "      <td>9870.1</td>\n",
              "      <td>727.3</td>\n",
              "    </tr>\n",
              "    <tr>\n",
              "      <th>5145057</th>\n",
              "      <td>13329800</td>\n",
              "      <td>1</td>\n",
              "      <td>1922</td>\n",
              "      <td>0</td>\n",
              "      <td>0</td>\n",
              "      <td>NaN</td>\n",
              "      <td>2.389279</td>\n",
              "      <td>48.917237</td>\n",
              "      <td>4431</td>\n",
              "      <td>VLR BSPP</td>\n",
              "      <td>...</td>\n",
              "      <td>20079</td>\n",
              "      <td>1</td>\n",
              "      <td>2.317090</td>\n",
              "      <td>48.899004</td>\n",
              "      <td>NaN</td>\n",
              "      <td>NaN</td>\n",
              "      <td>NaN</td>\n",
              "      <td>{\"code\":\"Ok\",\"routes\":[{\"geometry\":\"grmiHopcMb...</td>\n",
              "      <td>8442.7</td>\n",
              "      <td>629.9</td>\n",
              "    </tr>\n",
              "    <tr>\n",
              "      <th>5143993</th>\n",
              "      <td>13329800</td>\n",
              "      <td>1</td>\n",
              "      <td>1922</td>\n",
              "      <td>0</td>\n",
              "      <td>0</td>\n",
              "      <td>NaN</td>\n",
              "      <td>2.389279</td>\n",
              "      <td>48.917237</td>\n",
              "      <td>4311</td>\n",
              "      <td>VSAV BSPP</td>\n",
              "      <td>...</td>\n",
              "      <td>1856</td>\n",
              "      <td>1</td>\n",
              "      <td>2.373812</td>\n",
              "      <td>48.865868</td>\n",
              "      <td>NaN</td>\n",
              "      <td>NaN</td>\n",
              "      <td>NaN</td>\n",
              "      <td>{\"code\":\"Ok\",\"routes\":[{\"geometry\":\"ccgiHutnMc...</td>\n",
              "      <td>7481.6</td>\n",
              "      <td>715.4</td>\n",
              "    </tr>\n",
              "    <tr>\n",
              "      <th>5144108</th>\n",
              "      <td>13329800</td>\n",
              "      <td>1</td>\n",
              "      <td>1922</td>\n",
              "      <td>0</td>\n",
              "      <td>0</td>\n",
              "      <td>NaN</td>\n",
              "      <td>2.389279</td>\n",
              "      <td>48.917237</td>\n",
              "      <td>1832</td>\n",
              "      <td>PSE</td>\n",
              "      <td>...</td>\n",
              "      <td>57332</td>\n",
              "      <td>1</td>\n",
              "      <td>2.341010</td>\n",
              "      <td>48.945074</td>\n",
              "      <td>NaN</td>\n",
              "      <td>NaN</td>\n",
              "      <td>NaN</td>\n",
              "      <td>{\"code\":\"Ok\",\"routes\":[{\"geometry\":\"wqviHuihMp...</td>\n",
              "      <td>6435.1</td>\n",
              "      <td>513.6</td>\n",
              "    </tr>\n",
              "  </tbody>\n",
              "</table>\n",
              "<p>10 rows × 25 columns</p>\n",
              "</div>\n",
              "      <button class=\"colab-df-convert\" onclick=\"convertToInteractive('df-e4a31b9a-b736-4ed8-88f2-cf451be8a74c')\"\n",
              "              title=\"Convert this dataframe to an interactive table.\"\n",
              "              style=\"display:none;\">\n",
              "        \n",
              "  <svg xmlns=\"http://www.w3.org/2000/svg\" height=\"24px\"viewBox=\"0 0 24 24\"\n",
              "       width=\"24px\">\n",
              "    <path d=\"M0 0h24v24H0V0z\" fill=\"none\"/>\n",
              "    <path d=\"M18.56 5.44l.94 2.06.94-2.06 2.06-.94-2.06-.94-.94-2.06-.94 2.06-2.06.94zm-11 1L8.5 8.5l.94-2.06 2.06-.94-2.06-.94L8.5 2.5l-.94 2.06-2.06.94zm10 10l.94 2.06.94-2.06 2.06-.94-2.06-.94-.94-2.06-.94 2.06-2.06.94z\"/><path d=\"M17.41 7.96l-1.37-1.37c-.4-.4-.92-.59-1.43-.59-.52 0-1.04.2-1.43.59L10.3 9.45l-7.72 7.72c-.78.78-.78 2.05 0 2.83L4 21.41c.39.39.9.59 1.41.59.51 0 1.02-.2 1.41-.59l7.78-7.78 2.81-2.81c.8-.78.8-2.07 0-2.86zM5.41 20L4 18.59l7.72-7.72 1.47 1.35L5.41 20z\"/>\n",
              "  </svg>\n",
              "      </button>\n",
              "      \n",
              "  <style>\n",
              "    .colab-df-container {\n",
              "      display:flex;\n",
              "      flex-wrap:wrap;\n",
              "      gap: 12px;\n",
              "    }\n",
              "\n",
              "    .colab-df-convert {\n",
              "      background-color: #E8F0FE;\n",
              "      border: none;\n",
              "      border-radius: 50%;\n",
              "      cursor: pointer;\n",
              "      display: none;\n",
              "      fill: #1967D2;\n",
              "      height: 32px;\n",
              "      padding: 0 0 0 0;\n",
              "      width: 32px;\n",
              "    }\n",
              "\n",
              "    .colab-df-convert:hover {\n",
              "      background-color: #E2EBFA;\n",
              "      box-shadow: 0px 1px 2px rgba(60, 64, 67, 0.3), 0px 1px 3px 1px rgba(60, 64, 67, 0.15);\n",
              "      fill: #174EA6;\n",
              "    }\n",
              "\n",
              "    [theme=dark] .colab-df-convert {\n",
              "      background-color: #3B4455;\n",
              "      fill: #D2E3FC;\n",
              "    }\n",
              "\n",
              "    [theme=dark] .colab-df-convert:hover {\n",
              "      background-color: #434B5C;\n",
              "      box-shadow: 0px 1px 3px 1px rgba(0, 0, 0, 0.15);\n",
              "      filter: drop-shadow(0px 1px 2px rgba(0, 0, 0, 0.3));\n",
              "      fill: #FFFFFF;\n",
              "    }\n",
              "  </style>\n",
              "\n",
              "      <script>\n",
              "        const buttonEl =\n",
              "          document.querySelector('#df-e4a31b9a-b736-4ed8-88f2-cf451be8a74c button.colab-df-convert');\n",
              "        buttonEl.style.display =\n",
              "          google.colab.kernel.accessAllowed ? 'block' : 'none';\n",
              "\n",
              "        async function convertToInteractive(key) {\n",
              "          const element = document.querySelector('#df-e4a31b9a-b736-4ed8-88f2-cf451be8a74c');\n",
              "          const dataTable =\n",
              "            await google.colab.kernel.invokeFunction('convertToInteractive',\n",
              "                                                     [key], {});\n",
              "          if (!dataTable) return;\n",
              "\n",
              "          const docLinkHtml = 'Like what you see? Visit the ' +\n",
              "            '<a target=\"_blank\" href=https://colab.research.google.com/notebooks/data_table.ipynb>data table notebook</a>'\n",
              "            + ' to learn more about interactive tables.';\n",
              "          element.innerHTML = '';\n",
              "          dataTable['output_type'] = 'display_data';\n",
              "          await google.colab.output.renderOutput(dataTable, element);\n",
              "          const docLink = document.createElement('div');\n",
              "          docLink.innerHTML = docLinkHtml;\n",
              "          element.appendChild(docLink);\n",
              "        }\n",
              "      </script>\n",
              "    </div>\n",
              "  </div>\n",
              "  "
            ]
          },
          "metadata": {},
          "execution_count": 11
        }
      ]
    },
    {
      "cell_type": "markdown",
      "metadata": {
        "id": "V6tON9fFMKNe"
      },
      "source": [
        "el análisis lo vamos a hacer por vehículo"
      ]
    },
    {
      "cell_type": "code",
      "metadata": {
        "id": "qYDkmd3bxquP",
        "colab": {
          "base_uri": "https://localhost:8080/"
        },
        "outputId": "14c9015e-e303-47b9-86d7-59f6c1d8fe7f"
      },
      "source": [
        "#Borrar columnas que no utilizaremos\n",
        "\n",
        "col_borrar=['intervention',  #identificador de la intervención\n",
        "            'emergency vehicle',  #id 749 vehículo de emergencia, que están agrupada en 'emergency vehicle type'\n",
        "            'alert reason', # 126 categorías, que están resumidas en 'alert reason category'\n",
        "            \n",
        "            # Variables geográficas\n",
        "            'OSRM response', #rutas\n",
        "            'GPS tracks departure-presentation', #rutas\n",
        "            'GPS tracks datetime departure-presentation', #rutas\n",
        "            'longitude intervention', 'latitude intervention', #coordenadas\n",
        "            'longitude before departure',  #coordenadas\n",
        "            'latitude before departure',    #coordenadas\n",
        "\n",
        "            # Redundantes\n",
        "            'date key sélection', 'time key sélection', # redundantes con 'selection time'\n",
        "\n",
        "            #variable no relaccionadas con delta departure-presentation\n",
        "            'status preceding selection',  \n",
        "            'rescue center', # id 94 centros de rescate, estacionamiento de los vehícuos\n",
        "            'delta status preceding selection-selection',\n",
        "            'departed from its rescue center',\n",
        "            'delta position gps previous departure-departure'\n",
        "            ]\n",
        "X = X.drop(columns= col_borrar)\n",
        "\n",
        "X.info()"
      ],
      "execution_count": null,
      "outputs": [
        {
          "output_type": "stream",
          "name": "stdout",
          "text": [
            "<class 'pandas.core.frame.DataFrame'>\n",
            "Int64Index: 219337 entries, 5105452 to 4868867\n",
            "Data columns (total 8 columns):\n",
            " #   Column                        Non-Null Count   Dtype         \n",
            "---  ------                        --------------   -----         \n",
            " 0   alert reason category         219337 non-null  int64         \n",
            " 1   intervention on public roads  219337 non-null  int64         \n",
            " 2   floor                         219337 non-null  int64         \n",
            " 3   location of the event         206627 non-null  float64       \n",
            " 4   emergency vehicle type        219337 non-null  object        \n",
            " 5   selection time                219337 non-null  datetime64[ns]\n",
            " 6   OSRM estimated distance       219337 non-null  float64       \n",
            " 7   OSRM estimated duration       219337 non-null  float64       \n",
            "dtypes: datetime64[ns](1), float64(3), int64(3), object(1)\n",
            "memory usage: 15.1+ MB\n"
          ]
        }
      ]
    },
    {
      "cell_type": "markdown",
      "metadata": {
        "id": "LCjTqJpvAvMq"
      },
      "source": [
        "__Unir caracteristicas con étiquetas__"
      ]
    },
    {
      "cell_type": "code",
      "metadata": {
        "id": "Ux4dTQm0AvMr",
        "colab": {
          "base_uri": "https://localhost:8080/",
          "height": 309
        },
        "outputId": "54b64ef8-3bf4-4b36-e14b-80ef59b4789b"
      },
      "source": [
        "df = pd.concat([X,Y], axis=1)\n",
        "print(df.shape)\n",
        "df.head(2)"
      ],
      "execution_count": null,
      "outputs": [
        {
          "output_type": "stream",
          "name": "stdout",
          "text": [
            "(219337, 9)\n"
          ]
        },
        {
          "output_type": "execute_result",
          "data": {
            "text/plain": [
              "                             alert reason category  \\\n",
              "emergency vehicle selection                          \n",
              "5105452                                          3   \n",
              "4720915                                          3   \n",
              "\n",
              "                             intervention on public roads  floor  \\\n",
              "emergency vehicle selection                                        \n",
              "5105452                                                 0      0   \n",
              "4720915                                                 0      1   \n",
              "\n",
              "                             location of the event emergency vehicle type  \\\n",
              "emergency vehicle selection                                                 \n",
              "5105452                                      148.0              VSAV BSPP   \n",
              "4720915                                      136.0                    PSE   \n",
              "\n",
              "                                     selection time  OSRM estimated distance  \\\n",
              "emergency vehicle selection                                                    \n",
              "5105452                     2018-07-08 19:02:43.990                    952.5   \n",
              "4720915                     2018-01-04 09:02:59.470                   2238.5   \n",
              "\n",
              "                             OSRM estimated duration  \\\n",
              "emergency vehicle selection                            \n",
              "5105452                                        105.8   \n",
              "4720915                                        243.2   \n",
              "\n",
              "                             delta departure-presentation  \n",
              "emergency vehicle selection                                \n",
              "5105452                                               324  \n",
              "4720915                                               297  "
            ],
            "text/html": [
              "\n",
              "  <div id=\"df-6bb83c51-3cac-4197-96bd-13b75a644ca1\">\n",
              "    <div class=\"colab-df-container\">\n",
              "      <div>\n",
              "<style scoped>\n",
              "    .dataframe tbody tr th:only-of-type {\n",
              "        vertical-align: middle;\n",
              "    }\n",
              "\n",
              "    .dataframe tbody tr th {\n",
              "        vertical-align: top;\n",
              "    }\n",
              "\n",
              "    .dataframe thead th {\n",
              "        text-align: right;\n",
              "    }\n",
              "</style>\n",
              "<table border=\"1\" class=\"dataframe\">\n",
              "  <thead>\n",
              "    <tr style=\"text-align: right;\">\n",
              "      <th></th>\n",
              "      <th>alert reason category</th>\n",
              "      <th>intervention on public roads</th>\n",
              "      <th>floor</th>\n",
              "      <th>location of the event</th>\n",
              "      <th>emergency vehicle type</th>\n",
              "      <th>selection time</th>\n",
              "      <th>OSRM estimated distance</th>\n",
              "      <th>OSRM estimated duration</th>\n",
              "      <th>delta departure-presentation</th>\n",
              "    </tr>\n",
              "    <tr>\n",
              "      <th>emergency vehicle selection</th>\n",
              "      <th></th>\n",
              "      <th></th>\n",
              "      <th></th>\n",
              "      <th></th>\n",
              "      <th></th>\n",
              "      <th></th>\n",
              "      <th></th>\n",
              "      <th></th>\n",
              "      <th></th>\n",
              "    </tr>\n",
              "  </thead>\n",
              "  <tbody>\n",
              "    <tr>\n",
              "      <th>5105452</th>\n",
              "      <td>3</td>\n",
              "      <td>0</td>\n",
              "      <td>0</td>\n",
              "      <td>148.0</td>\n",
              "      <td>VSAV BSPP</td>\n",
              "      <td>2018-07-08 19:02:43.990</td>\n",
              "      <td>952.5</td>\n",
              "      <td>105.8</td>\n",
              "      <td>324</td>\n",
              "    </tr>\n",
              "    <tr>\n",
              "      <th>4720915</th>\n",
              "      <td>3</td>\n",
              "      <td>0</td>\n",
              "      <td>1</td>\n",
              "      <td>136.0</td>\n",
              "      <td>PSE</td>\n",
              "      <td>2018-01-04 09:02:59.470</td>\n",
              "      <td>2238.5</td>\n",
              "      <td>243.2</td>\n",
              "      <td>297</td>\n",
              "    </tr>\n",
              "  </tbody>\n",
              "</table>\n",
              "</div>\n",
              "      <button class=\"colab-df-convert\" onclick=\"convertToInteractive('df-6bb83c51-3cac-4197-96bd-13b75a644ca1')\"\n",
              "              title=\"Convert this dataframe to an interactive table.\"\n",
              "              style=\"display:none;\">\n",
              "        \n",
              "  <svg xmlns=\"http://www.w3.org/2000/svg\" height=\"24px\"viewBox=\"0 0 24 24\"\n",
              "       width=\"24px\">\n",
              "    <path d=\"M0 0h24v24H0V0z\" fill=\"none\"/>\n",
              "    <path d=\"M18.56 5.44l.94 2.06.94-2.06 2.06-.94-2.06-.94-.94-2.06-.94 2.06-2.06.94zm-11 1L8.5 8.5l.94-2.06 2.06-.94-2.06-.94L8.5 2.5l-.94 2.06-2.06.94zm10 10l.94 2.06.94-2.06 2.06-.94-2.06-.94-.94-2.06-.94 2.06-2.06.94z\"/><path d=\"M17.41 7.96l-1.37-1.37c-.4-.4-.92-.59-1.43-.59-.52 0-1.04.2-1.43.59L10.3 9.45l-7.72 7.72c-.78.78-.78 2.05 0 2.83L4 21.41c.39.39.9.59 1.41.59.51 0 1.02-.2 1.41-.59l7.78-7.78 2.81-2.81c.8-.78.8-2.07 0-2.86zM5.41 20L4 18.59l7.72-7.72 1.47 1.35L5.41 20z\"/>\n",
              "  </svg>\n",
              "      </button>\n",
              "      \n",
              "  <style>\n",
              "    .colab-df-container {\n",
              "      display:flex;\n",
              "      flex-wrap:wrap;\n",
              "      gap: 12px;\n",
              "    }\n",
              "\n",
              "    .colab-df-convert {\n",
              "      background-color: #E8F0FE;\n",
              "      border: none;\n",
              "      border-radius: 50%;\n",
              "      cursor: pointer;\n",
              "      display: none;\n",
              "      fill: #1967D2;\n",
              "      height: 32px;\n",
              "      padding: 0 0 0 0;\n",
              "      width: 32px;\n",
              "    }\n",
              "\n",
              "    .colab-df-convert:hover {\n",
              "      background-color: #E2EBFA;\n",
              "      box-shadow: 0px 1px 2px rgba(60, 64, 67, 0.3), 0px 1px 3px 1px rgba(60, 64, 67, 0.15);\n",
              "      fill: #174EA6;\n",
              "    }\n",
              "\n",
              "    [theme=dark] .colab-df-convert {\n",
              "      background-color: #3B4455;\n",
              "      fill: #D2E3FC;\n",
              "    }\n",
              "\n",
              "    [theme=dark] .colab-df-convert:hover {\n",
              "      background-color: #434B5C;\n",
              "      box-shadow: 0px 1px 3px 1px rgba(0, 0, 0, 0.15);\n",
              "      filter: drop-shadow(0px 1px 2px rgba(0, 0, 0, 0.3));\n",
              "      fill: #FFFFFF;\n",
              "    }\n",
              "  </style>\n",
              "\n",
              "      <script>\n",
              "        const buttonEl =\n",
              "          document.querySelector('#df-6bb83c51-3cac-4197-96bd-13b75a644ca1 button.colab-df-convert');\n",
              "        buttonEl.style.display =\n",
              "          google.colab.kernel.accessAllowed ? 'block' : 'none';\n",
              "\n",
              "        async function convertToInteractive(key) {\n",
              "          const element = document.querySelector('#df-6bb83c51-3cac-4197-96bd-13b75a644ca1');\n",
              "          const dataTable =\n",
              "            await google.colab.kernel.invokeFunction('convertToInteractive',\n",
              "                                                     [key], {});\n",
              "          if (!dataTable) return;\n",
              "\n",
              "          const docLinkHtml = 'Like what you see? Visit the ' +\n",
              "            '<a target=\"_blank\" href=https://colab.research.google.com/notebooks/data_table.ipynb>data table notebook</a>'\n",
              "            + ' to learn more about interactive tables.';\n",
              "          element.innerHTML = '';\n",
              "          dataTable['output_type'] = 'display_data';\n",
              "          await google.colab.output.renderOutput(dataTable, element);\n",
              "          const docLink = document.createElement('div');\n",
              "          docLink.innerHTML = docLinkHtml;\n",
              "          element.appendChild(docLink);\n",
              "        }\n",
              "      </script>\n",
              "    </div>\n",
              "  </div>\n",
              "  "
            ]
          },
          "metadata": {},
          "execution_count": 15
        }
      ]
    },
    {
      "cell_type": "markdown",
      "metadata": {
        "id": "6cJRa4_XaIiB"
      },
      "source": [
        "<h2> Idetificación del tipo de variable de cada columna\n",
        "\n",
        "Comparamos el tipo de cada columna con la documentación de los parámetros de entrada en [la documentación provista por el Challenge](https://paris-fire-brigade.github.io/data-challenge/challenge.html)"
      ]
    },
    {
      "cell_type": "code",
      "metadata": {
        "id": "Z58ZKbpMg0LF",
        "colab": {
          "base_uri": "https://localhost:8080/"
        },
        "outputId": "fb27f471-59f6-48d1-911b-29f3339ac695"
      },
      "source": [
        "df.dtypes"
      ],
      "execution_count": null,
      "outputs": [
        {
          "output_type": "execute_result",
          "data": {
            "text/plain": [
              "alert reason category                    int64\n",
              "intervention on public roads             int64\n",
              "floor                                    int64\n",
              "location of the event                  float64\n",
              "emergency vehicle type                  object\n",
              "selection time                  datetime64[ns]\n",
              "OSRM estimated distance                float64\n",
              "OSRM estimated duration                float64\n",
              "delta departure-presentation             int64\n",
              "dtype: object"
            ]
          },
          "metadata": {},
          "execution_count": 16
        }
      ]
    },
    {
      "cell_type": "code",
      "metadata": {
        "id": "1ob8FjgWdV0F",
        "colab": {
          "base_uri": "https://localhost:8080/",
          "height": 332
        },
        "outputId": "b9d92a43-5f1f-48b7-f880-e7556c0b6bc1"
      },
      "source": [
        "categoricas=['alert reason category','location of the event',\n",
        "             'emergency vehicle type']\n",
        "df[categoricas] = df[categoricas].astype('object')\n",
        "\n",
        "df['intervention on public roads']=df['intervention on public roads'].astype('bool')\n",
        "describe_datos(df)"
      ],
      "execution_count": null,
      "outputs": [
        {
          "output_type": "execute_result",
          "data": {
            "text/plain": [
              "                                      dtypes  not-null  nunique  \\\n",
              "alert reason category                 object    219337        9   \n",
              "intervention on public roads            bool    219337        2   \n",
              "floor                                  int64    219337       45   \n",
              "location of the event                 object    206627      210   \n",
              "emergency vehicle type                object    219337       75   \n",
              "selection time                datetime64[ns]    219337   219285   \n",
              "OSRM estimated distance              float64    219337    48461   \n",
              "OSRM estimated duration              float64    219337     8236   \n",
              "delta departure-presentation           int64    219337     1909   \n",
              "\n",
              "                                                                         unique  \n",
              "alert reason category                               [3, 9, 6, 1, 2, 5, 7, 4, 8]  \n",
              "intervention on public roads                                      [False, True]  \n",
              "floor                         [0, 1, 2, 3, 4, 5, -1, 8, 11, 16, 6, 7, 12, -3...  \n",
              "location of the event         [148.0, 136.0, 139.0, 104.0, 157.0, 199.0, 140...  \n",
              "emergency vehicle type        [VSAV BSPP, PSE, VLR BSPP, EPAN, EPA BSPP, FPT...  \n",
              "selection time                [2018-07-08T19:02:43.990000000, 2018-01-04T09:...  \n",
              "OSRM estimated distance       [952.5, 2238.5, 3026.4, 1934.2, 2706.7, 1685.8...  \n",
              "OSRM estimated duration       [105.8, 243.2, 295.4, 166.6, 262.6, 187.7, 301...  \n",
              "delta departure-presentation  [324, 297, 365, 160, 523, 419, 452, 404, 411, ...  "
            ],
            "text/html": [
              "\n",
              "  <div id=\"df-34beb9ae-f3b8-491f-8ef4-1ee4116dac7b\">\n",
              "    <div class=\"colab-df-container\">\n",
              "      <div>\n",
              "<style scoped>\n",
              "    .dataframe tbody tr th:only-of-type {\n",
              "        vertical-align: middle;\n",
              "    }\n",
              "\n",
              "    .dataframe tbody tr th {\n",
              "        vertical-align: top;\n",
              "    }\n",
              "\n",
              "    .dataframe thead th {\n",
              "        text-align: right;\n",
              "    }\n",
              "</style>\n",
              "<table border=\"1\" class=\"dataframe\">\n",
              "  <thead>\n",
              "    <tr style=\"text-align: right;\">\n",
              "      <th></th>\n",
              "      <th>dtypes</th>\n",
              "      <th>not-null</th>\n",
              "      <th>nunique</th>\n",
              "      <th>unique</th>\n",
              "    </tr>\n",
              "  </thead>\n",
              "  <tbody>\n",
              "    <tr>\n",
              "      <th>alert reason category</th>\n",
              "      <td>object</td>\n",
              "      <td>219337</td>\n",
              "      <td>9</td>\n",
              "      <td>[3, 9, 6, 1, 2, 5, 7, 4, 8]</td>\n",
              "    </tr>\n",
              "    <tr>\n",
              "      <th>intervention on public roads</th>\n",
              "      <td>bool</td>\n",
              "      <td>219337</td>\n",
              "      <td>2</td>\n",
              "      <td>[False, True]</td>\n",
              "    </tr>\n",
              "    <tr>\n",
              "      <th>floor</th>\n",
              "      <td>int64</td>\n",
              "      <td>219337</td>\n",
              "      <td>45</td>\n",
              "      <td>[0, 1, 2, 3, 4, 5, -1, 8, 11, 16, 6, 7, 12, -3...</td>\n",
              "    </tr>\n",
              "    <tr>\n",
              "      <th>location of the event</th>\n",
              "      <td>object</td>\n",
              "      <td>206627</td>\n",
              "      <td>210</td>\n",
              "      <td>[148.0, 136.0, 139.0, 104.0, 157.0, 199.0, 140...</td>\n",
              "    </tr>\n",
              "    <tr>\n",
              "      <th>emergency vehicle type</th>\n",
              "      <td>object</td>\n",
              "      <td>219337</td>\n",
              "      <td>75</td>\n",
              "      <td>[VSAV BSPP, PSE, VLR BSPP, EPAN, EPA BSPP, FPT...</td>\n",
              "    </tr>\n",
              "    <tr>\n",
              "      <th>selection time</th>\n",
              "      <td>datetime64[ns]</td>\n",
              "      <td>219337</td>\n",
              "      <td>219285</td>\n",
              "      <td>[2018-07-08T19:02:43.990000000, 2018-01-04T09:...</td>\n",
              "    </tr>\n",
              "    <tr>\n",
              "      <th>OSRM estimated distance</th>\n",
              "      <td>float64</td>\n",
              "      <td>219337</td>\n",
              "      <td>48461</td>\n",
              "      <td>[952.5, 2238.5, 3026.4, 1934.2, 2706.7, 1685.8...</td>\n",
              "    </tr>\n",
              "    <tr>\n",
              "      <th>OSRM estimated duration</th>\n",
              "      <td>float64</td>\n",
              "      <td>219337</td>\n",
              "      <td>8236</td>\n",
              "      <td>[105.8, 243.2, 295.4, 166.6, 262.6, 187.7, 301...</td>\n",
              "    </tr>\n",
              "    <tr>\n",
              "      <th>delta departure-presentation</th>\n",
              "      <td>int64</td>\n",
              "      <td>219337</td>\n",
              "      <td>1909</td>\n",
              "      <td>[324, 297, 365, 160, 523, 419, 452, 404, 411, ...</td>\n",
              "    </tr>\n",
              "  </tbody>\n",
              "</table>\n",
              "</div>\n",
              "      <button class=\"colab-df-convert\" onclick=\"convertToInteractive('df-34beb9ae-f3b8-491f-8ef4-1ee4116dac7b')\"\n",
              "              title=\"Convert this dataframe to an interactive table.\"\n",
              "              style=\"display:none;\">\n",
              "        \n",
              "  <svg xmlns=\"http://www.w3.org/2000/svg\" height=\"24px\"viewBox=\"0 0 24 24\"\n",
              "       width=\"24px\">\n",
              "    <path d=\"M0 0h24v24H0V0z\" fill=\"none\"/>\n",
              "    <path d=\"M18.56 5.44l.94 2.06.94-2.06 2.06-.94-2.06-.94-.94-2.06-.94 2.06-2.06.94zm-11 1L8.5 8.5l.94-2.06 2.06-.94-2.06-.94L8.5 2.5l-.94 2.06-2.06.94zm10 10l.94 2.06.94-2.06 2.06-.94-2.06-.94-.94-2.06-.94 2.06-2.06.94z\"/><path d=\"M17.41 7.96l-1.37-1.37c-.4-.4-.92-.59-1.43-.59-.52 0-1.04.2-1.43.59L10.3 9.45l-7.72 7.72c-.78.78-.78 2.05 0 2.83L4 21.41c.39.39.9.59 1.41.59.51 0 1.02-.2 1.41-.59l7.78-7.78 2.81-2.81c.8-.78.8-2.07 0-2.86zM5.41 20L4 18.59l7.72-7.72 1.47 1.35L5.41 20z\"/>\n",
              "  </svg>\n",
              "      </button>\n",
              "      \n",
              "  <style>\n",
              "    .colab-df-container {\n",
              "      display:flex;\n",
              "      flex-wrap:wrap;\n",
              "      gap: 12px;\n",
              "    }\n",
              "\n",
              "    .colab-df-convert {\n",
              "      background-color: #E8F0FE;\n",
              "      border: none;\n",
              "      border-radius: 50%;\n",
              "      cursor: pointer;\n",
              "      display: none;\n",
              "      fill: #1967D2;\n",
              "      height: 32px;\n",
              "      padding: 0 0 0 0;\n",
              "      width: 32px;\n",
              "    }\n",
              "\n",
              "    .colab-df-convert:hover {\n",
              "      background-color: #E2EBFA;\n",
              "      box-shadow: 0px 1px 2px rgba(60, 64, 67, 0.3), 0px 1px 3px 1px rgba(60, 64, 67, 0.15);\n",
              "      fill: #174EA6;\n",
              "    }\n",
              "\n",
              "    [theme=dark] .colab-df-convert {\n",
              "      background-color: #3B4455;\n",
              "      fill: #D2E3FC;\n",
              "    }\n",
              "\n",
              "    [theme=dark] .colab-df-convert:hover {\n",
              "      background-color: #434B5C;\n",
              "      box-shadow: 0px 1px 3px 1px rgba(0, 0, 0, 0.15);\n",
              "      filter: drop-shadow(0px 1px 2px rgba(0, 0, 0, 0.3));\n",
              "      fill: #FFFFFF;\n",
              "    }\n",
              "  </style>\n",
              "\n",
              "      <script>\n",
              "        const buttonEl =\n",
              "          document.querySelector('#df-34beb9ae-f3b8-491f-8ef4-1ee4116dac7b button.colab-df-convert');\n",
              "        buttonEl.style.display =\n",
              "          google.colab.kernel.accessAllowed ? 'block' : 'none';\n",
              "\n",
              "        async function convertToInteractive(key) {\n",
              "          const element = document.querySelector('#df-34beb9ae-f3b8-491f-8ef4-1ee4116dac7b');\n",
              "          const dataTable =\n",
              "            await google.colab.kernel.invokeFunction('convertToInteractive',\n",
              "                                                     [key], {});\n",
              "          if (!dataTable) return;\n",
              "\n",
              "          const docLinkHtml = 'Like what you see? Visit the ' +\n",
              "            '<a target=\"_blank\" href=https://colab.research.google.com/notebooks/data_table.ipynb>data table notebook</a>'\n",
              "            + ' to learn more about interactive tables.';\n",
              "          element.innerHTML = '';\n",
              "          dataTable['output_type'] = 'display_data';\n",
              "          await google.colab.output.renderOutput(dataTable, element);\n",
              "          const docLink = document.createElement('div');\n",
              "          docLink.innerHTML = docLinkHtml;\n",
              "          element.appendChild(docLink);\n",
              "        }\n",
              "      </script>\n",
              "    </div>\n",
              "  </div>\n",
              "  "
            ]
          },
          "metadata": {},
          "execution_count": 17
        }
      ]
    },
    {
      "cell_type": "markdown",
      "metadata": {
        "id": "6O_pqbiAT1dW"
      },
      "source": [
        "# Manejo de Valores Nulos"
      ]
    },
    {
      "cell_type": "code",
      "metadata": {
        "id": "7f58oHkpTnfo",
        "outputId": "e9459560-1997-40f1-bfa9-14d8c5c2d6d7",
        "colab": {
          "base_uri": "https://localhost:8080/"
        }
      },
      "source": [
        "df.info()"
      ],
      "execution_count": null,
      "outputs": [
        {
          "output_type": "stream",
          "name": "stdout",
          "text": [
            "<class 'pandas.core.frame.DataFrame'>\n",
            "Int64Index: 219337 entries, 5105452 to 4868867\n",
            "Data columns (total 9 columns):\n",
            " #   Column                        Non-Null Count   Dtype         \n",
            "---  ------                        --------------   -----         \n",
            " 0   alert reason category         219337 non-null  object        \n",
            " 1   intervention on public roads  219337 non-null  bool          \n",
            " 2   floor                         219337 non-null  int64         \n",
            " 3   location of the event         206627 non-null  object        \n",
            " 4   emergency vehicle type        219337 non-null  object        \n",
            " 5   selection time                219337 non-null  datetime64[ns]\n",
            " 6   OSRM estimated distance       219337 non-null  float64       \n",
            " 7   OSRM estimated duration       219337 non-null  float64       \n",
            " 8   delta departure-presentation  219337 non-null  int64         \n",
            "dtypes: bool(1), datetime64[ns](1), float64(2), int64(2), object(3)\n",
            "memory usage: 15.3+ MB\n"
          ]
        }
      ]
    },
    {
      "cell_type": "code",
      "metadata": {
        "colab": {
          "base_uri": "https://localhost:8080/"
        },
        "id": "PtzQEHdD3ZLz",
        "outputId": "972f03b6-122d-4c44-b16e-826c2768ba94"
      },
      "source": [
        "df.isna().sum()/len(df)*100  # porcentaje de valores nulos"
      ],
      "execution_count": null,
      "outputs": [
        {
          "output_type": "execute_result",
          "data": {
            "text/plain": [
              "alert reason category           0.000000\n",
              "intervention on public roads    0.000000\n",
              "floor                           0.000000\n",
              "location of the event           5.794736\n",
              "emergency vehicle type          0.000000\n",
              "selection time                  0.000000\n",
              "OSRM estimated distance         0.000000\n",
              "OSRM estimated duration         0.000000\n",
              "delta departure-presentation    0.000000\n",
              "dtype: float64"
            ]
          },
          "metadata": {},
          "execution_count": 19
        }
      ]
    },
    {
      "cell_type": "code",
      "metadata": {
        "id": "sqVVZ-eLaa3j",
        "colab": {
          "base_uri": "https://localhost:8080/"
        },
        "outputId": "5e5447c5-9403-4a1a-b629-7b62c5fc67f3"
      },
      "source": [
        "df['location of the event'].value_counts(dropna=False)/len(df)*100"
      ],
      "execution_count": null,
      "outputs": [
        {
          "output_type": "execute_result",
          "data": {
            "text/plain": [
              "139.0    23.266024\n",
              "136.0    20.242823\n",
              "148.0    14.588054\n",
              "NaN       5.794736\n",
              "149.0     4.515882\n",
              "           ...    \n",
              "324.0     0.000456\n",
              "284.0     0.000456\n",
              "160.0     0.000456\n",
              "293.0     0.000456\n",
              "215.0     0.000456\n",
              "Name: location of the event, Length: 211, dtype: float64"
            ]
          },
          "metadata": {},
          "execution_count": 20
        }
      ]
    },
    {
      "cell_type": "markdown",
      "metadata": {
        "id": "Hv7xa4RRGVno"
      },
      "source": [
        "\n",
        "**Alternativas**\n",
        "- Borrar esos renglones, \n",
        "- borrar esa variable, \n",
        "- imputar valores:\n",
        "   - ¿remplazar por ceros?\n",
        "   - ¿reemplazar por una medida de tendencia central?\n",
        "   - ¿reemplazar con la predicción a partir de otro modelo de ml?\n",
        "   - ¿a parir del conocimiento que nos proporcionan las demás variables? "
      ]
    },
    {
      "cell_type": "markdown",
      "metadata": {
        "id": "T0UZuZFl5EJC"
      },
      "source": [
        "**¿los valores nulos son aleatorios? ¿se observa algún patrón? ¿borrar los renglónes con valores nulos impacta nuestro modelo?**\n"
      ]
    },
    {
      "cell_type": "code",
      "metadata": {
        "id": "1bsngQeV96BS",
        "colab": {
          "base_uri": "https://localhost:8080/",
          "height": 296
        },
        "outputId": "05d404ce-65b3-465e-b61b-d44477decd85"
      },
      "source": [
        "#Distribución de la variable respuesta en registros con y sin valores nulos en \"location of the event\"\n",
        "df['nulos'] = np.where(df['location of the event'].isna(),1,0)\n",
        "\n",
        "sns.boxplot(x = 'nulos' , y = 'delta departure-presentation', data = df,showfliers=False)"
      ],
      "execution_count": null,
      "outputs": [
        {
          "output_type": "execute_result",
          "data": {
            "text/plain": [
              "<matplotlib.axes._subplots.AxesSubplot at 0x7f4dd9007610>"
            ]
          },
          "metadata": {},
          "execution_count": 21
        },
        {
          "output_type": "display_data",
          "data": {
            "text/plain": [
              "<Figure size 432x288 with 1 Axes>"
            ],
            "image/png": "[encoded data removed]"
          },
          "metadata": {
            "needs_background": "light"
          }
        }
      ]
    },
    {
      "cell_type": "markdown",
      "metadata": {
        "id": "OyPDoNMlOLZD"
      },
      "source": [
        "**¿Podemos imputar valores con el conocimiento que tenemos de los demás registros?**"
      ]
    },
    {
      "cell_type": "code",
      "metadata": {
        "colab": {
          "base_uri": "https://localhost:8080/",
          "height": 300
        },
        "id": "WicyHSYPKJDa",
        "outputId": "cbed92a8-e4ef-4c1a-d7d6-e452d128d02d"
      },
      "source": [
        "tabla = pd.crosstab(df['alert reason category'],df['nulos'], normalize = 'columns')*100\n",
        "\n",
        "sns.heatmap(tabla,  vmin = 0, vmax = 100, cmap = \"coolwarm\", annot = True,\n",
        "            fmt=\".1f\")"
      ],
      "execution_count": null,
      "outputs": [
        {
          "output_type": "execute_result",
          "data": {
            "text/plain": [
              "<matplotlib.axes._subplots.AxesSubplot at 0x7f4dd8eba0d0>"
            ]
          },
          "metadata": {},
          "execution_count": 22
        },
        {
          "output_type": "display_data",
          "data": {
            "text/plain": [
              "<Figure size 432x288 with 2 Axes>"
            ],
            "image/png": "[encoded data removed]"
          },
          "metadata": {
            "needs_background": "light"
          }
        }
      ]
    },
    {
      "cell_type": "code",
      "metadata": {
        "colab": {
          "base_uri": "https://localhost:8080/"
        },
        "id": "C-pyOHIIHcVr",
        "outputId": "d4273d69-dd71-4fe2-9738-426dfc9a1a44"
      },
      "source": [
        "dict_alert_location = df.groupby('alert reason category')['location of the event'].agg(pd.Series.mode).to_dict()\n",
        "dict_alert_location "
      ],
      "execution_count": null,
      "outputs": [
        {
          "output_type": "execute_result",
          "data": {
            "text/plain": [
              "{1: 131.0,\n",
              " 2: 149.0,\n",
              " 3: 139.0,\n",
              " 4: 139.0,\n",
              " 5: 148.0,\n",
              " 6: 148.0,\n",
              " 7: 148.0,\n",
              " 8: 131.0,\n",
              " 9: 139.0}"
            ]
          },
          "metadata": {},
          "execution_count": 21
        }
      ]
    },
    {
      "cell_type": "code",
      "metadata": {
        "id": "jfRJ0fd7eKfS",
        "outputId": "19fa9b9c-e2b1-499c-f519-d6d697ec69f7",
        "colab": {
          "base_uri": "https://localhost:8080/"
        }
      },
      "source": [
        "# remplazamos los valores nulos en 'location of the event' de acuerdo al valor que presenta\n",
        "\n",
        "df['location of the event'] = df['location of the event'].fillna( df['alert reason category'].map(dict_alert_location)).astype('object')\n",
        "df['location of the event'].isna().sum()"
      ],
      "execution_count": null,
      "outputs": [
        {
          "output_type": "execute_result",
          "data": {
            "text/plain": [
              "0"
            ]
          },
          "metadata": {},
          "execution_count": 22
        }
      ]
    },
    {
      "cell_type": "code",
      "metadata": {
        "id": "X2zBtTPhohJV",
        "outputId": "27f247a7-a841-4c3a-9cb1-c062f14d58c3",
        "colab": {
          "base_uri": "https://localhost:8080/"
        }
      },
      "source": [
        "df['location of the event'].value_counts(dropna=False)/len(df)*100"
      ],
      "execution_count": null,
      "outputs": [
        {
          "output_type": "execute_result",
          "data": {
            "text/plain": [
              "139.0    25.469027\n",
              "136.0    20.242823\n",
              "148.0    15.111450\n",
              "149.0     4.654026\n",
              "131.0     4.357222\n",
              "           ...    \n",
              "265.0     0.000456\n",
              "160.0     0.000456\n",
              "151.0     0.000456\n",
              "248.0     0.000456\n",
              "200.0     0.000456\n",
              "Name: location of the event, Length: 210, dtype: float64"
            ]
          },
          "metadata": {},
          "execution_count": 23
        }
      ]
    },
    {
      "cell_type": "code",
      "metadata": {
        "id": "EO3jpo9kgg2x"
      },
      "source": [
        "df = df.drop('nulos', axis=1)\n"
      ],
      "execution_count": null,
      "outputs": []
    },
    {
      "cell_type": "markdown",
      "metadata": {
        "id": "pOsHK0UDuj4w"
      },
      "source": [
        "# Creación de nuevas variables"
      ]
    },
    {
      "cell_type": "markdown",
      "metadata": {
        "id": "Ea6C0L2Ie8FX"
      },
      "source": [
        "<h3>  Creación de variable Rush Hour\n",
        "\n",
        "Variable binaria para identificar eventos en horas pico"
      ]
    },
    {
      "cell_type": "code",
      "metadata": {
        "id": "msZ9KIoLhSvU"
      },
      "source": [
        "df['rush hour'] = 0\n",
        "\n",
        "df = df.reset_index( )\n",
        "df = df.set_index('selection time')\n",
        "\n",
        "#identificar el indice de los registros de eventos en hora pico\n",
        "pico_am = df.index.indexer_between_time('6:30','9:30')\n",
        "pico_pm = df.index.indexer_between_time('16:00','19:00')\n",
        "horas_pico_index= np.concatenate((pico_am, pico_pm))\n",
        "\n",
        "#identificar los días sabados y domingos\n",
        "fin_de_semana_filtro = df.index.weekday > 5  #identifica sábados y domingos"
      ],
      "execution_count": null,
      "outputs": []
    },
    {
      "cell_type": "code",
      "metadata": {
        "colab": {
          "base_uri": "https://localhost:8080/"
        },
        "id": "6ixlFKMEQ4g2",
        "outputId": "3436bb06-6c27-4eda-f414-277b08f59b51"
      },
      "source": [
        "pico_am"
      ],
      "execution_count": null,
      "outputs": [
        {
          "output_type": "execute_result",
          "data": {
            "text/plain": [
              "array([     1,      6,      7, ..., 219307, 219308, 219310])"
            ]
          },
          "metadata": {},
          "execution_count": 26
        }
      ]
    },
    {
      "cell_type": "code",
      "metadata": {
        "colab": {
          "base_uri": "https://localhost:8080/"
        },
        "id": "PTt_KqNgRjsi",
        "outputId": "f71d542b-65f4-4638-c147-0fae4ee5aae7"
      },
      "source": [
        "#comprobar que uno de los indices es hora pico\n",
        "df.index.to_list()[1]  "
      ],
      "execution_count": null,
      "outputs": [
        {
          "output_type": "execute_result",
          "data": {
            "text/plain": [
              "Timestamp('2018-01-04 09:02:59.470000')"
            ]
          },
          "metadata": {},
          "execution_count": 27
        }
      ]
    },
    {
      "cell_type": "code",
      "metadata": {
        "id": "Q-d9AIQuRehA"
      },
      "source": [
        "df = df.reset_index()\n",
        "\n",
        "# cambiar el valor de 'rush hour' a uno cuando sea horas pico\n",
        "df.iloc[list(horas_pico_index),-1] = 1  "
      ],
      "execution_count": null,
      "outputs": []
    },
    {
      "cell_type": "code",
      "metadata": {
        "id": "-9ZWrOpJQ0Ma"
      },
      "source": [
        "#Regresar a 0 el valor para los días sabados y domingos\n",
        "df['rush hour']= np.where(fin_de_semana_filtro, 0, df['rush hour'])"
      ],
      "execution_count": null,
      "outputs": []
    },
    {
      "cell_type": "markdown",
      "metadata": {
        "id": "O-0rDtG_gPEX"
      },
      "source": [
        "<h3> Creación de variable Weekday\n",
        "\n",
        "Variable binaria para identificar eventos de lunes a viernes"
      ]
    },
    {
      "cell_type": "code",
      "metadata": {
        "id": "Ha_rW-o5flhg"
      },
      "source": [
        "df['weekday'] = np.where(fin_de_semana_filtro, 0, 1)"
      ],
      "execution_count": null,
      "outputs": []
    },
    {
      "cell_type": "code",
      "metadata": {
        "id": "2cKWlza0yvqw"
      },
      "source": [
        "#Regresar emerency vehicle selection como indice\n",
        "df = df.set_index('emergency vehicle selection')"
      ],
      "execution_count": null,
      "outputs": []
    },
    {
      "cell_type": "markdown",
      "metadata": {
        "id": "2nRnn9pZkrZz"
      },
      "source": [
        "# One hot encoding variables categoricas"
      ]
    },
    {
      "cell_type": "code",
      "source": [
        "df[categoricas].nunique()"
      ],
      "metadata": {
        "colab": {
          "base_uri": "https://localhost:8080/"
        },
        "id": "zQaggZ8ktSCF",
        "outputId": "ea85a3b8-e329-41d8-ab11-5c8691c99304"
      },
      "execution_count": null,
      "outputs": [
        {
          "output_type": "execute_result",
          "data": {
            "text/plain": [
              "alert reason category       9\n",
              "location of the event     210\n",
              "emergency vehicle type     75\n",
              "dtype: int64"
            ]
          },
          "metadata": {},
          "execution_count": 32
        }
      ]
    },
    {
      "cell_type": "code",
      "metadata": {
        "id": "rBFa8vxLuqYm",
        "colab": {
          "base_uri": "https://localhost:8080/"
        },
        "outputId": "0e89cc96-52ea-4028-deab-734917827680"
      },
      "source": [
        "he = pd.get_dummies(df[categoricas],\n",
        "                   drop_first=True) \n",
        "print(he.shape)\n",
        "he.head()"
      ],
      "execution_count": null,
      "outputs": [
        {
          "output_type": "stream",
          "name": "stdout",
          "text": [
            "(219337, 291)\n"
          ]
        },
        {
          "output_type": "execute_result",
          "data": {
            "text/plain": [
              "                             alert reason category_2  alert reason category_3  \\\n",
              "emergency vehicle selection                                                     \n",
              "5105452                                            0                        1   \n",
              "4720915                                            0                        1   \n",
              "5365374                                            0                        1   \n",
              "4741586                                            0                        1   \n",
              "5381209                                            0                        1   \n",
              "\n",
              "                             alert reason category_4  alert reason category_5  \\\n",
              "emergency vehicle selection                                                     \n",
              "5105452                                            0                        0   \n",
              "4720915                                            0                        0   \n",
              "5365374                                            0                        0   \n",
              "4741586                                            0                        0   \n",
              "5381209                                            0                        0   \n",
              "\n",
              "                             alert reason category_6  alert reason category_7  \\\n",
              "emergency vehicle selection                                                     \n",
              "5105452                                            0                        0   \n",
              "4720915                                            0                        0   \n",
              "5365374                                            0                        0   \n",
              "4741586                                            0                        0   \n",
              "5381209                                            0                        0   \n",
              "\n",
              "                             alert reason category_8  alert reason category_9  \\\n",
              "emergency vehicle selection                                                     \n",
              "5105452                                            0                        0   \n",
              "4720915                                            0                        0   \n",
              "5365374                                            0                        0   \n",
              "4741586                                            0                        0   \n",
              "5381209                                            0                        0   \n",
              "\n",
              "                             location of the event_101.0  \\\n",
              "emergency vehicle selection                                \n",
              "5105452                                                0   \n",
              "4720915                                                0   \n",
              "5365374                                                0   \n",
              "4741586                                                0   \n",
              "5381209                                                0   \n",
              "\n",
              "                             location of the event_102.0  ...  \\\n",
              "emergency vehicle selection                               ...   \n",
              "5105452                                                0  ...   \n",
              "4720915                                                0  ...   \n",
              "5365374                                                0  ...   \n",
              "4741586                                                0  ...   \n",
              "5381209                                                0  ...   \n",
              "\n",
              "                             emergency vehicle type_VRCP  \\\n",
              "emergency vehicle selection                                \n",
              "5105452                                                0   \n",
              "4720915                                                0   \n",
              "5365374                                                0   \n",
              "4741586                                                0   \n",
              "5381209                                                0   \n",
              "\n",
              "                             emergency vehicle type_VRM  \\\n",
              "emergency vehicle selection                               \n",
              "5105452                                               0   \n",
              "4720915                                               0   \n",
              "5365374                                               0   \n",
              "4741586                                               0   \n",
              "5381209                                               0   \n",
              "\n",
              "                             emergency vehicle type_VRSD  \\\n",
              "emergency vehicle selection                                \n",
              "5105452                                                0   \n",
              "4720915                                                0   \n",
              "5365374                                                0   \n",
              "4741586                                                0   \n",
              "5381209                                                0   \n",
              "\n",
              "                             emergency vehicle type_VSAV BALA  \\\n",
              "emergency vehicle selection                                     \n",
              "5105452                                                     0   \n",
              "4720915                                                     0   \n",
              "5365374                                                     0   \n",
              "4741586                                                     0   \n",
              "5381209                                                     0   \n",
              "\n",
              "                             emergency vehicle type_VSAV BSPP  \\\n",
              "emergency vehicle selection                                     \n",
              "5105452                                                     1   \n",
              "4720915                                                     0   \n",
              "5365374                                                     1   \n",
              "4741586                                                     1   \n",
              "5381209                                                     1   \n",
              "\n",
              "                             emergency vehicle type_VSAV SDIS  \\\n",
              "emergency vehicle selection                                     \n",
              "5105452                                                     0   \n",
              "4720915                                                     0   \n",
              "5365374                                                     0   \n",
              "4741586                                                     0   \n",
              "5381209                                                     0   \n",
              "\n",
              "                             emergency vehicle type_VSAV SSLIA  \\\n",
              "emergency vehicle selection                                      \n",
              "5105452                                                      0   \n",
              "4720915                                                      0   \n",
              "5365374                                                      0   \n",
              "4741586                                                      0   \n",
              "5381209                                                      0   \n",
              "\n",
              "                             emergency vehicle type_VSIS  \\\n",
              "emergency vehicle selection                                \n",
              "5105452                                                0   \n",
              "4720915                                                0   \n",
              "5365374                                                0   \n",
              "4741586                                                0   \n",
              "5381209                                                0   \n",
              "\n",
              "                             emergency vehicle type_VSTI  \\\n",
              "emergency vehicle selection                                \n",
              "5105452                                                0   \n",
              "4720915                                                0   \n",
              "5365374                                                0   \n",
              "4741586                                                0   \n",
              "5381209                                                0   \n",
              "\n",
              "                             emergency vehicle type_VTBA  \n",
              "emergency vehicle selection                               \n",
              "5105452                                                0  \n",
              "4720915                                                0  \n",
              "5365374                                                0  \n",
              "4741586                                                0  \n",
              "5381209                                                0  \n",
              "\n",
              "[5 rows x 291 columns]"
            ],
            "text/html": [
              "\n",
              "  <div id=\"df-86ff5171-42bc-4e5d-9294-a639f6a5a77c\">\n",
              "    <div class=\"colab-df-container\">\n",
              "      <div>\n",
              "<style scoped>\n",
              "    .dataframe tbody tr th:only-of-type {\n",
              "        vertical-align: middle;\n",
              "    }\n",
              "\n",
              "    .dataframe tbody tr th {\n",
              "        vertical-align: top;\n",
              "    }\n",
              "\n",
              "    .dataframe thead th {\n",
              "        text-align: right;\n",
              "    }\n",
              "</style>\n",
              "<table border=\"1\" class=\"dataframe\">\n",
              "  <thead>\n",
              "    <tr style=\"text-align: right;\">\n",
              "      <th></th>\n",
              "      <th>alert reason category_2</th>\n",
              "      <th>alert reason category_3</th>\n",
              "      <th>alert reason category_4</th>\n",
              "      <th>alert reason category_5</th>\n",
              "      <th>alert reason category_6</th>\n",
              "      <th>alert reason category_7</th>\n",
              "      <th>alert reason category_8</th>\n",
              "      <th>alert reason category_9</th>\n",
              "      <th>location of the event_101.0</th>\n",
              "      <th>location of the event_102.0</th>\n",
              "      <th>...</th>\n",
              "      <th>emergency vehicle type_VRCP</th>\n",
              "      <th>emergency vehicle type_VRM</th>\n",
              "      <th>emergency vehicle type_VRSD</th>\n",
              "      <th>emergency vehicle type_VSAV BALA</th>\n",
              "      <th>emergency vehicle type_VSAV BSPP</th>\n",
              "      <th>emergency vehicle type_VSAV SDIS</th>\n",
              "      <th>emergency vehicle type_VSAV SSLIA</th>\n",
              "      <th>emergency vehicle type_VSIS</th>\n",
              "      <th>emergency vehicle type_VSTI</th>\n",
              "      <th>emergency vehicle type_VTBA</th>\n",
              "    </tr>\n",
              "    <tr>\n",
              "      <th>emergency vehicle selection</th>\n",
              "      <th></th>\n",
              "      <th></th>\n",
              "      <th></th>\n",
              "      <th></th>\n",
              "      <th></th>\n",
              "      <th></th>\n",
              "      <th></th>\n",
              "      <th></th>\n",
              "      <th></th>\n",
              "      <th></th>\n",
              "      <th></th>\n",
              "      <th></th>\n",
              "      <th></th>\n",
              "      <th></th>\n",
              "      <th></th>\n",
              "      <th></th>\n",
              "      <th></th>\n",
              "      <th></th>\n",
              "      <th></th>\n",
              "      <th></th>\n",
              "      <th></th>\n",
              "    </tr>\n",
              "  </thead>\n",
              "  <tbody>\n",
              "    <tr>\n",
              "      <th>5105452</th>\n",
              "      <td>0</td>\n",
              "      <td>1</td>\n",
              "      <td>0</td>\n",
              "      <td>0</td>\n",
              "      <td>0</td>\n",
              "      <td>0</td>\n",
              "      <td>0</td>\n",
              "      <td>0</td>\n",
              "      <td>0</td>\n",
              "      <td>0</td>\n",
              "      <td>...</td>\n",
              "      <td>0</td>\n",
              "      <td>0</td>\n",
              "      <td>0</td>\n",
              "      <td>0</td>\n",
              "      <td>1</td>\n",
              "      <td>0</td>\n",
              "      <td>0</td>\n",
              "      <td>0</td>\n",
              "      <td>0</td>\n",
              "      <td>0</td>\n",
              "    </tr>\n",
              "    <tr>\n",
              "      <th>4720915</th>\n",
              "      <td>0</td>\n",
              "      <td>1</td>\n",
              "      <td>0</td>\n",
              "      <td>0</td>\n",
              "      <td>0</td>\n",
              "      <td>0</td>\n",
              "      <td>0</td>\n",
              "      <td>0</td>\n",
              "      <td>0</td>\n",
              "      <td>0</td>\n",
              "      <td>...</td>\n",
              "      <td>0</td>\n",
              "      <td>0</td>\n",
              "      <td>0</td>\n",
              "      <td>0</td>\n",
              "      <td>0</td>\n",
              "      <td>0</td>\n",
              "      <td>0</td>\n",
              "      <td>0</td>\n",
              "      <td>0</td>\n",
              "      <td>0</td>\n",
              "    </tr>\n",
              "    <tr>\n",
              "      <th>5365374</th>\n",
              "      <td>0</td>\n",
              "      <td>1</td>\n",
              "      <td>0</td>\n",
              "      <td>0</td>\n",
              "      <td>0</td>\n",
              "      <td>0</td>\n",
              "      <td>0</td>\n",
              "      <td>0</td>\n",
              "      <td>0</td>\n",
              "      <td>0</td>\n",
              "      <td>...</td>\n",
              "      <td>0</td>\n",
              "      <td>0</td>\n",
              "      <td>0</td>\n",
              "      <td>0</td>\n",
              "      <td>1</td>\n",
              "      <td>0</td>\n",
              "      <td>0</td>\n",
              "      <td>0</td>\n",
              "      <td>0</td>\n",
              "      <td>0</td>\n",
              "    </tr>\n",
              "    <tr>\n",
              "      <th>4741586</th>\n",
              "      <td>0</td>\n",
              "      <td>1</td>\n",
              "      <td>0</td>\n",
              "      <td>0</td>\n",
              "      <td>0</td>\n",
              "      <td>0</td>\n",
              "      <td>0</td>\n",
              "      <td>0</td>\n",
              "      <td>0</td>\n",
              "      <td>0</td>\n",
              "      <td>...</td>\n",
              "      <td>0</td>\n",
              "      <td>0</td>\n",
              "      <td>0</td>\n",
              "      <td>0</td>\n",
              "      <td>1</td>\n",
              "      <td>0</td>\n",
              "      <td>0</td>\n",
              "      <td>0</td>\n",
              "      <td>0</td>\n",
              "      <td>0</td>\n",
              "    </tr>\n",
              "    <tr>\n",
              "      <th>5381209</th>\n",
              "      <td>0</td>\n",
              "      <td>1</td>\n",
              "      <td>0</td>\n",
              "      <td>0</td>\n",
              "      <td>0</td>\n",
              "      <td>0</td>\n",
              "      <td>0</td>\n",
              "      <td>0</td>\n",
              "      <td>0</td>\n",
              "      <td>0</td>\n",
              "      <td>...</td>\n",
              "      <td>0</td>\n",
              "      <td>0</td>\n",
              "      <td>0</td>\n",
              "      <td>0</td>\n",
              "      <td>1</td>\n",
              "      <td>0</td>\n",
              "      <td>0</td>\n",
              "      <td>0</td>\n",
              "      <td>0</td>\n",
              "      <td>0</td>\n",
              "    </tr>\n",
              "  </tbody>\n",
              "</table>\n",
              "<p>5 rows × 291 columns</p>\n",
              "</div>\n",
              "      <button class=\"colab-df-convert\" onclick=\"convertToInteractive('df-86ff5171-42bc-4e5d-9294-a639f6a5a77c')\"\n",
              "              title=\"Convert this dataframe to an interactive table.\"\n",
              "              style=\"display:none;\">\n",
              "        \n",
              "  <svg xmlns=\"http://www.w3.org/2000/svg\" height=\"24px\"viewBox=\"0 0 24 24\"\n",
              "       width=\"24px\">\n",
              "    <path d=\"M0 0h24v24H0V0z\" fill=\"none\"/>\n",
              "    <path d=\"M18.56 5.44l.94 2.06.94-2.06 2.06-.94-2.06-.94-.94-2.06-.94 2.06-2.06.94zm-11 1L8.5 8.5l.94-2.06 2.06-.94-2.06-.94L8.5 2.5l-.94 2.06-2.06.94zm10 10l.94 2.06.94-2.06 2.06-.94-2.06-.94-.94-2.06-.94 2.06-2.06.94z\"/><path d=\"M17.41 7.96l-1.37-1.37c-.4-.4-.92-.59-1.43-.59-.52 0-1.04.2-1.43.59L10.3 9.45l-7.72 7.72c-.78.78-.78 2.05 0 2.83L4 21.41c.39.39.9.59 1.41.59.51 0 1.02-.2 1.41-.59l7.78-7.78 2.81-2.81c.8-.78.8-2.07 0-2.86zM5.41 20L4 18.59l7.72-7.72 1.47 1.35L5.41 20z\"/>\n",
              "  </svg>\n",
              "      </button>\n",
              "      \n",
              "  <style>\n",
              "    .colab-df-container {\n",
              "      display:flex;\n",
              "      flex-wrap:wrap;\n",
              "      gap: 12px;\n",
              "    }\n",
              "\n",
              "    .colab-df-convert {\n",
              "      background-color: #E8F0FE;\n",
              "      border: none;\n",
              "      border-radius: 50%;\n",
              "      cursor: pointer;\n",
              "      display: none;\n",
              "      fill: #1967D2;\n",
              "      height: 32px;\n",
              "      padding: 0 0 0 0;\n",
              "      width: 32px;\n",
              "    }\n",
              "\n",
              "    .colab-df-convert:hover {\n",
              "      background-color: #E2EBFA;\n",
              "      box-shadow: 0px 1px 2px rgba(60, 64, 67, 0.3), 0px 1px 3px 1px rgba(60, 64, 67, 0.15);\n",
              "      fill: #174EA6;\n",
              "    }\n",
              "\n",
              "    [theme=dark] .colab-df-convert {\n",
              "      background-color: #3B4455;\n",
              "      fill: #D2E3FC;\n",
              "    }\n",
              "\n",
              "    [theme=dark] .colab-df-convert:hover {\n",
              "      background-color: #434B5C;\n",
              "      box-shadow: 0px 1px 3px 1px rgba(0, 0, 0, 0.15);\n",
              "      filter: drop-shadow(0px 1px 2px rgba(0, 0, 0, 0.3));\n",
              "      fill: #FFFFFF;\n",
              "    }\n",
              "  </style>\n",
              "\n",
              "      <script>\n",
              "        const buttonEl =\n",
              "          document.querySelector('#df-86ff5171-42bc-4e5d-9294-a639f6a5a77c button.colab-df-convert');\n",
              "        buttonEl.style.display =\n",
              "          google.colab.kernel.accessAllowed ? 'block' : 'none';\n",
              "\n",
              "        async function convertToInteractive(key) {\n",
              "          const element = document.querySelector('#df-86ff5171-42bc-4e5d-9294-a639f6a5a77c');\n",
              "          const dataTable =\n",
              "            await google.colab.kernel.invokeFunction('convertToInteractive',\n",
              "                                                     [key], {});\n",
              "          if (!dataTable) return;\n",
              "\n",
              "          const docLinkHtml = 'Like what you see? Visit the ' +\n",
              "            '<a target=\"_blank\" href=https://colab.research.google.com/notebooks/data_table.ipynb>data table notebook</a>'\n",
              "            + ' to learn more about interactive tables.';\n",
              "          element.innerHTML = '';\n",
              "          dataTable['output_type'] = 'display_data';\n",
              "          await google.colab.output.renderOutput(dataTable, element);\n",
              "          const docLink = document.createElement('div');\n",
              "          docLink.innerHTML = docLinkHtml;\n",
              "          element.appendChild(docLink);\n",
              "        }\n",
              "      </script>\n",
              "    </div>\n",
              "  </div>\n",
              "  "
            ]
          },
          "metadata": {},
          "execution_count": 33
        }
      ]
    },
    {
      "cell_type": "code",
      "metadata": {
        "id": "GgH8SUnKdV0y",
        "colab": {
          "base_uri": "https://localhost:8080/"
        },
        "outputId": "5d8e0fab-56c0-40c5-9c6f-4b69d6acc5eb"
      },
      "source": [
        "df=df.drop(columns=categoricas)\n",
        "df=pd.concat([df, he], axis=1)\n",
        "df.shape"
      ],
      "execution_count": null,
      "outputs": [
        {
          "output_type": "execute_result",
          "data": {
            "text/plain": [
              "(219337, 299)"
            ]
          },
          "metadata": {},
          "execution_count": 34
        }
      ]
    },
    {
      "cell_type": "code",
      "metadata": {
        "id": "fChmNEy8yd9x",
        "colab": {
          "base_uri": "https://localhost:8080/"
        },
        "outputId": "d61642ca-0ea9-4267-9ae0-d14981286e5c"
      },
      "source": [
        "#Llevar la etiqueta hasta la ultima posición \n",
        "cols = df.columns.tolist()\n",
        "df = df[[c for c in df if c != 'delta departure-presentation'] + ['delta departure-presentation']]\n",
        "print(df.shape)\n",
        "df.info()"
      ],
      "execution_count": 49,
      "outputs": [
        {
          "output_type": "stream",
          "name": "stdout",
          "text": [
            "(219337, 299)\n",
            "<class 'pandas.core.frame.DataFrame'>\n",
            "Int64Index: 219337 entries, 5105452 to 4868867\n",
            "Columns: 299 entries, selection time to delta departure-presentation\n",
            "dtypes: bool(1), datetime64[ns](1), float64(2), int64(4), uint8(291)\n",
            "memory usage: 74.5 MB\n"
          ]
        }
      ]
    },
    {
      "cell_type": "markdown",
      "source": [
        "# Selección de variables"
      ],
      "metadata": {
        "id": "T3p0AnM5y38I"
      }
    },
    {
      "cell_type": "markdown",
      "source": [
        "<h2> Eliminar variables no relevantes \n",
        "\n",
        "Análisis de correlación con la variable respuesta"
      ],
      "metadata": {
        "id": "jTlHyf9NhtRk"
      }
    },
    {
      "cell_type": "code",
      "source": [
        "corr_y = df.corr()['delta departure-presentation']\n",
        "corr_y.sort_values(ascending = False)"
      ],
      "metadata": {
        "colab": {
          "base_uri": "https://localhost:8080/"
        },
        "id": "t1Vc3L3vzsfg",
        "outputId": "0c53eb84-4540-4227-d79c-6b5033cb8024"
      },
      "execution_count": 50,
      "outputs": [
        {
          "output_type": "execute_result",
          "data": {
            "text/plain": [
              "delta departure-presentation        1.000000\n",
              "OSRM estimated distance             0.449922\n",
              "OSRM estimated duration             0.446742\n",
              "emergency vehicle type_VRCP         0.104753\n",
              "emergency vehicle type_VID          0.102340\n",
              "                                      ...   \n",
              "location of the event_325.0        -0.029667\n",
              "location of the event_259.0        -0.037418\n",
              "location of the event_148.0        -0.047335\n",
              "emergency vehicle type_VSAV BSPP   -0.055509\n",
              "intervention on public roads       -0.057065\n",
              "Name: delta departure-presentation, Length: 298, dtype: float64"
            ]
          },
          "metadata": {},
          "execution_count": 50
        }
      ]
    },
    {
      "cell_type": "code",
      "source": [
        "corr_y.abs().describe()"
      ],
      "metadata": {
        "colab": {
          "base_uri": "https://localhost:8080/"
        },
        "id": "hLJGSEG0zJDS",
        "outputId": "11dc55a0-7f64-44e3-8e73-b440a5b2f607"
      },
      "execution_count": 51,
      "outputs": [
        {
          "output_type": "execute_result",
          "data": {
            "text/plain": [
              "count    2.980000e+02\n",
              "mean     1.435166e-02\n",
              "std      6.915652e-02\n",
              "min      1.704090e-07\n",
              "25%      1.240320e-03\n",
              "50%      2.762905e-03\n",
              "75%      9.219855e-03\n",
              "max      1.000000e+00\n",
              "Name: delta departure-presentation, dtype: float64"
            ]
          },
          "metadata": {},
          "execution_count": 51
        }
      ]
    },
    {
      "cell_type": "code",
      "source": [
        "corr_y"
      ],
      "metadata": {
        "colab": {
          "base_uri": "https://localhost:8080/"
        },
        "id": "vulj_h0G00t4",
        "outputId": "d1017563-2db9-4573-b49f-169464ea61b5"
      },
      "execution_count": 53,
      "outputs": [
        {
          "output_type": "execute_result",
          "data": {
            "text/plain": [
              "intervention on public roads        -0.057065\n",
              "floor                                0.002170\n",
              "OSRM estimated distance              0.449922\n",
              "OSRM estimated duration              0.446742\n",
              "rush hour                            0.038517\n",
              "                                       ...   \n",
              "emergency vehicle type_VSAV SSLIA    0.003246\n",
              "emergency vehicle type_VSIS          0.009461\n",
              "emergency vehicle type_VSTI          0.014016\n",
              "emergency vehicle type_VTBA          0.055564\n",
              "delta departure-presentation         1.000000\n",
              "Name: delta departure-presentation, Length: 298, dtype: float64"
            ]
          },
          "metadata": {},
          "execution_count": 53
        }
      ]
    },
    {
      "cell_type": "code",
      "source": [
        "len(corr_y[corr_y.abs()<0.005])"
      ],
      "metadata": {
        "colab": {
          "base_uri": "https://localhost:8080/"
        },
        "outputId": "b2c6360d-cd1a-43f0-a8b7-734ebf35533e",
        "id": "7XdiqxCB2kwo"
      },
      "execution_count": 52,
      "outputs": [
        {
          "output_type": "execute_result",
          "data": {
            "text/plain": [
              "197"
            ]
          },
          "metadata": {},
          "execution_count": 52
        }
      ]
    },
    {
      "cell_type": "code",
      "source": [
        "no_relevantes = list(corr_y[corr_y.abs()<0.005].index)\n",
        "df = df.drop(no_relevantes, axis=1)\n",
        "df.shape"
      ],
      "metadata": {
        "colab": {
          "base_uri": "https://localhost:8080/"
        },
        "id": "KLzGn_Mh0pZv",
        "outputId": "66d9c028-ad12-433f-bc9c-2e43258b3135"
      },
      "execution_count": 54,
      "outputs": [
        {
          "output_type": "execute_result",
          "data": {
            "text/plain": [
              "(219337, 102)"
            ]
          },
          "metadata": {},
          "execution_count": 54
        }
      ]
    },
    {
      "cell_type": "code",
      "source": [
        "no_relevantes"
      ],
      "metadata": {
        "colab": {
          "base_uri": "https://localhost:8080/"
        },
        "id": "1H-tHZTEiuxb",
        "outputId": "d06dae71-9c44-4d05-a3e8-95a00eb9ef3c"
      },
      "execution_count": 55,
      "outputs": [
        {
          "output_type": "execute_result",
          "data": {
            "text/plain": [
              "['floor',\n",
              " 'alert reason category_4',\n",
              " 'location of the event_101.0',\n",
              " 'location of the event_102.0',\n",
              " 'location of the event_103.0',\n",
              " 'location of the event_104.0',\n",
              " 'location of the event_105.0',\n",
              " 'location of the event_106.0',\n",
              " 'location of the event_109.0',\n",
              " 'location of the event_112.0',\n",
              " 'location of the event_113.0',\n",
              " 'location of the event_114.0',\n",
              " 'location of the event_116.0',\n",
              " 'location of the event_118.0',\n",
              " 'location of the event_119.0',\n",
              " 'location of the event_120.0',\n",
              " 'location of the event_121.0',\n",
              " 'location of the event_122.0',\n",
              " 'location of the event_123.0',\n",
              " 'location of the event_124.0',\n",
              " 'location of the event_125.0',\n",
              " 'location of the event_126.0',\n",
              " 'location of the event_128.0',\n",
              " 'location of the event_129.0',\n",
              " 'location of the event_130.0',\n",
              " 'location of the event_132.0',\n",
              " 'location of the event_133.0',\n",
              " 'location of the event_134.0',\n",
              " 'location of the event_135.0',\n",
              " 'location of the event_137.0',\n",
              " 'location of the event_138.0',\n",
              " 'location of the event_141.0',\n",
              " 'location of the event_142.0',\n",
              " 'location of the event_144.0',\n",
              " 'location of the event_145.0',\n",
              " 'location of the event_146.0',\n",
              " 'location of the event_147.0',\n",
              " 'location of the event_150.0',\n",
              " 'location of the event_151.0',\n",
              " 'location of the event_153.0',\n",
              " 'location of the event_154.0',\n",
              " 'location of the event_155.0',\n",
              " 'location of the event_156.0',\n",
              " 'location of the event_158.0',\n",
              " 'location of the event_159.0',\n",
              " 'location of the event_160.0',\n",
              " 'location of the event_162.0',\n",
              " 'location of the event_163.0',\n",
              " 'location of the event_165.0',\n",
              " 'location of the event_166.0',\n",
              " 'location of the event_172.0',\n",
              " 'location of the event_174.0',\n",
              " 'location of the event_175.0',\n",
              " 'location of the event_177.0',\n",
              " 'location of the event_178.0',\n",
              " 'location of the event_179.0',\n",
              " 'location of the event_180.0',\n",
              " 'location of the event_181.0',\n",
              " 'location of the event_182.0',\n",
              " 'location of the event_183.0',\n",
              " 'location of the event_184.0',\n",
              " 'location of the event_186.0',\n",
              " 'location of the event_187.0',\n",
              " 'location of the event_188.0',\n",
              " 'location of the event_189.0',\n",
              " 'location of the event_190.0',\n",
              " 'location of the event_192.0',\n",
              " 'location of the event_193.0',\n",
              " 'location of the event_194.0',\n",
              " 'location of the event_195.0',\n",
              " 'location of the event_197.0',\n",
              " 'location of the event_198.0',\n",
              " 'location of the event_200.0',\n",
              " 'location of the event_201.0',\n",
              " 'location of the event_203.0',\n",
              " 'location of the event_204.0',\n",
              " 'location of the event_207.0',\n",
              " 'location of the event_208.0',\n",
              " 'location of the event_209.0',\n",
              " 'location of the event_210.0',\n",
              " 'location of the event_211.0',\n",
              " 'location of the event_212.0',\n",
              " 'location of the event_213.0',\n",
              " 'location of the event_214.0',\n",
              " 'location of the event_215.0',\n",
              " 'location of the event_216.0',\n",
              " 'location of the event_217.0',\n",
              " 'location of the event_219.0',\n",
              " 'location of the event_220.0',\n",
              " 'location of the event_221.0',\n",
              " 'location of the event_222.0',\n",
              " 'location of the event_223.0',\n",
              " 'location of the event_225.0',\n",
              " 'location of the event_226.0',\n",
              " 'location of the event_227.0',\n",
              " 'location of the event_229.0',\n",
              " 'location of the event_230.0',\n",
              " 'location of the event_231.0',\n",
              " 'location of the event_233.0',\n",
              " 'location of the event_234.0',\n",
              " 'location of the event_235.0',\n",
              " 'location of the event_236.0',\n",
              " 'location of the event_237.0',\n",
              " 'location of the event_238.0',\n",
              " 'location of the event_239.0',\n",
              " 'location of the event_240.0',\n",
              " 'location of the event_241.0',\n",
              " 'location of the event_242.0',\n",
              " 'location of the event_243.0',\n",
              " 'location of the event_245.0',\n",
              " 'location of the event_246.0',\n",
              " 'location of the event_247.0',\n",
              " 'location of the event_248.0',\n",
              " 'location of the event_250.0',\n",
              " 'location of the event_254.0',\n",
              " 'location of the event_255.0',\n",
              " 'location of the event_256.0',\n",
              " 'location of the event_257.0',\n",
              " 'location of the event_262.0',\n",
              " 'location of the event_265.0',\n",
              " 'location of the event_267.0',\n",
              " 'location of the event_268.0',\n",
              " 'location of the event_269.0',\n",
              " 'location of the event_271.0',\n",
              " 'location of the event_272.0',\n",
              " 'location of the event_275.0',\n",
              " 'location of the event_277.0',\n",
              " 'location of the event_279.0',\n",
              " 'location of the event_280.0',\n",
              " 'location of the event_282.0',\n",
              " 'location of the event_284.0',\n",
              " 'location of the event_285.0',\n",
              " 'location of the event_286.0',\n",
              " 'location of the event_288.0',\n",
              " 'location of the event_289.0',\n",
              " 'location of the event_290.0',\n",
              " 'location of the event_291.0',\n",
              " 'location of the event_292.0',\n",
              " 'location of the event_293.0',\n",
              " 'location of the event_294.0',\n",
              " 'location of the event_295.0',\n",
              " 'location of the event_296.0',\n",
              " 'location of the event_297.0',\n",
              " 'location of the event_298.0',\n",
              " 'location of the event_300.0',\n",
              " 'location of the event_301.0',\n",
              " 'location of the event_305.0',\n",
              " 'location of the event_306.0',\n",
              " 'location of the event_308.0',\n",
              " 'location of the event_309.0',\n",
              " 'location of the event_311.0',\n",
              " 'location of the event_312.0',\n",
              " 'location of the event_313.0',\n",
              " 'location of the event_315.0',\n",
              " 'location of the event_316.0',\n",
              " 'location of the event_317.0',\n",
              " 'location of the event_318.0',\n",
              " 'location of the event_319.0',\n",
              " 'location of the event_320.0',\n",
              " 'location of the event_323.0',\n",
              " 'location of the event_324.0',\n",
              " 'emergency vehicle type_CA',\n",
              " 'emergency vehicle type_CFS',\n",
              " 'emergency vehicle type_CSP',\n",
              " 'emergency vehicle type_DAP',\n",
              " 'emergency vehicle type_EPAN',\n",
              " 'emergency vehicle type_ESAV',\n",
              " 'emergency vehicle type_ESAVI',\n",
              " 'emergency vehicle type_FMOGP BSPP',\n",
              " 'emergency vehicle type_FPT BSPP',\n",
              " 'emergency vehicle type_FPT SSLIA',\n",
              " 'emergency vehicle type_FPTL BSPP',\n",
              " 'emergency vehicle type_SFCB',\n",
              " 'emergency vehicle type_UMH',\n",
              " 'emergency vehicle type_UMH 75',\n",
              " 'emergency vehicle type_UMH 92',\n",
              " 'emergency vehicle type_UMH 94',\n",
              " 'emergency vehicle type_UMH BOBI',\n",
              " 'emergency vehicle type_UMH DEBREPED',\n",
              " 'emergency vehicle type_UMH DIEU',\n",
              " 'emergency vehicle type_UMH GARC',\n",
              " 'emergency vehicle type_UMH LARIB',\n",
              " 'emergency vehicle type_UMH MONDOR',\n",
              " 'emergency vehicle type_UMH NECK',\n",
              " 'emergency vehicle type_UMH NECKPED',\n",
              " 'emergency vehicle type_UMH PITIE',\n",
              " 'emergency vehicle type_UMH STDE',\n",
              " 'emergency vehicle type_UMPS',\n",
              " 'emergency vehicle type_VAS',\n",
              " 'emergency vehicle type_VELD',\n",
              " 'emergency vehicle type_VIRB',\n",
              " 'emergency vehicle type_VPB',\n",
              " 'emergency vehicle type_VPC GFIS',\n",
              " 'emergency vehicle type_VPC GIS',\n",
              " 'emergency vehicle type_VSAV BALA',\n",
              " 'emergency vehicle type_VSAV SDIS',\n",
              " 'emergency vehicle type_VSAV SSLIA']"
            ]
          },
          "metadata": {},
          "execution_count": 55
        }
      ]
    },
    {
      "cell_type": "code",
      "source": [
        "len(df.columns)"
      ],
      "metadata": {
        "id": "fWuOuvYEDLtG",
        "outputId": "832443a6-b2b8-45df-8b81-33f380c13759",
        "colab": {
          "base_uri": "https://localhost:8080/"
        }
      },
      "execution_count": 57,
      "outputs": [
        {
          "output_type": "execute_result",
          "data": {
            "text/plain": [
              "102"
            ]
          },
          "metadata": {},
          "execution_count": 57
        }
      ]
    },
    {
      "cell_type": "markdown",
      "source": [
        "<h2>Eliminar variables redundantes\n",
        "\n",
        "Análisis de correlación entre las variables explicativas"
      ],
      "metadata": {
        "id": "PeCZgmtkiJgu"
      }
    },
    {
      "cell_type": "code",
      "source": [
        "# correlacion de las características en el conjunto X\n",
        "corr_matrix = df.drop('delta departure-presentation', axis=1).corr()  "
      ],
      "metadata": {
        "id": "cGsVWQFJ4Zcm"
      },
      "execution_count": 65,
      "outputs": []
    },
    {
      "cell_type": "code",
      "metadata": {
        "id": "6bJkcZX_yHC5",
        "outputId": "e9e6953f-6765-46eb-b7aa-478c998907f9",
        "colab": {
          "base_uri": "https://localhost:8080/"
        }
      },
      "source": [
        "#Identificar variables redundantes \n",
        "\n",
        "# Triangulo superior de la matriz de correlación en números absolutos\n",
        "celda_sobre_diagonal_ppal = np.triu(np.ones_like(corr_matrix),1).astype(bool)\n",
        "triangulo_sup = corr_matrix.where(celda_sobre_diagonal_ppal).abs()\n",
        "\n",
        "\n",
        "# Encontrar las columnas donde la correlación es 1\n",
        "redundantes = [column for column in triangulo_sup.columns\n",
        "          if any(triangulo_sup[column] >= .7)]\n",
        "redundantes"
      ],
      "execution_count": 66,
      "outputs": [
        {
          "output_type": "execute_result",
          "data": {
            "text/plain": [
              "['OSRM estimated duration']"
            ]
          },
          "metadata": {},
          "execution_count": 66
        }
      ]
    },
    {
      "cell_type": "code",
      "metadata": {
        "id": "44VVRRhwTr1x"
      },
      "source": [
        "df = df.drop('OSRM estimated duration', axis=1)"
      ],
      "execution_count": 70,
      "outputs": []
    },
    {
      "cell_type": "code",
      "source": [
        "df.columns"
      ],
      "metadata": {
        "colab": {
          "base_uri": "https://localhost:8080/"
        },
        "id": "sfzLSwT694q6",
        "outputId": "ed3c22d2-e6b1-484e-a72a-06e8729325ad"
      },
      "execution_count": 67,
      "outputs": [
        {
          "output_type": "execute_result",
          "data": {
            "text/plain": [
              "Index(['selection time', 'intervention on public roads',\n",
              "       'OSRM estimated distance', 'OSRM estimated duration', 'rush hour',\n",
              "       'weekday', 'alert reason category_2', 'alert reason category_3',\n",
              "       'alert reason category_5', 'alert reason category_6',\n",
              "       ...\n",
              "       'emergency vehicle type_VRA', 'emergency vehicle type_VRCH BSPP',\n",
              "       'emergency vehicle type_VRCP', 'emergency vehicle type_VRM',\n",
              "       'emergency vehicle type_VRSD', 'emergency vehicle type_VSAV BSPP',\n",
              "       'emergency vehicle type_VSIS', 'emergency vehicle type_VSTI',\n",
              "       'emergency vehicle type_VTBA', 'delta departure-presentation'],\n",
              "      dtype='object', length=102)"
            ]
          },
          "metadata": {},
          "execution_count": 67
        }
      ]
    },
    {
      "cell_type": "markdown",
      "metadata": {
        "id": "Az7-t0moiwoE"
      },
      "source": [
        "# Exploración de las variables numéricas"
      ]
    },
    {
      "cell_type": "code",
      "metadata": {
        "id": "IQhgA_VJ9jLx"
      },
      "source": [
        "boleanas=[]\n",
        "for col in df.columns:\n",
        "  if df[col].nunique()==2:\n",
        "    boleanas.append(col)\n",
        "df[boleanas]=df[boleanas].astype('bool')"
      ],
      "execution_count": 71,
      "outputs": []
    },
    {
      "cell_type": "code",
      "metadata": {
        "id": "3IMFO5Zu9NZa",
        "colab": {
          "base_uri": "https://localhost:8080/"
        },
        "outputId": "fe5861e5-9512-4637-b2fd-5cb39a09811a"
      },
      "source": [
        "numericas = list(df.select_dtypes(include=['int64', 'float64']).columns)\n",
        "numericas"
      ],
      "execution_count": 72,
      "outputs": [
        {
          "output_type": "execute_result",
          "data": {
            "text/plain": [
              "['OSRM estimated distance', 'delta departure-presentation']"
            ]
          },
          "metadata": {},
          "execution_count": 72
        }
      ]
    },
    {
      "cell_type": "code",
      "metadata": {
        "id": "ffFydElHLPjx"
      },
      "source": [
        "numericas = list(df.select_dtypes(include=['int64', 'float64']).columns)"
      ],
      "execution_count": 73,
      "outputs": []
    },
    {
      "cell_type": "code",
      "metadata": {
        "id": "jgxC2Hz7NvkR",
        "outputId": "a452d8b6-5cf6-4b95-d6e4-2fbe81a73ead",
        "colab": {
          "base_uri": "https://localhost:8080/",
          "height": 300
        }
      },
      "source": [
        "df[numericas].describe()\n"
      ],
      "execution_count": 74,
      "outputs": [
        {
          "output_type": "execute_result",
          "data": {
            "text/plain": [
              "       OSRM estimated distance  delta departure-presentation\n",
              "count            219337.000000                 219337.000000\n",
              "mean               2238.134131                    356.161026\n",
              "std                1591.647524                    228.381939\n",
              "min                   0.800000                      1.000000\n",
              "25%                1221.100000                    231.000000\n",
              "50%                1866.800000                    319.000000\n",
              "75%                2834.600000                    434.000000\n",
              "max               42752.800000                  22722.000000"
            ],
            "text/html": [
              "\n",
              "  <div id=\"df-86d09d5f-3bf4-47ac-958a-7e2bfdb8e534\">\n",
              "    <div class=\"colab-df-container\">\n",
              "      <div>\n",
              "<style scoped>\n",
              "    .dataframe tbody tr th:only-of-type {\n",
              "        vertical-align: middle;\n",
              "    }\n",
              "\n",
              "    .dataframe tbody tr th {\n",
              "        vertical-align: top;\n",
              "    }\n",
              "\n",
              "    .dataframe thead th {\n",
              "        text-align: right;\n",
              "    }\n",
              "</style>\n",
              "<table border=\"1\" class=\"dataframe\">\n",
              "  <thead>\n",
              "    <tr style=\"text-align: right;\">\n",
              "      <th></th>\n",
              "      <th>OSRM estimated distance</th>\n",
              "      <th>delta departure-presentation</th>\n",
              "    </tr>\n",
              "  </thead>\n",
              "  <tbody>\n",
              "    <tr>\n",
              "      <th>count</th>\n",
              "      <td>219337.000000</td>\n",
              "      <td>219337.000000</td>\n",
              "    </tr>\n",
              "    <tr>\n",
              "      <th>mean</th>\n",
              "      <td>2238.134131</td>\n",
              "      <td>356.161026</td>\n",
              "    </tr>\n",
              "    <tr>\n",
              "      <th>std</th>\n",
              "      <td>1591.647524</td>\n",
              "      <td>228.381939</td>\n",
              "    </tr>\n",
              "    <tr>\n",
              "      <th>min</th>\n",
              "      <td>0.800000</td>\n",
              "      <td>1.000000</td>\n",
              "    </tr>\n",
              "    <tr>\n",
              "      <th>25%</th>\n",
              "      <td>1221.100000</td>\n",
              "      <td>231.000000</td>\n",
              "    </tr>\n",
              "    <tr>\n",
              "      <th>50%</th>\n",
              "      <td>1866.800000</td>\n",
              "      <td>319.000000</td>\n",
              "    </tr>\n",
              "    <tr>\n",
              "      <th>75%</th>\n",
              "      <td>2834.600000</td>\n",
              "      <td>434.000000</td>\n",
              "    </tr>\n",
              "    <tr>\n",
              "      <th>max</th>\n",
              "      <td>42752.800000</td>\n",
              "      <td>22722.000000</td>\n",
              "    </tr>\n",
              "  </tbody>\n",
              "</table>\n",
              "</div>\n",
              "      <button class=\"colab-df-convert\" onclick=\"convertToInteractive('df-86d09d5f-3bf4-47ac-958a-7e2bfdb8e534')\"\n",
              "              title=\"Convert this dataframe to an interactive table.\"\n",
              "              style=\"display:none;\">\n",
              "        \n",
              "  <svg xmlns=\"http://www.w3.org/2000/svg\" height=\"24px\"viewBox=\"0 0 24 24\"\n",
              "       width=\"24px\">\n",
              "    <path d=\"M0 0h24v24H0V0z\" fill=\"none\"/>\n",
              "    <path d=\"M18.56 5.44l.94 2.06.94-2.06 2.06-.94-2.06-.94-.94-2.06-.94 2.06-2.06.94zm-11 1L8.5 8.5l.94-2.06 2.06-.94-2.06-.94L8.5 2.5l-.94 2.06-2.06.94zm10 10l.94 2.06.94-2.06 2.06-.94-2.06-.94-.94-2.06-.94 2.06-2.06.94z\"/><path d=\"M17.41 7.96l-1.37-1.37c-.4-.4-.92-.59-1.43-.59-.52 0-1.04.2-1.43.59L10.3 9.45l-7.72 7.72c-.78.78-.78 2.05 0 2.83L4 21.41c.39.39.9.59 1.41.59.51 0 1.02-.2 1.41-.59l7.78-7.78 2.81-2.81c.8-.78.8-2.07 0-2.86zM5.41 20L4 18.59l7.72-7.72 1.47 1.35L5.41 20z\"/>\n",
              "  </svg>\n",
              "      </button>\n",
              "      \n",
              "  <style>\n",
              "    .colab-df-container {\n",
              "      display:flex;\n",
              "      flex-wrap:wrap;\n",
              "      gap: 12px;\n",
              "    }\n",
              "\n",
              "    .colab-df-convert {\n",
              "      background-color: #E8F0FE;\n",
              "      border: none;\n",
              "      border-radius: 50%;\n",
              "      cursor: pointer;\n",
              "      display: none;\n",
              "      fill: #1967D2;\n",
              "      height: 32px;\n",
              "      padding: 0 0 0 0;\n",
              "      width: 32px;\n",
              "    }\n",
              "\n",
              "    .colab-df-convert:hover {\n",
              "      background-color: #E2EBFA;\n",
              "      box-shadow: 0px 1px 2px rgba(60, 64, 67, 0.3), 0px 1px 3px 1px rgba(60, 64, 67, 0.15);\n",
              "      fill: #174EA6;\n",
              "    }\n",
              "\n",
              "    [theme=dark] .colab-df-convert {\n",
              "      background-color: #3B4455;\n",
              "      fill: #D2E3FC;\n",
              "    }\n",
              "\n",
              "    [theme=dark] .colab-df-convert:hover {\n",
              "      background-color: #434B5C;\n",
              "      box-shadow: 0px 1px 3px 1px rgba(0, 0, 0, 0.15);\n",
              "      filter: drop-shadow(0px 1px 2px rgba(0, 0, 0, 0.3));\n",
              "      fill: #FFFFFF;\n",
              "    }\n",
              "  </style>\n",
              "\n",
              "      <script>\n",
              "        const buttonEl =\n",
              "          document.querySelector('#df-86d09d5f-3bf4-47ac-958a-7e2bfdb8e534 button.colab-df-convert');\n",
              "        buttonEl.style.display =\n",
              "          google.colab.kernel.accessAllowed ? 'block' : 'none';\n",
              "\n",
              "        async function convertToInteractive(key) {\n",
              "          const element = document.querySelector('#df-86d09d5f-3bf4-47ac-958a-7e2bfdb8e534');\n",
              "          const dataTable =\n",
              "            await google.colab.kernel.invokeFunction('convertToInteractive',\n",
              "                                                     [key], {});\n",
              "          if (!dataTable) return;\n",
              "\n",
              "          const docLinkHtml = 'Like what you see? Visit the ' +\n",
              "            '<a target=\"_blank\" href=https://colab.research.google.com/notebooks/data_table.ipynb>data table notebook</a>'\n",
              "            + ' to learn more about interactive tables.';\n",
              "          element.innerHTML = '';\n",
              "          dataTable['output_type'] = 'display_data';\n",
              "          await google.colab.output.renderOutput(dataTable, element);\n",
              "          const docLink = document.createElement('div');\n",
              "          docLink.innerHTML = docLinkHtml;\n",
              "          element.appendChild(docLink);\n",
              "        }\n",
              "      </script>\n",
              "    </div>\n",
              "  </div>\n",
              "  "
            ]
          },
          "metadata": {},
          "execution_count": 74
        }
      ]
    },
    {
      "cell_type": "code",
      "metadata": {
        "id": "7RjXEh4LUBmI",
        "outputId": "35501a0c-55ab-4543-8c83-37563ee559a6",
        "colab": {
          "base_uri": "https://localhost:8080/",
          "height": 391
        }
      },
      "source": [
        "sns.pairplot(df[numericas])"
      ],
      "execution_count": 75,
      "outputs": [
        {
          "output_type": "execute_result",
          "data": {
            "text/plain": [
              "<seaborn.axisgrid.PairGrid at 0x7fd3c6f11a10>"
            ]
          },
          "metadata": {},
          "execution_count": 75
        },
        {
          "output_type": "display_data",
          "data": {
            "text/plain": [
              "<Figure size 360x360 with 6 Axes>"
            ],
            "image/png": "[encoded data removed]"
          },
          "metadata": {
            "needs_background": "light"
          }
        }
      ]
    },
    {
      "cell_type": "markdown",
      "metadata": {
        "id": "SSttuGc65BvM"
      },
      "source": [
        "# Exploración de Outliers"
      ]
    },
    {
      "cell_type": "code",
      "metadata": {
        "id": "F7ab9Yox4_jL",
        "outputId": "cb220253-df98-4a0c-a917-a7c9d9334797",
        "colab": {
          "base_uri": "https://localhost:8080/"
        }
      },
      "source": [
        "fig, ax = plt.subplots(1, 2, figsize=(10, 4))\n",
        "for cond, subplot in zip((True, False), ax.flatten()):\n",
        "  sns.boxplot(y=df['delta departure-presentation'], showfliers=cond, ax= subplot)"
      ],
      "execution_count": null,
      "outputs": [
        {
          "output_type": "display_data",
          "data": {
            "text/plain": [
              "<Figure size 720x288 with 2 Axes>"
            ],
            "image/png": "[encoded data removed]"
          },
          "metadata": {
            "needs_background": "light"
          }
        }
      ]
    },
    {
      "cell_type": "markdown",
      "metadata": {
        "id": "T_gjN9zR6uYp"
      },
      "source": [
        "## Identificar \"a ojo\" *outliers*"
      ]
    },
    {
      "cell_type": "code",
      "metadata": {
        "id": "aH_Nryzn60LA",
        "outputId": "93d91052-11aa-4b1b-d84f-f74f8d33dfe1",
        "colab": {
          "base_uri": "https://localhost:8080/"
        }
      },
      "source": [
        "df['delta departure-presentation'].describe()"
      ],
      "execution_count": null,
      "outputs": [
        {
          "output_type": "execute_result",
          "data": {
            "text/plain": [
              "count    219337.000000\n",
              "mean        356.161026\n",
              "std         228.381939\n",
              "min           1.000000\n",
              "25%         231.000000\n",
              "50%         319.000000\n",
              "75%         434.000000\n",
              "max       22722.000000\n",
              "Name: delta departure-presentation, dtype: float64"
            ]
          },
          "metadata": {},
          "execution_count": 52
        }
      ]
    },
    {
      "cell_type": "code",
      "metadata": {
        "id": "DnkO4y426yVH",
        "outputId": "9f512431-a48a-4098-89f5-e4198f7aa349",
        "colab": {
          "base_uri": "https://localhost:8080/"
        }
      },
      "source": [
        "df['delta departure-presentation'].quantile(.975)"
      ],
      "execution_count": 76,
      "outputs": [
        {
          "output_type": "execute_result",
          "data": {
            "text/plain": [
              "806.0"
            ]
          },
          "metadata": {},
          "execution_count": 76
        }
      ]
    },
    {
      "cell_type": "code",
      "metadata": {
        "id": "vHqlX3Lj6UIs"
      },
      "source": [
        "df['outlier'] = 0\n",
        "filtro_out = df['delta departure-presentation'] > df['delta departure-presentation'].quantile(.975)\n",
        "df.loc[filtro_out,'outlier'] = 1"
      ],
      "execution_count": 77,
      "outputs": []
    },
    {
      "cell_type": "code",
      "metadata": {
        "id": "TPundRqO-dBn",
        "outputId": "f2adbf43-1e3b-4090-8aea-0b4f5f41c6e4",
        "colab": {
          "base_uri": "https://localhost:8080/"
        }
      },
      "source": [
        "df['outlier'].value_counts()"
      ],
      "execution_count": 78,
      "outputs": [
        {
          "output_type": "execute_result",
          "data": {
            "text/plain": [
              "0    213857\n",
              "1      5480\n",
              "Name: outlier, dtype: int64"
            ]
          },
          "metadata": {},
          "execution_count": 78
        }
      ]
    },
    {
      "cell_type": "code",
      "metadata": {
        "id": "Lq_psJQF8q9I",
        "outputId": "df5411b6-837a-4ce7-d525-120af67a6877",
        "colab": {
          "base_uri": "https://localhost:8080/",
          "height": 279
        }
      },
      "source": [
        "fig, ax = plt.subplots(1, 3, figsize=(12, 4))\n",
        "for dat, subplot in zip((df, df[-filtro_out], df[filtro_out]), ax.flatten()):\n",
        "  sns.histplot(x='delta departure-presentation', hue='outlier', \n",
        "               data=dat, ax=subplot )\n",
        "plt.show()"
      ],
      "execution_count": 79,
      "outputs": [
        {
          "output_type": "display_data",
          "data": {
            "text/plain": [
              "<Figure size 864x288 with 3 Axes>"
            ],
            "image/png": "[encoded data removed]"
          },
          "metadata": {
            "needs_background": "light"
          }
        }
      ]
    },
    {
      "cell_type": "code",
      "metadata": {
        "id": "d9gCHO8gAfC2",
        "outputId": "b4bde50c-7765-48f7-f6ae-e9c88bbf1f8f",
        "colab": {
          "base_uri": "https://localhost:8080/",
          "height": 407
        }
      },
      "source": [
        "seleccion = ((df['OSRM estimated distance']>20350) & (df['OSRM estimated distance']<20500))\n",
        "df[seleccion].head()"
      ],
      "execution_count": 80,
      "outputs": [
        {
          "output_type": "execute_result",
          "data": {
            "text/plain": [
              "                                     selection time  \\\n",
              "emergency vehicle selection                           \n",
              "4808363                     2018-02-15 10:58:51.493   \n",
              "5320305                     2018-10-25 16:32:40.670   \n",
              "4832811                     2018-02-28 17:44:03.653   \n",
              "\n",
              "                             intervention on public roads  \\\n",
              "emergency vehicle selection                                 \n",
              "4808363                                             False   \n",
              "5320305                                             False   \n",
              "4832811                                             False   \n",
              "\n",
              "                             OSRM estimated distance  rush hour  weekday  \\\n",
              "emergency vehicle selection                                                \n",
              "4808363                                      20451.1      False     True   \n",
              "5320305                                      20373.2       True     True   \n",
              "4832811                                      20420.9       True     True   \n",
              "\n",
              "                             alert reason category_2  alert reason category_3  \\\n",
              "emergency vehicle selection                                                     \n",
              "4808363                                        False                     True   \n",
              "5320305                                        False                    False   \n",
              "4832811                                        False                    False   \n",
              "\n",
              "                             alert reason category_5  alert reason category_6  \\\n",
              "emergency vehicle selection                                                     \n",
              "4808363                                        False                    False   \n",
              "5320305                                        False                    False   \n",
              "4832811                                        False                    False   \n",
              "\n",
              "                             alert reason category_7  ...  \\\n",
              "emergency vehicle selection                           ...   \n",
              "4808363                                        False  ...   \n",
              "5320305                                        False  ...   \n",
              "4832811                                        False  ...   \n",
              "\n",
              "                             emergency vehicle type_VRCH BSPP  \\\n",
              "emergency vehicle selection                                     \n",
              "4808363                                                 False   \n",
              "5320305                                                 False   \n",
              "4832811                                                 False   \n",
              "\n",
              "                             emergency vehicle type_VRCP  \\\n",
              "emergency vehicle selection                                \n",
              "4808363                                            False   \n",
              "5320305                                            False   \n",
              "4832811                                            False   \n",
              "\n",
              "                             emergency vehicle type_VRM  \\\n",
              "emergency vehicle selection                               \n",
              "4808363                                           False   \n",
              "5320305                                           False   \n",
              "4832811                                           False   \n",
              "\n",
              "                             emergency vehicle type_VRSD  \\\n",
              "emergency vehicle selection                                \n",
              "4808363                                            False   \n",
              "5320305                                            False   \n",
              "4832811                                            False   \n",
              "\n",
              "                             emergency vehicle type_VSAV BSPP  \\\n",
              "emergency vehicle selection                                     \n",
              "4808363                                                 False   \n",
              "5320305                                                 False   \n",
              "4832811                                                 False   \n",
              "\n",
              "                             emergency vehicle type_VSIS  \\\n",
              "emergency vehicle selection                                \n",
              "4808363                                            False   \n",
              "5320305                                            False   \n",
              "4832811                                            False   \n",
              "\n",
              "                             emergency vehicle type_VSTI  \\\n",
              "emergency vehicle selection                                \n",
              "4808363                                            False   \n",
              "5320305                                            False   \n",
              "4832811                                            False   \n",
              "\n",
              "                             emergency vehicle type_VTBA  \\\n",
              "emergency vehicle selection                                \n",
              "4808363                                            False   \n",
              "5320305                                            False   \n",
              "4832811                                            False   \n",
              "\n",
              "                             delta departure-presentation  outlier  \n",
              "emergency vehicle selection                                         \n",
              "4808363                                              1171        1  \n",
              "5320305                                               609        0  \n",
              "4832811                                              1571        1  \n",
              "\n",
              "[3 rows x 102 columns]"
            ],
            "text/html": [
              "\n",
              "  <div id=\"df-3f334385-22a6-4d95-8d6e-d6eb92fdbde9\">\n",
              "    <div class=\"colab-df-container\">\n",
              "      <div>\n",
              "<style scoped>\n",
              "    .dataframe tbody tr th:only-of-type {\n",
              "        vertical-align: middle;\n",
              "    }\n",
              "\n",
              "    .dataframe tbody tr th {\n",
              "        vertical-align: top;\n",
              "    }\n",
              "\n",
              "    .dataframe thead th {\n",
              "        text-align: right;\n",
              "    }\n",
              "</style>\n",
              "<table border=\"1\" class=\"dataframe\">\n",
              "  <thead>\n",
              "    <tr style=\"text-align: right;\">\n",
              "      <th></th>\n",
              "      <th>selection time</th>\n",
              "      <th>intervention on public roads</th>\n",
              "      <th>OSRM estimated distance</th>\n",
              "      <th>rush hour</th>\n",
              "      <th>weekday</th>\n",
              "      <th>alert reason category_2</th>\n",
              "      <th>alert reason category_3</th>\n",
              "      <th>alert reason category_5</th>\n",
              "      <th>alert reason category_6</th>\n",
              "      <th>alert reason category_7</th>\n",
              "      <th>...</th>\n",
              "      <th>emergency vehicle type_VRCH BSPP</th>\n",
              "      <th>emergency vehicle type_VRCP</th>\n",
              "      <th>emergency vehicle type_VRM</th>\n",
              "      <th>emergency vehicle type_VRSD</th>\n",
              "      <th>emergency vehicle type_VSAV BSPP</th>\n",
              "      <th>emergency vehicle type_VSIS</th>\n",
              "      <th>emergency vehicle type_VSTI</th>\n",
              "      <th>emergency vehicle type_VTBA</th>\n",
              "      <th>delta departure-presentation</th>\n",
              "      <th>outlier</th>\n",
              "    </tr>\n",
              "    <tr>\n",
              "      <th>emergency vehicle selection</th>\n",
              "      <th></th>\n",
              "      <th></th>\n",
              "      <th></th>\n",
              "      <th></th>\n",
              "      <th></th>\n",
              "      <th></th>\n",
              "      <th></th>\n",
              "      <th></th>\n",
              "      <th></th>\n",
              "      <th></th>\n",
              "      <th></th>\n",
              "      <th></th>\n",
              "      <th></th>\n",
              "      <th></th>\n",
              "      <th></th>\n",
              "      <th></th>\n",
              "      <th></th>\n",
              "      <th></th>\n",
              "      <th></th>\n",
              "      <th></th>\n",
              "      <th></th>\n",
              "    </tr>\n",
              "  </thead>\n",
              "  <tbody>\n",
              "    <tr>\n",
              "      <th>4808363</th>\n",
              "      <td>2018-02-15 10:58:51.493</td>\n",
              "      <td>False</td>\n",
              "      <td>20451.1</td>\n",
              "      <td>False</td>\n",
              "      <td>True</td>\n",
              "      <td>False</td>\n",
              "      <td>True</td>\n",
              "      <td>False</td>\n",
              "      <td>False</td>\n",
              "      <td>False</td>\n",
              "      <td>...</td>\n",
              "      <td>False</td>\n",
              "      <td>False</td>\n",
              "      <td>False</td>\n",
              "      <td>False</td>\n",
              "      <td>False</td>\n",
              "      <td>False</td>\n",
              "      <td>False</td>\n",
              "      <td>False</td>\n",
              "      <td>1171</td>\n",
              "      <td>1</td>\n",
              "    </tr>\n",
              "    <tr>\n",
              "      <th>5320305</th>\n",
              "      <td>2018-10-25 16:32:40.670</td>\n",
              "      <td>False</td>\n",
              "      <td>20373.2</td>\n",
              "      <td>True</td>\n",
              "      <td>True</td>\n",
              "      <td>False</td>\n",
              "      <td>False</td>\n",
              "      <td>False</td>\n",
              "      <td>False</td>\n",
              "      <td>False</td>\n",
              "      <td>...</td>\n",
              "      <td>False</td>\n",
              "      <td>False</td>\n",
              "      <td>False</td>\n",
              "      <td>False</td>\n",
              "      <td>False</td>\n",
              "      <td>False</td>\n",
              "      <td>False</td>\n",
              "      <td>False</td>\n",
              "      <td>609</td>\n",
              "      <td>0</td>\n",
              "    </tr>\n",
              "    <tr>\n",
              "      <th>4832811</th>\n",
              "      <td>2018-02-28 17:44:03.653</td>\n",
              "      <td>False</td>\n",
              "      <td>20420.9</td>\n",
              "      <td>True</td>\n",
              "      <td>True</td>\n",
              "      <td>False</td>\n",
              "      <td>False</td>\n",
              "      <td>False</td>\n",
              "      <td>False</td>\n",
              "      <td>False</td>\n",
              "      <td>...</td>\n",
              "      <td>False</td>\n",
              "      <td>False</td>\n",
              "      <td>False</td>\n",
              "      <td>False</td>\n",
              "      <td>False</td>\n",
              "      <td>False</td>\n",
              "      <td>False</td>\n",
              "      <td>False</td>\n",
              "      <td>1571</td>\n",
              "      <td>1</td>\n",
              "    </tr>\n",
              "  </tbody>\n",
              "</table>\n",
              "<p>3 rows × 102 columns</p>\n",
              "</div>\n",
              "      <button class=\"colab-df-convert\" onclick=\"convertToInteractive('df-3f334385-22a6-4d95-8d6e-d6eb92fdbde9')\"\n",
              "              title=\"Convert this dataframe to an interactive table.\"\n",
              "              style=\"display:none;\">\n",
              "        \n",
              "  <svg xmlns=\"http://www.w3.org/2000/svg\" height=\"24px\"viewBox=\"0 0 24 24\"\n",
              "       width=\"24px\">\n",
              "    <path d=\"M0 0h24v24H0V0z\" fill=\"none\"/>\n",
              "    <path d=\"M18.56 5.44l.94 2.06.94-2.06 2.06-.94-2.06-.94-.94-2.06-.94 2.06-2.06.94zm-11 1L8.5 8.5l.94-2.06 2.06-.94-2.06-.94L8.5 2.5l-.94 2.06-2.06.94zm10 10l.94 2.06.94-2.06 2.06-.94-2.06-.94-.94-2.06-.94 2.06-2.06.94z\"/><path d=\"M17.41 7.96l-1.37-1.37c-.4-.4-.92-.59-1.43-.59-.52 0-1.04.2-1.43.59L10.3 9.45l-7.72 7.72c-.78.78-.78 2.05 0 2.83L4 21.41c.39.39.9.59 1.41.59.51 0 1.02-.2 1.41-.59l7.78-7.78 2.81-2.81c.8-.78.8-2.07 0-2.86zM5.41 20L4 18.59l7.72-7.72 1.47 1.35L5.41 20z\"/>\n",
              "  </svg>\n",
              "      </button>\n",
              "      \n",
              "  <style>\n",
              "    .colab-df-container {\n",
              "      display:flex;\n",
              "      flex-wrap:wrap;\n",
              "      gap: 12px;\n",
              "    }\n",
              "\n",
              "    .colab-df-convert {\n",
              "      background-color: #E8F0FE;\n",
              "      border: none;\n",
              "      border-radius: 50%;\n",
              "      cursor: pointer;\n",
              "      display: none;\n",
              "      fill: #1967D2;\n",
              "      height: 32px;\n",
              "      padding: 0 0 0 0;\n",
              "      width: 32px;\n",
              "    }\n",
              "\n",
              "    .colab-df-convert:hover {\n",
              "      background-color: #E2EBFA;\n",
              "      box-shadow: 0px 1px 2px rgba(60, 64, 67, 0.3), 0px 1px 3px 1px rgba(60, 64, 67, 0.15);\n",
              "      fill: #174EA6;\n",
              "    }\n",
              "\n",
              "    [theme=dark] .colab-df-convert {\n",
              "      background-color: #3B4455;\n",
              "      fill: #D2E3FC;\n",
              "    }\n",
              "\n",
              "    [theme=dark] .colab-df-convert:hover {\n",
              "      background-color: #434B5C;\n",
              "      box-shadow: 0px 1px 3px 1px rgba(0, 0, 0, 0.15);\n",
              "      filter: drop-shadow(0px 1px 2px rgba(0, 0, 0, 0.3));\n",
              "      fill: #FFFFFF;\n",
              "    }\n",
              "  </style>\n",
              "\n",
              "      <script>\n",
              "        const buttonEl =\n",
              "          document.querySelector('#df-3f334385-22a6-4d95-8d6e-d6eb92fdbde9 button.colab-df-convert');\n",
              "        buttonEl.style.display =\n",
              "          google.colab.kernel.accessAllowed ? 'block' : 'none';\n",
              "\n",
              "        async function convertToInteractive(key) {\n",
              "          const element = document.querySelector('#df-3f334385-22a6-4d95-8d6e-d6eb92fdbde9');\n",
              "          const dataTable =\n",
              "            await google.colab.kernel.invokeFunction('convertToInteractive',\n",
              "                                                     [key], {});\n",
              "          if (!dataTable) return;\n",
              "\n",
              "          const docLinkHtml = 'Like what you see? Visit the ' +\n",
              "            '<a target=\"_blank\" href=https://colab.research.google.com/notebooks/data_table.ipynb>data table notebook</a>'\n",
              "            + ' to learn more about interactive tables.';\n",
              "          element.innerHTML = '';\n",
              "          dataTable['output_type'] = 'display_data';\n",
              "          await google.colab.output.renderOutput(dataTable, element);\n",
              "          const docLink = document.createElement('div');\n",
              "          docLink.innerHTML = docLinkHtml;\n",
              "          element.appendChild(docLink);\n",
              "        }\n",
              "      </script>\n",
              "    </div>\n",
              "  </div>\n",
              "  "
            ]
          },
          "metadata": {},
          "execution_count": 80
        }
      ]
    },
    {
      "cell_type": "markdown",
      "source": [
        "Revisa con atención los últimos dos registros mostrados"
      ],
      "metadata": {
        "id": "pH_nRZYI6mOw"
      }
    },
    {
      "cell_type": "markdown",
      "metadata": {
        "id": "6izuZd_4r5Eg"
      },
      "source": [
        "# Comparación Regresión lineal, Regresión robusta"
      ]
    },
    {
      "cell_type": "code",
      "metadata": {
        "id": "0mqksCKSr5Ei"
      },
      "source": [
        "y = df['delta departure-presentation']\n",
        "X = df.drop(['selection time', 'delta departure-presentation', 'outlier'],\n",
        "            axis=1)\n",
        "\n",
        "X_train, X_test, y_train, y_test = train_test_split(X, y, \n",
        "                                                    test_size=0.3, \n",
        "                                                    shuffle=True,\n",
        "                                                    random_state=261)"
      ],
      "execution_count": 81,
      "outputs": []
    },
    {
      "cell_type": "markdown",
      "metadata": {
        "id": "4ROaW5Muliuw"
      },
      "source": [
        "# Guardamos datos preprocesados"
      ]
    },
    {
      "cell_type": "code",
      "metadata": {
        "id": "N6LPxROMkg9e",
        "colab": {
          "base_uri": "https://localhost:8080/"
        },
        "outputId": "751a5396-9571-4e58-91bf-8778de482181"
      },
      "source": [
        "df_preprocesado = pd.concat([X,y], axis=1)\n",
        "#comprobamos dimensiones\n",
        "X.shape,    y.shape,   df_preprocesado.shape"
      ],
      "execution_count": null,
      "outputs": [
        {
          "output_type": "execute_result",
          "data": {
            "text/plain": [
              "((219337, 67), (219337,), (219337, 68))"
            ]
          },
          "metadata": {},
          "execution_count": 59
        }
      ]
    },
    {
      "cell_type": "code",
      "metadata": {
        "id": "EmZQXZAllCV8",
        "outputId": "c888e1ec-f254-442a-d42a-022f738d7650",
        "colab": {
          "base_uri": "https://localhost:8080/",
          "height": 166
        }
      },
      "source": [
        "df_preprocesado.to_csv('/content/drive/MyDrive/Datos/ParisFireBrigade/Output/df_selec.csv')"
      ],
      "execution_count": 82,
      "outputs": [
        {
          "output_type": "error",
          "ename": "NameError",
          "evalue": "ignored",
          "traceback": [
            "\u001b[0;31m---------------------------------------------------------------------------\u001b[0m",
            "\u001b[0;31mNameError\u001b[0m                                 Traceback (most recent call last)",
            "\u001b[0;32m<ipython-input-82-b14c4363642d>\u001b[0m in \u001b[0;36m<module>\u001b[0;34m()\u001b[0m\n\u001b[0;32m----> 1\u001b[0;31m \u001b[0mdf_preprocesado\u001b[0m\u001b[0;34m.\u001b[0m\u001b[0mto_csv\u001b[0m\u001b[0;34m(\u001b[0m\u001b[0;34m'/content/drive/MyDrive/Datos/ParisFireBrigade/Output/df_selec.csv'\u001b[0m\u001b[0;34m)\u001b[0m\u001b[0;34m\u001b[0m\u001b[0;34m\u001b[0m\u001b[0m\n\u001b[0m",
            "\u001b[0;31mNameError\u001b[0m: name 'df_preprocesado' is not defined"
          ]
        }
      ]
    },
    {
      "cell_type": "code",
      "metadata": {
        "id": "eRDZh5-R5ET5",
        "colab": {
          "base_uri": "https://localhost:8080/"
        },
        "outputId": "5056ace3-e243-4ae3-a0cc-7be1919d68ce"
      },
      "source": [
        "# ¿Cómo son los conjuntos de entrenamiento y prueba?\n",
        "print(\"Conjunto de entrenamiento\")\n",
        "print(\"X: \", X_train.shape)\n",
        "print(\"y: \", y_train.shape)\n",
        "\n",
        "print(\"Conjunto de prueba\")\n",
        "print(\"X: \", X_test.shape)\n",
        "print(\"y: \", y_test.shape)"
      ],
      "execution_count": 83,
      "outputs": [
        {
          "output_type": "stream",
          "name": "stdout",
          "text": [
            "Conjunto de entrenamiento\n",
            "X:  (153535, 99)\n",
            "y:  (153535,)\n",
            "Conjunto de prueba\n",
            "X:  (65802, 99)\n",
            "y:  (65802,)\n"
          ]
        }
      ]
    },
    {
      "cell_type": "markdown",
      "metadata": {
        "id": "0UCDSsULUFZ3"
      },
      "source": [
        "## Regresión Lineal"
      ]
    },
    {
      "cell_type": "code",
      "metadata": {
        "id": "KhZWHOuFr5En",
        "colab": {
          "base_uri": "https://localhost:8080/"
        },
        "outputId": "e5bc2114-f4be-4fc5-cc07-549054f2a072"
      },
      "source": [
        "lr = LinearRegression().fit(X_train, y_train)\n",
        "\n",
        "y_pred = lr.predict(X_test)\n",
        "\n",
        "error_medio_absoluto = np.mean(np.absolute(y_test - y_pred ))\n",
        "error_medio_absoluto"
      ],
      "execution_count": 84,
      "outputs": [
        {
          "output_type": "execute_result",
          "data": {
            "text/plain": [
              "107.27447165551021"
            ]
          },
          "metadata": {},
          "execution_count": 84
        }
      ]
    },
    {
      "cell_type": "code",
      "metadata": {
        "id": "qBWhR4-CVHed",
        "colab": {
          "base_uri": "https://localhost:8080/"
        },
        "outputId": "5d612af9-b8c2-417f-ee69-5f8a7081a21f"
      },
      "source": [
        "metrics.mean_absolute_error(y_test, y_pred)"
      ],
      "execution_count": 85,
      "outputs": [
        {
          "output_type": "execute_result",
          "data": {
            "text/plain": [
              "107.27447165551114"
            ]
          },
          "metadata": {},
          "execution_count": 85
        }
      ]
    },
    {
      "cell_type": "code",
      "metadata": {
        "id": "RQyu3A4aTPOg",
        "colab": {
          "base_uri": "https://localhost:8080/"
        },
        "outputId": "0b355c30-1269-4589-ec34-e4637cbe4387"
      },
      "source": [
        "lr.coef_"
      ],
      "execution_count": 86,
      "outputs": [
        {
          "output_type": "execute_result",
          "data": {
            "text/plain": [
              "array([-3.65388456e+00,  6.44550099e-02,  2.00864375e+01,  1.19513439e+01,\n",
              "       -1.58187454e+01, -1.42500819e-01,  3.12698170e+01,  3.84590989e+01,\n",
              "        6.30644116e+01,  1.83170362e+01,  1.69469507e+01, -1.55502176e+00,\n",
              "        9.92302397e+00,  6.67905865e+01,  2.50489344e+01,  1.06785552e+01,\n",
              "       -4.55247369e+00, -6.22515900e+01,  1.51582230e+01,  1.13271256e+01,\n",
              "        1.55417689e+01, -1.09265313e+01, -1.15083395e+01,  9.61595287e-01,\n",
              "       -1.52249092e+01,  4.38727729e+00,  8.07844385e+00,  1.07656102e+02,\n",
              "        1.48772549e+02,  5.63834419e+02,  4.03323934e+01, -2.68381856e+01,\n",
              "       -1.88936812e+01, -1.83453712e+01,  1.35934560e+01,  1.42429810e+01,\n",
              "        1.81688961e+00,  4.07021501e+00, -1.42091890e+01, -1.23419223e+01,\n",
              "       -2.46596865e+01,  5.59156678e+01,  3.66495772e+02, -2.41842820e+01,\n",
              "       -3.53375210e+01, -7.58511335e+00, -3.80617877e+01, -2.42304128e+01,\n",
              "       -3.63011609e+01, -4.12491271e+01, -3.69952473e+01, -3.71135053e+01,\n",
              "        1.33682391e+02,  8.46004442e+02,  6.05554787e+02,  1.20613464e+02,\n",
              "        1.55645722e+02,  1.43701777e+02,  2.62693792e+02, -9.52931426e+01,\n",
              "       -3.91554497e+01,  2.19880245e+00,  3.02497451e+01, -3.07092859e+01,\n",
              "        7.96035086e+01,  1.57581173e+03, -1.34149648e+02, -3.15863864e+01,\n",
              "        6.08629866e+02,  2.93324394e+00, -8.68380554e+00,  5.04785733e+01,\n",
              "       -5.03978989e+01, -1.43584474e+01, -3.17438939e+01,  4.09516302e+02,\n",
              "        3.36389592e+01,  7.99646514e+01, -2.53239495e+02,  6.23783615e+02,\n",
              "        4.24398429e+02, -3.31931377e+02, -2.23394532e+02, -4.44474911e+02,\n",
              "        2.61658846e+02,  2.65092051e+02, -2.36185453e+02,  1.45410637e+01,\n",
              "        9.33084802e+00,  1.96689304e+02, -3.68924754e+02, -2.20246279e+02,\n",
              "        4.96648973e+03,  4.35482569e+03, -1.49675189e+02,  1.43524017e+01,\n",
              "       -1.88308605e+02,  5.76890547e+02,  6.18766264e+03])"
            ]
          },
          "metadata": {},
          "execution_count": 86
        }
      ]
    },
    {
      "cell_type": "code",
      "metadata": {
        "id": "HScsM1eIbvpf",
        "colab": {
          "base_uri": "https://localhost:8080/"
        },
        "outputId": "ac505c56-d617-4060-9f8b-a20ff09530c1"
      },
      "source": [
        "lr.intercept_"
      ],
      "execution_count": 87,
      "outputs": [
        {
          "output_type": "execute_result",
          "data": {
            "text/plain": [
              "178.0887705338975"
            ]
          },
          "metadata": {},
          "execution_count": 87
        }
      ]
    },
    {
      "cell_type": "code",
      "metadata": {
        "id": "bW04WKoccBBf",
        "colab": {
          "base_uri": "https://localhost:8080/"
        },
        "outputId": "64ee5097-8117-4973-a150-7c278ede549e"
      },
      "source": [
        "#calculamos los errores\n",
        "errores = (np.array(y_test) - y_pred)\n",
        "len(errores)"
      ],
      "execution_count": 88,
      "outputs": [
        {
          "output_type": "execute_result",
          "data": {
            "text/plain": [
              "65802"
            ]
          },
          "metadata": {},
          "execution_count": 88
        }
      ]
    },
    {
      "cell_type": "code",
      "metadata": {
        "id": "M3rf0xkMbsVm",
        "colab": {
          "base_uri": "https://localhost:8080/"
        },
        "outputId": "f6f2e8c3-afb6-4899-d41a-450e7ff78d89"
      },
      "source": [
        "#una de las hipotesis de la regresión es que los errores son\n",
        "#independientes  entre sí, teniendo una distribución normal\n",
        "\n",
        "media = np.mean(y_test - y_pred)           \n",
        "des_est = np.sqrt(np.var(y_test - y_pred))\n",
        "\n",
        "media,des_est"
      ],
      "execution_count": 89,
      "outputs": [
        {
          "output_type": "execute_result",
          "data": {
            "text/plain": [
              "(1.434295460793739, 204.47875129553984)"
            ]
          },
          "metadata": {},
          "execution_count": 89
        }
      ]
    },
    {
      "cell_type": "markdown",
      "metadata": {
        "id": "3LQFPOd3ebwY"
      },
      "source": [
        "### Comparación de los errores empirícos con una la distribución normal"
      ]
    },
    {
      "cell_type": "code",
      "metadata": {
        "id": "E7tCLD8gdqA2",
        "colab": {
          "base_uri": "https://localhost:8080/",
          "height": 265
        },
        "outputId": "80a21b82-b2d0-474e-a46d-0572a0b28faf"
      },
      "source": [
        "# Comparación de la distribución teórica(normal) y empirica de los errores\n",
        "\n",
        "# Se elige una submuestra (%0.5) con el propósito de obtener una mejor visualización\n",
        "errores_empiricos = np.random.choice(errores, 660)\n",
        "\n",
        "# Se obtienen 329 valores a partir de la distribución normal (teorica) usando la media\n",
        "# y la desviación de los errores\n",
        "errores_teoricos = np.random.normal(media, des_est, 660)\n",
        "\n",
        "# Comparamos las gráficas de ambas distribuciones\n",
        "\n",
        "fig, ax = plt.subplots(1, 2, figsize=(8, 4), sharey='all')\n",
        "for dat, subplot in zip((errores_teoricos, errores_empiricos), ax.flatten()):\n",
        "  sns.histplot(x=dat, ax=subplot, kde=True, )\n",
        "  \n",
        "plt.show()"
      ],
      "execution_count": 90,
      "outputs": [
        {
          "output_type": "display_data",
          "data": {
            "text/plain": [
              "<Figure size 576x288 with 2 Axes>"
            ],
            "image/png": "[encoded data removed]"
          },
          "metadata": {
            "needs_background": "light"
          }
        }
      ]
    },
    {
      "cell_type": "markdown",
      "metadata": {
        "id": "0XVgYd-JHXDQ"
      },
      "source": [
        "### Calculo de [$R^2$](https://docs.google.com/presentation/d/1k0aYwEBzaaAkWjX6jRKAc40nKHi3FROkJwtXCOE22mI/edit#slide=id.ga8926b2cd2_0_14) \n",
        "\n",
        "$MSE = \\cfrac{1}{n}\\sum{( y - y_{pred})}^2$\n",
        "\n",
        " $R^2 \t= 1 -  \\cfrac{MSE(modelo)}{MSE(linea~base)}$\n"
      ]
    },
    {
      "cell_type": "code",
      "metadata": {
        "id": "8eu61F_BHuq6",
        "colab": {
          "base_uri": "https://localhost:8080/"
        },
        "outputId": "a857bffe-6f09-469a-bbc1-649295ed78b4"
      },
      "source": [
        "# Error cuadrado medio (MSE) linea base (promedio de las etiquetas)\n",
        "\n",
        "errores_lb = y_test - y_test.mean()\n",
        "MSE_base = pow(errores_lb,2).sum()/len(errores_lb)\n",
        "MSE_base"
      ],
      "execution_count": null,
      "outputs": [
        {
          "output_type": "execute_result",
          "data": {
            "text/plain": [
              "52114.94299180111"
            ]
          },
          "metadata": {},
          "execution_count": 69
        }
      ]
    },
    {
      "cell_type": "code",
      "metadata": {
        "id": "yNfbrWo3JqZM",
        "colab": {
          "base_uri": "https://localhost:8080/"
        },
        "outputId": "31c3659f-b438-4383-c45d-ea715b6bbe02"
      },
      "source": [
        "#Error cuadrado medio (MSE) modelo\n",
        "errores = y_test - y_pred\n",
        "\n",
        "MSE_modelo = pow(errores,2).sum()/len(errores)\n",
        "MSE_modelo"
      ],
      "execution_count": null,
      "outputs": [
        {
          "output_type": "execute_result",
          "data": {
            "text/plain": [
              "41878.715829462155"
            ]
          },
          "metadata": {},
          "execution_count": 70
        }
      ]
    },
    {
      "cell_type": "code",
      "metadata": {
        "id": "_uWhF8uAABtr",
        "colab": {
          "base_uri": "https://localhost:8080/"
        },
        "outputId": "315e1840-46d3-43d0-8780-9c4c7cbc37b5"
      },
      "source": [
        "R2 = 1 - MSE_modelo/MSE_base #¿cuánto mejora la predicción nuestro modelo?\n",
        "R2"
      ],
      "execution_count": null,
      "outputs": [
        {
          "output_type": "execute_result",
          "data": {
            "text/plain": [
              "0.19641635536182678"
            ]
          },
          "metadata": {},
          "execution_count": 71
        }
      ]
    },
    {
      "cell_type": "code",
      "metadata": {
        "id": "WYi90tlAhh0Y",
        "colab": {
          "base_uri": "https://localhost:8080/"
        },
        "outputId": "5e62595d-f19f-44be-c2c5-48b614b0ee48"
      },
      "source": [
        "R2 = 1 - MSE_base/MSE_base\n",
        "R2"
      ],
      "execution_count": null,
      "outputs": [
        {
          "output_type": "execute_result",
          "data": {
            "text/plain": [
              "0.0"
            ]
          },
          "metadata": {},
          "execution_count": 72
        }
      ]
    },
    {
      "cell_type": "code",
      "metadata": {
        "id": "SKxn3nyXQyDp"
      },
      "source": [
        "def R_cuadrada(val_obs, val_pred):\n",
        "  errores_lb = val_obs - val_obs.mean()\n",
        "  errores_m = val_obs - val_pred\n",
        "  MSE_base = pow(errores_lb,2).sum()/len(errores_lb)\n",
        "  MSE_modelo = pow(errores,2).sum()/len(errores)\n",
        "  R2 = 1 - MSE_modelo/MSE_base\n",
        "  return R2"
      ],
      "execution_count": null,
      "outputs": []
    },
    {
      "cell_type": "code",
      "metadata": {
        "id": "UkB-l9rbQ2Te",
        "colab": {
          "base_uri": "https://localhost:8080/"
        },
        "outputId": "93e503da-c9e6-446a-9044-56b80622a575"
      },
      "source": [
        "R_cuadrada(y_test, y_pred)"
      ],
      "execution_count": null,
      "outputs": [
        {
          "output_type": "execute_result",
          "data": {
            "text/plain": [
              "0.19641635536182678"
            ]
          },
          "metadata": {},
          "execution_count": 74
        }
      ]
    },
    {
      "cell_type": "code",
      "metadata": {
        "id": "ZGGwZw9mLz7i",
        "colab": {
          "base_uri": "https://localhost:8080/"
        },
        "outputId": "2de586e9-d43e-4ebe-8dcf-06d8cc3d48d7"
      },
      "source": [
        "metrics.r2_score(y_test, y_pred)"
      ],
      "execution_count": null,
      "outputs": [
        {
          "output_type": "execute_result",
          "data": {
            "text/plain": [
              "0.1964163553618269"
            ]
          },
          "metadata": {},
          "execution_count": 75
        }
      ]
    },
    {
      "cell_type": "markdown",
      "metadata": {
        "id": "rBg1H4OEUXV7"
      },
      "source": [
        "## Regresión Robusta"
      ]
    },
    {
      "cell_type": "code",
      "metadata": {
        "id": "Fw-RzJdaDquX",
        "colab": {
          "base_uri": "https://localhost:8080/"
        },
        "outputId": "b88d5663-c547-4011-fc5e-fb48f98c1c02"
      },
      "source": [
        "hr = HuberRegressor(epsilon=1.35,   max_iter=1000,  alpha=0,  warm_start=False, \n",
        "                    fit_intercept=True, tol=1e-05)\n",
        "hr = hr.fit(X_train, y_train)\n",
        "y_pred = hr.predict(X_test)\n",
        "\n",
        "print(metrics.mean_absolute_error(y_test, y_pred))\n",
        "print('MAE:', metrics.mean_absolute_error(y_test, y_pred))"
      ],
      "execution_count": 91,
      "outputs": [
        {
          "output_type": "stream",
          "name": "stdout",
          "text": [
            "104.25528063960148\n",
            "MAE: 104.25528063960148\n"
          ]
        }
      ]
    },
    {
      "cell_type": "code",
      "metadata": {
        "id": "OvnUVBW9TWzj",
        "colab": {
          "base_uri": "https://localhost:8080/"
        },
        "outputId": "549fcf07-0e70-4b1a-cb98-75346d666259"
      },
      "source": [
        "hr.coef_"
      ],
      "execution_count": 92,
      "outputs": [
        {
          "output_type": "execute_result",
          "data": {
            "text/plain": [
              "array([-4.61605241e+00,  6.99380575e-02,  2.24108946e+01,  4.66153589e+00,\n",
              "       -2.82302053e+00, -1.12475424e+01,  6.93350986e+00,  4.56426109e+01,\n",
              "        1.45422942e+01,  8.02164025e-01,  2.14059793e+01,  9.41157157e+00,\n",
              "        4.59683559e+00,  7.30982475e-01,  3.68638189e+00,  1.07953040e+00,\n",
              "        2.67981899e+00, -2.73956352e+01,  1.56840144e+01,  1.62837540e+01,\n",
              "        1.73719284e+01,  1.29013455e+00, -6.49817555e-01,  4.73034452e+00,\n",
              "       -7.21770339e-01,  2.89834241e+00,  1.93773137e+00,  3.68873086e-01,\n",
              "        1.11801063e-01,  2.67139073e-01, -2.30032991e-02, -6.14522161e-01,\n",
              "       -2.57706522e+00, -9.38889051e-01,  3.14591252e+00,  1.13907816e+00,\n",
              "        1.62955857e+00,  1.18242013e+00, -1.63675587e+00, -1.66899416e+00,\n",
              "       -2.00517709e+00,  4.96237971e-01,  4.84813787e-02, -4.72181371e-01,\n",
              "       -7.93925076e+00,  1.10365083e-01, -6.04622447e-01,  1.09825077e-02,\n",
              "       -6.97153327e-01, -1.28407553e+00, -2.56306443e+00, -3.30498606e-01,\n",
              "        1.65507178e-01,  7.99100376e-02,  4.13767953e-02, -6.06170337e-03,\n",
              "       -6.98602956e-02,  9.71225089e-02,  1.53872296e-01, -1.79592795e+00,\n",
              "       -1.13951200e+01,  1.51101427e+00,  1.23295837e+01, -1.41965230e-01,\n",
              "        7.77790302e-02,  8.01244270e-02, -5.92835108e+00, -7.98913125e+00,\n",
              "        2.15952382e-01,  6.15172660e+00,  1.93068446e+00,  2.56038592e+01,\n",
              "       -1.09133322e+00, -2.63311993e+00, -4.51331442e-01,  1.21400408e+00,\n",
              "        3.64197108e+01,  2.16484347e-01, -4.22414351e-01,  3.87476317e-02,\n",
              "        7.74782740e-02, -1.65507180e-01, -1.29181371e+00, -1.56156585e-01,\n",
              "        1.46178078e+01,  3.56856348e-02, -4.92432407e-01,  1.57749274e-01,\n",
              "        1.83331946e+01,  3.24540828e+00, -2.04041114e+00, -1.55396636e+00,\n",
              "       -8.27535811e-02,  1.24130386e-01, -4.45170003e-01,  1.72688642e+01,\n",
              "       -1.89020738e-01,  4.13767985e-02,  4.13767953e-02])"
            ]
          },
          "metadata": {},
          "execution_count": 92
        }
      ]
    },
    {
      "cell_type": "code",
      "metadata": {
        "id": "_ox61AcR41BW",
        "colab": {
          "base_uri": "https://localhost:8080/",
          "height": 655
        },
        "outputId": "b4e5fbfa-d889-49e3-a727-df33f8ef55fa"
      },
      "source": [
        "coeficientes_hr = pd.DataFrame({'coef':hr.coef_, 'variable':list(X.columns)})\n",
        "coeficientes_hr.sort_values('coef').reset_index(drop=True)"
      ],
      "execution_count": 93,
      "outputs": [
        {
          "output_type": "execute_result",
          "data": {
            "text/plain": [
              "         coef                     variable\n",
              "0  -27.395635  location of the event_131.0\n",
              "1  -11.395120  location of the event_325.0\n",
              "2  -11.247542      alert reason category_3\n",
              "3   -7.989131   emergency vehicle type_CRF\n",
              "4   -7.939251  location of the event_259.0\n",
              "..        ...                          ...\n",
              "94  21.405979      alert reason category_9\n",
              "95  22.410895                    rush hour\n",
              "96  25.603859    emergency vehicle type_FA\n",
              "97  36.419711   emergency vehicle type_PSE\n",
              "98  45.642611      alert reason category_6\n",
              "\n",
              "[99 rows x 2 columns]"
            ],
            "text/html": [
              "\n",
              "  <div id=\"df-497de27e-5d46-4060-9778-fbd4453f33f3\">\n",
              "    <div class=\"colab-df-container\">\n",
              "      <div>\n",
              "<style scoped>\n",
              "    .dataframe tbody tr th:only-of-type {\n",
              "        vertical-align: middle;\n",
              "    }\n",
              "\n",
              "    .dataframe tbody tr th {\n",
              "        vertical-align: top;\n",
              "    }\n",
              "\n",
              "    .dataframe thead th {\n",
              "        text-align: right;\n",
              "    }\n",
              "</style>\n",
              "<table border=\"1\" class=\"dataframe\">\n",
              "  <thead>\n",
              "    <tr style=\"text-align: right;\">\n",
              "      <th></th>\n",
              "      <th>coef</th>\n",
              "      <th>variable</th>\n",
              "    </tr>\n",
              "  </thead>\n",
              "  <tbody>\n",
              "    <tr>\n",
              "      <th>0</th>\n",
              "      <td>-27.395635</td>\n",
              "      <td>location of the event_131.0</td>\n",
              "    </tr>\n",
              "    <tr>\n",
              "      <th>1</th>\n",
              "      <td>-11.395120</td>\n",
              "      <td>location of the event_325.0</td>\n",
              "    </tr>\n",
              "    <tr>\n",
              "      <th>2</th>\n",
              "      <td>-11.247542</td>\n",
              "      <td>alert reason category_3</td>\n",
              "    </tr>\n",
              "    <tr>\n",
              "      <th>3</th>\n",
              "      <td>-7.989131</td>\n",
              "      <td>emergency vehicle type_CRF</td>\n",
              "    </tr>\n",
              "    <tr>\n",
              "      <th>4</th>\n",
              "      <td>-7.939251</td>\n",
              "      <td>location of the event_259.0</td>\n",
              "    </tr>\n",
              "    <tr>\n",
              "      <th>...</th>\n",
              "      <td>...</td>\n",
              "      <td>...</td>\n",
              "    </tr>\n",
              "    <tr>\n",
              "      <th>94</th>\n",
              "      <td>21.405979</td>\n",
              "      <td>alert reason category_9</td>\n",
              "    </tr>\n",
              "    <tr>\n",
              "      <th>95</th>\n",
              "      <td>22.410895</td>\n",
              "      <td>rush hour</td>\n",
              "    </tr>\n",
              "    <tr>\n",
              "      <th>96</th>\n",
              "      <td>25.603859</td>\n",
              "      <td>emergency vehicle type_FA</td>\n",
              "    </tr>\n",
              "    <tr>\n",
              "      <th>97</th>\n",
              "      <td>36.419711</td>\n",
              "      <td>emergency vehicle type_PSE</td>\n",
              "    </tr>\n",
              "    <tr>\n",
              "      <th>98</th>\n",
              "      <td>45.642611</td>\n",
              "      <td>alert reason category_6</td>\n",
              "    </tr>\n",
              "  </tbody>\n",
              "</table>\n",
              "<p>99 rows × 2 columns</p>\n",
              "</div>\n",
              "      <button class=\"colab-df-convert\" onclick=\"convertToInteractive('df-497de27e-5d46-4060-9778-fbd4453f33f3')\"\n",
              "              title=\"Convert this dataframe to an interactive table.\"\n",
              "              style=\"display:none;\">\n",
              "        \n",
              "  <svg xmlns=\"http://www.w3.org/2000/svg\" height=\"24px\"viewBox=\"0 0 24 24\"\n",
              "       width=\"24px\">\n",
              "    <path d=\"M0 0h24v24H0V0z\" fill=\"none\"/>\n",
              "    <path d=\"M18.56 5.44l.94 2.06.94-2.06 2.06-.94-2.06-.94-.94-2.06-.94 2.06-2.06.94zm-11 1L8.5 8.5l.94-2.06 2.06-.94-2.06-.94L8.5 2.5l-.94 2.06-2.06.94zm10 10l.94 2.06.94-2.06 2.06-.94-2.06-.94-.94-2.06-.94 2.06-2.06.94z\"/><path d=\"M17.41 7.96l-1.37-1.37c-.4-.4-.92-.59-1.43-.59-.52 0-1.04.2-1.43.59L10.3 9.45l-7.72 7.72c-.78.78-.78 2.05 0 2.83L4 21.41c.39.39.9.59 1.41.59.51 0 1.02-.2 1.41-.59l7.78-7.78 2.81-2.81c.8-.78.8-2.07 0-2.86zM5.41 20L4 18.59l7.72-7.72 1.47 1.35L5.41 20z\"/>\n",
              "  </svg>\n",
              "      </button>\n",
              "      \n",
              "  <style>\n",
              "    .colab-df-container {\n",
              "      display:flex;\n",
              "      flex-wrap:wrap;\n",
              "      gap: 12px;\n",
              "    }\n",
              "\n",
              "    .colab-df-convert {\n",
              "      background-color: #E8F0FE;\n",
              "      border: none;\n",
              "      border-radius: 50%;\n",
              "      cursor: pointer;\n",
              "      display: none;\n",
              "      fill: #1967D2;\n",
              "      height: 32px;\n",
              "      padding: 0 0 0 0;\n",
              "      width: 32px;\n",
              "    }\n",
              "\n",
              "    .colab-df-convert:hover {\n",
              "      background-color: #E2EBFA;\n",
              "      box-shadow: 0px 1px 2px rgba(60, 64, 67, 0.3), 0px 1px 3px 1px rgba(60, 64, 67, 0.15);\n",
              "      fill: #174EA6;\n",
              "    }\n",
              "\n",
              "    [theme=dark] .colab-df-convert {\n",
              "      background-color: #3B4455;\n",
              "      fill: #D2E3FC;\n",
              "    }\n",
              "\n",
              "    [theme=dark] .colab-df-convert:hover {\n",
              "      background-color: #434B5C;\n",
              "      box-shadow: 0px 1px 3px 1px rgba(0, 0, 0, 0.15);\n",
              "      filter: drop-shadow(0px 1px 2px rgba(0, 0, 0, 0.3));\n",
              "      fill: #FFFFFF;\n",
              "    }\n",
              "  </style>\n",
              "\n",
              "      <script>\n",
              "        const buttonEl =\n",
              "          document.querySelector('#df-497de27e-5d46-4060-9778-fbd4453f33f3 button.colab-df-convert');\n",
              "        buttonEl.style.display =\n",
              "          google.colab.kernel.accessAllowed ? 'block' : 'none';\n",
              "\n",
              "        async function convertToInteractive(key) {\n",
              "          const element = document.querySelector('#df-497de27e-5d46-4060-9778-fbd4453f33f3');\n",
              "          const dataTable =\n",
              "            await google.colab.kernel.invokeFunction('convertToInteractive',\n",
              "                                                     [key], {});\n",
              "          if (!dataTable) return;\n",
              "\n",
              "          const docLinkHtml = 'Like what you see? Visit the ' +\n",
              "            '<a target=\"_blank\" href=https://colab.research.google.com/notebooks/data_table.ipynb>data table notebook</a>'\n",
              "            + ' to learn more about interactive tables.';\n",
              "          element.innerHTML = '';\n",
              "          dataTable['output_type'] = 'display_data';\n",
              "          await google.colab.output.renderOutput(dataTable, element);\n",
              "          const docLink = document.createElement('div');\n",
              "          docLink.innerHTML = docLinkHtml;\n",
              "          element.appendChild(docLink);\n",
              "        }\n",
              "      </script>\n",
              "    </div>\n",
              "  </div>\n",
              "  "
            ]
          },
          "metadata": {},
          "execution_count": 93
        }
      ]
    },
    {
      "cell_type": "markdown",
      "metadata": {
        "id": "FBYTHnDLoMkg"
      },
      "source": [
        "# Estandarizar valores para comparar importancia de variables"
      ]
    },
    {
      "cell_type": "code",
      "metadata": {
        "id": "pdfXjtP9oZ8B"
      },
      "source": [
        "from sklearn.preprocessing import StandardScaler"
      ],
      "execution_count": 94,
      "outputs": []
    },
    {
      "cell_type": "code",
      "metadata": {
        "id": "RZf7mBFTT1Jw"
      },
      "source": [
        "X_estandarizados=X.copy()\n",
        "columnas = X.columns\n",
        "\n",
        "scaler = StandardScaler()\n",
        "\n",
        "X_estandarizados[columnas] = scaler.fit_transform(X[columnas])"
      ],
      "execution_count": 95,
      "outputs": []
    },
    {
      "cell_type": "code",
      "metadata": {
        "id": "1DWtw747Txkg"
      },
      "source": [
        "\n",
        "X_train, X_test, y_train, y_test = train_test_split(X_estandarizados, y, test_size=0.3, \n",
        "                                                    shuffle=True, random_state=261)"
      ],
      "execution_count": 96,
      "outputs": []
    },
    {
      "cell_type": "code",
      "metadata": {
        "id": "ABQMy7uLTxku"
      },
      "source": [
        "hr_st = HuberRegressor( epsilon=1.35,   max_iter=1000,  alpha=0,  warm_start=False, \n",
        "                    fit_intercept=True, tol=1e-05)\n",
        "hr_st = hr.fit(X_train, y_train)"
      ],
      "execution_count": 97,
      "outputs": []
    },
    {
      "cell_type": "code",
      "metadata": {
        "id": "2_aGNzUTTxkx",
        "colab": {
          "base_uri": "https://localhost:8080/"
        },
        "outputId": "d8589609-cc59-430e-9fdc-554e597da218"
      },
      "source": [
        "coeficientes_hr_st = pd.Series(hr_st.coef_, index= columnas)\n",
        "\n",
        "coeficientes_hr_st.sort_values().head(20)"
      ],
      "execution_count": 99,
      "outputs": [
        {
          "output_type": "execute_result",
          "data": {
            "text/plain": [
              "location of the event_131.0        -10.775375\n",
              "emergency vehicle type_VRA          -8.509110\n",
              "emergency vehicle type_CRAC         -8.311519\n",
              "emergency vehicle type_VRCH BSPP    -6.237783\n",
              "alert reason category_3             -5.353413\n",
              "emergency vehicle type_VE2I         -4.926458\n",
              "alert reason category_2             -3.980656\n",
              "location of the event_148.0         -3.903861\n",
              "location of the event_325.0         -3.671770\n",
              "emergency vehicle type_UMH 93       -3.525127\n",
              "emergency vehicle type_SP           -3.298943\n",
              "emergency vehicle type_CRF          -3.123978\n",
              "location of the event_259.0         -2.888283\n",
              "emergency vehicle type_VEC          -2.772787\n",
              "location of the event_322.0         -2.596223\n",
              "emergency vehicle type_VIMP         -2.564743\n",
              "emergency vehicle type_VRCP         -2.251286\n",
              "emergency vehicle type_VRSD         -2.156971\n",
              "emergency vehicle type_VSIS         -2.022180\n",
              "location of the event_196.0         -1.677141\n",
              "dtype: float64"
            ]
          },
          "metadata": {},
          "execution_count": 99
        }
      ]
    },
    {
      "cell_type": "markdown",
      "source": [
        "# Referencias\n",
        "\n",
        "* García, S., Luengo, J., & Herrera, F. (2015). Data Preprocessing in Data Mining. Intelligent Systems Reference Library. doi:10.1007/978-3-319-10247-4\n",
        "\n",
        "\n",
        "* Hawkins, D. M. (1980). Identification of Outliers. Springer Netherlands. https://doi.org/10.1007/978-94-015-3994-4\n",
        "\n",
        "\n",
        "* McDonald, A. (2021, septiembre 8). Using the missingno Python library to Identify and Visualise Missing Data Prior to Machine Learning. Medium. https://towardsdatascience.com/using-the-missingno-python-library-to-identify-and-visualise-missing-data-prior-to-machine-learning-34c8c5b5f009\n",
        "\n",
        "* Chandrashekar, G., & Sahin, F. (2014). A survey on feature selection methods. Computers & Electrical Engineering, 40(1), 16-28. https://doi.org/10.1016/j.compeleceng.2013.11.024\n",
        "\n",
        "\n",
        ".\n",
        "\n",
        "\n"
      ],
      "metadata": {
        "id": "GA0U_8bmV0IU"
      }
    }
  ]
}