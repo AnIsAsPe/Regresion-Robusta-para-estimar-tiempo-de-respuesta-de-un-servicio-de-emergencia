{
  "nbformat": 4,
  "nbformat_minor": 0,
  "metadata": {
    "colab": {
      "name": "Response_time_Paris_Fire_Brigade_2022.ipynb",
      "provenance": [],
      "collapsed_sections": [],
      "toc_visible": true,
      "include_colab_link": true
    },
    "kernelspec": {
      "name": "python3",
      "display_name": "Python 3"
    }
  },
  "cells": [
    {
      "cell_type": "markdown",
      "metadata": {
        "id": "view-in-github",
        "colab_type": "text"
      },
      "source": [
        "<a href=\"https://colab.research.google.com/github/AnIsAsPe/Regresion-Robusta-para-estimar-tiempo-de-respuesta-de-un-servicio-de-emergencia/blob/main/Response_time_Paris_Fire_Brigade_2022.ipynb\" target=\"_parent\"><img src=\"https://colab.research.google.com/assets/colab-badge.svg\" alt=\"Open In Colab\"/></a>"
      ]
    },
    {
      "cell_type": "markdown",
      "metadata": {
        "id": "MOfWHxj0IdEz"
      },
      "source": [
        "## Cargar bibiliotecas y funciones"
      ]
    },
    {
      "cell_type": "code",
      "metadata": {
        "id": "Wkte1t1UpdqM"
      },
      "source": [
        "import pandas as pd\n",
        "import numpy as np\n",
        "\n",
        "from sklearn.model_selection import train_test_split \n",
        "from sklearn.linear_model import LinearRegression\n",
        "from sklearn.linear_model import HuberRegressor\n",
        "from sklearn import metrics\n",
        "\n",
        "import matplotlib.pyplot as plt \n",
        "import seaborn as sns  "
      ],
      "execution_count": 1,
      "outputs": []
    },
    {
      "cell_type": "code",
      "source": [
        "from google.colab import drive\n",
        "drive.mount('/content/drive')"
      ],
      "metadata": {
        "colab": {
          "base_uri": "https://localhost:8080/"
        },
        "id": "whxhFQhJZiov",
        "outputId": "99c884c1-7a9e-4996-8b7e-d8e9d3b2053c"
      },
      "execution_count": 2,
      "outputs": [
        {
          "output_type": "stream",
          "name": "stdout",
          "text": [
            "Drive already mounted at /content/drive; to attempt to forcibly remount, call drive.mount(\"/content/drive\", force_remount=True).\n"
          ]
        }
      ]
    },
    {
      "cell_type": "code",
      "metadata": {
        "id": "hHWxPWiw50Dm"
      },
      "source": [
        "def correlacion(dataframe, grafica=True, matrix=False, tamaño =(12,8)):\n",
        "    '''Devuelve la matriz de correlación de un dataframe\n",
        "    y sí grafica=True, muestra un mapa de calor de la matriz de correlación'''\n",
        "    corr=dataframe.corr()                   \n",
        "    if grafica==True:\n",
        "      fig = plt.figure(figsize = tamaño)\n",
        "      ax = sns.heatmap(corr,\n",
        "                       vmin = -1,\n",
        "                       vmax = 1,\n",
        "                       center = 0,\n",
        "                       cmap = \"coolwarm\", \n",
        "                       annot = True,\n",
        "                       fmt=\".2f\",\n",
        "                       square = True)\n",
        "      ax.set_xticklabels(ax.get_xticklabels(), \n",
        "                         rotation = 45,\n",
        "                         horizontalalignment ='right')\n",
        "    if matrix==True:\n",
        "      return corr"
      ],
      "execution_count": 3,
      "outputs": []
    },
    {
      "cell_type": "code",
      "metadata": {
        "id": "VgaNjbAy4rZM"
      },
      "source": [
        "def describe_datos(df):\n",
        "  unicos =[]\n",
        "  for col in df:\n",
        "    unicos.append(df[col].unique())\n",
        "  unicos = pd.Series(unicos, index=df.columns)\n",
        "  descripcion = pd.concat([df.dtypes, len(df)-df.isna().sum(),df.nunique(),unicos], axis=1)\n",
        "  descripcion.columns = ['dtypes', 'not-null','nunique','unique' ]\n",
        "  return(descripcion)"
      ],
      "execution_count": 4,
      "outputs": []
    },
    {
      "cell_type": "markdown",
      "metadata": {
        "id": "9Q5ypE6bJgM1"
      },
      "source": [
        "# Lectura datos y selección de características"
      ]
    },
    {
      "cell_type": "markdown",
      "metadata": {
        "id": "IUh34hn1djfG"
      },
      "source": [
        "__Cargar etiquetas__"
      ]
    },
    {
      "cell_type": "code",
      "metadata": {
        "id": "vP_eKMyawPDl",
        "colab": {
          "base_uri": "https://localhost:8080/",
          "height": 162
        },
        "outputId": "665bf672-b149-4b0f-c2ee-e02b897f9fce"
      },
      "source": [
        "# Variables respuesta\n",
        "Ys = pd.read_csv('drive/My Drive/Datos/ParisFireBrigade/y_train.csv', \n",
        "                     index_col=[0], sep=',',)\n",
        "print(Ys.shape)\n",
        "Ys.head(2)"
      ],
      "execution_count": 5,
      "outputs": [
        {
          "output_type": "stream",
          "name": "stdout",
          "text": [
            "(219337, 3)\n"
          ]
        },
        {
          "output_type": "execute_result",
          "data": {
            "text/html": [
              "\n",
              "  <div id=\"df-58d05acb-7824-4da3-bc34-514fb6cee3a0\">\n",
              "    <div class=\"colab-df-container\">\n",
              "      <div>\n",
              "<style scoped>\n",
              "    .dataframe tbody tr th:only-of-type {\n",
              "        vertical-align: middle;\n",
              "    }\n",
              "\n",
              "    .dataframe tbody tr th {\n",
              "        vertical-align: top;\n",
              "    }\n",
              "\n",
              "    .dataframe thead th {\n",
              "        text-align: right;\n",
              "    }\n",
              "</style>\n",
              "<table border=\"1\" class=\"dataframe\">\n",
              "  <thead>\n",
              "    <tr style=\"text-align: right;\">\n",
              "      <th></th>\n",
              "      <th>delta selection-departure</th>\n",
              "      <th>delta departure-presentation</th>\n",
              "      <th>delta selection-presentation</th>\n",
              "    </tr>\n",
              "    <tr>\n",
              "      <th>emergency vehicle selection</th>\n",
              "      <th></th>\n",
              "      <th></th>\n",
              "      <th></th>\n",
              "    </tr>\n",
              "  </thead>\n",
              "  <tbody>\n",
              "    <tr>\n",
              "      <th>5105452</th>\n",
              "      <td>86</td>\n",
              "      <td>324</td>\n",
              "      <td>410</td>\n",
              "    </tr>\n",
              "    <tr>\n",
              "      <th>4720915</th>\n",
              "      <td>164</td>\n",
              "      <td>297</td>\n",
              "      <td>461</td>\n",
              "    </tr>\n",
              "  </tbody>\n",
              "</table>\n",
              "</div>\n",
              "      <button class=\"colab-df-convert\" onclick=\"convertToInteractive('df-58d05acb-7824-4da3-bc34-514fb6cee3a0')\"\n",
              "              title=\"Convert this dataframe to an interactive table.\"\n",
              "              style=\"display:none;\">\n",
              "        \n",
              "  <svg xmlns=\"http://www.w3.org/2000/svg\" height=\"24px\"viewBox=\"0 0 24 24\"\n",
              "       width=\"24px\">\n",
              "    <path d=\"M0 0h24v24H0V0z\" fill=\"none\"/>\n",
              "    <path d=\"M18.56 5.44l.94 2.06.94-2.06 2.06-.94-2.06-.94-.94-2.06-.94 2.06-2.06.94zm-11 1L8.5 8.5l.94-2.06 2.06-.94-2.06-.94L8.5 2.5l-.94 2.06-2.06.94zm10 10l.94 2.06.94-2.06 2.06-.94-2.06-.94-.94-2.06-.94 2.06-2.06.94z\"/><path d=\"M17.41 7.96l-1.37-1.37c-.4-.4-.92-.59-1.43-.59-.52 0-1.04.2-1.43.59L10.3 9.45l-7.72 7.72c-.78.78-.78 2.05 0 2.83L4 21.41c.39.39.9.59 1.41.59.51 0 1.02-.2 1.41-.59l7.78-7.78 2.81-2.81c.8-.78.8-2.07 0-2.86zM5.41 20L4 18.59l7.72-7.72 1.47 1.35L5.41 20z\"/>\n",
              "  </svg>\n",
              "      </button>\n",
              "      \n",
              "  <style>\n",
              "    .colab-df-container {\n",
              "      display:flex;\n",
              "      flex-wrap:wrap;\n",
              "      gap: 12px;\n",
              "    }\n",
              "\n",
              "    .colab-df-convert {\n",
              "      background-color: #E8F0FE;\n",
              "      border: none;\n",
              "      border-radius: 50%;\n",
              "      cursor: pointer;\n",
              "      display: none;\n",
              "      fill: #1967D2;\n",
              "      height: 32px;\n",
              "      padding: 0 0 0 0;\n",
              "      width: 32px;\n",
              "    }\n",
              "\n",
              "    .colab-df-convert:hover {\n",
              "      background-color: #E2EBFA;\n",
              "      box-shadow: 0px 1px 2px rgba(60, 64, 67, 0.3), 0px 1px 3px 1px rgba(60, 64, 67, 0.15);\n",
              "      fill: #174EA6;\n",
              "    }\n",
              "\n",
              "    [theme=dark] .colab-df-convert {\n",
              "      background-color: #3B4455;\n",
              "      fill: #D2E3FC;\n",
              "    }\n",
              "\n",
              "    [theme=dark] .colab-df-convert:hover {\n",
              "      background-color: #434B5C;\n",
              "      box-shadow: 0px 1px 3px 1px rgba(0, 0, 0, 0.15);\n",
              "      filter: drop-shadow(0px 1px 2px rgba(0, 0, 0, 0.3));\n",
              "      fill: #FFFFFF;\n",
              "    }\n",
              "  </style>\n",
              "\n",
              "      <script>\n",
              "        const buttonEl =\n",
              "          document.querySelector('#df-58d05acb-7824-4da3-bc34-514fb6cee3a0 button.colab-df-convert');\n",
              "        buttonEl.style.display =\n",
              "          google.colab.kernel.accessAllowed ? 'block' : 'none';\n",
              "\n",
              "        async function convertToInteractive(key) {\n",
              "          const element = document.querySelector('#df-58d05acb-7824-4da3-bc34-514fb6cee3a0');\n",
              "          const dataTable =\n",
              "            await google.colab.kernel.invokeFunction('convertToInteractive',\n",
              "                                                     [key], {});\n",
              "          if (!dataTable) return;\n",
              "\n",
              "          const docLinkHtml = 'Like what you see? Visit the ' +\n",
              "            '<a target=\"_blank\" href=https://colab.research.google.com/notebooks/data_table.ipynb>data table notebook</a>'\n",
              "            + ' to learn more about interactive tables.';\n",
              "          element.innerHTML = '';\n",
              "          dataTable['output_type'] = 'display_data';\n",
              "          await google.colab.output.renderOutput(dataTable, element);\n",
              "          const docLink = document.createElement('div');\n",
              "          docLink.innerHTML = docLinkHtml;\n",
              "          element.appendChild(docLink);\n",
              "        }\n",
              "      </script>\n",
              "    </div>\n",
              "  </div>\n",
              "  "
            ],
            "text/plain": [
              "                             delta selection-departure  ...  delta selection-presentation\n",
              "emergency vehicle selection                             ...                              \n",
              "5105452                                             86  ...                           410\n",
              "4720915                                            164  ...                           461\n",
              "\n",
              "[2 rows x 3 columns]"
            ]
          },
          "metadata": {},
          "execution_count": 5
        }
      ]
    },
    {
      "cell_type": "code",
      "metadata": {
        "id": "KZkI9JgkVSQP",
        "colab": {
          "base_uri": "https://localhost:8080/"
        },
        "outputId": "aff073c8-fc02-4ee0-8280-ff0c9c061b3e"
      },
      "source": [
        "# Se puede verificar si la última columna es la suma de las otras dos\n",
        "(Ys.iloc[:,0] + Ys.iloc[:,1] == Ys.iloc[:,2]).sum()==len(Ys)"
      ],
      "execution_count": 6,
      "outputs": [
        {
          "output_type": "execute_result",
          "data": {
            "text/plain": [
              "True"
            ]
          },
          "metadata": {},
          "execution_count": 6
        }
      ]
    },
    {
      "cell_type": "markdown",
      "metadata": {
        "id": "q5-Wdb0cU6fT"
      },
      "source": [
        "Nos vamos a concentrar en el tiempo desde la salida del vehículo hasta la presentación en el lugar del siniestro"
      ]
    },
    {
      "cell_type": "code",
      "metadata": {
        "id": "_He9t8gG3Nhp",
        "colab": {
          "base_uri": "https://localhost:8080/"
        },
        "outputId": "ab849713-07db-4845-9595-942319f1d230"
      },
      "source": [
        "Y = Ys['delta departure-presentation']\n",
        "Y.describe()"
      ],
      "execution_count": 7,
      "outputs": [
        {
          "output_type": "execute_result",
          "data": {
            "text/plain": [
              "count    219337.000000\n",
              "mean        356.161026\n",
              "std         228.381939\n",
              "min           1.000000\n",
              "25%         231.000000\n",
              "50%         319.000000\n",
              "75%         434.000000\n",
              "max       22722.000000\n",
              "Name: delta departure-presentation, dtype: float64"
            ]
          },
          "metadata": {},
          "execution_count": 7
        }
      ]
    },
    {
      "cell_type": "markdown",
      "metadata": {
        "id": "0PmhXhvC6LKn"
      },
      "source": [
        "__Cargar características__"
      ]
    },
    {
      "cell_type": "code",
      "metadata": {
        "id": "G1ktHn7nET0L",
        "colab": {
          "base_uri": "https://localhost:8080/",
          "height": 434
        },
        "outputId": "250adddd-f867-4947-adc3-0261001deb1a"
      },
      "source": [
        "# Conjunto de caracteristicas (X)\n",
        "X = pd.read_csv('drive/My Drive/Datos/ParisFireBrigade/x_train.csv', \n",
        "                sep=',', index_col=[0], parse_dates=['selection time'] )\n",
        "print(X.shape)\n",
        "X.head(2)"
      ],
      "execution_count": 8,
      "outputs": [
        {
          "output_type": "stream",
          "name": "stdout",
          "text": [
            "(219337, 25)\n"
          ]
        },
        {
          "output_type": "execute_result",
          "data": {
            "text/html": [
              "\n",
              "  <div id=\"df-9e0fd59c-2042-4f4e-9f3a-c9c39d1e57e4\">\n",
              "    <div class=\"colab-df-container\">\n",
              "      <div>\n",
              "<style scoped>\n",
              "    .dataframe tbody tr th:only-of-type {\n",
              "        vertical-align: middle;\n",
              "    }\n",
              "\n",
              "    .dataframe tbody tr th {\n",
              "        vertical-align: top;\n",
              "    }\n",
              "\n",
              "    .dataframe thead th {\n",
              "        text-align: right;\n",
              "    }\n",
              "</style>\n",
              "<table border=\"1\" class=\"dataframe\">\n",
              "  <thead>\n",
              "    <tr style=\"text-align: right;\">\n",
              "      <th></th>\n",
              "      <th>intervention</th>\n",
              "      <th>alert reason category</th>\n",
              "      <th>alert reason</th>\n",
              "      <th>intervention on public roads</th>\n",
              "      <th>floor</th>\n",
              "      <th>location of the event</th>\n",
              "      <th>longitude intervention</th>\n",
              "      <th>latitude intervention</th>\n",
              "      <th>emergency vehicle</th>\n",
              "      <th>emergency vehicle type</th>\n",
              "      <th>rescue center</th>\n",
              "      <th>selection time</th>\n",
              "      <th>date key sélection</th>\n",
              "      <th>time key sélection</th>\n",
              "      <th>status preceding selection</th>\n",
              "      <th>delta status preceding selection-selection</th>\n",
              "      <th>departed from its rescue center</th>\n",
              "      <th>longitude before departure</th>\n",
              "      <th>latitude before departure</th>\n",
              "      <th>delta position gps previous departure-departure</th>\n",
              "      <th>GPS tracks departure-presentation</th>\n",
              "      <th>GPS tracks datetime departure-presentation</th>\n",
              "      <th>OSRM response</th>\n",
              "      <th>OSRM estimated distance</th>\n",
              "      <th>OSRM estimated duration</th>\n",
              "    </tr>\n",
              "    <tr>\n",
              "      <th>emergency vehicle selection</th>\n",
              "      <th></th>\n",
              "      <th></th>\n",
              "      <th></th>\n",
              "      <th></th>\n",
              "      <th></th>\n",
              "      <th></th>\n",
              "      <th></th>\n",
              "      <th></th>\n",
              "      <th></th>\n",
              "      <th></th>\n",
              "      <th></th>\n",
              "      <th></th>\n",
              "      <th></th>\n",
              "      <th></th>\n",
              "      <th></th>\n",
              "      <th></th>\n",
              "      <th></th>\n",
              "      <th></th>\n",
              "      <th></th>\n",
              "      <th></th>\n",
              "      <th></th>\n",
              "      <th></th>\n",
              "      <th></th>\n",
              "      <th></th>\n",
              "      <th></th>\n",
              "    </tr>\n",
              "  </thead>\n",
              "  <tbody>\n",
              "    <tr>\n",
              "      <th>5105452</th>\n",
              "      <td>13264186</td>\n",
              "      <td>3</td>\n",
              "      <td>2162</td>\n",
              "      <td>0</td>\n",
              "      <td>0</td>\n",
              "      <td>148.0</td>\n",
              "      <td>2.284796</td>\n",
              "      <td>48.879669</td>\n",
              "      <td>4511</td>\n",
              "      <td>VSAV BSPP</td>\n",
              "      <td>2447</td>\n",
              "      <td>2018-07-08 19:02:43.990</td>\n",
              "      <td>20180708</td>\n",
              "      <td>190243</td>\n",
              "      <td>Rentré</td>\n",
              "      <td>2027</td>\n",
              "      <td>1</td>\n",
              "      <td>2.288053</td>\n",
              "      <td>48.884698</td>\n",
              "      <td>NaN</td>\n",
              "      <td>2.289000,48.885113;2.288861,48.884998;2.288000...</td>\n",
              "      <td>2018-07-08 19:04:43;2018-07-08 19:05:55;2018-0...</td>\n",
              "      <td>{\"code\":\"Ok\",\"routes\":[{\"geometry\":\"}yjiH}x}L_...</td>\n",
              "      <td>952.5</td>\n",
              "      <td>105.8</td>\n",
              "    </tr>\n",
              "    <tr>\n",
              "      <th>4720915</th>\n",
              "      <td>12663715</td>\n",
              "      <td>3</td>\n",
              "      <td>2124</td>\n",
              "      <td>0</td>\n",
              "      <td>1</td>\n",
              "      <td>136.0</td>\n",
              "      <td>2.247464</td>\n",
              "      <td>48.818191</td>\n",
              "      <td>4327</td>\n",
              "      <td>PSE</td>\n",
              "      <td>2464</td>\n",
              "      <td>2018-01-04 09:02:59.470</td>\n",
              "      <td>20180104</td>\n",
              "      <td>90259</td>\n",
              "      <td>Rentré</td>\n",
              "      <td>28233</td>\n",
              "      <td>1</td>\n",
              "      <td>2.268519</td>\n",
              "      <td>48.823958</td>\n",
              "      <td>NaN</td>\n",
              "      <td>NaN</td>\n",
              "      <td>NaN</td>\n",
              "      <td>{\"code\":\"Ok\",\"routes\":[{\"geometry\":\"u|~hHy`zL_...</td>\n",
              "      <td>2238.5</td>\n",
              "      <td>243.2</td>\n",
              "    </tr>\n",
              "  </tbody>\n",
              "</table>\n",
              "</div>\n",
              "      <button class=\"colab-df-convert\" onclick=\"convertToInteractive('df-9e0fd59c-2042-4f4e-9f3a-c9c39d1e57e4')\"\n",
              "              title=\"Convert this dataframe to an interactive table.\"\n",
              "              style=\"display:none;\">\n",
              "        \n",
              "  <svg xmlns=\"http://www.w3.org/2000/svg\" height=\"24px\"viewBox=\"0 0 24 24\"\n",
              "       width=\"24px\">\n",
              "    <path d=\"M0 0h24v24H0V0z\" fill=\"none\"/>\n",
              "    <path d=\"M18.56 5.44l.94 2.06.94-2.06 2.06-.94-2.06-.94-.94-2.06-.94 2.06-2.06.94zm-11 1L8.5 8.5l.94-2.06 2.06-.94-2.06-.94L8.5 2.5l-.94 2.06-2.06.94zm10 10l.94 2.06.94-2.06 2.06-.94-2.06-.94-.94-2.06-.94 2.06-2.06.94z\"/><path d=\"M17.41 7.96l-1.37-1.37c-.4-.4-.92-.59-1.43-.59-.52 0-1.04.2-1.43.59L10.3 9.45l-7.72 7.72c-.78.78-.78 2.05 0 2.83L4 21.41c.39.39.9.59 1.41.59.51 0 1.02-.2 1.41-.59l7.78-7.78 2.81-2.81c.8-.78.8-2.07 0-2.86zM5.41 20L4 18.59l7.72-7.72 1.47 1.35L5.41 20z\"/>\n",
              "  </svg>\n",
              "      </button>\n",
              "      \n",
              "  <style>\n",
              "    .colab-df-container {\n",
              "      display:flex;\n",
              "      flex-wrap:wrap;\n",
              "      gap: 12px;\n",
              "    }\n",
              "\n",
              "    .colab-df-convert {\n",
              "      background-color: #E8F0FE;\n",
              "      border: none;\n",
              "      border-radius: 50%;\n",
              "      cursor: pointer;\n",
              "      display: none;\n",
              "      fill: #1967D2;\n",
              "      height: 32px;\n",
              "      padding: 0 0 0 0;\n",
              "      width: 32px;\n",
              "    }\n",
              "\n",
              "    .colab-df-convert:hover {\n",
              "      background-color: #E2EBFA;\n",
              "      box-shadow: 0px 1px 2px rgba(60, 64, 67, 0.3), 0px 1px 3px 1px rgba(60, 64, 67, 0.15);\n",
              "      fill: #174EA6;\n",
              "    }\n",
              "\n",
              "    [theme=dark] .colab-df-convert {\n",
              "      background-color: #3B4455;\n",
              "      fill: #D2E3FC;\n",
              "    }\n",
              "\n",
              "    [theme=dark] .colab-df-convert:hover {\n",
              "      background-color: #434B5C;\n",
              "      box-shadow: 0px 1px 3px 1px rgba(0, 0, 0, 0.15);\n",
              "      filter: drop-shadow(0px 1px 2px rgba(0, 0, 0, 0.3));\n",
              "      fill: #FFFFFF;\n",
              "    }\n",
              "  </style>\n",
              "\n",
              "      <script>\n",
              "        const buttonEl =\n",
              "          document.querySelector('#df-9e0fd59c-2042-4f4e-9f3a-c9c39d1e57e4 button.colab-df-convert');\n",
              "        buttonEl.style.display =\n",
              "          google.colab.kernel.accessAllowed ? 'block' : 'none';\n",
              "\n",
              "        async function convertToInteractive(key) {\n",
              "          const element = document.querySelector('#df-9e0fd59c-2042-4f4e-9f3a-c9c39d1e57e4');\n",
              "          const dataTable =\n",
              "            await google.colab.kernel.invokeFunction('convertToInteractive',\n",
              "                                                     [key], {});\n",
              "          if (!dataTable) return;\n",
              "\n",
              "          const docLinkHtml = 'Like what you see? Visit the ' +\n",
              "            '<a target=\"_blank\" href=https://colab.research.google.com/notebooks/data_table.ipynb>data table notebook</a>'\n",
              "            + ' to learn more about interactive tables.';\n",
              "          element.innerHTML = '';\n",
              "          dataTable['output_type'] = 'display_data';\n",
              "          await google.colab.output.renderOutput(dataTable, element);\n",
              "          const docLink = document.createElement('div');\n",
              "          docLink.innerHTML = docLinkHtml;\n",
              "          element.appendChild(docLink);\n",
              "        }\n",
              "      </script>\n",
              "    </div>\n",
              "  </div>\n",
              "  "
            ],
            "text/plain": [
              "                             intervention  ...  OSRM estimated duration\n",
              "emergency vehicle selection                ...                         \n",
              "5105452                          13264186  ...                    105.8\n",
              "4720915                          12663715  ...                    243.2\n",
              "\n",
              "[2 rows x 25 columns]"
            ]
          },
          "metadata": {},
          "execution_count": 8
        }
      ]
    },
    {
      "cell_type": "code",
      "metadata": {
        "colab": {
          "base_uri": "https://localhost:8080/",
          "height": 833
        },
        "id": "Qjx_1U01L0j1",
        "outputId": "45a0bb24-1b49-4a37-cb75-e556c8c64e9f"
      },
      "source": [
        "describe_datos(X)"
      ],
      "execution_count": 9,
      "outputs": [
        {
          "output_type": "execute_result",
          "data": {
            "text/html": [
              "\n",
              "  <div id=\"df-67c058b7-eab6-44b4-ae90-2cc62e2b4cea\">\n",
              "    <div class=\"colab-df-container\">\n",
              "      <div>\n",
              "<style scoped>\n",
              "    .dataframe tbody tr th:only-of-type {\n",
              "        vertical-align: middle;\n",
              "    }\n",
              "\n",
              "    .dataframe tbody tr th {\n",
              "        vertical-align: top;\n",
              "    }\n",
              "\n",
              "    .dataframe thead th {\n",
              "        text-align: right;\n",
              "    }\n",
              "</style>\n",
              "<table border=\"1\" class=\"dataframe\">\n",
              "  <thead>\n",
              "    <tr style=\"text-align: right;\">\n",
              "      <th></th>\n",
              "      <th>dtypes</th>\n",
              "      <th>not-null</th>\n",
              "      <th>nunique</th>\n",
              "      <th>unique</th>\n",
              "    </tr>\n",
              "  </thead>\n",
              "  <tbody>\n",
              "    <tr>\n",
              "      <th>intervention</th>\n",
              "      <td>int64</td>\n",
              "      <td>219337</td>\n",
              "      <td>200894</td>\n",
              "      <td>[13264186, 12663715, 13675521, 12695745, 13698...</td>\n",
              "    </tr>\n",
              "    <tr>\n",
              "      <th>alert reason category</th>\n",
              "      <td>int64</td>\n",
              "      <td>219337</td>\n",
              "      <td>9</td>\n",
              "      <td>[3, 9, 6, 1, 2, 5, 7, 4, 8]</td>\n",
              "    </tr>\n",
              "    <tr>\n",
              "      <th>alert reason</th>\n",
              "      <td>int64</td>\n",
              "      <td>219337</td>\n",
              "      <td>126</td>\n",
              "      <td>[2162, 2124, 2163, 2112, 2711, 2113, 2135, 212...</td>\n",
              "    </tr>\n",
              "    <tr>\n",
              "      <th>intervention on public roads</th>\n",
              "      <td>int64</td>\n",
              "      <td>219337</td>\n",
              "      <td>2</td>\n",
              "      <td>[0, 1]</td>\n",
              "    </tr>\n",
              "    <tr>\n",
              "      <th>floor</th>\n",
              "      <td>int64</td>\n",
              "      <td>219337</td>\n",
              "      <td>45</td>\n",
              "      <td>[0, 1, 2, 3, 4, 5, -1, 8, 11, 16, 6, 7, 12, -3...</td>\n",
              "    </tr>\n",
              "    <tr>\n",
              "      <th>location of the event</th>\n",
              "      <td>float64</td>\n",
              "      <td>206627</td>\n",
              "      <td>210</td>\n",
              "      <td>[148.0, 136.0, 139.0, 104.0, 157.0, 199.0, 140...</td>\n",
              "    </tr>\n",
              "    <tr>\n",
              "      <th>longitude intervention</th>\n",
              "      <td>float64</td>\n",
              "      <td>219337</td>\n",
              "      <td>83484</td>\n",
              "      <td>[2.284796, 2.247464, 2.258328, 2.393832, 2.458...</td>\n",
              "    </tr>\n",
              "    <tr>\n",
              "      <th>latitude intervention</th>\n",
              "      <td>float64</td>\n",
              "      <td>219337</td>\n",
              "      <td>74503</td>\n",
              "      <td>[48.879669, 48.818191, 48.836759, 48.776526, 4...</td>\n",
              "    </tr>\n",
              "    <tr>\n",
              "      <th>emergency vehicle</th>\n",
              "      <td>int64</td>\n",
              "      <td>219337</td>\n",
              "      <td>749</td>\n",
              "      <td>[4511, 4327, 4509, 5731, 5623, 4319, 4215, 588...</td>\n",
              "    </tr>\n",
              "    <tr>\n",
              "      <th>emergency vehicle type</th>\n",
              "      <td>object</td>\n",
              "      <td>219337</td>\n",
              "      <td>75</td>\n",
              "      <td>[VSAV BSPP, PSE, VLR BSPP, EPAN, EPA BSPP, FPT...</td>\n",
              "    </tr>\n",
              "    <tr>\n",
              "      <th>rescue center</th>\n",
              "      <td>int64</td>\n",
              "      <td>219337</td>\n",
              "      <td>94</td>\n",
              "      <td>[2447, 2464, 2438, 2510, 2478, 2491, 2448, 248...</td>\n",
              "    </tr>\n",
              "    <tr>\n",
              "      <th>selection time</th>\n",
              "      <td>datetime64[ns]</td>\n",
              "      <td>219337</td>\n",
              "      <td>219285</td>\n",
              "      <td>[2018-07-08T19:02:43.990000000, 2018-01-04T09:...</td>\n",
              "    </tr>\n",
              "    <tr>\n",
              "      <th>date key sélection</th>\n",
              "      <td>int64</td>\n",
              "      <td>219337</td>\n",
              "      <td>335</td>\n",
              "      <td>[20180708, 20180104, 20181116, 20180115, 20181...</td>\n",
              "    </tr>\n",
              "    <tr>\n",
              "      <th>time key sélection</th>\n",
              "      <td>int64</td>\n",
              "      <td>219337</td>\n",
              "      <td>76273</td>\n",
              "      <td>[190243, 90259, 101147, 3846, 3426, 222327, 81...</td>\n",
              "    </tr>\n",
              "    <tr>\n",
              "      <th>status preceding selection</th>\n",
              "      <td>object</td>\n",
              "      <td>219337</td>\n",
              "      <td>2</td>\n",
              "      <td>[Rentré, Disponible]</td>\n",
              "    </tr>\n",
              "    <tr>\n",
              "      <th>delta status preceding selection-selection</th>\n",
              "      <td>int64</td>\n",
              "      <td>219337</td>\n",
              "      <td>50175</td>\n",
              "      <td>[2027, 28233, 1981, 1842, 2716, 5592, 37282, 5...</td>\n",
              "    </tr>\n",
              "    <tr>\n",
              "      <th>departed from its rescue center</th>\n",
              "      <td>int64</td>\n",
              "      <td>219337</td>\n",
              "      <td>2</td>\n",
              "      <td>[1, 0]</td>\n",
              "    </tr>\n",
              "    <tr>\n",
              "      <th>longitude before departure</th>\n",
              "      <td>float64</td>\n",
              "      <td>219337</td>\n",
              "      <td>3093</td>\n",
              "      <td>[2.288053, 2.268519, 2.272944, 2.3889400000000...</td>\n",
              "    </tr>\n",
              "    <tr>\n",
              "      <th>latitude before departure</th>\n",
              "      <td>float64</td>\n",
              "      <td>219337</td>\n",
              "      <td>2798</td>\n",
              "      <td>[48.884698, 48.82395800000001, 48.850498, 48.7...</td>\n",
              "    </tr>\n",
              "    <tr>\n",
              "      <th>delta position gps previous departure-departure</th>\n",
              "      <td>float64</td>\n",
              "      <td>4903</td>\n",
              "      <td>40</td>\n",
              "      <td>[nan, 33.0, 34.0, 25.0, 9.0, 37.0, 13.0, 1.0, ...</td>\n",
              "    </tr>\n",
              "    <tr>\n",
              "      <th>GPS tracks departure-presentation</th>\n",
              "      <td>object</td>\n",
              "      <td>65804</td>\n",
              "      <td>65758</td>\n",
              "      <td>[2.289000,48.885113;2.288861,48.884998;2.28800...</td>\n",
              "    </tr>\n",
              "    <tr>\n",
              "      <th>GPS tracks datetime departure-presentation</th>\n",
              "      <td>object</td>\n",
              "      <td>65804</td>\n",
              "      <td>65791</td>\n",
              "      <td>[2018-07-08 19:04:43;2018-07-08 19:05:55;2018-...</td>\n",
              "    </tr>\n",
              "    <tr>\n",
              "      <th>OSRM response</th>\n",
              "      <td>object</td>\n",
              "      <td>219337</td>\n",
              "      <td>126454</td>\n",
              "      <td>[{\"code\":\"Ok\",\"routes\":[{\"geometry\":\"}yjiH}x}L...</td>\n",
              "    </tr>\n",
              "    <tr>\n",
              "      <th>OSRM estimated distance</th>\n",
              "      <td>float64</td>\n",
              "      <td>219337</td>\n",
              "      <td>48461</td>\n",
              "      <td>[952.5, 2238.5, 3026.4, 1934.2, 2706.7, 1685.8...</td>\n",
              "    </tr>\n",
              "    <tr>\n",
              "      <th>OSRM estimated duration</th>\n",
              "      <td>float64</td>\n",
              "      <td>219337</td>\n",
              "      <td>8236</td>\n",
              "      <td>[105.8, 243.2, 295.4, 166.6, 262.6, 187.7, 301...</td>\n",
              "    </tr>\n",
              "  </tbody>\n",
              "</table>\n",
              "</div>\n",
              "      <button class=\"colab-df-convert\" onclick=\"convertToInteractive('df-67c058b7-eab6-44b4-ae90-2cc62e2b4cea')\"\n",
              "              title=\"Convert this dataframe to an interactive table.\"\n",
              "              style=\"display:none;\">\n",
              "        \n",
              "  <svg xmlns=\"http://www.w3.org/2000/svg\" height=\"24px\"viewBox=\"0 0 24 24\"\n",
              "       width=\"24px\">\n",
              "    <path d=\"M0 0h24v24H0V0z\" fill=\"none\"/>\n",
              "    <path d=\"M18.56 5.44l.94 2.06.94-2.06 2.06-.94-2.06-.94-.94-2.06-.94 2.06-2.06.94zm-11 1L8.5 8.5l.94-2.06 2.06-.94-2.06-.94L8.5 2.5l-.94 2.06-2.06.94zm10 10l.94 2.06.94-2.06 2.06-.94-2.06-.94-.94-2.06-.94 2.06-2.06.94z\"/><path d=\"M17.41 7.96l-1.37-1.37c-.4-.4-.92-.59-1.43-.59-.52 0-1.04.2-1.43.59L10.3 9.45l-7.72 7.72c-.78.78-.78 2.05 0 2.83L4 21.41c.39.39.9.59 1.41.59.51 0 1.02-.2 1.41-.59l7.78-7.78 2.81-2.81c.8-.78.8-2.07 0-2.86zM5.41 20L4 18.59l7.72-7.72 1.47 1.35L5.41 20z\"/>\n",
              "  </svg>\n",
              "      </button>\n",
              "      \n",
              "  <style>\n",
              "    .colab-df-container {\n",
              "      display:flex;\n",
              "      flex-wrap:wrap;\n",
              "      gap: 12px;\n",
              "    }\n",
              "\n",
              "    .colab-df-convert {\n",
              "      background-color: #E8F0FE;\n",
              "      border: none;\n",
              "      border-radius: 50%;\n",
              "      cursor: pointer;\n",
              "      display: none;\n",
              "      fill: #1967D2;\n",
              "      height: 32px;\n",
              "      padding: 0 0 0 0;\n",
              "      width: 32px;\n",
              "    }\n",
              "\n",
              "    .colab-df-convert:hover {\n",
              "      background-color: #E2EBFA;\n",
              "      box-shadow: 0px 1px 2px rgba(60, 64, 67, 0.3), 0px 1px 3px 1px rgba(60, 64, 67, 0.15);\n",
              "      fill: #174EA6;\n",
              "    }\n",
              "\n",
              "    [theme=dark] .colab-df-convert {\n",
              "      background-color: #3B4455;\n",
              "      fill: #D2E3FC;\n",
              "    }\n",
              "\n",
              "    [theme=dark] .colab-df-convert:hover {\n",
              "      background-color: #434B5C;\n",
              "      box-shadow: 0px 1px 3px 1px rgba(0, 0, 0, 0.15);\n",
              "      filter: drop-shadow(0px 1px 2px rgba(0, 0, 0, 0.3));\n",
              "      fill: #FFFFFF;\n",
              "    }\n",
              "  </style>\n",
              "\n",
              "      <script>\n",
              "        const buttonEl =\n",
              "          document.querySelector('#df-67c058b7-eab6-44b4-ae90-2cc62e2b4cea button.colab-df-convert');\n",
              "        buttonEl.style.display =\n",
              "          google.colab.kernel.accessAllowed ? 'block' : 'none';\n",
              "\n",
              "        async function convertToInteractive(key) {\n",
              "          const element = document.querySelector('#df-67c058b7-eab6-44b4-ae90-2cc62e2b4cea');\n",
              "          const dataTable =\n",
              "            await google.colab.kernel.invokeFunction('convertToInteractive',\n",
              "                                                     [key], {});\n",
              "          if (!dataTable) return;\n",
              "\n",
              "          const docLinkHtml = 'Like what you see? Visit the ' +\n",
              "            '<a target=\"_blank\" href=https://colab.research.google.com/notebooks/data_table.ipynb>data table notebook</a>'\n",
              "            + ' to learn more about interactive tables.';\n",
              "          element.innerHTML = '';\n",
              "          dataTable['output_type'] = 'display_data';\n",
              "          await google.colab.output.renderOutput(dataTable, element);\n",
              "          const docLink = document.createElement('div');\n",
              "          docLink.innerHTML = docLinkHtml;\n",
              "          element.appendChild(docLink);\n",
              "        }\n",
              "      </script>\n",
              "    </div>\n",
              "  </div>\n",
              "  "
            ],
            "text/plain": [
              "                                                         dtypes  ...                                             unique\n",
              "intervention                                              int64  ...  [13264186, 12663715, 13675521, 12695745, 13698...\n",
              "alert reason category                                     int64  ...                        [3, 9, 6, 1, 2, 5, 7, 4, 8]\n",
              "alert reason                                              int64  ...  [2162, 2124, 2163, 2112, 2711, 2113, 2135, 212...\n",
              "intervention on public roads                              int64  ...                                             [0, 1]\n",
              "floor                                                     int64  ...  [0, 1, 2, 3, 4, 5, -1, 8, 11, 16, 6, 7, 12, -3...\n",
              "location of the event                                   float64  ...  [148.0, 136.0, 139.0, 104.0, 157.0, 199.0, 140...\n",
              "longitude intervention                                  float64  ...  [2.284796, 2.247464, 2.258328, 2.393832, 2.458...\n",
              "latitude intervention                                   float64  ...  [48.879669, 48.818191, 48.836759, 48.776526, 4...\n",
              "emergency vehicle                                         int64  ...  [4511, 4327, 4509, 5731, 5623, 4319, 4215, 588...\n",
              "emergency vehicle type                                   object  ...  [VSAV BSPP, PSE, VLR BSPP, EPAN, EPA BSPP, FPT...\n",
              "rescue center                                             int64  ...  [2447, 2464, 2438, 2510, 2478, 2491, 2448, 248...\n",
              "selection time                                   datetime64[ns]  ...  [2018-07-08T19:02:43.990000000, 2018-01-04T09:...\n",
              "date key sélection                                        int64  ...  [20180708, 20180104, 20181116, 20180115, 20181...\n",
              "time key sélection                                        int64  ...  [190243, 90259, 101147, 3846, 3426, 222327, 81...\n",
              "status preceding selection                               object  ...                               [Rentré, Disponible]\n",
              "delta status preceding selection-selection                int64  ...  [2027, 28233, 1981, 1842, 2716, 5592, 37282, 5...\n",
              "departed from its rescue center                           int64  ...                                             [1, 0]\n",
              "longitude before departure                              float64  ...  [2.288053, 2.268519, 2.272944, 2.3889400000000...\n",
              "latitude before departure                               float64  ...  [48.884698, 48.82395800000001, 48.850498, 48.7...\n",
              "delta position gps previous departure-departure         float64  ...  [nan, 33.0, 34.0, 25.0, 9.0, 37.0, 13.0, 1.0, ...\n",
              "GPS tracks departure-presentation                        object  ...  [2.289000,48.885113;2.288861,48.884998;2.28800...\n",
              "GPS tracks datetime departure-presentation               object  ...  [2018-07-08 19:04:43;2018-07-08 19:05:55;2018-...\n",
              "OSRM response                                            object  ...  [{\"code\":\"Ok\",\"routes\":[{\"geometry\":\"}yjiH}x}L...\n",
              "OSRM estimated distance                                 float64  ...  [952.5, 2238.5, 3026.4, 1934.2, 2706.7, 1685.8...\n",
              "OSRM estimated duration                                 float64  ...  [105.8, 243.2, 295.4, 166.6, 262.6, 187.7, 301...\n",
              "\n",
              "[25 rows x 4 columns]"
            ]
          },
          "metadata": {},
          "execution_count": 9
        }
      ]
    },
    {
      "cell_type": "markdown",
      "source": [
        "La cantidad de intervenciones en los datos no es igual a la cantidad de vehículos, De manera que existen intervenciones que son atendidas por más de un vehiculo de emergencia"
      ],
      "metadata": {
        "id": "YcA-hySgYHGQ"
      }
    },
    {
      "cell_type": "code",
      "source": [
        "X[X['intervention']==13329800].head(10)"
      ],
      "metadata": {
        "id": "U6vjpzzTzWoy",
        "outputId": "18f48cdf-aa14-4154-a5be-534d0c85bdf5",
        "colab": {
          "base_uri": "https://localhost:8080/",
          "height": 908
        }
      },
      "execution_count": 10,
      "outputs": [
        {
          "output_type": "execute_result",
          "data": {
            "text/html": [
              "\n",
              "  <div id=\"df-766eb2da-c496-48f9-807b-a5b7aa0867a2\">\n",
              "    <div class=\"colab-df-container\">\n",
              "      <div>\n",
              "<style scoped>\n",
              "    .dataframe tbody tr th:only-of-type {\n",
              "        vertical-align: middle;\n",
              "    }\n",
              "\n",
              "    .dataframe tbody tr th {\n",
              "        vertical-align: top;\n",
              "    }\n",
              "\n",
              "    .dataframe thead th {\n",
              "        text-align: right;\n",
              "    }\n",
              "</style>\n",
              "<table border=\"1\" class=\"dataframe\">\n",
              "  <thead>\n",
              "    <tr style=\"text-align: right;\">\n",
              "      <th></th>\n",
              "      <th>intervention</th>\n",
              "      <th>alert reason category</th>\n",
              "      <th>alert reason</th>\n",
              "      <th>intervention on public roads</th>\n",
              "      <th>floor</th>\n",
              "      <th>location of the event</th>\n",
              "      <th>longitude intervention</th>\n",
              "      <th>latitude intervention</th>\n",
              "      <th>emergency vehicle</th>\n",
              "      <th>emergency vehicle type</th>\n",
              "      <th>rescue center</th>\n",
              "      <th>selection time</th>\n",
              "      <th>date key sélection</th>\n",
              "      <th>time key sélection</th>\n",
              "      <th>status preceding selection</th>\n",
              "      <th>delta status preceding selection-selection</th>\n",
              "      <th>departed from its rescue center</th>\n",
              "      <th>longitude before departure</th>\n",
              "      <th>latitude before departure</th>\n",
              "      <th>delta position gps previous departure-departure</th>\n",
              "      <th>GPS tracks departure-presentation</th>\n",
              "      <th>GPS tracks datetime departure-presentation</th>\n",
              "      <th>OSRM response</th>\n",
              "      <th>OSRM estimated distance</th>\n",
              "      <th>OSRM estimated duration</th>\n",
              "    </tr>\n",
              "    <tr>\n",
              "      <th>emergency vehicle selection</th>\n",
              "      <th></th>\n",
              "      <th></th>\n",
              "      <th></th>\n",
              "      <th></th>\n",
              "      <th></th>\n",
              "      <th></th>\n",
              "      <th></th>\n",
              "      <th></th>\n",
              "      <th></th>\n",
              "      <th></th>\n",
              "      <th></th>\n",
              "      <th></th>\n",
              "      <th></th>\n",
              "      <th></th>\n",
              "      <th></th>\n",
              "      <th></th>\n",
              "      <th></th>\n",
              "      <th></th>\n",
              "      <th></th>\n",
              "      <th></th>\n",
              "      <th></th>\n",
              "      <th></th>\n",
              "      <th></th>\n",
              "      <th></th>\n",
              "      <th></th>\n",
              "    </tr>\n",
              "  </thead>\n",
              "  <tbody>\n",
              "    <tr>\n",
              "      <th>5144823</th>\n",
              "      <td>13329800</td>\n",
              "      <td>1</td>\n",
              "      <td>1922</td>\n",
              "      <td>0</td>\n",
              "      <td>0</td>\n",
              "      <td>NaN</td>\n",
              "      <td>2.389279</td>\n",
              "      <td>48.917237</td>\n",
              "      <td>2493</td>\n",
              "      <td>PSE</td>\n",
              "      <td>2500</td>\n",
              "      <td>2018-07-27 03:10:52.867</td>\n",
              "      <td>20180727</td>\n",
              "      <td>31052</td>\n",
              "      <td>Rentré</td>\n",
              "      <td>10506</td>\n",
              "      <td>1</td>\n",
              "      <td>2.502172</td>\n",
              "      <td>48.796636</td>\n",
              "      <td>NaN</td>\n",
              "      <td>NaN</td>\n",
              "      <td>NaN</td>\n",
              "      <td>{\"code\":\"Ok\",\"routes\":[{\"geometry\":\"qryhHysgNm...</td>\n",
              "      <td>21620.0</td>\n",
              "      <td>1544.5</td>\n",
              "    </tr>\n",
              "    <tr>\n",
              "      <th>5144009</th>\n",
              "      <td>13329800</td>\n",
              "      <td>1</td>\n",
              "      <td>1922</td>\n",
              "      <td>0</td>\n",
              "      <td>0</td>\n",
              "      <td>NaN</td>\n",
              "      <td>2.389279</td>\n",
              "      <td>48.917237</td>\n",
              "      <td>1910</td>\n",
              "      <td>PSE</td>\n",
              "      <td>2439</td>\n",
              "      <td>2018-07-26 18:30:29.127</td>\n",
              "      <td>20180726</td>\n",
              "      <td>183029</td>\n",
              "      <td>Rentré</td>\n",
              "      <td>72</td>\n",
              "      <td>1</td>\n",
              "      <td>2.379889</td>\n",
              "      <td>48.889013</td>\n",
              "      <td>NaN</td>\n",
              "      <td>NaN</td>\n",
              "      <td>NaN</td>\n",
              "      <td>{\"code\":\"Ok\",\"routes\":[{\"geometry\":\"yrkiH}yoMw...</td>\n",
              "      <td>3775.4</td>\n",
              "      <td>433.6</td>\n",
              "    </tr>\n",
              "    <tr>\n",
              "      <th>5144821</th>\n",
              "      <td>13329800</td>\n",
              "      <td>1</td>\n",
              "      <td>1922</td>\n",
              "      <td>0</td>\n",
              "      <td>0</td>\n",
              "      <td>NaN</td>\n",
              "      <td>2.389279</td>\n",
              "      <td>48.917237</td>\n",
              "      <td>1823</td>\n",
              "      <td>VLR BSPP</td>\n",
              "      <td>2475</td>\n",
              "      <td>2018-07-27 03:09:08.660</td>\n",
              "      <td>20180727</td>\n",
              "      <td>30908</td>\n",
              "      <td>Rentré</td>\n",
              "      <td>44607</td>\n",
              "      <td>1</td>\n",
              "      <td>2.403748</td>\n",
              "      <td>48.872154</td>\n",
              "      <td>NaN</td>\n",
              "      <td>NaN</td>\n",
              "      <td>NaN</td>\n",
              "      <td>{\"code\":\"Ok\",\"routes\":[{\"geometry\":\"mjhiH_qtMd...</td>\n",
              "      <td>6279.5</td>\n",
              "      <td>553.8</td>\n",
              "    </tr>\n",
              "    <tr>\n",
              "      <th>5145134</th>\n",
              "      <td>13329800</td>\n",
              "      <td>1</td>\n",
              "      <td>1922</td>\n",
              "      <td>0</td>\n",
              "      <td>0</td>\n",
              "      <td>NaN</td>\n",
              "      <td>2.389279</td>\n",
              "      <td>48.917237</td>\n",
              "      <td>4359</td>\n",
              "      <td>VLR BSPP</td>\n",
              "      <td>2497</td>\n",
              "      <td>2018-07-27 09:47:44.353</td>\n",
              "      <td>20180727</td>\n",
              "      <td>94744</td>\n",
              "      <td>Rentré</td>\n",
              "      <td>1922</td>\n",
              "      <td>1</td>\n",
              "      <td>2.341010</td>\n",
              "      <td>48.945074</td>\n",
              "      <td>NaN</td>\n",
              "      <td>2.341639,48.942390;2.343083,48.941029;2.343972...</td>\n",
              "      <td>2018-07-27 09:58:31;2018-07-27 09:59:43;2018-0...</td>\n",
              "      <td>{\"code\":\"Ok\",\"routes\":[{\"geometry\":\"wqviHuihMp...</td>\n",
              "      <td>6435.1</td>\n",
              "      <td>513.6</td>\n",
              "    </tr>\n",
              "    <tr>\n",
              "      <th>5144110</th>\n",
              "      <td>13329800</td>\n",
              "      <td>1</td>\n",
              "      <td>1922</td>\n",
              "      <td>0</td>\n",
              "      <td>0</td>\n",
              "      <td>NaN</td>\n",
              "      <td>2.389279</td>\n",
              "      <td>48.917237</td>\n",
              "      <td>2255</td>\n",
              "      <td>PSE</td>\n",
              "      <td>2435</td>\n",
              "      <td>2018-07-26 19:18:14.470</td>\n",
              "      <td>20180726</td>\n",
              "      <td>191814</td>\n",
              "      <td>Rentré</td>\n",
              "      <td>10313</td>\n",
              "      <td>1</td>\n",
              "      <td>2.284342</td>\n",
              "      <td>48.923697</td>\n",
              "      <td>NaN</td>\n",
              "      <td>2.283778,48.923611;2.283778,48.923721;2.284444...</td>\n",
              "      <td>2018-07-26 19:20:38;2018-07-26 19:21:50;2018-0...</td>\n",
              "      <td>{\"code\":\"Ok\",\"routes\":[{\"geometry\":\"_mriH{b}Lq...</td>\n",
              "      <td>11229.5</td>\n",
              "      <td>752.5</td>\n",
              "    </tr>\n",
              "    <tr>\n",
              "      <th>5143996</th>\n",
              "      <td>13329800</td>\n",
              "      <td>1</td>\n",
              "      <td>1922</td>\n",
              "      <td>0</td>\n",
              "      <td>0</td>\n",
              "      <td>NaN</td>\n",
              "      <td>2.389279</td>\n",
              "      <td>48.917237</td>\n",
              "      <td>3122</td>\n",
              "      <td>CRAC</td>\n",
              "      <td>2474</td>\n",
              "      <td>2018-07-26 18:26:29.460</td>\n",
              "      <td>20180726</td>\n",
              "      <td>182629</td>\n",
              "      <td>Rentré</td>\n",
              "      <td>16599</td>\n",
              "      <td>1</td>\n",
              "      <td>2.374513</td>\n",
              "      <td>48.822590</td>\n",
              "      <td>NaN</td>\n",
              "      <td>2.381556,48.825474;2.393945,48.827667;2.402000...</td>\n",
              "      <td>2018-07-26 18:35:15;2018-07-26 18:37:39;2018-0...</td>\n",
              "      <td>{\"code\":\"Ok\",\"routes\":[{\"geometry\":\"}p~hHqynMx...</td>\n",
              "      <td>13923.4</td>\n",
              "      <td>1028.6</td>\n",
              "    </tr>\n",
              "    <tr>\n",
              "      <th>5144100</th>\n",
              "      <td>13329800</td>\n",
              "      <td>1</td>\n",
              "      <td>1922</td>\n",
              "      <td>0</td>\n",
              "      <td>0</td>\n",
              "      <td>NaN</td>\n",
              "      <td>2.389279</td>\n",
              "      <td>48.917237</td>\n",
              "      <td>4308</td>\n",
              "      <td>PSE</td>\n",
              "      <td>2447</td>\n",
              "      <td>2018-07-26 19:16:27.173</td>\n",
              "      <td>20180726</td>\n",
              "      <td>191627</td>\n",
              "      <td>Rentré</td>\n",
              "      <td>17594</td>\n",
              "      <td>1</td>\n",
              "      <td>2.288053</td>\n",
              "      <td>48.884698</td>\n",
              "      <td>NaN</td>\n",
              "      <td>NaN</td>\n",
              "      <td>NaN</td>\n",
              "      <td>{\"code\":\"Ok\",\"routes\":[{\"geometry\":\"}yjiH}x}Ly...</td>\n",
              "      <td>9870.1</td>\n",
              "      <td>727.3</td>\n",
              "    </tr>\n",
              "    <tr>\n",
              "      <th>5145057</th>\n",
              "      <td>13329800</td>\n",
              "      <td>1</td>\n",
              "      <td>1922</td>\n",
              "      <td>0</td>\n",
              "      <td>0</td>\n",
              "      <td>NaN</td>\n",
              "      <td>2.389279</td>\n",
              "      <td>48.917237</td>\n",
              "      <td>4431</td>\n",
              "      <td>VLR BSPP</td>\n",
              "      <td>266267</td>\n",
              "      <td>2018-07-27 08:57:06.873</td>\n",
              "      <td>20180727</td>\n",
              "      <td>95706</td>\n",
              "      <td>Rentré</td>\n",
              "      <td>20079</td>\n",
              "      <td>1</td>\n",
              "      <td>2.317090</td>\n",
              "      <td>48.899004</td>\n",
              "      <td>NaN</td>\n",
              "      <td>NaN</td>\n",
              "      <td>NaN</td>\n",
              "      <td>{\"code\":\"Ok\",\"routes\":[{\"geometry\":\"grmiHopcMb...</td>\n",
              "      <td>8442.7</td>\n",
              "      <td>629.9</td>\n",
              "    </tr>\n",
              "    <tr>\n",
              "      <th>5143993</th>\n",
              "      <td>13329800</td>\n",
              "      <td>1</td>\n",
              "      <td>1922</td>\n",
              "      <td>0</td>\n",
              "      <td>0</td>\n",
              "      <td>NaN</td>\n",
              "      <td>2.389279</td>\n",
              "      <td>48.917237</td>\n",
              "      <td>4311</td>\n",
              "      <td>VSAV BSPP</td>\n",
              "      <td>2486</td>\n",
              "      <td>2018-07-26 18:25:54.007</td>\n",
              "      <td>20180726</td>\n",
              "      <td>182554</td>\n",
              "      <td>Rentré</td>\n",
              "      <td>1856</td>\n",
              "      <td>1</td>\n",
              "      <td>2.373812</td>\n",
              "      <td>48.865868</td>\n",
              "      <td>NaN</td>\n",
              "      <td>NaN</td>\n",
              "      <td>NaN</td>\n",
              "      <td>{\"code\":\"Ok\",\"routes\":[{\"geometry\":\"ccgiHutnMc...</td>\n",
              "      <td>7481.6</td>\n",
              "      <td>715.4</td>\n",
              "    </tr>\n",
              "    <tr>\n",
              "      <th>5144108</th>\n",
              "      <td>13329800</td>\n",
              "      <td>1</td>\n",
              "      <td>1922</td>\n",
              "      <td>0</td>\n",
              "      <td>0</td>\n",
              "      <td>NaN</td>\n",
              "      <td>2.389279</td>\n",
              "      <td>48.917237</td>\n",
              "      <td>1832</td>\n",
              "      <td>PSE</td>\n",
              "      <td>2497</td>\n",
              "      <td>2018-07-26 19:17:35.247</td>\n",
              "      <td>20180726</td>\n",
              "      <td>191735</td>\n",
              "      <td>Rentré</td>\n",
              "      <td>57332</td>\n",
              "      <td>1</td>\n",
              "      <td>2.341010</td>\n",
              "      <td>48.945074</td>\n",
              "      <td>NaN</td>\n",
              "      <td>NaN</td>\n",
              "      <td>NaN</td>\n",
              "      <td>{\"code\":\"Ok\",\"routes\":[{\"geometry\":\"wqviHuihMp...</td>\n",
              "      <td>6435.1</td>\n",
              "      <td>513.6</td>\n",
              "    </tr>\n",
              "  </tbody>\n",
              "</table>\n",
              "</div>\n",
              "      <button class=\"colab-df-convert\" onclick=\"convertToInteractive('df-766eb2da-c496-48f9-807b-a5b7aa0867a2')\"\n",
              "              title=\"Convert this dataframe to an interactive table.\"\n",
              "              style=\"display:none;\">\n",
              "        \n",
              "  <svg xmlns=\"http://www.w3.org/2000/svg\" height=\"24px\"viewBox=\"0 0 24 24\"\n",
              "       width=\"24px\">\n",
              "    <path d=\"M0 0h24v24H0V0z\" fill=\"none\"/>\n",
              "    <path d=\"M18.56 5.44l.94 2.06.94-2.06 2.06-.94-2.06-.94-.94-2.06-.94 2.06-2.06.94zm-11 1L8.5 8.5l.94-2.06 2.06-.94-2.06-.94L8.5 2.5l-.94 2.06-2.06.94zm10 10l.94 2.06.94-2.06 2.06-.94-2.06-.94-.94-2.06-.94 2.06-2.06.94z\"/><path d=\"M17.41 7.96l-1.37-1.37c-.4-.4-.92-.59-1.43-.59-.52 0-1.04.2-1.43.59L10.3 9.45l-7.72 7.72c-.78.78-.78 2.05 0 2.83L4 21.41c.39.39.9.59 1.41.59.51 0 1.02-.2 1.41-.59l7.78-7.78 2.81-2.81c.8-.78.8-2.07 0-2.86zM5.41 20L4 18.59l7.72-7.72 1.47 1.35L5.41 20z\"/>\n",
              "  </svg>\n",
              "      </button>\n",
              "      \n",
              "  <style>\n",
              "    .colab-df-container {\n",
              "      display:flex;\n",
              "      flex-wrap:wrap;\n",
              "      gap: 12px;\n",
              "    }\n",
              "\n",
              "    .colab-df-convert {\n",
              "      background-color: #E8F0FE;\n",
              "      border: none;\n",
              "      border-radius: 50%;\n",
              "      cursor: pointer;\n",
              "      display: none;\n",
              "      fill: #1967D2;\n",
              "      height: 32px;\n",
              "      padding: 0 0 0 0;\n",
              "      width: 32px;\n",
              "    }\n",
              "\n",
              "    .colab-df-convert:hover {\n",
              "      background-color: #E2EBFA;\n",
              "      box-shadow: 0px 1px 2px rgba(60, 64, 67, 0.3), 0px 1px 3px 1px rgba(60, 64, 67, 0.15);\n",
              "      fill: #174EA6;\n",
              "    }\n",
              "\n",
              "    [theme=dark] .colab-df-convert {\n",
              "      background-color: #3B4455;\n",
              "      fill: #D2E3FC;\n",
              "    }\n",
              "\n",
              "    [theme=dark] .colab-df-convert:hover {\n",
              "      background-color: #434B5C;\n",
              "      box-shadow: 0px 1px 3px 1px rgba(0, 0, 0, 0.15);\n",
              "      filter: drop-shadow(0px 1px 2px rgba(0, 0, 0, 0.3));\n",
              "      fill: #FFFFFF;\n",
              "    }\n",
              "  </style>\n",
              "\n",
              "      <script>\n",
              "        const buttonEl =\n",
              "          document.querySelector('#df-766eb2da-c496-48f9-807b-a5b7aa0867a2 button.colab-df-convert');\n",
              "        buttonEl.style.display =\n",
              "          google.colab.kernel.accessAllowed ? 'block' : 'none';\n",
              "\n",
              "        async function convertToInteractive(key) {\n",
              "          const element = document.querySelector('#df-766eb2da-c496-48f9-807b-a5b7aa0867a2');\n",
              "          const dataTable =\n",
              "            await google.colab.kernel.invokeFunction('convertToInteractive',\n",
              "                                                     [key], {});\n",
              "          if (!dataTable) return;\n",
              "\n",
              "          const docLinkHtml = 'Like what you see? Visit the ' +\n",
              "            '<a target=\"_blank\" href=https://colab.research.google.com/notebooks/data_table.ipynb>data table notebook</a>'\n",
              "            + ' to learn more about interactive tables.';\n",
              "          element.innerHTML = '';\n",
              "          dataTable['output_type'] = 'display_data';\n",
              "          await google.colab.output.renderOutput(dataTable, element);\n",
              "          const docLink = document.createElement('div');\n",
              "          docLink.innerHTML = docLinkHtml;\n",
              "          element.appendChild(docLink);\n",
              "        }\n",
              "      </script>\n",
              "    </div>\n",
              "  </div>\n",
              "  "
            ],
            "text/plain": [
              "                             intervention  ...  OSRM estimated duration\n",
              "emergency vehicle selection                ...                         \n",
              "5144823                          13329800  ...                   1544.5\n",
              "5144009                          13329800  ...                    433.6\n",
              "5144821                          13329800  ...                    553.8\n",
              "5145134                          13329800  ...                    513.6\n",
              "5144110                          13329800  ...                    752.5\n",
              "5143996                          13329800  ...                   1028.6\n",
              "5144100                          13329800  ...                    727.3\n",
              "5145057                          13329800  ...                    629.9\n",
              "5143993                          13329800  ...                    715.4\n",
              "5144108                          13329800  ...                    513.6\n",
              "\n",
              "[10 rows x 25 columns]"
            ]
          },
          "metadata": {},
          "execution_count": 10
        }
      ]
    },
    {
      "cell_type": "markdown",
      "metadata": {
        "id": "V6tON9fFMKNe"
      },
      "source": [
        "el análisis lo vamos a hacer por vehículo"
      ]
    },
    {
      "cell_type": "code",
      "metadata": {
        "id": "qYDkmd3bxquP",
        "colab": {
          "base_uri": "https://localhost:8080/"
        },
        "outputId": "6dfd8d0b-2421-44ca-db63-2b99869edb11"
      },
      "source": [
        "#Borrar columnas que no utilizaremos\n",
        "\n",
        "col_borrar=['intervention',  #identificador de la intervención\n",
        "            'emergency vehicle',  #id 749 vehículo de emergencia, que están agrupada en 'emergency vehicle type'\n",
        "            'alert reason', # 126 categorías, que están resumidas en 'alert reason category'\n",
        "            \n",
        "            # Variables geográficas\n",
        "            'OSRM response', #rutas\n",
        "            'GPS tracks departure-presentation', #rutas\n",
        "            'GPS tracks datetime departure-presentation', #rutas\n",
        "            'longitude intervention', 'latitude intervention', #coordenadas\n",
        "            'longitude before departure',  #coordenadas\n",
        "            'latitude before departure',    #coordenadas\n",
        "\n",
        "            # Redundantes\n",
        "            'date key sélection', 'time key sélection', # redundantes con 'selection time'\n",
        "\n",
        "            #variable no relaccionadas con delta departure-presentation\n",
        "            'status preceding selection',  \n",
        "            'rescue center', # id 94 centros de rescate, estacionamiento de los vehícuos\n",
        "            'delta status preceding selection-selection',\n",
        "            'departed from its rescue center',\n",
        "            'delta position gps previous departure-departure'\n",
        "            ]\n",
        "X = X.drop(columns= col_borrar)\n",
        "\n",
        "X.info()"
      ],
      "execution_count": 11,
      "outputs": [
        {
          "output_type": "stream",
          "name": "stdout",
          "text": [
            "<class 'pandas.core.frame.DataFrame'>\n",
            "Int64Index: 219337 entries, 5105452 to 4868867\n",
            "Data columns (total 8 columns):\n",
            " #   Column                        Non-Null Count   Dtype         \n",
            "---  ------                        --------------   -----         \n",
            " 0   alert reason category         219337 non-null  int64         \n",
            " 1   intervention on public roads  219337 non-null  int64         \n",
            " 2   floor                         219337 non-null  int64         \n",
            " 3   location of the event         206627 non-null  float64       \n",
            " 4   emergency vehicle type        219337 non-null  object        \n",
            " 5   selection time                219337 non-null  datetime64[ns]\n",
            " 6   OSRM estimated distance       219337 non-null  float64       \n",
            " 7   OSRM estimated duration       219337 non-null  float64       \n",
            "dtypes: datetime64[ns](1), float64(3), int64(3), object(1)\n",
            "memory usage: 15.1+ MB\n"
          ]
        }
      ]
    },
    {
      "cell_type": "markdown",
      "metadata": {
        "id": "LCjTqJpvAvMq"
      },
      "source": [
        "__Unir caracteristicas con étiquetas__"
      ]
    },
    {
      "cell_type": "code",
      "metadata": {
        "id": "Ux4dTQm0AvMr",
        "colab": {
          "base_uri": "https://localhost:8080/",
          "height": 310
        },
        "outputId": "1addbdbe-5cab-4861-e35d-c878fe1163b3"
      },
      "source": [
        "df = pd.concat([X,Y], axis=1)\n",
        "print(df.shape)\n",
        "df.head(2)"
      ],
      "execution_count": 12,
      "outputs": [
        {
          "output_type": "stream",
          "name": "stdout",
          "text": [
            "(219337, 9)\n"
          ]
        },
        {
          "output_type": "execute_result",
          "data": {
            "text/html": [
              "\n",
              "  <div id=\"df-1f598830-fdc9-4ee3-8fe0-6a5cb39b1d12\">\n",
              "    <div class=\"colab-df-container\">\n",
              "      <div>\n",
              "<style scoped>\n",
              "    .dataframe tbody tr th:only-of-type {\n",
              "        vertical-align: middle;\n",
              "    }\n",
              "\n",
              "    .dataframe tbody tr th {\n",
              "        vertical-align: top;\n",
              "    }\n",
              "\n",
              "    .dataframe thead th {\n",
              "        text-align: right;\n",
              "    }\n",
              "</style>\n",
              "<table border=\"1\" class=\"dataframe\">\n",
              "  <thead>\n",
              "    <tr style=\"text-align: right;\">\n",
              "      <th></th>\n",
              "      <th>alert reason category</th>\n",
              "      <th>intervention on public roads</th>\n",
              "      <th>floor</th>\n",
              "      <th>location of the event</th>\n",
              "      <th>emergency vehicle type</th>\n",
              "      <th>selection time</th>\n",
              "      <th>OSRM estimated distance</th>\n",
              "      <th>OSRM estimated duration</th>\n",
              "      <th>delta departure-presentation</th>\n",
              "    </tr>\n",
              "    <tr>\n",
              "      <th>emergency vehicle selection</th>\n",
              "      <th></th>\n",
              "      <th></th>\n",
              "      <th></th>\n",
              "      <th></th>\n",
              "      <th></th>\n",
              "      <th></th>\n",
              "      <th></th>\n",
              "      <th></th>\n",
              "      <th></th>\n",
              "    </tr>\n",
              "  </thead>\n",
              "  <tbody>\n",
              "    <tr>\n",
              "      <th>5105452</th>\n",
              "      <td>3</td>\n",
              "      <td>0</td>\n",
              "      <td>0</td>\n",
              "      <td>148.0</td>\n",
              "      <td>VSAV BSPP</td>\n",
              "      <td>2018-07-08 19:02:43.990</td>\n",
              "      <td>952.5</td>\n",
              "      <td>105.8</td>\n",
              "      <td>324</td>\n",
              "    </tr>\n",
              "    <tr>\n",
              "      <th>4720915</th>\n",
              "      <td>3</td>\n",
              "      <td>0</td>\n",
              "      <td>1</td>\n",
              "      <td>136.0</td>\n",
              "      <td>PSE</td>\n",
              "      <td>2018-01-04 09:02:59.470</td>\n",
              "      <td>2238.5</td>\n",
              "      <td>243.2</td>\n",
              "      <td>297</td>\n",
              "    </tr>\n",
              "  </tbody>\n",
              "</table>\n",
              "</div>\n",
              "      <button class=\"colab-df-convert\" onclick=\"convertToInteractive('df-1f598830-fdc9-4ee3-8fe0-6a5cb39b1d12')\"\n",
              "              title=\"Convert this dataframe to an interactive table.\"\n",
              "              style=\"display:none;\">\n",
              "        \n",
              "  <svg xmlns=\"http://www.w3.org/2000/svg\" height=\"24px\"viewBox=\"0 0 24 24\"\n",
              "       width=\"24px\">\n",
              "    <path d=\"M0 0h24v24H0V0z\" fill=\"none\"/>\n",
              "    <path d=\"M18.56 5.44l.94 2.06.94-2.06 2.06-.94-2.06-.94-.94-2.06-.94 2.06-2.06.94zm-11 1L8.5 8.5l.94-2.06 2.06-.94-2.06-.94L8.5 2.5l-.94 2.06-2.06.94zm10 10l.94 2.06.94-2.06 2.06-.94-2.06-.94-.94-2.06-.94 2.06-2.06.94z\"/><path d=\"M17.41 7.96l-1.37-1.37c-.4-.4-.92-.59-1.43-.59-.52 0-1.04.2-1.43.59L10.3 9.45l-7.72 7.72c-.78.78-.78 2.05 0 2.83L4 21.41c.39.39.9.59 1.41.59.51 0 1.02-.2 1.41-.59l7.78-7.78 2.81-2.81c.8-.78.8-2.07 0-2.86zM5.41 20L4 18.59l7.72-7.72 1.47 1.35L5.41 20z\"/>\n",
              "  </svg>\n",
              "      </button>\n",
              "      \n",
              "  <style>\n",
              "    .colab-df-container {\n",
              "      display:flex;\n",
              "      flex-wrap:wrap;\n",
              "      gap: 12px;\n",
              "    }\n",
              "\n",
              "    .colab-df-convert {\n",
              "      background-color: #E8F0FE;\n",
              "      border: none;\n",
              "      border-radius: 50%;\n",
              "      cursor: pointer;\n",
              "      display: none;\n",
              "      fill: #1967D2;\n",
              "      height: 32px;\n",
              "      padding: 0 0 0 0;\n",
              "      width: 32px;\n",
              "    }\n",
              "\n",
              "    .colab-df-convert:hover {\n",
              "      background-color: #E2EBFA;\n",
              "      box-shadow: 0px 1px 2px rgba(60, 64, 67, 0.3), 0px 1px 3px 1px rgba(60, 64, 67, 0.15);\n",
              "      fill: #174EA6;\n",
              "    }\n",
              "\n",
              "    [theme=dark] .colab-df-convert {\n",
              "      background-color: #3B4455;\n",
              "      fill: #D2E3FC;\n",
              "    }\n",
              "\n",
              "    [theme=dark] .colab-df-convert:hover {\n",
              "      background-color: #434B5C;\n",
              "      box-shadow: 0px 1px 3px 1px rgba(0, 0, 0, 0.15);\n",
              "      filter: drop-shadow(0px 1px 2px rgba(0, 0, 0, 0.3));\n",
              "      fill: #FFFFFF;\n",
              "    }\n",
              "  </style>\n",
              "\n",
              "      <script>\n",
              "        const buttonEl =\n",
              "          document.querySelector('#df-1f598830-fdc9-4ee3-8fe0-6a5cb39b1d12 button.colab-df-convert');\n",
              "        buttonEl.style.display =\n",
              "          google.colab.kernel.accessAllowed ? 'block' : 'none';\n",
              "\n",
              "        async function convertToInteractive(key) {\n",
              "          const element = document.querySelector('#df-1f598830-fdc9-4ee3-8fe0-6a5cb39b1d12');\n",
              "          const dataTable =\n",
              "            await google.colab.kernel.invokeFunction('convertToInteractive',\n",
              "                                                     [key], {});\n",
              "          if (!dataTable) return;\n",
              "\n",
              "          const docLinkHtml = 'Like what you see? Visit the ' +\n",
              "            '<a target=\"_blank\" href=https://colab.research.google.com/notebooks/data_table.ipynb>data table notebook</a>'\n",
              "            + ' to learn more about interactive tables.';\n",
              "          element.innerHTML = '';\n",
              "          dataTable['output_type'] = 'display_data';\n",
              "          await google.colab.output.renderOutput(dataTable, element);\n",
              "          const docLink = document.createElement('div');\n",
              "          docLink.innerHTML = docLinkHtml;\n",
              "          element.appendChild(docLink);\n",
              "        }\n",
              "      </script>\n",
              "    </div>\n",
              "  </div>\n",
              "  "
            ],
            "text/plain": [
              "                             alert reason category  ...  delta departure-presentation\n",
              "emergency vehicle selection                         ...                              \n",
              "5105452                                          3  ...                           324\n",
              "4720915                                          3  ...                           297\n",
              "\n",
              "[2 rows x 9 columns]"
            ]
          },
          "metadata": {},
          "execution_count": 12
        }
      ]
    },
    {
      "cell_type": "markdown",
      "metadata": {
        "id": "6cJRa4_XaIiB"
      },
      "source": [
        "<h2> Idetificación del tipo de variable de cada columna\n",
        "\n",
        "Comparamos el tipo de cada columna con la documentación de los parámetros de entrada en [la documentación provista por el Challenge](https://paris-fire-brigade.github.io/data-challenge/challenge.html)"
      ]
    },
    {
      "cell_type": "code",
      "metadata": {
        "id": "Z58ZKbpMg0LF",
        "colab": {
          "base_uri": "https://localhost:8080/"
        },
        "outputId": "2c355fd2-1072-4beb-a0fa-92dd2f5ce940"
      },
      "source": [
        "df.dtypes"
      ],
      "execution_count": 13,
      "outputs": [
        {
          "output_type": "execute_result",
          "data": {
            "text/plain": [
              "alert reason category                    int64\n",
              "intervention on public roads             int64\n",
              "floor                                    int64\n",
              "location of the event                  float64\n",
              "emergency vehicle type                  object\n",
              "selection time                  datetime64[ns]\n",
              "OSRM estimated distance                float64\n",
              "OSRM estimated duration                float64\n",
              "delta departure-presentation             int64\n",
              "dtype: object"
            ]
          },
          "metadata": {},
          "execution_count": 13
        }
      ]
    },
    {
      "cell_type": "code",
      "metadata": {
        "id": "1ob8FjgWdV0F",
        "colab": {
          "base_uri": "https://localhost:8080/",
          "height": 331
        },
        "outputId": "ae634abc-cec5-44fd-babd-29a4b03e4679"
      },
      "source": [
        "categoricas=['alert reason category','location of the event',\n",
        "             'emergency vehicle type']\n",
        "df[categoricas] = df[categoricas].astype('object')\n",
        "\n",
        "df['intervention on public roads']=df['intervention on public roads'].astype('bool')\n",
        "describe_datos(df)"
      ],
      "execution_count": 14,
      "outputs": [
        {
          "output_type": "execute_result",
          "data": {
            "text/html": [
              "\n",
              "  <div id=\"df-b201482f-aa9b-4253-a9c0-069ad24921f1\">\n",
              "    <div class=\"colab-df-container\">\n",
              "      <div>\n",
              "<style scoped>\n",
              "    .dataframe tbody tr th:only-of-type {\n",
              "        vertical-align: middle;\n",
              "    }\n",
              "\n",
              "    .dataframe tbody tr th {\n",
              "        vertical-align: top;\n",
              "    }\n",
              "\n",
              "    .dataframe thead th {\n",
              "        text-align: right;\n",
              "    }\n",
              "</style>\n",
              "<table border=\"1\" class=\"dataframe\">\n",
              "  <thead>\n",
              "    <tr style=\"text-align: right;\">\n",
              "      <th></th>\n",
              "      <th>dtypes</th>\n",
              "      <th>not-null</th>\n",
              "      <th>nunique</th>\n",
              "      <th>unique</th>\n",
              "    </tr>\n",
              "  </thead>\n",
              "  <tbody>\n",
              "    <tr>\n",
              "      <th>alert reason category</th>\n",
              "      <td>object</td>\n",
              "      <td>219337</td>\n",
              "      <td>9</td>\n",
              "      <td>[3, 9, 6, 1, 2, 5, 7, 4, 8]</td>\n",
              "    </tr>\n",
              "    <tr>\n",
              "      <th>intervention on public roads</th>\n",
              "      <td>bool</td>\n",
              "      <td>219337</td>\n",
              "      <td>2</td>\n",
              "      <td>[False, True]</td>\n",
              "    </tr>\n",
              "    <tr>\n",
              "      <th>floor</th>\n",
              "      <td>int64</td>\n",
              "      <td>219337</td>\n",
              "      <td>45</td>\n",
              "      <td>[0, 1, 2, 3, 4, 5, -1, 8, 11, 16, 6, 7, 12, -3...</td>\n",
              "    </tr>\n",
              "    <tr>\n",
              "      <th>location of the event</th>\n",
              "      <td>object</td>\n",
              "      <td>206627</td>\n",
              "      <td>210</td>\n",
              "      <td>[148.0, 136.0, 139.0, 104.0, 157.0, 199.0, 140...</td>\n",
              "    </tr>\n",
              "    <tr>\n",
              "      <th>emergency vehicle type</th>\n",
              "      <td>object</td>\n",
              "      <td>219337</td>\n",
              "      <td>75</td>\n",
              "      <td>[VSAV BSPP, PSE, VLR BSPP, EPAN, EPA BSPP, FPT...</td>\n",
              "    </tr>\n",
              "    <tr>\n",
              "      <th>selection time</th>\n",
              "      <td>datetime64[ns]</td>\n",
              "      <td>219337</td>\n",
              "      <td>219285</td>\n",
              "      <td>[2018-07-08T19:02:43.990000000, 2018-01-04T09:...</td>\n",
              "    </tr>\n",
              "    <tr>\n",
              "      <th>OSRM estimated distance</th>\n",
              "      <td>float64</td>\n",
              "      <td>219337</td>\n",
              "      <td>48461</td>\n",
              "      <td>[952.5, 2238.5, 3026.4, 1934.2, 2706.7, 1685.8...</td>\n",
              "    </tr>\n",
              "    <tr>\n",
              "      <th>OSRM estimated duration</th>\n",
              "      <td>float64</td>\n",
              "      <td>219337</td>\n",
              "      <td>8236</td>\n",
              "      <td>[105.8, 243.2, 295.4, 166.6, 262.6, 187.7, 301...</td>\n",
              "    </tr>\n",
              "    <tr>\n",
              "      <th>delta departure-presentation</th>\n",
              "      <td>int64</td>\n",
              "      <td>219337</td>\n",
              "      <td>1909</td>\n",
              "      <td>[324, 297, 365, 160, 523, 419, 452, 404, 411, ...</td>\n",
              "    </tr>\n",
              "  </tbody>\n",
              "</table>\n",
              "</div>\n",
              "      <button class=\"colab-df-convert\" onclick=\"convertToInteractive('df-b201482f-aa9b-4253-a9c0-069ad24921f1')\"\n",
              "              title=\"Convert this dataframe to an interactive table.\"\n",
              "              style=\"display:none;\">\n",
              "        \n",
              "  <svg xmlns=\"http://www.w3.org/2000/svg\" height=\"24px\"viewBox=\"0 0 24 24\"\n",
              "       width=\"24px\">\n",
              "    <path d=\"M0 0h24v24H0V0z\" fill=\"none\"/>\n",
              "    <path d=\"M18.56 5.44l.94 2.06.94-2.06 2.06-.94-2.06-.94-.94-2.06-.94 2.06-2.06.94zm-11 1L8.5 8.5l.94-2.06 2.06-.94-2.06-.94L8.5 2.5l-.94 2.06-2.06.94zm10 10l.94 2.06.94-2.06 2.06-.94-2.06-.94-.94-2.06-.94 2.06-2.06.94z\"/><path d=\"M17.41 7.96l-1.37-1.37c-.4-.4-.92-.59-1.43-.59-.52 0-1.04.2-1.43.59L10.3 9.45l-7.72 7.72c-.78.78-.78 2.05 0 2.83L4 21.41c.39.39.9.59 1.41.59.51 0 1.02-.2 1.41-.59l7.78-7.78 2.81-2.81c.8-.78.8-2.07 0-2.86zM5.41 20L4 18.59l7.72-7.72 1.47 1.35L5.41 20z\"/>\n",
              "  </svg>\n",
              "      </button>\n",
              "      \n",
              "  <style>\n",
              "    .colab-df-container {\n",
              "      display:flex;\n",
              "      flex-wrap:wrap;\n",
              "      gap: 12px;\n",
              "    }\n",
              "\n",
              "    .colab-df-convert {\n",
              "      background-color: #E8F0FE;\n",
              "      border: none;\n",
              "      border-radius: 50%;\n",
              "      cursor: pointer;\n",
              "      display: none;\n",
              "      fill: #1967D2;\n",
              "      height: 32px;\n",
              "      padding: 0 0 0 0;\n",
              "      width: 32px;\n",
              "    }\n",
              "\n",
              "    .colab-df-convert:hover {\n",
              "      background-color: #E2EBFA;\n",
              "      box-shadow: 0px 1px 2px rgba(60, 64, 67, 0.3), 0px 1px 3px 1px rgba(60, 64, 67, 0.15);\n",
              "      fill: #174EA6;\n",
              "    }\n",
              "\n",
              "    [theme=dark] .colab-df-convert {\n",
              "      background-color: #3B4455;\n",
              "      fill: #D2E3FC;\n",
              "    }\n",
              "\n",
              "    [theme=dark] .colab-df-convert:hover {\n",
              "      background-color: #434B5C;\n",
              "      box-shadow: 0px 1px 3px 1px rgba(0, 0, 0, 0.15);\n",
              "      filter: drop-shadow(0px 1px 2px rgba(0, 0, 0, 0.3));\n",
              "      fill: #FFFFFF;\n",
              "    }\n",
              "  </style>\n",
              "\n",
              "      <script>\n",
              "        const buttonEl =\n",
              "          document.querySelector('#df-b201482f-aa9b-4253-a9c0-069ad24921f1 button.colab-df-convert');\n",
              "        buttonEl.style.display =\n",
              "          google.colab.kernel.accessAllowed ? 'block' : 'none';\n",
              "\n",
              "        async function convertToInteractive(key) {\n",
              "          const element = document.querySelector('#df-b201482f-aa9b-4253-a9c0-069ad24921f1');\n",
              "          const dataTable =\n",
              "            await google.colab.kernel.invokeFunction('convertToInteractive',\n",
              "                                                     [key], {});\n",
              "          if (!dataTable) return;\n",
              "\n",
              "          const docLinkHtml = 'Like what you see? Visit the ' +\n",
              "            '<a target=\"_blank\" href=https://colab.research.google.com/notebooks/data_table.ipynb>data table notebook</a>'\n",
              "            + ' to learn more about interactive tables.';\n",
              "          element.innerHTML = '';\n",
              "          dataTable['output_type'] = 'display_data';\n",
              "          await google.colab.output.renderOutput(dataTable, element);\n",
              "          const docLink = document.createElement('div');\n",
              "          docLink.innerHTML = docLinkHtml;\n",
              "          element.appendChild(docLink);\n",
              "        }\n",
              "      </script>\n",
              "    </div>\n",
              "  </div>\n",
              "  "
            ],
            "text/plain": [
              "                                      dtypes  ...                                             unique\n",
              "alert reason category                 object  ...                        [3, 9, 6, 1, 2, 5, 7, 4, 8]\n",
              "intervention on public roads            bool  ...                                      [False, True]\n",
              "floor                                  int64  ...  [0, 1, 2, 3, 4, 5, -1, 8, 11, 16, 6, 7, 12, -3...\n",
              "location of the event                 object  ...  [148.0, 136.0, 139.0, 104.0, 157.0, 199.0, 140...\n",
              "emergency vehicle type                object  ...  [VSAV BSPP, PSE, VLR BSPP, EPAN, EPA BSPP, FPT...\n",
              "selection time                datetime64[ns]  ...  [2018-07-08T19:02:43.990000000, 2018-01-04T09:...\n",
              "OSRM estimated distance              float64  ...  [952.5, 2238.5, 3026.4, 1934.2, 2706.7, 1685.8...\n",
              "OSRM estimated duration              float64  ...  [105.8, 243.2, 295.4, 166.6, 262.6, 187.7, 301...\n",
              "delta departure-presentation           int64  ...  [324, 297, 365, 160, 523, 419, 452, 404, 411, ...\n",
              "\n",
              "[9 rows x 4 columns]"
            ]
          },
          "metadata": {},
          "execution_count": 14
        }
      ]
    },
    {
      "cell_type": "markdown",
      "metadata": {
        "id": "6O_pqbiAT1dW"
      },
      "source": [
        "# Manejo de Valores Nulos"
      ]
    },
    {
      "cell_type": "code",
      "metadata": {
        "id": "7f58oHkpTnfo",
        "outputId": "fcf4142f-49eb-40c3-c619-3da8df24c8c3",
        "colab": {
          "base_uri": "https://localhost:8080/"
        }
      },
      "source": [
        "df.info()"
      ],
      "execution_count": 15,
      "outputs": [
        {
          "output_type": "stream",
          "name": "stdout",
          "text": [
            "<class 'pandas.core.frame.DataFrame'>\n",
            "Int64Index: 219337 entries, 5105452 to 4868867\n",
            "Data columns (total 9 columns):\n",
            " #   Column                        Non-Null Count   Dtype         \n",
            "---  ------                        --------------   -----         \n",
            " 0   alert reason category         219337 non-null  object        \n",
            " 1   intervention on public roads  219337 non-null  bool          \n",
            " 2   floor                         219337 non-null  int64         \n",
            " 3   location of the event         206627 non-null  object        \n",
            " 4   emergency vehicle type        219337 non-null  object        \n",
            " 5   selection time                219337 non-null  datetime64[ns]\n",
            " 6   OSRM estimated distance       219337 non-null  float64       \n",
            " 7   OSRM estimated duration       219337 non-null  float64       \n",
            " 8   delta departure-presentation  219337 non-null  int64         \n",
            "dtypes: bool(1), datetime64[ns](1), float64(2), int64(2), object(3)\n",
            "memory usage: 15.3+ MB\n"
          ]
        }
      ]
    },
    {
      "cell_type": "code",
      "metadata": {
        "colab": {
          "base_uri": "https://localhost:8080/"
        },
        "id": "PtzQEHdD3ZLz",
        "outputId": "267e70bc-cf2e-496d-a3e7-48e7092e8102"
      },
      "source": [
        "df.isna().sum()/len(df)*100  # porcentaje de valores nulos"
      ],
      "execution_count": 16,
      "outputs": [
        {
          "output_type": "execute_result",
          "data": {
            "text/plain": [
              "alert reason category           0.000000\n",
              "intervention on public roads    0.000000\n",
              "floor                           0.000000\n",
              "location of the event           5.794736\n",
              "emergency vehicle type          0.000000\n",
              "selection time                  0.000000\n",
              "OSRM estimated distance         0.000000\n",
              "OSRM estimated duration         0.000000\n",
              "delta departure-presentation    0.000000\n",
              "dtype: float64"
            ]
          },
          "metadata": {},
          "execution_count": 16
        }
      ]
    },
    {
      "cell_type": "code",
      "metadata": {
        "id": "sqVVZ-eLaa3j",
        "colab": {
          "base_uri": "https://localhost:8080/"
        },
        "outputId": "dd6747e3-dd18-40d2-a9ba-5d7d96748040"
      },
      "source": [
        "df['location of the event'].value_counts(dropna=False)/len(df)*100"
      ],
      "execution_count": 17,
      "outputs": [
        {
          "output_type": "execute_result",
          "data": {
            "text/plain": [
              "139.0    23.266024\n",
              "136.0    20.242823\n",
              "148.0    14.588054\n",
              "NaN       5.794736\n",
              "149.0     4.515882\n",
              "           ...    \n",
              "324.0     0.000456\n",
              "284.0     0.000456\n",
              "160.0     0.000456\n",
              "293.0     0.000456\n",
              "215.0     0.000456\n",
              "Name: location of the event, Length: 211, dtype: float64"
            ]
          },
          "metadata": {},
          "execution_count": 17
        }
      ]
    },
    {
      "cell_type": "markdown",
      "metadata": {
        "id": "Hv7xa4RRGVno"
      },
      "source": [
        "\n",
        "**Alternativas**\n",
        "- Borrar esos renglones, \n",
        "- borrar esa variable, \n",
        "- imputar valores:\n",
        "   - ¿remplazar por ceros?\n",
        "   - ¿reemplazar por una medida de tendencia central?\n",
        "   - ¿reemplazar con la predicción a partir de otro modelo de ml?\n",
        "   - ¿a parir del conocimiento que nos proporcionan las demás variables? "
      ]
    },
    {
      "cell_type": "markdown",
      "metadata": {
        "id": "T0UZuZFl5EJC"
      },
      "source": [
        "**¿los valores nulos son aleatorios? ¿se observa algún patrón? ¿borrar los renglónes con valores nulos impacta nuestro modelo?**\n"
      ]
    },
    {
      "cell_type": "code",
      "metadata": {
        "id": "1bsngQeV96BS",
        "colab": {
          "base_uri": "https://localhost:8080/",
          "height": 297
        },
        "outputId": "c7e33340-79ff-43c0-95d8-840a22c25f5c"
      },
      "source": [
        "#Distribución de la variable respuesta en registros con y sin valores nulos en \"location of the event\"\n",
        "df['nulos'] = np.where(df['location of the event'].isna(),1,0)\n",
        "\n",
        "sns.boxplot(x = 'nulos' , y = 'delta departure-presentation', data = df,showfliers=False)"
      ],
      "execution_count": 18,
      "outputs": [
        {
          "output_type": "execute_result",
          "data": {
            "text/plain": [
              "<matplotlib.axes._subplots.AxesSubplot at 0x7f67bc8e5350>"
            ]
          },
          "metadata": {},
          "execution_count": 18
        },
        {
          "output_type": "display_data",
          "data": {
            "image/png": "[encoded data removed]",
            "text/plain": [
              "<Figure size 432x288 with 1 Axes>"
            ]
          },
          "metadata": {
            "needs_background": "light"
          }
        }
      ]
    },
    {
      "cell_type": "markdown",
      "metadata": {
        "id": "OyPDoNMlOLZD"
      },
      "source": [
        "**¿Podemos imputar valores con el conocimiento que tenemos de los demás registros?**"
      ]
    },
    {
      "cell_type": "code",
      "metadata": {
        "colab": {
          "base_uri": "https://localhost:8080/",
          "height": 301
        },
        "id": "WicyHSYPKJDa",
        "outputId": "bef9a620-8cc9-4cba-bd1a-1574485d406c"
      },
      "source": [
        "tabla = pd.crosstab(df['alert reason category'],df['nulos'], normalize = 'columns')*100\n",
        "\n",
        "sns.heatmap(tabla,  vmin = 0, vmax = 100, cmap = \"coolwarm\", annot = True,\n",
        "            fmt=\".1f\")"
      ],
      "execution_count": 19,
      "outputs": [
        {
          "output_type": "execute_result",
          "data": {
            "text/plain": [
              "<matplotlib.axes._subplots.AxesSubplot at 0x7f67ad0164d0>"
            ]
          },
          "metadata": {},
          "execution_count": 19
        },
        {
          "output_type": "display_data",
          "data": {
            "image/png": "[encoded data removed]",
            "text/plain": [
              "<Figure size 432x288 with 2 Axes>"
            ]
          },
          "metadata": {
            "needs_background": "light"
          }
        }
      ]
    },
    {
      "cell_type": "code",
      "metadata": {
        "colab": {
          "base_uri": "https://localhost:8080/"
        },
        "id": "C-pyOHIIHcVr",
        "outputId": "8dd05131-abb4-491d-a249-b681b6d0e7b2"
      },
      "source": [
        "dict_alert_location = df.groupby('alert reason category')['location of the event'].agg(pd.Series.mode).to_dict()\n",
        "dict_alert_location "
      ],
      "execution_count": 20,
      "outputs": [
        {
          "output_type": "execute_result",
          "data": {
            "text/plain": [
              "{1: 131.0,\n",
              " 2: 149.0,\n",
              " 3: 139.0,\n",
              " 4: 139.0,\n",
              " 5: 148.0,\n",
              " 6: 148.0,\n",
              " 7: 148.0,\n",
              " 8: 131.0,\n",
              " 9: 139.0}"
            ]
          },
          "metadata": {},
          "execution_count": 20
        }
      ]
    },
    {
      "cell_type": "code",
      "metadata": {
        "id": "jfRJ0fd7eKfS",
        "outputId": "8d695b53-6edf-4531-8a74-bc6e6eceaf57",
        "colab": {
          "base_uri": "https://localhost:8080/"
        }
      },
      "source": [
        "# remplazamos los valores nulos en 'location of the event' de acuerdo al valor que presenta\n",
        "\n",
        "df['location of the event'] = df['location of the event'].fillna( df['alert reason category'].map(dict_alert_location)).astype('object')\n",
        "df['location of the event'].isna().sum()"
      ],
      "execution_count": 21,
      "outputs": [
        {
          "output_type": "execute_result",
          "data": {
            "text/plain": [
              "0"
            ]
          },
          "metadata": {},
          "execution_count": 21
        }
      ]
    },
    {
      "cell_type": "code",
      "metadata": {
        "id": "X2zBtTPhohJV",
        "outputId": "291ff77d-05ed-4f78-e3b4-c7cb2d9ba17c",
        "colab": {
          "base_uri": "https://localhost:8080/"
        }
      },
      "source": [
        "df['location of the event'].value_counts(dropna=False)/len(df)*100"
      ],
      "execution_count": 22,
      "outputs": [
        {
          "output_type": "execute_result",
          "data": {
            "text/plain": [
              "139.0    25.469027\n",
              "136.0    20.242823\n",
              "148.0    15.111450\n",
              "149.0     4.654026\n",
              "131.0     4.357222\n",
              "           ...    \n",
              "265.0     0.000456\n",
              "160.0     0.000456\n",
              "151.0     0.000456\n",
              "248.0     0.000456\n",
              "200.0     0.000456\n",
              "Name: location of the event, Length: 210, dtype: float64"
            ]
          },
          "metadata": {},
          "execution_count": 22
        }
      ]
    },
    {
      "cell_type": "code",
      "metadata": {
        "id": "EO3jpo9kgg2x"
      },
      "source": [
        "df = df.drop('nulos', axis=1)\n"
      ],
      "execution_count": 23,
      "outputs": []
    },
    {
      "cell_type": "markdown",
      "metadata": {
        "id": "pOsHK0UDuj4w"
      },
      "source": [
        "# Creación de nuevas variables"
      ]
    },
    {
      "cell_type": "markdown",
      "metadata": {
        "id": "Ea6C0L2Ie8FX"
      },
      "source": [
        "<h3>  Creación de variable Rush Hour\n",
        "\n",
        "Variable binaria para identificar eventos en horas pico"
      ]
    },
    {
      "cell_type": "code",
      "metadata": {
        "id": "msZ9KIoLhSvU"
      },
      "source": [
        "df['rush hour'] = 0\n",
        "\n",
        "df = df.reset_index( )\n",
        "df = df.set_index('selection time')\n",
        "\n",
        "#identificar el indice de los registros de eventos en hora pico\n",
        "pico_am = df.index.indexer_between_time('6:30','9:30')\n",
        "pico_pm = df.index.indexer_between_time('16:00','19:00')\n",
        "horas_pico_index= np.concatenate((pico_am, pico_pm))\n",
        "\n",
        "#identificar los días sabados y domingos\n",
        "fin_de_semana_filtro = df.index.weekday > 5  #identifica sábados y domingos"
      ],
      "execution_count": 24,
      "outputs": []
    },
    {
      "cell_type": "code",
      "metadata": {
        "colab": {
          "base_uri": "https://localhost:8080/"
        },
        "id": "6ixlFKMEQ4g2",
        "outputId": "72cb0567-3319-4863-db4a-721ebe701785"
      },
      "source": [
        "pico_am"
      ],
      "execution_count": 25,
      "outputs": [
        {
          "output_type": "execute_result",
          "data": {
            "text/plain": [
              "array([     1,      6,      7, ..., 219307, 219308, 219310])"
            ]
          },
          "metadata": {},
          "execution_count": 25
        }
      ]
    },
    {
      "cell_type": "code",
      "metadata": {
        "colab": {
          "base_uri": "https://localhost:8080/"
        },
        "id": "PTt_KqNgRjsi",
        "outputId": "1e71f38a-619d-4afb-e67b-29de028bb0dc"
      },
      "source": [
        "#comprobar que uno de los indices es hora pico\n",
        "df.index.to_list()[1]  "
      ],
      "execution_count": 26,
      "outputs": [
        {
          "output_type": "execute_result",
          "data": {
            "text/plain": [
              "Timestamp('2018-01-04 09:02:59.470000')"
            ]
          },
          "metadata": {},
          "execution_count": 26
        }
      ]
    },
    {
      "cell_type": "code",
      "metadata": {
        "id": "Q-d9AIQuRehA"
      },
      "source": [
        "df = df.reset_index()\n",
        "\n",
        "# cambiar el valor de 'rush hour' a uno cuando sea horas pico\n",
        "df.iloc[list(horas_pico_index),-1] = 1  "
      ],
      "execution_count": 27,
      "outputs": []
    },
    {
      "cell_type": "code",
      "metadata": {
        "id": "-9ZWrOpJQ0Ma"
      },
      "source": [
        "#Regresar a 0 el valor para los días sabados y domingos\n",
        "df['rush hour']= np.where(fin_de_semana_filtro, 0, df['rush hour'])"
      ],
      "execution_count": 28,
      "outputs": []
    },
    {
      "cell_type": "markdown",
      "metadata": {
        "id": "O-0rDtG_gPEX"
      },
      "source": [
        "<h3> Creación de variable Weekday\n",
        "\n",
        "Variable binaria para identificar eventos de lunes a viernes"
      ]
    },
    {
      "cell_type": "code",
      "metadata": {
        "id": "Ha_rW-o5flhg"
      },
      "source": [
        "df['weekday'] = np.where(fin_de_semana_filtro, 0, 1)"
      ],
      "execution_count": 29,
      "outputs": []
    },
    {
      "cell_type": "code",
      "metadata": {
        "id": "2cKWlza0yvqw"
      },
      "source": [
        "#Regresar emerency vehicle selection como indice\n",
        "df = df.set_index('emergency vehicle selection')"
      ],
      "execution_count": 30,
      "outputs": []
    },
    {
      "cell_type": "markdown",
      "metadata": {
        "id": "2nRnn9pZkrZz"
      },
      "source": [
        "# One hot encoding variables categoricas"
      ]
    },
    {
      "cell_type": "code",
      "source": [
        "df[categoricas].nunique()"
      ],
      "metadata": {
        "colab": {
          "base_uri": "https://localhost:8080/"
        },
        "id": "zQaggZ8ktSCF",
        "outputId": "addff37d-0a18-4516-f7ac-b7e97b0dae8d"
      },
      "execution_count": 31,
      "outputs": [
        {
          "output_type": "execute_result",
          "data": {
            "text/plain": [
              "alert reason category       9\n",
              "location of the event     210\n",
              "emergency vehicle type     75\n",
              "dtype: int64"
            ]
          },
          "metadata": {},
          "execution_count": 31
        }
      ]
    },
    {
      "cell_type": "code",
      "metadata": {
        "id": "rBFa8vxLuqYm",
        "colab": {
          "base_uri": "https://localhost:8080/",
          "height": 435
        },
        "outputId": "5cd835f5-7650-4625-c529-5c4cd4e9960c"
      },
      "source": [
        "he = pd.get_dummies(df[categoricas],\n",
        "                   drop_first=True) \n",
        "print(he.shape)\n",
        "he.head()"
      ],
      "execution_count": 32,
      "outputs": [
        {
          "output_type": "stream",
          "name": "stdout",
          "text": [
            "(219337, 291)\n"
          ]
        },
        {
          "output_type": "execute_result",
          "data": {
            "text/html": [
              "\n",
              "  <div id=\"df-2e0b0df4-ddae-438f-af16-8517078f4087\">\n",
              "    <div class=\"colab-df-container\">\n",
              "      <div>\n",
              "<style scoped>\n",
              "    .dataframe tbody tr th:only-of-type {\n",
              "        vertical-align: middle;\n",
              "    }\n",
              "\n",
              "    .dataframe tbody tr th {\n",
              "        vertical-align: top;\n",
              "    }\n",
              "\n",
              "    .dataframe thead th {\n",
              "        text-align: right;\n",
              "    }\n",
              "</style>\n",
              "<table border=\"1\" class=\"dataframe\">\n",
              "  <thead>\n",
              "    <tr style=\"text-align: right;\">\n",
              "      <th></th>\n",
              "      <th>alert reason category_2</th>\n",
              "      <th>alert reason category_3</th>\n",
              "      <th>alert reason category_4</th>\n",
              "      <th>alert reason category_5</th>\n",
              "      <th>alert reason category_6</th>\n",
              "      <th>alert reason category_7</th>\n",
              "      <th>alert reason category_8</th>\n",
              "      <th>alert reason category_9</th>\n",
              "      <th>location of the event_101.0</th>\n",
              "      <th>location of the event_102.0</th>\n",
              "      <th>location of the event_103.0</th>\n",
              "      <th>location of the event_104.0</th>\n",
              "      <th>location of the event_105.0</th>\n",
              "      <th>location of the event_106.0</th>\n",
              "      <th>location of the event_107.0</th>\n",
              "      <th>location of the event_108.0</th>\n",
              "      <th>location of the event_109.0</th>\n",
              "      <th>location of the event_110.0</th>\n",
              "      <th>location of the event_111.0</th>\n",
              "      <th>location of the event_112.0</th>\n",
              "      <th>location of the event_113.0</th>\n",
              "      <th>location of the event_114.0</th>\n",
              "      <th>location of the event_115.0</th>\n",
              "      <th>location of the event_116.0</th>\n",
              "      <th>location of the event_118.0</th>\n",
              "      <th>location of the event_119.0</th>\n",
              "      <th>location of the event_120.0</th>\n",
              "      <th>location of the event_121.0</th>\n",
              "      <th>location of the event_122.0</th>\n",
              "      <th>location of the event_123.0</th>\n",
              "      <th>location of the event_124.0</th>\n",
              "      <th>location of the event_125.0</th>\n",
              "      <th>location of the event_126.0</th>\n",
              "      <th>location of the event_127.0</th>\n",
              "      <th>location of the event_128.0</th>\n",
              "      <th>location of the event_129.0</th>\n",
              "      <th>location of the event_130.0</th>\n",
              "      <th>location of the event_131.0</th>\n",
              "      <th>location of the event_132.0</th>\n",
              "      <th>location of the event_133.0</th>\n",
              "      <th>...</th>\n",
              "      <th>emergency vehicle type_UMH 92</th>\n",
              "      <th>emergency vehicle type_UMH 93</th>\n",
              "      <th>emergency vehicle type_UMH 94</th>\n",
              "      <th>emergency vehicle type_UMH BOBI</th>\n",
              "      <th>emergency vehicle type_UMH DEBREPED</th>\n",
              "      <th>emergency vehicle type_UMH DIEU</th>\n",
              "      <th>emergency vehicle type_UMH GARC</th>\n",
              "      <th>emergency vehicle type_UMH LARIB</th>\n",
              "      <th>emergency vehicle type_UMH MONDOR</th>\n",
              "      <th>emergency vehicle type_UMH NECK</th>\n",
              "      <th>emergency vehicle type_UMH NECKPED</th>\n",
              "      <th>emergency vehicle type_UMH PITIE</th>\n",
              "      <th>emergency vehicle type_UMH STDE</th>\n",
              "      <th>emergency vehicle type_UMPS</th>\n",
              "      <th>emergency vehicle type_VAS</th>\n",
              "      <th>emergency vehicle type_VE2I</th>\n",
              "      <th>emergency vehicle type_VEC</th>\n",
              "      <th>emergency vehicle type_VELD</th>\n",
              "      <th>emergency vehicle type_VID</th>\n",
              "      <th>emergency vehicle type_VIGI</th>\n",
              "      <th>emergency vehicle type_VIMP</th>\n",
              "      <th>emergency vehicle type_VIRB</th>\n",
              "      <th>emergency vehicle type_VLHP</th>\n",
              "      <th>emergency vehicle type_VLR BSPP</th>\n",
              "      <th>emergency vehicle type_VPB</th>\n",
              "      <th>emergency vehicle type_VPC GFIS</th>\n",
              "      <th>emergency vehicle type_VPC GIS</th>\n",
              "      <th>emergency vehicle type_VPS</th>\n",
              "      <th>emergency vehicle type_VRA</th>\n",
              "      <th>emergency vehicle type_VRCH BSPP</th>\n",
              "      <th>emergency vehicle type_VRCP</th>\n",
              "      <th>emergency vehicle type_VRM</th>\n",
              "      <th>emergency vehicle type_VRSD</th>\n",
              "      <th>emergency vehicle type_VSAV BALA</th>\n",
              "      <th>emergency vehicle type_VSAV BSPP</th>\n",
              "      <th>emergency vehicle type_VSAV SDIS</th>\n",
              "      <th>emergency vehicle type_VSAV SSLIA</th>\n",
              "      <th>emergency vehicle type_VSIS</th>\n",
              "      <th>emergency vehicle type_VSTI</th>\n",
              "      <th>emergency vehicle type_VTBA</th>\n",
              "    </tr>\n",
              "    <tr>\n",
              "      <th>emergency vehicle selection</th>\n",
              "      <th></th>\n",
              "      <th></th>\n",
              "      <th></th>\n",
              "      <th></th>\n",
              "      <th></th>\n",
              "      <th></th>\n",
              "      <th></th>\n",
              "      <th></th>\n",
              "      <th></th>\n",
              "      <th></th>\n",
              "      <th></th>\n",
              "      <th></th>\n",
              "      <th></th>\n",
              "      <th></th>\n",
              "      <th></th>\n",
              "      <th></th>\n",
              "      <th></th>\n",
              "      <th></th>\n",
              "      <th></th>\n",
              "      <th></th>\n",
              "      <th></th>\n",
              "      <th></th>\n",
              "      <th></th>\n",
              "      <th></th>\n",
              "      <th></th>\n",
              "      <th></th>\n",
              "      <th></th>\n",
              "      <th></th>\n",
              "      <th></th>\n",
              "      <th></th>\n",
              "      <th></th>\n",
              "      <th></th>\n",
              "      <th></th>\n",
              "      <th></th>\n",
              "      <th></th>\n",
              "      <th></th>\n",
              "      <th></th>\n",
              "      <th></th>\n",
              "      <th></th>\n",
              "      <th></th>\n",
              "      <th></th>\n",
              "      <th></th>\n",
              "      <th></th>\n",
              "      <th></th>\n",
              "      <th></th>\n",
              "      <th></th>\n",
              "      <th></th>\n",
              "      <th></th>\n",
              "      <th></th>\n",
              "      <th></th>\n",
              "      <th></th>\n",
              "      <th></th>\n",
              "      <th></th>\n",
              "      <th></th>\n",
              "      <th></th>\n",
              "      <th></th>\n",
              "      <th></th>\n",
              "      <th></th>\n",
              "      <th></th>\n",
              "      <th></th>\n",
              "      <th></th>\n",
              "      <th></th>\n",
              "      <th></th>\n",
              "      <th></th>\n",
              "      <th></th>\n",
              "      <th></th>\n",
              "      <th></th>\n",
              "      <th></th>\n",
              "      <th></th>\n",
              "      <th></th>\n",
              "      <th></th>\n",
              "      <th></th>\n",
              "      <th></th>\n",
              "      <th></th>\n",
              "      <th></th>\n",
              "      <th></th>\n",
              "      <th></th>\n",
              "      <th></th>\n",
              "      <th></th>\n",
              "      <th></th>\n",
              "      <th></th>\n",
              "    </tr>\n",
              "  </thead>\n",
              "  <tbody>\n",
              "    <tr>\n",
              "      <th>5105452</th>\n",
              "      <td>0</td>\n",
              "      <td>1</td>\n",
              "      <td>0</td>\n",
              "      <td>0</td>\n",
              "      <td>0</td>\n",
              "      <td>0</td>\n",
              "      <td>0</td>\n",
              "      <td>0</td>\n",
              "      <td>0</td>\n",
              "      <td>0</td>\n",
              "      <td>0</td>\n",
              "      <td>0</td>\n",
              "      <td>0</td>\n",
              "      <td>0</td>\n",
              "      <td>0</td>\n",
              "      <td>0</td>\n",
              "      <td>0</td>\n",
              "      <td>0</td>\n",
              "      <td>0</td>\n",
              "      <td>0</td>\n",
              "      <td>0</td>\n",
              "      <td>0</td>\n",
              "      <td>0</td>\n",
              "      <td>0</td>\n",
              "      <td>0</td>\n",
              "      <td>0</td>\n",
              "      <td>0</td>\n",
              "      <td>0</td>\n",
              "      <td>0</td>\n",
              "      <td>0</td>\n",
              "      <td>0</td>\n",
              "      <td>0</td>\n",
              "      <td>0</td>\n",
              "      <td>0</td>\n",
              "      <td>0</td>\n",
              "      <td>0</td>\n",
              "      <td>0</td>\n",
              "      <td>0</td>\n",
              "      <td>0</td>\n",
              "      <td>0</td>\n",
              "      <td>...</td>\n",
              "      <td>0</td>\n",
              "      <td>0</td>\n",
              "      <td>0</td>\n",
              "      <td>0</td>\n",
              "      <td>0</td>\n",
              "      <td>0</td>\n",
              "      <td>0</td>\n",
              "      <td>0</td>\n",
              "      <td>0</td>\n",
              "      <td>0</td>\n",
              "      <td>0</td>\n",
              "      <td>0</td>\n",
              "      <td>0</td>\n",
              "      <td>0</td>\n",
              "      <td>0</td>\n",
              "      <td>0</td>\n",
              "      <td>0</td>\n",
              "      <td>0</td>\n",
              "      <td>0</td>\n",
              "      <td>0</td>\n",
              "      <td>0</td>\n",
              "      <td>0</td>\n",
              "      <td>0</td>\n",
              "      <td>0</td>\n",
              "      <td>0</td>\n",
              "      <td>0</td>\n",
              "      <td>0</td>\n",
              "      <td>0</td>\n",
              "      <td>0</td>\n",
              "      <td>0</td>\n",
              "      <td>0</td>\n",
              "      <td>0</td>\n",
              "      <td>0</td>\n",
              "      <td>0</td>\n",
              "      <td>1</td>\n",
              "      <td>0</td>\n",
              "      <td>0</td>\n",
              "      <td>0</td>\n",
              "      <td>0</td>\n",
              "      <td>0</td>\n",
              "    </tr>\n",
              "    <tr>\n",
              "      <th>4720915</th>\n",
              "      <td>0</td>\n",
              "      <td>1</td>\n",
              "      <td>0</td>\n",
              "      <td>0</td>\n",
              "      <td>0</td>\n",
              "      <td>0</td>\n",
              "      <td>0</td>\n",
              "      <td>0</td>\n",
              "      <td>0</td>\n",
              "      <td>0</td>\n",
              "      <td>0</td>\n",
              "      <td>0</td>\n",
              "      <td>0</td>\n",
              "      <td>0</td>\n",
              "      <td>0</td>\n",
              "      <td>0</td>\n",
              "      <td>0</td>\n",
              "      <td>0</td>\n",
              "      <td>0</td>\n",
              "      <td>0</td>\n",
              "      <td>0</td>\n",
              "      <td>0</td>\n",
              "      <td>0</td>\n",
              "      <td>0</td>\n",
              "      <td>0</td>\n",
              "      <td>0</td>\n",
              "      <td>0</td>\n",
              "      <td>0</td>\n",
              "      <td>0</td>\n",
              "      <td>0</td>\n",
              "      <td>0</td>\n",
              "      <td>0</td>\n",
              "      <td>0</td>\n",
              "      <td>0</td>\n",
              "      <td>0</td>\n",
              "      <td>0</td>\n",
              "      <td>0</td>\n",
              "      <td>0</td>\n",
              "      <td>0</td>\n",
              "      <td>0</td>\n",
              "      <td>...</td>\n",
              "      <td>0</td>\n",
              "      <td>0</td>\n",
              "      <td>0</td>\n",
              "      <td>0</td>\n",
              "      <td>0</td>\n",
              "      <td>0</td>\n",
              "      <td>0</td>\n",
              "      <td>0</td>\n",
              "      <td>0</td>\n",
              "      <td>0</td>\n",
              "      <td>0</td>\n",
              "      <td>0</td>\n",
              "      <td>0</td>\n",
              "      <td>0</td>\n",
              "      <td>0</td>\n",
              "      <td>0</td>\n",
              "      <td>0</td>\n",
              "      <td>0</td>\n",
              "      <td>0</td>\n",
              "      <td>0</td>\n",
              "      <td>0</td>\n",
              "      <td>0</td>\n",
              "      <td>0</td>\n",
              "      <td>0</td>\n",
              "      <td>0</td>\n",
              "      <td>0</td>\n",
              "      <td>0</td>\n",
              "      <td>0</td>\n",
              "      <td>0</td>\n",
              "      <td>0</td>\n",
              "      <td>0</td>\n",
              "      <td>0</td>\n",
              "      <td>0</td>\n",
              "      <td>0</td>\n",
              "      <td>0</td>\n",
              "      <td>0</td>\n",
              "      <td>0</td>\n",
              "      <td>0</td>\n",
              "      <td>0</td>\n",
              "      <td>0</td>\n",
              "    </tr>\n",
              "    <tr>\n",
              "      <th>5365374</th>\n",
              "      <td>0</td>\n",
              "      <td>1</td>\n",
              "      <td>0</td>\n",
              "      <td>0</td>\n",
              "      <td>0</td>\n",
              "      <td>0</td>\n",
              "      <td>0</td>\n",
              "      <td>0</td>\n",
              "      <td>0</td>\n",
              "      <td>0</td>\n",
              "      <td>0</td>\n",
              "      <td>0</td>\n",
              "      <td>0</td>\n",
              "      <td>0</td>\n",
              "      <td>0</td>\n",
              "      <td>0</td>\n",
              "      <td>0</td>\n",
              "      <td>0</td>\n",
              "      <td>0</td>\n",
              "      <td>0</td>\n",
              "      <td>0</td>\n",
              "      <td>0</td>\n",
              "      <td>0</td>\n",
              "      <td>0</td>\n",
              "      <td>0</td>\n",
              "      <td>0</td>\n",
              "      <td>0</td>\n",
              "      <td>0</td>\n",
              "      <td>0</td>\n",
              "      <td>0</td>\n",
              "      <td>0</td>\n",
              "      <td>0</td>\n",
              "      <td>0</td>\n",
              "      <td>0</td>\n",
              "      <td>0</td>\n",
              "      <td>0</td>\n",
              "      <td>0</td>\n",
              "      <td>0</td>\n",
              "      <td>0</td>\n",
              "      <td>0</td>\n",
              "      <td>...</td>\n",
              "      <td>0</td>\n",
              "      <td>0</td>\n",
              "      <td>0</td>\n",
              "      <td>0</td>\n",
              "      <td>0</td>\n",
              "      <td>0</td>\n",
              "      <td>0</td>\n",
              "      <td>0</td>\n",
              "      <td>0</td>\n",
              "      <td>0</td>\n",
              "      <td>0</td>\n",
              "      <td>0</td>\n",
              "      <td>0</td>\n",
              "      <td>0</td>\n",
              "      <td>0</td>\n",
              "      <td>0</td>\n",
              "      <td>0</td>\n",
              "      <td>0</td>\n",
              "      <td>0</td>\n",
              "      <td>0</td>\n",
              "      <td>0</td>\n",
              "      <td>0</td>\n",
              "      <td>0</td>\n",
              "      <td>0</td>\n",
              "      <td>0</td>\n",
              "      <td>0</td>\n",
              "      <td>0</td>\n",
              "      <td>0</td>\n",
              "      <td>0</td>\n",
              "      <td>0</td>\n",
              "      <td>0</td>\n",
              "      <td>0</td>\n",
              "      <td>0</td>\n",
              "      <td>0</td>\n",
              "      <td>1</td>\n",
              "      <td>0</td>\n",
              "      <td>0</td>\n",
              "      <td>0</td>\n",
              "      <td>0</td>\n",
              "      <td>0</td>\n",
              "    </tr>\n",
              "    <tr>\n",
              "      <th>4741586</th>\n",
              "      <td>0</td>\n",
              "      <td>1</td>\n",
              "      <td>0</td>\n",
              "      <td>0</td>\n",
              "      <td>0</td>\n",
              "      <td>0</td>\n",
              "      <td>0</td>\n",
              "      <td>0</td>\n",
              "      <td>0</td>\n",
              "      <td>0</td>\n",
              "      <td>0</td>\n",
              "      <td>0</td>\n",
              "      <td>0</td>\n",
              "      <td>0</td>\n",
              "      <td>0</td>\n",
              "      <td>0</td>\n",
              "      <td>0</td>\n",
              "      <td>0</td>\n",
              "      <td>0</td>\n",
              "      <td>0</td>\n",
              "      <td>0</td>\n",
              "      <td>0</td>\n",
              "      <td>0</td>\n",
              "      <td>0</td>\n",
              "      <td>0</td>\n",
              "      <td>0</td>\n",
              "      <td>0</td>\n",
              "      <td>0</td>\n",
              "      <td>0</td>\n",
              "      <td>0</td>\n",
              "      <td>0</td>\n",
              "      <td>0</td>\n",
              "      <td>0</td>\n",
              "      <td>0</td>\n",
              "      <td>0</td>\n",
              "      <td>0</td>\n",
              "      <td>0</td>\n",
              "      <td>0</td>\n",
              "      <td>0</td>\n",
              "      <td>0</td>\n",
              "      <td>...</td>\n",
              "      <td>0</td>\n",
              "      <td>0</td>\n",
              "      <td>0</td>\n",
              "      <td>0</td>\n",
              "      <td>0</td>\n",
              "      <td>0</td>\n",
              "      <td>0</td>\n",
              "      <td>0</td>\n",
              "      <td>0</td>\n",
              "      <td>0</td>\n",
              "      <td>0</td>\n",
              "      <td>0</td>\n",
              "      <td>0</td>\n",
              "      <td>0</td>\n",
              "      <td>0</td>\n",
              "      <td>0</td>\n",
              "      <td>0</td>\n",
              "      <td>0</td>\n",
              "      <td>0</td>\n",
              "      <td>0</td>\n",
              "      <td>0</td>\n",
              "      <td>0</td>\n",
              "      <td>0</td>\n",
              "      <td>0</td>\n",
              "      <td>0</td>\n",
              "      <td>0</td>\n",
              "      <td>0</td>\n",
              "      <td>0</td>\n",
              "      <td>0</td>\n",
              "      <td>0</td>\n",
              "      <td>0</td>\n",
              "      <td>0</td>\n",
              "      <td>0</td>\n",
              "      <td>0</td>\n",
              "      <td>1</td>\n",
              "      <td>0</td>\n",
              "      <td>0</td>\n",
              "      <td>0</td>\n",
              "      <td>0</td>\n",
              "      <td>0</td>\n",
              "    </tr>\n",
              "    <tr>\n",
              "      <th>5381209</th>\n",
              "      <td>0</td>\n",
              "      <td>1</td>\n",
              "      <td>0</td>\n",
              "      <td>0</td>\n",
              "      <td>0</td>\n",
              "      <td>0</td>\n",
              "      <td>0</td>\n",
              "      <td>0</td>\n",
              "      <td>0</td>\n",
              "      <td>0</td>\n",
              "      <td>0</td>\n",
              "      <td>1</td>\n",
              "      <td>0</td>\n",
              "      <td>0</td>\n",
              "      <td>0</td>\n",
              "      <td>0</td>\n",
              "      <td>0</td>\n",
              "      <td>0</td>\n",
              "      <td>0</td>\n",
              "      <td>0</td>\n",
              "      <td>0</td>\n",
              "      <td>0</td>\n",
              "      <td>0</td>\n",
              "      <td>0</td>\n",
              "      <td>0</td>\n",
              "      <td>0</td>\n",
              "      <td>0</td>\n",
              "      <td>0</td>\n",
              "      <td>0</td>\n",
              "      <td>0</td>\n",
              "      <td>0</td>\n",
              "      <td>0</td>\n",
              "      <td>0</td>\n",
              "      <td>0</td>\n",
              "      <td>0</td>\n",
              "      <td>0</td>\n",
              "      <td>0</td>\n",
              "      <td>0</td>\n",
              "      <td>0</td>\n",
              "      <td>0</td>\n",
              "      <td>...</td>\n",
              "      <td>0</td>\n",
              "      <td>0</td>\n",
              "      <td>0</td>\n",
              "      <td>0</td>\n",
              "      <td>0</td>\n",
              "      <td>0</td>\n",
              "      <td>0</td>\n",
              "      <td>0</td>\n",
              "      <td>0</td>\n",
              "      <td>0</td>\n",
              "      <td>0</td>\n",
              "      <td>0</td>\n",
              "      <td>0</td>\n",
              "      <td>0</td>\n",
              "      <td>0</td>\n",
              "      <td>0</td>\n",
              "      <td>0</td>\n",
              "      <td>0</td>\n",
              "      <td>0</td>\n",
              "      <td>0</td>\n",
              "      <td>0</td>\n",
              "      <td>0</td>\n",
              "      <td>0</td>\n",
              "      <td>0</td>\n",
              "      <td>0</td>\n",
              "      <td>0</td>\n",
              "      <td>0</td>\n",
              "      <td>0</td>\n",
              "      <td>0</td>\n",
              "      <td>0</td>\n",
              "      <td>0</td>\n",
              "      <td>0</td>\n",
              "      <td>0</td>\n",
              "      <td>0</td>\n",
              "      <td>1</td>\n",
              "      <td>0</td>\n",
              "      <td>0</td>\n",
              "      <td>0</td>\n",
              "      <td>0</td>\n",
              "      <td>0</td>\n",
              "    </tr>\n",
              "  </tbody>\n",
              "</table>\n",
              "<p>5 rows × 291 columns</p>\n",
              "</div>\n",
              "      <button class=\"colab-df-convert\" onclick=\"convertToInteractive('df-2e0b0df4-ddae-438f-af16-8517078f4087')\"\n",
              "              title=\"Convert this dataframe to an interactive table.\"\n",
              "              style=\"display:none;\">\n",
              "        \n",
              "  <svg xmlns=\"http://www.w3.org/2000/svg\" height=\"24px\"viewBox=\"0 0 24 24\"\n",
              "       width=\"24px\">\n",
              "    <path d=\"M0 0h24v24H0V0z\" fill=\"none\"/>\n",
              "    <path d=\"M18.56 5.44l.94 2.06.94-2.06 2.06-.94-2.06-.94-.94-2.06-.94 2.06-2.06.94zm-11 1L8.5 8.5l.94-2.06 2.06-.94-2.06-.94L8.5 2.5l-.94 2.06-2.06.94zm10 10l.94 2.06.94-2.06 2.06-.94-2.06-.94-.94-2.06-.94 2.06-2.06.94z\"/><path d=\"M17.41 7.96l-1.37-1.37c-.4-.4-.92-.59-1.43-.59-.52 0-1.04.2-1.43.59L10.3 9.45l-7.72 7.72c-.78.78-.78 2.05 0 2.83L4 21.41c.39.39.9.59 1.41.59.51 0 1.02-.2 1.41-.59l7.78-7.78 2.81-2.81c.8-.78.8-2.07 0-2.86zM5.41 20L4 18.59l7.72-7.72 1.47 1.35L5.41 20z\"/>\n",
              "  </svg>\n",
              "      </button>\n",
              "      \n",
              "  <style>\n",
              "    .colab-df-container {\n",
              "      display:flex;\n",
              "      flex-wrap:wrap;\n",
              "      gap: 12px;\n",
              "    }\n",
              "\n",
              "    .colab-df-convert {\n",
              "      background-color: #E8F0FE;\n",
              "      border: none;\n",
              "      border-radius: 50%;\n",
              "      cursor: pointer;\n",
              "      display: none;\n",
              "      fill: #1967D2;\n",
              "      height: 32px;\n",
              "      padding: 0 0 0 0;\n",
              "      width: 32px;\n",
              "    }\n",
              "\n",
              "    .colab-df-convert:hover {\n",
              "      background-color: #E2EBFA;\n",
              "      box-shadow: 0px 1px 2px rgba(60, 64, 67, 0.3), 0px 1px 3px 1px rgba(60, 64, 67, 0.15);\n",
              "      fill: #174EA6;\n",
              "    }\n",
              "\n",
              "    [theme=dark] .colab-df-convert {\n",
              "      background-color: #3B4455;\n",
              "      fill: #D2E3FC;\n",
              "    }\n",
              "\n",
              "    [theme=dark] .colab-df-convert:hover {\n",
              "      background-color: #434B5C;\n",
              "      box-shadow: 0px 1px 3px 1px rgba(0, 0, 0, 0.15);\n",
              "      filter: drop-shadow(0px 1px 2px rgba(0, 0, 0, 0.3));\n",
              "      fill: #FFFFFF;\n",
              "    }\n",
              "  </style>\n",
              "\n",
              "      <script>\n",
              "        const buttonEl =\n",
              "          document.querySelector('#df-2e0b0df4-ddae-438f-af16-8517078f4087 button.colab-df-convert');\n",
              "        buttonEl.style.display =\n",
              "          google.colab.kernel.accessAllowed ? 'block' : 'none';\n",
              "\n",
              "        async function convertToInteractive(key) {\n",
              "          const element = document.querySelector('#df-2e0b0df4-ddae-438f-af16-8517078f4087');\n",
              "          const dataTable =\n",
              "            await google.colab.kernel.invokeFunction('convertToInteractive',\n",
              "                                                     [key], {});\n",
              "          if (!dataTable) return;\n",
              "\n",
              "          const docLinkHtml = 'Like what you see? Visit the ' +\n",
              "            '<a target=\"_blank\" href=https://colab.research.google.com/notebooks/data_table.ipynb>data table notebook</a>'\n",
              "            + ' to learn more about interactive tables.';\n",
              "          element.innerHTML = '';\n",
              "          dataTable['output_type'] = 'display_data';\n",
              "          await google.colab.output.renderOutput(dataTable, element);\n",
              "          const docLink = document.createElement('div');\n",
              "          docLink.innerHTML = docLinkHtml;\n",
              "          element.appendChild(docLink);\n",
              "        }\n",
              "      </script>\n",
              "    </div>\n",
              "  </div>\n",
              "  "
            ],
            "text/plain": [
              "                             alert reason category_2  ...  emergency vehicle type_VTBA\n",
              "emergency vehicle selection                           ...                             \n",
              "5105452                                            0  ...                            0\n",
              "4720915                                            0  ...                            0\n",
              "5365374                                            0  ...                            0\n",
              "4741586                                            0  ...                            0\n",
              "5381209                                            0  ...                            0\n",
              "\n",
              "[5 rows x 291 columns]"
            ]
          },
          "metadata": {},
          "execution_count": 32
        }
      ]
    },
    {
      "cell_type": "code",
      "metadata": {
        "id": "GgH8SUnKdV0y",
        "colab": {
          "base_uri": "https://localhost:8080/"
        },
        "outputId": "d385ffb8-85aa-4863-d2c8-a2b2b08d3b24"
      },
      "source": [
        "df=df.drop(columns=categoricas)\n",
        "df=pd.concat([df, he], axis=1)\n",
        "df.shape"
      ],
      "execution_count": 33,
      "outputs": [
        {
          "output_type": "execute_result",
          "data": {
            "text/plain": [
              "(219337, 299)"
            ]
          },
          "metadata": {},
          "execution_count": 33
        }
      ]
    },
    {
      "cell_type": "code",
      "metadata": {
        "id": "fChmNEy8yd9x",
        "colab": {
          "base_uri": "https://localhost:8080/"
        },
        "outputId": "64d1a664-b89d-4482-9636-d5b2ebb5d2b7"
      },
      "source": [
        "#Llevar la etiqueta hasta la ultima posición \n",
        "cols = df.columns.tolist()\n",
        "df = df[[c for c in df if c != 'delta departure-presentation'] + ['delta departure-presentation']]\n",
        "print(df.shape)\n",
        "df.info()"
      ],
      "execution_count": 34,
      "outputs": [
        {
          "output_type": "stream",
          "name": "stdout",
          "text": [
            "(219337, 299)\n",
            "<class 'pandas.core.frame.DataFrame'>\n",
            "Int64Index: 219337 entries, 5105452 to 4868867\n",
            "Columns: 299 entries, selection time to delta departure-presentation\n",
            "dtypes: bool(1), datetime64[ns](1), float64(2), int64(4), uint8(291)\n",
            "memory usage: 74.5 MB\n"
          ]
        }
      ]
    },
    {
      "cell_type": "markdown",
      "source": [
        "# Selección de variables"
      ],
      "metadata": {
        "id": "T3p0AnM5y38I"
      }
    },
    {
      "cell_type": "markdown",
      "source": [
        "<h2> Eliminar variables no relevantes \n",
        "\n",
        "Análisis de correlación con la variable respuesta"
      ],
      "metadata": {
        "id": "jTlHyf9NhtRk"
      }
    },
    {
      "cell_type": "code",
      "source": [
        "corr_y = df.corr()['delta departure-presentation']\n",
        "corr_y.sort_values(ascending = False)"
      ],
      "metadata": {
        "colab": {
          "base_uri": "https://localhost:8080/"
        },
        "id": "t1Vc3L3vzsfg",
        "outputId": "59f606b8-35a1-40bc-aeec-179f536ff6d8"
      },
      "execution_count": 35,
      "outputs": [
        {
          "output_type": "execute_result",
          "data": {
            "text/plain": [
              "delta departure-presentation        1.000000\n",
              "OSRM estimated distance             0.449922\n",
              "OSRM estimated duration             0.446742\n",
              "emergency vehicle type_VRCP         0.104753\n",
              "emergency vehicle type_VID          0.102340\n",
              "                                      ...   \n",
              "location of the event_325.0        -0.029667\n",
              "location of the event_259.0        -0.037418\n",
              "location of the event_148.0        -0.047335\n",
              "emergency vehicle type_VSAV BSPP   -0.055509\n",
              "intervention on public roads       -0.057065\n",
              "Name: delta departure-presentation, Length: 298, dtype: float64"
            ]
          },
          "metadata": {},
          "execution_count": 35
        }
      ]
    },
    {
      "cell_type": "code",
      "source": [
        "corr_y.abs().describe()"
      ],
      "metadata": {
        "colab": {
          "base_uri": "https://localhost:8080/"
        },
        "id": "hLJGSEG0zJDS",
        "outputId": "b72ef994-9fc1-4463-874a-3f5d7a53903d"
      },
      "execution_count": 36,
      "outputs": [
        {
          "output_type": "execute_result",
          "data": {
            "text/plain": [
              "count    2.980000e+02\n",
              "mean     1.435166e-02\n",
              "std      6.915652e-02\n",
              "min      1.704090e-07\n",
              "25%      1.240320e-03\n",
              "50%      2.762905e-03\n",
              "75%      9.219855e-03\n",
              "max      1.000000e+00\n",
              "Name: delta departure-presentation, dtype: float64"
            ]
          },
          "metadata": {},
          "execution_count": 36
        }
      ]
    },
    {
      "cell_type": "code",
      "source": [
        "len(corr_y)"
      ],
      "metadata": {
        "colab": {
          "base_uri": "https://localhost:8080/"
        },
        "id": "vulj_h0G00t4",
        "outputId": "c8929a06-3709-4c59-f058-5bb0d8775e5f"
      },
      "execution_count": 37,
      "outputs": [
        {
          "output_type": "execute_result",
          "data": {
            "text/plain": [
              "298"
            ]
          },
          "metadata": {},
          "execution_count": 37
        }
      ]
    },
    {
      "cell_type": "code",
      "source": [
        "len(corr_y[corr_y<0.005])"
      ],
      "metadata": {
        "colab": {
          "base_uri": "https://localhost:8080/"
        },
        "outputId": "bf737d29-9a9a-4d4c-9481-5aebb84f474f",
        "id": "7XdiqxCB2kwo"
      },
      "execution_count": 38,
      "outputs": [
        {
          "output_type": "execute_result",
          "data": {
            "text/plain": [
              "229"
            ]
          },
          "metadata": {},
          "execution_count": 38
        }
      ]
    },
    {
      "cell_type": "code",
      "source": [
        "no_relevantes = list(corr_y[corr_y<0.005].index)\n",
        "df = df.drop(no_relevantes, axis=1)\n",
        "df.shape"
      ],
      "metadata": {
        "colab": {
          "base_uri": "https://localhost:8080/"
        },
        "id": "KLzGn_Mh0pZv",
        "outputId": "d6f9f643-447a-4cdd-c4db-0770af964c15"
      },
      "execution_count": 39,
      "outputs": [
        {
          "output_type": "execute_result",
          "data": {
            "text/plain": [
              "(219337, 70)"
            ]
          },
          "metadata": {},
          "execution_count": 39
        }
      ]
    },
    {
      "cell_type": "code",
      "source": [
        "no_relevantes"
      ],
      "metadata": {
        "colab": {
          "base_uri": "https://localhost:8080/"
        },
        "id": "1H-tHZTEiuxb",
        "outputId": "5856a633-52fb-48cc-82e4-38b3c90641f2"
      },
      "execution_count": 40,
      "outputs": [
        {
          "output_type": "execute_result",
          "data": {
            "text/plain": [
              "['intervention on public roads',\n",
              " 'floor',\n",
              " 'alert reason category_2',\n",
              " 'alert reason category_3',\n",
              " 'alert reason category_4',\n",
              " 'location of the event_101.0',\n",
              " 'location of the event_102.0',\n",
              " 'location of the event_103.0',\n",
              " 'location of the event_104.0',\n",
              " 'location of the event_105.0',\n",
              " 'location of the event_106.0',\n",
              " 'location of the event_107.0',\n",
              " 'location of the event_109.0',\n",
              " 'location of the event_112.0',\n",
              " 'location of the event_113.0',\n",
              " 'location of the event_114.0',\n",
              " 'location of the event_115.0',\n",
              " 'location of the event_116.0',\n",
              " 'location of the event_118.0',\n",
              " 'location of the event_119.0',\n",
              " 'location of the event_120.0',\n",
              " 'location of the event_121.0',\n",
              " 'location of the event_122.0',\n",
              " 'location of the event_123.0',\n",
              " 'location of the event_124.0',\n",
              " 'location of the event_125.0',\n",
              " 'location of the event_126.0',\n",
              " 'location of the event_128.0',\n",
              " 'location of the event_129.0',\n",
              " 'location of the event_130.0',\n",
              " 'location of the event_132.0',\n",
              " 'location of the event_133.0',\n",
              " 'location of the event_134.0',\n",
              " 'location of the event_135.0',\n",
              " 'location of the event_137.0',\n",
              " 'location of the event_138.0',\n",
              " 'location of the event_141.0',\n",
              " 'location of the event_142.0',\n",
              " 'location of the event_144.0',\n",
              " 'location of the event_145.0',\n",
              " 'location of the event_146.0',\n",
              " 'location of the event_147.0',\n",
              " 'location of the event_148.0',\n",
              " 'location of the event_149.0',\n",
              " 'location of the event_150.0',\n",
              " 'location of the event_151.0',\n",
              " 'location of the event_153.0',\n",
              " 'location of the event_154.0',\n",
              " 'location of the event_155.0',\n",
              " 'location of the event_156.0',\n",
              " 'location of the event_157.0',\n",
              " 'location of the event_158.0',\n",
              " 'location of the event_159.0',\n",
              " 'location of the event_160.0',\n",
              " 'location of the event_162.0',\n",
              " 'location of the event_163.0',\n",
              " 'location of the event_165.0',\n",
              " 'location of the event_166.0',\n",
              " 'location of the event_172.0',\n",
              " 'location of the event_174.0',\n",
              " 'location of the event_175.0',\n",
              " 'location of the event_177.0',\n",
              " 'location of the event_178.0',\n",
              " 'location of the event_179.0',\n",
              " 'location of the event_180.0',\n",
              " 'location of the event_181.0',\n",
              " 'location of the event_182.0',\n",
              " 'location of the event_183.0',\n",
              " 'location of the event_184.0',\n",
              " 'location of the event_186.0',\n",
              " 'location of the event_187.0',\n",
              " 'location of the event_188.0',\n",
              " 'location of the event_189.0',\n",
              " 'location of the event_190.0',\n",
              " 'location of the event_191.0',\n",
              " 'location of the event_192.0',\n",
              " 'location of the event_193.0',\n",
              " 'location of the event_194.0',\n",
              " 'location of the event_195.0',\n",
              " 'location of the event_196.0',\n",
              " 'location of the event_197.0',\n",
              " 'location of the event_198.0',\n",
              " 'location of the event_199.0',\n",
              " 'location of the event_200.0',\n",
              " 'location of the event_201.0',\n",
              " 'location of the event_203.0',\n",
              " 'location of the event_204.0',\n",
              " 'location of the event_207.0',\n",
              " 'location of the event_208.0',\n",
              " 'location of the event_209.0',\n",
              " 'location of the event_210.0',\n",
              " 'location of the event_211.0',\n",
              " 'location of the event_212.0',\n",
              " 'location of the event_213.0',\n",
              " 'location of the event_214.0',\n",
              " 'location of the event_215.0',\n",
              " 'location of the event_216.0',\n",
              " 'location of the event_217.0',\n",
              " 'location of the event_219.0',\n",
              " 'location of the event_220.0',\n",
              " 'location of the event_221.0',\n",
              " 'location of the event_222.0',\n",
              " 'location of the event_223.0',\n",
              " 'location of the event_224.0',\n",
              " 'location of the event_225.0',\n",
              " 'location of the event_226.0',\n",
              " 'location of the event_227.0',\n",
              " 'location of the event_228.0',\n",
              " 'location of the event_229.0',\n",
              " 'location of the event_230.0',\n",
              " 'location of the event_231.0',\n",
              " 'location of the event_232.0',\n",
              " 'location of the event_233.0',\n",
              " 'location of the event_234.0',\n",
              " 'location of the event_235.0',\n",
              " 'location of the event_236.0',\n",
              " 'location of the event_237.0',\n",
              " 'location of the event_238.0',\n",
              " 'location of the event_239.0',\n",
              " 'location of the event_240.0',\n",
              " 'location of the event_241.0',\n",
              " 'location of the event_242.0',\n",
              " 'location of the event_243.0',\n",
              " 'location of the event_245.0',\n",
              " 'location of the event_246.0',\n",
              " 'location of the event_247.0',\n",
              " 'location of the event_248.0',\n",
              " 'location of the event_250.0',\n",
              " 'location of the event_254.0',\n",
              " 'location of the event_255.0',\n",
              " 'location of the event_256.0',\n",
              " 'location of the event_257.0',\n",
              " 'location of the event_258.0',\n",
              " 'location of the event_259.0',\n",
              " 'location of the event_260.0',\n",
              " 'location of the event_261.0',\n",
              " 'location of the event_262.0',\n",
              " 'location of the event_263.0',\n",
              " 'location of the event_264.0',\n",
              " 'location of the event_265.0',\n",
              " 'location of the event_267.0',\n",
              " 'location of the event_268.0',\n",
              " 'location of the event_269.0',\n",
              " 'location of the event_270.0',\n",
              " 'location of the event_271.0',\n",
              " 'location of the event_272.0',\n",
              " 'location of the event_274.0',\n",
              " 'location of the event_275.0',\n",
              " 'location of the event_276.0',\n",
              " 'location of the event_277.0',\n",
              " 'location of the event_279.0',\n",
              " 'location of the event_280.0',\n",
              " 'location of the event_282.0',\n",
              " 'location of the event_284.0',\n",
              " 'location of the event_285.0',\n",
              " 'location of the event_286.0',\n",
              " 'location of the event_288.0',\n",
              " 'location of the event_289.0',\n",
              " 'location of the event_290.0',\n",
              " 'location of the event_291.0',\n",
              " 'location of the event_292.0',\n",
              " 'location of the event_293.0',\n",
              " 'location of the event_294.0',\n",
              " 'location of the event_295.0',\n",
              " 'location of the event_296.0',\n",
              " 'location of the event_297.0',\n",
              " 'location of the event_298.0',\n",
              " 'location of the event_300.0',\n",
              " 'location of the event_301.0',\n",
              " 'location of the event_305.0',\n",
              " 'location of the event_306.0',\n",
              " 'location of the event_308.0',\n",
              " 'location of the event_309.0',\n",
              " 'location of the event_311.0',\n",
              " 'location of the event_312.0',\n",
              " 'location of the event_313.0',\n",
              " 'location of the event_315.0',\n",
              " 'location of the event_316.0',\n",
              " 'location of the event_317.0',\n",
              " 'location of the event_318.0',\n",
              " 'location of the event_319.0',\n",
              " 'location of the event_320.0',\n",
              " 'location of the event_322.0',\n",
              " 'location of the event_323.0',\n",
              " 'location of the event_324.0',\n",
              " 'location of the event_325.0',\n",
              " 'emergency vehicle type_CA',\n",
              " 'emergency vehicle type_CFS',\n",
              " 'emergency vehicle type_CRF',\n",
              " 'emergency vehicle type_CSP',\n",
              " 'emergency vehicle type_DAP',\n",
              " 'emergency vehicle type_EPA BSPP',\n",
              " 'emergency vehicle type_EPAN',\n",
              " 'emergency vehicle type_EPSA',\n",
              " 'emergency vehicle type_ESAV',\n",
              " 'emergency vehicle type_ESAVI',\n",
              " 'emergency vehicle type_FFSS',\n",
              " 'emergency vehicle type_FMOGP BSPP',\n",
              " 'emergency vehicle type_FNPC',\n",
              " 'emergency vehicle type_FPT BSPP',\n",
              " 'emergency vehicle type_FPT SSLIA',\n",
              " 'emergency vehicle type_FPTL BSPP',\n",
              " 'emergency vehicle type_OHFOM',\n",
              " 'emergency vehicle type_SFCB',\n",
              " 'emergency vehicle type_UMH',\n",
              " 'emergency vehicle type_UMH 75',\n",
              " 'emergency vehicle type_UMH 92',\n",
              " 'emergency vehicle type_UMH 94',\n",
              " 'emergency vehicle type_UMH BOBI',\n",
              " 'emergency vehicle type_UMH DEBREPED',\n",
              " 'emergency vehicle type_UMH DIEU',\n",
              " 'emergency vehicle type_UMH GARC',\n",
              " 'emergency vehicle type_UMH LARIB',\n",
              " 'emergency vehicle type_UMH MONDOR',\n",
              " 'emergency vehicle type_UMH NECK',\n",
              " 'emergency vehicle type_UMH NECKPED',\n",
              " 'emergency vehicle type_UMH PITIE',\n",
              " 'emergency vehicle type_UMH STDE',\n",
              " 'emergency vehicle type_UMPS',\n",
              " 'emergency vehicle type_VAS',\n",
              " 'emergency vehicle type_VELD',\n",
              " 'emergency vehicle type_VIRB',\n",
              " 'emergency vehicle type_VPB',\n",
              " 'emergency vehicle type_VPC GFIS',\n",
              " 'emergency vehicle type_VPC GIS',\n",
              " 'emergency vehicle type_VSAV BALA',\n",
              " 'emergency vehicle type_VSAV BSPP',\n",
              " 'emergency vehicle type_VSAV SDIS',\n",
              " 'emergency vehicle type_VSAV SSLIA']"
            ]
          },
          "metadata": {},
          "execution_count": 40
        }
      ]
    },
    {
      "cell_type": "markdown",
      "source": [
        "<h2>Eliminar variables redundantes\n",
        "\n",
        "Análisis de correlación entre las variables explicativas"
      ],
      "metadata": {
        "id": "PeCZgmtkiJgu"
      }
    },
    {
      "cell_type": "code",
      "source": [
        "# correlacion de las características en el conjunto X\n",
        "corr_matrix = df.drop('delta departure-presentation', axis=1).corr()  "
      ],
      "metadata": {
        "id": "cGsVWQFJ4Zcm"
      },
      "execution_count": 41,
      "outputs": []
    },
    {
      "cell_type": "code",
      "metadata": {
        "id": "6bJkcZX_yHC5",
        "outputId": "5e3fd8cb-7c77-4670-cf74-cd9acc6c994e",
        "colab": {
          "base_uri": "https://localhost:8080/"
        }
      },
      "source": [
        "#Identificar variables redundantes \n",
        "\n",
        "# Triangulo superior de la matriz de correlación en números absolutos\n",
        "celda_sobre_diagonal_ppal = np.triu(np.ones_like(corr_matrix),1).astype(bool)\n",
        "triangulo_sup = corr_matrix.where(celda_sobre_diagonal_ppal).abs()\n",
        "\n",
        "\n",
        "# Encontrar las columnas donde la correlación es 1\n",
        "redundantes = [column for column in triangulo_sup.columns\n",
        "          if any(triangulo_sup[column] >= .7)]\n",
        "redundantes"
      ],
      "execution_count": 42,
      "outputs": [
        {
          "output_type": "execute_result",
          "data": {
            "text/plain": [
              "['OSRM estimated duration']"
            ]
          },
          "metadata": {},
          "execution_count": 42
        }
      ]
    },
    {
      "cell_type": "code",
      "metadata": {
        "id": "44VVRRhwTr1x"
      },
      "source": [
        "df = df.drop('OSRM estimated duration', axis=1)"
      ],
      "execution_count": 43,
      "outputs": []
    },
    {
      "cell_type": "code",
      "source": [
        "df.columns"
      ],
      "metadata": {
        "colab": {
          "base_uri": "https://localhost:8080/"
        },
        "id": "sfzLSwT694q6",
        "outputId": "a2f0d523-777e-4f7a-a661-cc1cf23eaebb"
      },
      "execution_count": 44,
      "outputs": [
        {
          "output_type": "execute_result",
          "data": {
            "text/plain": [
              "Index(['selection time', 'OSRM estimated distance', 'rush hour', 'weekday',\n",
              "       'alert reason category_5', 'alert reason category_6',\n",
              "       'alert reason category_7', 'alert reason category_8',\n",
              "       'alert reason category_9', 'location of the event_108.0',\n",
              "       'location of the event_110.0', 'location of the event_111.0',\n",
              "       'location of the event_127.0', 'location of the event_131.0',\n",
              "       'location of the event_136.0', 'location of the event_139.0',\n",
              "       'location of the event_140.0', 'location of the event_143.0',\n",
              "       'location of the event_164.0', 'location of the event_167.0',\n",
              "       'location of the event_168.0', 'location of the event_169.0',\n",
              "       'location of the event_170.0', 'location of the event_171.0',\n",
              "       'location of the event_202.0', 'location of the event_205.0',\n",
              "       'location of the event_206.0', 'location of the event_218.0',\n",
              "       'location of the event_244.0', 'location of the event_252.0',\n",
              "       'location of the event_287.0', 'location of the event_299.0',\n",
              "       'location of the event_302.0', 'location of the event_303.0',\n",
              "       'location of the event_307.0', 'location of the event_310.0',\n",
              "       'location of the event_321.0', 'emergency vehicle type_BEAA BSPP',\n",
              "       'emergency vehicle type_CCR BSPP', 'emergency vehicle type_CD BSPP',\n",
              "       'emergency vehicle type_CESD', 'emergency vehicle type_CMO APP',\n",
              "       'emergency vehicle type_CRAC', 'emergency vehicle type_DEP',\n",
              "       'emergency vehicle type_FA', 'emergency vehicle type_PEV',\n",
              "       'emergency vehicle type_PSE', 'emergency vehicle type_PST',\n",
              "       'emergency vehicle type_SP', 'emergency vehicle type_SP BALLON',\n",
              "       'emergency vehicle type_SPTT', 'emergency vehicle type_UMH 93',\n",
              "       'emergency vehicle type_VE2I', 'emergency vehicle type_VEC',\n",
              "       'emergency vehicle type_VID', 'emergency vehicle type_VIGI',\n",
              "       'emergency vehicle type_VIMP', 'emergency vehicle type_VLHP',\n",
              "       'emergency vehicle type_VLR BSPP', 'emergency vehicle type_VPS',\n",
              "       'emergency vehicle type_VRA', 'emergency vehicle type_VRCH BSPP',\n",
              "       'emergency vehicle type_VRCP', 'emergency vehicle type_VRM',\n",
              "       'emergency vehicle type_VRSD', 'emergency vehicle type_VSIS',\n",
              "       'emergency vehicle type_VSTI', 'emergency vehicle type_VTBA',\n",
              "       'delta departure-presentation'],\n",
              "      dtype='object')"
            ]
          },
          "metadata": {},
          "execution_count": 44
        }
      ]
    },
    {
      "cell_type": "markdown",
      "metadata": {
        "id": "Az7-t0moiwoE"
      },
      "source": [
        "# Exploración de las variables numéricas"
      ]
    },
    {
      "cell_type": "code",
      "metadata": {
        "id": "IQhgA_VJ9jLx"
      },
      "source": [
        "boleanas=[]\n",
        "for col in df.columns:\n",
        "  if df[col].nunique()==2:\n",
        "    boleanas.append(col)\n",
        "df[boleanas]=df[boleanas].astype('bool')"
      ],
      "execution_count": 45,
      "outputs": []
    },
    {
      "cell_type": "code",
      "metadata": {
        "id": "3IMFO5Zu9NZa",
        "colab": {
          "base_uri": "https://localhost:8080/"
        },
        "outputId": "282f1426-77ff-46e4-dd8f-d92964ea937c"
      },
      "source": [
        "numericas = list(df.select_dtypes(include=['int64', 'float64']).columns)\n",
        "numericas"
      ],
      "execution_count": 46,
      "outputs": [
        {
          "output_type": "execute_result",
          "data": {
            "text/plain": [
              "['OSRM estimated distance', 'delta departure-presentation']"
            ]
          },
          "metadata": {},
          "execution_count": 46
        }
      ]
    },
    {
      "cell_type": "code",
      "metadata": {
        "id": "ffFydElHLPjx"
      },
      "source": [
        "numericas = list(df.select_dtypes(include=['int64', 'float64']).columns)"
      ],
      "execution_count": 47,
      "outputs": []
    },
    {
      "cell_type": "code",
      "metadata": {
        "id": "jgxC2Hz7NvkR",
        "outputId": "78d61fe6-865c-498f-d959-f1b8fed1b0d0",
        "colab": {
          "base_uri": "https://localhost:8080/",
          "height": 300
        }
      },
      "source": [
        "df[numericas].describe()\n"
      ],
      "execution_count": 48,
      "outputs": [
        {
          "output_type": "execute_result",
          "data": {
            "text/html": [
              "\n",
              "  <div id=\"df-c9ce1859-f54c-4dc6-9198-a2dc716e5ae0\">\n",
              "    <div class=\"colab-df-container\">\n",
              "      <div>\n",
              "<style scoped>\n",
              "    .dataframe tbody tr th:only-of-type {\n",
              "        vertical-align: middle;\n",
              "    }\n",
              "\n",
              "    .dataframe tbody tr th {\n",
              "        vertical-align: top;\n",
              "    }\n",
              "\n",
              "    .dataframe thead th {\n",
              "        text-align: right;\n",
              "    }\n",
              "</style>\n",
              "<table border=\"1\" class=\"dataframe\">\n",
              "  <thead>\n",
              "    <tr style=\"text-align: right;\">\n",
              "      <th></th>\n",
              "      <th>OSRM estimated distance</th>\n",
              "      <th>delta departure-presentation</th>\n",
              "    </tr>\n",
              "  </thead>\n",
              "  <tbody>\n",
              "    <tr>\n",
              "      <th>count</th>\n",
              "      <td>219337.000000</td>\n",
              "      <td>219337.000000</td>\n",
              "    </tr>\n",
              "    <tr>\n",
              "      <th>mean</th>\n",
              "      <td>2238.134131</td>\n",
              "      <td>356.161026</td>\n",
              "    </tr>\n",
              "    <tr>\n",
              "      <th>std</th>\n",
              "      <td>1591.647524</td>\n",
              "      <td>228.381939</td>\n",
              "    </tr>\n",
              "    <tr>\n",
              "      <th>min</th>\n",
              "      <td>0.800000</td>\n",
              "      <td>1.000000</td>\n",
              "    </tr>\n",
              "    <tr>\n",
              "      <th>25%</th>\n",
              "      <td>1221.100000</td>\n",
              "      <td>231.000000</td>\n",
              "    </tr>\n",
              "    <tr>\n",
              "      <th>50%</th>\n",
              "      <td>1866.800000</td>\n",
              "      <td>319.000000</td>\n",
              "    </tr>\n",
              "    <tr>\n",
              "      <th>75%</th>\n",
              "      <td>2834.600000</td>\n",
              "      <td>434.000000</td>\n",
              "    </tr>\n",
              "    <tr>\n",
              "      <th>max</th>\n",
              "      <td>42752.800000</td>\n",
              "      <td>22722.000000</td>\n",
              "    </tr>\n",
              "  </tbody>\n",
              "</table>\n",
              "</div>\n",
              "      <button class=\"colab-df-convert\" onclick=\"convertToInteractive('df-c9ce1859-f54c-4dc6-9198-a2dc716e5ae0')\"\n",
              "              title=\"Convert this dataframe to an interactive table.\"\n",
              "              style=\"display:none;\">\n",
              "        \n",
              "  <svg xmlns=\"http://www.w3.org/2000/svg\" height=\"24px\"viewBox=\"0 0 24 24\"\n",
              "       width=\"24px\">\n",
              "    <path d=\"M0 0h24v24H0V0z\" fill=\"none\"/>\n",
              "    <path d=\"M18.56 5.44l.94 2.06.94-2.06 2.06-.94-2.06-.94-.94-2.06-.94 2.06-2.06.94zm-11 1L8.5 8.5l.94-2.06 2.06-.94-2.06-.94L8.5 2.5l-.94 2.06-2.06.94zm10 10l.94 2.06.94-2.06 2.06-.94-2.06-.94-.94-2.06-.94 2.06-2.06.94z\"/><path d=\"M17.41 7.96l-1.37-1.37c-.4-.4-.92-.59-1.43-.59-.52 0-1.04.2-1.43.59L10.3 9.45l-7.72 7.72c-.78.78-.78 2.05 0 2.83L4 21.41c.39.39.9.59 1.41.59.51 0 1.02-.2 1.41-.59l7.78-7.78 2.81-2.81c.8-.78.8-2.07 0-2.86zM5.41 20L4 18.59l7.72-7.72 1.47 1.35L5.41 20z\"/>\n",
              "  </svg>\n",
              "      </button>\n",
              "      \n",
              "  <style>\n",
              "    .colab-df-container {\n",
              "      display:flex;\n",
              "      flex-wrap:wrap;\n",
              "      gap: 12px;\n",
              "    }\n",
              "\n",
              "    .colab-df-convert {\n",
              "      background-color: #E8F0FE;\n",
              "      border: none;\n",
              "      border-radius: 50%;\n",
              "      cursor: pointer;\n",
              "      display: none;\n",
              "      fill: #1967D2;\n",
              "      height: 32px;\n",
              "      padding: 0 0 0 0;\n",
              "      width: 32px;\n",
              "    }\n",
              "\n",
              "    .colab-df-convert:hover {\n",
              "      background-color: #E2EBFA;\n",
              "      box-shadow: 0px 1px 2px rgba(60, 64, 67, 0.3), 0px 1px 3px 1px rgba(60, 64, 67, 0.15);\n",
              "      fill: #174EA6;\n",
              "    }\n",
              "\n",
              "    [theme=dark] .colab-df-convert {\n",
              "      background-color: #3B4455;\n",
              "      fill: #D2E3FC;\n",
              "    }\n",
              "\n",
              "    [theme=dark] .colab-df-convert:hover {\n",
              "      background-color: #434B5C;\n",
              "      box-shadow: 0px 1px 3px 1px rgba(0, 0, 0, 0.15);\n",
              "      filter: drop-shadow(0px 1px 2px rgba(0, 0, 0, 0.3));\n",
              "      fill: #FFFFFF;\n",
              "    }\n",
              "  </style>\n",
              "\n",
              "      <script>\n",
              "        const buttonEl =\n",
              "          document.querySelector('#df-c9ce1859-f54c-4dc6-9198-a2dc716e5ae0 button.colab-df-convert');\n",
              "        buttonEl.style.display =\n",
              "          google.colab.kernel.accessAllowed ? 'block' : 'none';\n",
              "\n",
              "        async function convertToInteractive(key) {\n",
              "          const element = document.querySelector('#df-c9ce1859-f54c-4dc6-9198-a2dc716e5ae0');\n",
              "          const dataTable =\n",
              "            await google.colab.kernel.invokeFunction('convertToInteractive',\n",
              "                                                     [key], {});\n",
              "          if (!dataTable) return;\n",
              "\n",
              "          const docLinkHtml = 'Like what you see? Visit the ' +\n",
              "            '<a target=\"_blank\" href=https://colab.research.google.com/notebooks/data_table.ipynb>data table notebook</a>'\n",
              "            + ' to learn more about interactive tables.';\n",
              "          element.innerHTML = '';\n",
              "          dataTable['output_type'] = 'display_data';\n",
              "          await google.colab.output.renderOutput(dataTable, element);\n",
              "          const docLink = document.createElement('div');\n",
              "          docLink.innerHTML = docLinkHtml;\n",
              "          element.appendChild(docLink);\n",
              "        }\n",
              "      </script>\n",
              "    </div>\n",
              "  </div>\n",
              "  "
            ],
            "text/plain": [
              "       OSRM estimated distance  delta departure-presentation\n",
              "count            219337.000000                 219337.000000\n",
              "mean               2238.134131                    356.161026\n",
              "std                1591.647524                    228.381939\n",
              "min                   0.800000                      1.000000\n",
              "25%                1221.100000                    231.000000\n",
              "50%                1866.800000                    319.000000\n",
              "75%                2834.600000                    434.000000\n",
              "max               42752.800000                  22722.000000"
            ]
          },
          "metadata": {},
          "execution_count": 48
        }
      ]
    },
    {
      "cell_type": "code",
      "metadata": {
        "id": "7RjXEh4LUBmI",
        "outputId": "4746a271-6095-4362-c721-b9d8026627ab",
        "colab": {
          "base_uri": "https://localhost:8080/",
          "height": 392
        }
      },
      "source": [
        "sns.pairplot(df[numericas])"
      ],
      "execution_count": 49,
      "outputs": [
        {
          "output_type": "execute_result",
          "data": {
            "text/plain": [
              "<seaborn.axisgrid.PairGrid at 0x7f67ad023610>"
            ]
          },
          "metadata": {},
          "execution_count": 49
        },
        {
          "output_type": "display_data",
          "data": {
            "image/png": "[encoded data removed]",
            "text/plain": [
              "<Figure size 360x360 with 6 Axes>"
            ]
          },
          "metadata": {
            "needs_background": "light"
          }
        }
      ]
    },
    {
      "cell_type": "markdown",
      "metadata": {
        "id": "SSttuGc65BvM"
      },
      "source": [
        "# Exploración de Outliers"
      ]
    },
    {
      "cell_type": "code",
      "metadata": {
        "id": "F7ab9Yox4_jL",
        "outputId": "c93ea998-be46-4fc5-894a-93cd46a5ba7f",
        "colab": {
          "base_uri": "https://localhost:8080/",
          "height": 252
        }
      },
      "source": [
        "fig, ax = plt.subplots(1, 2, figsize=(10, 4))\n",
        "for cond, subplot in zip((True, False), ax.flatten()):\n",
        "  sns.boxplot(y=df['delta departure-presentation'], showfliers=cond, ax= subplot)"
      ],
      "execution_count": 50,
      "outputs": [
        {
          "output_type": "display_data",
          "data": {
            "image/png": "[encoded data removed]",
            "text/plain": [
              "<Figure size 720x288 with 2 Axes>"
            ]
          },
          "metadata": {
            "needs_background": "light"
          }
        }
      ]
    },
    {
      "cell_type": "markdown",
      "metadata": {
        "id": "T_gjN9zR6uYp"
      },
      "source": [
        "## Identificar \"a ojo\" *outliers*"
      ]
    },
    {
      "cell_type": "code",
      "metadata": {
        "id": "aH_Nryzn60LA",
        "outputId": "d2927e4d-0e3c-461e-c87f-07f390c72343",
        "colab": {
          "base_uri": "https://localhost:8080/"
        }
      },
      "source": [
        "df['delta departure-presentation'].describe()"
      ],
      "execution_count": 51,
      "outputs": [
        {
          "output_type": "execute_result",
          "data": {
            "text/plain": [
              "count    219337.000000\n",
              "mean        356.161026\n",
              "std         228.381939\n",
              "min           1.000000\n",
              "25%         231.000000\n",
              "50%         319.000000\n",
              "75%         434.000000\n",
              "max       22722.000000\n",
              "Name: delta departure-presentation, dtype: float64"
            ]
          },
          "metadata": {},
          "execution_count": 51
        }
      ]
    },
    {
      "cell_type": "code",
      "metadata": {
        "id": "DnkO4y426yVH",
        "outputId": "eabfbbaf-9294-4395-eb69-a0ac260cab33",
        "colab": {
          "base_uri": "https://localhost:8080/"
        }
      },
      "source": [
        "df['delta departure-presentation'].quantile(.975)"
      ],
      "execution_count": 52,
      "outputs": [
        {
          "output_type": "execute_result",
          "data": {
            "text/plain": [
              "806.0"
            ]
          },
          "metadata": {},
          "execution_count": 52
        }
      ]
    },
    {
      "cell_type": "code",
      "metadata": {
        "id": "vHqlX3Lj6UIs"
      },
      "source": [
        "df['outlier'] = 0\n",
        "filtro_out = df['delta departure-presentation'] > df['delta departure-presentation'].quantile(.975)\n",
        "df.loc[filtro_out,'outlier'] = 1"
      ],
      "execution_count": 53,
      "outputs": []
    },
    {
      "cell_type": "code",
      "metadata": {
        "id": "TPundRqO-dBn",
        "outputId": "ecbc84ef-1d80-42d9-bd39-4b7b24da8e81",
        "colab": {
          "base_uri": "https://localhost:8080/"
        }
      },
      "source": [
        "df['outlier'].value_counts()"
      ],
      "execution_count": 54,
      "outputs": [
        {
          "output_type": "execute_result",
          "data": {
            "text/plain": [
              "0    213857\n",
              "1      5480\n",
              "Name: outlier, dtype: int64"
            ]
          },
          "metadata": {},
          "execution_count": 54
        }
      ]
    },
    {
      "cell_type": "code",
      "metadata": {
        "id": "Lq_psJQF8q9I",
        "outputId": "6a88176d-01cf-498f-94d9-270f9eadd7e4",
        "colab": {
          "base_uri": "https://localhost:8080/",
          "height": 278
        }
      },
      "source": [
        "fig, ax = plt.subplots(1, 3, figsize=(12, 4))\n",
        "for dat, subplot in zip((df, df[-filtro_out], df[filtro_out]), ax.flatten()):\n",
        "  sns.histplot(x='delta departure-presentation', hue='outlier', \n",
        "               data=dat, ax=subplot )\n",
        "plt.show()"
      ],
      "execution_count": 55,
      "outputs": [
        {
          "output_type": "display_data",
          "data": {
            "image/png": "[encoded data removed]",
            "text/plain": [
              "<Figure size 864x288 with 3 Axes>"
            ]
          },
          "metadata": {
            "needs_background": "light"
          }
        }
      ]
    },
    {
      "cell_type": "code",
      "metadata": {
        "id": "d9gCHO8gAfC2",
        "outputId": "d670dcfe-fd8a-4de6-9b96-3b4601925c45",
        "colab": {
          "base_uri": "https://localhost:8080/",
          "height": 377
        }
      },
      "source": [
        "seleccion = ((df['OSRM estimated distance']>20350) & (df['OSRM estimated distance']<20500))\n",
        "df[seleccion].head()"
      ],
      "execution_count": 56,
      "outputs": [
        {
          "output_type": "execute_result",
          "data": {
            "text/html": [
              "\n",
              "  <div id=\"df-077c68e5-319e-4300-88be-dd57567df68f\">\n",
              "    <div class=\"colab-df-container\">\n",
              "      <div>\n",
              "<style scoped>\n",
              "    .dataframe tbody tr th:only-of-type {\n",
              "        vertical-align: middle;\n",
              "    }\n",
              "\n",
              "    .dataframe tbody tr th {\n",
              "        vertical-align: top;\n",
              "    }\n",
              "\n",
              "    .dataframe thead th {\n",
              "        text-align: right;\n",
              "    }\n",
              "</style>\n",
              "<table border=\"1\" class=\"dataframe\">\n",
              "  <thead>\n",
              "    <tr style=\"text-align: right;\">\n",
              "      <th></th>\n",
              "      <th>selection time</th>\n",
              "      <th>OSRM estimated distance</th>\n",
              "      <th>rush hour</th>\n",
              "      <th>weekday</th>\n",
              "      <th>alert reason category_5</th>\n",
              "      <th>alert reason category_6</th>\n",
              "      <th>alert reason category_7</th>\n",
              "      <th>alert reason category_8</th>\n",
              "      <th>alert reason category_9</th>\n",
              "      <th>location of the event_108.0</th>\n",
              "      <th>location of the event_110.0</th>\n",
              "      <th>location of the event_111.0</th>\n",
              "      <th>location of the event_127.0</th>\n",
              "      <th>location of the event_131.0</th>\n",
              "      <th>location of the event_136.0</th>\n",
              "      <th>location of the event_139.0</th>\n",
              "      <th>location of the event_140.0</th>\n",
              "      <th>location of the event_143.0</th>\n",
              "      <th>location of the event_164.0</th>\n",
              "      <th>location of the event_167.0</th>\n",
              "      <th>location of the event_168.0</th>\n",
              "      <th>location of the event_169.0</th>\n",
              "      <th>location of the event_170.0</th>\n",
              "      <th>location of the event_171.0</th>\n",
              "      <th>location of the event_202.0</th>\n",
              "      <th>location of the event_205.0</th>\n",
              "      <th>location of the event_206.0</th>\n",
              "      <th>location of the event_218.0</th>\n",
              "      <th>location of the event_244.0</th>\n",
              "      <th>location of the event_252.0</th>\n",
              "      <th>location of the event_287.0</th>\n",
              "      <th>location of the event_299.0</th>\n",
              "      <th>location of the event_302.0</th>\n",
              "      <th>location of the event_303.0</th>\n",
              "      <th>location of the event_307.0</th>\n",
              "      <th>location of the event_310.0</th>\n",
              "      <th>location of the event_321.0</th>\n",
              "      <th>emergency vehicle type_BEAA BSPP</th>\n",
              "      <th>emergency vehicle type_CCR BSPP</th>\n",
              "      <th>emergency vehicle type_CD BSPP</th>\n",
              "      <th>emergency vehicle type_CESD</th>\n",
              "      <th>emergency vehicle type_CMO APP</th>\n",
              "      <th>emergency vehicle type_CRAC</th>\n",
              "      <th>emergency vehicle type_DEP</th>\n",
              "      <th>emergency vehicle type_FA</th>\n",
              "      <th>emergency vehicle type_PEV</th>\n",
              "      <th>emergency vehicle type_PSE</th>\n",
              "      <th>emergency vehicle type_PST</th>\n",
              "      <th>emergency vehicle type_SP</th>\n",
              "      <th>emergency vehicle type_SP BALLON</th>\n",
              "      <th>emergency vehicle type_SPTT</th>\n",
              "      <th>emergency vehicle type_UMH 93</th>\n",
              "      <th>emergency vehicle type_VE2I</th>\n",
              "      <th>emergency vehicle type_VEC</th>\n",
              "      <th>emergency vehicle type_VID</th>\n",
              "      <th>emergency vehicle type_VIGI</th>\n",
              "      <th>emergency vehicle type_VIMP</th>\n",
              "      <th>emergency vehicle type_VLHP</th>\n",
              "      <th>emergency vehicle type_VLR BSPP</th>\n",
              "      <th>emergency vehicle type_VPS</th>\n",
              "      <th>emergency vehicle type_VRA</th>\n",
              "      <th>emergency vehicle type_VRCH BSPP</th>\n",
              "      <th>emergency vehicle type_VRCP</th>\n",
              "      <th>emergency vehicle type_VRM</th>\n",
              "      <th>emergency vehicle type_VRSD</th>\n",
              "      <th>emergency vehicle type_VSIS</th>\n",
              "      <th>emergency vehicle type_VSTI</th>\n",
              "      <th>emergency vehicle type_VTBA</th>\n",
              "      <th>delta departure-presentation</th>\n",
              "      <th>outlier</th>\n",
              "    </tr>\n",
              "    <tr>\n",
              "      <th>emergency vehicle selection</th>\n",
              "      <th></th>\n",
              "      <th></th>\n",
              "      <th></th>\n",
              "      <th></th>\n",
              "      <th></th>\n",
              "      <th></th>\n",
              "      <th></th>\n",
              "      <th></th>\n",
              "      <th></th>\n",
              "      <th></th>\n",
              "      <th></th>\n",
              "      <th></th>\n",
              "      <th></th>\n",
              "      <th></th>\n",
              "      <th></th>\n",
              "      <th></th>\n",
              "      <th></th>\n",
              "      <th></th>\n",
              "      <th></th>\n",
              "      <th></th>\n",
              "      <th></th>\n",
              "      <th></th>\n",
              "      <th></th>\n",
              "      <th></th>\n",
              "      <th></th>\n",
              "      <th></th>\n",
              "      <th></th>\n",
              "      <th></th>\n",
              "      <th></th>\n",
              "      <th></th>\n",
              "      <th></th>\n",
              "      <th></th>\n",
              "      <th></th>\n",
              "      <th></th>\n",
              "      <th></th>\n",
              "      <th></th>\n",
              "      <th></th>\n",
              "      <th></th>\n",
              "      <th></th>\n",
              "      <th></th>\n",
              "      <th></th>\n",
              "      <th></th>\n",
              "      <th></th>\n",
              "      <th></th>\n",
              "      <th></th>\n",
              "      <th></th>\n",
              "      <th></th>\n",
              "      <th></th>\n",
              "      <th></th>\n",
              "      <th></th>\n",
              "      <th></th>\n",
              "      <th></th>\n",
              "      <th></th>\n",
              "      <th></th>\n",
              "      <th></th>\n",
              "      <th></th>\n",
              "      <th></th>\n",
              "      <th></th>\n",
              "      <th></th>\n",
              "      <th></th>\n",
              "      <th></th>\n",
              "      <th></th>\n",
              "      <th></th>\n",
              "      <th></th>\n",
              "      <th></th>\n",
              "      <th></th>\n",
              "      <th></th>\n",
              "      <th></th>\n",
              "      <th></th>\n",
              "      <th></th>\n",
              "    </tr>\n",
              "  </thead>\n",
              "  <tbody>\n",
              "    <tr>\n",
              "      <th>4808363</th>\n",
              "      <td>2018-02-15 10:58:51.493</td>\n",
              "      <td>20451.1</td>\n",
              "      <td>False</td>\n",
              "      <td>True</td>\n",
              "      <td>False</td>\n",
              "      <td>False</td>\n",
              "      <td>False</td>\n",
              "      <td>False</td>\n",
              "      <td>False</td>\n",
              "      <td>False</td>\n",
              "      <td>False</td>\n",
              "      <td>False</td>\n",
              "      <td>False</td>\n",
              "      <td>False</td>\n",
              "      <td>False</td>\n",
              "      <td>True</td>\n",
              "      <td>False</td>\n",
              "      <td>False</td>\n",
              "      <td>False</td>\n",
              "      <td>False</td>\n",
              "      <td>False</td>\n",
              "      <td>False</td>\n",
              "      <td>False</td>\n",
              "      <td>False</td>\n",
              "      <td>False</td>\n",
              "      <td>False</td>\n",
              "      <td>False</td>\n",
              "      <td>False</td>\n",
              "      <td>False</td>\n",
              "      <td>False</td>\n",
              "      <td>False</td>\n",
              "      <td>False</td>\n",
              "      <td>False</td>\n",
              "      <td>False</td>\n",
              "      <td>False</td>\n",
              "      <td>False</td>\n",
              "      <td>False</td>\n",
              "      <td>False</td>\n",
              "      <td>False</td>\n",
              "      <td>False</td>\n",
              "      <td>False</td>\n",
              "      <td>False</td>\n",
              "      <td>False</td>\n",
              "      <td>False</td>\n",
              "      <td>False</td>\n",
              "      <td>False</td>\n",
              "      <td>False</td>\n",
              "      <td>False</td>\n",
              "      <td>False</td>\n",
              "      <td>False</td>\n",
              "      <td>False</td>\n",
              "      <td>False</td>\n",
              "      <td>False</td>\n",
              "      <td>False</td>\n",
              "      <td>False</td>\n",
              "      <td>False</td>\n",
              "      <td>False</td>\n",
              "      <td>False</td>\n",
              "      <td>False</td>\n",
              "      <td>False</td>\n",
              "      <td>False</td>\n",
              "      <td>False</td>\n",
              "      <td>False</td>\n",
              "      <td>False</td>\n",
              "      <td>False</td>\n",
              "      <td>False</td>\n",
              "      <td>False</td>\n",
              "      <td>False</td>\n",
              "      <td>1171</td>\n",
              "      <td>1</td>\n",
              "    </tr>\n",
              "    <tr>\n",
              "      <th>5320305</th>\n",
              "      <td>2018-10-25 16:32:40.670</td>\n",
              "      <td>20373.2</td>\n",
              "      <td>True</td>\n",
              "      <td>True</td>\n",
              "      <td>False</td>\n",
              "      <td>False</td>\n",
              "      <td>False</td>\n",
              "      <td>False</td>\n",
              "      <td>False</td>\n",
              "      <td>False</td>\n",
              "      <td>False</td>\n",
              "      <td>False</td>\n",
              "      <td>False</td>\n",
              "      <td>True</td>\n",
              "      <td>False</td>\n",
              "      <td>False</td>\n",
              "      <td>False</td>\n",
              "      <td>False</td>\n",
              "      <td>False</td>\n",
              "      <td>False</td>\n",
              "      <td>False</td>\n",
              "      <td>False</td>\n",
              "      <td>False</td>\n",
              "      <td>False</td>\n",
              "      <td>False</td>\n",
              "      <td>False</td>\n",
              "      <td>False</td>\n",
              "      <td>False</td>\n",
              "      <td>False</td>\n",
              "      <td>False</td>\n",
              "      <td>False</td>\n",
              "      <td>False</td>\n",
              "      <td>False</td>\n",
              "      <td>False</td>\n",
              "      <td>False</td>\n",
              "      <td>False</td>\n",
              "      <td>False</td>\n",
              "      <td>False</td>\n",
              "      <td>False</td>\n",
              "      <td>False</td>\n",
              "      <td>False</td>\n",
              "      <td>False</td>\n",
              "      <td>False</td>\n",
              "      <td>False</td>\n",
              "      <td>False</td>\n",
              "      <td>False</td>\n",
              "      <td>False</td>\n",
              "      <td>False</td>\n",
              "      <td>False</td>\n",
              "      <td>False</td>\n",
              "      <td>False</td>\n",
              "      <td>False</td>\n",
              "      <td>False</td>\n",
              "      <td>False</td>\n",
              "      <td>False</td>\n",
              "      <td>False</td>\n",
              "      <td>False</td>\n",
              "      <td>False</td>\n",
              "      <td>True</td>\n",
              "      <td>False</td>\n",
              "      <td>False</td>\n",
              "      <td>False</td>\n",
              "      <td>False</td>\n",
              "      <td>False</td>\n",
              "      <td>False</td>\n",
              "      <td>False</td>\n",
              "      <td>False</td>\n",
              "      <td>False</td>\n",
              "      <td>609</td>\n",
              "      <td>0</td>\n",
              "    </tr>\n",
              "    <tr>\n",
              "      <th>4832811</th>\n",
              "      <td>2018-02-28 17:44:03.653</td>\n",
              "      <td>20420.9</td>\n",
              "      <td>True</td>\n",
              "      <td>True</td>\n",
              "      <td>False</td>\n",
              "      <td>False</td>\n",
              "      <td>False</td>\n",
              "      <td>False</td>\n",
              "      <td>False</td>\n",
              "      <td>False</td>\n",
              "      <td>False</td>\n",
              "      <td>False</td>\n",
              "      <td>False</td>\n",
              "      <td>True</td>\n",
              "      <td>False</td>\n",
              "      <td>False</td>\n",
              "      <td>False</td>\n",
              "      <td>False</td>\n",
              "      <td>False</td>\n",
              "      <td>False</td>\n",
              "      <td>False</td>\n",
              "      <td>False</td>\n",
              "      <td>False</td>\n",
              "      <td>False</td>\n",
              "      <td>False</td>\n",
              "      <td>False</td>\n",
              "      <td>False</td>\n",
              "      <td>False</td>\n",
              "      <td>False</td>\n",
              "      <td>False</td>\n",
              "      <td>False</td>\n",
              "      <td>False</td>\n",
              "      <td>False</td>\n",
              "      <td>False</td>\n",
              "      <td>False</td>\n",
              "      <td>False</td>\n",
              "      <td>False</td>\n",
              "      <td>False</td>\n",
              "      <td>False</td>\n",
              "      <td>False</td>\n",
              "      <td>False</td>\n",
              "      <td>False</td>\n",
              "      <td>False</td>\n",
              "      <td>False</td>\n",
              "      <td>False</td>\n",
              "      <td>False</td>\n",
              "      <td>False</td>\n",
              "      <td>False</td>\n",
              "      <td>False</td>\n",
              "      <td>False</td>\n",
              "      <td>False</td>\n",
              "      <td>False</td>\n",
              "      <td>False</td>\n",
              "      <td>False</td>\n",
              "      <td>False</td>\n",
              "      <td>False</td>\n",
              "      <td>False</td>\n",
              "      <td>False</td>\n",
              "      <td>True</td>\n",
              "      <td>False</td>\n",
              "      <td>False</td>\n",
              "      <td>False</td>\n",
              "      <td>False</td>\n",
              "      <td>False</td>\n",
              "      <td>False</td>\n",
              "      <td>False</td>\n",
              "      <td>False</td>\n",
              "      <td>False</td>\n",
              "      <td>1571</td>\n",
              "      <td>1</td>\n",
              "    </tr>\n",
              "  </tbody>\n",
              "</table>\n",
              "</div>\n",
              "      <button class=\"colab-df-convert\" onclick=\"convertToInteractive('df-077c68e5-319e-4300-88be-dd57567df68f')\"\n",
              "              title=\"Convert this dataframe to an interactive table.\"\n",
              "              style=\"display:none;\">\n",
              "        \n",
              "  <svg xmlns=\"http://www.w3.org/2000/svg\" height=\"24px\"viewBox=\"0 0 24 24\"\n",
              "       width=\"24px\">\n",
              "    <path d=\"M0 0h24v24H0V0z\" fill=\"none\"/>\n",
              "    <path d=\"M18.56 5.44l.94 2.06.94-2.06 2.06-.94-2.06-.94-.94-2.06-.94 2.06-2.06.94zm-11 1L8.5 8.5l.94-2.06 2.06-.94-2.06-.94L8.5 2.5l-.94 2.06-2.06.94zm10 10l.94 2.06.94-2.06 2.06-.94-2.06-.94-.94-2.06-.94 2.06-2.06.94z\"/><path d=\"M17.41 7.96l-1.37-1.37c-.4-.4-.92-.59-1.43-.59-.52 0-1.04.2-1.43.59L10.3 9.45l-7.72 7.72c-.78.78-.78 2.05 0 2.83L4 21.41c.39.39.9.59 1.41.59.51 0 1.02-.2 1.41-.59l7.78-7.78 2.81-2.81c.8-.78.8-2.07 0-2.86zM5.41 20L4 18.59l7.72-7.72 1.47 1.35L5.41 20z\"/>\n",
              "  </svg>\n",
              "      </button>\n",
              "      \n",
              "  <style>\n",
              "    .colab-df-container {\n",
              "      display:flex;\n",
              "      flex-wrap:wrap;\n",
              "      gap: 12px;\n",
              "    }\n",
              "\n",
              "    .colab-df-convert {\n",
              "      background-color: #E8F0FE;\n",
              "      border: none;\n",
              "      border-radius: 50%;\n",
              "      cursor: pointer;\n",
              "      display: none;\n",
              "      fill: #1967D2;\n",
              "      height: 32px;\n",
              "      padding: 0 0 0 0;\n",
              "      width: 32px;\n",
              "    }\n",
              "\n",
              "    .colab-df-convert:hover {\n",
              "      background-color: #E2EBFA;\n",
              "      box-shadow: 0px 1px 2px rgba(60, 64, 67, 0.3), 0px 1px 3px 1px rgba(60, 64, 67, 0.15);\n",
              "      fill: #174EA6;\n",
              "    }\n",
              "\n",
              "    [theme=dark] .colab-df-convert {\n",
              "      background-color: #3B4455;\n",
              "      fill: #D2E3FC;\n",
              "    }\n",
              "\n",
              "    [theme=dark] .colab-df-convert:hover {\n",
              "      background-color: #434B5C;\n",
              "      box-shadow: 0px 1px 3px 1px rgba(0, 0, 0, 0.15);\n",
              "      filter: drop-shadow(0px 1px 2px rgba(0, 0, 0, 0.3));\n",
              "      fill: #FFFFFF;\n",
              "    }\n",
              "  </style>\n",
              "\n",
              "      <script>\n",
              "        const buttonEl =\n",
              "          document.querySelector('#df-077c68e5-319e-4300-88be-dd57567df68f button.colab-df-convert');\n",
              "        buttonEl.style.display =\n",
              "          google.colab.kernel.accessAllowed ? 'block' : 'none';\n",
              "\n",
              "        async function convertToInteractive(key) {\n",
              "          const element = document.querySelector('#df-077c68e5-319e-4300-88be-dd57567df68f');\n",
              "          const dataTable =\n",
              "            await google.colab.kernel.invokeFunction('convertToInteractive',\n",
              "                                                     [key], {});\n",
              "          if (!dataTable) return;\n",
              "\n",
              "          const docLinkHtml = 'Like what you see? Visit the ' +\n",
              "            '<a target=\"_blank\" href=https://colab.research.google.com/notebooks/data_table.ipynb>data table notebook</a>'\n",
              "            + ' to learn more about interactive tables.';\n",
              "          element.innerHTML = '';\n",
              "          dataTable['output_type'] = 'display_data';\n",
              "          await google.colab.output.renderOutput(dataTable, element);\n",
              "          const docLink = document.createElement('div');\n",
              "          docLink.innerHTML = docLinkHtml;\n",
              "          element.appendChild(docLink);\n",
              "        }\n",
              "      </script>\n",
              "    </div>\n",
              "  </div>\n",
              "  "
            ],
            "text/plain": [
              "                                     selection time  ...  outlier\n",
              "emergency vehicle selection                          ...         \n",
              "4808363                     2018-02-15 10:58:51.493  ...        1\n",
              "5320305                     2018-10-25 16:32:40.670  ...        0\n",
              "4832811                     2018-02-28 17:44:03.653  ...        1\n",
              "\n",
              "[3 rows x 70 columns]"
            ]
          },
          "metadata": {},
          "execution_count": 56
        }
      ]
    },
    {
      "cell_type": "markdown",
      "source": [
        "Revisa con atención los últimos dos registros mostrados"
      ],
      "metadata": {
        "id": "pH_nRZYI6mOw"
      }
    },
    {
      "cell_type": "markdown",
      "metadata": {
        "id": "6izuZd_4r5Eg"
      },
      "source": [
        "# Comparación Regresión lineal, Regresión robusta"
      ]
    },
    {
      "cell_type": "code",
      "metadata": {
        "id": "0mqksCKSr5Ei"
      },
      "source": [
        "y = df['delta departure-presentation']\n",
        "X = df.drop(['selection time', 'delta departure-presentation', 'outlier'],\n",
        "            axis=1)\n",
        "\n",
        "X_train, X_test, y_train, y_test = train_test_split(X, y, \n",
        "                                                    test_size=0.3, \n",
        "                                                    shuffle=True,\n",
        "                                                    random_state=261)"
      ],
      "execution_count": 57,
      "outputs": []
    },
    {
      "cell_type": "markdown",
      "metadata": {
        "id": "4ROaW5Muliuw"
      },
      "source": [
        "# Guardamos datos preprocesados"
      ]
    },
    {
      "cell_type": "code",
      "metadata": {
        "id": "N6LPxROMkg9e",
        "colab": {
          "base_uri": "https://localhost:8080/"
        },
        "outputId": "0a05e163-a539-433f-df34-5ac23e6bdc3a"
      },
      "source": [
        "df_preprocesado = pd.concat([X,y], axis=1)\n",
        "#comprobamos dimensiones\n",
        "X.shape,    y.shape,   df_preprocesado.shape"
      ],
      "execution_count": 58,
      "outputs": [
        {
          "output_type": "execute_result",
          "data": {
            "text/plain": [
              "((219337, 67), (219337,), (219337, 68))"
            ]
          },
          "metadata": {},
          "execution_count": 58
        }
      ]
    },
    {
      "cell_type": "code",
      "metadata": {
        "id": "EmZQXZAllCV8"
      },
      "source": [
        "df_preprocesado.to_csv('/content/drive/MyDrive/Datos/ParisFireBrigade/Output/df_selec.csv')"
      ],
      "execution_count": 59,
      "outputs": []
    },
    {
      "cell_type": "code",
      "metadata": {
        "id": "eRDZh5-R5ET5",
        "colab": {
          "base_uri": "https://localhost:8080/"
        },
        "outputId": "e29c6ba0-7cf7-4350-fadc-ebbab79ea745"
      },
      "source": [
        "# ¿Cómo son los conjuntos de entrenamiento y prueba?\n",
        "print(\"Conjunto de entrenamiento\")\n",
        "print(\"X: \", X_train.shape)\n",
        "print(\"y: \", y_train.shape)\n",
        "\n",
        "print(\"Conjunto de prueba\")\n",
        "print(\"X: \", X_test.shape)\n",
        "print(\"y: \", y_test.shape)"
      ],
      "execution_count": 60,
      "outputs": [
        {
          "output_type": "stream",
          "name": "stdout",
          "text": [
            "Conjunto de entrenamiento\n",
            "X:  (153535, 67)\n",
            "y:  (153535,)\n",
            "Conjunto de prueba\n",
            "X:  (65802, 67)\n",
            "y:  (65802,)\n"
          ]
        }
      ]
    },
    {
      "cell_type": "markdown",
      "metadata": {
        "id": "0UCDSsULUFZ3"
      },
      "source": [
        "## Regresión Lineal"
      ]
    },
    {
      "cell_type": "code",
      "metadata": {
        "id": "KhZWHOuFr5En",
        "colab": {
          "base_uri": "https://localhost:8080/"
        },
        "outputId": "81b6231a-d61c-4b31-b501-590b6b6bed76"
      },
      "source": [
        "lr = LinearRegression().fit(X_train, y_train)\n",
        "\n",
        "y_pred = lr.predict(X_test)\n",
        "\n",
        "error_medio_absoluto = np.mean(np.absolute(y_test - y_pred ))\n",
        "error_medio_absoluto"
      ],
      "execution_count": 61,
      "outputs": [
        {
          "output_type": "execute_result",
          "data": {
            "text/plain": [
              "107.51156429747132"
            ]
          },
          "metadata": {},
          "execution_count": 61
        }
      ]
    },
    {
      "cell_type": "code",
      "metadata": {
        "id": "qBWhR4-CVHed",
        "colab": {
          "base_uri": "https://localhost:8080/"
        },
        "outputId": "75c39b89-2455-43f8-f236-f36b42bb47cd"
      },
      "source": [
        "metrics.mean_absolute_error(y_test, y_pred)"
      ],
      "execution_count": 62,
      "outputs": [
        {
          "output_type": "execute_result",
          "data": {
            "text/plain": [
              "107.51156429747061"
            ]
          },
          "metadata": {},
          "execution_count": 62
        }
      ]
    },
    {
      "cell_type": "code",
      "metadata": {
        "id": "RQyu3A4aTPOg",
        "colab": {
          "base_uri": "https://localhost:8080/"
        },
        "outputId": "0864ee6a-b9d8-411a-c37f-c1c661ab6c2d"
      },
      "source": [
        "lr.coef_"
      ],
      "execution_count": 63,
      "outputs": [
        {
          "output_type": "execute_result",
          "data": {
            "text/plain": [
              "array([ 6.46137412e-02,  1.98609770e+01,  1.25531218e+01,  2.84406187e+01,\n",
              "        3.83858774e+01,  6.06120963e+01,  2.02554492e+01,  1.67650932e+01,\n",
              "        1.60620828e+01,  7.37919494e+01,  3.11232545e+01,  3.66206496e-01,\n",
              "       -5.71722255e+01,  2.53656790e+01,  2.08276643e+01,  2.57925225e+01,\n",
              "       -2.20470233e+00,  1.26184577e+01,  1.52409295e+01,  1.13709882e+02,\n",
              "        1.53359844e+02,  5.65056481e+02,  4.54378216e+01,  2.44681751e+01,\n",
              "        2.52947832e+01,  1.22867519e+01,  1.46056171e+01,  6.53985641e+01,\n",
              "        3.75497629e+02,  1.34988601e+02,  8.57828285e+02,  6.16842620e+02,\n",
              "        1.27947777e+02,  1.65784074e+02,  1.54266303e+02,  2.72692723e+02,\n",
              "       -6.99136951e+00,  2.07293200e+01, -4.18015225e+01,  6.82941488e+01,\n",
              "        1.56214219e+03, -1.42510824e+02,  5.89403691e+02,  4.20176069e+01,\n",
              "        3.98358482e+02,  2.31423769e+01,  7.46045645e+01, -2.64381427e+02,\n",
              "        6.09391216e+02,  4.11402606e+02, -3.47106373e+02, -2.33793707e+02,\n",
              "       -4.59196543e+02,  2.53646988e+02,  2.51681058e+02, -2.49730892e+02,\n",
              "        7.52497742e+00,  8.71241430e-01,  1.87974710e+02, -3.81532602e+02,\n",
              "       -2.31378988e+02,  4.95538985e+03,  4.35210807e+03, -1.61353386e+02,\n",
              "       -2.02370275e+02,  5.60662570e+02,  6.17205142e+03])"
            ]
          },
          "metadata": {},
          "execution_count": 63
        }
      ]
    },
    {
      "cell_type": "code",
      "metadata": {
        "id": "HScsM1eIbvpf",
        "colab": {
          "base_uri": "https://localhost:8080/"
        },
        "outputId": "fd3a9a5d-4025-4300-bbda-7ccce1f3c2e6"
      },
      "source": [
        "lr.intercept_"
      ],
      "execution_count": 64,
      "outputs": [
        {
          "output_type": "execute_result",
          "data": {
            "text/plain": [
              "179.81015133122486"
            ]
          },
          "metadata": {},
          "execution_count": 64
        }
      ]
    },
    {
      "cell_type": "code",
      "metadata": {
        "id": "bW04WKoccBBf",
        "colab": {
          "base_uri": "https://localhost:8080/"
        },
        "outputId": "37cadb3e-0aa0-4ced-e840-c669c175393d"
      },
      "source": [
        "#calculamos los errores\n",
        "errores = (np.array(y_test) - y_pred)\n",
        "len(errores)"
      ],
      "execution_count": 65,
      "outputs": [
        {
          "output_type": "execute_result",
          "data": {
            "text/plain": [
              "65802"
            ]
          },
          "metadata": {},
          "execution_count": 65
        }
      ]
    },
    {
      "cell_type": "code",
      "metadata": {
        "id": "M3rf0xkMbsVm",
        "colab": {
          "base_uri": "https://localhost:8080/"
        },
        "outputId": "f42953b6-2a35-41a8-e973-4a9b387c3ef3"
      },
      "source": [
        "#una de las hipotesis de la regresión es que los errores son\n",
        "#independientes  entre sí, teniendo una distribución normal\n",
        "\n",
        "media = np.mean(y_test - y_pred)           \n",
        "des_est = np.sqrt(np.var(y_test - y_pred))\n",
        "\n",
        "media,des_est"
      ],
      "execution_count": 66,
      "outputs": [
        {
          "output_type": "execute_result",
          "data": {
            "text/plain": [
              "(1.3927526642236228, 204.63815887922308)"
            ]
          },
          "metadata": {},
          "execution_count": 66
        }
      ]
    },
    {
      "cell_type": "markdown",
      "metadata": {
        "id": "3LQFPOd3ebwY"
      },
      "source": [
        "### Comparación de los errores empirícos con una la distribución normal"
      ]
    },
    {
      "cell_type": "code",
      "metadata": {
        "id": "E7tCLD8gdqA2",
        "colab": {
          "base_uri": "https://localhost:8080/",
          "height": 264
        },
        "outputId": "950598c3-8008-4abe-d62b-e7a5797a2bc8"
      },
      "source": [
        "# Comparación de la distribución teórica(normal) y empirica de los errores\n",
        "\n",
        "# Se elige una submuestra (%0.5) con el propósito de obtener una mejor visualización\n",
        "errores_empiricos = np.random.choice(errores, 660)\n",
        "\n",
        "# Se obtienen 329 valores a partir de la distribución normal (teorica) usando la media\n",
        "# y la desviación de los errores\n",
        "errores_teoricos = np.random.normal(media, des_est, 660)\n",
        "\n",
        "# Comparamos las gráficas de ambas distribuciones\n",
        "\n",
        "fig, ax = plt.subplots(1, 2, figsize=(8, 4), sharey='all')\n",
        "for dat, subplot in zip((errores_teoricos, errores_empiricos), ax.flatten()):\n",
        "  sns.histplot(x=dat, ax=subplot, kde=True, )\n",
        "  \n",
        "plt.show()"
      ],
      "execution_count": 67,
      "outputs": [
        {
          "output_type": "display_data",
          "data": {
            "image/png": "[encoded data removed]",
            "text/plain": [
              "<Figure size 576x288 with 2 Axes>"
            ]
          },
          "metadata": {
            "needs_background": "light"
          }
        }
      ]
    },
    {
      "cell_type": "markdown",
      "metadata": {
        "id": "0XVgYd-JHXDQ"
      },
      "source": [
        "### Calculo de [$R^2$](https://docs.google.com/presentation/d/1k0aYwEBzaaAkWjX6jRKAc40nKHi3FROkJwtXCOE22mI/edit#slide=id.ga8926b2cd2_0_14) \n",
        "\n",
        "$MSE = \\cfrac{1}{n}\\sum{( y - y_{pred})}^2$\n",
        "\n",
        " $R^2 \t= 1 -  \\cfrac{MSE(modelo)}{MSE(linea~base)}$\n"
      ]
    },
    {
      "cell_type": "code",
      "metadata": {
        "id": "8eu61F_BHuq6",
        "colab": {
          "base_uri": "https://localhost:8080/"
        },
        "outputId": "1a8676ab-4ec7-4232-8029-8e2e7b80dd23"
      },
      "source": [
        "# Error cuadrado medio (MSE) linea base (promedio de las etiquetas)\n",
        "\n",
        "errores_lb = y_test - y_test.mean()\n",
        "MSE_base = pow(errores_lb,2).sum()/len(errores_lb)\n",
        "MSE_base"
      ],
      "execution_count": 68,
      "outputs": [
        {
          "output_type": "execute_result",
          "data": {
            "text/plain": [
              "52114.94299180111"
            ]
          },
          "metadata": {},
          "execution_count": 68
        }
      ]
    },
    {
      "cell_type": "code",
      "metadata": {
        "id": "yNfbrWo3JqZM",
        "colab": {
          "base_uri": "https://localhost:8080/"
        },
        "outputId": "d9bf8d34-9bdc-4f17-f842-fb0d8c525e54"
      },
      "source": [
        "#Error cuadrado medio (MSE) modelo\n",
        "errores = y_test - y_pred\n",
        "\n",
        "MSE_modelo = pow(errores,2).sum()/len(errores)\n",
        "MSE_modelo"
      ],
      "execution_count": 69,
      "outputs": [
        {
          "output_type": "execute_result",
          "data": {
            "text/plain": [
              "41878.715829462155"
            ]
          },
          "metadata": {},
          "execution_count": 69
        }
      ]
    },
    {
      "cell_type": "code",
      "metadata": {
        "id": "_uWhF8uAABtr",
        "colab": {
          "base_uri": "https://localhost:8080/"
        },
        "outputId": "68427bda-808f-49e8-fce2-03f77b83f3fa"
      },
      "source": [
        "R2 = 1 - MSE_modelo/MSE_base #¿cuánto mejora la predicción nuestro modelo?\n",
        "R2"
      ],
      "execution_count": 70,
      "outputs": [
        {
          "output_type": "execute_result",
          "data": {
            "text/plain": [
              "0.19641635536182678"
            ]
          },
          "metadata": {},
          "execution_count": 70
        }
      ]
    },
    {
      "cell_type": "code",
      "metadata": {
        "id": "WYi90tlAhh0Y",
        "colab": {
          "base_uri": "https://localhost:8080/"
        },
        "outputId": "12632add-6f70-42b5-f061-13137fc2967e"
      },
      "source": [
        "R2 = 1 - MSE_base/MSE_base\n",
        "R2"
      ],
      "execution_count": 71,
      "outputs": [
        {
          "output_type": "execute_result",
          "data": {
            "text/plain": [
              "0.0"
            ]
          },
          "metadata": {},
          "execution_count": 71
        }
      ]
    },
    {
      "cell_type": "code",
      "metadata": {
        "id": "SKxn3nyXQyDp"
      },
      "source": [
        "def R_cuadrada(val_obs, val_pred):\n",
        "  errores_lb = val_obs - val_obs.mean()\n",
        "  errores_m = val_obs - val_pred\n",
        "  MSE_base = pow(errores_lb,2).sum()/len(errores_lb)\n",
        "  MSE_modelo = pow(errores,2).sum()/len(errores)\n",
        "  R2 = 1 - MSE_modelo/MSE_base\n",
        "  return R2"
      ],
      "execution_count": 72,
      "outputs": []
    },
    {
      "cell_type": "code",
      "metadata": {
        "id": "UkB-l9rbQ2Te",
        "colab": {
          "base_uri": "https://localhost:8080/"
        },
        "outputId": "4960166f-7892-4312-f5f3-26a34122ae6a"
      },
      "source": [
        "R_cuadrada(y_test, y_pred)"
      ],
      "execution_count": 73,
      "outputs": [
        {
          "output_type": "execute_result",
          "data": {
            "text/plain": [
              "0.19641635536182678"
            ]
          },
          "metadata": {},
          "execution_count": 73
        }
      ]
    },
    {
      "cell_type": "code",
      "metadata": {
        "id": "ZGGwZw9mLz7i",
        "colab": {
          "base_uri": "https://localhost:8080/"
        },
        "outputId": "6fdcb035-3c67-4b76-d7b2-5ce280666393"
      },
      "source": [
        "metrics.r2_score(y_test, y_pred)"
      ],
      "execution_count": 74,
      "outputs": [
        {
          "output_type": "execute_result",
          "data": {
            "text/plain": [
              "0.1964163553618269"
            ]
          },
          "metadata": {},
          "execution_count": 74
        }
      ]
    },
    {
      "cell_type": "markdown",
      "metadata": {
        "id": "rBg1H4OEUXV7"
      },
      "source": [
        "## Regresión Robusta"
      ]
    },
    {
      "cell_type": "code",
      "metadata": {
        "id": "Fw-RzJdaDquX",
        "colab": {
          "base_uri": "https://localhost:8080/"
        },
        "outputId": "b8ca93e1-f1a1-468d-ae31-9dce25db202f"
      },
      "source": [
        "hr = HuberRegressor( epsilon=1.35,   max_iter=1000,  alpha=0,  warm_start=False, \n",
        "                    fit_intercept=True, tol=1e-05)\n",
        "hr = hr.fit(X_train, y_train)\n",
        "y_pred = hr.predict(X_test)\n",
        "\n",
        "print(metrics.mean_absolute_error(y_test, y_pred))\n",
        "print('MAE:', metrics.mean_absolute_error(y_test, y_pred))"
      ],
      "execution_count": 75,
      "outputs": [
        {
          "output_type": "stream",
          "name": "stdout",
          "text": [
            "104.43549501902656\n",
            "MAE: 104.43549501902656\n"
          ]
        }
      ]
    },
    {
      "cell_type": "code",
      "metadata": {
        "id": "OvnUVBW9TWzj",
        "colab": {
          "base_uri": "https://localhost:8080/"
        },
        "outputId": "c7164a19-89f0-45b2-fdea-77eec5265eba"
      },
      "source": [
        "hr.coef_"
      ],
      "execution_count": 76,
      "outputs": [
        {
          "output_type": "execute_result",
          "data": {
            "text/plain": [
              "array([ 6.89490255e-02,  2.05771437e+01,  4.57216926e+00,  4.61671427e+00,\n",
              "        3.15343072e+01,  1.03378284e+01,  1.23359004e-01,  1.13562296e+01,\n",
              "        3.09964772e+00,  4.99297225e-01,  2.42786678e+00,  1.61026831e+00,\n",
              "       -3.20867191e+01,  1.91033760e+01,  1.65361938e+01,  1.69116778e+01,\n",
              "        9.82568965e-01,  2.32824292e+00,  1.35387599e+00,  2.87440851e-01,\n",
              "        9.16565938e-02,  1.95878907e-01, -2.01739963e-02,  3.27453060e+00,\n",
              "        1.21638178e+00,  1.45547689e+00,  1.56870742e+00,  5.24943117e-01,\n",
              "        3.34825867e-02,  1.32943424e-01,  6.54052591e-02,  3.32358561e-02,\n",
              "       -6.33664332e-03, -5.04803593e-02,  7.98890334e-02,  1.54360730e-01,\n",
              "       -1.09059411e-01,  6.50988067e+00, -2.56999217e-01,  2.82272606e-02,\n",
              "        6.36790641e-02, -5.15522439e+00,  1.54096510e-01,  1.53812313e+01,\n",
              "        9.27418311e-01,  2.74620068e+01,  1.35619806e-01, -3.47627844e-01,\n",
              "        3.04432080e-02,  6.08862500e-02, -1.32942598e-01, -1.08606457e+00,\n",
              "       -1.31469968e-01,  1.08659992e+01,  2.64947422e-02, -4.08890890e-01,\n",
              "       -3.34596395e-02,  4.71078672e+00,  2.27968632e+00, -1.74078411e+00,\n",
              "       -1.30852113e+00, -6.64717171e-02,  9.97075683e-02, -4.05647508e-01,\n",
              "       -1.60126566e-01,  3.32358545e-02,  3.32358561e-02])"
            ]
          },
          "metadata": {},
          "execution_count": 76
        }
      ]
    },
    {
      "cell_type": "code",
      "metadata": {
        "id": "_ox61AcR41BW",
        "colab": {
          "base_uri": "https://localhost:8080/",
          "height": 423
        },
        "outputId": "ae00cf4e-ea5f-43be-d4b7-c44c2d9466e1"
      },
      "source": [
        "coeficientes_hr = pd.DataFrame({'coef':hr.coef_, 'variable':list(X.columns)})\n",
        "coeficientes_hr.sort_values('coef').reset_index(drop=True)"
      ],
      "execution_count": 77,
      "outputs": [
        {
          "output_type": "execute_result",
          "data": {
            "text/html": [
              "\n",
              "  <div id=\"df-cf704327-3678-4b34-a479-4ecc4dfa2765\">\n",
              "    <div class=\"colab-df-container\">\n",
              "      <div>\n",
              "<style scoped>\n",
              "    .dataframe tbody tr th:only-of-type {\n",
              "        vertical-align: middle;\n",
              "    }\n",
              "\n",
              "    .dataframe tbody tr th {\n",
              "        vertical-align: top;\n",
              "    }\n",
              "\n",
              "    .dataframe thead th {\n",
              "        text-align: right;\n",
              "    }\n",
              "</style>\n",
              "<table border=\"1\" class=\"dataframe\">\n",
              "  <thead>\n",
              "    <tr style=\"text-align: right;\">\n",
              "      <th></th>\n",
              "      <th>coef</th>\n",
              "      <th>variable</th>\n",
              "    </tr>\n",
              "  </thead>\n",
              "  <tbody>\n",
              "    <tr>\n",
              "      <th>0</th>\n",
              "      <td>-32.086719</td>\n",
              "      <td>location of the event_131.0</td>\n",
              "    </tr>\n",
              "    <tr>\n",
              "      <th>1</th>\n",
              "      <td>-5.155224</td>\n",
              "      <td>emergency vehicle type_CRAC</td>\n",
              "    </tr>\n",
              "    <tr>\n",
              "      <th>2</th>\n",
              "      <td>-1.740784</td>\n",
              "      <td>emergency vehicle type_VRA</td>\n",
              "    </tr>\n",
              "    <tr>\n",
              "      <th>3</th>\n",
              "      <td>-1.308521</td>\n",
              "      <td>emergency vehicle type_VRCH BSPP</td>\n",
              "    </tr>\n",
              "    <tr>\n",
              "      <th>4</th>\n",
              "      <td>-1.086065</td>\n",
              "      <td>emergency vehicle type_VE2I</td>\n",
              "    </tr>\n",
              "    <tr>\n",
              "      <th>...</th>\n",
              "      <td>...</td>\n",
              "      <td>...</td>\n",
              "    </tr>\n",
              "    <tr>\n",
              "      <th>62</th>\n",
              "      <td>16.911678</td>\n",
              "      <td>location of the event_140.0</td>\n",
              "    </tr>\n",
              "    <tr>\n",
              "      <th>63</th>\n",
              "      <td>19.103376</td>\n",
              "      <td>location of the event_136.0</td>\n",
              "    </tr>\n",
              "    <tr>\n",
              "      <th>64</th>\n",
              "      <td>20.577144</td>\n",
              "      <td>rush hour</td>\n",
              "    </tr>\n",
              "    <tr>\n",
              "      <th>65</th>\n",
              "      <td>27.462007</td>\n",
              "      <td>emergency vehicle type_PSE</td>\n",
              "    </tr>\n",
              "    <tr>\n",
              "      <th>66</th>\n",
              "      <td>31.534307</td>\n",
              "      <td>alert reason category_6</td>\n",
              "    </tr>\n",
              "  </tbody>\n",
              "</table>\n",
              "<p>67 rows × 2 columns</p>\n",
              "</div>\n",
              "      <button class=\"colab-df-convert\" onclick=\"convertToInteractive('df-cf704327-3678-4b34-a479-4ecc4dfa2765')\"\n",
              "              title=\"Convert this dataframe to an interactive table.\"\n",
              "              style=\"display:none;\">\n",
              "        \n",
              "  <svg xmlns=\"http://www.w3.org/2000/svg\" height=\"24px\"viewBox=\"0 0 24 24\"\n",
              "       width=\"24px\">\n",
              "    <path d=\"M0 0h24v24H0V0z\" fill=\"none\"/>\n",
              "    <path d=\"M18.56 5.44l.94 2.06.94-2.06 2.06-.94-2.06-.94-.94-2.06-.94 2.06-2.06.94zm-11 1L8.5 8.5l.94-2.06 2.06-.94-2.06-.94L8.5 2.5l-.94 2.06-2.06.94zm10 10l.94 2.06.94-2.06 2.06-.94-2.06-.94-.94-2.06-.94 2.06-2.06.94z\"/><path d=\"M17.41 7.96l-1.37-1.37c-.4-.4-.92-.59-1.43-.59-.52 0-1.04.2-1.43.59L10.3 9.45l-7.72 7.72c-.78.78-.78 2.05 0 2.83L4 21.41c.39.39.9.59 1.41.59.51 0 1.02-.2 1.41-.59l7.78-7.78 2.81-2.81c.8-.78.8-2.07 0-2.86zM5.41 20L4 18.59l7.72-7.72 1.47 1.35L5.41 20z\"/>\n",
              "  </svg>\n",
              "      </button>\n",
              "      \n",
              "  <style>\n",
              "    .colab-df-container {\n",
              "      display:flex;\n",
              "      flex-wrap:wrap;\n",
              "      gap: 12px;\n",
              "    }\n",
              "\n",
              "    .colab-df-convert {\n",
              "      background-color: #E8F0FE;\n",
              "      border: none;\n",
              "      border-radius: 50%;\n",
              "      cursor: pointer;\n",
              "      display: none;\n",
              "      fill: #1967D2;\n",
              "      height: 32px;\n",
              "      padding: 0 0 0 0;\n",
              "      width: 32px;\n",
              "    }\n",
              "\n",
              "    .colab-df-convert:hover {\n",
              "      background-color: #E2EBFA;\n",
              "      box-shadow: 0px 1px 2px rgba(60, 64, 67, 0.3), 0px 1px 3px 1px rgba(60, 64, 67, 0.15);\n",
              "      fill: #174EA6;\n",
              "    }\n",
              "\n",
              "    [theme=dark] .colab-df-convert {\n",
              "      background-color: #3B4455;\n",
              "      fill: #D2E3FC;\n",
              "    }\n",
              "\n",
              "    [theme=dark] .colab-df-convert:hover {\n",
              "      background-color: #434B5C;\n",
              "      box-shadow: 0px 1px 3px 1px rgba(0, 0, 0, 0.15);\n",
              "      filter: drop-shadow(0px 1px 2px rgba(0, 0, 0, 0.3));\n",
              "      fill: #FFFFFF;\n",
              "    }\n",
              "  </style>\n",
              "\n",
              "      <script>\n",
              "        const buttonEl =\n",
              "          document.querySelector('#df-cf704327-3678-4b34-a479-4ecc4dfa2765 button.colab-df-convert');\n",
              "        buttonEl.style.display =\n",
              "          google.colab.kernel.accessAllowed ? 'block' : 'none';\n",
              "\n",
              "        async function convertToInteractive(key) {\n",
              "          const element = document.querySelector('#df-cf704327-3678-4b34-a479-4ecc4dfa2765');\n",
              "          const dataTable =\n",
              "            await google.colab.kernel.invokeFunction('convertToInteractive',\n",
              "                                                     [key], {});\n",
              "          if (!dataTable) return;\n",
              "\n",
              "          const docLinkHtml = 'Like what you see? Visit the ' +\n",
              "            '<a target=\"_blank\" href=https://colab.research.google.com/notebooks/data_table.ipynb>data table notebook</a>'\n",
              "            + ' to learn more about interactive tables.';\n",
              "          element.innerHTML = '';\n",
              "          dataTable['output_type'] = 'display_data';\n",
              "          await google.colab.output.renderOutput(dataTable, element);\n",
              "          const docLink = document.createElement('div');\n",
              "          docLink.innerHTML = docLinkHtml;\n",
              "          element.appendChild(docLink);\n",
              "        }\n",
              "      </script>\n",
              "    </div>\n",
              "  </div>\n",
              "  "
            ],
            "text/plain": [
              "         coef                          variable\n",
              "0  -32.086719       location of the event_131.0\n",
              "1   -5.155224       emergency vehicle type_CRAC\n",
              "2   -1.740784        emergency vehicle type_VRA\n",
              "3   -1.308521  emergency vehicle type_VRCH BSPP\n",
              "4   -1.086065       emergency vehicle type_VE2I\n",
              "..        ...                               ...\n",
              "62  16.911678       location of the event_140.0\n",
              "63  19.103376       location of the event_136.0\n",
              "64  20.577144                         rush hour\n",
              "65  27.462007        emergency vehicle type_PSE\n",
              "66  31.534307           alert reason category_6\n",
              "\n",
              "[67 rows x 2 columns]"
            ]
          },
          "metadata": {},
          "execution_count": 77
        }
      ]
    },
    {
      "cell_type": "markdown",
      "metadata": {
        "id": "FBYTHnDLoMkg"
      },
      "source": [
        "# Estandarizar valores para comparar importancia de variables"
      ]
    },
    {
      "cell_type": "code",
      "metadata": {
        "id": "pdfXjtP9oZ8B"
      },
      "source": [
        "from sklearn.preprocessing import StandardScaler"
      ],
      "execution_count": 78,
      "outputs": []
    },
    {
      "cell_type": "code",
      "metadata": {
        "id": "RZf7mBFTT1Jw"
      },
      "source": [
        "X_estandarizados=X.copy()\n",
        "columnas = X.columns\n",
        "\n",
        "scaler = StandardScaler()\n",
        "\n",
        "X_estandarizados[columnas] = scaler.fit_transform(X[columnas])"
      ],
      "execution_count": 79,
      "outputs": []
    },
    {
      "cell_type": "code",
      "metadata": {
        "id": "1DWtw747Txkg"
      },
      "source": [
        "\n",
        "X_train, X_test, y_train, y_test = train_test_split(X_estandarizados, y, test_size=0.3, \n",
        "                                                    shuffle=True, random_state=261)"
      ],
      "execution_count": 80,
      "outputs": []
    },
    {
      "cell_type": "code",
      "metadata": {
        "id": "ABQMy7uLTxku"
      },
      "source": [
        "hr_st = HuberRegressor( epsilon=1.35,   max_iter=1000,  alpha=0,  warm_start=False, \n",
        "                    fit_intercept=True, tol=1e-05)\n",
        "hr_st = hr.fit(X_train, y_train)"
      ],
      "execution_count": 81,
      "outputs": []
    },
    {
      "cell_type": "code",
      "metadata": {
        "id": "2_aGNzUTTxkx",
        "colab": {
          "base_uri": "https://localhost:8080/"
        },
        "outputId": "59bcf677-d6d8-4802-b8e8-00fbf36bcb52"
      },
      "source": [
        "coeficientes_hr_st = pd.Series(hr_st.coef_, index= columnas)\n",
        "\n",
        "coeficientes_hr_st.sort_values().tail(20)"
      ],
      "execution_count": 82,
      "outputs": [
        {
          "output_type": "execute_result",
          "data": {
            "text/plain": [
              "alert reason category_9              2.139710\n",
              "emergency vehicle type_CCR BSPP      2.312259\n",
              "emergency vehicle type_VPS           2.852050\n",
              "alert reason category_5              2.854210\n",
              "weekday                              3.122017\n",
              "location of the event_140.0          3.447153\n",
              "emergency vehicle type_VSTI          3.653013\n",
              "emergency vehicle type_PEV           4.197269\n",
              "alert reason category_7              4.325338\n",
              "emergency vehicle type_FA            4.347137\n",
              "emergency vehicle type_CMO APP       4.560107\n",
              "rush hour                            7.124796\n",
              "alert reason category_6              7.217219\n",
              "location of the event_139.0          7.713030\n",
              "location of the event_136.0          8.304478\n",
              "emergency vehicle type_PSE           9.309895\n",
              "emergency vehicle type_VID          10.464540\n",
              "emergency vehicle type_VRM          13.036199\n",
              "emergency vehicle type_VTBA         18.357114\n",
              "OSRM estimated distance            111.911499\n",
              "dtype: float64"
            ]
          },
          "metadata": {},
          "execution_count": 82
        }
      ]
    },
    {
      "cell_type": "markdown",
      "source": [
        "# Referencias\n",
        "\n",
        "García, S., Luengo, J., & Herrera, F. (2015). Data Preprocessing in Data Mining. Intelligent Systems Reference Library. doi:10.1007/978-3-319-10247-4\n",
        "\n",
        "\n",
        "Hawkins, D. M. (1980). Identification of Outliers. Springer Netherlands. https://doi.org/10.1007/978-94-015-3994-4\n",
        "\n"
      ],
      "metadata": {
        "id": "GA0U_8bmV0IU"
      }
    }
  ]
}
