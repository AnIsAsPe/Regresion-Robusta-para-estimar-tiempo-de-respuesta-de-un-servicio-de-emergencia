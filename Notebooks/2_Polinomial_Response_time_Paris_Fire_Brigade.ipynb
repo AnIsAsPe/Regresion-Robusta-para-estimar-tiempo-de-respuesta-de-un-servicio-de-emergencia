{
  "nbformat": 4,
  "nbformat_minor": 0,
  "metadata": {
    "colab": {
      "name": "2_Polinomial_Response_time_Paris_Fire_Brigade.ipynb",
      "provenance": [],
      "machine_shape": "hm",
      "include_colab_link": true
    },
    "kernelspec": {
      "name": "python3",
      "display_name": "Python 3"
    }
  },
  "cells": [
    {
      "cell_type": "markdown",
      "metadata": {
        "id": "view-in-github",
        "colab_type": "text"
      },
      "source": [
        "<a href=\"https://colab.research.google.com/github/AnIsAsPe/Regresion-Robusta-para-estimar-tiempo-de-respuesta-de-un-servicio-de-emergencia/blob/main/Notebooks/2_Polinomial_Response_time_Paris_Fire_Brigade.ipynb\" target=\"_parent\"><img src=\"https://colab.research.google.com/assets/colab-badge.svg\" alt=\"Open In Colab\"/></a>"
      ]
    },
    {
      "cell_type": "markdown",
      "metadata": {
        "id": "MOfWHxj0IdEz"
      },
      "source": [
        "## Cargar bibiliotecas"
      ]
    },
    {
      "cell_type": "code",
      "source": [
        "from google.colab import drive\n",
        "drive.mount('/content/drive')"
      ],
      "metadata": {
        "id": "zhJ6DEattZCe",
        "outputId": "fed61e94-9631-4542-d994-275912c4e9bb",
        "colab": {
          "base_uri": "https://localhost:8080/"
        }
      },
      "execution_count": 1,
      "outputs": [
        {
          "output_type": "stream",
          "name": "stdout",
          "text": [
            "Mounted at /content/drive\n"
          ]
        }
      ]
    },
    {
      "cell_type": "code",
      "metadata": {
        "id": "Wkte1t1UpdqM"
      },
      "source": [
        "import pandas as pd\n",
        "import numpy as np\n",
        "\n",
        "from sklearn.preprocessing import PolynomialFeatures\n",
        "from sklearn.preprocessing import StandardScaler\n",
        "from sklearn.model_selection import train_test_split \n",
        "\n",
        "from sklearn.linear_model import LinearRegression\n",
        "from sklearn.linear_model import HuberRegressor\n",
        "from sklearn import metrics\n",
        "\n",
        "import matplotlib.pyplot as plt \n",
        "import seaborn as sns  "
      ],
      "execution_count": 2,
      "outputs": []
    },
    {
      "cell_type": "markdown",
      "metadata": {
        "id": "4ROaW5Muliuw"
      },
      "source": [
        "# Leemos datos preprocesados"
      ]
    },
    {
      "cell_type": "code",
      "metadata": {
        "id": "EmZQXZAllCV8",
        "colab": {
          "base_uri": "https://localhost:8080/",
          "height": 292
        },
        "outputId": "6091cd28-096f-463b-8f81-52b1938ea4bc"
      },
      "source": [
        "df_preprocesado = pd.read_csv('/content/drive/MyDrive/Datos/ParisFireBrigade/Output/df_selec.csv',\n",
        "                              index_col='emergency vehicle selection')\n",
        "df_preprocesado.head(1)"
      ],
      "execution_count": 3,
      "outputs": [
        {
          "output_type": "execute_result",
          "data": {
            "text/plain": [
              "                             intervention on public roads  \\\n",
              "emergency vehicle selection                                 \n",
              "5105452                                             False   \n",
              "\n",
              "                             OSRM estimated distance  rush hour  weekday  \\\n",
              "emergency vehicle selection                                                \n",
              "5105452                                        952.5      False    False   \n",
              "\n",
              "                             alert reason category_2  alert reason category_3  \\\n",
              "emergency vehicle selection                                                     \n",
              "5105452                                        False                     True   \n",
              "\n",
              "                             alert reason category_5  alert reason category_6  \\\n",
              "emergency vehicle selection                                                     \n",
              "5105452                                        False                    False   \n",
              "\n",
              "                             alert reason category_7  alert reason category_9  \\\n",
              "emergency vehicle selection                                                     \n",
              "5105452                                        False                    False   \n",
              "\n",
              "                             ...  emergency vehicle type_VPS  \\\n",
              "emergency vehicle selection  ...                               \n",
              "5105452                      ...                       False   \n",
              "\n",
              "                             emergency vehicle type_VRA  \\\n",
              "emergency vehicle selection                               \n",
              "5105452                                           False   \n",
              "\n",
              "                             emergency vehicle type_VRCH BSPP  \\\n",
              "emergency vehicle selection                                     \n",
              "5105452                                                 False   \n",
              "\n",
              "                             emergency vehicle type_VRCP  \\\n",
              "emergency vehicle selection                                \n",
              "5105452                                            False   \n",
              "\n",
              "                             emergency vehicle type_VRM  \\\n",
              "emergency vehicle selection                               \n",
              "5105452                                           False   \n",
              "\n",
              "                             emergency vehicle type_VRSD  \\\n",
              "emergency vehicle selection                                \n",
              "5105452                                            False   \n",
              "\n",
              "                             emergency vehicle type_VSAV BSPP  \\\n",
              "emergency vehicle selection                                     \n",
              "5105452                                                  True   \n",
              "\n",
              "                             emergency vehicle type_VSTI  \\\n",
              "emergency vehicle selection                                \n",
              "5105452                                            False   \n",
              "\n",
              "                             emergency vehicle type_VTBA  \\\n",
              "emergency vehicle selection                                \n",
              "5105452                                            False   \n",
              "\n",
              "                             delta departure-presentation  \n",
              "emergency vehicle selection                                \n",
              "5105452                                               324  \n",
              "\n",
              "[1 rows x 70 columns]"
            ],
            "text/html": [
              "\n",
              "  <div id=\"df-92a78997-c829-47b5-a9e5-b67f21e7e471\">\n",
              "    <div class=\"colab-df-container\">\n",
              "      <div>\n",
              "<style scoped>\n",
              "    .dataframe tbody tr th:only-of-type {\n",
              "        vertical-align: middle;\n",
              "    }\n",
              "\n",
              "    .dataframe tbody tr th {\n",
              "        vertical-align: top;\n",
              "    }\n",
              "\n",
              "    .dataframe thead th {\n",
              "        text-align: right;\n",
              "    }\n",
              "</style>\n",
              "<table border=\"1\" class=\"dataframe\">\n",
              "  <thead>\n",
              "    <tr style=\"text-align: right;\">\n",
              "      <th></th>\n",
              "      <th>intervention on public roads</th>\n",
              "      <th>OSRM estimated distance</th>\n",
              "      <th>rush hour</th>\n",
              "      <th>weekday</th>\n",
              "      <th>alert reason category_2</th>\n",
              "      <th>alert reason category_3</th>\n",
              "      <th>alert reason category_5</th>\n",
              "      <th>alert reason category_6</th>\n",
              "      <th>alert reason category_7</th>\n",
              "      <th>alert reason category_9</th>\n",
              "      <th>...</th>\n",
              "      <th>emergency vehicle type_VPS</th>\n",
              "      <th>emergency vehicle type_VRA</th>\n",
              "      <th>emergency vehicle type_VRCH BSPP</th>\n",
              "      <th>emergency vehicle type_VRCP</th>\n",
              "      <th>emergency vehicle type_VRM</th>\n",
              "      <th>emergency vehicle type_VRSD</th>\n",
              "      <th>emergency vehicle type_VSAV BSPP</th>\n",
              "      <th>emergency vehicle type_VSTI</th>\n",
              "      <th>emergency vehicle type_VTBA</th>\n",
              "      <th>delta departure-presentation</th>\n",
              "    </tr>\n",
              "    <tr>\n",
              "      <th>emergency vehicle selection</th>\n",
              "      <th></th>\n",
              "      <th></th>\n",
              "      <th></th>\n",
              "      <th></th>\n",
              "      <th></th>\n",
              "      <th></th>\n",
              "      <th></th>\n",
              "      <th></th>\n",
              "      <th></th>\n",
              "      <th></th>\n",
              "      <th></th>\n",
              "      <th></th>\n",
              "      <th></th>\n",
              "      <th></th>\n",
              "      <th></th>\n",
              "      <th></th>\n",
              "      <th></th>\n",
              "      <th></th>\n",
              "      <th></th>\n",
              "      <th></th>\n",
              "      <th></th>\n",
              "    </tr>\n",
              "  </thead>\n",
              "  <tbody>\n",
              "    <tr>\n",
              "      <th>5105452</th>\n",
              "      <td>False</td>\n",
              "      <td>952.5</td>\n",
              "      <td>False</td>\n",
              "      <td>False</td>\n",
              "      <td>False</td>\n",
              "      <td>True</td>\n",
              "      <td>False</td>\n",
              "      <td>False</td>\n",
              "      <td>False</td>\n",
              "      <td>False</td>\n",
              "      <td>...</td>\n",
              "      <td>False</td>\n",
              "      <td>False</td>\n",
              "      <td>False</td>\n",
              "      <td>False</td>\n",
              "      <td>False</td>\n",
              "      <td>False</td>\n",
              "      <td>True</td>\n",
              "      <td>False</td>\n",
              "      <td>False</td>\n",
              "      <td>324</td>\n",
              "    </tr>\n",
              "  </tbody>\n",
              "</table>\n",
              "<p>1 rows × 70 columns</p>\n",
              "</div>\n",
              "      <button class=\"colab-df-convert\" onclick=\"convertToInteractive('df-92a78997-c829-47b5-a9e5-b67f21e7e471')\"\n",
              "              title=\"Convert this dataframe to an interactive table.\"\n",
              "              style=\"display:none;\">\n",
              "        \n",
              "  <svg xmlns=\"http://www.w3.org/2000/svg\" height=\"24px\"viewBox=\"0 0 24 24\"\n",
              "       width=\"24px\">\n",
              "    <path d=\"M0 0h24v24H0V0z\" fill=\"none\"/>\n",
              "    <path d=\"M18.56 5.44l.94 2.06.94-2.06 2.06-.94-2.06-.94-.94-2.06-.94 2.06-2.06.94zm-11 1L8.5 8.5l.94-2.06 2.06-.94-2.06-.94L8.5 2.5l-.94 2.06-2.06.94zm10 10l.94 2.06.94-2.06 2.06-.94-2.06-.94-.94-2.06-.94 2.06-2.06.94z\"/><path d=\"M17.41 7.96l-1.37-1.37c-.4-.4-.92-.59-1.43-.59-.52 0-1.04.2-1.43.59L10.3 9.45l-7.72 7.72c-.78.78-.78 2.05 0 2.83L4 21.41c.39.39.9.59 1.41.59.51 0 1.02-.2 1.41-.59l7.78-7.78 2.81-2.81c.8-.78.8-2.07 0-2.86zM5.41 20L4 18.59l7.72-7.72 1.47 1.35L5.41 20z\"/>\n",
              "  </svg>\n",
              "      </button>\n",
              "      \n",
              "  <style>\n",
              "    .colab-df-container {\n",
              "      display:flex;\n",
              "      flex-wrap:wrap;\n",
              "      gap: 12px;\n",
              "    }\n",
              "\n",
              "    .colab-df-convert {\n",
              "      background-color: #E8F0FE;\n",
              "      border: none;\n",
              "      border-radius: 50%;\n",
              "      cursor: pointer;\n",
              "      display: none;\n",
              "      fill: #1967D2;\n",
              "      height: 32px;\n",
              "      padding: 0 0 0 0;\n",
              "      width: 32px;\n",
              "    }\n",
              "\n",
              "    .colab-df-convert:hover {\n",
              "      background-color: #E2EBFA;\n",
              "      box-shadow: 0px 1px 2px rgba(60, 64, 67, 0.3), 0px 1px 3px 1px rgba(60, 64, 67, 0.15);\n",
              "      fill: #174EA6;\n",
              "    }\n",
              "\n",
              "    [theme=dark] .colab-df-convert {\n",
              "      background-color: #3B4455;\n",
              "      fill: #D2E3FC;\n",
              "    }\n",
              "\n",
              "    [theme=dark] .colab-df-convert:hover {\n",
              "      background-color: #434B5C;\n",
              "      box-shadow: 0px 1px 3px 1px rgba(0, 0, 0, 0.15);\n",
              "      filter: drop-shadow(0px 1px 2px rgba(0, 0, 0, 0.3));\n",
              "      fill: #FFFFFF;\n",
              "    }\n",
              "  </style>\n",
              "\n",
              "      <script>\n",
              "        const buttonEl =\n",
              "          document.querySelector('#df-92a78997-c829-47b5-a9e5-b67f21e7e471 button.colab-df-convert');\n",
              "        buttonEl.style.display =\n",
              "          google.colab.kernel.accessAllowed ? 'block' : 'none';\n",
              "\n",
              "        async function convertToInteractive(key) {\n",
              "          const element = document.querySelector('#df-92a78997-c829-47b5-a9e5-b67f21e7e471');\n",
              "          const dataTable =\n",
              "            await google.colab.kernel.invokeFunction('convertToInteractive',\n",
              "                                                     [key], {});\n",
              "          if (!dataTable) return;\n",
              "\n",
              "          const docLinkHtml = 'Like what you see? Visit the ' +\n",
              "            '<a target=\"_blank\" href=https://colab.research.google.com/notebooks/data_table.ipynb>data table notebook</a>'\n",
              "            + ' to learn more about interactive tables.';\n",
              "          element.innerHTML = '';\n",
              "          dataTable['output_type'] = 'display_data';\n",
              "          await google.colab.output.renderOutput(dataTable, element);\n",
              "          const docLink = document.createElement('div');\n",
              "          docLink.innerHTML = docLinkHtml;\n",
              "          element.appendChild(docLink);\n",
              "        }\n",
              "      </script>\n",
              "    </div>\n",
              "  </div>\n",
              "  "
            ]
          },
          "metadata": {},
          "execution_count": 3
        }
      ]
    },
    {
      "cell_type": "code",
      "metadata": {
        "id": "Z_GrEgMSs5fs",
        "colab": {
          "base_uri": "https://localhost:8080/"
        },
        "outputId": "73f9869b-12e4-45c7-86e8-f3db46d4395a"
      },
      "source": [
        "df_muestra=df_preprocesado.sample(frac=.2 )\n",
        "df_muestra.shape"
      ],
      "execution_count": 4,
      "outputs": [
        {
          "output_type": "execute_result",
          "data": {
            "text/plain": [
              "(43867, 70)"
            ]
          },
          "metadata": {},
          "execution_count": 4
        }
      ]
    },
    {
      "cell_type": "code",
      "metadata": {
        "id": "RMOKZZKNo_4o"
      },
      "source": [
        "#separamos variable respuesta de características\n",
        "y = df_muestra['delta departure-presentation']\n",
        "X = df_muestra.drop(['delta departure-presentation'],axis=1)"
      ],
      "execution_count": 5,
      "outputs": []
    },
    {
      "cell_type": "markdown",
      "metadata": {
        "id": "0UCDSsULUFZ3"
      },
      "source": [
        "# Regresión Polinomial Orden 2"
      ]
    },
    {
      "cell_type": "markdown",
      "metadata": {
        "id": "6wimZChpvkoK"
      },
      "source": [
        "### Creación de variables que capturen efectos no lineales"
      ]
    },
    {
      "cell_type": "code",
      "metadata": {
        "id": "cLcMXWJspJXs",
        "colab": {
          "base_uri": "https://localhost:8080/"
        },
        "outputId": "7145f16b-4dc8-4e70-82ce-29a052cb171d"
      },
      "source": [
        "polynomial_features = PolynomialFeatures(degree=2)\n",
        "X_poly= polynomial_features.fit_transform(X)\n",
        "X.shape, X_poly.shape"
      ],
      "execution_count": 6,
      "outputs": [
        {
          "output_type": "execute_result",
          "data": {
            "text/plain": [
              "((43867, 69), (43867, 2485))"
            ]
          },
          "metadata": {},
          "execution_count": 6
        }
      ]
    },
    {
      "cell_type": "markdown",
      "metadata": {
        "id": "o0KKg4eNo7yK"
      },
      "source": [
        "### Separación conjunto de entrenamiento y prueba"
      ]
    },
    {
      "cell_type": "code",
      "metadata": {
        "id": "JYc_ak6MvkoM"
      },
      "source": [
        "X_train, X_test, y_train, y_test = train_test_split(X_poly, y, \n",
        "                                                    test_size=0.3, \n",
        "                                                    shuffle=True,\n",
        "                                                    random_state=261)"
      ],
      "execution_count": 7,
      "outputs": []
    },
    {
      "cell_type": "code",
      "metadata": {
        "id": "CoxH3YNHvkoM",
        "colab": {
          "base_uri": "https://localhost:8080/"
        },
        "outputId": "7b0fdfdf-32cf-4a82-edab-c3c9ca648e0f"
      },
      "source": [
        "# ¿Cómo son los conjuntos de entrenamiento y prueba?\n",
        "print(\"Conjunto de entrenamiento\")\n",
        "print(\"X: \", X_train.shape)\n",
        "print(\"y: \", y_train.shape)\n",
        "\n",
        "print(\"Conjunto de prueba\")\n",
        "print(\"X: \", X_test.shape)\n",
        "print(\"y: \", y_test.shape)"
      ],
      "execution_count": 8,
      "outputs": [
        {
          "output_type": "stream",
          "name": "stdout",
          "text": [
            "Conjunto de entrenamiento\n",
            "X:  (30706, 2485)\n",
            "y:  (30706,)\n",
            "Conjunto de prueba\n",
            "X:  (13161, 2485)\n",
            "y:  (13161,)\n"
          ]
        }
      ]
    },
    {
      "cell_type": "code",
      "metadata": {
        "id": "KhZWHOuFr5En",
        "colab": {
          "base_uri": "https://localhost:8080/"
        },
        "outputId": "cd2358b7-dbed-41d5-d7d9-e6414a597bd9"
      },
      "source": [
        "lr = LinearRegression().fit(X_train, y_train)\n",
        "\n",
        "y_pred = lr.predict(X_test)\n",
        "\n",
        "error_medio_absoluto = np.mean(np.absolute(y_test - y_pred ))\n",
        "error_medio_absoluto"
      ],
      "execution_count": 9,
      "outputs": [
        {
          "output_type": "execute_result",
          "data": {
            "text/plain": [
              "109.64143633550468"
            ]
          },
          "metadata": {},
          "execution_count": 9
        }
      ]
    }
  ]
}