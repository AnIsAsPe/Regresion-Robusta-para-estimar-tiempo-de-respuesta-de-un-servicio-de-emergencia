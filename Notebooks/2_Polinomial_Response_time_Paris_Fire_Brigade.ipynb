{
  "nbformat": 4,
  "nbformat_minor": 0,
  "metadata": {
    "colab": {
      "name": "2_Polinomial_Response_time_Paris_Fire_Brigade.ipynb",
      "provenance": [],
      "collapsed_sections": [],
      "machine_shape": "hm",
      "include_colab_link": true
    },
    "kernelspec": {
      "name": "python3",
      "display_name": "Python 3"
    }
  },
  "cells": [
    {
      "cell_type": "markdown",
      "metadata": {
        "id": "view-in-github",
        "colab_type": "text"
      },
      "source": [
        "<a href=\"https://colab.research.google.com/github/AnIsAsPe/Regresion-Robusta-para-estimar-tiempo-de-respuesta-de-un-servicio-de-emergencia/blob/main/2_Polinomial_Response_time_Paris_Fire_Brigade.ipynb\" target=\"_parent\"><img src=\"https://colab.research.google.com/assets/colab-badge.svg\" alt=\"Open In Colab\"/></a>"
      ]
    },
    {
      "cell_type": "markdown",
      "metadata": {
        "id": "MOfWHxj0IdEz"
      },
      "source": [
        "## Cargar bibiliotecas"
      ]
    },
    {
      "cell_type": "code",
      "source": [
        "# from google.colab import drive\n",
        "# drive.mount('/content/drive')"
      ],
      "metadata": {
        "id": "zhJ6DEattZCe"
      },
      "execution_count": 1,
      "outputs": []
    },
    {
      "cell_type": "code",
      "metadata": {
        "id": "Wkte1t1UpdqM"
      },
      "source": [
        "import pandas as pd\n",
        "import numpy as np\n",
        "\n",
        "from sklearn.preprocessing import PolynomialFeatures\n",
        "from sklearn.preprocessing import StandardScaler\n",
        "from sklearn.model_selection import train_test_split \n",
        "\n",
        "from sklearn.linear_model import LinearRegression\n",
        "from sklearn.linear_model import HuberRegressor\n",
        "from sklearn import metrics\n",
        "\n",
        "import matplotlib.pyplot as plt \n",
        "import seaborn as sns  "
      ],
      "execution_count": 2,
      "outputs": []
    },
    {
      "cell_type": "markdown",
      "metadata": {
        "id": "4ROaW5Muliuw"
      },
      "source": [
        "# Leemos datos preprocesados"
      ]
    },
    {
      "cell_type": "code",
      "metadata": {
        "id": "EmZQXZAllCV8",
        "colab": {
          "base_uri": "https://localhost:8080/",
          "height": 263
        },
        "outputId": "4d06803c-8de3-42eb-a354-e8d6dffcbdb5"
      },
      "source": [
        "df_preprocesado = pd.read_csv('/content/drive/MyDrive/Datos/ParisFireBrigade/Output/df_selec.csv',\n",
        "                              index_col='emergency vehicle selection')\n",
        "df_preprocesado.head(1)"
      ],
      "execution_count": 3,
      "outputs": [
        {
          "output_type": "execute_result",
          "data": {
            "text/html": [
              "\n",
              "  <div id=\"df-7486c7a1-bbee-449e-9d14-5a7d9507cc8a\">\n",
              "    <div class=\"colab-df-container\">\n",
              "      <div>\n",
              "<style scoped>\n",
              "    .dataframe tbody tr th:only-of-type {\n",
              "        vertical-align: middle;\n",
              "    }\n",
              "\n",
              "    .dataframe tbody tr th {\n",
              "        vertical-align: top;\n",
              "    }\n",
              "\n",
              "    .dataframe thead th {\n",
              "        text-align: right;\n",
              "    }\n",
              "</style>\n",
              "<table border=\"1\" class=\"dataframe\">\n",
              "  <thead>\n",
              "    <tr style=\"text-align: right;\">\n",
              "      <th></th>\n",
              "      <th>OSRM estimated distance</th>\n",
              "      <th>rush hour</th>\n",
              "      <th>weekday</th>\n",
              "      <th>alert reason category_5</th>\n",
              "      <th>alert reason category_6</th>\n",
              "      <th>alert reason category_7</th>\n",
              "      <th>alert reason category_8</th>\n",
              "      <th>alert reason category_9</th>\n",
              "      <th>location of the event_108.0</th>\n",
              "      <th>location of the event_110.0</th>\n",
              "      <th>location of the event_111.0</th>\n",
              "      <th>location of the event_127.0</th>\n",
              "      <th>location of the event_131.0</th>\n",
              "      <th>location of the event_136.0</th>\n",
              "      <th>location of the event_139.0</th>\n",
              "      <th>location of the event_140.0</th>\n",
              "      <th>location of the event_143.0</th>\n",
              "      <th>location of the event_164.0</th>\n",
              "      <th>location of the event_167.0</th>\n",
              "      <th>location of the event_168.0</th>\n",
              "      <th>location of the event_169.0</th>\n",
              "      <th>location of the event_170.0</th>\n",
              "      <th>location of the event_171.0</th>\n",
              "      <th>location of the event_202.0</th>\n",
              "      <th>location of the event_205.0</th>\n",
              "      <th>location of the event_206.0</th>\n",
              "      <th>location of the event_218.0</th>\n",
              "      <th>location of the event_244.0</th>\n",
              "      <th>location of the event_252.0</th>\n",
              "      <th>location of the event_287.0</th>\n",
              "      <th>location of the event_299.0</th>\n",
              "      <th>location of the event_302.0</th>\n",
              "      <th>location of the event_303.0</th>\n",
              "      <th>location of the event_307.0</th>\n",
              "      <th>location of the event_310.0</th>\n",
              "      <th>location of the event_321.0</th>\n",
              "      <th>emergency vehicle type_BEAA BSPP</th>\n",
              "      <th>emergency vehicle type_CCR BSPP</th>\n",
              "      <th>emergency vehicle type_CD BSPP</th>\n",
              "      <th>emergency vehicle type_CESD</th>\n",
              "      <th>emergency vehicle type_CMO APP</th>\n",
              "      <th>emergency vehicle type_CRAC</th>\n",
              "      <th>emergency vehicle type_DEP</th>\n",
              "      <th>emergency vehicle type_FA</th>\n",
              "      <th>emergency vehicle type_PEV</th>\n",
              "      <th>emergency vehicle type_PSE</th>\n",
              "      <th>emergency vehicle type_PST</th>\n",
              "      <th>emergency vehicle type_SP</th>\n",
              "      <th>emergency vehicle type_SP BALLON</th>\n",
              "      <th>emergency vehicle type_SPTT</th>\n",
              "      <th>emergency vehicle type_UMH 93</th>\n",
              "      <th>emergency vehicle type_VE2I</th>\n",
              "      <th>emergency vehicle type_VEC</th>\n",
              "      <th>emergency vehicle type_VID</th>\n",
              "      <th>emergency vehicle type_VIGI</th>\n",
              "      <th>emergency vehicle type_VIMP</th>\n",
              "      <th>emergency vehicle type_VLHP</th>\n",
              "      <th>emergency vehicle type_VLR BSPP</th>\n",
              "      <th>emergency vehicle type_VPS</th>\n",
              "      <th>emergency vehicle type_VRA</th>\n",
              "      <th>emergency vehicle type_VRCH BSPP</th>\n",
              "      <th>emergency vehicle type_VRCP</th>\n",
              "      <th>emergency vehicle type_VRM</th>\n",
              "      <th>emergency vehicle type_VRSD</th>\n",
              "      <th>emergency vehicle type_VSIS</th>\n",
              "      <th>emergency vehicle type_VSTI</th>\n",
              "      <th>emergency vehicle type_VTBA</th>\n",
              "      <th>delta departure-presentation</th>\n",
              "    </tr>\n",
              "    <tr>\n",
              "      <th>emergency vehicle selection</th>\n",
              "      <th></th>\n",
              "      <th></th>\n",
              "      <th></th>\n",
              "      <th></th>\n",
              "      <th></th>\n",
              "      <th></th>\n",
              "      <th></th>\n",
              "      <th></th>\n",
              "      <th></th>\n",
              "      <th></th>\n",
              "      <th></th>\n",
              "      <th></th>\n",
              "      <th></th>\n",
              "      <th></th>\n",
              "      <th></th>\n",
              "      <th></th>\n",
              "      <th></th>\n",
              "      <th></th>\n",
              "      <th></th>\n",
              "      <th></th>\n",
              "      <th></th>\n",
              "      <th></th>\n",
              "      <th></th>\n",
              "      <th></th>\n",
              "      <th></th>\n",
              "      <th></th>\n",
              "      <th></th>\n",
              "      <th></th>\n",
              "      <th></th>\n",
              "      <th></th>\n",
              "      <th></th>\n",
              "      <th></th>\n",
              "      <th></th>\n",
              "      <th></th>\n",
              "      <th></th>\n",
              "      <th></th>\n",
              "      <th></th>\n",
              "      <th></th>\n",
              "      <th></th>\n",
              "      <th></th>\n",
              "      <th></th>\n",
              "      <th></th>\n",
              "      <th></th>\n",
              "      <th></th>\n",
              "      <th></th>\n",
              "      <th></th>\n",
              "      <th></th>\n",
              "      <th></th>\n",
              "      <th></th>\n",
              "      <th></th>\n",
              "      <th></th>\n",
              "      <th></th>\n",
              "      <th></th>\n",
              "      <th></th>\n",
              "      <th></th>\n",
              "      <th></th>\n",
              "      <th></th>\n",
              "      <th></th>\n",
              "      <th></th>\n",
              "      <th></th>\n",
              "      <th></th>\n",
              "      <th></th>\n",
              "      <th></th>\n",
              "      <th></th>\n",
              "      <th></th>\n",
              "      <th></th>\n",
              "      <th></th>\n",
              "      <th></th>\n",
              "    </tr>\n",
              "  </thead>\n",
              "  <tbody>\n",
              "    <tr>\n",
              "      <th>5105452</th>\n",
              "      <td>952.5</td>\n",
              "      <td>False</td>\n",
              "      <td>False</td>\n",
              "      <td>False</td>\n",
              "      <td>False</td>\n",
              "      <td>False</td>\n",
              "      <td>False</td>\n",
              "      <td>False</td>\n",
              "      <td>False</td>\n",
              "      <td>False</td>\n",
              "      <td>False</td>\n",
              "      <td>False</td>\n",
              "      <td>False</td>\n",
              "      <td>False</td>\n",
              "      <td>False</td>\n",
              "      <td>False</td>\n",
              "      <td>False</td>\n",
              "      <td>False</td>\n",
              "      <td>False</td>\n",
              "      <td>False</td>\n",
              "      <td>False</td>\n",
              "      <td>False</td>\n",
              "      <td>False</td>\n",
              "      <td>False</td>\n",
              "      <td>False</td>\n",
              "      <td>False</td>\n",
              "      <td>False</td>\n",
              "      <td>False</td>\n",
              "      <td>False</td>\n",
              "      <td>False</td>\n",
              "      <td>False</td>\n",
              "      <td>False</td>\n",
              "      <td>False</td>\n",
              "      <td>False</td>\n",
              "      <td>False</td>\n",
              "      <td>False</td>\n",
              "      <td>False</td>\n",
              "      <td>False</td>\n",
              "      <td>False</td>\n",
              "      <td>False</td>\n",
              "      <td>False</td>\n",
              "      <td>False</td>\n",
              "      <td>False</td>\n",
              "      <td>False</td>\n",
              "      <td>False</td>\n",
              "      <td>False</td>\n",
              "      <td>False</td>\n",
              "      <td>False</td>\n",
              "      <td>False</td>\n",
              "      <td>False</td>\n",
              "      <td>False</td>\n",
              "      <td>False</td>\n",
              "      <td>False</td>\n",
              "      <td>False</td>\n",
              "      <td>False</td>\n",
              "      <td>False</td>\n",
              "      <td>False</td>\n",
              "      <td>False</td>\n",
              "      <td>False</td>\n",
              "      <td>False</td>\n",
              "      <td>False</td>\n",
              "      <td>False</td>\n",
              "      <td>False</td>\n",
              "      <td>False</td>\n",
              "      <td>False</td>\n",
              "      <td>False</td>\n",
              "      <td>False</td>\n",
              "      <td>324</td>\n",
              "    </tr>\n",
              "  </tbody>\n",
              "</table>\n",
              "</div>\n",
              "      <button class=\"colab-df-convert\" onclick=\"convertToInteractive('df-7486c7a1-bbee-449e-9d14-5a7d9507cc8a')\"\n",
              "              title=\"Convert this dataframe to an interactive table.\"\n",
              "              style=\"display:none;\">\n",
              "        \n",
              "  <svg xmlns=\"http://www.w3.org/2000/svg\" height=\"24px\"viewBox=\"0 0 24 24\"\n",
              "       width=\"24px\">\n",
              "    <path d=\"M0 0h24v24H0V0z\" fill=\"none\"/>\n",
              "    <path d=\"M18.56 5.44l.94 2.06.94-2.06 2.06-.94-2.06-.94-.94-2.06-.94 2.06-2.06.94zm-11 1L8.5 8.5l.94-2.06 2.06-.94-2.06-.94L8.5 2.5l-.94 2.06-2.06.94zm10 10l.94 2.06.94-2.06 2.06-.94-2.06-.94-.94-2.06-.94 2.06-2.06.94z\"/><path d=\"M17.41 7.96l-1.37-1.37c-.4-.4-.92-.59-1.43-.59-.52 0-1.04.2-1.43.59L10.3 9.45l-7.72 7.72c-.78.78-.78 2.05 0 2.83L4 21.41c.39.39.9.59 1.41.59.51 0 1.02-.2 1.41-.59l7.78-7.78 2.81-2.81c.8-.78.8-2.07 0-2.86zM5.41 20L4 18.59l7.72-7.72 1.47 1.35L5.41 20z\"/>\n",
              "  </svg>\n",
              "      </button>\n",
              "      \n",
              "  <style>\n",
              "    .colab-df-container {\n",
              "      display:flex;\n",
              "      flex-wrap:wrap;\n",
              "      gap: 12px;\n",
              "    }\n",
              "\n",
              "    .colab-df-convert {\n",
              "      background-color: #E8F0FE;\n",
              "      border: none;\n",
              "      border-radius: 50%;\n",
              "      cursor: pointer;\n",
              "      display: none;\n",
              "      fill: #1967D2;\n",
              "      height: 32px;\n",
              "      padding: 0 0 0 0;\n",
              "      width: 32px;\n",
              "    }\n",
              "\n",
              "    .colab-df-convert:hover {\n",
              "      background-color: #E2EBFA;\n",
              "      box-shadow: 0px 1px 2px rgba(60, 64, 67, 0.3), 0px 1px 3px 1px rgba(60, 64, 67, 0.15);\n",
              "      fill: #174EA6;\n",
              "    }\n",
              "\n",
              "    [theme=dark] .colab-df-convert {\n",
              "      background-color: #3B4455;\n",
              "      fill: #D2E3FC;\n",
              "    }\n",
              "\n",
              "    [theme=dark] .colab-df-convert:hover {\n",
              "      background-color: #434B5C;\n",
              "      box-shadow: 0px 1px 3px 1px rgba(0, 0, 0, 0.15);\n",
              "      filter: drop-shadow(0px 1px 2px rgba(0, 0, 0, 0.3));\n",
              "      fill: #FFFFFF;\n",
              "    }\n",
              "  </style>\n",
              "\n",
              "      <script>\n",
              "        const buttonEl =\n",
              "          document.querySelector('#df-7486c7a1-bbee-449e-9d14-5a7d9507cc8a button.colab-df-convert');\n",
              "        buttonEl.style.display =\n",
              "          google.colab.kernel.accessAllowed ? 'block' : 'none';\n",
              "\n",
              "        async function convertToInteractive(key) {\n",
              "          const element = document.querySelector('#df-7486c7a1-bbee-449e-9d14-5a7d9507cc8a');\n",
              "          const dataTable =\n",
              "            await google.colab.kernel.invokeFunction('convertToInteractive',\n",
              "                                                     [key], {});\n",
              "          if (!dataTable) return;\n",
              "\n",
              "          const docLinkHtml = 'Like what you see? Visit the ' +\n",
              "            '<a target=\"_blank\" href=https://colab.research.google.com/notebooks/data_table.ipynb>data table notebook</a>'\n",
              "            + ' to learn more about interactive tables.';\n",
              "          element.innerHTML = '';\n",
              "          dataTable['output_type'] = 'display_data';\n",
              "          await google.colab.output.renderOutput(dataTable, element);\n",
              "          const docLink = document.createElement('div');\n",
              "          docLink.innerHTML = docLinkHtml;\n",
              "          element.appendChild(docLink);\n",
              "        }\n",
              "      </script>\n",
              "    </div>\n",
              "  </div>\n",
              "  "
            ],
            "text/plain": [
              "                             OSRM estimated distance  ...  delta departure-presentation\n",
              "emergency vehicle selection                           ...                              \n",
              "5105452                                        952.5  ...                           324\n",
              "\n",
              "[1 rows x 68 columns]"
            ]
          },
          "metadata": {},
          "execution_count": 3
        }
      ]
    },
    {
      "cell_type": "code",
      "metadata": {
        "id": "Z_GrEgMSs5fs",
        "colab": {
          "base_uri": "https://localhost:8080/"
        },
        "outputId": "2ffcc8d1-97a4-41dc-a0bd-ba8192997409"
      },
      "source": [
        "df_muestra=df_preprocesado.sample(frac=.2 )\n",
        "df_muestra.shape"
      ],
      "execution_count": 4,
      "outputs": [
        {
          "output_type": "execute_result",
          "data": {
            "text/plain": [
              "(43867, 68)"
            ]
          },
          "metadata": {},
          "execution_count": 4
        }
      ]
    },
    {
      "cell_type": "code",
      "metadata": {
        "id": "RMOKZZKNo_4o"
      },
      "source": [
        "#separamos variable respuesta de características\n",
        "y = df_muestra['delta departure-presentation']\n",
        "X = df_muestra.drop(['delta departure-presentation'],axis=1)"
      ],
      "execution_count": 5,
      "outputs": []
    },
    {
      "cell_type": "markdown",
      "metadata": {
        "id": "0UCDSsULUFZ3"
      },
      "source": [
        "# Regresión Polinomial Orden 2"
      ]
    },
    {
      "cell_type": "markdown",
      "metadata": {
        "id": "6wimZChpvkoK"
      },
      "source": [
        "### Creación de variables que capturen efectos no lineales"
      ]
    },
    {
      "cell_type": "code",
      "metadata": {
        "id": "cLcMXWJspJXs",
        "colab": {
          "base_uri": "https://localhost:8080/"
        },
        "outputId": "784bf125-a472-45fe-b4f7-58b2991da005"
      },
      "source": [
        "polynomial_features = PolynomialFeatures(degree=2)\n",
        "X_poly= polynomial_features.fit_transform(X)\n",
        "X.shape, X_poly.shape"
      ],
      "execution_count": 6,
      "outputs": [
        {
          "output_type": "execute_result",
          "data": {
            "text/plain": [
              "((43867, 67), (43867, 2346))"
            ]
          },
          "metadata": {},
          "execution_count": 6
        }
      ]
    },
    {
      "cell_type": "markdown",
      "metadata": {
        "id": "o0KKg4eNo7yK"
      },
      "source": [
        "### Separación conjunto de entrenamiento y prueba"
      ]
    },
    {
      "cell_type": "code",
      "metadata": {
        "id": "JYc_ak6MvkoM"
      },
      "source": [
        "X_train, X_test, y_train, y_test = train_test_split(X_poly, y, \n",
        "                                                    test_size=0.3, \n",
        "                                                    shuffle=True,\n",
        "                                                    random_state=261)"
      ],
      "execution_count": 7,
      "outputs": []
    },
    {
      "cell_type": "code",
      "metadata": {
        "id": "CoxH3YNHvkoM",
        "colab": {
          "base_uri": "https://localhost:8080/"
        },
        "outputId": "5cce3ce6-9208-48e3-8e28-e7251d24bff1"
      },
      "source": [
        "# ¿Cómo son los conjuntos de entrenamiento y prueba?\n",
        "print(\"Conjunto de entrenamiento\")\n",
        "print(\"X: \", X_train.shape)\n",
        "print(\"y: \", y_train.shape)\n",
        "\n",
        "print(\"Conjunto de prueba\")\n",
        "print(\"X: \", X_test.shape)\n",
        "print(\"y: \", y_test.shape)"
      ],
      "execution_count": 8,
      "outputs": [
        {
          "output_type": "stream",
          "name": "stdout",
          "text": [
            "Conjunto de entrenamiento\n",
            "X:  (30706, 2346)\n",
            "y:  (30706,)\n",
            "Conjunto de prueba\n",
            "X:  (13161, 2346)\n",
            "y:  (13161,)\n"
          ]
        }
      ]
    },
    {
      "cell_type": "code",
      "metadata": {
        "id": "KhZWHOuFr5En",
        "colab": {
          "base_uri": "https://localhost:8080/"
        },
        "outputId": "209001cd-10fc-4471-ed52-73a0dca36c11"
      },
      "source": [
        "lr = LinearRegression().fit(X_train, y_train)\n",
        "\n",
        "y_pred = lr.predict(X_test)\n",
        "\n",
        "error_medio_absoluto = np.mean(np.absolute(y_test - y_pred ))\n",
        "error_medio_absoluto"
      ],
      "execution_count": 9,
      "outputs": [
        {
          "output_type": "execute_result",
          "data": {
            "text/plain": [
              "106.41906631251942"
            ]
          },
          "metadata": {},
          "execution_count": 9
        }
      ]
    }
  ]
}
