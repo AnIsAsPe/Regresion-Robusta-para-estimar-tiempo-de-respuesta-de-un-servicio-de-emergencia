{
  "nbformat": 4,
  "nbformat_minor": 0,
  "metadata": {
    "colab": {
      "name": "Comparación regresiones lineal, polinomial y robusta response_time_Paris_Fire_Brigade.ipynb",
      "provenance": [],
      "collapsed_sections": [],
      "toc_visible": true,
      "include_colab_link": true
    },
    "kernelspec": {
      "name": "python3",
      "display_name": "Python 3"
    }
  },
  "cells": [
    {
      "cell_type": "markdown",
      "metadata": {
        "id": "view-in-github",
        "colab_type": "text"
      },
      "source": [
        "<a href=\"https://colab.research.google.com/github/AnIsAsPe/Regresion-Robusta-para-estimar-tiempo-de-respuesta-de-un-servicio-de-emergencia/blob/main/Comparaci%C3%B3n_regresiones_lineal%2C_polinomial_y_robusta_response_time_Paris_Fire_Brigade.ipynb\" target=\"_parent\"><img src=\"https://colab.research.google.com/assets/colab-badge.svg\" alt=\"Open In Colab\"/></a>"
      ]
    },
    {
      "cell_type": "markdown",
      "metadata": {
        "id": "YNtv9ELoExhs"
      },
      "source": [
        "Ejercicio que compara la regresión lineal, polinomial y robusta (Hubber) utilizando solamente las variables propuestas en el [starting script ](https://paris-fire-brigade.github.io/data-challenge/challenge.html) del Challenge"
      ]
    },
    {
      "cell_type": "markdown",
      "metadata": {
        "id": "MOfWHxj0IdEz"
      },
      "source": [
        "## Cargar bibiliotecas"
      ]
    },
    {
      "cell_type": "code",
      "metadata": {
        "id": "Wkte1t1UpdqM"
      },
      "source": [
        "import pandas as pd\n",
        "import numpy as np\n",
        "\n",
        "from sklearn.model_selection import train_test_split \n",
        "\n",
        "from sklearn.preprocessing import StandardScaler\n",
        "from sklearn.linear_model import LinearRegression\n",
        "from sklearn.linear_model import HuberRegressor\n",
        "from sklearn import metrics\n",
        "\n",
        "import matplotlib.pyplot as plt \n",
        "import seaborn as sns  "
      ],
      "execution_count": 6,
      "outputs": []
    },
    {
      "cell_type": "markdown",
      "metadata": {
        "id": "IUh34hn1djfG"
      },
      "source": [
        "# Cargar datos"
      ]
    },
    {
      "cell_type": "code",
      "metadata": {
        "id": "G1ktHn7nET0L",
        "colab": {
          "base_uri": "https://localhost:8080/",
          "height": 383
        },
        "outputId": "ab8d9950-0c1e-45fc-d986-c366827ff3dd"
      },
      "source": [
        "# Conjunto de caracteristicas (X)\n",
        "input = pd.read_csv('drive/My Drive/Datos/ParisFireBrigade/x_train.csv', \n",
        "                sep=',', index_col=[0], parse_dates=['selection time'] )\n",
        "print(input.shape)\n",
        "input.head(2)"
      ],
      "execution_count": 8,
      "outputs": [
        {
          "output_type": "stream",
          "text": [
            "(219337, 25)\n"
          ],
          "name": "stdout"
        },
        {
          "output_type": "execute_result",
          "data": {
            "text/html": [
              "<div>\n",
              "<style scoped>\n",
              "    .dataframe tbody tr th:only-of-type {\n",
              "        vertical-align: middle;\n",
              "    }\n",
              "\n",
              "    .dataframe tbody tr th {\n",
              "        vertical-align: top;\n",
              "    }\n",
              "\n",
              "    .dataframe thead th {\n",
              "        text-align: right;\n",
              "    }\n",
              "</style>\n",
              "<table border=\"1\" class=\"dataframe\">\n",
              "  <thead>\n",
              "    <tr style=\"text-align: right;\">\n",
              "      <th></th>\n",
              "      <th>intervention</th>\n",
              "      <th>alert reason category</th>\n",
              "      <th>alert reason</th>\n",
              "      <th>intervention on public roads</th>\n",
              "      <th>floor</th>\n",
              "      <th>location of the event</th>\n",
              "      <th>longitude intervention</th>\n",
              "      <th>latitude intervention</th>\n",
              "      <th>emergency vehicle</th>\n",
              "      <th>emergency vehicle type</th>\n",
              "      <th>rescue center</th>\n",
              "      <th>selection time</th>\n",
              "      <th>date key sélection</th>\n",
              "      <th>time key sélection</th>\n",
              "      <th>status preceding selection</th>\n",
              "      <th>delta status preceding selection-selection</th>\n",
              "      <th>departed from its rescue center</th>\n",
              "      <th>longitude before departure</th>\n",
              "      <th>latitude before departure</th>\n",
              "      <th>delta position gps previous departure-departure</th>\n",
              "      <th>GPS tracks departure-presentation</th>\n",
              "      <th>GPS tracks datetime departure-presentation</th>\n",
              "      <th>OSRM response</th>\n",
              "      <th>OSRM estimated distance</th>\n",
              "      <th>OSRM estimated duration</th>\n",
              "    </tr>\n",
              "    <tr>\n",
              "      <th>emergency vehicle selection</th>\n",
              "      <th></th>\n",
              "      <th></th>\n",
              "      <th></th>\n",
              "      <th></th>\n",
              "      <th></th>\n",
              "      <th></th>\n",
              "      <th></th>\n",
              "      <th></th>\n",
              "      <th></th>\n",
              "      <th></th>\n",
              "      <th></th>\n",
              "      <th></th>\n",
              "      <th></th>\n",
              "      <th></th>\n",
              "      <th></th>\n",
              "      <th></th>\n",
              "      <th></th>\n",
              "      <th></th>\n",
              "      <th></th>\n",
              "      <th></th>\n",
              "      <th></th>\n",
              "      <th></th>\n",
              "      <th></th>\n",
              "      <th></th>\n",
              "      <th></th>\n",
              "    </tr>\n",
              "  </thead>\n",
              "  <tbody>\n",
              "    <tr>\n",
              "      <th>5105452</th>\n",
              "      <td>13264186</td>\n",
              "      <td>3</td>\n",
              "      <td>2162</td>\n",
              "      <td>0</td>\n",
              "      <td>0</td>\n",
              "      <td>148.0</td>\n",
              "      <td>2.284796</td>\n",
              "      <td>48.879669</td>\n",
              "      <td>4511</td>\n",
              "      <td>VSAV BSPP</td>\n",
              "      <td>2447</td>\n",
              "      <td>2018-07-08 19:02:43.990</td>\n",
              "      <td>20180708</td>\n",
              "      <td>190243</td>\n",
              "      <td>Rentré</td>\n",
              "      <td>2027</td>\n",
              "      <td>1</td>\n",
              "      <td>2.288053</td>\n",
              "      <td>48.884698</td>\n",
              "      <td>NaN</td>\n",
              "      <td>2.289000,48.885113;2.288861,48.884998;2.288000...</td>\n",
              "      <td>2018-07-08 19:04:43;2018-07-08 19:05:55;2018-0...</td>\n",
              "      <td>{\"code\":\"Ok\",\"routes\":[{\"geometry\":\"}yjiH}x}L_...</td>\n",
              "      <td>952.5</td>\n",
              "      <td>105.8</td>\n",
              "    </tr>\n",
              "    <tr>\n",
              "      <th>4720915</th>\n",
              "      <td>12663715</td>\n",
              "      <td>3</td>\n",
              "      <td>2124</td>\n",
              "      <td>0</td>\n",
              "      <td>1</td>\n",
              "      <td>136.0</td>\n",
              "      <td>2.247464</td>\n",
              "      <td>48.818191</td>\n",
              "      <td>4327</td>\n",
              "      <td>PSE</td>\n",
              "      <td>2464</td>\n",
              "      <td>2018-01-04 09:02:59.470</td>\n",
              "      <td>20180104</td>\n",
              "      <td>90259</td>\n",
              "      <td>Rentré</td>\n",
              "      <td>28233</td>\n",
              "      <td>1</td>\n",
              "      <td>2.268519</td>\n",
              "      <td>48.823958</td>\n",
              "      <td>NaN</td>\n",
              "      <td>NaN</td>\n",
              "      <td>NaN</td>\n",
              "      <td>{\"code\":\"Ok\",\"routes\":[{\"geometry\":\"u|~hHy`zL_...</td>\n",
              "      <td>2238.5</td>\n",
              "      <td>243.2</td>\n",
              "    </tr>\n",
              "  </tbody>\n",
              "</table>\n",
              "</div>"
            ],
            "text/plain": [
              "                             intervention  ...  OSRM estimated duration\n",
              "emergency vehicle selection                ...                         \n",
              "5105452                          13264186  ...                    105.8\n",
              "4720915                          12663715  ...                    243.2\n",
              "\n",
              "[2 rows x 25 columns]"
            ]
          },
          "metadata": {
            "tags": []
          },
          "execution_count": 8
        }
      ]
    },
    {
      "cell_type": "code",
      "metadata": {
        "id": "vP_eKMyawPDl",
        "colab": {
          "base_uri": "https://localhost:8080/",
          "height": 159
        },
        "outputId": "8aa010c2-a536-4398-f94b-c312a8674a2c"
      },
      "source": [
        "# Variables respuesta\n",
        "output = pd.read_csv('drive/My Drive/Datos/ParisFireBrigade/y_train.csv', \n",
        "                     index_col=[0], sep=',')\n",
        "print(output.shape)\n",
        "output.head(2)"
      ],
      "execution_count": 9,
      "outputs": [
        {
          "output_type": "stream",
          "text": [
            "(219337, 3)\n"
          ],
          "name": "stdout"
        },
        {
          "output_type": "execute_result",
          "data": {
            "text/html": [
              "<div>\n",
              "<style scoped>\n",
              "    .dataframe tbody tr th:only-of-type {\n",
              "        vertical-align: middle;\n",
              "    }\n",
              "\n",
              "    .dataframe tbody tr th {\n",
              "        vertical-align: top;\n",
              "    }\n",
              "\n",
              "    .dataframe thead th {\n",
              "        text-align: right;\n",
              "    }\n",
              "</style>\n",
              "<table border=\"1\" class=\"dataframe\">\n",
              "  <thead>\n",
              "    <tr style=\"text-align: right;\">\n",
              "      <th></th>\n",
              "      <th>delta selection-departure</th>\n",
              "      <th>delta departure-presentation</th>\n",
              "      <th>delta selection-presentation</th>\n",
              "    </tr>\n",
              "    <tr>\n",
              "      <th>emergency vehicle selection</th>\n",
              "      <th></th>\n",
              "      <th></th>\n",
              "      <th></th>\n",
              "    </tr>\n",
              "  </thead>\n",
              "  <tbody>\n",
              "    <tr>\n",
              "      <th>5105452</th>\n",
              "      <td>86</td>\n",
              "      <td>324</td>\n",
              "      <td>410</td>\n",
              "    </tr>\n",
              "    <tr>\n",
              "      <th>4720915</th>\n",
              "      <td>164</td>\n",
              "      <td>297</td>\n",
              "      <td>461</td>\n",
              "    </tr>\n",
              "  </tbody>\n",
              "</table>\n",
              "</div>"
            ],
            "text/plain": [
              "                             delta selection-departure  ...  delta selection-presentation\n",
              "emergency vehicle selection                             ...                              \n",
              "5105452                                             86  ...                           410\n",
              "4720915                                            164  ...                           461\n",
              "\n",
              "[2 rows x 3 columns]"
            ]
          },
          "metadata": {
            "tags": []
          },
          "execution_count": 9
        }
      ]
    },
    {
      "cell_type": "code",
      "metadata": {
        "id": "5JRaYYI5VWiv"
      },
      "source": [
        "X = input[['OSRM estimated distance','intervention on public roads','floor']]\n",
        "Z = output['delta departure-presentation']"
      ],
      "execution_count": 10,
      "outputs": []
    },
    {
      "cell_type": "markdown",
      "metadata": {
        "id": "LCjTqJpvAvMq"
      },
      "source": [
        "# Unir caracteristicas con étiquetas"
      ]
    },
    {
      "cell_type": "code",
      "metadata": {
        "id": "Ux4dTQm0AvMr",
        "colab": {
          "base_uri": "https://localhost:8080/",
          "height": 159
        },
        "outputId": "a7c1cf40-8b22-48f7-f0a4-e141d16bda7b"
      },
      "source": [
        "df=pd.concat([X,Z], axis=1)\n",
        "print(df.shape)\n",
        "df.head(2)"
      ],
      "execution_count": 11,
      "outputs": [
        {
          "output_type": "stream",
          "text": [
            "(219337, 4)\n"
          ],
          "name": "stdout"
        },
        {
          "output_type": "execute_result",
          "data": {
            "text/html": [
              "<div>\n",
              "<style scoped>\n",
              "    .dataframe tbody tr th:only-of-type {\n",
              "        vertical-align: middle;\n",
              "    }\n",
              "\n",
              "    .dataframe tbody tr th {\n",
              "        vertical-align: top;\n",
              "    }\n",
              "\n",
              "    .dataframe thead th {\n",
              "        text-align: right;\n",
              "    }\n",
              "</style>\n",
              "<table border=\"1\" class=\"dataframe\">\n",
              "  <thead>\n",
              "    <tr style=\"text-align: right;\">\n",
              "      <th></th>\n",
              "      <th>OSRM estimated distance</th>\n",
              "      <th>intervention on public roads</th>\n",
              "      <th>floor</th>\n",
              "      <th>delta departure-presentation</th>\n",
              "    </tr>\n",
              "    <tr>\n",
              "      <th>emergency vehicle selection</th>\n",
              "      <th></th>\n",
              "      <th></th>\n",
              "      <th></th>\n",
              "      <th></th>\n",
              "    </tr>\n",
              "  </thead>\n",
              "  <tbody>\n",
              "    <tr>\n",
              "      <th>5105452</th>\n",
              "      <td>952.5</td>\n",
              "      <td>0</td>\n",
              "      <td>0</td>\n",
              "      <td>324</td>\n",
              "    </tr>\n",
              "    <tr>\n",
              "      <th>4720915</th>\n",
              "      <td>2238.5</td>\n",
              "      <td>0</td>\n",
              "      <td>1</td>\n",
              "      <td>297</td>\n",
              "    </tr>\n",
              "  </tbody>\n",
              "</table>\n",
              "</div>"
            ],
            "text/plain": [
              "                             OSRM estimated distance  ...  delta departure-presentation\n",
              "emergency vehicle selection                           ...                              \n",
              "5105452                                        952.5  ...                           324\n",
              "4720915                                       2238.5  ...                           297\n",
              "\n",
              "[2 rows x 4 columns]"
            ]
          },
          "metadata": {
            "tags": []
          },
          "execution_count": 11
        }
      ]
    },
    {
      "cell_type": "code",
      "metadata": {
        "id": "Z58ZKbpMg0LF",
        "colab": {
          "base_uri": "https://localhost:8080/"
        },
        "outputId": "199f4c5c-2ac7-4fe3-d96c-359e44aadcb1"
      },
      "source": [
        "df.info()"
      ],
      "execution_count": 12,
      "outputs": [
        {
          "output_type": "stream",
          "text": [
            "<class 'pandas.core.frame.DataFrame'>\n",
            "Int64Index: 219337 entries, 5105452 to 4868867\n",
            "Data columns (total 4 columns):\n",
            " #   Column                        Non-Null Count   Dtype  \n",
            "---  ------                        --------------   -----  \n",
            " 0   OSRM estimated distance       219337 non-null  float64\n",
            " 1   intervention on public roads  219337 non-null  int64  \n",
            " 2   floor                         219337 non-null  int64  \n",
            " 3   delta departure-presentation  219337 non-null  int64  \n",
            "dtypes: float64(1), int64(3)\n",
            "memory usage: 8.4 MB\n"
          ],
          "name": "stdout"
        }
      ]
    },
    {
      "cell_type": "code",
      "metadata": {
        "id": "EoFstYbk1xgd",
        "colab": {
          "base_uri": "https://localhost:8080/",
          "height": 586
        },
        "outputId": "9b2865ac-1db5-4718-9f61-7fce55a172a5"
      },
      "source": [
        "corr_matrix = correlacion(df, matrix = True, tamaño=(10,8))"
      ],
      "execution_count": 13,
      "outputs": [
        {
          "output_type": "display_data",
          "data": {
            "image/png": "[encoded data removed]",
            "text/plain": [
              "<Figure size 720x576 with 2 Axes>"
            ]
          },
          "metadata": {
            "tags": [],
            "needs_background": "light"
          }
        }
      ]
    },
    {
      "cell_type": "code",
      "metadata": {
        "id": "7RjXEh4LUBmI",
        "colab": {
          "base_uri": "https://localhost:8080/",
          "height": 743
        },
        "outputId": "abcb2934-773b-441a-fd5d-2c1793cdbbd6"
      },
      "source": [
        "sns.pairplot(df)"
      ],
      "execution_count": 14,
      "outputs": [
        {
          "output_type": "execute_result",
          "data": {
            "text/plain": [
              "<seaborn.axisgrid.PairGrid at 0x7fd1803b9ad0>"
            ]
          },
          "metadata": {
            "tags": []
          },
          "execution_count": 14
        },
        {
          "output_type": "display_data",
          "data": {
            "image/png": "[encoded data removed]",
            "text/plain": [
              "<Figure size 720x720 with 20 Axes>"
            ]
          },
          "metadata": {
            "tags": [],
            "needs_background": "light"
          }
        }
      ]
    },
    {
      "cell_type": "markdown",
      "metadata": {
        "id": "SSttuGc65BvM"
      },
      "source": [
        "# Exploración de Outliers"
      ]
    },
    {
      "cell_type": "code",
      "metadata": {
        "id": "F7ab9Yox4_jL",
        "colab": {
          "base_uri": "https://localhost:8080/",
          "height": 252
        },
        "outputId": "bfa09292-f9fc-4587-81d8-998aa6bcf9aa"
      },
      "source": [
        "fig, ax = plt.subplots(1, 2, figsize=(10, 4))\n",
        "for cond, subplot in zip((True, False), ax.flatten()):\n",
        "  sns.boxplot(y=df['delta departure-presentation'], showfliers=cond, ax= subplot)"
      ],
      "execution_count": 15,
      "outputs": [
        {
          "output_type": "display_data",
          "data": {
            "image/png": "[encoded data removed]",
            "text/plain": [
              "<Figure size 720x288 with 2 Axes>"
            ]
          },
          "metadata": {
            "tags": [],
            "needs_background": "light"
          }
        }
      ]
    },
    {
      "cell_type": "markdown",
      "metadata": {
        "id": "6izuZd_4r5Eg"
      },
      "source": [
        "# Comparación Regresión lineal, Regresión robusta"
      ]
    },
    {
      "cell_type": "code",
      "metadata": {
        "id": "0mqksCKSr5Ei"
      },
      "source": [
        "X_train, X_test, Z_train, Z_test = train_test_split(X, Z, \n",
        "                                                    test_size=0.3, \n",
        "                                                    shuffle=True,\n",
        "                                                    random_state=261)"
      ],
      "execution_count": 16,
      "outputs": []
    },
    {
      "cell_type": "code",
      "metadata": {
        "id": "eRDZh5-R5ET5",
        "colab": {
          "base_uri": "https://localhost:8080/"
        },
        "outputId": "fb5c650a-d781-4ac2-de58-436ec0828a7a"
      },
      "source": [
        "# ¿Cómo son los conjuntos de entrenamiento y prueba?\n",
        "print(\"Conjunto de entrenamiento\")\n",
        "print(\"X: \", X_train.shape)\n",
        "print(\"y: \", Z_train.shape)\n",
        "\n",
        "print(\"Conjunto de prueba\")\n",
        "print(\"X: \", X_test.shape)\n",
        "print(\"y: \", Z_test.shape)"
      ],
      "execution_count": 17,
      "outputs": [
        {
          "output_type": "stream",
          "text": [
            "Conjunto de entrenamiento\n",
            "X:  (153535, 3)\n",
            "y:  (153535,)\n",
            "Conjunto de prueba\n",
            "X:  (65802, 3)\n",
            "y:  (65802,)\n"
          ],
          "name": "stdout"
        }
      ]
    },
    {
      "cell_type": "markdown",
      "metadata": {
        "id": "0UCDSsULUFZ3"
      },
      "source": [
        "## Regresión Lineal"
      ]
    },
    {
      "cell_type": "code",
      "metadata": {
        "id": "KhZWHOuFr5En",
        "colab": {
          "base_uri": "https://localhost:8080/"
        },
        "outputId": "3b48fb74-ed58-4615-8e84-01b2f0bca8f7"
      },
      "source": [
        "lr = LinearRegression().fit(X_train, Z_train)\n",
        "\n",
        "Z_pred = lr.predict(X_test)\n",
        "\n",
        "error_medio_absoluto = np.mean(np.absolute(Z_test - Z_pred ))\n",
        "error_medio_absoluto"
      ],
      "execution_count": 18,
      "outputs": [
        {
          "output_type": "execute_result",
          "data": {
            "text/plain": [
              "108.95440215014592"
            ]
          },
          "metadata": {
            "tags": []
          },
          "execution_count": 18
        }
      ]
    },
    {
      "cell_type": "code",
      "metadata": {
        "id": "qBWhR4-CVHed",
        "colab": {
          "base_uri": "https://localhost:8080/"
        },
        "outputId": "9b6a552b-42f9-44ed-97c0-74598a486fb8"
      },
      "source": [
        "metrics.mean_absolute_error(Z_test, Z_pred)"
      ],
      "execution_count": 19,
      "outputs": [
        {
          "output_type": "execute_result",
          "data": {
            "text/plain": [
              "108.95440215014527"
            ]
          },
          "metadata": {
            "tags": []
          },
          "execution_count": 19
        }
      ]
    },
    {
      "cell_type": "code",
      "metadata": {
        "id": "bW04WKoccBBf",
        "colab": {
          "base_uri": "https://localhost:8080/"
        },
        "outputId": "365623d8-74c6-4044-ae4f-c68a9918c79b"
      },
      "source": [
        "#calculamos los errores\n",
        "errores = (np.array(Z_test) - Z_pred)\n",
        "len(errores)"
      ],
      "execution_count": 20,
      "outputs": [
        {
          "output_type": "execute_result",
          "data": {
            "text/plain": [
              "65802"
            ]
          },
          "metadata": {
            "tags": []
          },
          "execution_count": 20
        }
      ]
    },
    {
      "cell_type": "code",
      "metadata": {
        "colab": {
          "base_uri": "https://localhost:8080/"
        },
        "id": "M3rf0xkMbsVm",
        "outputId": "765e5896-128a-446e-9215-1fc76d5d0a3d"
      },
      "source": [
        "#una de las hipotesis de la regresión es que los errores son\n",
        "#independientes  entre sí, teniendo una distribución normal\n",
        "\n",
        "media = np.mean(Z_test - Z_pred)           \n",
        "des_est = np.sqrt(np.var(Z_test - Z_pred))\n",
        "\n",
        "media,des_est"
      ],
      "execution_count": 21,
      "outputs": [
        {
          "output_type": "execute_result",
          "data": {
            "text/plain": [
              "(1.5636611530992213, 204.28732738705733)"
            ]
          },
          "metadata": {
            "tags": []
          },
          "execution_count": 21
        }
      ]
    },
    {
      "cell_type": "markdown",
      "metadata": {
        "id": "3LQFPOd3ebwY"
      },
      "source": [
        "### Comparación de los errores empirícos con una la distribución normal"
      ]
    },
    {
      "cell_type": "code",
      "metadata": {
        "id": "E7tCLD8gdqA2",
        "colab": {
          "base_uri": "https://localhost:8080/",
          "height": 265
        },
        "outputId": "156498dd-d3b4-49c7-bf80-771b058c0d54"
      },
      "source": [
        "# Comparación de la distribución teórica(normal) y empirica de los errores\n",
        "\n",
        "# Se elige una submuestra (%0.5) con el propósito de obtener una mejor visualización\n",
        "errores_empiricos = np.random.choice(errores, 329)\n",
        "\n",
        "# Se obtienen 329 valores a partir de la distribución normal (teorica) usando la media\n",
        "# y la desviación de los errores\n",
        "errores_teoricos = np.random.normal(media, des_est, 329)\n",
        "\n",
        "# Comparamos las gráficas de ambas distribuciones\n",
        "\n",
        "fig, ax = plt.subplots(1, 2, figsize=(8, 4), sharey='all')\n",
        "for dat, subplot in zip((errores_teoricos, errores_empiricos), ax.flatten()):\n",
        "  sns.histplot(x=dat, ax=subplot, kde=True, )\n",
        "  \n",
        "plt.show()"
      ],
      "execution_count": 22,
      "outputs": [
        {
          "output_type": "display_data",
          "data": {
            "image/png": "[encoded data removed]",
            "text/plain": [
              "<Figure size 576x288 with 2 Axes>"
            ]
          },
          "metadata": {
            "tags": [],
            "needs_background": "light"
          }
        }
      ]
    },
    {
      "cell_type": "markdown",
      "metadata": {
        "id": "rBg1H4OEUXV7"
      },
      "source": [
        "## Regresión Robusta"
      ]
    },
    {
      "cell_type": "code",
      "metadata": {
        "id": "Fw-RzJdaDquX",
        "colab": {
          "base_uri": "https://localhost:8080/"
        },
        "outputId": "e96cb12b-0078-4f52-e68e-bbed6e2552cc"
      },
      "source": [
        "hr = HuberRegressor( epsilon=1.35,   max_iter=1000,  alpha=0,  warm_start=False, \n",
        "                    fit_intercept=True, tol=1e-05)\n",
        "hr = hr.fit(X_train, Z_train)\n",
        "Z_pred = hr.predict(X_test)\n",
        "\n",
        "print(metrics.mean_absolute_error(Z_test, Z_pred))\n",
        "print('MAE:', metrics.mean_absolute_error(Z_test, Z_pred))"
      ],
      "execution_count": 23,
      "outputs": [
        {
          "output_type": "stream",
          "text": [
            "105.59182049604047\n",
            "MAE: 105.59182049604047\n"
          ],
          "name": "stdout"
        }
      ]
    },
    {
      "cell_type": "code",
      "metadata": {
        "id": "OvnUVBW9TWzj",
        "colab": {
          "base_uri": "https://localhost:8080/"
        },
        "outputId": "9cc213b3-d97e-448d-a236-4720f07afed2"
      },
      "source": [
        "hr.coef_"
      ],
      "execution_count": 24,
      "outputs": [
        {
          "output_type": "execute_result",
          "data": {
            "text/plain": [
              "array([  0.07000484, -13.14099164,   2.59506495])"
            ]
          },
          "metadata": {
            "tags": []
          },
          "execution_count": 24
        }
      ]
    },
    {
      "cell_type": "code",
      "metadata": {
        "id": "_ox61AcR41BW",
        "colab": {
          "base_uri": "https://localhost:8080/",
          "height": 142
        },
        "outputId": "5b57bf4d-f2e1-45ce-e1ee-8648f701fc4a"
      },
      "source": [
        "coeficientes_hr = pd.DataFrame({'coef':hr.coef_, 'variable':list(X.columns)})\n",
        "coeficientes_hr.sort_values('coef').reset_index(drop=True)"
      ],
      "execution_count": 25,
      "outputs": [
        {
          "output_type": "execute_result",
          "data": {
            "text/html": [
              "<div>\n",
              "<style scoped>\n",
              "    .dataframe tbody tr th:only-of-type {\n",
              "        vertical-align: middle;\n",
              "    }\n",
              "\n",
              "    .dataframe tbody tr th {\n",
              "        vertical-align: top;\n",
              "    }\n",
              "\n",
              "    .dataframe thead th {\n",
              "        text-align: right;\n",
              "    }\n",
              "</style>\n",
              "<table border=\"1\" class=\"dataframe\">\n",
              "  <thead>\n",
              "    <tr style=\"text-align: right;\">\n",
              "      <th></th>\n",
              "      <th>coef</th>\n",
              "      <th>variable</th>\n",
              "    </tr>\n",
              "  </thead>\n",
              "  <tbody>\n",
              "    <tr>\n",
              "      <th>0</th>\n",
              "      <td>-13.140992</td>\n",
              "      <td>intervention on public roads</td>\n",
              "    </tr>\n",
              "    <tr>\n",
              "      <th>1</th>\n",
              "      <td>0.070005</td>\n",
              "      <td>OSRM estimated distance</td>\n",
              "    </tr>\n",
              "    <tr>\n",
              "      <th>2</th>\n",
              "      <td>2.595065</td>\n",
              "      <td>floor</td>\n",
              "    </tr>\n",
              "  </tbody>\n",
              "</table>\n",
              "</div>"
            ],
            "text/plain": [
              "        coef                      variable\n",
              "0 -13.140992  intervention on public roads\n",
              "1   0.070005       OSRM estimated distance\n",
              "2   2.595065                         floor"
            ]
          },
          "metadata": {
            "tags": []
          },
          "execution_count": 25
        }
      ]
    },
    {
      "cell_type": "markdown",
      "metadata": {
        "id": "DkjIWWSzTxkZ"
      },
      "source": [
        "# Regresiones polinomial"
      ]
    },
    {
      "cell_type": "code",
      "metadata": {
        "id": "UMABxiteYQaR"
      },
      "source": [
        "from sklearn.preprocessing import PolynomialFeatures\n",
        "from sklearn.linear_model import LinearRegression"
      ],
      "execution_count": 26,
      "outputs": []
    },
    {
      "cell_type": "code",
      "metadata": {
        "colab": {
          "base_uri": "https://localhost:8080/"
        },
        "id": "z3tsuxqfYYEM",
        "outputId": "c7cfd06c-9937-485c-c45d-713b178e9326"
      },
      "source": [
        "polynomial_features = PolynomialFeatures(degree=3)\n",
        "X_train_poly = polynomial_features.fit_transform(X_train)\n",
        "X_test_poly = polynomial_features.fit_transform(X_test)\n",
        "\n",
        "\n",
        "reg_poly = LinearRegression().fit(X_train_poly, Z_train)\n",
        "\n",
        "Z_pred = reg_poly.predict(X_test_poly)\n",
        "                  \n",
        "error_medio_absoluto = np.mean(np.absolute(Z_test - Z_pred ))\n",
        "error_medio_absoluto"
      ],
      "execution_count": 27,
      "outputs": [
        {
          "output_type": "execute_result",
          "data": {
            "text/plain": [
              "107.62779786852137"
            ]
          },
          "metadata": {
            "tags": []
          },
          "execution_count": 27
        }
      ]
    },
    {
      "cell_type": "code",
      "metadata": {
        "colab": {
          "base_uri": "https://localhost:8080/"
        },
        "id": "N6g9hRaOEm2H",
        "outputId": "ae9b730e-7da9-424b-aa05-70e4efb92f37"
      },
      "source": [
        "polynomial_features = PolynomialFeatures(degree=2)\n",
        "X_train_poly = polynomial_features.fit_transform(X_train)\n",
        "X_test_poly = polynomial_features.fit_transform(X_test)\n",
        "\n",
        "\n",
        "reg_poly = LinearRegression().fit(X_train_poly, Z_train)\n",
        "\n",
        "Z_pred = reg_poly.predict(X_test_poly)\n",
        "                  \n",
        "error_medio_absoluto = np.mean(np.absolute(Z_test - Z_pred ))\n",
        "error_medio_absoluto"
      ],
      "execution_count": 28,
      "outputs": [
        {
          "output_type": "execute_result",
          "data": {
            "text/plain": [
              "107.97981717963303"
            ]
          },
          "metadata": {
            "tags": []
          },
          "execution_count": 28
        }
      ]
    }
  ]
}
